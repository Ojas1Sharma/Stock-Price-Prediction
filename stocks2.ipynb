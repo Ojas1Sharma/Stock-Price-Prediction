{
 "cells": [
  {
   "cell_type": "code",
   "execution_count": 1,
   "metadata": {
    "colab": {
     "base_uri": "https://localhost:8080/"
    },
    "id": "qVBULu_AEaKa",
    "outputId": "fafef89f-b1a4-4273-9276-e48d1920bb4e"
   },
   "outputs": [
    {
     "name": "stdout",
     "output_type": "stream",
     "text": [
      "Requirement already satisfied: pyreadr in c:\\users\\chait\\appdata\\local\\programs\\python\\python39\\lib\\site-packages (0.4.2)"
     ]
    },
    {
     "name": "stderr",
     "output_type": "stream",
     "text": [
      "WARNING: You are using pip version 21.2.4; however, version 21.3.1 is available.\n",
      "You should consider upgrading via the 'c:\\users\\chait\\appdata\\local\\programs\\python\\python39\\python.exe -m pip install --upgrade pip' command.\n"
     ]
    },
    {
     "name": "stdout",
     "output_type": "stream",
     "text": [
      "\n",
      "Requirement already satisfied: pandas>0.24.0 in c:\\users\\chait\\appdata\\local\\programs\\python\\python39\\lib\\site-packages (from pyreadr) (1.2.3)\n",
      "Requirement already satisfied: numpy>=1.16.5 in c:\\users\\chait\\appdata\\local\\programs\\python\\python39\\lib\\site-packages (from pandas>0.24.0->pyreadr) (1.19.5)\n",
      "Requirement already satisfied: pytz>=2017.3 in c:\\users\\chait\\appdata\\local\\programs\\python\\python39\\lib\\site-packages (from pandas>0.24.0->pyreadr) (2021.1)\n",
      "Requirement already satisfied: python-dateutil>=2.7.3 in c:\\users\\chait\\appdata\\local\\programs\\python\\python39\\lib\\site-packages (from pandas>0.24.0->pyreadr) (2.8.1)\n",
      "Requirement already satisfied: six>=1.5 in c:\\users\\chait\\appdata\\local\\programs\\python\\python39\\lib\\site-packages (from python-dateutil>=2.7.3->pandas>0.24.0->pyreadr) (1.15.0)\n",
      "Requirement already satisfied: cufflinks in c:\\users\\chait\\appdata\\local\\programs\\python\\python39\\lib\\site-packages (0.17.3)\n",
      "Requirement already satisfied: six>=1.9.0 in c:\\users\\chait\\appdata\\local\\programs\\python\\python39\\lib\\site-packages (from cufflinks) (1.15.0)\n",
      "Requirement already satisfied: colorlover>=0.2.1 in c:\\users\\chait\\appdata\\local\\programs\\python\\python39\\lib\\site-packages (from cufflinks) (0.3.0)\n",
      "Requirement already satisfied: ipython>=5.3.0 in c:\\users\\chait\\appdata\\local\\programs\\python\\python39\\lib\\site-packages (from cufflinks) (7.21.0)\n",
      "Requirement already satisfied: plotly>=4.1.1 in c:\\users\\chait\\appdata\\local\\programs\\python\\python39\\lib\\site-packages (from cufflinks) (5.4.0)\n",
      "Requirement already satisfied: setuptools>=34.4.1 in c:\\users\\chait\\appdata\\local\\programs\\python\\python39\\lib\\site-packages (from cufflinks) (49.2.1)\n",
      "Requirement already satisfied: pandas>=0.19.2 in c:\\users\\chait\\appdata\\local\\programs\\python\\python39\\lib\\site-packages (from cufflinks) (1.2.3)\n",
      "Requirement already satisfied: ipywidgets>=7.0.0 in c:\\users\\chait\\appdata\\local\\programs\\python\\python39\\lib\\site-packages (from cufflinks) (7.6.5)\n",
      "Requirement already satisfied: numpy>=1.9.2 in c:\\users\\chait\\appdata\\local\\programs\\python\\python39\\lib\\site-packages (from cufflinks) (1.19.5)\n",
      "Requirement already satisfied: prompt-toolkit!=3.0.0,!=3.0.1,<3.1.0,>=2.0.0 in c:\\users\\chait\\appdata\\local\\programs\\python\\python39\\lib\\site-packages (from ipython>=5.3.0->cufflinks) (3.0.17)\n",
      "Requirement already satisfied: jedi>=0.16 in c:\\users\\chait\\appdata\\local\\programs\\python\\python39\\lib\\site-packages (from ipython>=5.3.0->cufflinks) (0.18.0)\n",
      "Requirement already satisfied: pygments in c:\\users\\chait\\appdata\\local\\programs\\python\\python39\\lib\\site-packages (from ipython>=5.3.0->cufflinks) (2.8.1)\n",
      "Requirement already satisfied: pickleshare in c:\\users\\chait\\appdata\\local\\programs\\python\\python39\\lib\\site-packages (from ipython>=5.3.0->cufflinks) (0.7.5)\n",
      "Requirement already satisfied: decorator in c:\\users\\chait\\appdata\\local\\programs\\python\\python39\\lib\\site-packages (from ipython>=5.3.0->cufflinks) (4.4.2)\n",
      "Requirement already satisfied: traitlets>=4.2 in c:\\users\\chait\\appdata\\local\\programs\\python\\python39\\lib\\site-packages (from ipython>=5.3.0->cufflinks) (5.0.5)\n",
      "Requirement already satisfied: backcall in c:\\users\\chait\\appdata\\local\\programs\\python\\python39\\lib\\site-packages (from ipython>=5.3.0->cufflinks) (0.2.0)\n",
      "Requirement already satisfied: colorama in c:\\users\\chait\\appdata\\local\\programs\\python\\python39\\lib\\site-packages (from ipython>=5.3.0->cufflinks) (0.4.4)\n",
      "Requirement already satisfied: ipython-genutils~=0.2.0 in c:\\users\\chait\\appdata\\local\\programs\\python\\python39\\lib\\site-packages (from ipywidgets>=7.0.0->cufflinks) (0.2.0)\n",
      "Requirement already satisfied: nbformat>=4.2.0 in c:\\users\\chait\\appdata\\local\\programs\\python\\python39\\lib\\site-packages (from ipywidgets>=7.0.0->cufflinks) (5.1.2)\n",
      "Requirement already satisfied: jupyterlab-widgets>=1.0.0 in c:\\users\\chait\\appdata\\local\\programs\\python\\python39\\lib\\site-packages (from ipywidgets>=7.0.0->cufflinks) (1.0.2)\n",
      "Requirement already satisfied: ipykernel>=4.5.1 in c:\\users\\chait\\appdata\\local\\programs\\python\\python39\\lib\\site-packages (from ipywidgets>=7.0.0->cufflinks) (5.5.0)\n",
      "Requirement already satisfied: widgetsnbextension~=3.5.0 in c:\\users\\chait\\appdata\\local\\programs\\python\\python39\\lib\\site-packages (from ipywidgets>=7.0.0->cufflinks) (3.5.2)\n",
      "Requirement already satisfied: jupyter-client in c:\\users\\chait\\appdata\\local\\programs\\python\\python39\\lib\\site-packages (from ipykernel>=4.5.1->ipywidgets>=7.0.0->cufflinks) (6.1.12)\n",
      "Requirement already satisfied: tornado>=4.2 in c:\\users\\chait\\appdata\\local\\programs\\python\\python39\\lib\\site-packages (from ipykernel>=4.5.1->ipywidgets>=7.0.0->cufflinks) (6.1)\n",
      "Requirement already satisfied: parso<0.9.0,>=0.8.0 in c:\\users\\chait\\appdata\\local\\programs\\python\\python39\\lib\\site-packages (from jedi>=0.16->ipython>=5.3.0->cufflinks) (0.8.1)\n",
      "Requirement already satisfied: jsonschema!=2.5.0,>=2.4 in c:\\users\\chait\\appdata\\local\\programs\\python\\python39\\lib\\site-packages (from nbformat>=4.2.0->ipywidgets>=7.0.0->cufflinks) (3.2.0)\n",
      "Requirement already satisfied: jupyter-core in c:\\users\\chait\\appdata\\local\\programs\\python\\python39\\lib\\site-packages (from nbformat>=4.2.0->ipywidgets>=7.0.0->cufflinks) (4.7.1)\n",
      "Requirement already satisfied: pyrsistent>=0.14.0 in c:\\users\\chait\\appdata\\local\\programs\\python\\python39\\lib\\site-packages (from jsonschema!=2.5.0,>=2.4->nbformat>=4.2.0->ipywidgets>=7.0.0->cufflinks) (0.17.3)\n",
      "Requirement already satisfied: attrs>=17.4.0 in c:\\users\\chait\\appdata\\local\\programs\\python\\python39\\lib\\site-packages (from jsonschema!=2.5.0,>=2.4->nbformat>=4.2.0->ipywidgets>=7.0.0->cufflinks) (20.3.0)\n",
      "Requirement already satisfied: python-dateutil>=2.7.3 in c:\\users\\chait\\appdata\\local\\programs\\python\\python39\\lib\\site-packages (from pandas>=0.19.2->cufflinks) (2.8.1)\n",
      "Requirement already satisfied: pytz>=2017.3 in c:\\users\\chait\\appdata\\local\\programs\\python\\python39\\lib\\site-packages (from pandas>=0.19.2->cufflinks) (2021.1)\n",
      "Requirement already satisfied: tenacity>=6.2.0 in c:\\users\\chait\\appdata\\local\\programs\\python\\python39\\lib\\site-packages (from plotly>=4.1.1->cufflinks) (8.0.1)\n",
      "Requirement already satisfied: wcwidth in c:\\users\\chait\\appdata\\local\\programs\\python\\python39\\lib\\site-packages (from prompt-toolkit!=3.0.0,!=3.0.1,<3.1.0,>=2.0.0->ipython>=5.3.0->cufflinks) (0.2.5)\n",
      "Requirement already satisfied: notebook>=4.4.1 in c:\\users\\chait\\appdata\\local\\programs\\python\\python39\\lib\\site-packages (from widgetsnbextension~=3.5.0->ipywidgets>=7.0.0->cufflinks) (6.3.0)\n",
      "Requirement already satisfied: Send2Trash>=1.5.0 in c:\\users\\chait\\appdata\\local\\programs\\python\\python39\\lib\\site-packages (from notebook>=4.4.1->widgetsnbextension~=3.5.0->ipywidgets>=7.0.0->cufflinks) (1.5.0)\n",
      "Requirement already satisfied: terminado>=0.8.3 in c:\\users\\chait\\appdata\\local\\programs\\python\\python39\\lib\\site-packages (from notebook>=4.4.1->widgetsnbextension~=3.5.0->ipywidgets>=7.0.0->cufflinks) (0.9.3)\n",
      "Requirement already satisfied: prometheus-client in c:\\users\\chait\\appdata\\local\\programs\\python\\python39\\lib\\site-packages (from notebook>=4.4.1->widgetsnbextension~=3.5.0->ipywidgets>=7.0.0->cufflinks) (0.9.0)\n",
      "Requirement already satisfied: nbconvert in c:\\users\\chait\\appdata\\local\\programs\\python\\python39\\lib\\site-packages (from notebook>=4.4.1->widgetsnbextension~=3.5.0->ipywidgets>=7.0.0->cufflinks) (6.0.7)\n",
      "Requirement already satisfied: pyzmq>=17 in c:\\users\\chait\\appdata\\local\\programs\\python\\python39\\lib\\site-packages (from notebook>=4.4.1->widgetsnbextension~=3.5.0->ipywidgets>=7.0.0->cufflinks) (22.0.3)\n",
      "Requirement already satisfied: jinja2 in c:\\users\\chait\\appdata\\local\\programs\\python\\python39\\lib\\site-packages (from notebook>=4.4.1->widgetsnbextension~=3.5.0->ipywidgets>=7.0.0->cufflinks) (2.11.3)\n",
      "Requirement already satisfied: argon2-cffi in c:\\users\\chait\\appdata\\local\\programs\\python\\python39\\lib\\site-packages (from notebook>=4.4.1->widgetsnbextension~=3.5.0->ipywidgets>=7.0.0->cufflinks) (20.1.0)\n",
      "Requirement already satisfied: pywin32>=1.0 in c:\\users\\chait\\appdata\\local\\programs\\python\\python39\\lib\\site-packages (from jupyter-core->nbformat>=4.2.0->ipywidgets>=7.0.0->cufflinks) (300)\n",
      "Requirement already satisfied: pywinpty>=0.5 in c:\\users\\chait\\appdata\\local\\programs\\python\\python39\\lib\\site-packages (from terminado>=0.8.3->notebook>=4.4.1->widgetsnbextension~=3.5.0->ipywidgets>=7.0.0->cufflinks) (0.5.7)\n",
      "Requirement already satisfied: cffi>=1.0.0 in c:\\users\\chait\\appdata\\local\\programs\\python\\python39\\lib\\site-packages (from argon2-cffi->notebook>=4.4.1->widgetsnbextension~=3.5.0->ipywidgets>=7.0.0->cufflinks) (1.14.5)\n",
      "Requirement already satisfied: pycparser in c:\\users\\chait\\appdata\\local\\programs\\python\\python39\\lib\\site-packages (from cffi>=1.0.0->argon2-cffi->notebook>=4.4.1->widgetsnbextension~=3.5.0->ipywidgets>=7.0.0->cufflinks) (2.20)\n",
      "Requirement already satisfied: MarkupSafe>=0.23 in c:\\users\\chait\\appdata\\local\\programs\\python\\python39\\lib\\site-packages (from jinja2->notebook>=4.4.1->widgetsnbextension~=3.5.0->ipywidgets>=7.0.0->cufflinks) (1.1.1)\n",
      "Requirement already satisfied: mistune<2,>=0.8.1 in c:\\users\\chait\\appdata\\local\\programs\\python\\python39\\lib\\site-packages (from nbconvert->notebook>=4.4.1->widgetsnbextension~=3.5.0->ipywidgets>=7.0.0->cufflinks) (0.8.4)\n",
      "Requirement already satisfied: pandocfilters>=1.4.1 in c:\\users\\chait\\appdata\\local\\programs\\python\\python39\\lib\\site-packages (from nbconvert->notebook>=4.4.1->widgetsnbextension~=3.5.0->ipywidgets>=7.0.0->cufflinks) (1.4.3)\n",
      "Requirement already satisfied: nbclient<0.6.0,>=0.5.0 in c:\\users\\chait\\appdata\\local\\programs\\python\\python39\\lib\\site-packages (from nbconvert->notebook>=4.4.1->widgetsnbextension~=3.5.0->ipywidgets>=7.0.0->cufflinks) (0.5.3)\n",
      "Requirement already satisfied: defusedxml in c:\\users\\chait\\appdata\\local\\programs\\python\\python39\\lib\\site-packages (from nbconvert->notebook>=4.4.1->widgetsnbextension~=3.5.0->ipywidgets>=7.0.0->cufflinks) (0.7.1)\n",
      "Requirement already satisfied: testpath in c:\\users\\chait\\appdata\\local\\programs\\python\\python39\\lib\\site-packages (from nbconvert->notebook>=4.4.1->widgetsnbextension~=3.5.0->ipywidgets>=7.0.0->cufflinks) (0.4.4)\n",
      "Requirement already satisfied: bleach in c:\\users\\chait\\appdata\\local\\programs\\python\\python39\\lib\\site-packages (from nbconvert->notebook>=4.4.1->widgetsnbextension~=3.5.0->ipywidgets>=7.0.0->cufflinks) (3.3.0)\n",
      "Requirement already satisfied: jupyterlab-pygments in c:\\users\\chait\\appdata\\local\\programs\\python\\python39\\lib\\site-packages (from nbconvert->notebook>=4.4.1->widgetsnbextension~=3.5.0->ipywidgets>=7.0.0->cufflinks) (0.1.2)\n",
      "Requirement already satisfied: entrypoints>=0.2.2 in c:\\users\\chait\\appdata\\local\\programs\\python\\python39\\lib\\site-packages (from nbconvert->notebook>=4.4.1->widgetsnbextension~=3.5.0->ipywidgets>=7.0.0->cufflinks) (0.3)\n",
      "Requirement already satisfied: nest-asyncio in c:\\users\\chait\\appdata\\local\\programs\\python\\python39\\lib\\site-packages (from nbclient<0.6.0,>=0.5.0->nbconvert->notebook>=4.4.1->widgetsnbextension~=3.5.0->ipywidgets>=7.0.0->cufflinks) (1.5.1)\n",
      "Requirement already satisfied: async-generator in c:\\users\\chait\\appdata\\local\\programs\\python\\python39\\lib\\site-packages (from nbclient<0.6.0,>=0.5.0->nbconvert->notebook>=4.4.1->widgetsnbextension~=3.5.0->ipywidgets>=7.0.0->cufflinks) (1.10)\n",
      "Requirement already satisfied: webencodings in c:\\users\\chait\\appdata\\local\\programs\\python\\python39\\lib\\site-packages (from bleach->nbconvert->notebook>=4.4.1->widgetsnbextension~=3.5.0->ipywidgets>=7.0.0->cufflinks) (0.5.1)\n",
      "Requirement already satisfied: packaging in c:\\users\\chait\\appdata\\local\\programs\\python\\python39\\lib\\site-packages (from bleach->nbconvert->notebook>=4.4.1->widgetsnbextension~=3.5.0->ipywidgets>=7.0.0->cufflinks) (20.9)\n",
      "Requirement already satisfied: pyparsing>=2.0.2 in c:\\users\\chait\\appdata\\local\\programs\\python\\python39\\lib\\site-packages (from packaging->bleach->nbconvert->notebook>=4.4.1->widgetsnbextension~=3.5.0->ipywidgets>=7.0.0->cufflinks) (2.4.7)\n"
     ]
    },
    {
     "name": "stderr",
     "output_type": "stream",
     "text": [
      "WARNING: You are using pip version 21.2.4; however, version 21.3.1 is available.\n",
      "You should consider upgrading via the 'c:\\users\\chait\\appdata\\local\\programs\\python\\python39\\python.exe -m pip install --upgrade pip' command.\n"
     ]
    }
   ],
   "source": [
    "\n",
    "!pip install pyreadr\n",
    "!pip install cufflinks"
   ]
  },
  {
   "cell_type": "code",
   "execution_count": 2,
   "metadata": {
    "colab": {
     "base_uri": "https://localhost:8080/",
     "height": 17
    },
    "id": "J_1qdpujbRk-",
    "outputId": "d0b542da-7142-423a-9e70-67195f59e0b4"
   },
   "outputs": [
    {
     "data": {
      "text/html": [
       "        <script type=\"text/javascript\">\n",
       "        window.PlotlyConfig = {MathJaxConfig: 'local'};\n",
       "        if (window.MathJax) {MathJax.Hub.Config({SVG: {font: \"STIX-Web\"}});}\n",
       "        if (typeof require !== 'undefined') {\n",
       "        require.undef(\"plotly\");\n",
       "        requirejs.config({\n",
       "            paths: {\n",
       "                'plotly': ['https://cdn.plot.ly/plotly-2.6.3.min']\n",
       "            }\n",
       "        });\n",
       "        require(['plotly'], function(Plotly) {\n",
       "            window._Plotly = Plotly;\n",
       "        });\n",
       "        }\n",
       "        </script>\n",
       "        "
      ]
     },
     "metadata": {},
     "output_type": "display_data"
    }
   ],
   "source": [
    "import cufflinks as cf\n",
    "import plotly.offline as plyo\n",
    "plyo.init_notebook_mode(connected=True)"
   ]
  },
  {
   "cell_type": "code",
   "execution_count": 3,
   "metadata": {
    "id": "GLOCfDSzDWvW"
   },
   "outputs": [],
   "source": [
    "\n",
    "import pyreadr\n",
    "\n",
    "result = pyreadr.read_r('stocks.rds') # also works for RData\n",
    "\n",
    "# done! \n",
    "# result is a dictionary where keys are the name of objects and the values python\n",
    "# objects. In the case of Rds there is only one object with None as key\n",
    "df = result[None] "
   ]
  },
  {
   "cell_type": "code",
   "execution_count": 4,
   "metadata": {
    "id": "pj3wMHYhEp0P"
   },
   "outputs": [],
   "source": [
    "import pandas as pd\n",
    "\n",
    "df=pd.DataFrame(df)"
   ]
  },
  {
   "cell_type": "code",
   "execution_count": 5,
   "metadata": {
    "colab": {
     "base_uri": "https://localhost:8080/",
     "height": 206
    },
    "id": "s9WgXXvOEqkz",
    "outputId": "2fa9ce89-8a50-43e4-e4cf-86276817fa6b"
   },
   "outputs": [
    {
     "data": {
      "text/html": [
       "<div>\n",
       "<style scoped>\n",
       "    .dataframe tbody tr th:only-of-type {\n",
       "        vertical-align: middle;\n",
       "    }\n",
       "\n",
       "    .dataframe tbody tr th {\n",
       "        vertical-align: top;\n",
       "    }\n",
       "\n",
       "    .dataframe thead th {\n",
       "        text-align: right;\n",
       "    }\n",
       "</style>\n",
       "<table border=\"1\" class=\"dataframe\">\n",
       "  <thead>\n",
       "    <tr style=\"text-align: right;\">\n",
       "      <th></th>\n",
       "      <th>ticker</th>\n",
       "      <th>date</th>\n",
       "      <th>open</th>\n",
       "      <th>high</th>\n",
       "      <th>low</th>\n",
       "      <th>close</th>\n",
       "      <th>volume</th>\n",
       "    </tr>\n",
       "  </thead>\n",
       "  <tbody>\n",
       "    <tr>\n",
       "      <th>0</th>\n",
       "      <td>a</td>\n",
       "      <td>2005-01-03</td>\n",
       "      <td>16.268</td>\n",
       "      <td>16.322</td>\n",
       "      <td>15.863</td>\n",
       "      <td>16.119</td>\n",
       "      <td>3580384.0</td>\n",
       "    </tr>\n",
       "    <tr>\n",
       "      <th>1</th>\n",
       "      <td>a</td>\n",
       "      <td>2005-01-04</td>\n",
       "      <td>16.052</td>\n",
       "      <td>16.194</td>\n",
       "      <td>15.560</td>\n",
       "      <td>15.694</td>\n",
       "      <td>3970435.0</td>\n",
       "    </tr>\n",
       "    <tr>\n",
       "      <th>2</th>\n",
       "      <td>a</td>\n",
       "      <td>2005-01-05</td>\n",
       "      <td>15.640</td>\n",
       "      <td>15.964</td>\n",
       "      <td>15.608</td>\n",
       "      <td>15.687</td>\n",
       "      <td>4131760.0</td>\n",
       "    </tr>\n",
       "    <tr>\n",
       "      <th>3</th>\n",
       "      <td>a</td>\n",
       "      <td>2005-01-06</td>\n",
       "      <td>15.797</td>\n",
       "      <td>15.824</td>\n",
       "      <td>15.316</td>\n",
       "      <td>15.344</td>\n",
       "      <td>3347065.0</td>\n",
       "    </tr>\n",
       "    <tr>\n",
       "      <th>4</th>\n",
       "      <td>a</td>\n",
       "      <td>2005-01-07</td>\n",
       "      <td>15.309</td>\n",
       "      <td>15.492</td>\n",
       "      <td>15.275</td>\n",
       "      <td>15.330</td>\n",
       "      <td>2780878.0</td>\n",
       "    </tr>\n",
       "  </tbody>\n",
       "</table>\n",
       "</div>"
      ],
      "text/plain": [
       "  ticker        date    open    high     low   close     volume\n",
       "0      a  2005-01-03  16.268  16.322  15.863  16.119  3580384.0\n",
       "1      a  2005-01-04  16.052  16.194  15.560  15.694  3970435.0\n",
       "2      a  2005-01-05  15.640  15.964  15.608  15.687  4131760.0\n",
       "3      a  2005-01-06  15.797  15.824  15.316  15.344  3347065.0\n",
       "4      a  2005-01-07  15.309  15.492  15.275  15.330  2780878.0"
      ]
     },
     "execution_count": 5,
     "metadata": {},
     "output_type": "execute_result"
    }
   ],
   "source": [
    "df.head()"
   ]
  },
  {
   "cell_type": "code",
   "execution_count": 6,
   "metadata": {
    "colab": {
     "base_uri": "https://localhost:8080/",
     "height": 450
    },
    "id": "P_gXCAKJEuWI",
    "outputId": "29bf0fa8-fcc6-44da-b261-06cc5513b82f"
   },
   "outputs": [
    {
     "data": {
      "text/plain": [
       "<AxesSubplot:>"
      ]
     },
     "execution_count": 6,
     "metadata": {},
     "output_type": "execute_result"
    },
    {
     "data": {
      "image/png": "[encoded data removed]",
      "text/plain": [
       "<Figure size 1800x720 with 2 Axes>"
      ]
     },
     "metadata": {
      "needs_background": "light"
     },
     "output_type": "display_data"
    }
   ],
   "source": [
    "import missingno as msno\n",
    "msno.matrix(df)"
   ]
  },
  {
   "cell_type": "markdown",
   "metadata": {
    "id": "WvH_Z0EfGzQD"
   },
   "source": [
    "no non-numerical value,missing data might be zeroes where they dont make sense, to be handled when encountered."
   ]
  },
  {
   "cell_type": "code",
   "execution_count": 7,
   "metadata": {
    "colab": {
     "base_uri": "https://localhost:8080/",
     "height": 206
    },
    "id": "BwcJL37DGtJc",
    "outputId": "42254052-3fba-44d4-b393-fa64cf732de8"
   },
   "outputs": [
    {
     "data": {
      "text/html": [
       "<div>\n",
       "<style scoped>\n",
       "    .dataframe tbody tr th:only-of-type {\n",
       "        vertical-align: middle;\n",
       "    }\n",
       "\n",
       "    .dataframe tbody tr th {\n",
       "        vertical-align: top;\n",
       "    }\n",
       "\n",
       "    .dataframe thead th {\n",
       "        text-align: right;\n",
       "    }\n",
       "</style>\n",
       "<table border=\"1\" class=\"dataframe\">\n",
       "  <thead>\n",
       "    <tr style=\"text-align: right;\">\n",
       "      <th></th>\n",
       "      <th>open</th>\n",
       "      <th>high</th>\n",
       "      <th>low</th>\n",
       "      <th>close</th>\n",
       "      <th>volume</th>\n",
       "    </tr>\n",
       "  </thead>\n",
       "  <tbody>\n",
       "    <tr>\n",
       "      <th>0</th>\n",
       "      <td>-0.043980</td>\n",
       "      <td>-0.044079</td>\n",
       "      <td>-0.043930</td>\n",
       "      <td>-0.044001</td>\n",
       "      <td>0.145917</td>\n",
       "    </tr>\n",
       "    <tr>\n",
       "      <th>1</th>\n",
       "      <td>-0.044012</td>\n",
       "      <td>-0.044098</td>\n",
       "      <td>-0.043976</td>\n",
       "      <td>-0.044065</td>\n",
       "      <td>0.177474</td>\n",
       "    </tr>\n",
       "    <tr>\n",
       "      <th>2</th>\n",
       "      <td>-0.044074</td>\n",
       "      <td>-0.044133</td>\n",
       "      <td>-0.043968</td>\n",
       "      <td>-0.044066</td>\n",
       "      <td>0.190526</td>\n",
       "    </tr>\n",
       "    <tr>\n",
       "      <th>3</th>\n",
       "      <td>-0.044050</td>\n",
       "      <td>-0.044154</td>\n",
       "      <td>-0.044012</td>\n",
       "      <td>-0.044117</td>\n",
       "      <td>0.127040</td>\n",
       "    </tr>\n",
       "    <tr>\n",
       "      <th>4</th>\n",
       "      <td>-0.044124</td>\n",
       "      <td>-0.044203</td>\n",
       "      <td>-0.044019</td>\n",
       "      <td>-0.044119</td>\n",
       "      <td>0.081232</td>\n",
       "    </tr>\n",
       "  </tbody>\n",
       "</table>\n",
       "</div>"
      ],
      "text/plain": [
       "       open      high       low     close    volume\n",
       "0 -0.043980 -0.044079 -0.043930 -0.044001  0.145917\n",
       "1 -0.044012 -0.044098 -0.043976 -0.044065  0.177474\n",
       "2 -0.044074 -0.044133 -0.043968 -0.044066  0.190526\n",
       "3 -0.044050 -0.044154 -0.044012 -0.044117  0.127040\n",
       "4 -0.044124 -0.044203 -0.044019 -0.044119  0.081232"
      ]
     },
     "execution_count": 7,
     "metadata": {},
     "output_type": "execute_result"
    }
   ],
   "source": [
    "from sklearn.preprocessing import StandardScaler\n",
    "sc = StandardScaler()\n",
    "df_scaling=df.drop(['ticker','date'],axis=1)\n",
    "df_scaled=pd.DataFrame(sc.fit_transform(df_scaling),columns=['open','high','low','close','volume'])\n",
    "df_scaled.head()"
   ]
  },
  {
   "cell_type": "code",
   "execution_count": 8,
   "metadata": {
    "id": "IywO3_QSJxfG"
   },
   "outputs": [],
   "source": [
    "df_scaled['ticker']=df['ticker']\n",
    "df_scaled['date']=df['date']"
   ]
  },
  {
   "cell_type": "code",
   "execution_count": 9,
   "metadata": {
    "colab": {
     "base_uri": "https://localhost:8080/",
     "height": 206
    },
    "id": "Ppt20A07KIQZ",
    "outputId": "94e5bf10-179a-4f12-e9b6-b03fce8cc146"
   },
   "outputs": [
    {
     "data": {
      "text/html": [
       "<div>\n",
       "<style scoped>\n",
       "    .dataframe tbody tr th:only-of-type {\n",
       "        vertical-align: middle;\n",
       "    }\n",
       "\n",
       "    .dataframe tbody tr th {\n",
       "        vertical-align: top;\n",
       "    }\n",
       "\n",
       "    .dataframe thead th {\n",
       "        text-align: right;\n",
       "    }\n",
       "</style>\n",
       "<table border=\"1\" class=\"dataframe\">\n",
       "  <thead>\n",
       "    <tr style=\"text-align: right;\">\n",
       "      <th></th>\n",
       "      <th>open</th>\n",
       "      <th>high</th>\n",
       "      <th>low</th>\n",
       "      <th>close</th>\n",
       "      <th>volume</th>\n",
       "      <th>ticker</th>\n",
       "      <th>date</th>\n",
       "    </tr>\n",
       "  </thead>\n",
       "  <tbody>\n",
       "    <tr>\n",
       "      <th>0</th>\n",
       "      <td>-0.043980</td>\n",
       "      <td>-0.044079</td>\n",
       "      <td>-0.043930</td>\n",
       "      <td>-0.044001</td>\n",
       "      <td>0.145917</td>\n",
       "      <td>a</td>\n",
       "      <td>2005-01-03</td>\n",
       "    </tr>\n",
       "    <tr>\n",
       "      <th>1</th>\n",
       "      <td>-0.044012</td>\n",
       "      <td>-0.044098</td>\n",
       "      <td>-0.043976</td>\n",
       "      <td>-0.044065</td>\n",
       "      <td>0.177474</td>\n",
       "      <td>a</td>\n",
       "      <td>2005-01-04</td>\n",
       "    </tr>\n",
       "    <tr>\n",
       "      <th>2</th>\n",
       "      <td>-0.044074</td>\n",
       "      <td>-0.044133</td>\n",
       "      <td>-0.043968</td>\n",
       "      <td>-0.044066</td>\n",
       "      <td>0.190526</td>\n",
       "      <td>a</td>\n",
       "      <td>2005-01-05</td>\n",
       "    </tr>\n",
       "    <tr>\n",
       "      <th>3</th>\n",
       "      <td>-0.044050</td>\n",
       "      <td>-0.044154</td>\n",
       "      <td>-0.044012</td>\n",
       "      <td>-0.044117</td>\n",
       "      <td>0.127040</td>\n",
       "      <td>a</td>\n",
       "      <td>2005-01-06</td>\n",
       "    </tr>\n",
       "    <tr>\n",
       "      <th>4</th>\n",
       "      <td>-0.044124</td>\n",
       "      <td>-0.044203</td>\n",
       "      <td>-0.044019</td>\n",
       "      <td>-0.044119</td>\n",
       "      <td>0.081232</td>\n",
       "      <td>a</td>\n",
       "      <td>2005-01-07</td>\n",
       "    </tr>\n",
       "  </tbody>\n",
       "</table>\n",
       "</div>"
      ],
      "text/plain": [
       "       open      high       low     close    volume ticker        date\n",
       "0 -0.043980 -0.044079 -0.043930 -0.044001  0.145917      a  2005-01-03\n",
       "1 -0.044012 -0.044098 -0.043976 -0.044065  0.177474      a  2005-01-04\n",
       "2 -0.044074 -0.044133 -0.043968 -0.044066  0.190526      a  2005-01-05\n",
       "3 -0.044050 -0.044154 -0.044012 -0.044117  0.127040      a  2005-01-06\n",
       "4 -0.044124 -0.044203 -0.044019 -0.044119  0.081232      a  2005-01-07"
      ]
     },
     "execution_count": 9,
     "metadata": {},
     "output_type": "execute_result"
    }
   ],
   "source": [
    "df_scaled.head()"
   ]
  },
  {
   "cell_type": "code",
   "execution_count": 10,
   "metadata": {
    "colab": {
     "base_uri": "https://localhost:8080/"
    },
    "id": "xGmXTA8dJzfd",
    "outputId": "5e59079b-e905-495c-ab59-3ef7a671dab1"
   },
   "outputs": [
    {
     "data": {
      "text/plain": [
       "dict_keys(['a', 'aa', 'aal', 'aamc', 'aame', 'aan', 'aaoi', 'aaon', 'aap', 'aapl', 'aat', 'aau', 'aaww', 'aaxn', 'ab', 'abbv', 'abc', 'abcb', 'abeo', 'abev', 'abg', 'abio', 'abm', 'abmd', 'abr', 'abt', 'abtx', 'abus', 'ac', 'acad', 'acbi', 'acc', 'acco', 'acer', 'achc', 'achv', 'acia', 'aciw', 'acls', 'acm', 'acmr', 'acnb', 'acor', 'acre', 'acrs', 'acrx', 'acst', 'actg', 'acu', 'acv', 'acy', 'adbe', 'adc', 'ades', 'adi', 'adm', 'adma', 'admp', 'adms', 'adom', 'adp', 'adro', 'ads', 'adsk', 'adsw', 'adtn', 'adus', 'advm', 'adx', 'adxs', 'ae', 'aee', 'aegn', 'aehr', 'aeis', 'ael', 'aem', 'aemd', 'aeo', 'aep', 'aeri', 'aes', 'aey', 'aezs', 'afb', 'afg', 'afh', 'afhbl', 'afi', 'afl', 'aft', 'ag', 'agco', 'agen', 'agfs', 'agi', 'agio', 'agle', 'agm', 'agm-a', 'agnc', 'agncn', 'agr', 'agro', 'agrx', 'agtc', 'agx', 'agys', 'ahc', 'ahh', 'ahpi', 'aht', 'ai', 'aif', 'aig', 'aimc', 'aimt', 'ain', 'ainc', 'ainv', 'air', 'airg', 'airi', 'airt', 'ait', 'aiv', 'aiw', 'aiz', 'ajg', 'ajrd', 'ajx', 'akam', 'akba', 'akca', 'aker', 'akg', 'akr', 'akrx', 'akts', 'al', 'alb', 'albo', 'alco', 'aldx', 'ale', 'alex', 'alg', 'algn', 'algt', 'alim', 'aljj', 'alk', 'all', 'ally', 'alna', 'alny', 'alo', 'alot', 'alpn', 'alrm', 'alrn', 'alsk', 'alsn', 'alt', 'altr', 'alx', 'alxn', 'am', 'amag', 'amat', 'amba', 'ambc', 'amc', 'amcx', 'amd', 'ame', 'amed', 'amg', 'amgn', 'amh', 'amkr', 'amn', 'amnb', 'amot', 'amov', 'amp', 'ampe', 'amph', 'amrb', 'amrc', 'amrk', 'amrs', 'ams', 'amsc', 'amsf', 'amswa', 'amt', 'amtd', 'amtx', 'amwd', 'amx', 'amzn', 'an', 'anab', 'anat', 'ande', 'anet', 'anf', 'angi', 'ango', 'anh', 'anik', 'anip', 'anss', 'anth', 'antm', 'any', 'aobc', 'aos', 'aosl', 'ap', 'apa', 'apam', 'apd', 'apdn', 'apei', 'apen', 'aph', 'aple', 'apls', 'apo', 'apog', 'appf', 'appn', 'apps', 'aprn', 'apt', 'apto', 'apts', 'apvo', 'aqb', 'aqms', 'aqn', 'aqua', 'ar', 'ara', 'aray', 'arc', 'arcb', 'arcc', 'arch', 'arcw', 'ardc', 'ardx', 'are', 'ares', 'ari', 'arkr', 'arl', 'arlp', 'armk', 'arna', 'arnc', 'aroc', 'arow', 'arql', 'arr', 'artna', 'artw', 'arw', 'arwr', 'asa', 'asb', 'asfi', 'asg', 'asgn', 'ash', 'asix', 'asm', 'asmb', 'asna', 'aspn', 'aspu', 'asr', 'asrv', 'astc', 'aste', 'asur', 'asx', 'asys', 'at', 'atax', 'atec', 'aten', 'atge', 'athx', 'ati', 'atkr', 'atlc', 'atlo', 'atni', 'atnm', 'atnx', 'ato', 'atom', 'atos', 'atr', 'atra', 'atrc', 'atri', 'atro', 'atrs', 'atsg', 'atus', 'atvi', 'atxi', 'aubn', 'aug', 'aumn', 'auph', 'auto', 'auy', 'ava', 'avav', 'avb', 'avd', 'aveo', 'avgo', 'avgr', 'avid', 'avk', 'avnw', 'avt', 'avx', 'avxl', 'avy', 'awf', 'awi', 'awk', 'awr', 'awre', 'awx', 'axas', 'axdx', 'axe', 'axgn', 'axl', 'axp', 'axr', 'axsm', 'axta', 'axti', 'axu', 'ayi', 'ayr', 'aytu', 'ayx', 'azo', 'azpn', 'azrx', 'azul', 'azz', 'b', 'ba', 'bac', 'baf', 'bah', 'bak', 'bam', 'banc', 'band', 'banf', 'banr', 'banx', 'basi', 'batra', 'batrk', 'bax', 'bb', 'bbby', 'bbd', 'bbdo', 'bbf', 'bbgi', 'bbk', 'bbl', 'bbn', 'bbsi', 'bbw', 'bbx', 'bby', 'bc', 'bcbp', 'bcc', 'bce', 'bcei', 'bcli', 'bco', 'bcor', 'bcov', 'bcpc', 'bcrx', 'bctf', 'bcv', 'bcx', 'bdc', 'bdge', 'bdj', 'bdl', 'bdn', 'bdr', 'bdsi', 'bdx', 'beat', 'bebe', 'becn', 'belfa', 'belfb', 'ben', 'bep', 'bery', 'bf-a', 'bf-b', 'bfam', 'bfin', 'bfk', 'bfo', 'bfs', 'bfy', 'bfz', 'bg', 'bgb', 'bgcp', 'bgfv', 'bgg', 'bgh', 'bgi', 'bgio', 'bgr', 'bgs', 'bgsf', 'bgt', 'bgx', 'bgy', 'bh', 'bhb', 'bhe', 'bhf', 'bhk', 'bhlb', 'bhp', 'bhv', 'bhvn', 'bidu', 'bif', 'big', 'biib', 'bio', 'bio-b', 'bioc', 'biol', 'bit', 'bjri', 'bk', 'bkcc', 'bkd', 'bke', 'bkep', 'bkepp', 'bkh', 'bki', 'bkk', 'bkn', 'bksc', 'bkt', 'bku', 'bkyi', 'bl', 'blbd', 'blcm', 'bld', 'bldp', 'bldr', 'ble', 'blfs', 'blin', 'blk', 'blkb', 'bll', 'blmn', 'blph', 'blue', 'blw', 'bmch', 'bme', 'bmi', 'bmo', 'bmra', 'bmrc', 'bmrn', 'bmtc', 'bmy', 'bned', 'bnft', 'bns', 'bntc', 'bny', 'boch', 'boe', 'boh', 'bokf', 'bokfl', 'bold', 'bomn', 'boom', 'boot', 'botj', 'box', 'bpfh', 'bpmc', 'bpmp', 'bpmx', 'bpop', 'bprn', 'bpt', 'bpth', 'bqh', 'br', 'brc', 'brew', 'brfs', 'brg', 'brid', 'brk-a', 'brk-b', 'brkl', 'brkr', 'brks', 'brn', 'bro', 'brt', 'brx', 'bsbr', 'bsd', 'bse', 'bset', 'bsl', 'bsm', 'bsmx', 'bsqr', 'bsrr', 'bst', 'bstc', 'bsx', 'bta', 'bte', 'btg', 'btn', 'bto', 'btt', 'btu', 'btz', 'bui', 'burl', 'buse', 'bv', 'bvsn', 'bw', 'bwa', 'bwen', 'bwfg', 'bwg', 'bwxt', 'bx', 'bxc', 'bxmt', 'bxmx', 'bxp', 'bxs', 'by', 'byd', 'byfc', 'bym', 'bysi', 'bzh', 'bzm', 'c', 'cabo', 'cac', 'cacc', 'caci', 'cade', 'cae', 'caf', 'cag', 'cah', 'cai', 'cake', 'cal', 'cala', 'calm', 'calx', 'camp', 'capl', 'capr', 'car', 'cara', 'carg', 'caro', 'cars', 'carv', 'cash', 'casi', 'cass', 'casy', 'cat', 'catb', 'catc', 'catm', 'cato', 'cats', 'caty', 'cban', 'cbay', 'cbb', 'cbd', 'cbfv', 'cbh', 'cbio', 'cbl', 'cbli', 'cbm', 'cbmg', 'cboe', 'cbrl', 'cbsh', 'cbshp', 'cbt', 'cbtx', 'cbu', 'cbz', 'cc', 'ccbg', 'ccd', 'ccf', 'cci', 'ccj', 'cck', 'ccl', 'cclp', 'ccmp', 'ccne', 'cco', 'ccoi', 'ccrn', 'ccs', 'ccur', 'ccxi', 'cde', 'cdev', 'cdk', 'cdna', 'cdns', 'cdor', 'cdr', 'cdti', 'cdtx', 'cdw', 'cdxc', 'cdxs', 'cdzi', 'ce', 'cece', 'cei', 'celc', 'celg', 'celh', 'celp', 'cem', 'cemi', 'cen', 'cent', 'centa', 'cenx', 'ceqp', 'cerc', 'cern', 'cers', 'cet', 'cetx', 'cetxp', 'cev', 'ceva', 'cf', 'cfbi', 'cfbk', 'cffi', 'cffn', 'cfg', 'cfms', 'cfnb', 'cfr', 'cfrx', 'cfx', 'cg', 'cga', 'cgbd', 'cgix', 'cgnx', 'cgo', 'chci', 'chco', 'chct', 'chd', 'chdn', 'che', 'chef', 'chfs', 'chgg', 'chh', 'chi', 'chkr', 'chma', 'chmg', 'chmi', 'chn', 'chrs', 'chrw', 'chs', 'chscl', 'chscm', 'chscn', 'chsco', 'chscp', 'chtr', 'chuy', 'chw', 'chy', 'ci', 'cia', 'cidm', 'cien', 'cif', 'cig', 'cig-c', 'cigi', 'cii', 'cik', 'cim', 'cinf', 'cinr', 'cio', 'cir', 'cit', 'civb', 'cix', 'cizn', 'ckh', 'ckpt', 'ckx', 'cl', 'clar', 'clbs', 'clct', 'cldr', 'cldt', 'cldx', 'clf', 'clfd', 'clgx', 'clh', 'cli', 'clir', 'clm', 'clmt', 'clne'])"
      ]
     },
     "execution_count": 10,
     "metadata": {},
     "output_type": "execute_result"
    }
   ],
   "source": [
    "tickers=df_scaled.groupby('ticker')\n",
    "tickers.groups.keys()"
   ]
  },
  {
   "cell_type": "code",
   "execution_count": 11,
   "metadata": {
    "id": "gtvd1lD7NFfw"
   },
   "outputs": [],
   "source": [
    "import numpy as np\n",
    "ticker_means=tickers.agg(np.mean)\n",
    "ticker_stds=tickers.agg(np.std)\n",
    "ticker_medians=tickers.agg(np.median)\n"
   ]
  },
  {
   "cell_type": "code",
   "execution_count": 12,
   "metadata": {
    "colab": {
     "base_uri": "https://localhost:8080/",
     "height": 455
    },
    "id": "xLTqQN9LNshq",
    "outputId": "562c9450-a9b7-4aea-d667-e071e9e7dc73"
   },
   "outputs": [
    {
     "data": {
      "text/html": [
       "<div>\n",
       "<style scoped>\n",
       "    .dataframe tbody tr th:only-of-type {\n",
       "        vertical-align: middle;\n",
       "    }\n",
       "\n",
       "    .dataframe tbody tr th {\n",
       "        vertical-align: top;\n",
       "    }\n",
       "\n",
       "    .dataframe thead th {\n",
       "        text-align: right;\n",
       "    }\n",
       "</style>\n",
       "<table border=\"1\" class=\"dataframe\">\n",
       "  <thead>\n",
       "    <tr style=\"text-align: right;\">\n",
       "      <th></th>\n",
       "      <th>open</th>\n",
       "      <th>high</th>\n",
       "      <th>low</th>\n",
       "      <th>close</th>\n",
       "      <th>volume</th>\n",
       "    </tr>\n",
       "    <tr>\n",
       "      <th>ticker</th>\n",
       "      <th></th>\n",
       "      <th></th>\n",
       "      <th></th>\n",
       "      <th></th>\n",
       "      <th></th>\n",
       "    </tr>\n",
       "  </thead>\n",
       "  <tbody>\n",
       "    <tr>\n",
       "      <th>a</th>\n",
       "      <td>-0.041989</td>\n",
       "      <td>-0.042061</td>\n",
       "      <td>-0.041911</td>\n",
       "      <td>-0.041985</td>\n",
       "      <td>0.186915</td>\n",
       "    </tr>\n",
       "    <tr>\n",
       "      <th>aa</th>\n",
       "      <td>-0.040754</td>\n",
       "      <td>-0.040801</td>\n",
       "      <td>-0.040715</td>\n",
       "      <td>-0.040760</td>\n",
       "      <td>0.616740</td>\n",
       "    </tr>\n",
       "    <tr>\n",
       "      <th>aal</th>\n",
       "      <td>-0.040247</td>\n",
       "      <td>-0.040286</td>\n",
       "      <td>-0.040204</td>\n",
       "      <td>-0.040246</td>\n",
       "      <td>0.668974</td>\n",
       "    </tr>\n",
       "    <tr>\n",
       "      <th>aamc</th>\n",
       "      <td>-0.005132</td>\n",
       "      <td>-0.004285</td>\n",
       "      <td>-0.005898</td>\n",
       "      <td>-0.005008</td>\n",
       "      <td>-0.142329</td>\n",
       "    </tr>\n",
       "    <tr>\n",
       "      <th>aame</th>\n",
       "      <td>-0.046000</td>\n",
       "      <td>-0.046089</td>\n",
       "      <td>-0.045911</td>\n",
       "      <td>-0.045998</td>\n",
       "      <td>-0.143213</td>\n",
       "    </tr>\n",
       "    <tr>\n",
       "      <th>...</th>\n",
       "      <td>...</td>\n",
       "      <td>...</td>\n",
       "      <td>...</td>\n",
       "      <td>...</td>\n",
       "      <td>...</td>\n",
       "    </tr>\n",
       "    <tr>\n",
       "      <th>cli</th>\n",
       "      <td>-0.042685</td>\n",
       "      <td>-0.042757</td>\n",
       "      <td>-0.042612</td>\n",
       "      <td>-0.042684</td>\n",
       "      <td>-0.060271</td>\n",
       "    </tr>\n",
       "    <tr>\n",
       "      <th>clir</th>\n",
       "      <td>-0.045523</td>\n",
       "      <td>-0.045595</td>\n",
       "      <td>-0.045454</td>\n",
       "      <td>-0.045524</td>\n",
       "      <td>-0.138675</td>\n",
       "    </tr>\n",
       "    <tr>\n",
       "      <th>clm</th>\n",
       "      <td>-0.043918</td>\n",
       "      <td>-0.044000</td>\n",
       "      <td>-0.043840</td>\n",
       "      <td>-0.043919</td>\n",
       "      <td>-0.133954</td>\n",
       "    </tr>\n",
       "    <tr>\n",
       "      <th>clmt</th>\n",
       "      <td>-0.043942</td>\n",
       "      <td>-0.044011</td>\n",
       "      <td>-0.043875</td>\n",
       "      <td>-0.043943</td>\n",
       "      <td>-0.113604</td>\n",
       "    </tr>\n",
       "    <tr>\n",
       "      <th>clne</th>\n",
       "      <td>-0.044852</td>\n",
       "      <td>-0.044920</td>\n",
       "      <td>-0.044789</td>\n",
       "      <td>-0.044855</td>\n",
       "      <td>-0.038864</td>\n",
       "    </tr>\n",
       "  </tbody>\n",
       "</table>\n",
       "<p>776 rows × 5 columns</p>\n",
       "</div>"
      ],
      "text/plain": [
       "            open      high       low     close    volume\n",
       "ticker                                                  \n",
       "a      -0.041989 -0.042061 -0.041911 -0.041985  0.186915\n",
       "aa     -0.040754 -0.040801 -0.040715 -0.040760  0.616740\n",
       "aal    -0.040247 -0.040286 -0.040204 -0.040246  0.668974\n",
       "aamc   -0.005132 -0.004285 -0.005898 -0.005008 -0.142329\n",
       "aame   -0.046000 -0.046089 -0.045911 -0.045998 -0.143213\n",
       "...          ...       ...       ...       ...       ...\n",
       "cli    -0.042685 -0.042757 -0.042612 -0.042684 -0.060271\n",
       "clir   -0.045523 -0.045595 -0.045454 -0.045524 -0.138675\n",
       "clm    -0.043918 -0.044000 -0.043840 -0.043919 -0.133954\n",
       "clmt   -0.043942 -0.044011 -0.043875 -0.043943 -0.113604\n",
       "clne   -0.044852 -0.044920 -0.044789 -0.044855 -0.038864\n",
       "\n",
       "[776 rows x 5 columns]"
      ]
     },
     "execution_count": 12,
     "metadata": {},
     "output_type": "execute_result"
    }
   ],
   "source": [
    "tickers.agg(np.mean)"
   ]
  },
  {
   "cell_type": "code",
   "execution_count": 13,
   "metadata": {
    "id": "649NcwaTLdrm"
   },
   "outputs": [
    {
     "data": {
      "application/vnd.plotly.v1+json": {
       "config": {
        "linkText": "Export to plot.ly",
        "plotlyServerURL": "https://plot.ly",
        "showLink": false
       },
       "data": [
        {
         "line": {
          "color": "rgba(255, 153, 51, 1.0)",
          "dash": "solid",
          "shape": "linear",
          "width": 1.3
         },
         "mode": "lines",
         "name": "close",
         "text": "",
         "type": "scatter",
         "x": [
          "a",
          "aa",
          "aal",
          "aamc",
          "aame",
          "aan",
          "aaoi",
          "aaon",
          "aap",
          "aapl",
          "aat",
          "aau",
          "aaww",
          "aaxn",
          "ab",
          "abbv",
          "abc",
          "abcb",
          "abeo",
          "abev",
          "abg",
          "abio",
          "abm",
          "abmd",
          "abr",
          "abt",
          "abtx",
          "abus",
          "ac",
          "acad",
          "acbi",
          "acc",
          "acco",
          "acer",
          "achc",
          "achv",
          "acia",
          "aciw",
          "acls",
          "acm",
          "acmr",
          "acnb",
          "acor",
          "acre",
          "acrs",
          "acrx",
          "acst",
          "actg",
          "acu",
          "acv",
          "acy",
          "adbe",
          "adc",
          "ades",
          "adi",
          "adm",
          "adma",
          "admp",
          "adms",
          "adom",
          "adp",
          "adro",
          "ads",
          "adsk",
          "adsw",
          "adtn",
          "adus",
          "advm",
          "adx",
          "adxs",
          "ae",
          "aee",
          "aegn",
          "aehr",
          "aeis",
          "ael",
          "aem",
          "aemd",
          "aeo",
          "aep",
          "aeri",
          "aes",
          "aey",
          "aezs",
          "afb",
          "afg",
          "afh",
          "afhbl",
          "afi",
          "afl",
          "aft",
          "ag",
          "agco",
          "agen",
          "agfs",
          "agi",
          "agio",
          "agle",
          "agm",
          "agm-a",
          "agnc",
          "agncn",
          "agr",
          "agro",
          "agrx",
          "agtc",
          "agx",
          "agys",
          "ahc",
          "ahh",
          "ahpi",
          "aht",
          "ai",
          "aif",
          "aig",
          "aimc",
          "aimt",
          "ain",
          "ainc",
          "ainv",
          "air",
          "airg",
          "airi",
          "airt",
          "ait",
          "aiv",
          "aiw",
          "aiz",
          "ajg",
          "ajrd",
          "ajx",
          "akam",
          "akba",
          "akca",
          "aker",
          "akg",
          "akr",
          "akrx",
          "akts",
          "al",
          "alb",
          "albo",
          "alco",
          "aldx",
          "ale",
          "alex",
          "alg",
          "algn",
          "algt",
          "alim",
          "aljj",
          "alk",
          "all",
          "ally",
          "alna",
          "alny",
          "alo",
          "alot",
          "alpn",
          "alrm",
          "alrn",
          "alsk",
          "alsn",
          "alt",
          "altr",
          "alx",
          "alxn",
          "am",
          "amag",
          "amat",
          "amba",
          "ambc",
          "amc",
          "amcx",
          "amd",
          "ame",
          "amed",
          "amg",
          "amgn",
          "amh",
          "amkr",
          "amn",
          "amnb",
          "amot",
          "amov",
          "amp",
          "ampe",
          "amph",
          "amrb",
          "amrc",
          "amrk",
          "amrs",
          "ams",
          "amsc",
          "amsf",
          "amswa",
          "amt",
          "amtd",
          "amtx",
          "amwd",
          "amx",
          "amzn",
          "an",
          "anab",
          "anat",
          "ande",
          "anet",
          "anf",
          "angi",
          "ango",
          "anh",
          "anik",
          "anip",
          "anss",
          "anth",
          "antm",
          "any",
          "aobc",
          "aos",
          "aosl",
          "ap",
          "apa",
          "apam",
          "apd",
          "apdn",
          "apei",
          "apen",
          "aph",
          "aple",
          "apls",
          "apo",
          "apog",
          "appf",
          "appn",
          "apps",
          "aprn",
          "apt",
          "apto",
          "apts",
          "apvo",
          "aqb",
          "aqms",
          "aqn",
          "aqua",
          "ar",
          "ara",
          "aray",
          "arc",
          "arcb",
          "arcc",
          "arch",
          "arcw",
          "ardc",
          "ardx",
          "are",
          "ares",
          "ari",
          "arkr",
          "arl",
          "arlp",
          "armk",
          "arna",
          "arnc",
          "aroc",
          "arow",
          "arql",
          "arr",
          "artna",
          "artw",
          "arw",
          "arwr",
          "asa",
          "asb",
          "asfi",
          "asg",
          "asgn",
          "ash",
          "asix",
          "asm",
          "asmb",
          "asna",
          "aspn",
          "aspu",
          "asr",
          "asrv",
          "astc",
          "aste",
          "asur",
          "asx",
          "asys",
          "at",
          "atax",
          "atec",
          "aten",
          "atge",
          "athx",
          "ati",
          "atkr",
          "atlc",
          "atlo",
          "atni",
          "atnm",
          "atnx",
          "ato",
          "atom",
          "atos",
          "atr",
          "atra",
          "atrc",
          "atri",
          "atro",
          "atrs",
          "atsg",
          "atus",
          "atvi",
          "atxi",
          "aubn",
          "aug",
          "aumn",
          "auph",
          "auto",
          "auy",
          "ava",
          "avav",
          "avb",
          "avd",
          "aveo",
          "avgo",
          "avgr",
          "avid",
          "avk",
          "avnw",
          "avt",
          "avx",
          "avxl",
          "avy",
          "awf",
          "awi",
          "awk",
          "awr",
          "awre",
          "awx",
          "axas",
          "axdx",
          "axe",
          "axgn",
          "axl",
          "axp",
          "axr",
          "axsm",
          "axta",
          "axti",
          "axu",
          "ayi",
          "ayr",
          "aytu",
          "ayx",
          "azo",
          "azpn",
          "azrx",
          "azul",
          "azz",
          "b",
          "ba",
          "bac",
          "baf",
          "bah",
          "bak",
          "bam",
          "banc",
          "band",
          "banf",
          "banr",
          "banx",
          "basi",
          "batra",
          "batrk",
          "bax",
          "bb",
          "bbby",
          "bbd",
          "bbdo",
          "bbf",
          "bbgi",
          "bbk",
          "bbl",
          "bbn",
          "bbsi",
          "bbw",
          "bbx",
          "bby",
          "bc",
          "bcbp",
          "bcc",
          "bce",
          "bcei",
          "bcli",
          "bco",
          "bcor",
          "bcov",
          "bcpc",
          "bcrx",
          "bctf",
          "bcv",
          "bcx",
          "bdc",
          "bdge",
          "bdj",
          "bdl",
          "bdn",
          "bdr",
          "bdsi",
          "bdx",
          "beat",
          "bebe",
          "becn",
          "belfa",
          "belfb",
          "ben",
          "bep",
          "bery",
          "bf-a",
          "bf-b",
          "bfam",
          "bfin",
          "bfk",
          "bfo",
          "bfs",
          "bfy",
          "bfz",
          "bg",
          "bgb",
          "bgcp",
          "bgfv",
          "bgg",
          "bgh",
          "bgi",
          "bgio",
          "bgr",
          "bgs",
          "bgsf",
          "bgt",
          "bgx",
          "bgy",
          "bh",
          "bhb",
          "bhe",
          "bhf",
          "bhk",
          "bhlb",
          "bhp",
          "bhv",
          "bhvn",
          "bidu",
          "bif",
          "big",
          "biib",
          "bio",
          "bio-b",
          "bioc",
          "biol",
          "bit",
          "bjri",
          "bk",
          "bkcc",
          "bkd",
          "bke",
          "bkep",
          "bkepp",
          "bkh",
          "bki",
          "bkk",
          "bkn",
          "bksc",
          "bkt",
          "bku",
          "bkyi",
          "bl",
          "blbd",
          "blcm",
          "bld",
          "bldp",
          "bldr",
          "ble",
          "blfs",
          "blin",
          "blk",
          "blkb",
          "bll",
          "blmn",
          "blph",
          "blue",
          "blw",
          "bmch",
          "bme",
          "bmi",
          "bmo",
          "bmra",
          "bmrc",
          "bmrn",
          "bmtc",
          "bmy",
          "bned",
          "bnft",
          "bns",
          "bntc",
          "bny",
          "boch",
          "boe",
          "boh",
          "bokf",
          "bokfl",
          "bold",
          "bomn",
          "boom",
          "boot",
          "botj",
          "box",
          "bpfh",
          "bpmc",
          "bpmp",
          "bpmx",
          "bpop",
          "bprn",
          "bpt",
          "bpth",
          "bqh",
          "br",
          "brc",
          "brew",
          "brfs",
          "brg",
          "brid",
          "brk-a",
          "brk-b",
          "brkl",
          "brkr",
          "brks",
          "brn",
          "bro",
          "brt",
          "brx",
          "bsbr",
          "bsd",
          "bse",
          "bset",
          "bsl",
          "bsm",
          "bsmx",
          "bsqr",
          "bsrr",
          "bst",
          "bstc",
          "bsx",
          "bta",
          "bte",
          "btg",
          "btn",
          "bto",
          "btt",
          "btu",
          "btz",
          "bui",
          "burl",
          "buse",
          "bv",
          "bvsn",
          "bw",
          "bwa",
          "bwen",
          "bwfg",
          "bwg",
          "bwxt",
          "bx",
          "bxc",
          "bxmt",
          "bxmx",
          "bxp",
          "bxs",
          "by",
          "byd",
          "byfc",
          "bym",
          "bysi",
          "bzh",
          "bzm",
          "c",
          "cabo",
          "cac",
          "cacc",
          "caci",
          "cade",
          "cae",
          "caf",
          "cag",
          "cah",
          "cai",
          "cake",
          "cal",
          "cala",
          "calm",
          "calx",
          "camp",
          "capl",
          "capr",
          "car",
          "cara",
          "carg",
          "caro",
          "cars",
          "carv",
          "cash",
          "casi",
          "cass",
          "casy",
          "cat",
          "catb",
          "catc",
          "catm",
          "cato",
          "cats",
          "caty",
          "cban",
          "cbay",
          "cbb",
          "cbd",
          "cbfv",
          "cbh",
          "cbio",
          "cbl",
          "cbli",
          "cbm",
          "cbmg",
          "cboe",
          "cbrl",
          "cbsh",
          "cbshp",
          "cbt",
          "cbtx",
          "cbu",
          "cbz",
          "cc",
          "ccbg",
          "ccd",
          "ccf",
          "cci",
          "ccj",
          "cck",
          "ccl",
          "cclp",
          "ccmp",
          "ccne",
          "cco",
          "ccoi",
          "ccrn",
          "ccs",
          "ccur",
          "ccxi",
          "cde",
          "cdev",
          "cdk",
          "cdna",
          "cdns",
          "cdor",
          "cdr",
          "cdti",
          "cdtx",
          "cdw",
          "cdxc",
          "cdxs",
          "cdzi",
          "ce",
          "cece",
          "cei",
          "celc",
          "celg",
          "celh",
          "celp",
          "cem",
          "cemi",
          "cen",
          "cent",
          "centa",
          "cenx",
          "ceqp",
          "cerc",
          "cern",
          "cers",
          "cet",
          "cetx",
          "cetxp",
          "cev",
          "ceva",
          "cf",
          "cfbi",
          "cfbk",
          "cffi",
          "cffn",
          "cfg",
          "cfms",
          "cfnb",
          "cfr",
          "cfrx",
          "cfx",
          "cg",
          "cga",
          "cgbd",
          "cgix",
          "cgnx",
          "cgo",
          "chci",
          "chco",
          "chct",
          "chd",
          "chdn",
          "che",
          "chef",
          "chfs",
          "chgg",
          "chh",
          "chi",
          "chkr",
          "chma",
          "chmg",
          "chmi",
          "chn",
          "chrs",
          "chrw",
          "chs",
          "chscl",
          "chscm",
          "chscn",
          "chsco",
          "chscp",
          "chtr",
          "chuy",
          "chw",
          "chy",
          "ci",
          "cia",
          "cidm",
          "cien",
          "cif",
          "cig",
          "cig-c",
          "cigi",
          "cii",
          "cik",
          "cim",
          "cinf",
          "cinr",
          "cio",
          "cir",
          "cit",
          "civb",
          "cix",
          "cizn",
          "ckh",
          "ckpt",
          "ckx",
          "cl",
          "clar",
          "clbs",
          "clct",
          "cldr",
          "cldt",
          "cldx",
          "clf",
          "clfd",
          "clgx",
          "clh",
          "cli",
          "clir",
          "clm",
          "clmt",
          "clne"
         ],
         "y": [
          -0.04198523572459267,
          -0.040760294366899805,
          -0.0402456072374922,
          -0.005007725226194882,
          -0.045997865764279104,
          -0.04294125424143919,
          -0.042724523942776864,
          -0.04453713826096443,
          -0.03448926054912167,
          -0.03809486686729049,
          -0.04175795838027183,
          -0.04615361558299349,
          -0.039757291311883,
          -0.04462096256281472,
          -0.042973761658926544,
          -0.03830630731680971,
          -0.03973380632363781,
          -0.04353442464755043,
          -0.04558831990063811,
          -0.04566608136867696,
          -0.041313879085225894,
          0.2254120256390348,
          -0.043006309766639585,
          -0.04109809222615025,
          -0.045302598902576596,
          -0.0421906333836612,
          -0.04200859482879947,
          -0.045462826452382726,
          -0.04153075442989331,
          -0.04430959326941541,
          -0.04397555897219378,
          -0.04202918147532447,
          -0.044771372353775006,
          0.0870532576829612,
          -0.03985349143148988,
          -0.005920946728771018,
          -0.03758764913633225,
          -0.04445301557818635,
          -0.044475697674716215,
          -0.04217679533495913,
          -0.045564452907325304,
          -0.044064238493501565,
          -0.042568966949822915,
          -0.044821313185322224,
          -0.04287633461849577,
          -0.04566378063211852,
          -0.045193300000377204,
          -0.044445819660357315,
          -0.04444316408988849,
          -0.043839701733153165,
          -0.0446027068703242,
          -0.03849868678491096,
          -0.04288013389973332,
          -0.04506411291097738,
          -0.040655375287506464,
          -0.04171878962765983,
          -0.04540165302799612,
          -0.045390358451904755,
          -0.04379718388722193,
          -0.045009168862960094,
          -0.03891307906395591,
          -0.043927047498327564,
          -0.02647233605683903,
          -0.0397467425677819,
          -0.04303640328910386,
          -0.04314459190363694,
          -0.04385282929334317,
          -0.04433167083407038,
          -0.045082901193856044,
          -0.04425614626061628,
          -0.04156870585884715,
          -0.04135891942942353,
          -0.04335512445106601,
          -0.04596928391278116,
          -0.04318898354781313,
          -0.0442533019706388,
          -0.040454495117092384,
          -0.04570705296529594,
          -0.04435040411831485,
          -0.040708843506401915,
          -0.0422794912630423,
          -0.04459716765019523,
          -0.04598274900905305,
          0.0611631027824788,
          -0.04482166044076804,
          -0.04047846483883331,
          -0.04414728153496166,
          -0.04252548284120231,
          -0.04373087416683525,
          -0.03918223149662335,
          -0.04432909774088691,
          -0.04522503707742731,
          -0.04008416956947591,
          -0.045062136899553566,
          -0.04534763369117089,
          -0.04519811328358761,
          -0.03760477888917327,
          -0.045579292563448524,
          -0.042623868091476835,
          -0.04300212407969655,
          -0.044371927089889594,
          -0.04254590997293112,
          -0.04027636900726775,
          -0.04496648105368651,
          -0.04541529293703451,
          -0.04432233235788964,
          -0.04312375925161165,
          -0.04473755799062116,
          -0.04581177706784082,
          -0.044906113419832666,
          -0.04534480877913182,
          -0.04567682408699967,
          -0.04285580405996936,
          -0.04445528182867737,
          0.006229969271303898,
          -0.04328017974984929,
          -0.043605128301078815,
          -0.04206805126560472,
          -0.03652080366530179,
          -0.045498352048260596,
          -0.04303314759968466,
          -0.04438937972248907,
          -0.04543332521628923,
          -0.04462799607726678,
          -0.04153613460908599,
          -0.042055968640703684,
          -0.04332437028691608,
          -0.03894812185735569,
          -0.04181025325148383,
          -0.04446370701229553,
          -0.04459618173625793,
          -0.04029884196222093,
          -0.044537359831006526,
          -0.04351618145973549,
          -0.04600544527281646,
          -0.04591039177962473,
          -0.04335772791932383,
          -0.044239749366241074,
          -0.045194947135018225,
          -0.04188534665086858,
          -0.039124252231257865,
          0.014908849064745452,
          -0.0410844181631965,
          -0.04546053890831046,
          -0.04056456520624029,
          -0.042315683509715034,
          -0.04114124885664547,
          -0.04063191212261789,
          -0.034184922650875776,
          -0.04577537227045805,
          -0.04583258584311589,
          -0.04212759054692966,
          -0.03947123546774102,
          -0.043349660566541284,
          -0.04477143114519443,
          -0.04079421231907878,
          -0.044557375322345105,
          -0.045026078733049375,
          -0.042888658494404916,
          -0.04238698960947141,
          -0.044502971547936816,
          -0.0455442328412754,
          -0.042384056570909635,
          -0.045869620323832586,
          -0.04351035926847594,
          -0.00846971444462059,
          -0.035354194143484806,
          -0.04256693641847652,
          -0.04185483436563578,
          -0.04387018972861928,
          -0.039756474824782145,
          -0.04328612740360605,
          -0.042713247627431124,
          -0.03762807120521289,
          -0.04505419103129087,
          -0.04176521125264768,
          -0.04156066647521071,
          -0.028070561554669148,
          -0.03364424967201027,
          -0.04372638118626137,
          -0.04536255381941792,
          -0.04376129632799868,
          -0.043496827832741204,
          -0.04494444379847339,
          -0.043662563742757364,
          -0.036583336288760475,
          -0.04581503124576942,
          -0.044209162626618975,
          -0.04466231351247918,
          -0.045093460642983474,
          -0.04429205408881155,
          -0.033029066179449756,
          -0.0459115740011847,
          -0.029950389664091404,
          -0.042507726387417136,
          -0.0454371917708934,
          -0.03742628778227011,
          -0.043196078124390316,
          -0.045552887985428,
          -0.04090733729994571,
          -0.04365203680608264,
          -0.005861936363464181,
          -0.0413661952127757,
          -0.041843824306597076,
          -0.0332542943782096,
          -0.042135325214218915,
          -0.032636720728853055,
          -0.0409167440158721,
          -0.044720009828802615,
          -0.04401116346470654,
          -0.04586502757328668,
          -0.043278416253478474,
          -0.035016636182086794,
          -0.037659250290823044,
          -0.027009500797192502,
          -0.03405323896920559,
          -0.03732284412952109,
          -0.04486066061130436,
          -0.04380182089630055,
          -0.044720341012183265,
          -0.04365858684788341,
          -0.035387053905821475,
          -0.04130920526020633,
          -0.033503635368366064,
          -0.045129926836875695,
          -0.04138994235800669,
          -0.020419161189261965,
          -0.04159962536499319,
          -0.04378569974745823,
          -0.04431804214424731,
          -0.043992708966603025,
          -0.042759114340208876,
          -0.04307323349182553,
          -0.04321527694954025,
          -0.046069337957103634,
          -0.045557897983021386,
          -0.04609337579057142,
          -0.04520026954116882,
          -0.04509575716015472,
          -0.04607896564370219,
          -0.04504063925926202,
          -0.04502655964161004,
          -0.044969393095557315,
          -0.04334943349864084,
          -0.0410689078014387,
          -0.043443839069601156,
          -0.04526419955605147,
          -0.04475392456530915,
          -0.04236012362409564,
          -0.04494585833715434,
          -0.03552299807148395,
          -0.04575178293401001,
          -0.04442111531235344,
          -0.04442689665446353,
          -0.03580245284440699,
          -0.04405563601318288,
          -0.044700685292832235,
          -0.043922926754446694,
          -0.045374020683379035,
          -0.04382341566114168,
          -0.04161363802032769,
          -0.03784040672776614,
          -0.04272682941550963,
          -0.044914093090716756,
          -0.043479399581660055,
          -0.045814362046544335,
          -0.0430583322508782,
          -0.04364041625361992,
          -0.04560836410328058,
          -0.040091596168358064,
          -0.04554356024836837,
          -0.04370564670323291,
          -0.04340675922065153,
          -0.04438676636107362,
          -0.0459608843713461,
          -0.043449090940796846,
          -0.041341837389872745,
          -0.04215127992773804,
          -0.04618509734576515,
          -0.04314654098361765,
          -0.04470847369394451,
          -0.04550540680753692,
          -0.045386719989722484,
          -0.03459523618423656,
          -0.04596621089781483,
          -0.044063721461009946,
          -0.0410663213367544,
          -0.04556128068012756,
          -0.04586395333814318,
          -0.04513090773445532,
          -0.045552850779208884,
          -0.04580924388932675,
          -0.041963668702745954,
          -0.04527793248738622,
          -0.041168769595170546,
          -0.04611264228801534,
          -0.0406528612712654,
          -0.04328648423583044,
          -0.0450098856810398,
          -0.04341065367017019,
          -0.04027109550516277,
          -0.04593937153487396,
          -0.04389711606103663,
          -0.04090577669715908,
          -0.045527508580446845,
          -0.04254662878478385,
          -0.03943206436763283,
          -0.042734200929781065,
          -0.04460839739048176,
          -0.014308475529316892,
          -0.043168131814120214,
          -0.0461268688704242,
          -0.04530079456805693,
          -0.042064286248052626,
          -0.043766580367632264,
          -0.045500713407691636,
          -0.043277649211907396,
          -0.04607154342304841,
          -0.04569242927859244,
          -0.045830330856136775,
          -0.04475417609775584,
          -0.04516059105285418,
          -0.04299289886443228,
          -0.04232628508661495,
          -0.030066034416002457,
          -0.04408946138527565,
          -0.045550065043891454,
          -0.03431812692881116,
          -0.045201370668236734,
          -0.043790227493653744,
          -0.04453913592045429,
          -0.037946011120298336,
          -0.041688566277587547,
          -0.04466061660306179,
          -0.045695473308183854,
          -0.039628656814717944,
          -0.045171495044415554,
          -0.0414233552481839,
          -0.040536660923701985,
          -0.04297814713446131,
          -0.04596694489847619,
          -0.04584402073586005,
          -0.04596364137549812,
          -0.045114091791028196,
          -0.03765468395890525,
          -0.04579287480169077,
          -0.044081261540878276,
          -0.03825465727991477,
          -0.04346111885277683,
          -0.045401939408014756,
          -0.04210554374621092,
          -0.045844839850388425,
          -0.045958010417393905,
          -0.03325391884438091,
          -0.04427187828133043,
          -0.045860016020081606,
          -0.043447893940224226,
          0.005086004577798313,
          -0.04278967687083254,
          -0.04581311252230592,
          -0.04273462615444626,
          -0.04224786767006238,
          -0.04243225224657076,
          -0.03339020114214887,
          -0.043058470406094215,
          -0.044793854150358366,
          -0.04344051372782813,
          -0.04450189562795227,
          -0.043126472956732394,
          -0.044456753344201835,
          -0.043244632164931004,
          -0.042935223305109745,
          -0.0409679439107845,
          -0.043840540503384706,
          -0.045972411512835286,
          -0.04331910940811698,
          -0.04334748229254543,
          -0.04182924290635969,
          -0.041287692968004754,
          -0.03944156170282059,
          -0.045321529514030484,
          -0.0452258054515128,
          -0.04481150667784338,
          -0.04552886302787088,
          -0.044693532010127435,
          -0.04042377594769424,
          -0.0438891796889347,
          -0.04219803187013462,
          -0.04450921191986024,
          -0.045350455897272164,
          -0.04162830029996535,
          -0.04177186656563985,
          -0.04495295571413854,
          -0.04212991736072422,
          -0.04202339270254702,
          0.3109066364415921,
          -0.04592612921556723,
          -0.04205897307567974,
          -0.04458805408274195,
          -0.045071216754226616,
          -0.04106195877934923,
          -0.04539543046250587,
          -0.044845403275441356,
          -0.0443425204925551,
          -0.045171138077370984,
          -0.03969465541568738,
          -0.04323344163198024,
          -0.045452126868869985,
          -0.044418666835458684,
          -0.04440758656759384,
          -0.04622072220278997,
          -0.04575996149040542,
          -0.0326391484994491,
          -0.04465732382867092,
          -0.03637316866075035,
          -0.042542294781155586,
          -0.043271924792383974,
          -0.04313463474016183,
          -0.04115253312810342,
          -0.0425112887019208,
          -0.041439204721137164,
          -0.04065164504982563,
          -0.04078418506248823,
          -0.03818251945123954,
          -0.04477333239498074,
          -0.04482274201714705,
          -0.04460032914800871,
          -0.04049683936740925,
          -0.04475027849869244,
          -0.0447235940772218,
          -0.03676204323605311,
          -0.044421048472134184,
          -0.045587657405986796,
          -0.04462196125898781,
          -0.04351149921109849,
          -0.04402668181729426,
          -0.046069826052335276,
          -0.044940798145624565,
          -0.044302935759732216,
          -0.043355752884639706,
          -0.044391398973458895,
          -0.04481806409877667,
          -0.04447118157598905,
          -0.04554806630695808,
          0.005249693759033335,
          -0.044221378859154614,
          -0.043338320917281854,
          -0.03741894439561802,
          -0.04499077720611164,
          -0.04289369213880106,
          -0.03948809366472928,
          -0.04429135727386741,
          -0.04218035787554159,
          -0.030948658961570855,
          -0.04548591529595462,
          -0.041720429892469296,
          -0.025269549389711196,
          -0.030114604058681053,
          -0.013756857353866808,
          -0.04544474780350915,
          -0.0459372637938035,
          -0.04432291881723217,
          -0.04184949900688788,
          -0.0417298766922226,
          -0.0455181420186084,
          -0.04273374232000037,
          -0.04306313561637983,
          -0.04561413498098016,
          -0.04540744878692607,
          -0.04103030655023622,
          -0.04097282228613352,
          -0.04452720997245844,
          -0.04471766051716717,
          -0.04476648843220053,
          -0.04567794899317314,
          -0.04222347514027154,
          -0.0459883081934277,
          -0.041775442245003264,
          -0.044429357446159376,
          -0.044017966621194976,
          -0.040556018247486024,
          -0.04598878702569635,
          -0.04513291362183544,
          -0.04476777017849594,
          -0.04607128090587091,
          -0.04226800666203303,
          -0.015356285242708151,
          -0.04153606130387768,
          -0.043406919340530245,
          -0.043533517370866,
          -0.04595564255159917,
          -0.036026533417999586,
          -0.044721932269098826,
          -0.0437103552766803,
          -0.04357317834407141,
          -0.04327635695406144,
          -0.03930475949928476,
          -0.04603628852895599,
          -0.04092135546027245,
          -0.03943336252948737,
          -0.04317138315950352,
          -0.041438865737825466,
          -0.04490184958876303,
          -0.040951401316684496,
          -0.04035538206178207,
          -0.04546196554464914,
          -0.04469146316851976,
          -0.04549914737186585,
          -0.04481486274791743,
          -0.039333921249441926,
          -0.03893258294352253,
          -0.04276558236753465,
          -0.043701717990978356,
          -0.044151919581866476,
          -0.04339105806486519,
          -0.04426734733387145,
          -0.044912436713382756,
          -0.04409447492583952,
          -0.044552270356902714,
          -0.041633662934473424,
          -0.04371482724205756,
          -0.04624249238716399,
          -0.036443498291080345,
          -0.04161751637450996,
          -0.04028228044518403,
          -0.04624971271609687,
          -0.04468222768221121,
          -0.04160245623711253,
          -0.04234211368125323,
          -0.045240632445137964,
          -0.04436770109318039,
          -0.044842892596632246,
          -0.04506432755583533,
          21.928310012311414,
          -0.03179442718875341,
          -0.04504500531629909,
          -0.044208181726776694,
          -0.04486873132680331,
          -0.0452468370360506,
          -0.04249206602053945,
          -0.04501966290700265,
          -0.04321538473809444,
          -0.04552327063723233,
          -0.044839562677773656,
          -0.04482077558131132,
          -0.044429369340774134,
          -0.0442724544089348,
          -0.04417619342521485,
          -0.04495883371574291,
          -0.045807382129782276,
          -0.04400886660288425,
          -0.043825656814751056,
          -0.04275105998975582,
          -0.044252327117087556,
          -0.04510639340369068,
          -0.04337884754341211,
          -0.046088861560335606,
          -0.0456956171104604,
          -0.04373577038213402,
          -0.04352437141407579,
          -0.042339295936357935,
          -0.044939093130455625,
          -0.044103339345283536,
          -0.03773019217234507,
          -0.04247972776635832,
          -0.045292833258898144,
          -0.04400894051554395,
          -0.04416436455811006,
          -0.041834224645135545,
          -0.041976454830537205,
          -0.042920389395859855,
          -0.044653772385606236,
          -0.04060707226117731,
          -0.043827286602134155,
          -0.04007738041191951,
          -0.040129468626304725,
          -0.04497536193301119,
          -0.03363824152153444,
          -0.04337582821771345,
          -0.04332264379165977,
          -0.04343577796789912,
          -0.045870922911808866,
          -0.044806259171629115,
          -0.04143578990148603,
          -0.036971655544754345,
          -0.044557865378428096,
          -0.023513738138626745,
          0.03650043016986797,
          -0.04309383195794921,
          -0.0325725190882123,
          -0.03648163921453075,
          -0.04307305929668627,
          -0.04494202473862176,
          -0.044449997387226686,
          -0.04261166504370779,
          -0.03927859096439956,
          -0.04400137434699333,
          -0.041506723538733935,
          -0.043623557355364995,
          -0.04499155533249895,
          -0.04332912400769494,
          -0.044998067000563975,
          -0.04494632388451425,
          -0.04324257414167102,
          -0.04266446168287588,
          -0.0426683544311159,
          -0.044605324331396856,
          -0.041952189541337725,
          -0.04362021465252356,
          -0.04256259630486475,
          -0.045579805878593206,
          -0.04156743753930479,
          -0.045337505199024936,
          -0.040721667305264254,
          -0.03837576448289511,
          -0.03627658223457175,
          -0.045691669940639355,
          -0.03561622831667578,
          -0.04258708404495678,
          -0.04332589892534696,
          -0.04536377618883155,
          -0.04295553622942279,
          -0.04478620541947471,
          -0.04578110263205292,
          -0.043626896259737785,
          -0.04240453442295425,
          -0.04314259552264088,
          -0.044949286223861094,
          0.04211110471506244,
          -0.04435205535316588,
          -0.03753263020590867,
          -0.04373630947372579,
          -0.04488497610346872,
          -0.039205212523831745,
          -0.036774299570683865,
          -0.041262284938359366,
          -0.04286673591454613,
          -0.04117530585517247,
          -0.04210446223581796,
          -0.042512191466114416,
          -0.04520561514836567,
          -0.04318407568985751,
          -0.043693830621658124,
          -0.04388209049902073,
          -0.042388713363438864,
          -0.03903392106928863,
          -0.04325921895466803,
          -0.04116812587223964,
          -0.04084464947532756,
          -0.044940581882562634,
          -0.04133444527127736,
          -0.04433153067814824,
          -0.045787981872173616,
          -0.04346769845629949,
          -0.04471586485591748,
          -0.04337220007151184,
          -0.045489636321453045,
          -0.045225466194808495,
          -0.04315942733867918,
          -0.04403418956757155,
          -0.038578154713339495,
          -0.04569040852542844,
          -0.044078771947715235,
          -0.030105258698965357,
          -0.04540498470276195,
          -0.03244847226703501,
          -0.04475475562089995,
          -0.04049820409165852,
          -0.04589905576653474,
          -0.04572423881605128,
          -0.04461918015930369,
          -0.04016033074703336,
          -0.045242332354473065,
          -0.038123961009209444,
          -0.044062706063048025,
          -0.03817314810907791,
          -0.045705602444027785,
          -0.04490608703940935,
          -0.043954602663288864,
          -0.045814615680812396,
          -0.04471985671304873,
          -0.044478686175412945,
          -0.04459452981301136,
          -0.043388518412695025,
          -0.03710242561089944,
          -0.04608214825381649,
          -0.04135040484293111,
          -0.04572998474287517,
          -0.04429415380591173,
          -0.04590451194466517,
          -0.04546545558149272,
          -0.04490588603954043,
          -0.04391091588104194,
          -0.04264284640639311,
          -0.04443693813499337,
          -0.04446367892683823,
          -0.041845826323045524,
          -0.04488347419016839,
          -0.04236474268373349,
          -0.0449201736659082,
          -0.044649180346943554,
          -0.03842377993332444,
          -0.04595616764635756,
          -0.04152708206634869,
          -0.04362153704513155,
          -0.04575998431593765,
          -0.04369513940215286,
          -0.04532043631103147,
          -0.04261771546878277,
          -0.04508949209188638,
          -0.04323907782245647,
          -0.041234872792915434,
          -0.04340504201465192,
          -0.04288766005890828,
          -0.03582161038565214,
          -0.03490702726414236,
          -0.043743130525400374,
          0.3349138914587758,
          -0.045249741330918455,
          -0.04133555710521203,
          -0.04517748043506294,
          -0.04570621207533711,
          -0.04530070260350154,
          -0.04209077390741314,
          -0.04436433976900937,
          -0.04457958289987312,
          -0.04307140963759466,
          -0.038492406189178534,
          -0.044226818257850214,
          -0.042559871825440625,
          -0.04274496799728563,
          -0.04269337746901075,
          -0.04262910989378848,
          -0.04263760211492977,
          -0.0236512169783083,
          -0.0419934771431296,
          -0.04559205568276682,
          -0.045190494619287515,
          -0.03614304880874253,
          -0.045325336365371185,
          -0.04199520287914207,
          -0.04336771608495772,
          -0.04614009865379175,
          -0.04586981897155009,
          -0.04544610616783161,
          -0.03990963244764654,
          -0.04492370660551735,
          -0.04606606273206025,
          -0.044826333465778086,
          -0.04075860178676129,
          -0.04265999177661941,
          -0.044783267942554446,
          -0.04004750370185426,
          -0.04045943178225269,
          -0.044836860922168875,
          -0.04471460100594246,
          -0.043873290802321864,
          -0.04051560500394747,
          -0.045050106249917427,
          -0.04469396514342193,
          -0.039851328825850345,
          -0.045330407930546754,
          -0.021550475494803194,
          -0.044778886368362504,
          -0.04373128078122339,
          -0.044037665923162404,
          -0.04476578806021629,
          -0.0419874826504763,
          -0.04531489046458585,
          -0.042585944491887455,
          -0.04035065000694605,
          -0.04268365314982562,
          -0.04552448354906813,
          -0.04391871066506971,
          -0.04394273587934315,
          -0.04485521645868794
         ]
        }
       ],
       "layout": {
        "legend": {
         "bgcolor": "#F5F6F9",
         "font": {
          "color": "#4D5663"
         }
        },
        "paper_bgcolor": "#F5F6F9",
        "plot_bgcolor": "#F5F6F9",
        "template": {
         "data": {
          "bar": [
           {
            "error_x": {
             "color": "#2a3f5f"
            },
            "error_y": {
             "color": "#2a3f5f"
            },
            "marker": {
             "line": {
              "color": "#E5ECF6",
              "width": 0.5
             },
             "pattern": {
              "fillmode": "overlay",
              "size": 10,
              "solidity": 0.2
             }
            },
            "type": "bar"
           }
          ],
          "barpolar": [
           {
            "marker": {
             "line": {
              "color": "#E5ECF6",
              "width": 0.5
             },
             "pattern": {
              "fillmode": "overlay",
              "size": 10,
              "solidity": 0.2
             }
            },
            "type": "barpolar"
           }
          ],
          "carpet": [
           {
            "aaxis": {
             "endlinecolor": "#2a3f5f",
             "gridcolor": "white",
             "linecolor": "white",
             "minorgridcolor": "white",
             "startlinecolor": "#2a3f5f"
            },
            "baxis": {
             "endlinecolor": "#2a3f5f",
             "gridcolor": "white",
             "linecolor": "white",
             "minorgridcolor": "white",
             "startlinecolor": "#2a3f5f"
            },
            "type": "carpet"
           }
          ],
          "choropleth": [
           {
            "colorbar": {
             "outlinewidth": 0,
             "ticks": ""
            },
            "type": "choropleth"
           }
          ],
          "contour": [
           {
            "colorbar": {
             "outlinewidth": 0,
             "ticks": ""
            },
            "colorscale": [
             [
              0,
              "#0d0887"
             ],
             [
              0.1111111111111111,
              "#46039f"
             ],
             [
              0.2222222222222222,
              "#7201a8"
             ],
             [
              0.3333333333333333,
              "#9c179e"
             ],
             [
              0.4444444444444444,
              "#bd3786"
             ],
             [
              0.5555555555555556,
              "#d8576b"
             ],
             [
              0.6666666666666666,
              "#ed7953"
             ],
             [
              0.7777777777777778,
              "#fb9f3a"
             ],
             [
              0.8888888888888888,
              "#fdca26"
             ],
             [
              1,
              "#f0f921"
             ]
            ],
            "type": "contour"
           }
          ],
          "contourcarpet": [
           {
            "colorbar": {
             "outlinewidth": 0,
             "ticks": ""
            },
            "type": "contourcarpet"
           }
          ],
          "heatmap": [
           {
            "colorbar": {
             "outlinewidth": 0,
             "ticks": ""
            },
            "colorscale": [
             [
              0,
              "#0d0887"
             ],
             [
              0.1111111111111111,
              "#46039f"
             ],
             [
              0.2222222222222222,
              "#7201a8"
             ],
             [
              0.3333333333333333,
              "#9c179e"
             ],
             [
              0.4444444444444444,
              "#bd3786"
             ],
             [
              0.5555555555555556,
              "#d8576b"
             ],
             [
              0.6666666666666666,
              "#ed7953"
             ],
             [
              0.7777777777777778,
              "#fb9f3a"
             ],
             [
              0.8888888888888888,
              "#fdca26"
             ],
             [
              1,
              "#f0f921"
             ]
            ],
            "type": "heatmap"
           }
          ],
          "heatmapgl": [
           {
            "colorbar": {
             "outlinewidth": 0,
             "ticks": ""
            },
            "colorscale": [
             [
              0,
              "#0d0887"
             ],
             [
              0.1111111111111111,
              "#46039f"
             ],
             [
              0.2222222222222222,
              "#7201a8"
             ],
             [
              0.3333333333333333,
              "#9c179e"
             ],
             [
              0.4444444444444444,
              "#bd3786"
             ],
             [
              0.5555555555555556,
              "#d8576b"
             ],
             [
              0.6666666666666666,
              "#ed7953"
             ],
             [
              0.7777777777777778,
              "#fb9f3a"
             ],
             [
              0.8888888888888888,
              "#fdca26"
             ],
             [
              1,
              "#f0f921"
             ]
            ],
            "type": "heatmapgl"
           }
          ],
          "histogram": [
           {
            "marker": {
             "pattern": {
              "fillmode": "overlay",
              "size": 10,
              "solidity": 0.2
             }
            },
            "type": "histogram"
           }
          ],
          "histogram2d": [
           {
            "colorbar": {
             "outlinewidth": 0,
             "ticks": ""
            },
            "colorscale": [
             [
              0,
              "#0d0887"
             ],
             [
              0.1111111111111111,
              "#46039f"
             ],
             [
              0.2222222222222222,
              "#7201a8"
             ],
             [
              0.3333333333333333,
              "#9c179e"
             ],
             [
              0.4444444444444444,
              "#bd3786"
             ],
             [
              0.5555555555555556,
              "#d8576b"
             ],
             [
              0.6666666666666666,
              "#ed7953"
             ],
             [
              0.7777777777777778,
              "#fb9f3a"
             ],
             [
              0.8888888888888888,
              "#fdca26"
             ],
             [
              1,
              "#f0f921"
             ]
            ],
            "type": "histogram2d"
           }
          ],
          "histogram2dcontour": [
           {
            "colorbar": {
             "outlinewidth": 0,
             "ticks": ""
            },
            "colorscale": [
             [
              0,
              "#0d0887"
             ],
             [
              0.1111111111111111,
              "#46039f"
             ],
             [
              0.2222222222222222,
              "#7201a8"
             ],
             [
              0.3333333333333333,
              "#9c179e"
             ],
             [
              0.4444444444444444,
              "#bd3786"
             ],
             [
              0.5555555555555556,
              "#d8576b"
             ],
             [
              0.6666666666666666,
              "#ed7953"
             ],
             [
              0.7777777777777778,
              "#fb9f3a"
             ],
             [
              0.8888888888888888,
              "#fdca26"
             ],
             [
              1,
              "#f0f921"
             ]
            ],
            "type": "histogram2dcontour"
           }
          ],
          "mesh3d": [
           {
            "colorbar": {
             "outlinewidth": 0,
             "ticks": ""
            },
            "type": "mesh3d"
           }
          ],
          "parcoords": [
           {
            "line": {
             "colorbar": {
              "outlinewidth": 0,
              "ticks": ""
             }
            },
            "type": "parcoords"
           }
          ],
          "pie": [
           {
            "automargin": true,
            "type": "pie"
           }
          ],
          "scatter": [
           {
            "marker": {
             "colorbar": {
              "outlinewidth": 0,
              "ticks": ""
             }
            },
            "type": "scatter"
           }
          ],
          "scatter3d": [
           {
            "line": {
             "colorbar": {
              "outlinewidth": 0,
              "ticks": ""
             }
            },
            "marker": {
             "colorbar": {
              "outlinewidth": 0,
              "ticks": ""
             }
            },
            "type": "scatter3d"
           }
          ],
          "scattercarpet": [
           {
            "marker": {
             "colorbar": {
              "outlinewidth": 0,
              "ticks": ""
             }
            },
            "type": "scattercarpet"
           }
          ],
          "scattergeo": [
           {
            "marker": {
             "colorbar": {
              "outlinewidth": 0,
              "ticks": ""
             }
            },
            "type": "scattergeo"
           }
          ],
          "scattergl": [
           {
            "marker": {
             "colorbar": {
              "outlinewidth": 0,
              "ticks": ""
             }
            },
            "type": "scattergl"
           }
          ],
          "scattermapbox": [
           {
            "marker": {
             "colorbar": {
              "outlinewidth": 0,
              "ticks": ""
             }
            },
            "type": "scattermapbox"
           }
          ],
          "scatterpolar": [
           {
            "marker": {
             "colorbar": {
              "outlinewidth": 0,
              "ticks": ""
             }
            },
            "type": "scatterpolar"
           }
          ],
          "scatterpolargl": [
           {
            "marker": {
             "colorbar": {
              "outlinewidth": 0,
              "ticks": ""
             }
            },
            "type": "scatterpolargl"
           }
          ],
          "scatterternary": [
           {
            "marker": {
             "colorbar": {
              "outlinewidth": 0,
              "ticks": ""
             }
            },
            "type": "scatterternary"
           }
          ],
          "surface": [
           {
            "colorbar": {
             "outlinewidth": 0,
             "ticks": ""
            },
            "colorscale": [
             [
              0,
              "#0d0887"
             ],
             [
              0.1111111111111111,
              "#46039f"
             ],
             [
              0.2222222222222222,
              "#7201a8"
             ],
             [
              0.3333333333333333,
              "#9c179e"
             ],
             [
              0.4444444444444444,
              "#bd3786"
             ],
             [
              0.5555555555555556,
              "#d8576b"
             ],
             [
              0.6666666666666666,
              "#ed7953"
             ],
             [
              0.7777777777777778,
              "#fb9f3a"
             ],
             [
              0.8888888888888888,
              "#fdca26"
             ],
             [
              1,
              "#f0f921"
             ]
            ],
            "type": "surface"
           }
          ],
          "table": [
           {
            "cells": {
             "fill": {
              "color": "#EBF0F8"
             },
             "line": {
              "color": "white"
             }
            },
            "header": {
             "fill": {
              "color": "#C8D4E3"
             },
             "line": {
              "color": "white"
             }
            },
            "type": "table"
           }
          ]
         },
         "layout": {
          "annotationdefaults": {
           "arrowcolor": "#2a3f5f",
           "arrowhead": 0,
           "arrowwidth": 1
          },
          "autotypenumbers": "strict",
          "coloraxis": {
           "colorbar": {
            "outlinewidth": 0,
            "ticks": ""
           }
          },
          "colorscale": {
           "diverging": [
            [
             0,
             "#8e0152"
            ],
            [
             0.1,
             "#c51b7d"
            ],
            [
             0.2,
             "#de77ae"
            ],
            [
             0.3,
             "#f1b6da"
            ],
            [
             0.4,
             "#fde0ef"
            ],
            [
             0.5,
             "#f7f7f7"
            ],
            [
             0.6,
             "#e6f5d0"
            ],
            [
             0.7,
             "#b8e186"
            ],
            [
             0.8,
             "#7fbc41"
            ],
            [
             0.9,
             "#4d9221"
            ],
            [
             1,
             "#276419"
            ]
           ],
           "sequential": [
            [
             0,
             "#0d0887"
            ],
            [
             0.1111111111111111,
             "#46039f"
            ],
            [
             0.2222222222222222,
             "#7201a8"
            ],
            [
             0.3333333333333333,
             "#9c179e"
            ],
            [
             0.4444444444444444,
             "#bd3786"
            ],
            [
             0.5555555555555556,
             "#d8576b"
            ],
            [
             0.6666666666666666,
             "#ed7953"
            ],
            [
             0.7777777777777778,
             "#fb9f3a"
            ],
            [
             0.8888888888888888,
             "#fdca26"
            ],
            [
             1,
             "#f0f921"
            ]
           ],
           "sequentialminus": [
            [
             0,
             "#0d0887"
            ],
            [
             0.1111111111111111,
             "#46039f"
            ],
            [
             0.2222222222222222,
             "#7201a8"
            ],
            [
             0.3333333333333333,
             "#9c179e"
            ],
            [
             0.4444444444444444,
             "#bd3786"
            ],
            [
             0.5555555555555556,
             "#d8576b"
            ],
            [
             0.6666666666666666,
             "#ed7953"
            ],
            [
             0.7777777777777778,
             "#fb9f3a"
            ],
            [
             0.8888888888888888,
             "#fdca26"
            ],
            [
             1,
             "#f0f921"
            ]
           ]
          },
          "colorway": [
           "#636efa",
           "#EF553B",
           "#00cc96",
           "#ab63fa",
           "#FFA15A",
           "#19d3f3",
           "#FF6692",
           "#B6E880",
           "#FF97FF",
           "#FECB52"
          ],
          "font": {
           "color": "#2a3f5f"
          },
          "geo": {
           "bgcolor": "white",
           "lakecolor": "white",
           "landcolor": "#E5ECF6",
           "showlakes": true,
           "showland": true,
           "subunitcolor": "white"
          },
          "hoverlabel": {
           "align": "left"
          },
          "hovermode": "closest",
          "mapbox": {
           "style": "light"
          },
          "paper_bgcolor": "white",
          "plot_bgcolor": "#E5ECF6",
          "polar": {
           "angularaxis": {
            "gridcolor": "white",
            "linecolor": "white",
            "ticks": ""
           },
           "bgcolor": "#E5ECF6",
           "radialaxis": {
            "gridcolor": "white",
            "linecolor": "white",
            "ticks": ""
           }
          },
          "scene": {
           "xaxis": {
            "backgroundcolor": "#E5ECF6",
            "gridcolor": "white",
            "gridwidth": 2,
            "linecolor": "white",
            "showbackground": true,
            "ticks": "",
            "zerolinecolor": "white"
           },
           "yaxis": {
            "backgroundcolor": "#E5ECF6",
            "gridcolor": "white",
            "gridwidth": 2,
            "linecolor": "white",
            "showbackground": true,
            "ticks": "",
            "zerolinecolor": "white"
           },
           "zaxis": {
            "backgroundcolor": "#E5ECF6",
            "gridcolor": "white",
            "gridwidth": 2,
            "linecolor": "white",
            "showbackground": true,
            "ticks": "",
            "zerolinecolor": "white"
           }
          },
          "shapedefaults": {
           "line": {
            "color": "#2a3f5f"
           }
          },
          "ternary": {
           "aaxis": {
            "gridcolor": "white",
            "linecolor": "white",
            "ticks": ""
           },
           "baxis": {
            "gridcolor": "white",
            "linecolor": "white",
            "ticks": ""
           },
           "bgcolor": "#E5ECF6",
           "caxis": {
            "gridcolor": "white",
            "linecolor": "white",
            "ticks": ""
           }
          },
          "title": {
           "x": 0.05
          },
          "xaxis": {
           "automargin": true,
           "gridcolor": "white",
           "linecolor": "white",
           "ticks": "",
           "title": {
            "standoff": 15
           },
           "zerolinecolor": "white",
           "zerolinewidth": 2
          },
          "yaxis": {
           "automargin": true,
           "gridcolor": "white",
           "linecolor": "white",
           "ticks": "",
           "title": {
            "standoff": 15
           },
           "zerolinecolor": "white",
           "zerolinewidth": 2
          }
         }
        },
        "title": {
         "font": {
          "color": "#4D5663"
         }
        },
        "xaxis": {
         "gridcolor": "#E1E5ED",
         "showgrid": true,
         "tickfont": {
          "color": "#4D5663"
         },
         "title": {
          "font": {
           "color": "#4D5663"
          },
          "text": ""
         },
         "zerolinecolor": "#E1E5ED"
        },
        "yaxis": {
         "gridcolor": "#E1E5ED",
         "showgrid": true,
         "tickfont": {
          "color": "#4D5663"
         },
         "title": {
          "font": {
           "color": "#4D5663"
          },
          "text": ""
         },
         "zerolinecolor": "#E1E5ED"
        }
       }
      },
      "text/html": [
       "<div>                            <div id=\"23a2c2b0-e193-44e4-9868-aa25858eabe2\" class=\"plotly-graph-div\" style=\"height:525px; width:100%;\"></div>            <script type=\"text/javascript\">                require([\"plotly\"], function(Plotly) {                    window.PLOTLYENV=window.PLOTLYENV || {};                                    if (document.getElementById(\"23a2c2b0-e193-44e4-9868-aa25858eabe2\")) {                    Plotly.newPlot(                        \"23a2c2b0-e193-44e4-9868-aa25858eabe2\",                        [{\"line\":{\"color\":\"rgba(255, 153, 51, 1.0)\",\"dash\":\"solid\",\"shape\":\"linear\",\"width\":1.3},\"mode\":\"lines\",\"name\":\"close\",\"text\":\"\",\"x\":[\"a\",\"aa\",\"aal\",\"aamc\",\"aame\",\"aan\",\"aaoi\",\"aaon\",\"aap\",\"aapl\",\"aat\",\"aau\",\"aaww\",\"aaxn\",\"ab\",\"abbv\",\"abc\",\"abcb\",\"abeo\",\"abev\",\"abg\",\"abio\",\"abm\",\"abmd\",\"abr\",\"abt\",\"abtx\",\"abus\",\"ac\",\"acad\",\"acbi\",\"acc\",\"acco\",\"acer\",\"achc\",\"achv\",\"acia\",\"aciw\",\"acls\",\"acm\",\"acmr\",\"acnb\",\"acor\",\"acre\",\"acrs\",\"acrx\",\"acst\",\"actg\",\"acu\",\"acv\",\"acy\",\"adbe\",\"adc\",\"ades\",\"adi\",\"adm\",\"adma\",\"admp\",\"adms\",\"adom\",\"adp\",\"adro\",\"ads\",\"adsk\",\"adsw\",\"adtn\",\"adus\",\"advm\",\"adx\",\"adxs\",\"ae\",\"aee\",\"aegn\",\"aehr\",\"aeis\",\"ael\",\"aem\",\"aemd\",\"aeo\",\"aep\",\"aeri\",\"aes\",\"aey\",\"aezs\",\"afb\",\"afg\",\"afh\",\"afhbl\",\"afi\",\"afl\",\"aft\",\"ag\",\"agco\",\"agen\",\"agfs\",\"agi\",\"agio\",\"agle\",\"agm\",\"agm-a\",\"agnc\",\"agncn\",\"agr\",\"agro\",\"agrx\",\"agtc\",\"agx\",\"agys\",\"ahc\",\"ahh\",\"ahpi\",\"aht\",\"ai\",\"aif\",\"aig\",\"aimc\",\"aimt\",\"ain\",\"ainc\",\"ainv\",\"air\",\"airg\",\"airi\",\"airt\",\"ait\",\"aiv\",\"aiw\",\"aiz\",\"ajg\",\"ajrd\",\"ajx\",\"akam\",\"akba\",\"akca\",\"aker\",\"akg\",\"akr\",\"akrx\",\"akts\",\"al\",\"alb\",\"albo\",\"alco\",\"aldx\",\"ale\",\"alex\",\"alg\",\"algn\",\"algt\",\"alim\",\"aljj\",\"alk\",\"all\",\"ally\",\"alna\",\"alny\",\"alo\",\"alot\",\"alpn\",\"alrm\",\"alrn\",\"alsk\",\"alsn\",\"alt\",\"altr\",\"alx\",\"alxn\",\"am\",\"amag\",\"amat\",\"amba\",\"ambc\",\"amc\",\"amcx\",\"amd\",\"ame\",\"amed\",\"amg\",\"amgn\",\"amh\",\"amkr\",\"amn\",\"amnb\",\"amot\",\"amov\",\"amp\",\"ampe\",\"amph\",\"amrb\",\"amrc\",\"amrk\",\"amrs\",\"ams\",\"amsc\",\"amsf\",\"amswa\",\"amt\",\"amtd\",\"amtx\",\"amwd\",\"amx\",\"amzn\",\"an\",\"anab\",\"anat\",\"ande\",\"anet\",\"anf\",\"angi\",\"ango\",\"anh\",\"anik\",\"anip\",\"anss\",\"anth\",\"antm\",\"any\",\"aobc\",\"aos\",\"aosl\",\"ap\",\"apa\",\"apam\",\"apd\",\"apdn\",\"apei\",\"apen\",\"aph\",\"aple\",\"apls\",\"apo\",\"apog\",\"appf\",\"appn\",\"apps\",\"aprn\",\"apt\",\"apto\",\"apts\",\"apvo\",\"aqb\",\"aqms\",\"aqn\",\"aqua\",\"ar\",\"ara\",\"aray\",\"arc\",\"arcb\",\"arcc\",\"arch\",\"arcw\",\"ardc\",\"ardx\",\"are\",\"ares\",\"ari\",\"arkr\",\"arl\",\"arlp\",\"armk\",\"arna\",\"arnc\",\"aroc\",\"arow\",\"arql\",\"arr\",\"artna\",\"artw\",\"arw\",\"arwr\",\"asa\",\"asb\",\"asfi\",\"asg\",\"asgn\",\"ash\",\"asix\",\"asm\",\"asmb\",\"asna\",\"aspn\",\"aspu\",\"asr\",\"asrv\",\"astc\",\"aste\",\"asur\",\"asx\",\"asys\",\"at\",\"atax\",\"atec\",\"aten\",\"atge\",\"athx\",\"ati\",\"atkr\",\"atlc\",\"atlo\",\"atni\",\"atnm\",\"atnx\",\"ato\",\"atom\",\"atos\",\"atr\",\"atra\",\"atrc\",\"atri\",\"atro\",\"atrs\",\"atsg\",\"atus\",\"atvi\",\"atxi\",\"aubn\",\"aug\",\"aumn\",\"auph\",\"auto\",\"auy\",\"ava\",\"avav\",\"avb\",\"avd\",\"aveo\",\"avgo\",\"avgr\",\"avid\",\"avk\",\"avnw\",\"avt\",\"avx\",\"avxl\",\"avy\",\"awf\",\"awi\",\"awk\",\"awr\",\"awre\",\"awx\",\"axas\",\"axdx\",\"axe\",\"axgn\",\"axl\",\"axp\",\"axr\",\"axsm\",\"axta\",\"axti\",\"axu\",\"ayi\",\"ayr\",\"aytu\",\"ayx\",\"azo\",\"azpn\",\"azrx\",\"azul\",\"azz\",\"b\",\"ba\",\"bac\",\"baf\",\"bah\",\"bak\",\"bam\",\"banc\",\"band\",\"banf\",\"banr\",\"banx\",\"basi\",\"batra\",\"batrk\",\"bax\",\"bb\",\"bbby\",\"bbd\",\"bbdo\",\"bbf\",\"bbgi\",\"bbk\",\"bbl\",\"bbn\",\"bbsi\",\"bbw\",\"bbx\",\"bby\",\"bc\",\"bcbp\",\"bcc\",\"bce\",\"bcei\",\"bcli\",\"bco\",\"bcor\",\"bcov\",\"bcpc\",\"bcrx\",\"bctf\",\"bcv\",\"bcx\",\"bdc\",\"bdge\",\"bdj\",\"bdl\",\"bdn\",\"bdr\",\"bdsi\",\"bdx\",\"beat\",\"bebe\",\"becn\",\"belfa\",\"belfb\",\"ben\",\"bep\",\"bery\",\"bf-a\",\"bf-b\",\"bfam\",\"bfin\",\"bfk\",\"bfo\",\"bfs\",\"bfy\",\"bfz\",\"bg\",\"bgb\",\"bgcp\",\"bgfv\",\"bgg\",\"bgh\",\"bgi\",\"bgio\",\"bgr\",\"bgs\",\"bgsf\",\"bgt\",\"bgx\",\"bgy\",\"bh\",\"bhb\",\"bhe\",\"bhf\",\"bhk\",\"bhlb\",\"bhp\",\"bhv\",\"bhvn\",\"bidu\",\"bif\",\"big\",\"biib\",\"bio\",\"bio-b\",\"bioc\",\"biol\",\"bit\",\"bjri\",\"bk\",\"bkcc\",\"bkd\",\"bke\",\"bkep\",\"bkepp\",\"bkh\",\"bki\",\"bkk\",\"bkn\",\"bksc\",\"bkt\",\"bku\",\"bkyi\",\"bl\",\"blbd\",\"blcm\",\"bld\",\"bldp\",\"bldr\",\"ble\",\"blfs\",\"blin\",\"blk\",\"blkb\",\"bll\",\"blmn\",\"blph\",\"blue\",\"blw\",\"bmch\",\"bme\",\"bmi\",\"bmo\",\"bmra\",\"bmrc\",\"bmrn\",\"bmtc\",\"bmy\",\"bned\",\"bnft\",\"bns\",\"bntc\",\"bny\",\"boch\",\"boe\",\"boh\",\"bokf\",\"bokfl\",\"bold\",\"bomn\",\"boom\",\"boot\",\"botj\",\"box\",\"bpfh\",\"bpmc\",\"bpmp\",\"bpmx\",\"bpop\",\"bprn\",\"bpt\",\"bpth\",\"bqh\",\"br\",\"brc\",\"brew\",\"brfs\",\"brg\",\"brid\",\"brk-a\",\"brk-b\",\"brkl\",\"brkr\",\"brks\",\"brn\",\"bro\",\"brt\",\"brx\",\"bsbr\",\"bsd\",\"bse\",\"bset\",\"bsl\",\"bsm\",\"bsmx\",\"bsqr\",\"bsrr\",\"bst\",\"bstc\",\"bsx\",\"bta\",\"bte\",\"btg\",\"btn\",\"bto\",\"btt\",\"btu\",\"btz\",\"bui\",\"burl\",\"buse\",\"bv\",\"bvsn\",\"bw\",\"bwa\",\"bwen\",\"bwfg\",\"bwg\",\"bwxt\",\"bx\",\"bxc\",\"bxmt\",\"bxmx\",\"bxp\",\"bxs\",\"by\",\"byd\",\"byfc\",\"bym\",\"bysi\",\"bzh\",\"bzm\",\"c\",\"cabo\",\"cac\",\"cacc\",\"caci\",\"cade\",\"cae\",\"caf\",\"cag\",\"cah\",\"cai\",\"cake\",\"cal\",\"cala\",\"calm\",\"calx\",\"camp\",\"capl\",\"capr\",\"car\",\"cara\",\"carg\",\"caro\",\"cars\",\"carv\",\"cash\",\"casi\",\"cass\",\"casy\",\"cat\",\"catb\",\"catc\",\"catm\",\"cato\",\"cats\",\"caty\",\"cban\",\"cbay\",\"cbb\",\"cbd\",\"cbfv\",\"cbh\",\"cbio\",\"cbl\",\"cbli\",\"cbm\",\"cbmg\",\"cboe\",\"cbrl\",\"cbsh\",\"cbshp\",\"cbt\",\"cbtx\",\"cbu\",\"cbz\",\"cc\",\"ccbg\",\"ccd\",\"ccf\",\"cci\",\"ccj\",\"cck\",\"ccl\",\"cclp\",\"ccmp\",\"ccne\",\"cco\",\"ccoi\",\"ccrn\",\"ccs\",\"ccur\",\"ccxi\",\"cde\",\"cdev\",\"cdk\",\"cdna\",\"cdns\",\"cdor\",\"cdr\",\"cdti\",\"cdtx\",\"cdw\",\"cdxc\",\"cdxs\",\"cdzi\",\"ce\",\"cece\",\"cei\",\"celc\",\"celg\",\"celh\",\"celp\",\"cem\",\"cemi\",\"cen\",\"cent\",\"centa\",\"cenx\",\"ceqp\",\"cerc\",\"cern\",\"cers\",\"cet\",\"cetx\",\"cetxp\",\"cev\",\"ceva\",\"cf\",\"cfbi\",\"cfbk\",\"cffi\",\"cffn\",\"cfg\",\"cfms\",\"cfnb\",\"cfr\",\"cfrx\",\"cfx\",\"cg\",\"cga\",\"cgbd\",\"cgix\",\"cgnx\",\"cgo\",\"chci\",\"chco\",\"chct\",\"chd\",\"chdn\",\"che\",\"chef\",\"chfs\",\"chgg\",\"chh\",\"chi\",\"chkr\",\"chma\",\"chmg\",\"chmi\",\"chn\",\"chrs\",\"chrw\",\"chs\",\"chscl\",\"chscm\",\"chscn\",\"chsco\",\"chscp\",\"chtr\",\"chuy\",\"chw\",\"chy\",\"ci\",\"cia\",\"cidm\",\"cien\",\"cif\",\"cig\",\"cig-c\",\"cigi\",\"cii\",\"cik\",\"cim\",\"cinf\",\"cinr\",\"cio\",\"cir\",\"cit\",\"civb\",\"cix\",\"cizn\",\"ckh\",\"ckpt\",\"ckx\",\"cl\",\"clar\",\"clbs\",\"clct\",\"cldr\",\"cldt\",\"cldx\",\"clf\",\"clfd\",\"clgx\",\"clh\",\"cli\",\"clir\",\"clm\",\"clmt\",\"clne\"],\"y\":[-0.04198523572459267,-0.040760294366899805,-0.0402456072374922,-0.005007725226194882,-0.045997865764279104,-0.04294125424143919,-0.042724523942776864,-0.04453713826096443,-0.03448926054912167,-0.03809486686729049,-0.04175795838027183,-0.04615361558299349,-0.039757291311883,-0.04462096256281472,-0.042973761658926544,-0.03830630731680971,-0.03973380632363781,-0.04353442464755043,-0.04558831990063811,-0.04566608136867696,-0.041313879085225894,0.2254120256390348,-0.043006309766639585,-0.04109809222615025,-0.045302598902576596,-0.0421906333836612,-0.04200859482879947,-0.045462826452382726,-0.04153075442989331,-0.04430959326941541,-0.04397555897219378,-0.04202918147532447,-0.044771372353775006,0.0870532576829612,-0.03985349143148988,-0.005920946728771018,-0.03758764913633225,-0.04445301557818635,-0.044475697674716215,-0.04217679533495913,-0.045564452907325304,-0.044064238493501565,-0.042568966949822915,-0.044821313185322224,-0.04287633461849577,-0.04566378063211852,-0.045193300000377204,-0.044445819660357315,-0.04444316408988849,-0.043839701733153165,-0.0446027068703242,-0.03849868678491096,-0.04288013389973332,-0.04506411291097738,-0.040655375287506464,-0.04171878962765983,-0.04540165302799612,-0.045390358451904755,-0.04379718388722193,-0.045009168862960094,-0.03891307906395591,-0.043927047498327564,-0.02647233605683903,-0.0397467425677819,-0.04303640328910386,-0.04314459190363694,-0.04385282929334317,-0.04433167083407038,-0.045082901193856044,-0.04425614626061628,-0.04156870585884715,-0.04135891942942353,-0.04335512445106601,-0.04596928391278116,-0.04318898354781313,-0.0442533019706388,-0.040454495117092384,-0.04570705296529594,-0.04435040411831485,-0.040708843506401915,-0.0422794912630423,-0.04459716765019523,-0.04598274900905305,0.0611631027824788,-0.04482166044076804,-0.04047846483883331,-0.04414728153496166,-0.04252548284120231,-0.04373087416683525,-0.03918223149662335,-0.04432909774088691,-0.04522503707742731,-0.04008416956947591,-0.045062136899553566,-0.04534763369117089,-0.04519811328358761,-0.03760477888917327,-0.045579292563448524,-0.042623868091476835,-0.04300212407969655,-0.044371927089889594,-0.04254590997293112,-0.04027636900726775,-0.04496648105368651,-0.04541529293703451,-0.04432233235788964,-0.04312375925161165,-0.04473755799062116,-0.04581177706784082,-0.044906113419832666,-0.04534480877913182,-0.04567682408699967,-0.04285580405996936,-0.04445528182867737,0.006229969271303898,-0.04328017974984929,-0.043605128301078815,-0.04206805126560472,-0.03652080366530179,-0.045498352048260596,-0.04303314759968466,-0.04438937972248907,-0.04543332521628923,-0.04462799607726678,-0.04153613460908599,-0.042055968640703684,-0.04332437028691608,-0.03894812185735569,-0.04181025325148383,-0.04446370701229553,-0.04459618173625793,-0.04029884196222093,-0.044537359831006526,-0.04351618145973549,-0.04600544527281646,-0.04591039177962473,-0.04335772791932383,-0.044239749366241074,-0.045194947135018225,-0.04188534665086858,-0.039124252231257865,0.014908849064745452,-0.0410844181631965,-0.04546053890831046,-0.04056456520624029,-0.042315683509715034,-0.04114124885664547,-0.04063191212261789,-0.034184922650875776,-0.04577537227045805,-0.04583258584311589,-0.04212759054692966,-0.03947123546774102,-0.043349660566541284,-0.04477143114519443,-0.04079421231907878,-0.044557375322345105,-0.045026078733049375,-0.042888658494404916,-0.04238698960947141,-0.044502971547936816,-0.0455442328412754,-0.042384056570909635,-0.045869620323832586,-0.04351035926847594,-0.00846971444462059,-0.035354194143484806,-0.04256693641847652,-0.04185483436563578,-0.04387018972861928,-0.039756474824782145,-0.04328612740360605,-0.042713247627431124,-0.03762807120521289,-0.04505419103129087,-0.04176521125264768,-0.04156066647521071,-0.028070561554669148,-0.03364424967201027,-0.04372638118626137,-0.04536255381941792,-0.04376129632799868,-0.043496827832741204,-0.04494444379847339,-0.043662563742757364,-0.036583336288760475,-0.04581503124576942,-0.044209162626618975,-0.04466231351247918,-0.045093460642983474,-0.04429205408881155,-0.033029066179449756,-0.0459115740011847,-0.029950389664091404,-0.042507726387417136,-0.0454371917708934,-0.03742628778227011,-0.043196078124390316,-0.045552887985428,-0.04090733729994571,-0.04365203680608264,-0.005861936363464181,-0.0413661952127757,-0.041843824306597076,-0.0332542943782096,-0.042135325214218915,-0.032636720728853055,-0.0409167440158721,-0.044720009828802615,-0.04401116346470654,-0.04586502757328668,-0.043278416253478474,-0.035016636182086794,-0.037659250290823044,-0.027009500797192502,-0.03405323896920559,-0.03732284412952109,-0.04486066061130436,-0.04380182089630055,-0.044720341012183265,-0.04365858684788341,-0.035387053905821475,-0.04130920526020633,-0.033503635368366064,-0.045129926836875695,-0.04138994235800669,-0.020419161189261965,-0.04159962536499319,-0.04378569974745823,-0.04431804214424731,-0.043992708966603025,-0.042759114340208876,-0.04307323349182553,-0.04321527694954025,-0.046069337957103634,-0.045557897983021386,-0.04609337579057142,-0.04520026954116882,-0.04509575716015472,-0.04607896564370219,-0.04504063925926202,-0.04502655964161004,-0.044969393095557315,-0.04334943349864084,-0.0410689078014387,-0.043443839069601156,-0.04526419955605147,-0.04475392456530915,-0.04236012362409564,-0.04494585833715434,-0.03552299807148395,-0.04575178293401001,-0.04442111531235344,-0.04442689665446353,-0.03580245284440699,-0.04405563601318288,-0.044700685292832235,-0.043922926754446694,-0.045374020683379035,-0.04382341566114168,-0.04161363802032769,-0.03784040672776614,-0.04272682941550963,-0.044914093090716756,-0.043479399581660055,-0.045814362046544335,-0.0430583322508782,-0.04364041625361992,-0.04560836410328058,-0.040091596168358064,-0.04554356024836837,-0.04370564670323291,-0.04340675922065153,-0.04438676636107362,-0.0459608843713461,-0.043449090940796846,-0.041341837389872745,-0.04215127992773804,-0.04618509734576515,-0.04314654098361765,-0.04470847369394451,-0.04550540680753692,-0.045386719989722484,-0.03459523618423656,-0.04596621089781483,-0.044063721461009946,-0.0410663213367544,-0.04556128068012756,-0.04586395333814318,-0.04513090773445532,-0.045552850779208884,-0.04580924388932675,-0.041963668702745954,-0.04527793248738622,-0.041168769595170546,-0.04611264228801534,-0.0406528612712654,-0.04328648423583044,-0.0450098856810398,-0.04341065367017019,-0.04027109550516277,-0.04593937153487396,-0.04389711606103663,-0.04090577669715908,-0.045527508580446845,-0.04254662878478385,-0.03943206436763283,-0.042734200929781065,-0.04460839739048176,-0.014308475529316892,-0.043168131814120214,-0.0461268688704242,-0.04530079456805693,-0.042064286248052626,-0.043766580367632264,-0.045500713407691636,-0.043277649211907396,-0.04607154342304841,-0.04569242927859244,-0.045830330856136775,-0.04475417609775584,-0.04516059105285418,-0.04299289886443228,-0.04232628508661495,-0.030066034416002457,-0.04408946138527565,-0.045550065043891454,-0.03431812692881116,-0.045201370668236734,-0.043790227493653744,-0.04453913592045429,-0.037946011120298336,-0.041688566277587547,-0.04466061660306179,-0.045695473308183854,-0.039628656814717944,-0.045171495044415554,-0.0414233552481839,-0.040536660923701985,-0.04297814713446131,-0.04596694489847619,-0.04584402073586005,-0.04596364137549812,-0.045114091791028196,-0.03765468395890525,-0.04579287480169077,-0.044081261540878276,-0.03825465727991477,-0.04346111885277683,-0.045401939408014756,-0.04210554374621092,-0.045844839850388425,-0.045958010417393905,-0.03325391884438091,-0.04427187828133043,-0.045860016020081606,-0.043447893940224226,0.005086004577798313,-0.04278967687083254,-0.04581311252230592,-0.04273462615444626,-0.04224786767006238,-0.04243225224657076,-0.03339020114214887,-0.043058470406094215,-0.044793854150358366,-0.04344051372782813,-0.04450189562795227,-0.043126472956732394,-0.044456753344201835,-0.043244632164931004,-0.042935223305109745,-0.0409679439107845,-0.043840540503384706,-0.045972411512835286,-0.04331910940811698,-0.04334748229254543,-0.04182924290635969,-0.041287692968004754,-0.03944156170282059,-0.045321529514030484,-0.0452258054515128,-0.04481150667784338,-0.04552886302787088,-0.044693532010127435,-0.04042377594769424,-0.0438891796889347,-0.04219803187013462,-0.04450921191986024,-0.045350455897272164,-0.04162830029996535,-0.04177186656563985,-0.04495295571413854,-0.04212991736072422,-0.04202339270254702,0.3109066364415921,-0.04592612921556723,-0.04205897307567974,-0.04458805408274195,-0.045071216754226616,-0.04106195877934923,-0.04539543046250587,-0.044845403275441356,-0.0443425204925551,-0.045171138077370984,-0.03969465541568738,-0.04323344163198024,-0.045452126868869985,-0.044418666835458684,-0.04440758656759384,-0.04622072220278997,-0.04575996149040542,-0.0326391484994491,-0.04465732382867092,-0.03637316866075035,-0.042542294781155586,-0.043271924792383974,-0.04313463474016183,-0.04115253312810342,-0.0425112887019208,-0.041439204721137164,-0.04065164504982563,-0.04078418506248823,-0.03818251945123954,-0.04477333239498074,-0.04482274201714705,-0.04460032914800871,-0.04049683936740925,-0.04475027849869244,-0.0447235940772218,-0.03676204323605311,-0.044421048472134184,-0.045587657405986796,-0.04462196125898781,-0.04351149921109849,-0.04402668181729426,-0.046069826052335276,-0.044940798145624565,-0.044302935759732216,-0.043355752884639706,-0.044391398973458895,-0.04481806409877667,-0.04447118157598905,-0.04554806630695808,0.005249693759033335,-0.044221378859154614,-0.043338320917281854,-0.03741894439561802,-0.04499077720611164,-0.04289369213880106,-0.03948809366472928,-0.04429135727386741,-0.04218035787554159,-0.030948658961570855,-0.04548591529595462,-0.041720429892469296,-0.025269549389711196,-0.030114604058681053,-0.013756857353866808,-0.04544474780350915,-0.0459372637938035,-0.04432291881723217,-0.04184949900688788,-0.0417298766922226,-0.0455181420186084,-0.04273374232000037,-0.04306313561637983,-0.04561413498098016,-0.04540744878692607,-0.04103030655023622,-0.04097282228613352,-0.04452720997245844,-0.04471766051716717,-0.04476648843220053,-0.04567794899317314,-0.04222347514027154,-0.0459883081934277,-0.041775442245003264,-0.044429357446159376,-0.044017966621194976,-0.040556018247486024,-0.04598878702569635,-0.04513291362183544,-0.04476777017849594,-0.04607128090587091,-0.04226800666203303,-0.015356285242708151,-0.04153606130387768,-0.043406919340530245,-0.043533517370866,-0.04595564255159917,-0.036026533417999586,-0.044721932269098826,-0.0437103552766803,-0.04357317834407141,-0.04327635695406144,-0.03930475949928476,-0.04603628852895599,-0.04092135546027245,-0.03943336252948737,-0.04317138315950352,-0.041438865737825466,-0.04490184958876303,-0.040951401316684496,-0.04035538206178207,-0.04546196554464914,-0.04469146316851976,-0.04549914737186585,-0.04481486274791743,-0.039333921249441926,-0.03893258294352253,-0.04276558236753465,-0.043701717990978356,-0.044151919581866476,-0.04339105806486519,-0.04426734733387145,-0.044912436713382756,-0.04409447492583952,-0.044552270356902714,-0.041633662934473424,-0.04371482724205756,-0.04624249238716399,-0.036443498291080345,-0.04161751637450996,-0.04028228044518403,-0.04624971271609687,-0.04468222768221121,-0.04160245623711253,-0.04234211368125323,-0.045240632445137964,-0.04436770109318039,-0.044842892596632246,-0.04506432755583533,21.928310012311414,-0.03179442718875341,-0.04504500531629909,-0.044208181726776694,-0.04486873132680331,-0.0452468370360506,-0.04249206602053945,-0.04501966290700265,-0.04321538473809444,-0.04552327063723233,-0.044839562677773656,-0.04482077558131132,-0.044429369340774134,-0.0442724544089348,-0.04417619342521485,-0.04495883371574291,-0.045807382129782276,-0.04400886660288425,-0.043825656814751056,-0.04275105998975582,-0.044252327117087556,-0.04510639340369068,-0.04337884754341211,-0.046088861560335606,-0.0456956171104604,-0.04373577038213402,-0.04352437141407579,-0.042339295936357935,-0.044939093130455625,-0.044103339345283536,-0.03773019217234507,-0.04247972776635832,-0.045292833258898144,-0.04400894051554395,-0.04416436455811006,-0.041834224645135545,-0.041976454830537205,-0.042920389395859855,-0.044653772385606236,-0.04060707226117731,-0.043827286602134155,-0.04007738041191951,-0.040129468626304725,-0.04497536193301119,-0.03363824152153444,-0.04337582821771345,-0.04332264379165977,-0.04343577796789912,-0.045870922911808866,-0.044806259171629115,-0.04143578990148603,-0.036971655544754345,-0.044557865378428096,-0.023513738138626745,0.03650043016986797,-0.04309383195794921,-0.0325725190882123,-0.03648163921453075,-0.04307305929668627,-0.04494202473862176,-0.044449997387226686,-0.04261166504370779,-0.03927859096439956,-0.04400137434699333,-0.041506723538733935,-0.043623557355364995,-0.04499155533249895,-0.04332912400769494,-0.044998067000563975,-0.04494632388451425,-0.04324257414167102,-0.04266446168287588,-0.0426683544311159,-0.044605324331396856,-0.041952189541337725,-0.04362021465252356,-0.04256259630486475,-0.045579805878593206,-0.04156743753930479,-0.045337505199024936,-0.040721667305264254,-0.03837576448289511,-0.03627658223457175,-0.045691669940639355,-0.03561622831667578,-0.04258708404495678,-0.04332589892534696,-0.04536377618883155,-0.04295553622942279,-0.04478620541947471,-0.04578110263205292,-0.043626896259737785,-0.04240453442295425,-0.04314259552264088,-0.044949286223861094,0.04211110471506244,-0.04435205535316588,-0.03753263020590867,-0.04373630947372579,-0.04488497610346872,-0.039205212523831745,-0.036774299570683865,-0.041262284938359366,-0.04286673591454613,-0.04117530585517247,-0.04210446223581796,-0.042512191466114416,-0.04520561514836567,-0.04318407568985751,-0.043693830621658124,-0.04388209049902073,-0.042388713363438864,-0.03903392106928863,-0.04325921895466803,-0.04116812587223964,-0.04084464947532756,-0.044940581882562634,-0.04133444527127736,-0.04433153067814824,-0.045787981872173616,-0.04346769845629949,-0.04471586485591748,-0.04337220007151184,-0.045489636321453045,-0.045225466194808495,-0.04315942733867918,-0.04403418956757155,-0.038578154713339495,-0.04569040852542844,-0.044078771947715235,-0.030105258698965357,-0.04540498470276195,-0.03244847226703501,-0.04475475562089995,-0.04049820409165852,-0.04589905576653474,-0.04572423881605128,-0.04461918015930369,-0.04016033074703336,-0.045242332354473065,-0.038123961009209444,-0.044062706063048025,-0.03817314810907791,-0.045705602444027785,-0.04490608703940935,-0.043954602663288864,-0.045814615680812396,-0.04471985671304873,-0.044478686175412945,-0.04459452981301136,-0.043388518412695025,-0.03710242561089944,-0.04608214825381649,-0.04135040484293111,-0.04572998474287517,-0.04429415380591173,-0.04590451194466517,-0.04546545558149272,-0.04490588603954043,-0.04391091588104194,-0.04264284640639311,-0.04443693813499337,-0.04446367892683823,-0.041845826323045524,-0.04488347419016839,-0.04236474268373349,-0.0449201736659082,-0.044649180346943554,-0.03842377993332444,-0.04595616764635756,-0.04152708206634869,-0.04362153704513155,-0.04575998431593765,-0.04369513940215286,-0.04532043631103147,-0.04261771546878277,-0.04508949209188638,-0.04323907782245647,-0.041234872792915434,-0.04340504201465192,-0.04288766005890828,-0.03582161038565214,-0.03490702726414236,-0.043743130525400374,0.3349138914587758,-0.045249741330918455,-0.04133555710521203,-0.04517748043506294,-0.04570621207533711,-0.04530070260350154,-0.04209077390741314,-0.04436433976900937,-0.04457958289987312,-0.04307140963759466,-0.038492406189178534,-0.044226818257850214,-0.042559871825440625,-0.04274496799728563,-0.04269337746901075,-0.04262910989378848,-0.04263760211492977,-0.0236512169783083,-0.0419934771431296,-0.04559205568276682,-0.045190494619287515,-0.03614304880874253,-0.045325336365371185,-0.04199520287914207,-0.04336771608495772,-0.04614009865379175,-0.04586981897155009,-0.04544610616783161,-0.03990963244764654,-0.04492370660551735,-0.04606606273206025,-0.044826333465778086,-0.04075860178676129,-0.04265999177661941,-0.044783267942554446,-0.04004750370185426,-0.04045943178225269,-0.044836860922168875,-0.04471460100594246,-0.043873290802321864,-0.04051560500394747,-0.045050106249917427,-0.04469396514342193,-0.039851328825850345,-0.045330407930546754,-0.021550475494803194,-0.044778886368362504,-0.04373128078122339,-0.044037665923162404,-0.04476578806021629,-0.0419874826504763,-0.04531489046458585,-0.042585944491887455,-0.04035065000694605,-0.04268365314982562,-0.04552448354906813,-0.04391871066506971,-0.04394273587934315,-0.04485521645868794],\"type\":\"scatter\"}],                        {\"legend\":{\"bgcolor\":\"#F5F6F9\",\"font\":{\"color\":\"#4D5663\"}},\"paper_bgcolor\":\"#F5F6F9\",\"plot_bgcolor\":\"#F5F6F9\",\"template\":{\"data\":{\"barpolar\":[{\"marker\":{\"line\":{\"color\":\"#E5ECF6\",\"width\":0.5},\"pattern\":{\"fillmode\":\"overlay\",\"size\":10,\"solidity\":0.2}},\"type\":\"barpolar\"}],\"bar\":[{\"error_x\":{\"color\":\"#2a3f5f\"},\"error_y\":{\"color\":\"#2a3f5f\"},\"marker\":{\"line\":{\"color\":\"#E5ECF6\",\"width\":0.5},\"pattern\":{\"fillmode\":\"overlay\",\"size\":10,\"solidity\":0.2}},\"type\":\"bar\"}],\"carpet\":[{\"aaxis\":{\"endlinecolor\":\"#2a3f5f\",\"gridcolor\":\"white\",\"linecolor\":\"white\",\"minorgridcolor\":\"white\",\"startlinecolor\":\"#2a3f5f\"},\"baxis\":{\"endlinecolor\":\"#2a3f5f\",\"gridcolor\":\"white\",\"linecolor\":\"white\",\"minorgridcolor\":\"white\",\"startlinecolor\":\"#2a3f5f\"},\"type\":\"carpet\"}],\"choropleth\":[{\"colorbar\":{\"outlinewidth\":0,\"ticks\":\"\"},\"type\":\"choropleth\"}],\"contourcarpet\":[{\"colorbar\":{\"outlinewidth\":0,\"ticks\":\"\"},\"type\":\"contourcarpet\"}],\"contour\":[{\"colorbar\":{\"outlinewidth\":0,\"ticks\":\"\"},\"colorscale\":[[0.0,\"#0d0887\"],[0.1111111111111111,\"#46039f\"],[0.2222222222222222,\"#7201a8\"],[0.3333333333333333,\"#9c179e\"],[0.4444444444444444,\"#bd3786\"],[0.5555555555555556,\"#d8576b\"],[0.6666666666666666,\"#ed7953\"],[0.7777777777777778,\"#fb9f3a\"],[0.8888888888888888,\"#fdca26\"],[1.0,\"#f0f921\"]],\"type\":\"contour\"}],\"heatmapgl\":[{\"colorbar\":{\"outlinewidth\":0,\"ticks\":\"\"},\"colorscale\":[[0.0,\"#0d0887\"],[0.1111111111111111,\"#46039f\"],[0.2222222222222222,\"#7201a8\"],[0.3333333333333333,\"#9c179e\"],[0.4444444444444444,\"#bd3786\"],[0.5555555555555556,\"#d8576b\"],[0.6666666666666666,\"#ed7953\"],[0.7777777777777778,\"#fb9f3a\"],[0.8888888888888888,\"#fdca26\"],[1.0,\"#f0f921\"]],\"type\":\"heatmapgl\"}],\"heatmap\":[{\"colorbar\":{\"outlinewidth\":0,\"ticks\":\"\"},\"colorscale\":[[0.0,\"#0d0887\"],[0.1111111111111111,\"#46039f\"],[0.2222222222222222,\"#7201a8\"],[0.3333333333333333,\"#9c179e\"],[0.4444444444444444,\"#bd3786\"],[0.5555555555555556,\"#d8576b\"],[0.6666666666666666,\"#ed7953\"],[0.7777777777777778,\"#fb9f3a\"],[0.8888888888888888,\"#fdca26\"],[1.0,\"#f0f921\"]],\"type\":\"heatmap\"}],\"histogram2dcontour\":[{\"colorbar\":{\"outlinewidth\":0,\"ticks\":\"\"},\"colorscale\":[[0.0,\"#0d0887\"],[0.1111111111111111,\"#46039f\"],[0.2222222222222222,\"#7201a8\"],[0.3333333333333333,\"#9c179e\"],[0.4444444444444444,\"#bd3786\"],[0.5555555555555556,\"#d8576b\"],[0.6666666666666666,\"#ed7953\"],[0.7777777777777778,\"#fb9f3a\"],[0.8888888888888888,\"#fdca26\"],[1.0,\"#f0f921\"]],\"type\":\"histogram2dcontour\"}],\"histogram2d\":[{\"colorbar\":{\"outlinewidth\":0,\"ticks\":\"\"},\"colorscale\":[[0.0,\"#0d0887\"],[0.1111111111111111,\"#46039f\"],[0.2222222222222222,\"#7201a8\"],[0.3333333333333333,\"#9c179e\"],[0.4444444444444444,\"#bd3786\"],[0.5555555555555556,\"#d8576b\"],[0.6666666666666666,\"#ed7953\"],[0.7777777777777778,\"#fb9f3a\"],[0.8888888888888888,\"#fdca26\"],[1.0,\"#f0f921\"]],\"type\":\"histogram2d\"}],\"histogram\":[{\"marker\":{\"pattern\":{\"fillmode\":\"overlay\",\"size\":10,\"solidity\":0.2}},\"type\":\"histogram\"}],\"mesh3d\":[{\"colorbar\":{\"outlinewidth\":0,\"ticks\":\"\"},\"type\":\"mesh3d\"}],\"parcoords\":[{\"line\":{\"colorbar\":{\"outlinewidth\":0,\"ticks\":\"\"}},\"type\":\"parcoords\"}],\"pie\":[{\"automargin\":true,\"type\":\"pie\"}],\"scatter3d\":[{\"line\":{\"colorbar\":{\"outlinewidth\":0,\"ticks\":\"\"}},\"marker\":{\"colorbar\":{\"outlinewidth\":0,\"ticks\":\"\"}},\"type\":\"scatter3d\"}],\"scattercarpet\":[{\"marker\":{\"colorbar\":{\"outlinewidth\":0,\"ticks\":\"\"}},\"type\":\"scattercarpet\"}],\"scattergeo\":[{\"marker\":{\"colorbar\":{\"outlinewidth\":0,\"ticks\":\"\"}},\"type\":\"scattergeo\"}],\"scattergl\":[{\"marker\":{\"colorbar\":{\"outlinewidth\":0,\"ticks\":\"\"}},\"type\":\"scattergl\"}],\"scattermapbox\":[{\"marker\":{\"colorbar\":{\"outlinewidth\":0,\"ticks\":\"\"}},\"type\":\"scattermapbox\"}],\"scatterpolargl\":[{\"marker\":{\"colorbar\":{\"outlinewidth\":0,\"ticks\":\"\"}},\"type\":\"scatterpolargl\"}],\"scatterpolar\":[{\"marker\":{\"colorbar\":{\"outlinewidth\":0,\"ticks\":\"\"}},\"type\":\"scatterpolar\"}],\"scatter\":[{\"marker\":{\"colorbar\":{\"outlinewidth\":0,\"ticks\":\"\"}},\"type\":\"scatter\"}],\"scatterternary\":[{\"marker\":{\"colorbar\":{\"outlinewidth\":0,\"ticks\":\"\"}},\"type\":\"scatterternary\"}],\"surface\":[{\"colorbar\":{\"outlinewidth\":0,\"ticks\":\"\"},\"colorscale\":[[0.0,\"#0d0887\"],[0.1111111111111111,\"#46039f\"],[0.2222222222222222,\"#7201a8\"],[0.3333333333333333,\"#9c179e\"],[0.4444444444444444,\"#bd3786\"],[0.5555555555555556,\"#d8576b\"],[0.6666666666666666,\"#ed7953\"],[0.7777777777777778,\"#fb9f3a\"],[0.8888888888888888,\"#fdca26\"],[1.0,\"#f0f921\"]],\"type\":\"surface\"}],\"table\":[{\"cells\":{\"fill\":{\"color\":\"#EBF0F8\"},\"line\":{\"color\":\"white\"}},\"header\":{\"fill\":{\"color\":\"#C8D4E3\"},\"line\":{\"color\":\"white\"}},\"type\":\"table\"}]},\"layout\":{\"annotationdefaults\":{\"arrowcolor\":\"#2a3f5f\",\"arrowhead\":0,\"arrowwidth\":1},\"autotypenumbers\":\"strict\",\"coloraxis\":{\"colorbar\":{\"outlinewidth\":0,\"ticks\":\"\"}},\"colorscale\":{\"diverging\":[[0,\"#8e0152\"],[0.1,\"#c51b7d\"],[0.2,\"#de77ae\"],[0.3,\"#f1b6da\"],[0.4,\"#fde0ef\"],[0.5,\"#f7f7f7\"],[0.6,\"#e6f5d0\"],[0.7,\"#b8e186\"],[0.8,\"#7fbc41\"],[0.9,\"#4d9221\"],[1,\"#276419\"]],\"sequential\":[[0.0,\"#0d0887\"],[0.1111111111111111,\"#46039f\"],[0.2222222222222222,\"#7201a8\"],[0.3333333333333333,\"#9c179e\"],[0.4444444444444444,\"#bd3786\"],[0.5555555555555556,\"#d8576b\"],[0.6666666666666666,\"#ed7953\"],[0.7777777777777778,\"#fb9f3a\"],[0.8888888888888888,\"#fdca26\"],[1.0,\"#f0f921\"]],\"sequentialminus\":[[0.0,\"#0d0887\"],[0.1111111111111111,\"#46039f\"],[0.2222222222222222,\"#7201a8\"],[0.3333333333333333,\"#9c179e\"],[0.4444444444444444,\"#bd3786\"],[0.5555555555555556,\"#d8576b\"],[0.6666666666666666,\"#ed7953\"],[0.7777777777777778,\"#fb9f3a\"],[0.8888888888888888,\"#fdca26\"],[1.0,\"#f0f921\"]]},\"colorway\":[\"#636efa\",\"#EF553B\",\"#00cc96\",\"#ab63fa\",\"#FFA15A\",\"#19d3f3\",\"#FF6692\",\"#B6E880\",\"#FF97FF\",\"#FECB52\"],\"font\":{\"color\":\"#2a3f5f\"},\"geo\":{\"bgcolor\":\"white\",\"lakecolor\":\"white\",\"landcolor\":\"#E5ECF6\",\"showlakes\":true,\"showland\":true,\"subunitcolor\":\"white\"},\"hoverlabel\":{\"align\":\"left\"},\"hovermode\":\"closest\",\"mapbox\":{\"style\":\"light\"},\"paper_bgcolor\":\"white\",\"plot_bgcolor\":\"#E5ECF6\",\"polar\":{\"angularaxis\":{\"gridcolor\":\"white\",\"linecolor\":\"white\",\"ticks\":\"\"},\"bgcolor\":\"#E5ECF6\",\"radialaxis\":{\"gridcolor\":\"white\",\"linecolor\":\"white\",\"ticks\":\"\"}},\"scene\":{\"xaxis\":{\"backgroundcolor\":\"#E5ECF6\",\"gridcolor\":\"white\",\"gridwidth\":2,\"linecolor\":\"white\",\"showbackground\":true,\"ticks\":\"\",\"zerolinecolor\":\"white\"},\"yaxis\":{\"backgroundcolor\":\"#E5ECF6\",\"gridcolor\":\"white\",\"gridwidth\":2,\"linecolor\":\"white\",\"showbackground\":true,\"ticks\":\"\",\"zerolinecolor\":\"white\"},\"zaxis\":{\"backgroundcolor\":\"#E5ECF6\",\"gridcolor\":\"white\",\"gridwidth\":2,\"linecolor\":\"white\",\"showbackground\":true,\"ticks\":\"\",\"zerolinecolor\":\"white\"}},\"shapedefaults\":{\"line\":{\"color\":\"#2a3f5f\"}},\"ternary\":{\"aaxis\":{\"gridcolor\":\"white\",\"linecolor\":\"white\",\"ticks\":\"\"},\"baxis\":{\"gridcolor\":\"white\",\"linecolor\":\"white\",\"ticks\":\"\"},\"bgcolor\":\"#E5ECF6\",\"caxis\":{\"gridcolor\":\"white\",\"linecolor\":\"white\",\"ticks\":\"\"}},\"title\":{\"x\":0.05},\"xaxis\":{\"automargin\":true,\"gridcolor\":\"white\",\"linecolor\":\"white\",\"ticks\":\"\",\"title\":{\"standoff\":15},\"zerolinecolor\":\"white\",\"zerolinewidth\":2},\"yaxis\":{\"automargin\":true,\"gridcolor\":\"white\",\"linecolor\":\"white\",\"ticks\":\"\",\"title\":{\"standoff\":15},\"zerolinecolor\":\"white\",\"zerolinewidth\":2}}},\"title\":{\"font\":{\"color\":\"#4D5663\"}},\"xaxis\":{\"gridcolor\":\"#E1E5ED\",\"showgrid\":true,\"tickfont\":{\"color\":\"#4D5663\"},\"title\":{\"font\":{\"color\":\"#4D5663\"},\"text\":\"\"},\"zerolinecolor\":\"#E1E5ED\"},\"yaxis\":{\"gridcolor\":\"#E1E5ED\",\"showgrid\":true,\"tickfont\":{\"color\":\"#4D5663\"},\"title\":{\"font\":{\"color\":\"#4D5663\"},\"text\":\"\"},\"zerolinecolor\":\"#E1E5ED\"}},                        {\"responsive\": true}                    ).then(function(){\n",
       "                            \n",
       "var gd = document.getElementById('23a2c2b0-e193-44e4-9868-aa25858eabe2');\n",
       "var x = new MutationObserver(function (mutations, observer) {{\n",
       "        var display = window.getComputedStyle(gd).display;\n",
       "        if (!display || display === 'none') {{\n",
       "            console.log([gd, 'removed!']);\n",
       "            Plotly.purge(gd);\n",
       "            observer.disconnect();\n",
       "        }}\n",
       "}});\n",
       "\n",
       "// Listen for the removal of the full notebook cells\n",
       "var notebookContainer = gd.closest('#notebook-container');\n",
       "if (notebookContainer) {{\n",
       "    x.observe(notebookContainer, {childList: true});\n",
       "}}\n",
       "\n",
       "// Listen for the clearing of the current output cell\n",
       "var outputEl = gd.closest('.output');\n",
       "if (outputEl) {{\n",
       "    x.observe(outputEl, {childList: true});\n",
       "}}\n",
       "\n",
       "                        }).then(function(){\n",
       "                            function downloadimage(format, height, width, filename) {var p = document.getElementById('23a2c2b0-e193-44e4-9868-aa25858eabe2');Plotly.downloadImage(p, {format: format, height: height, width: width, filename: filename});};if(document.readyState == 'complete') {downloadimage('png', 600, 800, 'ply_01');}\n",
       "                        })                };                });            </script>        </div>"
      ]
     },
     "metadata": {},
     "output_type": "display_data"
    }
   ],
   "source": [
    "plyo.iplot(\n",
    "    ticker_means['close'].iplot(asFigure=True),\n",
    "    image='png',\n",
    "    filename='ply_01'\n",
    ")"
   ]
  },
  {
   "cell_type": "code",
   "execution_count": 14,
   "metadata": {
    "colab": {
     "base_uri": "https://localhost:8080/",
     "height": 424
    },
    "id": "ZfAT7DwGbt5u",
    "outputId": "44bd94a8-8875-4d22-dc4f-2408dffc3ab9"
   },
   "outputs": [
    {
     "data": {
      "application/vnd.plotly.v1+json": {
       "config": {
        "linkText": "Export to plot.ly",
        "plotlyServerURL": "https://plot.ly",
        "showLink": false
       },
       "data": [
        {
         "line": {
          "color": "rgba(255, 153, 51, 1.0)",
          "dash": "solid",
          "shape": "linear",
          "width": 1.3
         },
         "mode": "lines",
         "name": "close",
         "text": "",
         "type": "scatter",
         "x": [
          "a",
          "aa",
          "aal",
          "aamc",
          "aame",
          "aan",
          "aaoi",
          "aaon",
          "aap",
          "aapl",
          "aat",
          "aau",
          "aaww",
          "aaxn",
          "ab",
          "abbv",
          "abc",
          "abcb",
          "abeo",
          "abev",
          "abg",
          "abio",
          "abm",
          "abmd",
          "abr",
          "abt",
          "abtx",
          "abus",
          "ac",
          "acad",
          "acbi",
          "acc",
          "acco",
          "acer",
          "achc",
          "achv",
          "acia",
          "aciw",
          "acls",
          "acm",
          "acmr",
          "acnb",
          "acor",
          "acre",
          "acrs",
          "acrx",
          "acst",
          "actg",
          "acu",
          "acv",
          "acy",
          "adbe",
          "adc",
          "ades",
          "adi",
          "adm",
          "adma",
          "admp",
          "adms",
          "adom",
          "adp",
          "adro",
          "ads",
          "adsk",
          "adsw",
          "adtn",
          "adus",
          "advm",
          "adx",
          "adxs",
          "ae",
          "aee",
          "aegn",
          "aehr",
          "aeis",
          "ael",
          "aem",
          "aemd",
          "aeo",
          "aep",
          "aeri",
          "aes",
          "aey",
          "aezs",
          "afb",
          "afg",
          "afh",
          "afhbl",
          "afi",
          "afl",
          "aft",
          "ag",
          "agco",
          "agen",
          "agfs",
          "agi",
          "agio",
          "agle",
          "agm",
          "agm-a",
          "agnc",
          "agncn",
          "agr",
          "agro",
          "agrx",
          "agtc",
          "agx",
          "agys",
          "ahc",
          "ahh",
          "ahpi",
          "aht",
          "ai",
          "aif",
          "aig",
          "aimc",
          "aimt",
          "ain",
          "ainc",
          "ainv",
          "air",
          "airg",
          "airi",
          "airt",
          "ait",
          "aiv",
          "aiw",
          "aiz",
          "ajg",
          "ajrd",
          "ajx",
          "akam",
          "akba",
          "akca",
          "aker",
          "akg",
          "akr",
          "akrx",
          "akts",
          "al",
          "alb",
          "albo",
          "alco",
          "aldx",
          "ale",
          "alex",
          "alg",
          "algn",
          "algt",
          "alim",
          "aljj",
          "alk",
          "all",
          "ally",
          "alna",
          "alny",
          "alo",
          "alot",
          "alpn",
          "alrm",
          "alrn",
          "alsk",
          "alsn",
          "alt",
          "altr",
          "alx",
          "alxn",
          "am",
          "amag",
          "amat",
          "amba",
          "ambc",
          "amc",
          "amcx",
          "amd",
          "ame",
          "amed",
          "amg",
          "amgn",
          "amh",
          "amkr",
          "amn",
          "amnb",
          "amot",
          "amov",
          "amp",
          "ampe",
          "amph",
          "amrb",
          "amrc",
          "amrk",
          "amrs",
          "ams",
          "amsc",
          "amsf",
          "amswa",
          "amt",
          "amtd",
          "amtx",
          "amwd",
          "amx",
          "amzn",
          "an",
          "anab",
          "anat",
          "ande",
          "anet",
          "anf",
          "angi",
          "ango",
          "anh",
          "anik",
          "anip",
          "anss",
          "anth",
          "antm",
          "any",
          "aobc",
          "aos",
          "aosl",
          "ap",
          "apa",
          "apam",
          "apd",
          "apdn",
          "apei",
          "apen",
          "aph",
          "aple",
          "apls",
          "apo",
          "apog",
          "appf",
          "appn",
          "apps",
          "aprn",
          "apt",
          "apto",
          "apts",
          "apvo",
          "aqb",
          "aqms",
          "aqn",
          "aqua",
          "ar",
          "ara",
          "aray",
          "arc",
          "arcb",
          "arcc",
          "arch",
          "arcw",
          "ardc",
          "ardx",
          "are",
          "ares",
          "ari",
          "arkr",
          "arl",
          "arlp",
          "armk",
          "arna",
          "arnc",
          "aroc",
          "arow",
          "arql",
          "arr",
          "artna",
          "artw",
          "arw",
          "arwr",
          "asa",
          "asb",
          "asfi",
          "asg",
          "asgn",
          "ash",
          "asix",
          "asm",
          "asmb",
          "asna",
          "aspn",
          "aspu",
          "asr",
          "asrv",
          "astc",
          "aste",
          "asur",
          "asx",
          "asys",
          "at",
          "atax",
          "atec",
          "aten",
          "atge",
          "athx",
          "ati",
          "atkr",
          "atlc",
          "atlo",
          "atni",
          "atnm",
          "atnx",
          "ato",
          "atom",
          "atos",
          "atr",
          "atra",
          "atrc",
          "atri",
          "atro",
          "atrs",
          "atsg",
          "atus",
          "atvi",
          "atxi",
          "aubn",
          "aug",
          "aumn",
          "auph",
          "auto",
          "auy",
          "ava",
          "avav",
          "avb",
          "avd",
          "aveo",
          "avgo",
          "avgr",
          "avid",
          "avk",
          "avnw",
          "avt",
          "avx",
          "avxl",
          "avy",
          "awf",
          "awi",
          "awk",
          "awr",
          "awre",
          "awx",
          "axas",
          "axdx",
          "axe",
          "axgn",
          "axl",
          "axp",
          "axr",
          "axsm",
          "axta",
          "axti",
          "axu",
          "ayi",
          "ayr",
          "aytu",
          "ayx",
          "azo",
          "azpn",
          "azrx",
          "azul",
          "azz",
          "b",
          "ba",
          "bac",
          "baf",
          "bah",
          "bak",
          "bam",
          "banc",
          "band",
          "banf",
          "banr",
          "banx",
          "basi",
          "batra",
          "batrk",
          "bax",
          "bb",
          "bbby",
          "bbd",
          "bbdo",
          "bbf",
          "bbgi",
          "bbk",
          "bbl",
          "bbn",
          "bbsi",
          "bbw",
          "bbx",
          "bby",
          "bc",
          "bcbp",
          "bcc",
          "bce",
          "bcei",
          "bcli",
          "bco",
          "bcor",
          "bcov",
          "bcpc",
          "bcrx",
          "bctf",
          "bcv",
          "bcx",
          "bdc",
          "bdge",
          "bdj",
          "bdl",
          "bdn",
          "bdr",
          "bdsi",
          "bdx",
          "beat",
          "bebe",
          "becn",
          "belfa",
          "belfb",
          "ben",
          "bep",
          "bery",
          "bf-a",
          "bf-b",
          "bfam",
          "bfin",
          "bfk",
          "bfo",
          "bfs",
          "bfy",
          "bfz",
          "bg",
          "bgb",
          "bgcp",
          "bgfv",
          "bgg",
          "bgh",
          "bgi",
          "bgio",
          "bgr",
          "bgs",
          "bgsf",
          "bgt",
          "bgx",
          "bgy",
          "bh",
          "bhb",
          "bhe",
          "bhf",
          "bhk",
          "bhlb",
          "bhp",
          "bhv",
          "bhvn",
          "bidu",
          "bif",
          "big",
          "biib",
          "bio",
          "bio-b",
          "bioc",
          "biol",
          "bit",
          "bjri",
          "bk",
          "bkcc",
          "bkd",
          "bke",
          "bkep",
          "bkepp",
          "bkh",
          "bki",
          "bkk",
          "bkn",
          "bksc",
          "bkt",
          "bku",
          "bkyi",
          "bl",
          "blbd",
          "blcm",
          "bld",
          "bldp",
          "bldr",
          "ble",
          "blfs",
          "blin",
          "blk",
          "blkb",
          "bll",
          "blmn",
          "blph",
          "blue",
          "blw",
          "bmch",
          "bme",
          "bmi",
          "bmo",
          "bmra",
          "bmrc",
          "bmrn",
          "bmtc",
          "bmy",
          "bned",
          "bnft",
          "bns",
          "bntc",
          "bny",
          "boch",
          "boe",
          "boh",
          "bokf",
          "bokfl",
          "bold",
          "bomn",
          "boom",
          "boot",
          "botj",
          "box",
          "bpfh",
          "bpmc",
          "bpmp",
          "bpmx",
          "bpop",
          "bprn",
          "bpt",
          "bpth",
          "bqh",
          "br",
          "brc",
          "brew",
          "brfs",
          "brg",
          "brid",
          "brk-a",
          "brk-b",
          "brkl",
          "brkr",
          "brks",
          "brn",
          "bro",
          "brt",
          "brx",
          "bsbr",
          "bsd",
          "bse",
          "bset",
          "bsl",
          "bsm",
          "bsmx",
          "bsqr",
          "bsrr",
          "bst",
          "bstc",
          "bsx",
          "bta",
          "bte",
          "btg",
          "btn",
          "bto",
          "btt",
          "btu",
          "btz",
          "bui",
          "burl",
          "buse",
          "bv",
          "bvsn",
          "bw",
          "bwa",
          "bwen",
          "bwfg",
          "bwg",
          "bwxt",
          "bx",
          "bxc",
          "bxmt",
          "bxmx",
          "bxp",
          "bxs",
          "by",
          "byd",
          "byfc",
          "bym",
          "bysi",
          "bzh",
          "bzm",
          "c",
          "cabo",
          "cac",
          "cacc",
          "caci",
          "cade",
          "cae",
          "caf",
          "cag",
          "cah",
          "cai",
          "cake",
          "cal",
          "cala",
          "calm",
          "calx",
          "camp",
          "capl",
          "capr",
          "car",
          "cara",
          "carg",
          "caro",
          "cars",
          "carv",
          "cash",
          "casi",
          "cass",
          "casy",
          "cat",
          "catb",
          "catc",
          "catm",
          "cato",
          "cats",
          "caty",
          "cban",
          "cbay",
          "cbb",
          "cbd",
          "cbfv",
          "cbh",
          "cbio",
          "cbl",
          "cbli",
          "cbm",
          "cbmg",
          "cboe",
          "cbrl",
          "cbsh",
          "cbshp",
          "cbt",
          "cbtx",
          "cbu",
          "cbz",
          "cc",
          "ccbg",
          "ccd",
          "ccf",
          "cci",
          "ccj",
          "cck",
          "ccl",
          "cclp",
          "ccmp",
          "ccne",
          "cco",
          "ccoi",
          "ccrn",
          "ccs",
          "ccur",
          "ccxi",
          "cde",
          "cdev",
          "cdk",
          "cdna",
          "cdns",
          "cdor",
          "cdr",
          "cdti",
          "cdtx",
          "cdw",
          "cdxc",
          "cdxs",
          "cdzi",
          "ce",
          "cece",
          "cei",
          "celc",
          "celg",
          "celh",
          "celp",
          "cem",
          "cemi",
          "cen",
          "cent",
          "centa",
          "cenx",
          "ceqp",
          "cerc",
          "cern",
          "cers",
          "cet",
          "cetx",
          "cetxp",
          "cev",
          "ceva",
          "cf",
          "cfbi",
          "cfbk",
          "cffi",
          "cffn",
          "cfg",
          "cfms",
          "cfnb",
          "cfr",
          "cfrx",
          "cfx",
          "cg",
          "cga",
          "cgbd",
          "cgix",
          "cgnx",
          "cgo",
          "chci",
          "chco",
          "chct",
          "chd",
          "chdn",
          "che",
          "chef",
          "chfs",
          "chgg",
          "chh",
          "chi",
          "chkr",
          "chma",
          "chmg",
          "chmi",
          "chn",
          "chrs",
          "chrw",
          "chs",
          "chscl",
          "chscm",
          "chscn",
          "chsco",
          "chscp",
          "chtr",
          "chuy",
          "chw",
          "chy",
          "ci",
          "cia",
          "cidm",
          "cien",
          "cif",
          "cig",
          "cig-c",
          "cigi",
          "cii",
          "cik",
          "cim",
          "cinf",
          "cinr",
          "cio",
          "cir",
          "cit",
          "civb",
          "cix",
          "cizn",
          "ckh",
          "ckpt",
          "ckx",
          "cl",
          "clar",
          "clbs",
          "clct",
          "cldr",
          "cldt",
          "cldx",
          "clf",
          "clfd",
          "clgx",
          "clh",
          "cli",
          "clir",
          "clm",
          "clmt",
          "clne"
         ],
         "y": [
          0.001756265893859831,
          0.0030673116422795287,
          0.0009458432294913458,
          0.0481734213178206,
          0.0001612195251052579,
          0.0010857445803271954,
          0.0026811683935148603,
          0.0014484705815094587,
          0.007106709422362856,
          0.006509349530875332,
          0.0013010287122405117,
          0.000136971022679194,
          0.0016607319714071736,
          0.0011835142844541853,
          0.0018459981384437289,
          0.0018609176882901787,
          0.004347127109336478,
          0.0015989504291095333,
          0.0005234358153083232,
          0.0002579159838294833,
          0.0034950877511117436,
          0.6021578694457128,
          0.001172847608979621,
          0.00611929976359157,
          0.0008320758298976537,
          0.001501368945548206,
          0.001088142006299192,
          0.0007681838533621373,
          0.00047280249739701884,
          0.0019215495806814628,
          0.0003299497512334398,
          0.0014400226673401096,
          0.0009798199331396233,
          0.32639768246942463,
          0.002690722255093183,
          0.05387596051959634,
          0.0032126719236118626,
          0.0008984556284545844,
          0.001256214848594775,
          0.0007192959437909251,
          2.6898873716836113e-05,
          0.000846417742254468,
          0.0012091324413027653,
          0.0002051903291766868,
          0.0006896801582202715,
          0.0004159652510543882,
          0.001382286156570337,
          0.0014338248790732157,
          0.0007482757914058156,
          0.0003704981593723159,
          0.0007507627399827444,
          0.00480605942467566,
          0.0014521378953187849,
          0.0002108264333609864,
          0.0024892168931264593,
          0.0012596735393075014,
          0.00037357412973394884,
          0.0011055934940898237,
          0.00047552192391468707,
          0.0005708103079950441,
          0.003668918317168364,
          0.001169352968015017,
          0.01320203424789013,
          0.0029479802115086346,
          0.0002346111575302751,
          0.0007719980431311386,
          0.0016524384799765438,
          0.00226230674515644,
          0.0003750121568283641,
          0.0013826897210354593,
          0.0021599016036519753,
          0.0015503390873233313,
          0.000398254502772837,
          0.00032407632021451974,
          0.002420857067388439,
          0.0010166618550826372,
          0.0021791418434696404,
          0.0003322367166945806,
          0.0005244207955303903,
          0.002051424252099392,
          0.0020966584480680275,
          0.00046136774810031375,
          0.0002016893099495579,
          0.10581759886282398,
          0.00025173587424413526,
          0.003414050909239772,
          0.0005237625438209871,
          3.677366201385416e-05,
          0.0003100261265005328,
          0.0019896279963395364,
          0.0002425962438205986,
          0.000891892856099119,
          0.002106418621727729,
          0.0013517203893547859,
          0.00039962937206025926,
          0.00046431071345488133,
          0.0040993456266891345,
          0.00023996013686920661,
          0.0020818118453900677,
          0.0022326107578563075,
          0.0005601101828330038,
          7.800884520767455e-05,
          0.0006360892823017956,
          0.0002328101873823514,
          0.00035038843596047554,
          0.0009045740820079487,
          0.002641662126570834,
          0.0006353689446025225,
          0.00028026718321686725,
          0.0003490221439100497,
          0.0005803459739102844,
          0.00029810243395194975,
          0.004065773637232197,
          0.00021445015224887454,
          0.07522371038116343,
          0.0014599218160520565,
          0.000647727558175609,
          0.001532578187256791,
          0.003874604491256845,
          0.000312479952963041,
          0.000973643168679298,
          0.0004851010281188827,
          0.00043859502842710075,
          0.0007959436561005136,
          0.0018918734365974466,
          0.0016288631035993415,
          0.0003575780127014522,
          0.003207914672818949,
          0.0018055379671063083,
          0.0009934601360084277,
          0.00019382481459704424,
          0.0024642595668528467,
          0.0008185572325879113,
          0.0007727545168820049,
          0.0001882824901558268,
          0.0003029258618493132,
          0.0010143201385971513,
          0.0019813108916508747,
          0.0002773462374762229,
          0.0009645948335024109,
          0.0036619518578701366,
          0.09692572626593376,
          0.0015498795850767048,
          0.00027000531568695,
          0.0018673533388351487,
          0.0014886327822189217,
          0.0031537367779785838,
          0.005743564612125305,
          0.008011031834556854,
          0.000418704276485787,
          9.033680530369378e-05,
          0.004135629721948901,
          0.002665171787865783,
          0.00036029771116512726,
          0.00013982082334513412,
          0.004773234860170622,
          0.0013705243975959038,
          0.0004661723671020072,
          0.0026565806960736,
          0.0014148447521670291,
          0.0001392168989277246,
          0.0005941247335387092,
          0.0008934992277824631,
          0.0003802702166412744,
          0.0001707158349245481,
          0.01360191967722509,
          0.009248116098360125,
          0.0007256387441329295,
          0.002388048731610004,
          0.001274545131202462,
          0.0035776542464709135,
          0.0006771634223280211,
          0.000761254180008283,
          0.001887148365491551,
          0.001167984525606828,
          0.0024936140901416297,
          0.0021112577077661595,
          0.007390627549405534,
          0.006618479030827064,
          0.00042176479719332224,
          0.00041058983552307666,
          0.0015703240160797162,
          0.0008867809845606818,
          0.0012049400665449194,
          0.0007144804726573279,
          0.005272943827073113,
          0.00036697866904950927,
          0.0004405006539028589,
          0.0008053331025369303,
          0.0004563108461200325,
          0.0005243839929952183,
          0.018881842087372952,
          0.0002298481745241397,
          0.017114100827510952,
          0.002408805055129792,
          0.00032034851686197567,
          0.004734021889905501,
          0.001427416892857013,
          0.0016827194252170023,
          0.0033450291619096157,
          0.0007151034032110027,
          0.03965488315245199,
          0.0023955157193206195,
          0.002068211610837767,
          0.003039810251927238,
          0.001769220220260975,
          0.00559557441958861,
          0.002434846254866371,
          0.0007579478133756844,
          0.0006019386779580764,
          0.00010511288228552267,
          0.002380121559293533,
          0.008340501170566028,
          0.004410509532913252,
          0.02468787507327813,
          0.00608365094944022,
          0.009224555747417177,
          0.0010322538367546538,
          0.0023046626006511047,
          0.0006141914183876978,
          0.0009669586705635957,
          0.0030012638768992773,
          0.0010562150675015685,
          0.004918925437427912,
          0.0017728395029351952,
          0.001188245711385758,
          0.025425456455491022,
          0.0029132061731303323,
          0.0001553013010872986,
          1.0608182744489517e-06,
          0.0009366920151337308,
          0.002215787819257902,
          0.0015047860624762797,
          0.00039328677902257276,
          0.00019589236570685816,
          0.0001885546578884992,
          0.00014399417649750914,
          0.0012728633625333134,
          0.0005759507727154692,
          0.00010990230230671142,
          0.00049221828170613,
          0.0006069709636646722,
          0.00014318758535543477,
          3.45641072169748e-05,
          0.002285648502574566,
          0.0006795858318546178,
          0.0006426611083033937,
          0.0013780961996788165,
          0.0013448917766415035,
          0.000481427021076492,
          0.0006681336701691386,
          0.000528298464331918,
          0.00019182222909204427,
          0.0008310922139158439,
          0.0030169202868600975,
          0.0003366660609622756,
          0.00044382290745692885,
          0.000788623589511736,
          0.00041688884909707767,
          0.0010280634955635226,
          0.0007297450005752138,
          0.0060678462930044315,
          0.0004511642997800361,
          0.0004141309727895946,
          0.0008006548097482544,
          0.000323840111934463,
          0.0005576338504161139,
          0.00095115471725185,
          0.0003887514959952367,
          0.0023889898134443386,
          0.0006253006048593664,
          0.0009506943268689488,
          0.0004699071100474671,
          0.0015613135359162965,
          0.00012560160022830486,
          0.002238131973590148,
          0.002348151354690754,
          0.0011892415806661375,
          6.765789946190877e-05,
          0.002764454925671339,
          0.0007665555287309116,
          0.00030607567459274115,
          0.00013136072921253594,
          0.007680939485227144,
          0.0001477833690732516,
          0.0028361463313456257,
          0.0015657259738619377,
          0.0005500738794206384,
          0.00021543927616678518,
          0.0006861376784247546,
          0.0004419864900749296,
          0.00011735019764559583,
          0.0031114407893943615,
          0.0003721589977468655,
          0.0017850806360022154,
          0.00017112961595905853,
          0.003222757755369385,
          0.0005102012200038639,
          0.001630583920699401,
          0.0006817027255472973,
          0.002872178897691971,
          0.0004324017536950078,
          0.0002178070279564804,
          0.0028832631471590693,
          0.0002315453547455795,
          0.004651949209226879,
          0.0027308815650355233,
          0.0017814264079939336,
          0.0008638480364928212,
          0.02257743950630394,
          0.002641289403205455,
          0.0001666580338313345,
          0.0007338731163089278,
          0.00048727640609987435,
          0.002043557289185523,
          0.00015687678905179167,
          0.000769728003046511,
          5.7572945046377e-05,
          0.0009826973105073003,
          0.00023780887143906706,
          0.0010392014007998282,
          0.0006272045882062806,
          0.0014188498573521199,
          0.0008312921965100601,
          0.006059538790969066,
          0.0009290005482958613,
          0.000870256419718447,
          0.010445029103013915,
          0.0009209371727106683,
          0.0020748276568960783,
          0.00037841847725303694,
          0.008878247056120283,
          0.0012717129318445767,
          0.0003368108743152244,
          0.00020935947022326806,
          0.002633921754678337,
          0.0003388092598401785,
          0.0019096365736548037,
          0.003100203255173758,
          0.001684490798131523,
          0.00018988751759524216,
          0.0002674324649691882,
          0.0002097946747469623,
          0.0013073374798651478,
          0.002766465629232684,
          0.0005491769534972596,
          0.0009937121878919868,
          0.0027954468566196208,
          0.0031419453917953984,
          0.00032253360615506463,
          0.00041107303416109396,
          0.0003105065270570308,
          0.00034005925255516193,
          0.01060283646215172,
          0.0009975075227965334,
          9.94202764653552e-05,
          0.0003477987945842207,
          0.03543031828746778,
          0.00243553264192693,
          7.65179041019056e-05,
          0.0003577721994153977,
          0.00268637309460436,
          0.001813088744085345,
          0.0066839182478804085,
          0.002114132243646736,
          0.00031191423688747133,
          0.0015011685466484984,
          0.0006856672147663478,
          0.0012670603108643594,
          0.0005849345461795694,
          "",
          0.001349166388025062,
          0.0018534540924808457,
          0.0003229199542255828,
          0.00034846143252092234,
          0.0005371532893896933,
          0.0005558506623299815,
          0.0015561824215116053,
          0.0048194948806061,
          0.002221121096291049,
          0.00033295058811818505,
          0.0002556613786073845,
          0.00029107765274627364,
          0.0004618109168044637,
          0.0003480503906449666,
          0.001797698129827691,
          0.0005262346976193873,
          0.002732396243107691,
          0.0012263154423028818,
          0.0001026702917618484,
          0.0014266554370646965,
          0.002332377487135877,
          0.0003436672200484062,
          0.0007773562310254748,
          0.00145454554023327,
          0.3119506191896339,
          0.00012260323607763077,
          0.0016879247402370552,
          0.0007448283013596471,
          0.000501111638489349,
          0.0034545780600019455,
          0.0006103900133433406,
          0.0003930740873702628,
          0.0004810518217294251,
          0.00017293316368270238,
          0.003094564461579863,
          0.0007735353012496124,
          0.00021631743022833687,
          0.0012084299527565113,
          0.0008359299048063604,
          9.664804490173537e-05,
          0.0004692625869034223,
          0.00631687129041159,
          0.0013637476371080731,
          0.007677057858137268,
          0.0017458282737583188,
          0.0008590471095529332,
          0.0008881302350999789,
          0.0014278549910892461,
          0.0005452763966723242,
          0.0018891587504261337,
          0.001768866021557166,
          0.0015799375058963292,
          0.0023974341128141876,
          0.0004583865652140988,
          0.00030705381996185113,
          0.0002858482051688801,
          0.001609365292997185,
          0.00032556788638124127,
          0.00031687013404062123,
          0.0022037610665909075,
          0.0001742746207379157,
          0.00038227247989490546,
          0.0006650504617319448,
          0.0007615018214231307,
          0.0002779539809733624,
          0.00034925524627052126,
          1.9459971368076437e-05,
          0.00036372634163547114,
          0.00181625300126153,
          0.00037761623720571216,
          0.00027254912730109097,
          0.00019715164477423648,
          0.000194776966788393,
          0.013683795139105219,
          0.0009028593674787381,
          0.0007607620443642936,
          0.0006377717438815295,
          0.0003009823263091262,
          0.0008095686906852383,
          0.002215220317787425,
          0.0003044460160372895,
          0.0008506030763069203,
          0.011048633105532016,
          0.00025773061251744693,
          0.0017520967314809737,
          0.016412798673836666,
          0.005947283511026458,
          0.002859982073611407,
          0.0009128685383010135,
          0.00035394386390361895,
          0.000283103350239893,
          0.001791157293461941,
          0.0012653773130963846,
          0.00019050988300717771,
          0.0016501295583215122,
          0.0015472400139775653,
          0.0001300925597099407,
          0.00011853696219634893,
          0.002070861121509281,
          0.0007075514447978005,
          0.0002946952781350904,
          0.0003366962132140064,
          0.0005670503790378269,
          0.00011591211080918499,
          0.0008230899970169103,
          7.752316402516717e-05,
          0.0005988402985848994,
          0.0005170092435020503,
          0.0007877847671649052,
          0.001669363526710934,
          0.0002644721763918912,
          0.0008453635913629483,
          0.0003339911044142703,
          0.00013830621515634894,
          0.0035247120703258855,
          0.014971131591833777,
          0.002976222378627052,
          0.0015903383829896055,
          0.00043927705274940897,
          0.00043527539988242486,
          0.0064075468291388115,
          0.00031589513408871497,
          0.0003580028476885669,
          0.00125886905974587,
          0.0013259432752710588,
          0.0018162792100205893,
          4.329091894264927e-05,
          0.001758726103245533,
          0.005121396416029904,
          0.0011027739625689137,
          0.002523759049290504,
          0.00031048497270131574,
          0.0014235074846016503,
          0.0015171832373876246,
          0.0008751818084855894,
          0.00026819692854960386,
          0.00035165330355531874,
          0.0002773428499198635,
          0.0020994767156204703,
          0.0019793701878464405,
          0.0001815807005490641,
          0.0005627851803968323,
          0.0002816139077827233,
          0.0014689789293155832,
          0.0010640068923841825,
          0.0004751240863377464,
          0.0004531350167746179,
          0.0010484717423943875,
          0.0020472745602942767,
          5.3576176368764384e-05,
          0.00014206004498868566,
          0.010120911693177354,
          0.00011404379019969278,
          0.0020852153545052655,
          0.00015211204784101848,
          0.0002484507721413678,
          0.002947206055495124,
          0.0006905451507524015,
          0.0006975307298734127,
          0.0008794371208179809,
          0.0001739010542858641,
          0.0003913559602222274,
          8.026597000758297,
          0.005365006136479435,
          0.00031964553015128634,
          0.0010341214928953615,
          0.000715319159379152,
          0.0011281990332793882,
          0.0011415832084527436,
          0.0007996256631391306,
          0.00037489774320956416,
          0.00025552400262747547,
          0.0003130831710998943,
          0.0002435475558527931,
          0.0014052854801794152,
          0.0002273460834084792,
          0.0003043200674663265,
          0.00027677642073184184,
          0.0002651271886798988,
          0.0008838809294483664,
          0.0004992532592190757,
          0.002262833990401087,
          0.0011061274609696367,
          0.00026132556410461715,
          0.0019411493519272238,
          9.737452715719121e-05,
          0.00021697328149185603,
          0.0010194843428825073,
          0.0003863545995779452,
          0.000377833836107764,
          0.00036072526380985065,
          0.00037874238954310795,
          0.0034383396916201777,
          0.0023856672206468933,
          0.0005858119868880278,
          0.0021322106619425132,
          0.000821555769626469,
          0.002235815332905296,
          0.006430370165560025,
          0.0009564333193637835,
          0.00015023566797752862,
          0.0014880932471650079,
          0.0013425615815239312,
          0.006174160723453445,
          0.006453640221713014,
          0.0003003032705636844,
          0.0040555534241882825,
          0.0007637071678952482,
          6.936217552290622e-05,
          0.0022224844652222273,
          0.0005264809693883629,
          0.00028558907299453754,
          0.001214940244055549,
          0.014285312902582151,
          0.00022325358252021568,
          0.026646426692049655,
          0.018014983339894906,
          0.0010158433660252453,
          0.011140008220725731,
          0.00358653975033352,
          0.00013184770961503653,
          0.0004315512404166093,
          0.0005609123024942506,
          0.0013021986187857514,
          0.002870806141394371,
          0.001041511810294313,
          0.001961978763390654,
          0.0012046049754268124,
          0.0008216060996293642,
          0.002253743716436629,
          0.0005487503692409024,
          0.001104951249605109,
          0.0005908661587978237,
          0.006852541204942632,
          0.0022755744358999206,
          0.0006495479305434825,
          0.00022877759772798817,
          0.001338910786304026,
          0.0002216002375610334,
          0.0003843319941799877,
          0.0030586124739146476,
          0.0012549394600659348,
          0.001962873565786394,
          0.005083774444095933,
          0.0030522994029716956,
          0.0005043309664875022,
          0.0001819775516336115,
          0.0020187153348549753,
          0.0011023325411931976,
          0.00047197223271953643,
          0.0013593496685732262,
          0.0010662833497864063,
          0.00041793349646012464,
          0.0006089747876347486,
          0.0019018158010773777,
          0.0005572891564026433,
          2.807975028815741e-05,
          0.08690016868648702,
          0.0009471801708975746,
          0.008881805573284109,
          0.0025136429509488014,
          0.0011705813699508917,
          0.0033976807682297304,
          0.006792603153393993,
          0.0012910865556121835,
          0.0002857700363513542,
          0.001651877680083003,
          5.067558987149289e-05,
          0.0017522700022163322,
          0.0003696321488904769,
          0.0024611966740121336,
          0.001223357279864842,
          0.0003029362675047626,
          0.0038047658076269366,
          0.003710000288123573,
          0.0012761333295487273,
          0.001996852714681553,
          0.0015405618426647001,
          0.0004986042960046137,
          0.0022024718939260913,
          0.0006285344562168607,
          0.00024100212207423628,
          0.0017757203627995811,
          0.0007205181026367468,
          0.000490001378702388,
          0.0005831767969066115,
          0.0004732184918940967,
          0.002226003379274099,
          0.00044040563761721895,
          0.0013925204775602571,
          0.00033111097131353396,
          0.0011461762166353204,
          0.01730236953595266,
          0.00042755140977887286,
          0.021250644870500737,
          0.0004667307727850842,
          0.0019599390266193633,
          0.00015931271458868957,
          0.0004219503518766837,
          0.0007808901194720766,
          0.003205517605788143,
          0.0005429229129062874,
          0.010959358714345398,
          0.00042948488997529436,
          0.005835376643690527,
          0.00011504495811368719,
          0.00048245665006114015,
          0.00046507141192906004,
          0.000267813128110135,
          0.0002974374959895919,
          0.0011406376780118861,
          0.0011468490820089991,
          0.002518467045524213,
          0.0037832589156004594,
          0.00022422733965226095,
          0.0031971434810554402,
          0.0003242630889321861,
          0.0006018267851473244,
          0.00017506856723858993,
          0.00011556327860547172,
          0.00025000426418334476,
          0.0014875282950845333,
          0.0022110029963631097,
          6.436104995859266e-05,
          0.0023430232108777593,
          0.0016116976996641465,
          0.00027398669850368457,
          0.0008939694470183844,
          0.0008954590301332893,
          0.0004082367729983003,
          0.0022213699115655127,
          0.0002029121732989425,
          0.002606783025503987,
          0.0005681540939265641,
          0.0005982461410550179,
          5.3441835640624424e-05,
          0.0007242570735681152,
          0.003440638384427485,
          0.0002452182563735649,
          0.005750291963861225,
          0.0017080783232129237,
          0.0005882931196688816,
          0.0020847608599263634,
          0.0067545009420314816,
          0.006798466009451821,
          0.0005299635937600517,
          0.30980006150934203,
          0.00039886615710046594,
          0.002070035245584252,
          0.0002622338872857021,
          0.0003357448480709162,
          0.001269291017302033,
          0.0008242229971084869,
          0.00033932364321653986,
          0.00055787720430064,
          0.0009492588778929209,
          0.0019763051155012685,
          0.0011066760554119845,
          0.00032330517396258367,
          0.00034992602028959414,
          0.00037879316155770655,
          0.00034769401726273113,
          0.0004732489007772663,
          0.01434775502079063,
          0.0008568503678911259,
          0.00020491691486350112,
          0.00024952933194855953,
          0.006717506424519125,
          0.00020330313087199196,
          0.005066418277911297,
          0.0011035211146933654,
          5.7729623614308903e-05,
          0.00020850463325134557,
          0.0005638223878328096,
          0.000987766501584431,
          0.000318218186622879,
          6.510639110606452e-05,
          0.0008489565406023242,
          0.0024245508129780925,
          0.00047771871352584856,
          0.00015852145002799733,
          0.0022568532431946316,
          0.0008320290754273264,
          0.0008828339712043888,
          0.0004717024464277096,
          0.00045324303287351493,
          0.0012819307257803713,
          0.0003432348254188819,
          0.00027965751401176744,
          0.002513934386111913,
          0.00032149551364116474,
          0.031046440724646386,
          0.0008625695035004235,
          0.00030686143110734596,
          0.000730859052542605,
          0.0011279312048614763,
          0.003517643796206402,
          0.000988154693512539,
          0.001345692807908844,
          0.0023776915346112237,
          0.0009117706569435445,
          0.0003072785637133955,
          0.0012961991249858535,
          0.0011942798917302948,
          0.0007563947166557941
         ]
        }
       ],
       "layout": {
        "legend": {
         "bgcolor": "#F5F6F9",
         "font": {
          "color": "#4D5663"
         }
        },
        "paper_bgcolor": "#F5F6F9",
        "plot_bgcolor": "#F5F6F9",
        "template": {
         "data": {
          "bar": [
           {
            "error_x": {
             "color": "#2a3f5f"
            },
            "error_y": {
             "color": "#2a3f5f"
            },
            "marker": {
             "line": {
              "color": "#E5ECF6",
              "width": 0.5
             },
             "pattern": {
              "fillmode": "overlay",
              "size": 10,
              "solidity": 0.2
             }
            },
            "type": "bar"
           }
          ],
          "barpolar": [
           {
            "marker": {
             "line": {
              "color": "#E5ECF6",
              "width": 0.5
             },
             "pattern": {
              "fillmode": "overlay",
              "size": 10,
              "solidity": 0.2
             }
            },
            "type": "barpolar"
           }
          ],
          "carpet": [
           {
            "aaxis": {
             "endlinecolor": "#2a3f5f",
             "gridcolor": "white",
             "linecolor": "white",
             "minorgridcolor": "white",
             "startlinecolor": "#2a3f5f"
            },
            "baxis": {
             "endlinecolor": "#2a3f5f",
             "gridcolor": "white",
             "linecolor": "white",
             "minorgridcolor": "white",
             "startlinecolor": "#2a3f5f"
            },
            "type": "carpet"
           }
          ],
          "choropleth": [
           {
            "colorbar": {
             "outlinewidth": 0,
             "ticks": ""
            },
            "type": "choropleth"
           }
          ],
          "contour": [
           {
            "colorbar": {
             "outlinewidth": 0,
             "ticks": ""
            },
            "colorscale": [
             [
              0,
              "#0d0887"
             ],
             [
              0.1111111111111111,
              "#46039f"
             ],
             [
              0.2222222222222222,
              "#7201a8"
             ],
             [
              0.3333333333333333,
              "#9c179e"
             ],
             [
              0.4444444444444444,
              "#bd3786"
             ],
             [
              0.5555555555555556,
              "#d8576b"
             ],
             [
              0.6666666666666666,
              "#ed7953"
             ],
             [
              0.7777777777777778,
              "#fb9f3a"
             ],
             [
              0.8888888888888888,
              "#fdca26"
             ],
             [
              1,
              "#f0f921"
             ]
            ],
            "type": "contour"
           }
          ],
          "contourcarpet": [
           {
            "colorbar": {
             "outlinewidth": 0,
             "ticks": ""
            },
            "type": "contourcarpet"
           }
          ],
          "heatmap": [
           {
            "colorbar": {
             "outlinewidth": 0,
             "ticks": ""
            },
            "colorscale": [
             [
              0,
              "#0d0887"
             ],
             [
              0.1111111111111111,
              "#46039f"
             ],
             [
              0.2222222222222222,
              "#7201a8"
             ],
             [
              0.3333333333333333,
              "#9c179e"
             ],
             [
              0.4444444444444444,
              "#bd3786"
             ],
             [
              0.5555555555555556,
              "#d8576b"
             ],
             [
              0.6666666666666666,
              "#ed7953"
             ],
             [
              0.7777777777777778,
              "#fb9f3a"
             ],
             [
              0.8888888888888888,
              "#fdca26"
             ],
             [
              1,
              "#f0f921"
             ]
            ],
            "type": "heatmap"
           }
          ],
          "heatmapgl": [
           {
            "colorbar": {
             "outlinewidth": 0,
             "ticks": ""
            },
            "colorscale": [
             [
              0,
              "#0d0887"
             ],
             [
              0.1111111111111111,
              "#46039f"
             ],
             [
              0.2222222222222222,
              "#7201a8"
             ],
             [
              0.3333333333333333,
              "#9c179e"
             ],
             [
              0.4444444444444444,
              "#bd3786"
             ],
             [
              0.5555555555555556,
              "#d8576b"
             ],
             [
              0.6666666666666666,
              "#ed7953"
             ],
             [
              0.7777777777777778,
              "#fb9f3a"
             ],
             [
              0.8888888888888888,
              "#fdca26"
             ],
             [
              1,
              "#f0f921"
             ]
            ],
            "type": "heatmapgl"
           }
          ],
          "histogram": [
           {
            "marker": {
             "pattern": {
              "fillmode": "overlay",
              "size": 10,
              "solidity": 0.2
             }
            },
            "type": "histogram"
           }
          ],
          "histogram2d": [
           {
            "colorbar": {
             "outlinewidth": 0,
             "ticks": ""
            },
            "colorscale": [
             [
              0,
              "#0d0887"
             ],
             [
              0.1111111111111111,
              "#46039f"
             ],
             [
              0.2222222222222222,
              "#7201a8"
             ],
             [
              0.3333333333333333,
              "#9c179e"
             ],
             [
              0.4444444444444444,
              "#bd3786"
             ],
             [
              0.5555555555555556,
              "#d8576b"
             ],
             [
              0.6666666666666666,
              "#ed7953"
             ],
             [
              0.7777777777777778,
              "#fb9f3a"
             ],
             [
              0.8888888888888888,
              "#fdca26"
             ],
             [
              1,
              "#f0f921"
             ]
            ],
            "type": "histogram2d"
           }
          ],
          "histogram2dcontour": [
           {
            "colorbar": {
             "outlinewidth": 0,
             "ticks": ""
            },
            "colorscale": [
             [
              0,
              "#0d0887"
             ],
             [
              0.1111111111111111,
              "#46039f"
             ],
             [
              0.2222222222222222,
              "#7201a8"
             ],
             [
              0.3333333333333333,
              "#9c179e"
             ],
             [
              0.4444444444444444,
              "#bd3786"
             ],
             [
              0.5555555555555556,
              "#d8576b"
             ],
             [
              0.6666666666666666,
              "#ed7953"
             ],
             [
              0.7777777777777778,
              "#fb9f3a"
             ],
             [
              0.8888888888888888,
              "#fdca26"
             ],
             [
              1,
              "#f0f921"
             ]
            ],
            "type": "histogram2dcontour"
           }
          ],
          "mesh3d": [
           {
            "colorbar": {
             "outlinewidth": 0,
             "ticks": ""
            },
            "type": "mesh3d"
           }
          ],
          "parcoords": [
           {
            "line": {
             "colorbar": {
              "outlinewidth": 0,
              "ticks": ""
             }
            },
            "type": "parcoords"
           }
          ],
          "pie": [
           {
            "automargin": true,
            "type": "pie"
           }
          ],
          "scatter": [
           {
            "marker": {
             "colorbar": {
              "outlinewidth": 0,
              "ticks": ""
             }
            },
            "type": "scatter"
           }
          ],
          "scatter3d": [
           {
            "line": {
             "colorbar": {
              "outlinewidth": 0,
              "ticks": ""
             }
            },
            "marker": {
             "colorbar": {
              "outlinewidth": 0,
              "ticks": ""
             }
            },
            "type": "scatter3d"
           }
          ],
          "scattercarpet": [
           {
            "marker": {
             "colorbar": {
              "outlinewidth": 0,
              "ticks": ""
             }
            },
            "type": "scattercarpet"
           }
          ],
          "scattergeo": [
           {
            "marker": {
             "colorbar": {
              "outlinewidth": 0,
              "ticks": ""
             }
            },
            "type": "scattergeo"
           }
          ],
          "scattergl": [
           {
            "marker": {
             "colorbar": {
              "outlinewidth": 0,
              "ticks": ""
             }
            },
            "type": "scattergl"
           }
          ],
          "scattermapbox": [
           {
            "marker": {
             "colorbar": {
              "outlinewidth": 0,
              "ticks": ""
             }
            },
            "type": "scattermapbox"
           }
          ],
          "scatterpolar": [
           {
            "marker": {
             "colorbar": {
              "outlinewidth": 0,
              "ticks": ""
             }
            },
            "type": "scatterpolar"
           }
          ],
          "scatterpolargl": [
           {
            "marker": {
             "colorbar": {
              "outlinewidth": 0,
              "ticks": ""
             }
            },
            "type": "scatterpolargl"
           }
          ],
          "scatterternary": [
           {
            "marker": {
             "colorbar": {
              "outlinewidth": 0,
              "ticks": ""
             }
            },
            "type": "scatterternary"
           }
          ],
          "surface": [
           {
            "colorbar": {
             "outlinewidth": 0,
             "ticks": ""
            },
            "colorscale": [
             [
              0,
              "#0d0887"
             ],
             [
              0.1111111111111111,
              "#46039f"
             ],
             [
              0.2222222222222222,
              "#7201a8"
             ],
             [
              0.3333333333333333,
              "#9c179e"
             ],
             [
              0.4444444444444444,
              "#bd3786"
             ],
             [
              0.5555555555555556,
              "#d8576b"
             ],
             [
              0.6666666666666666,
              "#ed7953"
             ],
             [
              0.7777777777777778,
              "#fb9f3a"
             ],
             [
              0.8888888888888888,
              "#fdca26"
             ],
             [
              1,
              "#f0f921"
             ]
            ],
            "type": "surface"
           }
          ],
          "table": [
           {
            "cells": {
             "fill": {
              "color": "#EBF0F8"
             },
             "line": {
              "color": "white"
             }
            },
            "header": {
             "fill": {
              "color": "#C8D4E3"
             },
             "line": {
              "color": "white"
             }
            },
            "type": "table"
           }
          ]
         },
         "layout": {
          "annotationdefaults": {
           "arrowcolor": "#2a3f5f",
           "arrowhead": 0,
           "arrowwidth": 1
          },
          "autotypenumbers": "strict",
          "coloraxis": {
           "colorbar": {
            "outlinewidth": 0,
            "ticks": ""
           }
          },
          "colorscale": {
           "diverging": [
            [
             0,
             "#8e0152"
            ],
            [
             0.1,
             "#c51b7d"
            ],
            [
             0.2,
             "#de77ae"
            ],
            [
             0.3,
             "#f1b6da"
            ],
            [
             0.4,
             "#fde0ef"
            ],
            [
             0.5,
             "#f7f7f7"
            ],
            [
             0.6,
             "#e6f5d0"
            ],
            [
             0.7,
             "#b8e186"
            ],
            [
             0.8,
             "#7fbc41"
            ],
            [
             0.9,
             "#4d9221"
            ],
            [
             1,
             "#276419"
            ]
           ],
           "sequential": [
            [
             0,
             "#0d0887"
            ],
            [
             0.1111111111111111,
             "#46039f"
            ],
            [
             0.2222222222222222,
             "#7201a8"
            ],
            [
             0.3333333333333333,
             "#9c179e"
            ],
            [
             0.4444444444444444,
             "#bd3786"
            ],
            [
             0.5555555555555556,
             "#d8576b"
            ],
            [
             0.6666666666666666,
             "#ed7953"
            ],
            [
             0.7777777777777778,
             "#fb9f3a"
            ],
            [
             0.8888888888888888,
             "#fdca26"
            ],
            [
             1,
             "#f0f921"
            ]
           ],
           "sequentialminus": [
            [
             0,
             "#0d0887"
            ],
            [
             0.1111111111111111,
             "#46039f"
            ],
            [
             0.2222222222222222,
             "#7201a8"
            ],
            [
             0.3333333333333333,
             "#9c179e"
            ],
            [
             0.4444444444444444,
             "#bd3786"
            ],
            [
             0.5555555555555556,
             "#d8576b"
            ],
            [
             0.6666666666666666,
             "#ed7953"
            ],
            [
             0.7777777777777778,
             "#fb9f3a"
            ],
            [
             0.8888888888888888,
             "#fdca26"
            ],
            [
             1,
             "#f0f921"
            ]
           ]
          },
          "colorway": [
           "#636efa",
           "#EF553B",
           "#00cc96",
           "#ab63fa",
           "#FFA15A",
           "#19d3f3",
           "#FF6692",
           "#B6E880",
           "#FF97FF",
           "#FECB52"
          ],
          "font": {
           "color": "#2a3f5f"
          },
          "geo": {
           "bgcolor": "white",
           "lakecolor": "white",
           "landcolor": "#E5ECF6",
           "showlakes": true,
           "showland": true,
           "subunitcolor": "white"
          },
          "hoverlabel": {
           "align": "left"
          },
          "hovermode": "closest",
          "mapbox": {
           "style": "light"
          },
          "paper_bgcolor": "white",
          "plot_bgcolor": "#E5ECF6",
          "polar": {
           "angularaxis": {
            "gridcolor": "white",
            "linecolor": "white",
            "ticks": ""
           },
           "bgcolor": "#E5ECF6",
           "radialaxis": {
            "gridcolor": "white",
            "linecolor": "white",
            "ticks": ""
           }
          },
          "scene": {
           "xaxis": {
            "backgroundcolor": "#E5ECF6",
            "gridcolor": "white",
            "gridwidth": 2,
            "linecolor": "white",
            "showbackground": true,
            "ticks": "",
            "zerolinecolor": "white"
           },
           "yaxis": {
            "backgroundcolor": "#E5ECF6",
            "gridcolor": "white",
            "gridwidth": 2,
            "linecolor": "white",
            "showbackground": true,
            "ticks": "",
            "zerolinecolor": "white"
           },
           "zaxis": {
            "backgroundcolor": "#E5ECF6",
            "gridcolor": "white",
            "gridwidth": 2,
            "linecolor": "white",
            "showbackground": true,
            "ticks": "",
            "zerolinecolor": "white"
           }
          },
          "shapedefaults": {
           "line": {
            "color": "#2a3f5f"
           }
          },
          "ternary": {
           "aaxis": {
            "gridcolor": "white",
            "linecolor": "white",
            "ticks": ""
           },
           "baxis": {
            "gridcolor": "white",
            "linecolor": "white",
            "ticks": ""
           },
           "bgcolor": "#E5ECF6",
           "caxis": {
            "gridcolor": "white",
            "linecolor": "white",
            "ticks": ""
           }
          },
          "title": {
           "x": 0.05
          },
          "xaxis": {
           "automargin": true,
           "gridcolor": "white",
           "linecolor": "white",
           "ticks": "",
           "title": {
            "standoff": 15
           },
           "zerolinecolor": "white",
           "zerolinewidth": 2
          },
          "yaxis": {
           "automargin": true,
           "gridcolor": "white",
           "linecolor": "white",
           "ticks": "",
           "title": {
            "standoff": 15
           },
           "zerolinecolor": "white",
           "zerolinewidth": 2
          }
         }
        },
        "title": {
         "font": {
          "color": "#4D5663"
         }
        },
        "xaxis": {
         "gridcolor": "#E1E5ED",
         "showgrid": true,
         "tickfont": {
          "color": "#4D5663"
         },
         "title": {
          "font": {
           "color": "#4D5663"
          },
          "text": ""
         },
         "zerolinecolor": "#E1E5ED"
        },
        "yaxis": {
         "gridcolor": "#E1E5ED",
         "showgrid": true,
         "tickfont": {
          "color": "#4D5663"
         },
         "title": {
          "font": {
           "color": "#4D5663"
          },
          "text": ""
         },
         "zerolinecolor": "#E1E5ED"
        }
       }
      },
      "text/html": [
       "<div>                            <div id=\"4496c56c-fc00-4703-a9f4-618cf885f83c\" class=\"plotly-graph-div\" style=\"height:525px; width:100%;\"></div>            <script type=\"text/javascript\">                require([\"plotly\"], function(Plotly) {                    window.PLOTLYENV=window.PLOTLYENV || {};                                    if (document.getElementById(\"4496c56c-fc00-4703-a9f4-618cf885f83c\")) {                    Plotly.newPlot(                        \"4496c56c-fc00-4703-a9f4-618cf885f83c\",                        [{\"line\":{\"color\":\"rgba(255, 153, 51, 1.0)\",\"dash\":\"solid\",\"shape\":\"linear\",\"width\":1.3},\"mode\":\"lines\",\"name\":\"close\",\"text\":\"\",\"x\":[\"a\",\"aa\",\"aal\",\"aamc\",\"aame\",\"aan\",\"aaoi\",\"aaon\",\"aap\",\"aapl\",\"aat\",\"aau\",\"aaww\",\"aaxn\",\"ab\",\"abbv\",\"abc\",\"abcb\",\"abeo\",\"abev\",\"abg\",\"abio\",\"abm\",\"abmd\",\"abr\",\"abt\",\"abtx\",\"abus\",\"ac\",\"acad\",\"acbi\",\"acc\",\"acco\",\"acer\",\"achc\",\"achv\",\"acia\",\"aciw\",\"acls\",\"acm\",\"acmr\",\"acnb\",\"acor\",\"acre\",\"acrs\",\"acrx\",\"acst\",\"actg\",\"acu\",\"acv\",\"acy\",\"adbe\",\"adc\",\"ades\",\"adi\",\"adm\",\"adma\",\"admp\",\"adms\",\"adom\",\"adp\",\"adro\",\"ads\",\"adsk\",\"adsw\",\"adtn\",\"adus\",\"advm\",\"adx\",\"adxs\",\"ae\",\"aee\",\"aegn\",\"aehr\",\"aeis\",\"ael\",\"aem\",\"aemd\",\"aeo\",\"aep\",\"aeri\",\"aes\",\"aey\",\"aezs\",\"afb\",\"afg\",\"afh\",\"afhbl\",\"afi\",\"afl\",\"aft\",\"ag\",\"agco\",\"agen\",\"agfs\",\"agi\",\"agio\",\"agle\",\"agm\",\"agm-a\",\"agnc\",\"agncn\",\"agr\",\"agro\",\"agrx\",\"agtc\",\"agx\",\"agys\",\"ahc\",\"ahh\",\"ahpi\",\"aht\",\"ai\",\"aif\",\"aig\",\"aimc\",\"aimt\",\"ain\",\"ainc\",\"ainv\",\"air\",\"airg\",\"airi\",\"airt\",\"ait\",\"aiv\",\"aiw\",\"aiz\",\"ajg\",\"ajrd\",\"ajx\",\"akam\",\"akba\",\"akca\",\"aker\",\"akg\",\"akr\",\"akrx\",\"akts\",\"al\",\"alb\",\"albo\",\"alco\",\"aldx\",\"ale\",\"alex\",\"alg\",\"algn\",\"algt\",\"alim\",\"aljj\",\"alk\",\"all\",\"ally\",\"alna\",\"alny\",\"alo\",\"alot\",\"alpn\",\"alrm\",\"alrn\",\"alsk\",\"alsn\",\"alt\",\"altr\",\"alx\",\"alxn\",\"am\",\"amag\",\"amat\",\"amba\",\"ambc\",\"amc\",\"amcx\",\"amd\",\"ame\",\"amed\",\"amg\",\"amgn\",\"amh\",\"amkr\",\"amn\",\"amnb\",\"amot\",\"amov\",\"amp\",\"ampe\",\"amph\",\"amrb\",\"amrc\",\"amrk\",\"amrs\",\"ams\",\"amsc\",\"amsf\",\"amswa\",\"amt\",\"amtd\",\"amtx\",\"amwd\",\"amx\",\"amzn\",\"an\",\"anab\",\"anat\",\"ande\",\"anet\",\"anf\",\"angi\",\"ango\",\"anh\",\"anik\",\"anip\",\"anss\",\"anth\",\"antm\",\"any\",\"aobc\",\"aos\",\"aosl\",\"ap\",\"apa\",\"apam\",\"apd\",\"apdn\",\"apei\",\"apen\",\"aph\",\"aple\",\"apls\",\"apo\",\"apog\",\"appf\",\"appn\",\"apps\",\"aprn\",\"apt\",\"apto\",\"apts\",\"apvo\",\"aqb\",\"aqms\",\"aqn\",\"aqua\",\"ar\",\"ara\",\"aray\",\"arc\",\"arcb\",\"arcc\",\"arch\",\"arcw\",\"ardc\",\"ardx\",\"are\",\"ares\",\"ari\",\"arkr\",\"arl\",\"arlp\",\"armk\",\"arna\",\"arnc\",\"aroc\",\"arow\",\"arql\",\"arr\",\"artna\",\"artw\",\"arw\",\"arwr\",\"asa\",\"asb\",\"asfi\",\"asg\",\"asgn\",\"ash\",\"asix\",\"asm\",\"asmb\",\"asna\",\"aspn\",\"aspu\",\"asr\",\"asrv\",\"astc\",\"aste\",\"asur\",\"asx\",\"asys\",\"at\",\"atax\",\"atec\",\"aten\",\"atge\",\"athx\",\"ati\",\"atkr\",\"atlc\",\"atlo\",\"atni\",\"atnm\",\"atnx\",\"ato\",\"atom\",\"atos\",\"atr\",\"atra\",\"atrc\",\"atri\",\"atro\",\"atrs\",\"atsg\",\"atus\",\"atvi\",\"atxi\",\"aubn\",\"aug\",\"aumn\",\"auph\",\"auto\",\"auy\",\"ava\",\"avav\",\"avb\",\"avd\",\"aveo\",\"avgo\",\"avgr\",\"avid\",\"avk\",\"avnw\",\"avt\",\"avx\",\"avxl\",\"avy\",\"awf\",\"awi\",\"awk\",\"awr\",\"awre\",\"awx\",\"axas\",\"axdx\",\"axe\",\"axgn\",\"axl\",\"axp\",\"axr\",\"axsm\",\"axta\",\"axti\",\"axu\",\"ayi\",\"ayr\",\"aytu\",\"ayx\",\"azo\",\"azpn\",\"azrx\",\"azul\",\"azz\",\"b\",\"ba\",\"bac\",\"baf\",\"bah\",\"bak\",\"bam\",\"banc\",\"band\",\"banf\",\"banr\",\"banx\",\"basi\",\"batra\",\"batrk\",\"bax\",\"bb\",\"bbby\",\"bbd\",\"bbdo\",\"bbf\",\"bbgi\",\"bbk\",\"bbl\",\"bbn\",\"bbsi\",\"bbw\",\"bbx\",\"bby\",\"bc\",\"bcbp\",\"bcc\",\"bce\",\"bcei\",\"bcli\",\"bco\",\"bcor\",\"bcov\",\"bcpc\",\"bcrx\",\"bctf\",\"bcv\",\"bcx\",\"bdc\",\"bdge\",\"bdj\",\"bdl\",\"bdn\",\"bdr\",\"bdsi\",\"bdx\",\"beat\",\"bebe\",\"becn\",\"belfa\",\"belfb\",\"ben\",\"bep\",\"bery\",\"bf-a\",\"bf-b\",\"bfam\",\"bfin\",\"bfk\",\"bfo\",\"bfs\",\"bfy\",\"bfz\",\"bg\",\"bgb\",\"bgcp\",\"bgfv\",\"bgg\",\"bgh\",\"bgi\",\"bgio\",\"bgr\",\"bgs\",\"bgsf\",\"bgt\",\"bgx\",\"bgy\",\"bh\",\"bhb\",\"bhe\",\"bhf\",\"bhk\",\"bhlb\",\"bhp\",\"bhv\",\"bhvn\",\"bidu\",\"bif\",\"big\",\"biib\",\"bio\",\"bio-b\",\"bioc\",\"biol\",\"bit\",\"bjri\",\"bk\",\"bkcc\",\"bkd\",\"bke\",\"bkep\",\"bkepp\",\"bkh\",\"bki\",\"bkk\",\"bkn\",\"bksc\",\"bkt\",\"bku\",\"bkyi\",\"bl\",\"blbd\",\"blcm\",\"bld\",\"bldp\",\"bldr\",\"ble\",\"blfs\",\"blin\",\"blk\",\"blkb\",\"bll\",\"blmn\",\"blph\",\"blue\",\"blw\",\"bmch\",\"bme\",\"bmi\",\"bmo\",\"bmra\",\"bmrc\",\"bmrn\",\"bmtc\",\"bmy\",\"bned\",\"bnft\",\"bns\",\"bntc\",\"bny\",\"boch\",\"boe\",\"boh\",\"bokf\",\"bokfl\",\"bold\",\"bomn\",\"boom\",\"boot\",\"botj\",\"box\",\"bpfh\",\"bpmc\",\"bpmp\",\"bpmx\",\"bpop\",\"bprn\",\"bpt\",\"bpth\",\"bqh\",\"br\",\"brc\",\"brew\",\"brfs\",\"brg\",\"brid\",\"brk-a\",\"brk-b\",\"brkl\",\"brkr\",\"brks\",\"brn\",\"bro\",\"brt\",\"brx\",\"bsbr\",\"bsd\",\"bse\",\"bset\",\"bsl\",\"bsm\",\"bsmx\",\"bsqr\",\"bsrr\",\"bst\",\"bstc\",\"bsx\",\"bta\",\"bte\",\"btg\",\"btn\",\"bto\",\"btt\",\"btu\",\"btz\",\"bui\",\"burl\",\"buse\",\"bv\",\"bvsn\",\"bw\",\"bwa\",\"bwen\",\"bwfg\",\"bwg\",\"bwxt\",\"bx\",\"bxc\",\"bxmt\",\"bxmx\",\"bxp\",\"bxs\",\"by\",\"byd\",\"byfc\",\"bym\",\"bysi\",\"bzh\",\"bzm\",\"c\",\"cabo\",\"cac\",\"cacc\",\"caci\",\"cade\",\"cae\",\"caf\",\"cag\",\"cah\",\"cai\",\"cake\",\"cal\",\"cala\",\"calm\",\"calx\",\"camp\",\"capl\",\"capr\",\"car\",\"cara\",\"carg\",\"caro\",\"cars\",\"carv\",\"cash\",\"casi\",\"cass\",\"casy\",\"cat\",\"catb\",\"catc\",\"catm\",\"cato\",\"cats\",\"caty\",\"cban\",\"cbay\",\"cbb\",\"cbd\",\"cbfv\",\"cbh\",\"cbio\",\"cbl\",\"cbli\",\"cbm\",\"cbmg\",\"cboe\",\"cbrl\",\"cbsh\",\"cbshp\",\"cbt\",\"cbtx\",\"cbu\",\"cbz\",\"cc\",\"ccbg\",\"ccd\",\"ccf\",\"cci\",\"ccj\",\"cck\",\"ccl\",\"cclp\",\"ccmp\",\"ccne\",\"cco\",\"ccoi\",\"ccrn\",\"ccs\",\"ccur\",\"ccxi\",\"cde\",\"cdev\",\"cdk\",\"cdna\",\"cdns\",\"cdor\",\"cdr\",\"cdti\",\"cdtx\",\"cdw\",\"cdxc\",\"cdxs\",\"cdzi\",\"ce\",\"cece\",\"cei\",\"celc\",\"celg\",\"celh\",\"celp\",\"cem\",\"cemi\",\"cen\",\"cent\",\"centa\",\"cenx\",\"ceqp\",\"cerc\",\"cern\",\"cers\",\"cet\",\"cetx\",\"cetxp\",\"cev\",\"ceva\",\"cf\",\"cfbi\",\"cfbk\",\"cffi\",\"cffn\",\"cfg\",\"cfms\",\"cfnb\",\"cfr\",\"cfrx\",\"cfx\",\"cg\",\"cga\",\"cgbd\",\"cgix\",\"cgnx\",\"cgo\",\"chci\",\"chco\",\"chct\",\"chd\",\"chdn\",\"che\",\"chef\",\"chfs\",\"chgg\",\"chh\",\"chi\",\"chkr\",\"chma\",\"chmg\",\"chmi\",\"chn\",\"chrs\",\"chrw\",\"chs\",\"chscl\",\"chscm\",\"chscn\",\"chsco\",\"chscp\",\"chtr\",\"chuy\",\"chw\",\"chy\",\"ci\",\"cia\",\"cidm\",\"cien\",\"cif\",\"cig\",\"cig-c\",\"cigi\",\"cii\",\"cik\",\"cim\",\"cinf\",\"cinr\",\"cio\",\"cir\",\"cit\",\"civb\",\"cix\",\"cizn\",\"ckh\",\"ckpt\",\"ckx\",\"cl\",\"clar\",\"clbs\",\"clct\",\"cldr\",\"cldt\",\"cldx\",\"clf\",\"clfd\",\"clgx\",\"clh\",\"cli\",\"clir\",\"clm\",\"clmt\",\"clne\"],\"y\":[0.001756265893859831,0.0030673116422795287,0.0009458432294913458,0.0481734213178206,0.0001612195251052579,0.0010857445803271954,0.0026811683935148603,0.0014484705815094587,0.007106709422362856,0.006509349530875332,0.0013010287122405117,0.000136971022679194,0.0016607319714071736,0.0011835142844541853,0.0018459981384437289,0.0018609176882901787,0.004347127109336478,0.0015989504291095333,0.0005234358153083232,0.0002579159838294833,0.0034950877511117436,0.6021578694457128,0.001172847608979621,0.00611929976359157,0.0008320758298976537,0.001501368945548206,0.001088142006299192,0.0007681838533621373,0.00047280249739701884,0.0019215495806814628,0.0003299497512334398,0.0014400226673401096,0.0009798199331396233,0.32639768246942463,0.002690722255093183,0.05387596051959634,0.0032126719236118626,0.0008984556284545844,0.001256214848594775,0.0007192959437909251,2.6898873716836113e-05,0.000846417742254468,0.0012091324413027653,0.0002051903291766868,0.0006896801582202715,0.0004159652510543882,0.001382286156570337,0.0014338248790732157,0.0007482757914058156,0.0003704981593723159,0.0007507627399827444,0.00480605942467566,0.0014521378953187849,0.0002108264333609864,0.0024892168931264593,0.0012596735393075014,0.00037357412973394884,0.0011055934940898237,0.00047552192391468707,0.0005708103079950441,0.003668918317168364,0.001169352968015017,0.01320203424789013,0.0029479802115086346,0.0002346111575302751,0.0007719980431311386,0.0016524384799765438,0.00226230674515644,0.0003750121568283641,0.0013826897210354593,0.0021599016036519753,0.0015503390873233313,0.000398254502772837,0.00032407632021451974,0.002420857067388439,0.0010166618550826372,0.0021791418434696404,0.0003322367166945806,0.0005244207955303903,0.002051424252099392,0.0020966584480680275,0.00046136774810031375,0.0002016893099495579,0.10581759886282398,0.00025173587424413526,0.003414050909239772,0.0005237625438209871,3.677366201385416e-05,0.0003100261265005328,0.0019896279963395364,0.0002425962438205986,0.000891892856099119,0.002106418621727729,0.0013517203893547859,0.00039962937206025926,0.00046431071345488133,0.0040993456266891345,0.00023996013686920661,0.0020818118453900677,0.0022326107578563075,0.0005601101828330038,7.800884520767455e-05,0.0006360892823017956,0.0002328101873823514,0.00035038843596047554,0.0009045740820079487,0.002641662126570834,0.0006353689446025225,0.00028026718321686725,0.0003490221439100497,0.0005803459739102844,0.00029810243395194975,0.004065773637232197,0.00021445015224887454,0.07522371038116343,0.0014599218160520565,0.000647727558175609,0.001532578187256791,0.003874604491256845,0.000312479952963041,0.000973643168679298,0.0004851010281188827,0.00043859502842710075,0.0007959436561005136,0.0018918734365974466,0.0016288631035993415,0.0003575780127014522,0.003207914672818949,0.0018055379671063083,0.0009934601360084277,0.00019382481459704424,0.0024642595668528467,0.0008185572325879113,0.0007727545168820049,0.0001882824901558268,0.0003029258618493132,0.0010143201385971513,0.0019813108916508747,0.0002773462374762229,0.0009645948335024109,0.0036619518578701366,0.09692572626593376,0.0015498795850767048,0.00027000531568695,0.0018673533388351487,0.0014886327822189217,0.0031537367779785838,0.005743564612125305,0.008011031834556854,0.000418704276485787,9.033680530369378e-05,0.004135629721948901,0.002665171787865783,0.00036029771116512726,0.00013982082334513412,0.004773234860170622,0.0013705243975959038,0.0004661723671020072,0.0026565806960736,0.0014148447521670291,0.0001392168989277246,0.0005941247335387092,0.0008934992277824631,0.0003802702166412744,0.0001707158349245481,0.01360191967722509,0.009248116098360125,0.0007256387441329295,0.002388048731610004,0.001274545131202462,0.0035776542464709135,0.0006771634223280211,0.000761254180008283,0.001887148365491551,0.001167984525606828,0.0024936140901416297,0.0021112577077661595,0.007390627549405534,0.006618479030827064,0.00042176479719332224,0.00041058983552307666,0.0015703240160797162,0.0008867809845606818,0.0012049400665449194,0.0007144804726573279,0.005272943827073113,0.00036697866904950927,0.0004405006539028589,0.0008053331025369303,0.0004563108461200325,0.0005243839929952183,0.018881842087372952,0.0002298481745241397,0.017114100827510952,0.002408805055129792,0.00032034851686197567,0.004734021889905501,0.001427416892857013,0.0016827194252170023,0.0033450291619096157,0.0007151034032110027,0.03965488315245199,0.0023955157193206195,0.002068211610837767,0.003039810251927238,0.001769220220260975,0.00559557441958861,0.002434846254866371,0.0007579478133756844,0.0006019386779580764,0.00010511288228552267,0.002380121559293533,0.008340501170566028,0.004410509532913252,0.02468787507327813,0.00608365094944022,0.009224555747417177,0.0010322538367546538,0.0023046626006511047,0.0006141914183876978,0.0009669586705635957,0.0030012638768992773,0.0010562150675015685,0.004918925437427912,0.0017728395029351952,0.001188245711385758,0.025425456455491022,0.0029132061731303323,0.0001553013010872986,1.0608182744489517e-06,0.0009366920151337308,0.002215787819257902,0.0015047860624762797,0.00039328677902257276,0.00019589236570685816,0.0001885546578884992,0.00014399417649750914,0.0012728633625333134,0.0005759507727154692,0.00010990230230671142,0.00049221828170613,0.0006069709636646722,0.00014318758535543477,3.45641072169748e-05,0.002285648502574566,0.0006795858318546178,0.0006426611083033937,0.0013780961996788165,0.0013448917766415035,0.000481427021076492,0.0006681336701691386,0.000528298464331918,0.00019182222909204427,0.0008310922139158439,0.0030169202868600975,0.0003366660609622756,0.00044382290745692885,0.000788623589511736,0.00041688884909707767,0.0010280634955635226,0.0007297450005752138,0.0060678462930044315,0.0004511642997800361,0.0004141309727895946,0.0008006548097482544,0.000323840111934463,0.0005576338504161139,0.00095115471725185,0.0003887514959952367,0.0023889898134443386,0.0006253006048593664,0.0009506943268689488,0.0004699071100474671,0.0015613135359162965,0.00012560160022830486,0.002238131973590148,0.002348151354690754,0.0011892415806661375,6.765789946190877e-05,0.002764454925671339,0.0007665555287309116,0.00030607567459274115,0.00013136072921253594,0.007680939485227144,0.0001477833690732516,0.0028361463313456257,0.0015657259738619377,0.0005500738794206384,0.00021543927616678518,0.0006861376784247546,0.0004419864900749296,0.00011735019764559583,0.0031114407893943615,0.0003721589977468655,0.0017850806360022154,0.00017112961595905853,0.003222757755369385,0.0005102012200038639,0.001630583920699401,0.0006817027255472973,0.002872178897691971,0.0004324017536950078,0.0002178070279564804,0.0028832631471590693,0.0002315453547455795,0.004651949209226879,0.0027308815650355233,0.0017814264079939336,0.0008638480364928212,0.02257743950630394,0.002641289403205455,0.0001666580338313345,0.0007338731163089278,0.00048727640609987435,0.002043557289185523,0.00015687678905179167,0.000769728003046511,5.7572945046377e-05,0.0009826973105073003,0.00023780887143906706,0.0010392014007998282,0.0006272045882062806,0.0014188498573521199,0.0008312921965100601,0.006059538790969066,0.0009290005482958613,0.000870256419718447,0.010445029103013915,0.0009209371727106683,0.0020748276568960783,0.00037841847725303694,0.008878247056120283,0.0012717129318445767,0.0003368108743152244,0.00020935947022326806,0.002633921754678337,0.0003388092598401785,0.0019096365736548037,0.003100203255173758,0.001684490798131523,0.00018988751759524216,0.0002674324649691882,0.0002097946747469623,0.0013073374798651478,0.002766465629232684,0.0005491769534972596,0.0009937121878919868,0.0027954468566196208,0.0031419453917953984,0.00032253360615506463,0.00041107303416109396,0.0003105065270570308,0.00034005925255516193,0.01060283646215172,0.0009975075227965334,9.94202764653552e-05,0.0003477987945842207,0.03543031828746778,0.00243553264192693,7.65179041019056e-05,0.0003577721994153977,0.00268637309460436,0.001813088744085345,0.0066839182478804085,0.002114132243646736,0.00031191423688747133,0.0015011685466484984,0.0006856672147663478,0.0012670603108643594,0.0005849345461795694,\"\",0.001349166388025062,0.0018534540924808457,0.0003229199542255828,0.00034846143252092234,0.0005371532893896933,0.0005558506623299815,0.0015561824215116053,0.0048194948806061,0.002221121096291049,0.00033295058811818505,0.0002556613786073845,0.00029107765274627364,0.0004618109168044637,0.0003480503906449666,0.001797698129827691,0.0005262346976193873,0.002732396243107691,0.0012263154423028818,0.0001026702917618484,0.0014266554370646965,0.002332377487135877,0.0003436672200484062,0.0007773562310254748,0.00145454554023327,0.3119506191896339,0.00012260323607763077,0.0016879247402370552,0.0007448283013596471,0.000501111638489349,0.0034545780600019455,0.0006103900133433406,0.0003930740873702628,0.0004810518217294251,0.00017293316368270238,0.003094564461579863,0.0007735353012496124,0.00021631743022833687,0.0012084299527565113,0.0008359299048063604,9.664804490173537e-05,0.0004692625869034223,0.00631687129041159,0.0013637476371080731,0.007677057858137268,0.0017458282737583188,0.0008590471095529332,0.0008881302350999789,0.0014278549910892461,0.0005452763966723242,0.0018891587504261337,0.001768866021557166,0.0015799375058963292,0.0023974341128141876,0.0004583865652140988,0.00030705381996185113,0.0002858482051688801,0.001609365292997185,0.00032556788638124127,0.00031687013404062123,0.0022037610665909075,0.0001742746207379157,0.00038227247989490546,0.0006650504617319448,0.0007615018214231307,0.0002779539809733624,0.00034925524627052126,1.9459971368076437e-05,0.00036372634163547114,0.00181625300126153,0.00037761623720571216,0.00027254912730109097,0.00019715164477423648,0.000194776966788393,0.013683795139105219,0.0009028593674787381,0.0007607620443642936,0.0006377717438815295,0.0003009823263091262,0.0008095686906852383,0.002215220317787425,0.0003044460160372895,0.0008506030763069203,0.011048633105532016,0.00025773061251744693,0.0017520967314809737,0.016412798673836666,0.005947283511026458,0.002859982073611407,0.0009128685383010135,0.00035394386390361895,0.000283103350239893,0.001791157293461941,0.0012653773130963846,0.00019050988300717771,0.0016501295583215122,0.0015472400139775653,0.0001300925597099407,0.00011853696219634893,0.002070861121509281,0.0007075514447978005,0.0002946952781350904,0.0003366962132140064,0.0005670503790378269,0.00011591211080918499,0.0008230899970169103,7.752316402516717e-05,0.0005988402985848994,0.0005170092435020503,0.0007877847671649052,0.001669363526710934,0.0002644721763918912,0.0008453635913629483,0.0003339911044142703,0.00013830621515634894,0.0035247120703258855,0.014971131591833777,0.002976222378627052,0.0015903383829896055,0.00043927705274940897,0.00043527539988242486,0.0064075468291388115,0.00031589513408871497,0.0003580028476885669,0.00125886905974587,0.0013259432752710588,0.0018162792100205893,4.329091894264927e-05,0.001758726103245533,0.005121396416029904,0.0011027739625689137,0.002523759049290504,0.00031048497270131574,0.0014235074846016503,0.0015171832373876246,0.0008751818084855894,0.00026819692854960386,0.00035165330355531874,0.0002773428499198635,0.0020994767156204703,0.0019793701878464405,0.0001815807005490641,0.0005627851803968323,0.0002816139077827233,0.0014689789293155832,0.0010640068923841825,0.0004751240863377464,0.0004531350167746179,0.0010484717423943875,0.0020472745602942767,5.3576176368764384e-05,0.00014206004498868566,0.010120911693177354,0.00011404379019969278,0.0020852153545052655,0.00015211204784101848,0.0002484507721413678,0.002947206055495124,0.0006905451507524015,0.0006975307298734127,0.0008794371208179809,0.0001739010542858641,0.0003913559602222274,8.026597000758297,0.005365006136479435,0.00031964553015128634,0.0010341214928953615,0.000715319159379152,0.0011281990332793882,0.0011415832084527436,0.0007996256631391306,0.00037489774320956416,0.00025552400262747547,0.0003130831710998943,0.0002435475558527931,0.0014052854801794152,0.0002273460834084792,0.0003043200674663265,0.00027677642073184184,0.0002651271886798988,0.0008838809294483664,0.0004992532592190757,0.002262833990401087,0.0011061274609696367,0.00026132556410461715,0.0019411493519272238,9.737452715719121e-05,0.00021697328149185603,0.0010194843428825073,0.0003863545995779452,0.000377833836107764,0.00036072526380985065,0.00037874238954310795,0.0034383396916201777,0.0023856672206468933,0.0005858119868880278,0.0021322106619425132,0.000821555769626469,0.002235815332905296,0.006430370165560025,0.0009564333193637835,0.00015023566797752862,0.0014880932471650079,0.0013425615815239312,0.006174160723453445,0.006453640221713014,0.0003003032705636844,0.0040555534241882825,0.0007637071678952482,6.936217552290622e-05,0.0022224844652222273,0.0005264809693883629,0.00028558907299453754,0.001214940244055549,0.014285312902582151,0.00022325358252021568,0.026646426692049655,0.018014983339894906,0.0010158433660252453,0.011140008220725731,0.00358653975033352,0.00013184770961503653,0.0004315512404166093,0.0005609123024942506,0.0013021986187857514,0.002870806141394371,0.001041511810294313,0.001961978763390654,0.0012046049754268124,0.0008216060996293642,0.002253743716436629,0.0005487503692409024,0.001104951249605109,0.0005908661587978237,0.006852541204942632,0.0022755744358999206,0.0006495479305434825,0.00022877759772798817,0.001338910786304026,0.0002216002375610334,0.0003843319941799877,0.0030586124739146476,0.0012549394600659348,0.001962873565786394,0.005083774444095933,0.0030522994029716956,0.0005043309664875022,0.0001819775516336115,0.0020187153348549753,0.0011023325411931976,0.00047197223271953643,0.0013593496685732262,0.0010662833497864063,0.00041793349646012464,0.0006089747876347486,0.0019018158010773777,0.0005572891564026433,2.807975028815741e-05,0.08690016868648702,0.0009471801708975746,0.008881805573284109,0.0025136429509488014,0.0011705813699508917,0.0033976807682297304,0.006792603153393993,0.0012910865556121835,0.0002857700363513542,0.001651877680083003,5.067558987149289e-05,0.0017522700022163322,0.0003696321488904769,0.0024611966740121336,0.001223357279864842,0.0003029362675047626,0.0038047658076269366,0.003710000288123573,0.0012761333295487273,0.001996852714681553,0.0015405618426647001,0.0004986042960046137,0.0022024718939260913,0.0006285344562168607,0.00024100212207423628,0.0017757203627995811,0.0007205181026367468,0.000490001378702388,0.0005831767969066115,0.0004732184918940967,0.002226003379274099,0.00044040563761721895,0.0013925204775602571,0.00033111097131353396,0.0011461762166353204,0.01730236953595266,0.00042755140977887286,0.021250644870500737,0.0004667307727850842,0.0019599390266193633,0.00015931271458868957,0.0004219503518766837,0.0007808901194720766,0.003205517605788143,0.0005429229129062874,0.010959358714345398,0.00042948488997529436,0.005835376643690527,0.00011504495811368719,0.00048245665006114015,0.00046507141192906004,0.000267813128110135,0.0002974374959895919,0.0011406376780118861,0.0011468490820089991,0.002518467045524213,0.0037832589156004594,0.00022422733965226095,0.0031971434810554402,0.0003242630889321861,0.0006018267851473244,0.00017506856723858993,0.00011556327860547172,0.00025000426418334476,0.0014875282950845333,0.0022110029963631097,6.436104995859266e-05,0.0023430232108777593,0.0016116976996641465,0.00027398669850368457,0.0008939694470183844,0.0008954590301332893,0.0004082367729983003,0.0022213699115655127,0.0002029121732989425,0.002606783025503987,0.0005681540939265641,0.0005982461410550179,5.3441835640624424e-05,0.0007242570735681152,0.003440638384427485,0.0002452182563735649,0.005750291963861225,0.0017080783232129237,0.0005882931196688816,0.0020847608599263634,0.0067545009420314816,0.006798466009451821,0.0005299635937600517,0.30980006150934203,0.00039886615710046594,0.002070035245584252,0.0002622338872857021,0.0003357448480709162,0.001269291017302033,0.0008242229971084869,0.00033932364321653986,0.00055787720430064,0.0009492588778929209,0.0019763051155012685,0.0011066760554119845,0.00032330517396258367,0.00034992602028959414,0.00037879316155770655,0.00034769401726273113,0.0004732489007772663,0.01434775502079063,0.0008568503678911259,0.00020491691486350112,0.00024952933194855953,0.006717506424519125,0.00020330313087199196,0.005066418277911297,0.0011035211146933654,5.7729623614308903e-05,0.00020850463325134557,0.0005638223878328096,0.000987766501584431,0.000318218186622879,6.510639110606452e-05,0.0008489565406023242,0.0024245508129780925,0.00047771871352584856,0.00015852145002799733,0.0022568532431946316,0.0008320290754273264,0.0008828339712043888,0.0004717024464277096,0.00045324303287351493,0.0012819307257803713,0.0003432348254188819,0.00027965751401176744,0.002513934386111913,0.00032149551364116474,0.031046440724646386,0.0008625695035004235,0.00030686143110734596,0.000730859052542605,0.0011279312048614763,0.003517643796206402,0.000988154693512539,0.001345692807908844,0.0023776915346112237,0.0009117706569435445,0.0003072785637133955,0.0012961991249858535,0.0011942798917302948,0.0007563947166557941],\"type\":\"scatter\"}],                        {\"legend\":{\"bgcolor\":\"#F5F6F9\",\"font\":{\"color\":\"#4D5663\"}},\"paper_bgcolor\":\"#F5F6F9\",\"plot_bgcolor\":\"#F5F6F9\",\"template\":{\"data\":{\"barpolar\":[{\"marker\":{\"line\":{\"color\":\"#E5ECF6\",\"width\":0.5},\"pattern\":{\"fillmode\":\"overlay\",\"size\":10,\"solidity\":0.2}},\"type\":\"barpolar\"}],\"bar\":[{\"error_x\":{\"color\":\"#2a3f5f\"},\"error_y\":{\"color\":\"#2a3f5f\"},\"marker\":{\"line\":{\"color\":\"#E5ECF6\",\"width\":0.5},\"pattern\":{\"fillmode\":\"overlay\",\"size\":10,\"solidity\":0.2}},\"type\":\"bar\"}],\"carpet\":[{\"aaxis\":{\"endlinecolor\":\"#2a3f5f\",\"gridcolor\":\"white\",\"linecolor\":\"white\",\"minorgridcolor\":\"white\",\"startlinecolor\":\"#2a3f5f\"},\"baxis\":{\"endlinecolor\":\"#2a3f5f\",\"gridcolor\":\"white\",\"linecolor\":\"white\",\"minorgridcolor\":\"white\",\"startlinecolor\":\"#2a3f5f\"},\"type\":\"carpet\"}],\"choropleth\":[{\"colorbar\":{\"outlinewidth\":0,\"ticks\":\"\"},\"type\":\"choropleth\"}],\"contourcarpet\":[{\"colorbar\":{\"outlinewidth\":0,\"ticks\":\"\"},\"type\":\"contourcarpet\"}],\"contour\":[{\"colorbar\":{\"outlinewidth\":0,\"ticks\":\"\"},\"colorscale\":[[0.0,\"#0d0887\"],[0.1111111111111111,\"#46039f\"],[0.2222222222222222,\"#7201a8\"],[0.3333333333333333,\"#9c179e\"],[0.4444444444444444,\"#bd3786\"],[0.5555555555555556,\"#d8576b\"],[0.6666666666666666,\"#ed7953\"],[0.7777777777777778,\"#fb9f3a\"],[0.8888888888888888,\"#fdca26\"],[1.0,\"#f0f921\"]],\"type\":\"contour\"}],\"heatmapgl\":[{\"colorbar\":{\"outlinewidth\":0,\"ticks\":\"\"},\"colorscale\":[[0.0,\"#0d0887\"],[0.1111111111111111,\"#46039f\"],[0.2222222222222222,\"#7201a8\"],[0.3333333333333333,\"#9c179e\"],[0.4444444444444444,\"#bd3786\"],[0.5555555555555556,\"#d8576b\"],[0.6666666666666666,\"#ed7953\"],[0.7777777777777778,\"#fb9f3a\"],[0.8888888888888888,\"#fdca26\"],[1.0,\"#f0f921\"]],\"type\":\"heatmapgl\"}],\"heatmap\":[{\"colorbar\":{\"outlinewidth\":0,\"ticks\":\"\"},\"colorscale\":[[0.0,\"#0d0887\"],[0.1111111111111111,\"#46039f\"],[0.2222222222222222,\"#7201a8\"],[0.3333333333333333,\"#9c179e\"],[0.4444444444444444,\"#bd3786\"],[0.5555555555555556,\"#d8576b\"],[0.6666666666666666,\"#ed7953\"],[0.7777777777777778,\"#fb9f3a\"],[0.8888888888888888,\"#fdca26\"],[1.0,\"#f0f921\"]],\"type\":\"heatmap\"}],\"histogram2dcontour\":[{\"colorbar\":{\"outlinewidth\":0,\"ticks\":\"\"},\"colorscale\":[[0.0,\"#0d0887\"],[0.1111111111111111,\"#46039f\"],[0.2222222222222222,\"#7201a8\"],[0.3333333333333333,\"#9c179e\"],[0.4444444444444444,\"#bd3786\"],[0.5555555555555556,\"#d8576b\"],[0.6666666666666666,\"#ed7953\"],[0.7777777777777778,\"#fb9f3a\"],[0.8888888888888888,\"#fdca26\"],[1.0,\"#f0f921\"]],\"type\":\"histogram2dcontour\"}],\"histogram2d\":[{\"colorbar\":{\"outlinewidth\":0,\"ticks\":\"\"},\"colorscale\":[[0.0,\"#0d0887\"],[0.1111111111111111,\"#46039f\"],[0.2222222222222222,\"#7201a8\"],[0.3333333333333333,\"#9c179e\"],[0.4444444444444444,\"#bd3786\"],[0.5555555555555556,\"#d8576b\"],[0.6666666666666666,\"#ed7953\"],[0.7777777777777778,\"#fb9f3a\"],[0.8888888888888888,\"#fdca26\"],[1.0,\"#f0f921\"]],\"type\":\"histogram2d\"}],\"histogram\":[{\"marker\":{\"pattern\":{\"fillmode\":\"overlay\",\"size\":10,\"solidity\":0.2}},\"type\":\"histogram\"}],\"mesh3d\":[{\"colorbar\":{\"outlinewidth\":0,\"ticks\":\"\"},\"type\":\"mesh3d\"}],\"parcoords\":[{\"line\":{\"colorbar\":{\"outlinewidth\":0,\"ticks\":\"\"}},\"type\":\"parcoords\"}],\"pie\":[{\"automargin\":true,\"type\":\"pie\"}],\"scatter3d\":[{\"line\":{\"colorbar\":{\"outlinewidth\":0,\"ticks\":\"\"}},\"marker\":{\"colorbar\":{\"outlinewidth\":0,\"ticks\":\"\"}},\"type\":\"scatter3d\"}],\"scattercarpet\":[{\"marker\":{\"colorbar\":{\"outlinewidth\":0,\"ticks\":\"\"}},\"type\":\"scattercarpet\"}],\"scattergeo\":[{\"marker\":{\"colorbar\":{\"outlinewidth\":0,\"ticks\":\"\"}},\"type\":\"scattergeo\"}],\"scattergl\":[{\"marker\":{\"colorbar\":{\"outlinewidth\":0,\"ticks\":\"\"}},\"type\":\"scattergl\"}],\"scattermapbox\":[{\"marker\":{\"colorbar\":{\"outlinewidth\":0,\"ticks\":\"\"}},\"type\":\"scattermapbox\"}],\"scatterpolargl\":[{\"marker\":{\"colorbar\":{\"outlinewidth\":0,\"ticks\":\"\"}},\"type\":\"scatterpolargl\"}],\"scatterpolar\":[{\"marker\":{\"colorbar\":{\"outlinewidth\":0,\"ticks\":\"\"}},\"type\":\"scatterpolar\"}],\"scatter\":[{\"marker\":{\"colorbar\":{\"outlinewidth\":0,\"ticks\":\"\"}},\"type\":\"scatter\"}],\"scatterternary\":[{\"marker\":{\"colorbar\":{\"outlinewidth\":0,\"ticks\":\"\"}},\"type\":\"scatterternary\"}],\"surface\":[{\"colorbar\":{\"outlinewidth\":0,\"ticks\":\"\"},\"colorscale\":[[0.0,\"#0d0887\"],[0.1111111111111111,\"#46039f\"],[0.2222222222222222,\"#7201a8\"],[0.3333333333333333,\"#9c179e\"],[0.4444444444444444,\"#bd3786\"],[0.5555555555555556,\"#d8576b\"],[0.6666666666666666,\"#ed7953\"],[0.7777777777777778,\"#fb9f3a\"],[0.8888888888888888,\"#fdca26\"],[1.0,\"#f0f921\"]],\"type\":\"surface\"}],\"table\":[{\"cells\":{\"fill\":{\"color\":\"#EBF0F8\"},\"line\":{\"color\":\"white\"}},\"header\":{\"fill\":{\"color\":\"#C8D4E3\"},\"line\":{\"color\":\"white\"}},\"type\":\"table\"}]},\"layout\":{\"annotationdefaults\":{\"arrowcolor\":\"#2a3f5f\",\"arrowhead\":0,\"arrowwidth\":1},\"autotypenumbers\":\"strict\",\"coloraxis\":{\"colorbar\":{\"outlinewidth\":0,\"ticks\":\"\"}},\"colorscale\":{\"diverging\":[[0,\"#8e0152\"],[0.1,\"#c51b7d\"],[0.2,\"#de77ae\"],[0.3,\"#f1b6da\"],[0.4,\"#fde0ef\"],[0.5,\"#f7f7f7\"],[0.6,\"#e6f5d0\"],[0.7,\"#b8e186\"],[0.8,\"#7fbc41\"],[0.9,\"#4d9221\"],[1,\"#276419\"]],\"sequential\":[[0.0,\"#0d0887\"],[0.1111111111111111,\"#46039f\"],[0.2222222222222222,\"#7201a8\"],[0.3333333333333333,\"#9c179e\"],[0.4444444444444444,\"#bd3786\"],[0.5555555555555556,\"#d8576b\"],[0.6666666666666666,\"#ed7953\"],[0.7777777777777778,\"#fb9f3a\"],[0.8888888888888888,\"#fdca26\"],[1.0,\"#f0f921\"]],\"sequentialminus\":[[0.0,\"#0d0887\"],[0.1111111111111111,\"#46039f\"],[0.2222222222222222,\"#7201a8\"],[0.3333333333333333,\"#9c179e\"],[0.4444444444444444,\"#bd3786\"],[0.5555555555555556,\"#d8576b\"],[0.6666666666666666,\"#ed7953\"],[0.7777777777777778,\"#fb9f3a\"],[0.8888888888888888,\"#fdca26\"],[1.0,\"#f0f921\"]]},\"colorway\":[\"#636efa\",\"#EF553B\",\"#00cc96\",\"#ab63fa\",\"#FFA15A\",\"#19d3f3\",\"#FF6692\",\"#B6E880\",\"#FF97FF\",\"#FECB52\"],\"font\":{\"color\":\"#2a3f5f\"},\"geo\":{\"bgcolor\":\"white\",\"lakecolor\":\"white\",\"landcolor\":\"#E5ECF6\",\"showlakes\":true,\"showland\":true,\"subunitcolor\":\"white\"},\"hoverlabel\":{\"align\":\"left\"},\"hovermode\":\"closest\",\"mapbox\":{\"style\":\"light\"},\"paper_bgcolor\":\"white\",\"plot_bgcolor\":\"#E5ECF6\",\"polar\":{\"angularaxis\":{\"gridcolor\":\"white\",\"linecolor\":\"white\",\"ticks\":\"\"},\"bgcolor\":\"#E5ECF6\",\"radialaxis\":{\"gridcolor\":\"white\",\"linecolor\":\"white\",\"ticks\":\"\"}},\"scene\":{\"xaxis\":{\"backgroundcolor\":\"#E5ECF6\",\"gridcolor\":\"white\",\"gridwidth\":2,\"linecolor\":\"white\",\"showbackground\":true,\"ticks\":\"\",\"zerolinecolor\":\"white\"},\"yaxis\":{\"backgroundcolor\":\"#E5ECF6\",\"gridcolor\":\"white\",\"gridwidth\":2,\"linecolor\":\"white\",\"showbackground\":true,\"ticks\":\"\",\"zerolinecolor\":\"white\"},\"zaxis\":{\"backgroundcolor\":\"#E5ECF6\",\"gridcolor\":\"white\",\"gridwidth\":2,\"linecolor\":\"white\",\"showbackground\":true,\"ticks\":\"\",\"zerolinecolor\":\"white\"}},\"shapedefaults\":{\"line\":{\"color\":\"#2a3f5f\"}},\"ternary\":{\"aaxis\":{\"gridcolor\":\"white\",\"linecolor\":\"white\",\"ticks\":\"\"},\"baxis\":{\"gridcolor\":\"white\",\"linecolor\":\"white\",\"ticks\":\"\"},\"bgcolor\":\"#E5ECF6\",\"caxis\":{\"gridcolor\":\"white\",\"linecolor\":\"white\",\"ticks\":\"\"}},\"title\":{\"x\":0.05},\"xaxis\":{\"automargin\":true,\"gridcolor\":\"white\",\"linecolor\":\"white\",\"ticks\":\"\",\"title\":{\"standoff\":15},\"zerolinecolor\":\"white\",\"zerolinewidth\":2},\"yaxis\":{\"automargin\":true,\"gridcolor\":\"white\",\"linecolor\":\"white\",\"ticks\":\"\",\"title\":{\"standoff\":15},\"zerolinecolor\":\"white\",\"zerolinewidth\":2}}},\"title\":{\"font\":{\"color\":\"#4D5663\"}},\"xaxis\":{\"gridcolor\":\"#E1E5ED\",\"showgrid\":true,\"tickfont\":{\"color\":\"#4D5663\"},\"title\":{\"font\":{\"color\":\"#4D5663\"},\"text\":\"\"},\"zerolinecolor\":\"#E1E5ED\"},\"yaxis\":{\"gridcolor\":\"#E1E5ED\",\"showgrid\":true,\"tickfont\":{\"color\":\"#4D5663\"},\"title\":{\"font\":{\"color\":\"#4D5663\"},\"text\":\"\"},\"zerolinecolor\":\"#E1E5ED\"}},                        {\"responsive\": true}                    ).then(function(){\n",
       "                            \n",
       "var gd = document.getElementById('4496c56c-fc00-4703-a9f4-618cf885f83c');\n",
       "var x = new MutationObserver(function (mutations, observer) {{\n",
       "        var display = window.getComputedStyle(gd).display;\n",
       "        if (!display || display === 'none') {{\n",
       "            console.log([gd, 'removed!']);\n",
       "            Plotly.purge(gd);\n",
       "            observer.disconnect();\n",
       "        }}\n",
       "}});\n",
       "\n",
       "// Listen for the removal of the full notebook cells\n",
       "var notebookContainer = gd.closest('#notebook-container');\n",
       "if (notebookContainer) {{\n",
       "    x.observe(notebookContainer, {childList: true});\n",
       "}}\n",
       "\n",
       "// Listen for the clearing of the current output cell\n",
       "var outputEl = gd.closest('.output');\n",
       "if (outputEl) {{\n",
       "    x.observe(outputEl, {childList: true});\n",
       "}}\n",
       "\n",
       "                        }).then(function(){\n",
       "                            function downloadimage(format, height, width, filename) {var p = document.getElementById('4496c56c-fc00-4703-a9f4-618cf885f83c');Plotly.downloadImage(p, {format: format, height: height, width: width, filename: filename});};if(document.readyState == 'complete') {downloadimage('png', 600, 800, 'ply_02');}\n",
       "                        })                };                });            </script>        </div>"
      ]
     },
     "metadata": {},
     "output_type": "display_data"
    }
   ],
   "source": [
    "plyo.iplot(\n",
    "    ticker_stds['close'].iplot(asFigure=True),\n",
    "    image='png',\n",
    "    filename='ply_02'\n",
    ")"
   ]
  },
  {
   "cell_type": "code",
   "execution_count": 15,
   "metadata": {
    "id": "pUtYP6RYfTYM"
   },
   "outputs": [
    {
     "data": {
      "application/vnd.plotly.v1+json": {
       "config": {
        "linkText": "Export to plot.ly",
        "plotlyServerURL": "https://plot.ly",
        "showLink": false
       },
       "data": [
        {
         "close": [
          -0.03724883856138729,
          -0.03717547762779041,
          -0.03699275039441414,
          -0.037021254642641964,
          -0.03703475665496041,
          -0.037001751735959765,
          -0.03691803925958541,
          -0.0369135385888126,
          -0.03685202942158412,
          -0.03672931113184538,
          -0.03678016871157819,
          -0.03679367072389663,
          -0.03673081135543632,
          -0.03666645176338507,
          -0.036684454446476326,
          -0.03652123011978225,
          -0.03651672944900943,
          -0.03662159507801602,
          -0.036585589711833504,
          -0.036543733473646325,
          -0.036525730790555065,
          -0.03651222877823662,
          -0.036524230566964126,
          -0.03654958434565098,
          -0.03657058747592412,
          -0.036727810908254444,
          -0.036820674748533525,
          -0.03677866848798725,
          -0.03684017765521572,
          -0.036807172736215074,
          -0.036687154848940015,
          -0.036645148588393746,
          -0.03654313338420995,
          -0.036562636290892146,
          -0.03646362153389022,
          -0.036433617062071454,
          -0.036427616167707705,
          -0.03642461572052583,
          -0.03628659515015951,
          -0.036369107447661114,
          -0.03638110923638862,
          -0.03649962690007274,
          -0.036451619745162714,
          -0.036385609907161436,
          -0.03633010163429672,
          -0.036364606776888304,
          -0.03631960006916015,
          -0.036309098504023585,
          -0.03626109134911357,
          -0.03622208553574917,
          -0.0362940962681142,
          -0.036213084194203535,
          -0.03621458441779448,
          -0.03619808195829416,
          -0.03616207659211164,
          -0.03618457994597571,
          -0.0361800792752029,
          -0.03620108240547603,
          -0.03629709671529608,
          -0.036396111472298
         ],
         "decreasing": {
          "line": {
           "color": "#808080"
          }
         },
         "high": [
          -0.03732512591468666,
          -0.037283502125026034,
          -0.03713162750898831,
          -0.03708015723145097,
          -0.037112232911655406,
          -0.037113724803757936,
          -0.03704897668650806,
          -0.03704077127994414,
          -0.03699601451686819,
          -0.036862042606060845,
          -0.036809975571682495,
          -0.03691425882964946,
          -0.03686502639026591,
          -0.03680027827301604,
          -0.036735530155766166,
          -0.036647657710927053,
          -0.03662527932938908,
          -0.03665511717143971,
          -0.03670718420581807,
          -0.0366685442003625,
          -0.03664318203461946,
          -0.03662095284229174,
          -0.03663423068200427,
          -0.036667052308259965,
          -0.036647657710927053,
          -0.03670270852951047,
          -0.03685159936134313,
          -0.03688740477180389,
          -0.03689337234021401,
          -0.036944693428541106,
          -0.03680669340905693,
          -0.03670076906977718,
          -0.036687342040854394,
          -0.03666943933562402,
          -0.036611255543625286,
          -0.03655307175162655,
          -0.03653964472270377,
          -0.03652323390957592,
          -0.03642924470711643,
          -0.03639642308086073,
          -0.03646355822547465,
          -0.036566498780549336,
          -0.03658067175552339,
          -0.036522487963524655,
          -0.03643968795183415,
          -0.03641730957029617,
          -0.036436704167629085,
          -0.03629199063368352,
          -0.0363949311887582,
          -0.036368077130912634,
          -0.03638001226773288,
          -0.036344206857272125,
          -0.03630392577050377,
          -0.03631287712311896,
          -0.03626961225214554,
          -0.03630243387840124,
          -0.036274087928453144,
          -0.036320336583631624,
          -0.036372552807220224,
          -0.036432228491321494
         ],
         "increasing": {
          "line": {
           "color": "#17BECF"
          }
         },
         "low": [
          -0.037242178751826095,
          -0.037139664571822356,
          -0.0370055959534964,
          -0.036892664279501115,
          -0.03693025784477495,
          -0.03688209580733578,
          -0.036836953333372426,
          -0.036829253446509114,
          -0.036773542500380424,
          -0.03669669460992106,
          -0.03665004235421981,
          -0.03671028264556221,
          -0.036674198862026275,
          -0.036607919443732255,
          -0.03655658686464349,
          -0.0364691705020188,
          -0.036396851956773155,
          -0.0364691705020188,
          -0.036506915045466416,
          -0.03643761606369659,
          -0.036425537809793344,
          -0.03638039533582999,
          -0.036414969337628014,
          -0.036436106281958675,
          -0.036424028028055444,
          -0.03661531737424799,
          -0.03669518482818316,
          -0.036674198862026275,
          -0.03668627711592952,
          -0.03672387068120335,
          -0.036618336937723796,
          -0.03650208374390512,
          -0.03648849570826398,
          -0.0364326337839615,
          -0.03641149683963083,
          -0.03635714469706626,
          -0.036326949062308156,
          -0.036308831681453296,
          -0.0362786360466952,
          -0.036225793685868535,
          -0.03624391106672339,
          -0.03636167404227997,
          -0.03634959578837673,
          -0.03635110557011464,
          -0.036198617614586245,
          -0.036219754558916906,
          -0.036227303467606435,
          -0.03620465674153786,
          -0.03617899045199348,
          -0.036147285035497474,
          -0.03619408826937253,
          -0.03612765787290471,
          -0.036082364420767565,
          -0.03608689376598128,
          -0.03605669813122318,
          -0.03602499271472718,
          -0.03605216878600946,
          -0.036092781914759106,
          -0.03622277412239272,
          -0.036254479538888724
         ],
         "name": "Trace 1",
         "open": [
          -0.03732390805472356,
          -0.03727455483892942,
          -0.03715769722463266,
          -0.037030488935898824,
          -0.03700798746973129,
          -0.03697963562236019,
          -0.036973635231382175,
          -0.03698263581784919,
          -0.036928632299047096,
          -0.03683892645392583,
          -0.03670406766669504,
          -0.036835926258436825,
          -0.03675507099000813,
          -0.036711568155417554,
          -0.03666671523285692,
          -0.03661436182157377,
          -0.03649900430502152,
          -0.03655285781404916,
          -0.03664271366894488,
          -0.036587360062172725,
          -0.036526006064422564,
          -0.03650200450051052,
          -0.036493003914043504,
          -0.03655735810728267,
          -0.03656185840051618,
          -0.03656935888923869,
          -0.036741570110307605,
          -0.03679842381482426,
          -0.03680142401031326,
          -0.03683892645392583,
          -0.03677592234865672,
          -0.036660414822330005,
          -0.036646913942629485,
          -0.0365419071005143,
          -0.036567408762170836,
          -0.03644590084486612,
          -0.03641739898772057,
          -0.03641739898772057,
          -0.03642189928095407,
          -0.03627488970199281,
          -0.03633939390500643,
          -0.03641739898772057,
          -0.03646240192005565,
          -0.03645340133358863,
          -0.03633939390500643,
          -0.036301891461393856,
          -0.0363228928298169,
          -0.036234387062891234,
          -0.03628989067943784,
          -0.03624938804033626,
          -0.036234387062891234,
          -0.03628839058169333,
          -0.036189384130556154,
          -0.036207385303490186,
          -0.036205885205745685,
          -0.03618638393506715,
          -0.03617138295762212,
          -0.03620438510800118,
          -0.036231386867402224,
          -0.036316892438838885
         ],
         "showlegend": true,
         "type": "candlestick",
         "x": [
          3179,
          3180,
          3181,
          3182,
          3183,
          3184,
          3185,
          3186,
          3187,
          3188,
          3189,
          3190,
          3191,
          3192,
          3193,
          3194,
          3195,
          3196,
          3197,
          3198,
          3199,
          3200,
          3201,
          3202,
          3203,
          3204,
          3205,
          3206,
          3207,
          3208,
          3209,
          3210,
          3211,
          3212,
          3213,
          3214,
          3215,
          3216,
          3217,
          3218,
          3219,
          3220,
          3221,
          3222,
          3223,
          3224,
          3225,
          3226,
          3227,
          3228,
          3229,
          3230,
          3231,
          3232,
          3233,
          3234,
          3235,
          3236,
          3237,
          3238
         ],
         "yaxis": "y2"
        }
       ],
       "layout": {
        "legend": {
         "bgcolor": "#F5F6F9",
         "font": {
          "color": "#4D5663"
         }
        },
        "margin": {
         "b": 30,
         "l": 30,
         "r": 30,
         "t": 30
        },
        "paper_bgcolor": "#F5F6F9",
        "plot_bgcolor": "#F5F6F9",
        "showlegend": true,
        "template": {
         "data": {
          "bar": [
           {
            "error_x": {
             "color": "#2a3f5f"
            },
            "error_y": {
             "color": "#2a3f5f"
            },
            "marker": {
             "line": {
              "color": "#E5ECF6",
              "width": 0.5
             },
             "pattern": {
              "fillmode": "overlay",
              "size": 10,
              "solidity": 0.2
             }
            },
            "type": "bar"
           }
          ],
          "barpolar": [
           {
            "marker": {
             "line": {
              "color": "#E5ECF6",
              "width": 0.5
             },
             "pattern": {
              "fillmode": "overlay",
              "size": 10,
              "solidity": 0.2
             }
            },
            "type": "barpolar"
           }
          ],
          "carpet": [
           {
            "aaxis": {
             "endlinecolor": "#2a3f5f",
             "gridcolor": "white",
             "linecolor": "white",
             "minorgridcolor": "white",
             "startlinecolor": "#2a3f5f"
            },
            "baxis": {
             "endlinecolor": "#2a3f5f",
             "gridcolor": "white",
             "linecolor": "white",
             "minorgridcolor": "white",
             "startlinecolor": "#2a3f5f"
            },
            "type": "carpet"
           }
          ],
          "choropleth": [
           {
            "colorbar": {
             "outlinewidth": 0,
             "ticks": ""
            },
            "type": "choropleth"
           }
          ],
          "contour": [
           {
            "colorbar": {
             "outlinewidth": 0,
             "ticks": ""
            },
            "colorscale": [
             [
              0,
              "#0d0887"
             ],
             [
              0.1111111111111111,
              "#46039f"
             ],
             [
              0.2222222222222222,
              "#7201a8"
             ],
             [
              0.3333333333333333,
              "#9c179e"
             ],
             [
              0.4444444444444444,
              "#bd3786"
             ],
             [
              0.5555555555555556,
              "#d8576b"
             ],
             [
              0.6666666666666666,
              "#ed7953"
             ],
             [
              0.7777777777777778,
              "#fb9f3a"
             ],
             [
              0.8888888888888888,
              "#fdca26"
             ],
             [
              1,
              "#f0f921"
             ]
            ],
            "type": "contour"
           }
          ],
          "contourcarpet": [
           {
            "colorbar": {
             "outlinewidth": 0,
             "ticks": ""
            },
            "type": "contourcarpet"
           }
          ],
          "heatmap": [
           {
            "colorbar": {
             "outlinewidth": 0,
             "ticks": ""
            },
            "colorscale": [
             [
              0,
              "#0d0887"
             ],
             [
              0.1111111111111111,
              "#46039f"
             ],
             [
              0.2222222222222222,
              "#7201a8"
             ],
             [
              0.3333333333333333,
              "#9c179e"
             ],
             [
              0.4444444444444444,
              "#bd3786"
             ],
             [
              0.5555555555555556,
              "#d8576b"
             ],
             [
              0.6666666666666666,
              "#ed7953"
             ],
             [
              0.7777777777777778,
              "#fb9f3a"
             ],
             [
              0.8888888888888888,
              "#fdca26"
             ],
             [
              1,
              "#f0f921"
             ]
            ],
            "type": "heatmap"
           }
          ],
          "heatmapgl": [
           {
            "colorbar": {
             "outlinewidth": 0,
             "ticks": ""
            },
            "colorscale": [
             [
              0,
              "#0d0887"
             ],
             [
              0.1111111111111111,
              "#46039f"
             ],
             [
              0.2222222222222222,
              "#7201a8"
             ],
             [
              0.3333333333333333,
              "#9c179e"
             ],
             [
              0.4444444444444444,
              "#bd3786"
             ],
             [
              0.5555555555555556,
              "#d8576b"
             ],
             [
              0.6666666666666666,
              "#ed7953"
             ],
             [
              0.7777777777777778,
              "#fb9f3a"
             ],
             [
              0.8888888888888888,
              "#fdca26"
             ],
             [
              1,
              "#f0f921"
             ]
            ],
            "type": "heatmapgl"
           }
          ],
          "histogram": [
           {
            "marker": {
             "pattern": {
              "fillmode": "overlay",
              "size": 10,
              "solidity": 0.2
             }
            },
            "type": "histogram"
           }
          ],
          "histogram2d": [
           {
            "colorbar": {
             "outlinewidth": 0,
             "ticks": ""
            },
            "colorscale": [
             [
              0,
              "#0d0887"
             ],
             [
              0.1111111111111111,
              "#46039f"
             ],
             [
              0.2222222222222222,
              "#7201a8"
             ],
             [
              0.3333333333333333,
              "#9c179e"
             ],
             [
              0.4444444444444444,
              "#bd3786"
             ],
             [
              0.5555555555555556,
              "#d8576b"
             ],
             [
              0.6666666666666666,
              "#ed7953"
             ],
             [
              0.7777777777777778,
              "#fb9f3a"
             ],
             [
              0.8888888888888888,
              "#fdca26"
             ],
             [
              1,
              "#f0f921"
             ]
            ],
            "type": "histogram2d"
           }
          ],
          "histogram2dcontour": [
           {
            "colorbar": {
             "outlinewidth": 0,
             "ticks": ""
            },
            "colorscale": [
             [
              0,
              "#0d0887"
             ],
             [
              0.1111111111111111,
              "#46039f"
             ],
             [
              0.2222222222222222,
              "#7201a8"
             ],
             [
              0.3333333333333333,
              "#9c179e"
             ],
             [
              0.4444444444444444,
              "#bd3786"
             ],
             [
              0.5555555555555556,
              "#d8576b"
             ],
             [
              0.6666666666666666,
              "#ed7953"
             ],
             [
              0.7777777777777778,
              "#fb9f3a"
             ],
             [
              0.8888888888888888,
              "#fdca26"
             ],
             [
              1,
              "#f0f921"
             ]
            ],
            "type": "histogram2dcontour"
           }
          ],
          "mesh3d": [
           {
            "colorbar": {
             "outlinewidth": 0,
             "ticks": ""
            },
            "type": "mesh3d"
           }
          ],
          "parcoords": [
           {
            "line": {
             "colorbar": {
              "outlinewidth": 0,
              "ticks": ""
             }
            },
            "type": "parcoords"
           }
          ],
          "pie": [
           {
            "automargin": true,
            "type": "pie"
           }
          ],
          "scatter": [
           {
            "marker": {
             "colorbar": {
              "outlinewidth": 0,
              "ticks": ""
             }
            },
            "type": "scatter"
           }
          ],
          "scatter3d": [
           {
            "line": {
             "colorbar": {
              "outlinewidth": 0,
              "ticks": ""
             }
            },
            "marker": {
             "colorbar": {
              "outlinewidth": 0,
              "ticks": ""
             }
            },
            "type": "scatter3d"
           }
          ],
          "scattercarpet": [
           {
            "marker": {
             "colorbar": {
              "outlinewidth": 0,
              "ticks": ""
             }
            },
            "type": "scattercarpet"
           }
          ],
          "scattergeo": [
           {
            "marker": {
             "colorbar": {
              "outlinewidth": 0,
              "ticks": ""
             }
            },
            "type": "scattergeo"
           }
          ],
          "scattergl": [
           {
            "marker": {
             "colorbar": {
              "outlinewidth": 0,
              "ticks": ""
             }
            },
            "type": "scattergl"
           }
          ],
          "scattermapbox": [
           {
            "marker": {
             "colorbar": {
              "outlinewidth": 0,
              "ticks": ""
             }
            },
            "type": "scattermapbox"
           }
          ],
          "scatterpolar": [
           {
            "marker": {
             "colorbar": {
              "outlinewidth": 0,
              "ticks": ""
             }
            },
            "type": "scatterpolar"
           }
          ],
          "scatterpolargl": [
           {
            "marker": {
             "colorbar": {
              "outlinewidth": 0,
              "ticks": ""
             }
            },
            "type": "scatterpolargl"
           }
          ],
          "scatterternary": [
           {
            "marker": {
             "colorbar": {
              "outlinewidth": 0,
              "ticks": ""
             }
            },
            "type": "scatterternary"
           }
          ],
          "surface": [
           {
            "colorbar": {
             "outlinewidth": 0,
             "ticks": ""
            },
            "colorscale": [
             [
              0,
              "#0d0887"
             ],
             [
              0.1111111111111111,
              "#46039f"
             ],
             [
              0.2222222222222222,
              "#7201a8"
             ],
             [
              0.3333333333333333,
              "#9c179e"
             ],
             [
              0.4444444444444444,
              "#bd3786"
             ],
             [
              0.5555555555555556,
              "#d8576b"
             ],
             [
              0.6666666666666666,
              "#ed7953"
             ],
             [
              0.7777777777777778,
              "#fb9f3a"
             ],
             [
              0.8888888888888888,
              "#fdca26"
             ],
             [
              1,
              "#f0f921"
             ]
            ],
            "type": "surface"
           }
          ],
          "table": [
           {
            "cells": {
             "fill": {
              "color": "#EBF0F8"
             },
             "line": {
              "color": "white"
             }
            },
            "header": {
             "fill": {
              "color": "#C8D4E3"
             },
             "line": {
              "color": "white"
             }
            },
            "type": "table"
           }
          ]
         },
         "layout": {
          "annotationdefaults": {
           "arrowcolor": "#2a3f5f",
           "arrowhead": 0,
           "arrowwidth": 1
          },
          "autotypenumbers": "strict",
          "coloraxis": {
           "colorbar": {
            "outlinewidth": 0,
            "ticks": ""
           }
          },
          "colorscale": {
           "diverging": [
            [
             0,
             "#8e0152"
            ],
            [
             0.1,
             "#c51b7d"
            ],
            [
             0.2,
             "#de77ae"
            ],
            [
             0.3,
             "#f1b6da"
            ],
            [
             0.4,
             "#fde0ef"
            ],
            [
             0.5,
             "#f7f7f7"
            ],
            [
             0.6,
             "#e6f5d0"
            ],
            [
             0.7,
             "#b8e186"
            ],
            [
             0.8,
             "#7fbc41"
            ],
            [
             0.9,
             "#4d9221"
            ],
            [
             1,
             "#276419"
            ]
           ],
           "sequential": [
            [
             0,
             "#0d0887"
            ],
            [
             0.1111111111111111,
             "#46039f"
            ],
            [
             0.2222222222222222,
             "#7201a8"
            ],
            [
             0.3333333333333333,
             "#9c179e"
            ],
            [
             0.4444444444444444,
             "#bd3786"
            ],
            [
             0.5555555555555556,
             "#d8576b"
            ],
            [
             0.6666666666666666,
             "#ed7953"
            ],
            [
             0.7777777777777778,
             "#fb9f3a"
            ],
            [
             0.8888888888888888,
             "#fdca26"
            ],
            [
             1,
             "#f0f921"
            ]
           ],
           "sequentialminus": [
            [
             0,
             "#0d0887"
            ],
            [
             0.1111111111111111,
             "#46039f"
            ],
            [
             0.2222222222222222,
             "#7201a8"
            ],
            [
             0.3333333333333333,
             "#9c179e"
            ],
            [
             0.4444444444444444,
             "#bd3786"
            ],
            [
             0.5555555555555556,
             "#d8576b"
            ],
            [
             0.6666666666666666,
             "#ed7953"
            ],
            [
             0.7777777777777778,
             "#fb9f3a"
            ],
            [
             0.8888888888888888,
             "#fdca26"
            ],
            [
             1,
             "#f0f921"
            ]
           ]
          },
          "colorway": [
           "#636efa",
           "#EF553B",
           "#00cc96",
           "#ab63fa",
           "#FFA15A",
           "#19d3f3",
           "#FF6692",
           "#B6E880",
           "#FF97FF",
           "#FECB52"
          ],
          "font": {
           "color": "#2a3f5f"
          },
          "geo": {
           "bgcolor": "white",
           "lakecolor": "white",
           "landcolor": "#E5ECF6",
           "showlakes": true,
           "showland": true,
           "subunitcolor": "white"
          },
          "hoverlabel": {
           "align": "left"
          },
          "hovermode": "closest",
          "mapbox": {
           "style": "light"
          },
          "paper_bgcolor": "white",
          "plot_bgcolor": "#E5ECF6",
          "polar": {
           "angularaxis": {
            "gridcolor": "white",
            "linecolor": "white",
            "ticks": ""
           },
           "bgcolor": "#E5ECF6",
           "radialaxis": {
            "gridcolor": "white",
            "linecolor": "white",
            "ticks": ""
           }
          },
          "scene": {
           "xaxis": {
            "backgroundcolor": "#E5ECF6",
            "gridcolor": "white",
            "gridwidth": 2,
            "linecolor": "white",
            "showbackground": true,
            "ticks": "",
            "zerolinecolor": "white"
           },
           "yaxis": {
            "backgroundcolor": "#E5ECF6",
            "gridcolor": "white",
            "gridwidth": 2,
            "linecolor": "white",
            "showbackground": true,
            "ticks": "",
            "zerolinecolor": "white"
           },
           "zaxis": {
            "backgroundcolor": "#E5ECF6",
            "gridcolor": "white",
            "gridwidth": 2,
            "linecolor": "white",
            "showbackground": true,
            "ticks": "",
            "zerolinecolor": "white"
           }
          },
          "shapedefaults": {
           "line": {
            "color": "#2a3f5f"
           }
          },
          "ternary": {
           "aaxis": {
            "gridcolor": "white",
            "linecolor": "white",
            "ticks": ""
           },
           "baxis": {
            "gridcolor": "white",
            "linecolor": "white",
            "ticks": ""
           },
           "bgcolor": "#E5ECF6",
           "caxis": {
            "gridcolor": "white",
            "linecolor": "white",
            "ticks": ""
           }
          },
          "title": {
           "x": 0.05
          },
          "xaxis": {
           "automargin": true,
           "gridcolor": "white",
           "linecolor": "white",
           "ticks": "",
           "title": {
            "standoff": 15
           },
           "zerolinecolor": "white",
           "zerolinewidth": 2
          },
          "yaxis": {
           "automargin": true,
           "gridcolor": "white",
           "linecolor": "white",
           "ticks": "",
           "title": {
            "standoff": 15
           },
           "zerolinecolor": "white",
           "zerolinewidth": 2
          }
         }
        },
        "title": {
         "font": {
          "color": "#4D5663"
         }
        },
        "xaxis": {
         "anchor": "y2",
         "gridcolor": "#E1E5ED",
         "rangeselector": {
          "bgcolor": "rgba(150, 200, 250, 1)",
          "buttons": [
           {
            "count": 1,
            "label": "1m",
            "step": "month",
            "stepmode": "backward"
           },
           {
            "count": 1,
            "label": "1y",
            "step": "year",
            "stepmode": "backward"
           }
          ],
          "font": {
           "size": 13
          },
          "visible": false,
          "x": 0,
          "y": 0.9
         },
         "rangeslider": {
          "visible": false
         },
         "showgrid": true,
         "tickfont": {
          "color": "#4D5663"
         },
         "title": {
          "font": {
           "color": "#4D5663"
          },
          "text": ""
         },
         "zerolinecolor": "#E1E5ED"
        },
        "yaxis": {
         "gridcolor": "#E1E5ED",
         "showgrid": true,
         "showticklabels": false,
         "tickfont": {
          "color": "#4D5663"
         },
         "title": {
          "font": {
           "color": "#4D5663"
          },
          "text": ""
         },
         "zerolinecolor": "#E1E5ED"
        },
        "yaxis2": {
         "domain": [
          0,
          0.9
         ],
         "gridcolor": "#E1E5ED",
         "showgrid": true,
         "tickfont": {
          "color": "#4D5663"
         },
         "title": {
          "font": {
           "color": "#4D5663"
          },
          "text": ""
         },
         "zerolinecolor": "#E1E5ED"
        }
       }
      },
      "text/html": [
       "<div>                            <div id=\"feb6c06d-c9b9-4006-8996-83dc1c046444\" class=\"plotly-graph-div\" style=\"height:525px; width:100%;\"></div>            <script type=\"text/javascript\">                require([\"plotly\"], function(Plotly) {                    window.PLOTLYENV=window.PLOTLYENV || {};                                    if (document.getElementById(\"feb6c06d-c9b9-4006-8996-83dc1c046444\")) {                    Plotly.newPlot(                        \"feb6c06d-c9b9-4006-8996-83dc1c046444\",                        [{\"close\":[-0.03724883856138729,-0.03717547762779041,-0.03699275039441414,-0.037021254642641964,-0.03703475665496041,-0.037001751735959765,-0.03691803925958541,-0.0369135385888126,-0.03685202942158412,-0.03672931113184538,-0.03678016871157819,-0.03679367072389663,-0.03673081135543632,-0.03666645176338507,-0.036684454446476326,-0.03652123011978225,-0.03651672944900943,-0.03662159507801602,-0.036585589711833504,-0.036543733473646325,-0.036525730790555065,-0.03651222877823662,-0.036524230566964126,-0.03654958434565098,-0.03657058747592412,-0.036727810908254444,-0.036820674748533525,-0.03677866848798725,-0.03684017765521572,-0.036807172736215074,-0.036687154848940015,-0.036645148588393746,-0.03654313338420995,-0.036562636290892146,-0.03646362153389022,-0.036433617062071454,-0.036427616167707705,-0.03642461572052583,-0.03628659515015951,-0.036369107447661114,-0.03638110923638862,-0.03649962690007274,-0.036451619745162714,-0.036385609907161436,-0.03633010163429672,-0.036364606776888304,-0.03631960006916015,-0.036309098504023585,-0.03626109134911357,-0.03622208553574917,-0.0362940962681142,-0.036213084194203535,-0.03621458441779448,-0.03619808195829416,-0.03616207659211164,-0.03618457994597571,-0.0361800792752029,-0.03620108240547603,-0.03629709671529608,-0.036396111472298],\"decreasing\":{\"line\":{\"color\":\"#808080\"}},\"high\":[-0.03732512591468666,-0.037283502125026034,-0.03713162750898831,-0.03708015723145097,-0.037112232911655406,-0.037113724803757936,-0.03704897668650806,-0.03704077127994414,-0.03699601451686819,-0.036862042606060845,-0.036809975571682495,-0.03691425882964946,-0.03686502639026591,-0.03680027827301604,-0.036735530155766166,-0.036647657710927053,-0.03662527932938908,-0.03665511717143971,-0.03670718420581807,-0.0366685442003625,-0.03664318203461946,-0.03662095284229174,-0.03663423068200427,-0.036667052308259965,-0.036647657710927053,-0.03670270852951047,-0.03685159936134313,-0.03688740477180389,-0.03689337234021401,-0.036944693428541106,-0.03680669340905693,-0.03670076906977718,-0.036687342040854394,-0.03666943933562402,-0.036611255543625286,-0.03655307175162655,-0.03653964472270377,-0.03652323390957592,-0.03642924470711643,-0.03639642308086073,-0.03646355822547465,-0.036566498780549336,-0.03658067175552339,-0.036522487963524655,-0.03643968795183415,-0.03641730957029617,-0.036436704167629085,-0.03629199063368352,-0.0363949311887582,-0.036368077130912634,-0.03638001226773288,-0.036344206857272125,-0.03630392577050377,-0.03631287712311896,-0.03626961225214554,-0.03630243387840124,-0.036274087928453144,-0.036320336583631624,-0.036372552807220224,-0.036432228491321494],\"increasing\":{\"line\":{\"color\":\"#17BECF\"}},\"low\":[-0.037242178751826095,-0.037139664571822356,-0.0370055959534964,-0.036892664279501115,-0.03693025784477495,-0.03688209580733578,-0.036836953333372426,-0.036829253446509114,-0.036773542500380424,-0.03669669460992106,-0.03665004235421981,-0.03671028264556221,-0.036674198862026275,-0.036607919443732255,-0.03655658686464349,-0.0364691705020188,-0.036396851956773155,-0.0364691705020188,-0.036506915045466416,-0.03643761606369659,-0.036425537809793344,-0.03638039533582999,-0.036414969337628014,-0.036436106281958675,-0.036424028028055444,-0.03661531737424799,-0.03669518482818316,-0.036674198862026275,-0.03668627711592952,-0.03672387068120335,-0.036618336937723796,-0.03650208374390512,-0.03648849570826398,-0.0364326337839615,-0.03641149683963083,-0.03635714469706626,-0.036326949062308156,-0.036308831681453296,-0.0362786360466952,-0.036225793685868535,-0.03624391106672339,-0.03636167404227997,-0.03634959578837673,-0.03635110557011464,-0.036198617614586245,-0.036219754558916906,-0.036227303467606435,-0.03620465674153786,-0.03617899045199348,-0.036147285035497474,-0.03619408826937253,-0.03612765787290471,-0.036082364420767565,-0.03608689376598128,-0.03605669813122318,-0.03602499271472718,-0.03605216878600946,-0.036092781914759106,-0.03622277412239272,-0.036254479538888724],\"name\":\"Trace 1\",\"open\":[-0.03732390805472356,-0.03727455483892942,-0.03715769722463266,-0.037030488935898824,-0.03700798746973129,-0.03697963562236019,-0.036973635231382175,-0.03698263581784919,-0.036928632299047096,-0.03683892645392583,-0.03670406766669504,-0.036835926258436825,-0.03675507099000813,-0.036711568155417554,-0.03666671523285692,-0.03661436182157377,-0.03649900430502152,-0.03655285781404916,-0.03664271366894488,-0.036587360062172725,-0.036526006064422564,-0.03650200450051052,-0.036493003914043504,-0.03655735810728267,-0.03656185840051618,-0.03656935888923869,-0.036741570110307605,-0.03679842381482426,-0.03680142401031326,-0.03683892645392583,-0.03677592234865672,-0.036660414822330005,-0.036646913942629485,-0.0365419071005143,-0.036567408762170836,-0.03644590084486612,-0.03641739898772057,-0.03641739898772057,-0.03642189928095407,-0.03627488970199281,-0.03633939390500643,-0.03641739898772057,-0.03646240192005565,-0.03645340133358863,-0.03633939390500643,-0.036301891461393856,-0.0363228928298169,-0.036234387062891234,-0.03628989067943784,-0.03624938804033626,-0.036234387062891234,-0.03628839058169333,-0.036189384130556154,-0.036207385303490186,-0.036205885205745685,-0.03618638393506715,-0.03617138295762212,-0.03620438510800118,-0.036231386867402224,-0.036316892438838885],\"showlegend\":true,\"x\":[3179,3180,3181,3182,3183,3184,3185,3186,3187,3188,3189,3190,3191,3192,3193,3194,3195,3196,3197,3198,3199,3200,3201,3202,3203,3204,3205,3206,3207,3208,3209,3210,3211,3212,3213,3214,3215,3216,3217,3218,3219,3220,3221,3222,3223,3224,3225,3226,3227,3228,3229,3230,3231,3232,3233,3234,3235,3236,3237,3238],\"yaxis\":\"y2\",\"type\":\"candlestick\"}],                        {\"legend\":{\"bgcolor\":\"#F5F6F9\",\"font\":{\"color\":\"#4D5663\"}},\"margin\":{\"b\":30,\"l\":30,\"r\":30,\"t\":30},\"paper_bgcolor\":\"#F5F6F9\",\"plot_bgcolor\":\"#F5F6F9\",\"showlegend\":true,\"template\":{\"data\":{\"barpolar\":[{\"marker\":{\"line\":{\"color\":\"#E5ECF6\",\"width\":0.5},\"pattern\":{\"fillmode\":\"overlay\",\"size\":10,\"solidity\":0.2}},\"type\":\"barpolar\"}],\"bar\":[{\"error_x\":{\"color\":\"#2a3f5f\"},\"error_y\":{\"color\":\"#2a3f5f\"},\"marker\":{\"line\":{\"color\":\"#E5ECF6\",\"width\":0.5},\"pattern\":{\"fillmode\":\"overlay\",\"size\":10,\"solidity\":0.2}},\"type\":\"bar\"}],\"carpet\":[{\"aaxis\":{\"endlinecolor\":\"#2a3f5f\",\"gridcolor\":\"white\",\"linecolor\":\"white\",\"minorgridcolor\":\"white\",\"startlinecolor\":\"#2a3f5f\"},\"baxis\":{\"endlinecolor\":\"#2a3f5f\",\"gridcolor\":\"white\",\"linecolor\":\"white\",\"minorgridcolor\":\"white\",\"startlinecolor\":\"#2a3f5f\"},\"type\":\"carpet\"}],\"choropleth\":[{\"colorbar\":{\"outlinewidth\":0,\"ticks\":\"\"},\"type\":\"choropleth\"}],\"contourcarpet\":[{\"colorbar\":{\"outlinewidth\":0,\"ticks\":\"\"},\"type\":\"contourcarpet\"}],\"contour\":[{\"colorbar\":{\"outlinewidth\":0,\"ticks\":\"\"},\"colorscale\":[[0.0,\"#0d0887\"],[0.1111111111111111,\"#46039f\"],[0.2222222222222222,\"#7201a8\"],[0.3333333333333333,\"#9c179e\"],[0.4444444444444444,\"#bd3786\"],[0.5555555555555556,\"#d8576b\"],[0.6666666666666666,\"#ed7953\"],[0.7777777777777778,\"#fb9f3a\"],[0.8888888888888888,\"#fdca26\"],[1.0,\"#f0f921\"]],\"type\":\"contour\"}],\"heatmapgl\":[{\"colorbar\":{\"outlinewidth\":0,\"ticks\":\"\"},\"colorscale\":[[0.0,\"#0d0887\"],[0.1111111111111111,\"#46039f\"],[0.2222222222222222,\"#7201a8\"],[0.3333333333333333,\"#9c179e\"],[0.4444444444444444,\"#bd3786\"],[0.5555555555555556,\"#d8576b\"],[0.6666666666666666,\"#ed7953\"],[0.7777777777777778,\"#fb9f3a\"],[0.8888888888888888,\"#fdca26\"],[1.0,\"#f0f921\"]],\"type\":\"heatmapgl\"}],\"heatmap\":[{\"colorbar\":{\"outlinewidth\":0,\"ticks\":\"\"},\"colorscale\":[[0.0,\"#0d0887\"],[0.1111111111111111,\"#46039f\"],[0.2222222222222222,\"#7201a8\"],[0.3333333333333333,\"#9c179e\"],[0.4444444444444444,\"#bd3786\"],[0.5555555555555556,\"#d8576b\"],[0.6666666666666666,\"#ed7953\"],[0.7777777777777778,\"#fb9f3a\"],[0.8888888888888888,\"#fdca26\"],[1.0,\"#f0f921\"]],\"type\":\"heatmap\"}],\"histogram2dcontour\":[{\"colorbar\":{\"outlinewidth\":0,\"ticks\":\"\"},\"colorscale\":[[0.0,\"#0d0887\"],[0.1111111111111111,\"#46039f\"],[0.2222222222222222,\"#7201a8\"],[0.3333333333333333,\"#9c179e\"],[0.4444444444444444,\"#bd3786\"],[0.5555555555555556,\"#d8576b\"],[0.6666666666666666,\"#ed7953\"],[0.7777777777777778,\"#fb9f3a\"],[0.8888888888888888,\"#fdca26\"],[1.0,\"#f0f921\"]],\"type\":\"histogram2dcontour\"}],\"histogram2d\":[{\"colorbar\":{\"outlinewidth\":0,\"ticks\":\"\"},\"colorscale\":[[0.0,\"#0d0887\"],[0.1111111111111111,\"#46039f\"],[0.2222222222222222,\"#7201a8\"],[0.3333333333333333,\"#9c179e\"],[0.4444444444444444,\"#bd3786\"],[0.5555555555555556,\"#d8576b\"],[0.6666666666666666,\"#ed7953\"],[0.7777777777777778,\"#fb9f3a\"],[0.8888888888888888,\"#fdca26\"],[1.0,\"#f0f921\"]],\"type\":\"histogram2d\"}],\"histogram\":[{\"marker\":{\"pattern\":{\"fillmode\":\"overlay\",\"size\":10,\"solidity\":0.2}},\"type\":\"histogram\"}],\"mesh3d\":[{\"colorbar\":{\"outlinewidth\":0,\"ticks\":\"\"},\"type\":\"mesh3d\"}],\"parcoords\":[{\"line\":{\"colorbar\":{\"outlinewidth\":0,\"ticks\":\"\"}},\"type\":\"parcoords\"}],\"pie\":[{\"automargin\":true,\"type\":\"pie\"}],\"scatter3d\":[{\"line\":{\"colorbar\":{\"outlinewidth\":0,\"ticks\":\"\"}},\"marker\":{\"colorbar\":{\"outlinewidth\":0,\"ticks\":\"\"}},\"type\":\"scatter3d\"}],\"scattercarpet\":[{\"marker\":{\"colorbar\":{\"outlinewidth\":0,\"ticks\":\"\"}},\"type\":\"scattercarpet\"}],\"scattergeo\":[{\"marker\":{\"colorbar\":{\"outlinewidth\":0,\"ticks\":\"\"}},\"type\":\"scattergeo\"}],\"scattergl\":[{\"marker\":{\"colorbar\":{\"outlinewidth\":0,\"ticks\":\"\"}},\"type\":\"scattergl\"}],\"scattermapbox\":[{\"marker\":{\"colorbar\":{\"outlinewidth\":0,\"ticks\":\"\"}},\"type\":\"scattermapbox\"}],\"scatterpolargl\":[{\"marker\":{\"colorbar\":{\"outlinewidth\":0,\"ticks\":\"\"}},\"type\":\"scatterpolargl\"}],\"scatterpolar\":[{\"marker\":{\"colorbar\":{\"outlinewidth\":0,\"ticks\":\"\"}},\"type\":\"scatterpolar\"}],\"scatter\":[{\"marker\":{\"colorbar\":{\"outlinewidth\":0,\"ticks\":\"\"}},\"type\":\"scatter\"}],\"scatterternary\":[{\"marker\":{\"colorbar\":{\"outlinewidth\":0,\"ticks\":\"\"}},\"type\":\"scatterternary\"}],\"surface\":[{\"colorbar\":{\"outlinewidth\":0,\"ticks\":\"\"},\"colorscale\":[[0.0,\"#0d0887\"],[0.1111111111111111,\"#46039f\"],[0.2222222222222222,\"#7201a8\"],[0.3333333333333333,\"#9c179e\"],[0.4444444444444444,\"#bd3786\"],[0.5555555555555556,\"#d8576b\"],[0.6666666666666666,\"#ed7953\"],[0.7777777777777778,\"#fb9f3a\"],[0.8888888888888888,\"#fdca26\"],[1.0,\"#f0f921\"]],\"type\":\"surface\"}],\"table\":[{\"cells\":{\"fill\":{\"color\":\"#EBF0F8\"},\"line\":{\"color\":\"white\"}},\"header\":{\"fill\":{\"color\":\"#C8D4E3\"},\"line\":{\"color\":\"white\"}},\"type\":\"table\"}]},\"layout\":{\"annotationdefaults\":{\"arrowcolor\":\"#2a3f5f\",\"arrowhead\":0,\"arrowwidth\":1},\"autotypenumbers\":\"strict\",\"coloraxis\":{\"colorbar\":{\"outlinewidth\":0,\"ticks\":\"\"}},\"colorscale\":{\"diverging\":[[0,\"#8e0152\"],[0.1,\"#c51b7d\"],[0.2,\"#de77ae\"],[0.3,\"#f1b6da\"],[0.4,\"#fde0ef\"],[0.5,\"#f7f7f7\"],[0.6,\"#e6f5d0\"],[0.7,\"#b8e186\"],[0.8,\"#7fbc41\"],[0.9,\"#4d9221\"],[1,\"#276419\"]],\"sequential\":[[0.0,\"#0d0887\"],[0.1111111111111111,\"#46039f\"],[0.2222222222222222,\"#7201a8\"],[0.3333333333333333,\"#9c179e\"],[0.4444444444444444,\"#bd3786\"],[0.5555555555555556,\"#d8576b\"],[0.6666666666666666,\"#ed7953\"],[0.7777777777777778,\"#fb9f3a\"],[0.8888888888888888,\"#fdca26\"],[1.0,\"#f0f921\"]],\"sequentialminus\":[[0.0,\"#0d0887\"],[0.1111111111111111,\"#46039f\"],[0.2222222222222222,\"#7201a8\"],[0.3333333333333333,\"#9c179e\"],[0.4444444444444444,\"#bd3786\"],[0.5555555555555556,\"#d8576b\"],[0.6666666666666666,\"#ed7953\"],[0.7777777777777778,\"#fb9f3a\"],[0.8888888888888888,\"#fdca26\"],[1.0,\"#f0f921\"]]},\"colorway\":[\"#636efa\",\"#EF553B\",\"#00cc96\",\"#ab63fa\",\"#FFA15A\",\"#19d3f3\",\"#FF6692\",\"#B6E880\",\"#FF97FF\",\"#FECB52\"],\"font\":{\"color\":\"#2a3f5f\"},\"geo\":{\"bgcolor\":\"white\",\"lakecolor\":\"white\",\"landcolor\":\"#E5ECF6\",\"showlakes\":true,\"showland\":true,\"subunitcolor\":\"white\"},\"hoverlabel\":{\"align\":\"left\"},\"hovermode\":\"closest\",\"mapbox\":{\"style\":\"light\"},\"paper_bgcolor\":\"white\",\"plot_bgcolor\":\"#E5ECF6\",\"polar\":{\"angularaxis\":{\"gridcolor\":\"white\",\"linecolor\":\"white\",\"ticks\":\"\"},\"bgcolor\":\"#E5ECF6\",\"radialaxis\":{\"gridcolor\":\"white\",\"linecolor\":\"white\",\"ticks\":\"\"}},\"scene\":{\"xaxis\":{\"backgroundcolor\":\"#E5ECF6\",\"gridcolor\":\"white\",\"gridwidth\":2,\"linecolor\":\"white\",\"showbackground\":true,\"ticks\":\"\",\"zerolinecolor\":\"white\"},\"yaxis\":{\"backgroundcolor\":\"#E5ECF6\",\"gridcolor\":\"white\",\"gridwidth\":2,\"linecolor\":\"white\",\"showbackground\":true,\"ticks\":\"\",\"zerolinecolor\":\"white\"},\"zaxis\":{\"backgroundcolor\":\"#E5ECF6\",\"gridcolor\":\"white\",\"gridwidth\":2,\"linecolor\":\"white\",\"showbackground\":true,\"ticks\":\"\",\"zerolinecolor\":\"white\"}},\"shapedefaults\":{\"line\":{\"color\":\"#2a3f5f\"}},\"ternary\":{\"aaxis\":{\"gridcolor\":\"white\",\"linecolor\":\"white\",\"ticks\":\"\"},\"baxis\":{\"gridcolor\":\"white\",\"linecolor\":\"white\",\"ticks\":\"\"},\"bgcolor\":\"#E5ECF6\",\"caxis\":{\"gridcolor\":\"white\",\"linecolor\":\"white\",\"ticks\":\"\"}},\"title\":{\"x\":0.05},\"xaxis\":{\"automargin\":true,\"gridcolor\":\"white\",\"linecolor\":\"white\",\"ticks\":\"\",\"title\":{\"standoff\":15},\"zerolinecolor\":\"white\",\"zerolinewidth\":2},\"yaxis\":{\"automargin\":true,\"gridcolor\":\"white\",\"linecolor\":\"white\",\"ticks\":\"\",\"title\":{\"standoff\":15},\"zerolinecolor\":\"white\",\"zerolinewidth\":2}}},\"title\":{\"font\":{\"color\":\"#4D5663\"}},\"xaxis\":{\"anchor\":\"y2\",\"gridcolor\":\"#E1E5ED\",\"rangeselector\":{\"bgcolor\":\"rgba(150, 200, 250, 1)\",\"buttons\":[{\"count\":1,\"label\":\"1m\",\"step\":\"month\",\"stepmode\":\"backward\"},{\"count\":1,\"label\":\"1y\",\"step\":\"year\",\"stepmode\":\"backward\"}],\"font\":{\"size\":13},\"visible\":false,\"x\":0,\"y\":0.9},\"rangeslider\":{\"visible\":false},\"showgrid\":true,\"tickfont\":{\"color\":\"#4D5663\"},\"title\":{\"font\":{\"color\":\"#4D5663\"},\"text\":\"\"},\"zerolinecolor\":\"#E1E5ED\"},\"yaxis\":{\"gridcolor\":\"#E1E5ED\",\"showgrid\":true,\"showticklabels\":false,\"tickfont\":{\"color\":\"#4D5663\"},\"title\":{\"font\":{\"color\":\"#4D5663\"},\"text\":\"\"},\"zerolinecolor\":\"#E1E5ED\"},\"yaxis2\":{\"domain\":[0.0,0.9],\"gridcolor\":\"#E1E5ED\",\"showgrid\":true,\"tickfont\":{\"color\":\"#4D5663\"},\"title\":{\"font\":{\"color\":\"#4D5663\"},\"text\":\"\"},\"zerolinecolor\":\"#E1E5ED\"}},                        {\"responsive\": true}                    ).then(function(){\n",
       "                            \n",
       "var gd = document.getElementById('feb6c06d-c9b9-4006-8996-83dc1c046444');\n",
       "var x = new MutationObserver(function (mutations, observer) {{\n",
       "        var display = window.getComputedStyle(gd).display;\n",
       "        if (!display || display === 'none') {{\n",
       "            console.log([gd, 'removed!']);\n",
       "            Plotly.purge(gd);\n",
       "            observer.disconnect();\n",
       "        }}\n",
       "}});\n",
       "\n",
       "// Listen for the removal of the full notebook cells\n",
       "var notebookContainer = gd.closest('#notebook-container');\n",
       "if (notebookContainer) {{\n",
       "    x.observe(notebookContainer, {childList: true});\n",
       "}}\n",
       "\n",
       "// Listen for the clearing of the current output cell\n",
       "var outputEl = gd.closest('.output');\n",
       "if (outputEl) {{\n",
       "    x.observe(outputEl, {childList: true});\n",
       "}}\n",
       "\n",
       "                        }).then(function(){\n",
       "                            function downloadimage(format, height, width, filename) {var p = document.getElementById('feb6c06d-c9b9-4006-8996-83dc1c046444');Plotly.downloadImage(p, {format: format, height: height, width: width, filename: filename});};if(document.readyState == 'complete') {downloadimage('png', 600, 800, 'qf_01');}\n",
       "                        })                };                });            </script>        </div>"
      ]
     },
     "metadata": {},
     "output_type": "display_data"
    }
   ],
   "source": [
    "qf=cf.QuantFig(tickers.get_group('a')[-60:])\n",
    "plyo.iplot(qf.iplot(asFigure=True),image='png',\n",
    "          filename='qf_01')"
   ]
  },
  {
   "cell_type": "code",
   "execution_count": 16,
   "metadata": {},
   "outputs": [
    {
     "data": {
      "application/vnd.plotly.v1+json": {
       "config": {
        "linkText": "Export to plot.ly",
        "plotlyServerURL": "https://plot.ly",
        "showLink": false
       },
       "data": [
        {
         "legendgroup": "BOLL(close,15)",
         "line": {
          "color": "rgba(55, 128, 191, 1.0)",
          "dash": "solid",
          "shape": "linear",
          "width": 1.3
         },
         "mode": "lines",
         "name": "BOLL(close,15)",
         "showlegend": true,
         "text": "",
         "type": "scatter",
         "x": [
          3179,
          3180,
          3181,
          3182,
          3183,
          3184,
          3185,
          3186,
          3187,
          3188,
          3189,
          3190,
          3191,
          3192,
          3193,
          3194,
          3195,
          3196,
          3197,
          3198,
          3199,
          3200,
          3201,
          3202,
          3203,
          3204,
          3205,
          3206,
          3207,
          3208,
          3209,
          3210,
          3211,
          3212,
          3213,
          3214,
          3215,
          3216,
          3217,
          3218,
          3219,
          3220,
          3221,
          3222,
          3223,
          3224,
          3225,
          3226,
          3227,
          3228,
          3229,
          3230,
          3231,
          3232,
          3233,
          3234,
          3235,
          3236,
          3237,
          3238
         ],
         "y": [
          "",
          "",
          "",
          "",
          "",
          "",
          "",
          "",
          "",
          "",
          "",
          "",
          "",
          "",
          -0.036902887001316935,
          -0.0368543797718766,
          -0.03681046322662453,
          -0.036785719538864656,
          -0.0367566752101441,
          -0.03672394033138982,
          -0.03669220560169618,
          -0.03666515156960626,
          -0.03663919770148303,
          -0.03661903469642082,
          -0.0366084531193594,
          -0.036604962599137814,
          -0.03660676286744694,
          -0.03660995334295034,
          -0.036621535069072376,
          -0.0366297162883883,
          -0.03664077793699882,
          -0.03664933921295777,
          -0.0366441084333707,
          -0.03664257820530794,
          -0.036637237409324196,
          -0.03663109649409196,
          -0.03662545565339003,
          -0.03661881466362748,
          -0.036601282050594715,
          -0.036587850048710506,
          -0.03656473660391946,
          -0.03654333341402207,
          -0.03652153016450043,
          -0.036491225647963484,
          -0.03645942090783559,
          -0.03643791770303215,
          -0.03641621446841657,
          -0.03640061214307081,
          -0.03638050914695224,
          -0.03636440674707618,
          -0.03635510536081236,
          -0.03634080322924541,
          -0.036326801142396656,
          -0.036320900262938965,
          -0.03630709820590234,
          -0.036293996253208144,
          -0.03627269307821682,
          -0.03625599058890438,
          -0.03625008970944668,
          -0.03625449036531344
         ],
         "yaxis": "y2"
        },
        {
         "legendgroup": "BOLL(close,15)",
         "line": {
          "color": "rgba(55, 128, 191, 0.8999999999999999)",
          "dash": "solid",
          "shape": "linear",
          "width": 1.3
         },
         "mode": "lines",
         "name": "UPPER(close,15)",
         "showlegend": false,
         "text": "",
         "type": "scatter",
         "x": [
          3179,
          3180,
          3181,
          3182,
          3183,
          3184,
          3185,
          3186,
          3187,
          3188,
          3189,
          3190,
          3191,
          3192,
          3193,
          3194,
          3195,
          3196,
          3197,
          3198,
          3199,
          3200,
          3201,
          3202,
          3203,
          3204,
          3205,
          3206,
          3207,
          3208,
          3209,
          3210,
          3211,
          3212,
          3213,
          3214,
          3215,
          3216,
          3217,
          3218,
          3219,
          3220,
          3221,
          3222,
          3223,
          3224,
          3225,
          3226,
          3227,
          3228,
          3229,
          3230,
          3231,
          3232,
          3233,
          3234,
          3235,
          3236,
          3237,
          3238
         ],
         "y": [
          "",
          "",
          "",
          "",
          "",
          "",
          "",
          "",
          "",
          "",
          "",
          "",
          "",
          "",
          -0.03654973433159247,
          -0.03650501542985963,
          -0.03646854927946739,
          -0.036446633864831546,
          -0.0364296328811824,
          -0.036418611606359556,
          -0.03641277191128032,
          -0.0364012775943561,
          -0.036405127058625426,
          -0.0364131243543976,
          -0.03641067731865877,
          -0.03641865968382643,
          -0.036412301650274634,
          -0.036405458211722024,
          -0.03638600343808575,
          -0.03637692527795244,
          -0.03639387942068098,
          -0.036412160730260934,
          -0.03640092288428152,
          -0.03639753279566127,
          -0.03637978132014019,
          -0.03635830427086264,
          -0.036338973535879907,
          -0.03631801542724862,
          -0.03625584373171491,
          -0.036222218180085135,
          -0.03619323672002627,
          -0.036199030364508986,
          -0.03620045868187837,
          -0.03621660030498883,
          -0.03623585753280024,
          -0.03624884236389511,
          -0.03625665063408787,
          -0.0362486477763936,
          -0.036241144915771906,
          -0.03621108223243834,
          -0.036202850703163744,
          -0.036177814086002354,
          -0.03615866438600003,
          -0.036140920349893774,
          -0.036111856036914525,
          -0.036093727548110986,
          -0.03610009761740765,
          -0.03611138184100728,
          -0.03612185203370893,
          -0.03611087668142274
         ],
         "yaxis": "y2"
        },
        {
         "fill": "tonexty",
         "fillcolor": "rgba(55, 128, 191, 0.1)",
         "legendgroup": "BOLL(close,15)",
         "line": {
          "color": "rgba(55, 128, 191, 0.7999999999999998)",
          "dash": "solid",
          "shape": "linear",
          "width": 1.3
         },
         "mode": "lines",
         "name": "LOWER(close,15)",
         "showlegend": false,
         "text": "",
         "type": "scatter",
         "x": [
          3179,
          3180,
          3181,
          3182,
          3183,
          3184,
          3185,
          3186,
          3187,
          3188,
          3189,
          3190,
          3191,
          3192,
          3193,
          3194,
          3195,
          3196,
          3197,
          3198,
          3199,
          3200,
          3201,
          3202,
          3203,
          3204,
          3205,
          3206,
          3207,
          3208,
          3209,
          3210,
          3211,
          3212,
          3213,
          3214,
          3215,
          3216,
          3217,
          3218,
          3219,
          3220,
          3221,
          3222,
          3223,
          3224,
          3225,
          3226,
          3227,
          3228,
          3229,
          3230,
          3231,
          3232,
          3233,
          3234,
          3235,
          3236,
          3237,
          3238
         ],
         "y": [
          "",
          "",
          "",
          "",
          "",
          "",
          "",
          "",
          "",
          "",
          "",
          "",
          "",
          "",
          -0.0372560396710414,
          -0.037203744113893565,
          -0.03715237717378168,
          -0.037124805212897766,
          -0.0370837175391058,
          -0.03702926905642009,
          -0.03697163929211204,
          -0.036929025544856414,
          -0.03687326834434063,
          -0.03682494503844404,
          -0.03680622892006004,
          -0.036791265514449195,
          -0.03680122408461925,
          -0.03681444847417866,
          -0.036857066700059005,
          -0.036882507298824155,
          -0.036887676453316656,
          -0.03688651769565461,
          -0.036887293982459886,
          -0.03688762361495461,
          -0.0368946934985082,
          -0.036903888717321275,
          -0.036911937770900155,
          -0.03691961390000634,
          -0.03694672036947452,
          -0.03695348191733588,
          -0.03693623648781264,
          -0.036887636463535156,
          -0.03684260164712249,
          -0.03676585099093814,
          -0.036682984282870944,
          -0.03662699304216918,
          -0.036575778302745277,
          -0.036552576509748025,
          -0.036519873378132575,
          -0.03651773126171402,
          -0.03650736001846097,
          -0.03650379237248847,
          -0.03649493789879328,
          -0.03650088017598416,
          -0.036502340374890155,
          -0.0364942649583053,
          -0.03644528853902598,
          -0.036400599336801474,
          -0.036378327385184435,
          -0.03639810404920414
         ],
         "yaxis": "y2"
        },
        {
         "close": [
          -0.03724883856138729,
          -0.03717547762779041,
          -0.03699275039441414,
          -0.037021254642641964,
          -0.03703475665496041,
          -0.037001751735959765,
          -0.03691803925958541,
          -0.0369135385888126,
          -0.03685202942158412,
          -0.03672931113184538,
          -0.03678016871157819,
          -0.03679367072389663,
          -0.03673081135543632,
          -0.03666645176338507,
          -0.036684454446476326,
          -0.03652123011978225,
          -0.03651672944900943,
          -0.03662159507801602,
          -0.036585589711833504,
          -0.036543733473646325,
          -0.036525730790555065,
          -0.03651222877823662,
          -0.036524230566964126,
          -0.03654958434565098,
          -0.03657058747592412,
          -0.036727810908254444,
          -0.036820674748533525,
          -0.03677866848798725,
          -0.03684017765521572,
          -0.036807172736215074,
          -0.036687154848940015,
          -0.036645148588393746,
          -0.03654313338420995,
          -0.036562636290892146,
          -0.03646362153389022,
          -0.036433617062071454,
          -0.036427616167707705,
          -0.03642461572052583,
          -0.03628659515015951,
          -0.036369107447661114,
          -0.03638110923638862,
          -0.03649962690007274,
          -0.036451619745162714,
          -0.036385609907161436,
          -0.03633010163429672,
          -0.036364606776888304,
          -0.03631960006916015,
          -0.036309098504023585,
          -0.03626109134911357,
          -0.03622208553574917,
          -0.0362940962681142,
          -0.036213084194203535,
          -0.03621458441779448,
          -0.03619808195829416,
          -0.03616207659211164,
          -0.03618457994597571,
          -0.0361800792752029,
          -0.03620108240547603,
          -0.03629709671529608,
          -0.036396111472298
         ],
         "decreasing": {
          "line": {
           "color": "#808080"
          }
         },
         "high": [
          -0.03732512591468666,
          -0.037283502125026034,
          -0.03713162750898831,
          -0.03708015723145097,
          -0.037112232911655406,
          -0.037113724803757936,
          -0.03704897668650806,
          -0.03704077127994414,
          -0.03699601451686819,
          -0.036862042606060845,
          -0.036809975571682495,
          -0.03691425882964946,
          -0.03686502639026591,
          -0.03680027827301604,
          -0.036735530155766166,
          -0.036647657710927053,
          -0.03662527932938908,
          -0.03665511717143971,
          -0.03670718420581807,
          -0.0366685442003625,
          -0.03664318203461946,
          -0.03662095284229174,
          -0.03663423068200427,
          -0.036667052308259965,
          -0.036647657710927053,
          -0.03670270852951047,
          -0.03685159936134313,
          -0.03688740477180389,
          -0.03689337234021401,
          -0.036944693428541106,
          -0.03680669340905693,
          -0.03670076906977718,
          -0.036687342040854394,
          -0.03666943933562402,
          -0.036611255543625286,
          -0.03655307175162655,
          -0.03653964472270377,
          -0.03652323390957592,
          -0.03642924470711643,
          -0.03639642308086073,
          -0.03646355822547465,
          -0.036566498780549336,
          -0.03658067175552339,
          -0.036522487963524655,
          -0.03643968795183415,
          -0.03641730957029617,
          -0.036436704167629085,
          -0.03629199063368352,
          -0.0363949311887582,
          -0.036368077130912634,
          -0.03638001226773288,
          -0.036344206857272125,
          -0.03630392577050377,
          -0.03631287712311896,
          -0.03626961225214554,
          -0.03630243387840124,
          -0.036274087928453144,
          -0.036320336583631624,
          -0.036372552807220224,
          -0.036432228491321494
         ],
         "increasing": {
          "line": {
           "color": "#17BECF"
          }
         },
         "low": [
          -0.037242178751826095,
          -0.037139664571822356,
          -0.0370055959534964,
          -0.036892664279501115,
          -0.03693025784477495,
          -0.03688209580733578,
          -0.036836953333372426,
          -0.036829253446509114,
          -0.036773542500380424,
          -0.03669669460992106,
          -0.03665004235421981,
          -0.03671028264556221,
          -0.036674198862026275,
          -0.036607919443732255,
          -0.03655658686464349,
          -0.0364691705020188,
          -0.036396851956773155,
          -0.0364691705020188,
          -0.036506915045466416,
          -0.03643761606369659,
          -0.036425537809793344,
          -0.03638039533582999,
          -0.036414969337628014,
          -0.036436106281958675,
          -0.036424028028055444,
          -0.03661531737424799,
          -0.03669518482818316,
          -0.036674198862026275,
          -0.03668627711592952,
          -0.03672387068120335,
          -0.036618336937723796,
          -0.03650208374390512,
          -0.03648849570826398,
          -0.0364326337839615,
          -0.03641149683963083,
          -0.03635714469706626,
          -0.036326949062308156,
          -0.036308831681453296,
          -0.0362786360466952,
          -0.036225793685868535,
          -0.03624391106672339,
          -0.03636167404227997,
          -0.03634959578837673,
          -0.03635110557011464,
          -0.036198617614586245,
          -0.036219754558916906,
          -0.036227303467606435,
          -0.03620465674153786,
          -0.03617899045199348,
          -0.036147285035497474,
          -0.03619408826937253,
          -0.03612765787290471,
          -0.036082364420767565,
          -0.03608689376598128,
          -0.03605669813122318,
          -0.03602499271472718,
          -0.03605216878600946,
          -0.036092781914759106,
          -0.03622277412239272,
          -0.036254479538888724
         ],
         "name": "Trace 1",
         "open": [
          -0.03732390805472356,
          -0.03727455483892942,
          -0.03715769722463266,
          -0.037030488935898824,
          -0.03700798746973129,
          -0.03697963562236019,
          -0.036973635231382175,
          -0.03698263581784919,
          -0.036928632299047096,
          -0.03683892645392583,
          -0.03670406766669504,
          -0.036835926258436825,
          -0.03675507099000813,
          -0.036711568155417554,
          -0.03666671523285692,
          -0.03661436182157377,
          -0.03649900430502152,
          -0.03655285781404916,
          -0.03664271366894488,
          -0.036587360062172725,
          -0.036526006064422564,
          -0.03650200450051052,
          -0.036493003914043504,
          -0.03655735810728267,
          -0.03656185840051618,
          -0.03656935888923869,
          -0.036741570110307605,
          -0.03679842381482426,
          -0.03680142401031326,
          -0.03683892645392583,
          -0.03677592234865672,
          -0.036660414822330005,
          -0.036646913942629485,
          -0.0365419071005143,
          -0.036567408762170836,
          -0.03644590084486612,
          -0.03641739898772057,
          -0.03641739898772057,
          -0.03642189928095407,
          -0.03627488970199281,
          -0.03633939390500643,
          -0.03641739898772057,
          -0.03646240192005565,
          -0.03645340133358863,
          -0.03633939390500643,
          -0.036301891461393856,
          -0.0363228928298169,
          -0.036234387062891234,
          -0.03628989067943784,
          -0.03624938804033626,
          -0.036234387062891234,
          -0.03628839058169333,
          -0.036189384130556154,
          -0.036207385303490186,
          -0.036205885205745685,
          -0.03618638393506715,
          -0.03617138295762212,
          -0.03620438510800118,
          -0.036231386867402224,
          -0.036316892438838885
         ],
         "showlegend": true,
         "type": "candlestick",
         "x": [
          3179,
          3180,
          3181,
          3182,
          3183,
          3184,
          3185,
          3186,
          3187,
          3188,
          3189,
          3190,
          3191,
          3192,
          3193,
          3194,
          3195,
          3196,
          3197,
          3198,
          3199,
          3200,
          3201,
          3202,
          3203,
          3204,
          3205,
          3206,
          3207,
          3208,
          3209,
          3210,
          3211,
          3212,
          3213,
          3214,
          3215,
          3216,
          3217,
          3218,
          3219,
          3220,
          3221,
          3222,
          3223,
          3224,
          3225,
          3226,
          3227,
          3228,
          3229,
          3230,
          3231,
          3232,
          3233,
          3234,
          3235,
          3236,
          3237,
          3238
         ],
         "yaxis": "y2"
        }
       ],
       "layout": {
        "legend": {
         "bgcolor": "#F5F6F9",
         "font": {
          "color": "#4D5663"
         }
        },
        "margin": {
         "b": 30,
         "l": 30,
         "r": 30,
         "t": 30
        },
        "paper_bgcolor": "#F5F6F9",
        "plot_bgcolor": "#F5F6F9",
        "showlegend": true,
        "template": {
         "data": {
          "bar": [
           {
            "error_x": {
             "color": "#2a3f5f"
            },
            "error_y": {
             "color": "#2a3f5f"
            },
            "marker": {
             "line": {
              "color": "#E5ECF6",
              "width": 0.5
             },
             "pattern": {
              "fillmode": "overlay",
              "size": 10,
              "solidity": 0.2
             }
            },
            "type": "bar"
           }
          ],
          "barpolar": [
           {
            "marker": {
             "line": {
              "color": "#E5ECF6",
              "width": 0.5
             },
             "pattern": {
              "fillmode": "overlay",
              "size": 10,
              "solidity": 0.2
             }
            },
            "type": "barpolar"
           }
          ],
          "carpet": [
           {
            "aaxis": {
             "endlinecolor": "#2a3f5f",
             "gridcolor": "white",
             "linecolor": "white",
             "minorgridcolor": "white",
             "startlinecolor": "#2a3f5f"
            },
            "baxis": {
             "endlinecolor": "#2a3f5f",
             "gridcolor": "white",
             "linecolor": "white",
             "minorgridcolor": "white",
             "startlinecolor": "#2a3f5f"
            },
            "type": "carpet"
           }
          ],
          "choropleth": [
           {
            "colorbar": {
             "outlinewidth": 0,
             "ticks": ""
            },
            "type": "choropleth"
           }
          ],
          "contour": [
           {
            "colorbar": {
             "outlinewidth": 0,
             "ticks": ""
            },
            "colorscale": [
             [
              0,
              "#0d0887"
             ],
             [
              0.1111111111111111,
              "#46039f"
             ],
             [
              0.2222222222222222,
              "#7201a8"
             ],
             [
              0.3333333333333333,
              "#9c179e"
             ],
             [
              0.4444444444444444,
              "#bd3786"
             ],
             [
              0.5555555555555556,
              "#d8576b"
             ],
             [
              0.6666666666666666,
              "#ed7953"
             ],
             [
              0.7777777777777778,
              "#fb9f3a"
             ],
             [
              0.8888888888888888,
              "#fdca26"
             ],
             [
              1,
              "#f0f921"
             ]
            ],
            "type": "contour"
           }
          ],
          "contourcarpet": [
           {
            "colorbar": {
             "outlinewidth": 0,
             "ticks": ""
            },
            "type": "contourcarpet"
           }
          ],
          "heatmap": [
           {
            "colorbar": {
             "outlinewidth": 0,
             "ticks": ""
            },
            "colorscale": [
             [
              0,
              "#0d0887"
             ],
             [
              0.1111111111111111,
              "#46039f"
             ],
             [
              0.2222222222222222,
              "#7201a8"
             ],
             [
              0.3333333333333333,
              "#9c179e"
             ],
             [
              0.4444444444444444,
              "#bd3786"
             ],
             [
              0.5555555555555556,
              "#d8576b"
             ],
             [
              0.6666666666666666,
              "#ed7953"
             ],
             [
              0.7777777777777778,
              "#fb9f3a"
             ],
             [
              0.8888888888888888,
              "#fdca26"
             ],
             [
              1,
              "#f0f921"
             ]
            ],
            "type": "heatmap"
           }
          ],
          "heatmapgl": [
           {
            "colorbar": {
             "outlinewidth": 0,
             "ticks": ""
            },
            "colorscale": [
             [
              0,
              "#0d0887"
             ],
             [
              0.1111111111111111,
              "#46039f"
             ],
             [
              0.2222222222222222,
              "#7201a8"
             ],
             [
              0.3333333333333333,
              "#9c179e"
             ],
             [
              0.4444444444444444,
              "#bd3786"
             ],
             [
              0.5555555555555556,
              "#d8576b"
             ],
             [
              0.6666666666666666,
              "#ed7953"
             ],
             [
              0.7777777777777778,
              "#fb9f3a"
             ],
             [
              0.8888888888888888,
              "#fdca26"
             ],
             [
              1,
              "#f0f921"
             ]
            ],
            "type": "heatmapgl"
           }
          ],
          "histogram": [
           {
            "marker": {
             "pattern": {
              "fillmode": "overlay",
              "size": 10,
              "solidity": 0.2
             }
            },
            "type": "histogram"
           }
          ],
          "histogram2d": [
           {
            "colorbar": {
             "outlinewidth": 0,
             "ticks": ""
            },
            "colorscale": [
             [
              0,
              "#0d0887"
             ],
             [
              0.1111111111111111,
              "#46039f"
             ],
             [
              0.2222222222222222,
              "#7201a8"
             ],
             [
              0.3333333333333333,
              "#9c179e"
             ],
             [
              0.4444444444444444,
              "#bd3786"
             ],
             [
              0.5555555555555556,
              "#d8576b"
             ],
             [
              0.6666666666666666,
              "#ed7953"
             ],
             [
              0.7777777777777778,
              "#fb9f3a"
             ],
             [
              0.8888888888888888,
              "#fdca26"
             ],
             [
              1,
              "#f0f921"
             ]
            ],
            "type": "histogram2d"
           }
          ],
          "histogram2dcontour": [
           {
            "colorbar": {
             "outlinewidth": 0,
             "ticks": ""
            },
            "colorscale": [
             [
              0,
              "#0d0887"
             ],
             [
              0.1111111111111111,
              "#46039f"
             ],
             [
              0.2222222222222222,
              "#7201a8"
             ],
             [
              0.3333333333333333,
              "#9c179e"
             ],
             [
              0.4444444444444444,
              "#bd3786"
             ],
             [
              0.5555555555555556,
              "#d8576b"
             ],
             [
              0.6666666666666666,
              "#ed7953"
             ],
             [
              0.7777777777777778,
              "#fb9f3a"
             ],
             [
              0.8888888888888888,
              "#fdca26"
             ],
             [
              1,
              "#f0f921"
             ]
            ],
            "type": "histogram2dcontour"
           }
          ],
          "mesh3d": [
           {
            "colorbar": {
             "outlinewidth": 0,
             "ticks": ""
            },
            "type": "mesh3d"
           }
          ],
          "parcoords": [
           {
            "line": {
             "colorbar": {
              "outlinewidth": 0,
              "ticks": ""
             }
            },
            "type": "parcoords"
           }
          ],
          "pie": [
           {
            "automargin": true,
            "type": "pie"
           }
          ],
          "scatter": [
           {
            "marker": {
             "colorbar": {
              "outlinewidth": 0,
              "ticks": ""
             }
            },
            "type": "scatter"
           }
          ],
          "scatter3d": [
           {
            "line": {
             "colorbar": {
              "outlinewidth": 0,
              "ticks": ""
             }
            },
            "marker": {
             "colorbar": {
              "outlinewidth": 0,
              "ticks": ""
             }
            },
            "type": "scatter3d"
           }
          ],
          "scattercarpet": [
           {
            "marker": {
             "colorbar": {
              "outlinewidth": 0,
              "ticks": ""
             }
            },
            "type": "scattercarpet"
           }
          ],
          "scattergeo": [
           {
            "marker": {
             "colorbar": {
              "outlinewidth": 0,
              "ticks": ""
             }
            },
            "type": "scattergeo"
           }
          ],
          "scattergl": [
           {
            "marker": {
             "colorbar": {
              "outlinewidth": 0,
              "ticks": ""
             }
            },
            "type": "scattergl"
           }
          ],
          "scattermapbox": [
           {
            "marker": {
             "colorbar": {
              "outlinewidth": 0,
              "ticks": ""
             }
            },
            "type": "scattermapbox"
           }
          ],
          "scatterpolar": [
           {
            "marker": {
             "colorbar": {
              "outlinewidth": 0,
              "ticks": ""
             }
            },
            "type": "scatterpolar"
           }
          ],
          "scatterpolargl": [
           {
            "marker": {
             "colorbar": {
              "outlinewidth": 0,
              "ticks": ""
             }
            },
            "type": "scatterpolargl"
           }
          ],
          "scatterternary": [
           {
            "marker": {
             "colorbar": {
              "outlinewidth": 0,
              "ticks": ""
             }
            },
            "type": "scatterternary"
           }
          ],
          "surface": [
           {
            "colorbar": {
             "outlinewidth": 0,
             "ticks": ""
            },
            "colorscale": [
             [
              0,
              "#0d0887"
             ],
             [
              0.1111111111111111,
              "#46039f"
             ],
             [
              0.2222222222222222,
              "#7201a8"
             ],
             [
              0.3333333333333333,
              "#9c179e"
             ],
             [
              0.4444444444444444,
              "#bd3786"
             ],
             [
              0.5555555555555556,
              "#d8576b"
             ],
             [
              0.6666666666666666,
              "#ed7953"
             ],
             [
              0.7777777777777778,
              "#fb9f3a"
             ],
             [
              0.8888888888888888,
              "#fdca26"
             ],
             [
              1,
              "#f0f921"
             ]
            ],
            "type": "surface"
           }
          ],
          "table": [
           {
            "cells": {
             "fill": {
              "color": "#EBF0F8"
             },
             "line": {
              "color": "white"
             }
            },
            "header": {
             "fill": {
              "color": "#C8D4E3"
             },
             "line": {
              "color": "white"
             }
            },
            "type": "table"
           }
          ]
         },
         "layout": {
          "annotationdefaults": {
           "arrowcolor": "#2a3f5f",
           "arrowhead": 0,
           "arrowwidth": 1
          },
          "autotypenumbers": "strict",
          "coloraxis": {
           "colorbar": {
            "outlinewidth": 0,
            "ticks": ""
           }
          },
          "colorscale": {
           "diverging": [
            [
             0,
             "#8e0152"
            ],
            [
             0.1,
             "#c51b7d"
            ],
            [
             0.2,
             "#de77ae"
            ],
            [
             0.3,
             "#f1b6da"
            ],
            [
             0.4,
             "#fde0ef"
            ],
            [
             0.5,
             "#f7f7f7"
            ],
            [
             0.6,
             "#e6f5d0"
            ],
            [
             0.7,
             "#b8e186"
            ],
            [
             0.8,
             "#7fbc41"
            ],
            [
             0.9,
             "#4d9221"
            ],
            [
             1,
             "#276419"
            ]
           ],
           "sequential": [
            [
             0,
             "#0d0887"
            ],
            [
             0.1111111111111111,
             "#46039f"
            ],
            [
             0.2222222222222222,
             "#7201a8"
            ],
            [
             0.3333333333333333,
             "#9c179e"
            ],
            [
             0.4444444444444444,
             "#bd3786"
            ],
            [
             0.5555555555555556,
             "#d8576b"
            ],
            [
             0.6666666666666666,
             "#ed7953"
            ],
            [
             0.7777777777777778,
             "#fb9f3a"
            ],
            [
             0.8888888888888888,
             "#fdca26"
            ],
            [
             1,
             "#f0f921"
            ]
           ],
           "sequentialminus": [
            [
             0,
             "#0d0887"
            ],
            [
             0.1111111111111111,
             "#46039f"
            ],
            [
             0.2222222222222222,
             "#7201a8"
            ],
            [
             0.3333333333333333,
             "#9c179e"
            ],
            [
             0.4444444444444444,
             "#bd3786"
            ],
            [
             0.5555555555555556,
             "#d8576b"
            ],
            [
             0.6666666666666666,
             "#ed7953"
            ],
            [
             0.7777777777777778,
             "#fb9f3a"
            ],
            [
             0.8888888888888888,
             "#fdca26"
            ],
            [
             1,
             "#f0f921"
            ]
           ]
          },
          "colorway": [
           "#636efa",
           "#EF553B",
           "#00cc96",
           "#ab63fa",
           "#FFA15A",
           "#19d3f3",
           "#FF6692",
           "#B6E880",
           "#FF97FF",
           "#FECB52"
          ],
          "font": {
           "color": "#2a3f5f"
          },
          "geo": {
           "bgcolor": "white",
           "lakecolor": "white",
           "landcolor": "#E5ECF6",
           "showlakes": true,
           "showland": true,
           "subunitcolor": "white"
          },
          "hoverlabel": {
           "align": "left"
          },
          "hovermode": "closest",
          "mapbox": {
           "style": "light"
          },
          "paper_bgcolor": "white",
          "plot_bgcolor": "#E5ECF6",
          "polar": {
           "angularaxis": {
            "gridcolor": "white",
            "linecolor": "white",
            "ticks": ""
           },
           "bgcolor": "#E5ECF6",
           "radialaxis": {
            "gridcolor": "white",
            "linecolor": "white",
            "ticks": ""
           }
          },
          "scene": {
           "xaxis": {
            "backgroundcolor": "#E5ECF6",
            "gridcolor": "white",
            "gridwidth": 2,
            "linecolor": "white",
            "showbackground": true,
            "ticks": "",
            "zerolinecolor": "white"
           },
           "yaxis": {
            "backgroundcolor": "#E5ECF6",
            "gridcolor": "white",
            "gridwidth": 2,
            "linecolor": "white",
            "showbackground": true,
            "ticks": "",
            "zerolinecolor": "white"
           },
           "zaxis": {
            "backgroundcolor": "#E5ECF6",
            "gridcolor": "white",
            "gridwidth": 2,
            "linecolor": "white",
            "showbackground": true,
            "ticks": "",
            "zerolinecolor": "white"
           }
          },
          "shapedefaults": {
           "line": {
            "color": "#2a3f5f"
           }
          },
          "ternary": {
           "aaxis": {
            "gridcolor": "white",
            "linecolor": "white",
            "ticks": ""
           },
           "baxis": {
            "gridcolor": "white",
            "linecolor": "white",
            "ticks": ""
           },
           "bgcolor": "#E5ECF6",
           "caxis": {
            "gridcolor": "white",
            "linecolor": "white",
            "ticks": ""
           }
          },
          "title": {
           "x": 0.05
          },
          "xaxis": {
           "automargin": true,
           "gridcolor": "white",
           "linecolor": "white",
           "ticks": "",
           "title": {
            "standoff": 15
           },
           "zerolinecolor": "white",
           "zerolinewidth": 2
          },
          "yaxis": {
           "automargin": true,
           "gridcolor": "white",
           "linecolor": "white",
           "ticks": "",
           "title": {
            "standoff": 15
           },
           "zerolinecolor": "white",
           "zerolinewidth": 2
          }
         }
        },
        "title": {
         "font": {
          "color": "#4D5663"
         }
        },
        "xaxis": {
         "anchor": "y2",
         "gridcolor": "#E1E5ED",
         "rangeselector": {
          "bgcolor": "rgba(150, 200, 250, 1)",
          "buttons": [
           {
            "count": 1,
            "label": "1m",
            "step": "month",
            "stepmode": "backward"
           },
           {
            "count": 1,
            "label": "1y",
            "step": "year",
            "stepmode": "backward"
           }
          ],
          "font": {
           "size": 13
          },
          "visible": false,
          "x": 0,
          "y": 0.9
         },
         "rangeslider": {
          "visible": false
         },
         "showgrid": true,
         "tickfont": {
          "color": "#4D5663"
         },
         "title": {
          "font": {
           "color": "#4D5663"
          },
          "text": ""
         },
         "zerolinecolor": "#E1E5ED"
        },
        "yaxis": {
         "gridcolor": "#E1E5ED",
         "showgrid": true,
         "showticklabels": false,
         "tickfont": {
          "color": "#4D5663"
         },
         "title": {
          "font": {
           "color": "#4D5663"
          },
          "text": ""
         },
         "zerolinecolor": "#E1E5ED"
        },
        "yaxis2": {
         "domain": [
          0,
          0.9
         ],
         "gridcolor": "#E1E5ED",
         "showgrid": true,
         "tickfont": {
          "color": "#4D5663"
         },
         "title": {
          "font": {
           "color": "#4D5663"
          },
          "text": ""
         },
         "zerolinecolor": "#E1E5ED"
        }
       }
      },
      "text/html": [
       "<div>                            <div id=\"490e522d-5934-41ac-9c77-aa51627fe1c4\" class=\"plotly-graph-div\" style=\"height:525px; width:100%;\"></div>            <script type=\"text/javascript\">                require([\"plotly\"], function(Plotly) {                    window.PLOTLYENV=window.PLOTLYENV || {};                                    if (document.getElementById(\"490e522d-5934-41ac-9c77-aa51627fe1c4\")) {                    Plotly.newPlot(                        \"490e522d-5934-41ac-9c77-aa51627fe1c4\",                        [{\"legendgroup\":\"BOLL(close,15)\",\"line\":{\"color\":\"rgba(55, 128, 191, 1.0)\",\"dash\":\"solid\",\"shape\":\"linear\",\"width\":1.3},\"mode\":\"lines\",\"name\":\"BOLL(close,15)\",\"showlegend\":true,\"text\":\"\",\"x\":[3179,3180,3181,3182,3183,3184,3185,3186,3187,3188,3189,3190,3191,3192,3193,3194,3195,3196,3197,3198,3199,3200,3201,3202,3203,3204,3205,3206,3207,3208,3209,3210,3211,3212,3213,3214,3215,3216,3217,3218,3219,3220,3221,3222,3223,3224,3225,3226,3227,3228,3229,3230,3231,3232,3233,3234,3235,3236,3237,3238],\"y\":[\"\",\"\",\"\",\"\",\"\",\"\",\"\",\"\",\"\",\"\",\"\",\"\",\"\",\"\",-0.036902887001316935,-0.0368543797718766,-0.03681046322662453,-0.036785719538864656,-0.0367566752101441,-0.03672394033138982,-0.03669220560169618,-0.03666515156960626,-0.03663919770148303,-0.03661903469642082,-0.0366084531193594,-0.036604962599137814,-0.03660676286744694,-0.03660995334295034,-0.036621535069072376,-0.0366297162883883,-0.03664077793699882,-0.03664933921295777,-0.0366441084333707,-0.03664257820530794,-0.036637237409324196,-0.03663109649409196,-0.03662545565339003,-0.03661881466362748,-0.036601282050594715,-0.036587850048710506,-0.03656473660391946,-0.03654333341402207,-0.03652153016450043,-0.036491225647963484,-0.03645942090783559,-0.03643791770303215,-0.03641621446841657,-0.03640061214307081,-0.03638050914695224,-0.03636440674707618,-0.03635510536081236,-0.03634080322924541,-0.036326801142396656,-0.036320900262938965,-0.03630709820590234,-0.036293996253208144,-0.03627269307821682,-0.03625599058890438,-0.03625008970944668,-0.03625449036531344],\"yaxis\":\"y2\",\"type\":\"scatter\"},{\"legendgroup\":\"BOLL(close,15)\",\"line\":{\"color\":\"rgba(55, 128, 191, 0.8999999999999999)\",\"dash\":\"solid\",\"shape\":\"linear\",\"width\":1.3},\"mode\":\"lines\",\"name\":\"UPPER(close,15)\",\"showlegend\":false,\"text\":\"\",\"x\":[3179,3180,3181,3182,3183,3184,3185,3186,3187,3188,3189,3190,3191,3192,3193,3194,3195,3196,3197,3198,3199,3200,3201,3202,3203,3204,3205,3206,3207,3208,3209,3210,3211,3212,3213,3214,3215,3216,3217,3218,3219,3220,3221,3222,3223,3224,3225,3226,3227,3228,3229,3230,3231,3232,3233,3234,3235,3236,3237,3238],\"y\":[\"\",\"\",\"\",\"\",\"\",\"\",\"\",\"\",\"\",\"\",\"\",\"\",\"\",\"\",-0.03654973433159247,-0.03650501542985963,-0.03646854927946739,-0.036446633864831546,-0.0364296328811824,-0.036418611606359556,-0.03641277191128032,-0.0364012775943561,-0.036405127058625426,-0.0364131243543976,-0.03641067731865877,-0.03641865968382643,-0.036412301650274634,-0.036405458211722024,-0.03638600343808575,-0.03637692527795244,-0.03639387942068098,-0.036412160730260934,-0.03640092288428152,-0.03639753279566127,-0.03637978132014019,-0.03635830427086264,-0.036338973535879907,-0.03631801542724862,-0.03625584373171491,-0.036222218180085135,-0.03619323672002627,-0.036199030364508986,-0.03620045868187837,-0.03621660030498883,-0.03623585753280024,-0.03624884236389511,-0.03625665063408787,-0.0362486477763936,-0.036241144915771906,-0.03621108223243834,-0.036202850703163744,-0.036177814086002354,-0.03615866438600003,-0.036140920349893774,-0.036111856036914525,-0.036093727548110986,-0.03610009761740765,-0.03611138184100728,-0.03612185203370893,-0.03611087668142274],\"yaxis\":\"y2\",\"type\":\"scatter\"},{\"fill\":\"tonexty\",\"fillcolor\":\"rgba(55, 128, 191, 0.1)\",\"legendgroup\":\"BOLL(close,15)\",\"line\":{\"color\":\"rgba(55, 128, 191, 0.7999999999999998)\",\"dash\":\"solid\",\"shape\":\"linear\",\"width\":1.3},\"mode\":\"lines\",\"name\":\"LOWER(close,15)\",\"showlegend\":false,\"text\":\"\",\"x\":[3179,3180,3181,3182,3183,3184,3185,3186,3187,3188,3189,3190,3191,3192,3193,3194,3195,3196,3197,3198,3199,3200,3201,3202,3203,3204,3205,3206,3207,3208,3209,3210,3211,3212,3213,3214,3215,3216,3217,3218,3219,3220,3221,3222,3223,3224,3225,3226,3227,3228,3229,3230,3231,3232,3233,3234,3235,3236,3237,3238],\"y\":[\"\",\"\",\"\",\"\",\"\",\"\",\"\",\"\",\"\",\"\",\"\",\"\",\"\",\"\",-0.0372560396710414,-0.037203744113893565,-0.03715237717378168,-0.037124805212897766,-0.0370837175391058,-0.03702926905642009,-0.03697163929211204,-0.036929025544856414,-0.03687326834434063,-0.03682494503844404,-0.03680622892006004,-0.036791265514449195,-0.03680122408461925,-0.03681444847417866,-0.036857066700059005,-0.036882507298824155,-0.036887676453316656,-0.03688651769565461,-0.036887293982459886,-0.03688762361495461,-0.0368946934985082,-0.036903888717321275,-0.036911937770900155,-0.03691961390000634,-0.03694672036947452,-0.03695348191733588,-0.03693623648781264,-0.036887636463535156,-0.03684260164712249,-0.03676585099093814,-0.036682984282870944,-0.03662699304216918,-0.036575778302745277,-0.036552576509748025,-0.036519873378132575,-0.03651773126171402,-0.03650736001846097,-0.03650379237248847,-0.03649493789879328,-0.03650088017598416,-0.036502340374890155,-0.0364942649583053,-0.03644528853902598,-0.036400599336801474,-0.036378327385184435,-0.03639810404920414],\"yaxis\":\"y2\",\"type\":\"scatter\"},{\"close\":[-0.03724883856138729,-0.03717547762779041,-0.03699275039441414,-0.037021254642641964,-0.03703475665496041,-0.037001751735959765,-0.03691803925958541,-0.0369135385888126,-0.03685202942158412,-0.03672931113184538,-0.03678016871157819,-0.03679367072389663,-0.03673081135543632,-0.03666645176338507,-0.036684454446476326,-0.03652123011978225,-0.03651672944900943,-0.03662159507801602,-0.036585589711833504,-0.036543733473646325,-0.036525730790555065,-0.03651222877823662,-0.036524230566964126,-0.03654958434565098,-0.03657058747592412,-0.036727810908254444,-0.036820674748533525,-0.03677866848798725,-0.03684017765521572,-0.036807172736215074,-0.036687154848940015,-0.036645148588393746,-0.03654313338420995,-0.036562636290892146,-0.03646362153389022,-0.036433617062071454,-0.036427616167707705,-0.03642461572052583,-0.03628659515015951,-0.036369107447661114,-0.03638110923638862,-0.03649962690007274,-0.036451619745162714,-0.036385609907161436,-0.03633010163429672,-0.036364606776888304,-0.03631960006916015,-0.036309098504023585,-0.03626109134911357,-0.03622208553574917,-0.0362940962681142,-0.036213084194203535,-0.03621458441779448,-0.03619808195829416,-0.03616207659211164,-0.03618457994597571,-0.0361800792752029,-0.03620108240547603,-0.03629709671529608,-0.036396111472298],\"decreasing\":{\"line\":{\"color\":\"#808080\"}},\"high\":[-0.03732512591468666,-0.037283502125026034,-0.03713162750898831,-0.03708015723145097,-0.037112232911655406,-0.037113724803757936,-0.03704897668650806,-0.03704077127994414,-0.03699601451686819,-0.036862042606060845,-0.036809975571682495,-0.03691425882964946,-0.03686502639026591,-0.03680027827301604,-0.036735530155766166,-0.036647657710927053,-0.03662527932938908,-0.03665511717143971,-0.03670718420581807,-0.0366685442003625,-0.03664318203461946,-0.03662095284229174,-0.03663423068200427,-0.036667052308259965,-0.036647657710927053,-0.03670270852951047,-0.03685159936134313,-0.03688740477180389,-0.03689337234021401,-0.036944693428541106,-0.03680669340905693,-0.03670076906977718,-0.036687342040854394,-0.03666943933562402,-0.036611255543625286,-0.03655307175162655,-0.03653964472270377,-0.03652323390957592,-0.03642924470711643,-0.03639642308086073,-0.03646355822547465,-0.036566498780549336,-0.03658067175552339,-0.036522487963524655,-0.03643968795183415,-0.03641730957029617,-0.036436704167629085,-0.03629199063368352,-0.0363949311887582,-0.036368077130912634,-0.03638001226773288,-0.036344206857272125,-0.03630392577050377,-0.03631287712311896,-0.03626961225214554,-0.03630243387840124,-0.036274087928453144,-0.036320336583631624,-0.036372552807220224,-0.036432228491321494],\"increasing\":{\"line\":{\"color\":\"#17BECF\"}},\"low\":[-0.037242178751826095,-0.037139664571822356,-0.0370055959534964,-0.036892664279501115,-0.03693025784477495,-0.03688209580733578,-0.036836953333372426,-0.036829253446509114,-0.036773542500380424,-0.03669669460992106,-0.03665004235421981,-0.03671028264556221,-0.036674198862026275,-0.036607919443732255,-0.03655658686464349,-0.0364691705020188,-0.036396851956773155,-0.0364691705020188,-0.036506915045466416,-0.03643761606369659,-0.036425537809793344,-0.03638039533582999,-0.036414969337628014,-0.036436106281958675,-0.036424028028055444,-0.03661531737424799,-0.03669518482818316,-0.036674198862026275,-0.03668627711592952,-0.03672387068120335,-0.036618336937723796,-0.03650208374390512,-0.03648849570826398,-0.0364326337839615,-0.03641149683963083,-0.03635714469706626,-0.036326949062308156,-0.036308831681453296,-0.0362786360466952,-0.036225793685868535,-0.03624391106672339,-0.03636167404227997,-0.03634959578837673,-0.03635110557011464,-0.036198617614586245,-0.036219754558916906,-0.036227303467606435,-0.03620465674153786,-0.03617899045199348,-0.036147285035497474,-0.03619408826937253,-0.03612765787290471,-0.036082364420767565,-0.03608689376598128,-0.03605669813122318,-0.03602499271472718,-0.03605216878600946,-0.036092781914759106,-0.03622277412239272,-0.036254479538888724],\"name\":\"Trace 1\",\"open\":[-0.03732390805472356,-0.03727455483892942,-0.03715769722463266,-0.037030488935898824,-0.03700798746973129,-0.03697963562236019,-0.036973635231382175,-0.03698263581784919,-0.036928632299047096,-0.03683892645392583,-0.03670406766669504,-0.036835926258436825,-0.03675507099000813,-0.036711568155417554,-0.03666671523285692,-0.03661436182157377,-0.03649900430502152,-0.03655285781404916,-0.03664271366894488,-0.036587360062172725,-0.036526006064422564,-0.03650200450051052,-0.036493003914043504,-0.03655735810728267,-0.03656185840051618,-0.03656935888923869,-0.036741570110307605,-0.03679842381482426,-0.03680142401031326,-0.03683892645392583,-0.03677592234865672,-0.036660414822330005,-0.036646913942629485,-0.0365419071005143,-0.036567408762170836,-0.03644590084486612,-0.03641739898772057,-0.03641739898772057,-0.03642189928095407,-0.03627488970199281,-0.03633939390500643,-0.03641739898772057,-0.03646240192005565,-0.03645340133358863,-0.03633939390500643,-0.036301891461393856,-0.0363228928298169,-0.036234387062891234,-0.03628989067943784,-0.03624938804033626,-0.036234387062891234,-0.03628839058169333,-0.036189384130556154,-0.036207385303490186,-0.036205885205745685,-0.03618638393506715,-0.03617138295762212,-0.03620438510800118,-0.036231386867402224,-0.036316892438838885],\"showlegend\":true,\"x\":[3179,3180,3181,3182,3183,3184,3185,3186,3187,3188,3189,3190,3191,3192,3193,3194,3195,3196,3197,3198,3199,3200,3201,3202,3203,3204,3205,3206,3207,3208,3209,3210,3211,3212,3213,3214,3215,3216,3217,3218,3219,3220,3221,3222,3223,3224,3225,3226,3227,3228,3229,3230,3231,3232,3233,3234,3235,3236,3237,3238],\"yaxis\":\"y2\",\"type\":\"candlestick\"}],                        {\"legend\":{\"bgcolor\":\"#F5F6F9\",\"font\":{\"color\":\"#4D5663\"}},\"margin\":{\"b\":30,\"l\":30,\"r\":30,\"t\":30},\"paper_bgcolor\":\"#F5F6F9\",\"plot_bgcolor\":\"#F5F6F9\",\"showlegend\":true,\"template\":{\"data\":{\"barpolar\":[{\"marker\":{\"line\":{\"color\":\"#E5ECF6\",\"width\":0.5},\"pattern\":{\"fillmode\":\"overlay\",\"size\":10,\"solidity\":0.2}},\"type\":\"barpolar\"}],\"bar\":[{\"error_x\":{\"color\":\"#2a3f5f\"},\"error_y\":{\"color\":\"#2a3f5f\"},\"marker\":{\"line\":{\"color\":\"#E5ECF6\",\"width\":0.5},\"pattern\":{\"fillmode\":\"overlay\",\"size\":10,\"solidity\":0.2}},\"type\":\"bar\"}],\"carpet\":[{\"aaxis\":{\"endlinecolor\":\"#2a3f5f\",\"gridcolor\":\"white\",\"linecolor\":\"white\",\"minorgridcolor\":\"white\",\"startlinecolor\":\"#2a3f5f\"},\"baxis\":{\"endlinecolor\":\"#2a3f5f\",\"gridcolor\":\"white\",\"linecolor\":\"white\",\"minorgridcolor\":\"white\",\"startlinecolor\":\"#2a3f5f\"},\"type\":\"carpet\"}],\"choropleth\":[{\"colorbar\":{\"outlinewidth\":0,\"ticks\":\"\"},\"type\":\"choropleth\"}],\"contourcarpet\":[{\"colorbar\":{\"outlinewidth\":0,\"ticks\":\"\"},\"type\":\"contourcarpet\"}],\"contour\":[{\"colorbar\":{\"outlinewidth\":0,\"ticks\":\"\"},\"colorscale\":[[0.0,\"#0d0887\"],[0.1111111111111111,\"#46039f\"],[0.2222222222222222,\"#7201a8\"],[0.3333333333333333,\"#9c179e\"],[0.4444444444444444,\"#bd3786\"],[0.5555555555555556,\"#d8576b\"],[0.6666666666666666,\"#ed7953\"],[0.7777777777777778,\"#fb9f3a\"],[0.8888888888888888,\"#fdca26\"],[1.0,\"#f0f921\"]],\"type\":\"contour\"}],\"heatmapgl\":[{\"colorbar\":{\"outlinewidth\":0,\"ticks\":\"\"},\"colorscale\":[[0.0,\"#0d0887\"],[0.1111111111111111,\"#46039f\"],[0.2222222222222222,\"#7201a8\"],[0.3333333333333333,\"#9c179e\"],[0.4444444444444444,\"#bd3786\"],[0.5555555555555556,\"#d8576b\"],[0.6666666666666666,\"#ed7953\"],[0.7777777777777778,\"#fb9f3a\"],[0.8888888888888888,\"#fdca26\"],[1.0,\"#f0f921\"]],\"type\":\"heatmapgl\"}],\"heatmap\":[{\"colorbar\":{\"outlinewidth\":0,\"ticks\":\"\"},\"colorscale\":[[0.0,\"#0d0887\"],[0.1111111111111111,\"#46039f\"],[0.2222222222222222,\"#7201a8\"],[0.3333333333333333,\"#9c179e\"],[0.4444444444444444,\"#bd3786\"],[0.5555555555555556,\"#d8576b\"],[0.6666666666666666,\"#ed7953\"],[0.7777777777777778,\"#fb9f3a\"],[0.8888888888888888,\"#fdca26\"],[1.0,\"#f0f921\"]],\"type\":\"heatmap\"}],\"histogram2dcontour\":[{\"colorbar\":{\"outlinewidth\":0,\"ticks\":\"\"},\"colorscale\":[[0.0,\"#0d0887\"],[0.1111111111111111,\"#46039f\"],[0.2222222222222222,\"#7201a8\"],[0.3333333333333333,\"#9c179e\"],[0.4444444444444444,\"#bd3786\"],[0.5555555555555556,\"#d8576b\"],[0.6666666666666666,\"#ed7953\"],[0.7777777777777778,\"#fb9f3a\"],[0.8888888888888888,\"#fdca26\"],[1.0,\"#f0f921\"]],\"type\":\"histogram2dcontour\"}],\"histogram2d\":[{\"colorbar\":{\"outlinewidth\":0,\"ticks\":\"\"},\"colorscale\":[[0.0,\"#0d0887\"],[0.1111111111111111,\"#46039f\"],[0.2222222222222222,\"#7201a8\"],[0.3333333333333333,\"#9c179e\"],[0.4444444444444444,\"#bd3786\"],[0.5555555555555556,\"#d8576b\"],[0.6666666666666666,\"#ed7953\"],[0.7777777777777778,\"#fb9f3a\"],[0.8888888888888888,\"#fdca26\"],[1.0,\"#f0f921\"]],\"type\":\"histogram2d\"}],\"histogram\":[{\"marker\":{\"pattern\":{\"fillmode\":\"overlay\",\"size\":10,\"solidity\":0.2}},\"type\":\"histogram\"}],\"mesh3d\":[{\"colorbar\":{\"outlinewidth\":0,\"ticks\":\"\"},\"type\":\"mesh3d\"}],\"parcoords\":[{\"line\":{\"colorbar\":{\"outlinewidth\":0,\"ticks\":\"\"}},\"type\":\"parcoords\"}],\"pie\":[{\"automargin\":true,\"type\":\"pie\"}],\"scatter3d\":[{\"line\":{\"colorbar\":{\"outlinewidth\":0,\"ticks\":\"\"}},\"marker\":{\"colorbar\":{\"outlinewidth\":0,\"ticks\":\"\"}},\"type\":\"scatter3d\"}],\"scattercarpet\":[{\"marker\":{\"colorbar\":{\"outlinewidth\":0,\"ticks\":\"\"}},\"type\":\"scattercarpet\"}],\"scattergeo\":[{\"marker\":{\"colorbar\":{\"outlinewidth\":0,\"ticks\":\"\"}},\"type\":\"scattergeo\"}],\"scattergl\":[{\"marker\":{\"colorbar\":{\"outlinewidth\":0,\"ticks\":\"\"}},\"type\":\"scattergl\"}],\"scattermapbox\":[{\"marker\":{\"colorbar\":{\"outlinewidth\":0,\"ticks\":\"\"}},\"type\":\"scattermapbox\"}],\"scatterpolargl\":[{\"marker\":{\"colorbar\":{\"outlinewidth\":0,\"ticks\":\"\"}},\"type\":\"scatterpolargl\"}],\"scatterpolar\":[{\"marker\":{\"colorbar\":{\"outlinewidth\":0,\"ticks\":\"\"}},\"type\":\"scatterpolar\"}],\"scatter\":[{\"marker\":{\"colorbar\":{\"outlinewidth\":0,\"ticks\":\"\"}},\"type\":\"scatter\"}],\"scatterternary\":[{\"marker\":{\"colorbar\":{\"outlinewidth\":0,\"ticks\":\"\"}},\"type\":\"scatterternary\"}],\"surface\":[{\"colorbar\":{\"outlinewidth\":0,\"ticks\":\"\"},\"colorscale\":[[0.0,\"#0d0887\"],[0.1111111111111111,\"#46039f\"],[0.2222222222222222,\"#7201a8\"],[0.3333333333333333,\"#9c179e\"],[0.4444444444444444,\"#bd3786\"],[0.5555555555555556,\"#d8576b\"],[0.6666666666666666,\"#ed7953\"],[0.7777777777777778,\"#fb9f3a\"],[0.8888888888888888,\"#fdca26\"],[1.0,\"#f0f921\"]],\"type\":\"surface\"}],\"table\":[{\"cells\":{\"fill\":{\"color\":\"#EBF0F8\"},\"line\":{\"color\":\"white\"}},\"header\":{\"fill\":{\"color\":\"#C8D4E3\"},\"line\":{\"color\":\"white\"}},\"type\":\"table\"}]},\"layout\":{\"annotationdefaults\":{\"arrowcolor\":\"#2a3f5f\",\"arrowhead\":0,\"arrowwidth\":1},\"autotypenumbers\":\"strict\",\"coloraxis\":{\"colorbar\":{\"outlinewidth\":0,\"ticks\":\"\"}},\"colorscale\":{\"diverging\":[[0,\"#8e0152\"],[0.1,\"#c51b7d\"],[0.2,\"#de77ae\"],[0.3,\"#f1b6da\"],[0.4,\"#fde0ef\"],[0.5,\"#f7f7f7\"],[0.6,\"#e6f5d0\"],[0.7,\"#b8e186\"],[0.8,\"#7fbc41\"],[0.9,\"#4d9221\"],[1,\"#276419\"]],\"sequential\":[[0.0,\"#0d0887\"],[0.1111111111111111,\"#46039f\"],[0.2222222222222222,\"#7201a8\"],[0.3333333333333333,\"#9c179e\"],[0.4444444444444444,\"#bd3786\"],[0.5555555555555556,\"#d8576b\"],[0.6666666666666666,\"#ed7953\"],[0.7777777777777778,\"#fb9f3a\"],[0.8888888888888888,\"#fdca26\"],[1.0,\"#f0f921\"]],\"sequentialminus\":[[0.0,\"#0d0887\"],[0.1111111111111111,\"#46039f\"],[0.2222222222222222,\"#7201a8\"],[0.3333333333333333,\"#9c179e\"],[0.4444444444444444,\"#bd3786\"],[0.5555555555555556,\"#d8576b\"],[0.6666666666666666,\"#ed7953\"],[0.7777777777777778,\"#fb9f3a\"],[0.8888888888888888,\"#fdca26\"],[1.0,\"#f0f921\"]]},\"colorway\":[\"#636efa\",\"#EF553B\",\"#00cc96\",\"#ab63fa\",\"#FFA15A\",\"#19d3f3\",\"#FF6692\",\"#B6E880\",\"#FF97FF\",\"#FECB52\"],\"font\":{\"color\":\"#2a3f5f\"},\"geo\":{\"bgcolor\":\"white\",\"lakecolor\":\"white\",\"landcolor\":\"#E5ECF6\",\"showlakes\":true,\"showland\":true,\"subunitcolor\":\"white\"},\"hoverlabel\":{\"align\":\"left\"},\"hovermode\":\"closest\",\"mapbox\":{\"style\":\"light\"},\"paper_bgcolor\":\"white\",\"plot_bgcolor\":\"#E5ECF6\",\"polar\":{\"angularaxis\":{\"gridcolor\":\"white\",\"linecolor\":\"white\",\"ticks\":\"\"},\"bgcolor\":\"#E5ECF6\",\"radialaxis\":{\"gridcolor\":\"white\",\"linecolor\":\"white\",\"ticks\":\"\"}},\"scene\":{\"xaxis\":{\"backgroundcolor\":\"#E5ECF6\",\"gridcolor\":\"white\",\"gridwidth\":2,\"linecolor\":\"white\",\"showbackground\":true,\"ticks\":\"\",\"zerolinecolor\":\"white\"},\"yaxis\":{\"backgroundcolor\":\"#E5ECF6\",\"gridcolor\":\"white\",\"gridwidth\":2,\"linecolor\":\"white\",\"showbackground\":true,\"ticks\":\"\",\"zerolinecolor\":\"white\"},\"zaxis\":{\"backgroundcolor\":\"#E5ECF6\",\"gridcolor\":\"white\",\"gridwidth\":2,\"linecolor\":\"white\",\"showbackground\":true,\"ticks\":\"\",\"zerolinecolor\":\"white\"}},\"shapedefaults\":{\"line\":{\"color\":\"#2a3f5f\"}},\"ternary\":{\"aaxis\":{\"gridcolor\":\"white\",\"linecolor\":\"white\",\"ticks\":\"\"},\"baxis\":{\"gridcolor\":\"white\",\"linecolor\":\"white\",\"ticks\":\"\"},\"bgcolor\":\"#E5ECF6\",\"caxis\":{\"gridcolor\":\"white\",\"linecolor\":\"white\",\"ticks\":\"\"}},\"title\":{\"x\":0.05},\"xaxis\":{\"automargin\":true,\"gridcolor\":\"white\",\"linecolor\":\"white\",\"ticks\":\"\",\"title\":{\"standoff\":15},\"zerolinecolor\":\"white\",\"zerolinewidth\":2},\"yaxis\":{\"automargin\":true,\"gridcolor\":\"white\",\"linecolor\":\"white\",\"ticks\":\"\",\"title\":{\"standoff\":15},\"zerolinecolor\":\"white\",\"zerolinewidth\":2}}},\"title\":{\"font\":{\"color\":\"#4D5663\"}},\"xaxis\":{\"anchor\":\"y2\",\"gridcolor\":\"#E1E5ED\",\"rangeselector\":{\"bgcolor\":\"rgba(150, 200, 250, 1)\",\"buttons\":[{\"count\":1,\"label\":\"1m\",\"step\":\"month\",\"stepmode\":\"backward\"},{\"count\":1,\"label\":\"1y\",\"step\":\"year\",\"stepmode\":\"backward\"}],\"font\":{\"size\":13},\"visible\":false,\"x\":0,\"y\":0.9},\"rangeslider\":{\"visible\":false},\"showgrid\":true,\"tickfont\":{\"color\":\"#4D5663\"},\"title\":{\"font\":{\"color\":\"#4D5663\"},\"text\":\"\"},\"zerolinecolor\":\"#E1E5ED\"},\"yaxis\":{\"gridcolor\":\"#E1E5ED\",\"showgrid\":true,\"showticklabels\":false,\"tickfont\":{\"color\":\"#4D5663\"},\"title\":{\"font\":{\"color\":\"#4D5663\"},\"text\":\"\"},\"zerolinecolor\":\"#E1E5ED\"},\"yaxis2\":{\"domain\":[0.0,0.9],\"gridcolor\":\"#E1E5ED\",\"showgrid\":true,\"tickfont\":{\"color\":\"#4D5663\"},\"title\":{\"font\":{\"color\":\"#4D5663\"},\"text\":\"\"},\"zerolinecolor\":\"#E1E5ED\"}},                        {\"responsive\": true}                    ).then(function(){\n",
       "                            \n",
       "var gd = document.getElementById('490e522d-5934-41ac-9c77-aa51627fe1c4');\n",
       "var x = new MutationObserver(function (mutations, observer) {{\n",
       "        var display = window.getComputedStyle(gd).display;\n",
       "        if (!display || display === 'none') {{\n",
       "            console.log([gd, 'removed!']);\n",
       "            Plotly.purge(gd);\n",
       "            observer.disconnect();\n",
       "        }}\n",
       "}});\n",
       "\n",
       "// Listen for the removal of the full notebook cells\n",
       "var notebookContainer = gd.closest('#notebook-container');\n",
       "if (notebookContainer) {{\n",
       "    x.observe(notebookContainer, {childList: true});\n",
       "}}\n",
       "\n",
       "// Listen for the clearing of the current output cell\n",
       "var outputEl = gd.closest('.output');\n",
       "if (outputEl) {{\n",
       "    x.observe(outputEl, {childList: true});\n",
       "}}\n",
       "\n",
       "                        }).then(function(){\n",
       "                            function downloadimage(format, height, width, filename) {var p = document.getElementById('490e522d-5934-41ac-9c77-aa51627fe1c4');Plotly.downloadImage(p, {format: format, height: height, width: width, filename: filename});};if(document.readyState == 'complete') {downloadimage('png', 600, 800, 'qf_04');}\n",
       "                        })                };                });            </script>        </div>"
      ]
     },
     "metadata": {},
     "output_type": "display_data"
    }
   ],
   "source": [
    "qf.add_bollinger_bands(periods=15,boll_std=2)\n",
    "\n",
    "plyo.iplot(qf.iplot(asFigure=True),image='png',\n",
    "          filename='qf_04')"
   ]
  },
  {
   "cell_type": "code",
   "execution_count": 17,
   "metadata": {},
   "outputs": [
    {
     "data": {
      "application/vnd.plotly.v1+json": {
       "config": {
        "linkText": "Export to plot.ly",
        "plotlyServerURL": "https://plot.ly",
        "showLink": false
       },
       "data": [
        {
         "legendgroup": " SMA([10, 20])",
         "line": {
          "color": "rgba(0, 128, 0, 1.0)",
          "dash": "solid",
          "shape": "linear",
          "width": 2
         },
         "mode": "lines",
         "name": " SMA([10, 20])",
         "showlegend": true,
         "text": "",
         "type": "scatter",
         "x": [
          3179,
          3180,
          3181,
          3182,
          3183,
          3184,
          3185,
          3186,
          3187,
          3188,
          3189,
          3190,
          3191,
          3192,
          3193,
          3194,
          3195,
          3196,
          3197,
          3198,
          3199,
          3200,
          3201,
          3202,
          3203,
          3204,
          3205,
          3206,
          3207,
          3208,
          3209,
          3210,
          3211,
          3212,
          3213,
          3214,
          3215,
          3216,
          3217,
          3218,
          3219,
          3220,
          3221,
          3222,
          3223,
          3224,
          3225,
          3226,
          3227,
          3228,
          3229,
          3230,
          3231,
          3232,
          3233,
          3234,
          3235,
          3236,
          3237,
          3238
         ],
         "y": [
          "",
          "",
          "",
          "",
          "",
          "",
          "",
          "",
          "",
          -0.03698877480189815,
          -0.03694190781691724,
          -0.036903727126527855,
          -0.03687753322263008,
          -0.03684205293470439,
          -0.03680702271385598,
          -0.03675897055223823,
          -0.03671883957118063,
          -0.03668964522010097,
          -0.036663001249125915,
          -0.036644443483306005,
          -0.03661899969120369,
          -0.036590855496637695,
          -0.036570197417790475,
          -0.036558510676017064,
          -0.03654712397896184,
          -0.03656778205780906,
          -0.036598176587761475,
          -0.0366138839287586,
          -0.03663934272309682,
          -0.03666568664935369,
          -0.03668182905519219,
          -0.0366951210362079,
          -0.03669701131793248,
          -0.0366983165124566,
          -0.036687619918253214,
          -0.03665820053363491,
          -0.03661889467555233,
          -0.036583489398806186,
          -0.036528131148300565,
          -0.03648432461944517,
          -0.03645372005819003,
          -0.03643916788935793,
          -0.036430016525453204,
          -0.03641231388708013,
          -0.03639896189712079,
          -0.03639206086860247,
          -0.03638125925874771,
          -0.03636970753709749,
          -0.03636715715699289,
          -0.0363524549658017,
          -0.03634375366897426,
          -0.03631509939838734,
          -0.036291395865650514,
          -0.03627264307076379,
          -0.03625584056654528,
          -0.03623783788345401,
          -0.03622388580405829,
          -0.036213084194203535,
          -0.036216684730821784,
          -0.03623408732447668
         ],
         "yaxis": "y2"
        },
        {
         "legendgroup": " SMA([10, 20])",
         "line": {
          "color": "rgba(144, 238, 144, 1.0)",
          "dash": "solid",
          "shape": "linear",
          "width": 2
         },
         "mode": "lines",
         "name": " SMA(20)",
         "showlegend": false,
         "text": "",
         "type": "scatter",
         "x": [
          3179,
          3180,
          3181,
          3182,
          3183,
          3184,
          3185,
          3186,
          3187,
          3188,
          3189,
          3190,
          3191,
          3192,
          3193,
          3194,
          3195,
          3196,
          3197,
          3198,
          3199,
          3200,
          3201,
          3202,
          3203,
          3204,
          3205,
          3206,
          3207,
          3208,
          3209,
          3210,
          3211,
          3212,
          3213,
          3214,
          3215,
          3216,
          3217,
          3218,
          3219,
          3220,
          3221,
          3222,
          3223,
          3224,
          3225,
          3226,
          3227,
          3228,
          3229,
          3230,
          3231,
          3232,
          3233,
          3234,
          3235,
          3236,
          3237,
          3238
         ],
         "y": [
          "",
          "",
          "",
          "",
          "",
          "",
          "",
          "",
          "",
          "",
          "",
          "",
          "",
          "",
          "",
          "",
          "",
          "",
          "",
          -0.036816609142602076,
          -0.036780453754060465,
          -0.03674729131158278,
          -0.036723865320210276,
          -0.03670028180536073,
          -0.03667707334640892,
          -0.03666337630502365,
          -0.036658508079471054,
          -0.036651764574429785,
          -0.03665117198611136,
          -0.03665506506632985,
          -0.036650414373197944,
          -0.0366429882664228,
          -0.03663360436786148,
          -0.03662841359423683,
          -0.03661737194860752,
          -0.036612991295721986,
          -0.036608535631656905,
          -0.036598686663782395,
          -0.03658373693569869,
          -0.03657500563439943,
          -0.03656777455669111,
          -0.03656714446278291,
          -0.03656351392169284,
          -0.03655531519976836,
          -0.036543290907686994,
          -0.036525130701118694,
          -0.03650007696715002,
          -0.036476598467951836,
          -0.03644764415264673,
          -0.036418389792623435,
          -0.036398736863582144,
          -0.036377133643872635,
          -0.03636070619555186,
          -0.036342478478921955,
          -0.036327401231833034,
          -0.03631494937602824,
          -0.036302572531403,
          -0.036291395865650514,
          -0.03629192094390734,
          -0.03629327114513919
         ],
         "yaxis": "y2"
        },
        {
         "close": [
          -0.03724883856138729,
          -0.03717547762779041,
          -0.03699275039441414,
          -0.037021254642641964,
          -0.03703475665496041,
          -0.037001751735959765,
          -0.03691803925958541,
          -0.0369135385888126,
          -0.03685202942158412,
          -0.03672931113184538,
          -0.03678016871157819,
          -0.03679367072389663,
          -0.03673081135543632,
          -0.03666645176338507,
          -0.036684454446476326,
          -0.03652123011978225,
          -0.03651672944900943,
          -0.03662159507801602,
          -0.036585589711833504,
          -0.036543733473646325,
          -0.036525730790555065,
          -0.03651222877823662,
          -0.036524230566964126,
          -0.03654958434565098,
          -0.03657058747592412,
          -0.036727810908254444,
          -0.036820674748533525,
          -0.03677866848798725,
          -0.03684017765521572,
          -0.036807172736215074,
          -0.036687154848940015,
          -0.036645148588393746,
          -0.03654313338420995,
          -0.036562636290892146,
          -0.03646362153389022,
          -0.036433617062071454,
          -0.036427616167707705,
          -0.03642461572052583,
          -0.03628659515015951,
          -0.036369107447661114,
          -0.03638110923638862,
          -0.03649962690007274,
          -0.036451619745162714,
          -0.036385609907161436,
          -0.03633010163429672,
          -0.036364606776888304,
          -0.03631960006916015,
          -0.036309098504023585,
          -0.03626109134911357,
          -0.03622208553574917,
          -0.0362940962681142,
          -0.036213084194203535,
          -0.03621458441779448,
          -0.03619808195829416,
          -0.03616207659211164,
          -0.03618457994597571,
          -0.0361800792752029,
          -0.03620108240547603,
          -0.03629709671529608,
          -0.036396111472298
         ],
         "decreasing": {
          "line": {
           "color": "#808080"
          }
         },
         "high": [
          -0.03732512591468666,
          -0.037283502125026034,
          -0.03713162750898831,
          -0.03708015723145097,
          -0.037112232911655406,
          -0.037113724803757936,
          -0.03704897668650806,
          -0.03704077127994414,
          -0.03699601451686819,
          -0.036862042606060845,
          -0.036809975571682495,
          -0.03691425882964946,
          -0.03686502639026591,
          -0.03680027827301604,
          -0.036735530155766166,
          -0.036647657710927053,
          -0.03662527932938908,
          -0.03665511717143971,
          -0.03670718420581807,
          -0.0366685442003625,
          -0.03664318203461946,
          -0.03662095284229174,
          -0.03663423068200427,
          -0.036667052308259965,
          -0.036647657710927053,
          -0.03670270852951047,
          -0.03685159936134313,
          -0.03688740477180389,
          -0.03689337234021401,
          -0.036944693428541106,
          -0.03680669340905693,
          -0.03670076906977718,
          -0.036687342040854394,
          -0.03666943933562402,
          -0.036611255543625286,
          -0.03655307175162655,
          -0.03653964472270377,
          -0.03652323390957592,
          -0.03642924470711643,
          -0.03639642308086073,
          -0.03646355822547465,
          -0.036566498780549336,
          -0.03658067175552339,
          -0.036522487963524655,
          -0.03643968795183415,
          -0.03641730957029617,
          -0.036436704167629085,
          -0.03629199063368352,
          -0.0363949311887582,
          -0.036368077130912634,
          -0.03638001226773288,
          -0.036344206857272125,
          -0.03630392577050377,
          -0.03631287712311896,
          -0.03626961225214554,
          -0.03630243387840124,
          -0.036274087928453144,
          -0.036320336583631624,
          -0.036372552807220224,
          -0.036432228491321494
         ],
         "increasing": {
          "line": {
           "color": "#17BECF"
          }
         },
         "low": [
          -0.037242178751826095,
          -0.037139664571822356,
          -0.0370055959534964,
          -0.036892664279501115,
          -0.03693025784477495,
          -0.03688209580733578,
          -0.036836953333372426,
          -0.036829253446509114,
          -0.036773542500380424,
          -0.03669669460992106,
          -0.03665004235421981,
          -0.03671028264556221,
          -0.036674198862026275,
          -0.036607919443732255,
          -0.03655658686464349,
          -0.0364691705020188,
          -0.036396851956773155,
          -0.0364691705020188,
          -0.036506915045466416,
          -0.03643761606369659,
          -0.036425537809793344,
          -0.03638039533582999,
          -0.036414969337628014,
          -0.036436106281958675,
          -0.036424028028055444,
          -0.03661531737424799,
          -0.03669518482818316,
          -0.036674198862026275,
          -0.03668627711592952,
          -0.03672387068120335,
          -0.036618336937723796,
          -0.03650208374390512,
          -0.03648849570826398,
          -0.0364326337839615,
          -0.03641149683963083,
          -0.03635714469706626,
          -0.036326949062308156,
          -0.036308831681453296,
          -0.0362786360466952,
          -0.036225793685868535,
          -0.03624391106672339,
          -0.03636167404227997,
          -0.03634959578837673,
          -0.03635110557011464,
          -0.036198617614586245,
          -0.036219754558916906,
          -0.036227303467606435,
          -0.03620465674153786,
          -0.03617899045199348,
          -0.036147285035497474,
          -0.03619408826937253,
          -0.03612765787290471,
          -0.036082364420767565,
          -0.03608689376598128,
          -0.03605669813122318,
          -0.03602499271472718,
          -0.03605216878600946,
          -0.036092781914759106,
          -0.03622277412239272,
          -0.036254479538888724
         ],
         "name": "Trace 1",
         "open": [
          -0.03732390805472356,
          -0.03727455483892942,
          -0.03715769722463266,
          -0.037030488935898824,
          -0.03700798746973129,
          -0.03697963562236019,
          -0.036973635231382175,
          -0.03698263581784919,
          -0.036928632299047096,
          -0.03683892645392583,
          -0.03670406766669504,
          -0.036835926258436825,
          -0.03675507099000813,
          -0.036711568155417554,
          -0.03666671523285692,
          -0.03661436182157377,
          -0.03649900430502152,
          -0.03655285781404916,
          -0.03664271366894488,
          -0.036587360062172725,
          -0.036526006064422564,
          -0.03650200450051052,
          -0.036493003914043504,
          -0.03655735810728267,
          -0.03656185840051618,
          -0.03656935888923869,
          -0.036741570110307605,
          -0.03679842381482426,
          -0.03680142401031326,
          -0.03683892645392583,
          -0.03677592234865672,
          -0.036660414822330005,
          -0.036646913942629485,
          -0.0365419071005143,
          -0.036567408762170836,
          -0.03644590084486612,
          -0.03641739898772057,
          -0.03641739898772057,
          -0.03642189928095407,
          -0.03627488970199281,
          -0.03633939390500643,
          -0.03641739898772057,
          -0.03646240192005565,
          -0.03645340133358863,
          -0.03633939390500643,
          -0.036301891461393856,
          -0.0363228928298169,
          -0.036234387062891234,
          -0.03628989067943784,
          -0.03624938804033626,
          -0.036234387062891234,
          -0.03628839058169333,
          -0.036189384130556154,
          -0.036207385303490186,
          -0.036205885205745685,
          -0.03618638393506715,
          -0.03617138295762212,
          -0.03620438510800118,
          -0.036231386867402224,
          -0.036316892438838885
         ],
         "showlegend": true,
         "type": "candlestick",
         "x": [
          3179,
          3180,
          3181,
          3182,
          3183,
          3184,
          3185,
          3186,
          3187,
          3188,
          3189,
          3190,
          3191,
          3192,
          3193,
          3194,
          3195,
          3196,
          3197,
          3198,
          3199,
          3200,
          3201,
          3202,
          3203,
          3204,
          3205,
          3206,
          3207,
          3208,
          3209,
          3210,
          3211,
          3212,
          3213,
          3214,
          3215,
          3216,
          3217,
          3218,
          3219,
          3220,
          3221,
          3222,
          3223,
          3224,
          3225,
          3226,
          3227,
          3228,
          3229,
          3230,
          3231,
          3232,
          3233,
          3234,
          3235,
          3236,
          3237,
          3238
         ],
         "yaxis": "y2"
        }
       ],
       "layout": {
        "legend": {
         "bgcolor": "#F5F6F9",
         "font": {
          "color": "#4D5663"
         }
        },
        "margin": {
         "b": 30,
         "l": 30,
         "r": 30,
         "t": 30
        },
        "paper_bgcolor": "#F5F6F9",
        "plot_bgcolor": "#F5F6F9",
        "showlegend": true,
        "template": {
         "data": {
          "bar": [
           {
            "error_x": {
             "color": "#2a3f5f"
            },
            "error_y": {
             "color": "#2a3f5f"
            },
            "marker": {
             "line": {
              "color": "#E5ECF6",
              "width": 0.5
             },
             "pattern": {
              "fillmode": "overlay",
              "size": 10,
              "solidity": 0.2
             }
            },
            "type": "bar"
           }
          ],
          "barpolar": [
           {
            "marker": {
             "line": {
              "color": "#E5ECF6",
              "width": 0.5
             },
             "pattern": {
              "fillmode": "overlay",
              "size": 10,
              "solidity": 0.2
             }
            },
            "type": "barpolar"
           }
          ],
          "carpet": [
           {
            "aaxis": {
             "endlinecolor": "#2a3f5f",
             "gridcolor": "white",
             "linecolor": "white",
             "minorgridcolor": "white",
             "startlinecolor": "#2a3f5f"
            },
            "baxis": {
             "endlinecolor": "#2a3f5f",
             "gridcolor": "white",
             "linecolor": "white",
             "minorgridcolor": "white",
             "startlinecolor": "#2a3f5f"
            },
            "type": "carpet"
           }
          ],
          "choropleth": [
           {
            "colorbar": {
             "outlinewidth": 0,
             "ticks": ""
            },
            "type": "choropleth"
           }
          ],
          "contour": [
           {
            "colorbar": {
             "outlinewidth": 0,
             "ticks": ""
            },
            "colorscale": [
             [
              0,
              "#0d0887"
             ],
             [
              0.1111111111111111,
              "#46039f"
             ],
             [
              0.2222222222222222,
              "#7201a8"
             ],
             [
              0.3333333333333333,
              "#9c179e"
             ],
             [
              0.4444444444444444,
              "#bd3786"
             ],
             [
              0.5555555555555556,
              "#d8576b"
             ],
             [
              0.6666666666666666,
              "#ed7953"
             ],
             [
              0.7777777777777778,
              "#fb9f3a"
             ],
             [
              0.8888888888888888,
              "#fdca26"
             ],
             [
              1,
              "#f0f921"
             ]
            ],
            "type": "contour"
           }
          ],
          "contourcarpet": [
           {
            "colorbar": {
             "outlinewidth": 0,
             "ticks": ""
            },
            "type": "contourcarpet"
           }
          ],
          "heatmap": [
           {
            "colorbar": {
             "outlinewidth": 0,
             "ticks": ""
            },
            "colorscale": [
             [
              0,
              "#0d0887"
             ],
             [
              0.1111111111111111,
              "#46039f"
             ],
             [
              0.2222222222222222,
              "#7201a8"
             ],
             [
              0.3333333333333333,
              "#9c179e"
             ],
             [
              0.4444444444444444,
              "#bd3786"
             ],
             [
              0.5555555555555556,
              "#d8576b"
             ],
             [
              0.6666666666666666,
              "#ed7953"
             ],
             [
              0.7777777777777778,
              "#fb9f3a"
             ],
             [
              0.8888888888888888,
              "#fdca26"
             ],
             [
              1,
              "#f0f921"
             ]
            ],
            "type": "heatmap"
           }
          ],
          "heatmapgl": [
           {
            "colorbar": {
             "outlinewidth": 0,
             "ticks": ""
            },
            "colorscale": [
             [
              0,
              "#0d0887"
             ],
             [
              0.1111111111111111,
              "#46039f"
             ],
             [
              0.2222222222222222,
              "#7201a8"
             ],
             [
              0.3333333333333333,
              "#9c179e"
             ],
             [
              0.4444444444444444,
              "#bd3786"
             ],
             [
              0.5555555555555556,
              "#d8576b"
             ],
             [
              0.6666666666666666,
              "#ed7953"
             ],
             [
              0.7777777777777778,
              "#fb9f3a"
             ],
             [
              0.8888888888888888,
              "#fdca26"
             ],
             [
              1,
              "#f0f921"
             ]
            ],
            "type": "heatmapgl"
           }
          ],
          "histogram": [
           {
            "marker": {
             "pattern": {
              "fillmode": "overlay",
              "size": 10,
              "solidity": 0.2
             }
            },
            "type": "histogram"
           }
          ],
          "histogram2d": [
           {
            "colorbar": {
             "outlinewidth": 0,
             "ticks": ""
            },
            "colorscale": [
             [
              0,
              "#0d0887"
             ],
             [
              0.1111111111111111,
              "#46039f"
             ],
             [
              0.2222222222222222,
              "#7201a8"
             ],
             [
              0.3333333333333333,
              "#9c179e"
             ],
             [
              0.4444444444444444,
              "#bd3786"
             ],
             [
              0.5555555555555556,
              "#d8576b"
             ],
             [
              0.6666666666666666,
              "#ed7953"
             ],
             [
              0.7777777777777778,
              "#fb9f3a"
             ],
             [
              0.8888888888888888,
              "#fdca26"
             ],
             [
              1,
              "#f0f921"
             ]
            ],
            "type": "histogram2d"
           }
          ],
          "histogram2dcontour": [
           {
            "colorbar": {
             "outlinewidth": 0,
             "ticks": ""
            },
            "colorscale": [
             [
              0,
              "#0d0887"
             ],
             [
              0.1111111111111111,
              "#46039f"
             ],
             [
              0.2222222222222222,
              "#7201a8"
             ],
             [
              0.3333333333333333,
              "#9c179e"
             ],
             [
              0.4444444444444444,
              "#bd3786"
             ],
             [
              0.5555555555555556,
              "#d8576b"
             ],
             [
              0.6666666666666666,
              "#ed7953"
             ],
             [
              0.7777777777777778,
              "#fb9f3a"
             ],
             [
              0.8888888888888888,
              "#fdca26"
             ],
             [
              1,
              "#f0f921"
             ]
            ],
            "type": "histogram2dcontour"
           }
          ],
          "mesh3d": [
           {
            "colorbar": {
             "outlinewidth": 0,
             "ticks": ""
            },
            "type": "mesh3d"
           }
          ],
          "parcoords": [
           {
            "line": {
             "colorbar": {
              "outlinewidth": 0,
              "ticks": ""
             }
            },
            "type": "parcoords"
           }
          ],
          "pie": [
           {
            "automargin": true,
            "type": "pie"
           }
          ],
          "scatter": [
           {
            "marker": {
             "colorbar": {
              "outlinewidth": 0,
              "ticks": ""
             }
            },
            "type": "scatter"
           }
          ],
          "scatter3d": [
           {
            "line": {
             "colorbar": {
              "outlinewidth": 0,
              "ticks": ""
             }
            },
            "marker": {
             "colorbar": {
              "outlinewidth": 0,
              "ticks": ""
             }
            },
            "type": "scatter3d"
           }
          ],
          "scattercarpet": [
           {
            "marker": {
             "colorbar": {
              "outlinewidth": 0,
              "ticks": ""
             }
            },
            "type": "scattercarpet"
           }
          ],
          "scattergeo": [
           {
            "marker": {
             "colorbar": {
              "outlinewidth": 0,
              "ticks": ""
             }
            },
            "type": "scattergeo"
           }
          ],
          "scattergl": [
           {
            "marker": {
             "colorbar": {
              "outlinewidth": 0,
              "ticks": ""
             }
            },
            "type": "scattergl"
           }
          ],
          "scattermapbox": [
           {
            "marker": {
             "colorbar": {
              "outlinewidth": 0,
              "ticks": ""
             }
            },
            "type": "scattermapbox"
           }
          ],
          "scatterpolar": [
           {
            "marker": {
             "colorbar": {
              "outlinewidth": 0,
              "ticks": ""
             }
            },
            "type": "scatterpolar"
           }
          ],
          "scatterpolargl": [
           {
            "marker": {
             "colorbar": {
              "outlinewidth": 0,
              "ticks": ""
             }
            },
            "type": "scatterpolargl"
           }
          ],
          "scatterternary": [
           {
            "marker": {
             "colorbar": {
              "outlinewidth": 0,
              "ticks": ""
             }
            },
            "type": "scatterternary"
           }
          ],
          "surface": [
           {
            "colorbar": {
             "outlinewidth": 0,
             "ticks": ""
            },
            "colorscale": [
             [
              0,
              "#0d0887"
             ],
             [
              0.1111111111111111,
              "#46039f"
             ],
             [
              0.2222222222222222,
              "#7201a8"
             ],
             [
              0.3333333333333333,
              "#9c179e"
             ],
             [
              0.4444444444444444,
              "#bd3786"
             ],
             [
              0.5555555555555556,
              "#d8576b"
             ],
             [
              0.6666666666666666,
              "#ed7953"
             ],
             [
              0.7777777777777778,
              "#fb9f3a"
             ],
             [
              0.8888888888888888,
              "#fdca26"
             ],
             [
              1,
              "#f0f921"
             ]
            ],
            "type": "surface"
           }
          ],
          "table": [
           {
            "cells": {
             "fill": {
              "color": "#EBF0F8"
             },
             "line": {
              "color": "white"
             }
            },
            "header": {
             "fill": {
              "color": "#C8D4E3"
             },
             "line": {
              "color": "white"
             }
            },
            "type": "table"
           }
          ]
         },
         "layout": {
          "annotationdefaults": {
           "arrowcolor": "#2a3f5f",
           "arrowhead": 0,
           "arrowwidth": 1
          },
          "autotypenumbers": "strict",
          "coloraxis": {
           "colorbar": {
            "outlinewidth": 0,
            "ticks": ""
           }
          },
          "colorscale": {
           "diverging": [
            [
             0,
             "#8e0152"
            ],
            [
             0.1,
             "#c51b7d"
            ],
            [
             0.2,
             "#de77ae"
            ],
            [
             0.3,
             "#f1b6da"
            ],
            [
             0.4,
             "#fde0ef"
            ],
            [
             0.5,
             "#f7f7f7"
            ],
            [
             0.6,
             "#e6f5d0"
            ],
            [
             0.7,
             "#b8e186"
            ],
            [
             0.8,
             "#7fbc41"
            ],
            [
             0.9,
             "#4d9221"
            ],
            [
             1,
             "#276419"
            ]
           ],
           "sequential": [
            [
             0,
             "#0d0887"
            ],
            [
             0.1111111111111111,
             "#46039f"
            ],
            [
             0.2222222222222222,
             "#7201a8"
            ],
            [
             0.3333333333333333,
             "#9c179e"
            ],
            [
             0.4444444444444444,
             "#bd3786"
            ],
            [
             0.5555555555555556,
             "#d8576b"
            ],
            [
             0.6666666666666666,
             "#ed7953"
            ],
            [
             0.7777777777777778,
             "#fb9f3a"
            ],
            [
             0.8888888888888888,
             "#fdca26"
            ],
            [
             1,
             "#f0f921"
            ]
           ],
           "sequentialminus": [
            [
             0,
             "#0d0887"
            ],
            [
             0.1111111111111111,
             "#46039f"
            ],
            [
             0.2222222222222222,
             "#7201a8"
            ],
            [
             0.3333333333333333,
             "#9c179e"
            ],
            [
             0.4444444444444444,
             "#bd3786"
            ],
            [
             0.5555555555555556,
             "#d8576b"
            ],
            [
             0.6666666666666666,
             "#ed7953"
            ],
            [
             0.7777777777777778,
             "#fb9f3a"
            ],
            [
             0.8888888888888888,
             "#fdca26"
            ],
            [
             1,
             "#f0f921"
            ]
           ]
          },
          "colorway": [
           "#636efa",
           "#EF553B",
           "#00cc96",
           "#ab63fa",
           "#FFA15A",
           "#19d3f3",
           "#FF6692",
           "#B6E880",
           "#FF97FF",
           "#FECB52"
          ],
          "font": {
           "color": "#2a3f5f"
          },
          "geo": {
           "bgcolor": "white",
           "lakecolor": "white",
           "landcolor": "#E5ECF6",
           "showlakes": true,
           "showland": true,
           "subunitcolor": "white"
          },
          "hoverlabel": {
           "align": "left"
          },
          "hovermode": "closest",
          "mapbox": {
           "style": "light"
          },
          "paper_bgcolor": "white",
          "plot_bgcolor": "#E5ECF6",
          "polar": {
           "angularaxis": {
            "gridcolor": "white",
            "linecolor": "white",
            "ticks": ""
           },
           "bgcolor": "#E5ECF6",
           "radialaxis": {
            "gridcolor": "white",
            "linecolor": "white",
            "ticks": ""
           }
          },
          "scene": {
           "xaxis": {
            "backgroundcolor": "#E5ECF6",
            "gridcolor": "white",
            "gridwidth": 2,
            "linecolor": "white",
            "showbackground": true,
            "ticks": "",
            "zerolinecolor": "white"
           },
           "yaxis": {
            "backgroundcolor": "#E5ECF6",
            "gridcolor": "white",
            "gridwidth": 2,
            "linecolor": "white",
            "showbackground": true,
            "ticks": "",
            "zerolinecolor": "white"
           },
           "zaxis": {
            "backgroundcolor": "#E5ECF6",
            "gridcolor": "white",
            "gridwidth": 2,
            "linecolor": "white",
            "showbackground": true,
            "ticks": "",
            "zerolinecolor": "white"
           }
          },
          "shapedefaults": {
           "line": {
            "color": "#2a3f5f"
           }
          },
          "ternary": {
           "aaxis": {
            "gridcolor": "white",
            "linecolor": "white",
            "ticks": ""
           },
           "baxis": {
            "gridcolor": "white",
            "linecolor": "white",
            "ticks": ""
           },
           "bgcolor": "#E5ECF6",
           "caxis": {
            "gridcolor": "white",
            "linecolor": "white",
            "ticks": ""
           }
          },
          "title": {
           "x": 0.05
          },
          "xaxis": {
           "automargin": true,
           "gridcolor": "white",
           "linecolor": "white",
           "ticks": "",
           "title": {
            "standoff": 15
           },
           "zerolinecolor": "white",
           "zerolinewidth": 2
          },
          "yaxis": {
           "automargin": true,
           "gridcolor": "white",
           "linecolor": "white",
           "ticks": "",
           "title": {
            "standoff": 15
           },
           "zerolinecolor": "white",
           "zerolinewidth": 2
          }
         }
        },
        "title": {
         "font": {
          "color": "#4D5663"
         }
        },
        "xaxis": {
         "anchor": "y2",
         "gridcolor": "#E1E5ED",
         "rangeselector": {
          "bgcolor": "rgba(150, 200, 250, 1)",
          "buttons": [
           {
            "count": 1,
            "label": "1m",
            "step": "month",
            "stepmode": "backward"
           },
           {
            "count": 1,
            "label": "1y",
            "step": "year",
            "stepmode": "backward"
           }
          ],
          "font": {
           "size": 13
          },
          "visible": false,
          "x": 0,
          "y": 0.9
         },
         "rangeslider": {
          "visible": false
         },
         "showgrid": true,
         "tickfont": {
          "color": "#4D5663"
         },
         "title": {
          "font": {
           "color": "#4D5663"
          },
          "text": ""
         },
         "zerolinecolor": "#E1E5ED"
        },
        "yaxis": {
         "gridcolor": "#E1E5ED",
         "showgrid": true,
         "showticklabels": false,
         "tickfont": {
          "color": "#4D5663"
         },
         "title": {
          "font": {
           "color": "#4D5663"
          },
          "text": ""
         },
         "zerolinecolor": "#E1E5ED"
        },
        "yaxis2": {
         "domain": [
          0,
          0.9
         ],
         "gridcolor": "#E1E5ED",
         "showgrid": true,
         "tickfont": {
          "color": "#4D5663"
         },
         "title": {
          "font": {
           "color": "#4D5663"
          },
          "text": ""
         },
         "zerolinecolor": "#E1E5ED"
        }
       }
      },
      "text/html": [
       "<div>                            <div id=\"ccc1c9ae-47d4-4283-ba45-51e406a6eb03\" class=\"plotly-graph-div\" style=\"height:525px; width:100%;\"></div>            <script type=\"text/javascript\">                require([\"plotly\"], function(Plotly) {                    window.PLOTLYENV=window.PLOTLYENV || {};                                    if (document.getElementById(\"ccc1c9ae-47d4-4283-ba45-51e406a6eb03\")) {                    Plotly.newPlot(                        \"ccc1c9ae-47d4-4283-ba45-51e406a6eb03\",                        [{\"legendgroup\":\" SMA([10, 20])\",\"line\":{\"color\":\"rgba(0, 128, 0, 1.0)\",\"dash\":\"solid\",\"shape\":\"linear\",\"width\":2},\"mode\":\"lines\",\"name\":\" SMA([10, 20])\",\"showlegend\":true,\"text\":\"\",\"x\":[3179,3180,3181,3182,3183,3184,3185,3186,3187,3188,3189,3190,3191,3192,3193,3194,3195,3196,3197,3198,3199,3200,3201,3202,3203,3204,3205,3206,3207,3208,3209,3210,3211,3212,3213,3214,3215,3216,3217,3218,3219,3220,3221,3222,3223,3224,3225,3226,3227,3228,3229,3230,3231,3232,3233,3234,3235,3236,3237,3238],\"y\":[\"\",\"\",\"\",\"\",\"\",\"\",\"\",\"\",\"\",-0.03698877480189815,-0.03694190781691724,-0.036903727126527855,-0.03687753322263008,-0.03684205293470439,-0.03680702271385598,-0.03675897055223823,-0.03671883957118063,-0.03668964522010097,-0.036663001249125915,-0.036644443483306005,-0.03661899969120369,-0.036590855496637695,-0.036570197417790475,-0.036558510676017064,-0.03654712397896184,-0.03656778205780906,-0.036598176587761475,-0.0366138839287586,-0.03663934272309682,-0.03666568664935369,-0.03668182905519219,-0.0366951210362079,-0.03669701131793248,-0.0366983165124566,-0.036687619918253214,-0.03665820053363491,-0.03661889467555233,-0.036583489398806186,-0.036528131148300565,-0.03648432461944517,-0.03645372005819003,-0.03643916788935793,-0.036430016525453204,-0.03641231388708013,-0.03639896189712079,-0.03639206086860247,-0.03638125925874771,-0.03636970753709749,-0.03636715715699289,-0.0363524549658017,-0.03634375366897426,-0.03631509939838734,-0.036291395865650514,-0.03627264307076379,-0.03625584056654528,-0.03623783788345401,-0.03622388580405829,-0.036213084194203535,-0.036216684730821784,-0.03623408732447668],\"yaxis\":\"y2\",\"type\":\"scatter\"},{\"legendgroup\":\" SMA([10, 20])\",\"line\":{\"color\":\"rgba(144, 238, 144, 1.0)\",\"dash\":\"solid\",\"shape\":\"linear\",\"width\":2},\"mode\":\"lines\",\"name\":\" SMA(20)\",\"showlegend\":false,\"text\":\"\",\"x\":[3179,3180,3181,3182,3183,3184,3185,3186,3187,3188,3189,3190,3191,3192,3193,3194,3195,3196,3197,3198,3199,3200,3201,3202,3203,3204,3205,3206,3207,3208,3209,3210,3211,3212,3213,3214,3215,3216,3217,3218,3219,3220,3221,3222,3223,3224,3225,3226,3227,3228,3229,3230,3231,3232,3233,3234,3235,3236,3237,3238],\"y\":[\"\",\"\",\"\",\"\",\"\",\"\",\"\",\"\",\"\",\"\",\"\",\"\",\"\",\"\",\"\",\"\",\"\",\"\",\"\",-0.036816609142602076,-0.036780453754060465,-0.03674729131158278,-0.036723865320210276,-0.03670028180536073,-0.03667707334640892,-0.03666337630502365,-0.036658508079471054,-0.036651764574429785,-0.03665117198611136,-0.03665506506632985,-0.036650414373197944,-0.0366429882664228,-0.03663360436786148,-0.03662841359423683,-0.03661737194860752,-0.036612991295721986,-0.036608535631656905,-0.036598686663782395,-0.03658373693569869,-0.03657500563439943,-0.03656777455669111,-0.03656714446278291,-0.03656351392169284,-0.03655531519976836,-0.036543290907686994,-0.036525130701118694,-0.03650007696715002,-0.036476598467951836,-0.03644764415264673,-0.036418389792623435,-0.036398736863582144,-0.036377133643872635,-0.03636070619555186,-0.036342478478921955,-0.036327401231833034,-0.03631494937602824,-0.036302572531403,-0.036291395865650514,-0.03629192094390734,-0.03629327114513919],\"yaxis\":\"y2\",\"type\":\"scatter\"},{\"close\":[-0.03724883856138729,-0.03717547762779041,-0.03699275039441414,-0.037021254642641964,-0.03703475665496041,-0.037001751735959765,-0.03691803925958541,-0.0369135385888126,-0.03685202942158412,-0.03672931113184538,-0.03678016871157819,-0.03679367072389663,-0.03673081135543632,-0.03666645176338507,-0.036684454446476326,-0.03652123011978225,-0.03651672944900943,-0.03662159507801602,-0.036585589711833504,-0.036543733473646325,-0.036525730790555065,-0.03651222877823662,-0.036524230566964126,-0.03654958434565098,-0.03657058747592412,-0.036727810908254444,-0.036820674748533525,-0.03677866848798725,-0.03684017765521572,-0.036807172736215074,-0.036687154848940015,-0.036645148588393746,-0.03654313338420995,-0.036562636290892146,-0.03646362153389022,-0.036433617062071454,-0.036427616167707705,-0.03642461572052583,-0.03628659515015951,-0.036369107447661114,-0.03638110923638862,-0.03649962690007274,-0.036451619745162714,-0.036385609907161436,-0.03633010163429672,-0.036364606776888304,-0.03631960006916015,-0.036309098504023585,-0.03626109134911357,-0.03622208553574917,-0.0362940962681142,-0.036213084194203535,-0.03621458441779448,-0.03619808195829416,-0.03616207659211164,-0.03618457994597571,-0.0361800792752029,-0.03620108240547603,-0.03629709671529608,-0.036396111472298],\"decreasing\":{\"line\":{\"color\":\"#808080\"}},\"high\":[-0.03732512591468666,-0.037283502125026034,-0.03713162750898831,-0.03708015723145097,-0.037112232911655406,-0.037113724803757936,-0.03704897668650806,-0.03704077127994414,-0.03699601451686819,-0.036862042606060845,-0.036809975571682495,-0.03691425882964946,-0.03686502639026591,-0.03680027827301604,-0.036735530155766166,-0.036647657710927053,-0.03662527932938908,-0.03665511717143971,-0.03670718420581807,-0.0366685442003625,-0.03664318203461946,-0.03662095284229174,-0.03663423068200427,-0.036667052308259965,-0.036647657710927053,-0.03670270852951047,-0.03685159936134313,-0.03688740477180389,-0.03689337234021401,-0.036944693428541106,-0.03680669340905693,-0.03670076906977718,-0.036687342040854394,-0.03666943933562402,-0.036611255543625286,-0.03655307175162655,-0.03653964472270377,-0.03652323390957592,-0.03642924470711643,-0.03639642308086073,-0.03646355822547465,-0.036566498780549336,-0.03658067175552339,-0.036522487963524655,-0.03643968795183415,-0.03641730957029617,-0.036436704167629085,-0.03629199063368352,-0.0363949311887582,-0.036368077130912634,-0.03638001226773288,-0.036344206857272125,-0.03630392577050377,-0.03631287712311896,-0.03626961225214554,-0.03630243387840124,-0.036274087928453144,-0.036320336583631624,-0.036372552807220224,-0.036432228491321494],\"increasing\":{\"line\":{\"color\":\"#17BECF\"}},\"low\":[-0.037242178751826095,-0.037139664571822356,-0.0370055959534964,-0.036892664279501115,-0.03693025784477495,-0.03688209580733578,-0.036836953333372426,-0.036829253446509114,-0.036773542500380424,-0.03669669460992106,-0.03665004235421981,-0.03671028264556221,-0.036674198862026275,-0.036607919443732255,-0.03655658686464349,-0.0364691705020188,-0.036396851956773155,-0.0364691705020188,-0.036506915045466416,-0.03643761606369659,-0.036425537809793344,-0.03638039533582999,-0.036414969337628014,-0.036436106281958675,-0.036424028028055444,-0.03661531737424799,-0.03669518482818316,-0.036674198862026275,-0.03668627711592952,-0.03672387068120335,-0.036618336937723796,-0.03650208374390512,-0.03648849570826398,-0.0364326337839615,-0.03641149683963083,-0.03635714469706626,-0.036326949062308156,-0.036308831681453296,-0.0362786360466952,-0.036225793685868535,-0.03624391106672339,-0.03636167404227997,-0.03634959578837673,-0.03635110557011464,-0.036198617614586245,-0.036219754558916906,-0.036227303467606435,-0.03620465674153786,-0.03617899045199348,-0.036147285035497474,-0.03619408826937253,-0.03612765787290471,-0.036082364420767565,-0.03608689376598128,-0.03605669813122318,-0.03602499271472718,-0.03605216878600946,-0.036092781914759106,-0.03622277412239272,-0.036254479538888724],\"name\":\"Trace 1\",\"open\":[-0.03732390805472356,-0.03727455483892942,-0.03715769722463266,-0.037030488935898824,-0.03700798746973129,-0.03697963562236019,-0.036973635231382175,-0.03698263581784919,-0.036928632299047096,-0.03683892645392583,-0.03670406766669504,-0.036835926258436825,-0.03675507099000813,-0.036711568155417554,-0.03666671523285692,-0.03661436182157377,-0.03649900430502152,-0.03655285781404916,-0.03664271366894488,-0.036587360062172725,-0.036526006064422564,-0.03650200450051052,-0.036493003914043504,-0.03655735810728267,-0.03656185840051618,-0.03656935888923869,-0.036741570110307605,-0.03679842381482426,-0.03680142401031326,-0.03683892645392583,-0.03677592234865672,-0.036660414822330005,-0.036646913942629485,-0.0365419071005143,-0.036567408762170836,-0.03644590084486612,-0.03641739898772057,-0.03641739898772057,-0.03642189928095407,-0.03627488970199281,-0.03633939390500643,-0.03641739898772057,-0.03646240192005565,-0.03645340133358863,-0.03633939390500643,-0.036301891461393856,-0.0363228928298169,-0.036234387062891234,-0.03628989067943784,-0.03624938804033626,-0.036234387062891234,-0.03628839058169333,-0.036189384130556154,-0.036207385303490186,-0.036205885205745685,-0.03618638393506715,-0.03617138295762212,-0.03620438510800118,-0.036231386867402224,-0.036316892438838885],\"showlegend\":true,\"x\":[3179,3180,3181,3182,3183,3184,3185,3186,3187,3188,3189,3190,3191,3192,3193,3194,3195,3196,3197,3198,3199,3200,3201,3202,3203,3204,3205,3206,3207,3208,3209,3210,3211,3212,3213,3214,3215,3216,3217,3218,3219,3220,3221,3222,3223,3224,3225,3226,3227,3228,3229,3230,3231,3232,3233,3234,3235,3236,3237,3238],\"yaxis\":\"y2\",\"type\":\"candlestick\"}],                        {\"legend\":{\"bgcolor\":\"#F5F6F9\",\"font\":{\"color\":\"#4D5663\"}},\"margin\":{\"b\":30,\"l\":30,\"r\":30,\"t\":30},\"paper_bgcolor\":\"#F5F6F9\",\"plot_bgcolor\":\"#F5F6F9\",\"showlegend\":true,\"template\":{\"data\":{\"barpolar\":[{\"marker\":{\"line\":{\"color\":\"#E5ECF6\",\"width\":0.5},\"pattern\":{\"fillmode\":\"overlay\",\"size\":10,\"solidity\":0.2}},\"type\":\"barpolar\"}],\"bar\":[{\"error_x\":{\"color\":\"#2a3f5f\"},\"error_y\":{\"color\":\"#2a3f5f\"},\"marker\":{\"line\":{\"color\":\"#E5ECF6\",\"width\":0.5},\"pattern\":{\"fillmode\":\"overlay\",\"size\":10,\"solidity\":0.2}},\"type\":\"bar\"}],\"carpet\":[{\"aaxis\":{\"endlinecolor\":\"#2a3f5f\",\"gridcolor\":\"white\",\"linecolor\":\"white\",\"minorgridcolor\":\"white\",\"startlinecolor\":\"#2a3f5f\"},\"baxis\":{\"endlinecolor\":\"#2a3f5f\",\"gridcolor\":\"white\",\"linecolor\":\"white\",\"minorgridcolor\":\"white\",\"startlinecolor\":\"#2a3f5f\"},\"type\":\"carpet\"}],\"choropleth\":[{\"colorbar\":{\"outlinewidth\":0,\"ticks\":\"\"},\"type\":\"choropleth\"}],\"contourcarpet\":[{\"colorbar\":{\"outlinewidth\":0,\"ticks\":\"\"},\"type\":\"contourcarpet\"}],\"contour\":[{\"colorbar\":{\"outlinewidth\":0,\"ticks\":\"\"},\"colorscale\":[[0.0,\"#0d0887\"],[0.1111111111111111,\"#46039f\"],[0.2222222222222222,\"#7201a8\"],[0.3333333333333333,\"#9c179e\"],[0.4444444444444444,\"#bd3786\"],[0.5555555555555556,\"#d8576b\"],[0.6666666666666666,\"#ed7953\"],[0.7777777777777778,\"#fb9f3a\"],[0.8888888888888888,\"#fdca26\"],[1.0,\"#f0f921\"]],\"type\":\"contour\"}],\"heatmapgl\":[{\"colorbar\":{\"outlinewidth\":0,\"ticks\":\"\"},\"colorscale\":[[0.0,\"#0d0887\"],[0.1111111111111111,\"#46039f\"],[0.2222222222222222,\"#7201a8\"],[0.3333333333333333,\"#9c179e\"],[0.4444444444444444,\"#bd3786\"],[0.5555555555555556,\"#d8576b\"],[0.6666666666666666,\"#ed7953\"],[0.7777777777777778,\"#fb9f3a\"],[0.8888888888888888,\"#fdca26\"],[1.0,\"#f0f921\"]],\"type\":\"heatmapgl\"}],\"heatmap\":[{\"colorbar\":{\"outlinewidth\":0,\"ticks\":\"\"},\"colorscale\":[[0.0,\"#0d0887\"],[0.1111111111111111,\"#46039f\"],[0.2222222222222222,\"#7201a8\"],[0.3333333333333333,\"#9c179e\"],[0.4444444444444444,\"#bd3786\"],[0.5555555555555556,\"#d8576b\"],[0.6666666666666666,\"#ed7953\"],[0.7777777777777778,\"#fb9f3a\"],[0.8888888888888888,\"#fdca26\"],[1.0,\"#f0f921\"]],\"type\":\"heatmap\"}],\"histogram2dcontour\":[{\"colorbar\":{\"outlinewidth\":0,\"ticks\":\"\"},\"colorscale\":[[0.0,\"#0d0887\"],[0.1111111111111111,\"#46039f\"],[0.2222222222222222,\"#7201a8\"],[0.3333333333333333,\"#9c179e\"],[0.4444444444444444,\"#bd3786\"],[0.5555555555555556,\"#d8576b\"],[0.6666666666666666,\"#ed7953\"],[0.7777777777777778,\"#fb9f3a\"],[0.8888888888888888,\"#fdca26\"],[1.0,\"#f0f921\"]],\"type\":\"histogram2dcontour\"}],\"histogram2d\":[{\"colorbar\":{\"outlinewidth\":0,\"ticks\":\"\"},\"colorscale\":[[0.0,\"#0d0887\"],[0.1111111111111111,\"#46039f\"],[0.2222222222222222,\"#7201a8\"],[0.3333333333333333,\"#9c179e\"],[0.4444444444444444,\"#bd3786\"],[0.5555555555555556,\"#d8576b\"],[0.6666666666666666,\"#ed7953\"],[0.7777777777777778,\"#fb9f3a\"],[0.8888888888888888,\"#fdca26\"],[1.0,\"#f0f921\"]],\"type\":\"histogram2d\"}],\"histogram\":[{\"marker\":{\"pattern\":{\"fillmode\":\"overlay\",\"size\":10,\"solidity\":0.2}},\"type\":\"histogram\"}],\"mesh3d\":[{\"colorbar\":{\"outlinewidth\":0,\"ticks\":\"\"},\"type\":\"mesh3d\"}],\"parcoords\":[{\"line\":{\"colorbar\":{\"outlinewidth\":0,\"ticks\":\"\"}},\"type\":\"parcoords\"}],\"pie\":[{\"automargin\":true,\"type\":\"pie\"}],\"scatter3d\":[{\"line\":{\"colorbar\":{\"outlinewidth\":0,\"ticks\":\"\"}},\"marker\":{\"colorbar\":{\"outlinewidth\":0,\"ticks\":\"\"}},\"type\":\"scatter3d\"}],\"scattercarpet\":[{\"marker\":{\"colorbar\":{\"outlinewidth\":0,\"ticks\":\"\"}},\"type\":\"scattercarpet\"}],\"scattergeo\":[{\"marker\":{\"colorbar\":{\"outlinewidth\":0,\"ticks\":\"\"}},\"type\":\"scattergeo\"}],\"scattergl\":[{\"marker\":{\"colorbar\":{\"outlinewidth\":0,\"ticks\":\"\"}},\"type\":\"scattergl\"}],\"scattermapbox\":[{\"marker\":{\"colorbar\":{\"outlinewidth\":0,\"ticks\":\"\"}},\"type\":\"scattermapbox\"}],\"scatterpolargl\":[{\"marker\":{\"colorbar\":{\"outlinewidth\":0,\"ticks\":\"\"}},\"type\":\"scatterpolargl\"}],\"scatterpolar\":[{\"marker\":{\"colorbar\":{\"outlinewidth\":0,\"ticks\":\"\"}},\"type\":\"scatterpolar\"}],\"scatter\":[{\"marker\":{\"colorbar\":{\"outlinewidth\":0,\"ticks\":\"\"}},\"type\":\"scatter\"}],\"scatterternary\":[{\"marker\":{\"colorbar\":{\"outlinewidth\":0,\"ticks\":\"\"}},\"type\":\"scatterternary\"}],\"surface\":[{\"colorbar\":{\"outlinewidth\":0,\"ticks\":\"\"},\"colorscale\":[[0.0,\"#0d0887\"],[0.1111111111111111,\"#46039f\"],[0.2222222222222222,\"#7201a8\"],[0.3333333333333333,\"#9c179e\"],[0.4444444444444444,\"#bd3786\"],[0.5555555555555556,\"#d8576b\"],[0.6666666666666666,\"#ed7953\"],[0.7777777777777778,\"#fb9f3a\"],[0.8888888888888888,\"#fdca26\"],[1.0,\"#f0f921\"]],\"type\":\"surface\"}],\"table\":[{\"cells\":{\"fill\":{\"color\":\"#EBF0F8\"},\"line\":{\"color\":\"white\"}},\"header\":{\"fill\":{\"color\":\"#C8D4E3\"},\"line\":{\"color\":\"white\"}},\"type\":\"table\"}]},\"layout\":{\"annotationdefaults\":{\"arrowcolor\":\"#2a3f5f\",\"arrowhead\":0,\"arrowwidth\":1},\"autotypenumbers\":\"strict\",\"coloraxis\":{\"colorbar\":{\"outlinewidth\":0,\"ticks\":\"\"}},\"colorscale\":{\"diverging\":[[0,\"#8e0152\"],[0.1,\"#c51b7d\"],[0.2,\"#de77ae\"],[0.3,\"#f1b6da\"],[0.4,\"#fde0ef\"],[0.5,\"#f7f7f7\"],[0.6,\"#e6f5d0\"],[0.7,\"#b8e186\"],[0.8,\"#7fbc41\"],[0.9,\"#4d9221\"],[1,\"#276419\"]],\"sequential\":[[0.0,\"#0d0887\"],[0.1111111111111111,\"#46039f\"],[0.2222222222222222,\"#7201a8\"],[0.3333333333333333,\"#9c179e\"],[0.4444444444444444,\"#bd3786\"],[0.5555555555555556,\"#d8576b\"],[0.6666666666666666,\"#ed7953\"],[0.7777777777777778,\"#fb9f3a\"],[0.8888888888888888,\"#fdca26\"],[1.0,\"#f0f921\"]],\"sequentialminus\":[[0.0,\"#0d0887\"],[0.1111111111111111,\"#46039f\"],[0.2222222222222222,\"#7201a8\"],[0.3333333333333333,\"#9c179e\"],[0.4444444444444444,\"#bd3786\"],[0.5555555555555556,\"#d8576b\"],[0.6666666666666666,\"#ed7953\"],[0.7777777777777778,\"#fb9f3a\"],[0.8888888888888888,\"#fdca26\"],[1.0,\"#f0f921\"]]},\"colorway\":[\"#636efa\",\"#EF553B\",\"#00cc96\",\"#ab63fa\",\"#FFA15A\",\"#19d3f3\",\"#FF6692\",\"#B6E880\",\"#FF97FF\",\"#FECB52\"],\"font\":{\"color\":\"#2a3f5f\"},\"geo\":{\"bgcolor\":\"white\",\"lakecolor\":\"white\",\"landcolor\":\"#E5ECF6\",\"showlakes\":true,\"showland\":true,\"subunitcolor\":\"white\"},\"hoverlabel\":{\"align\":\"left\"},\"hovermode\":\"closest\",\"mapbox\":{\"style\":\"light\"},\"paper_bgcolor\":\"white\",\"plot_bgcolor\":\"#E5ECF6\",\"polar\":{\"angularaxis\":{\"gridcolor\":\"white\",\"linecolor\":\"white\",\"ticks\":\"\"},\"bgcolor\":\"#E5ECF6\",\"radialaxis\":{\"gridcolor\":\"white\",\"linecolor\":\"white\",\"ticks\":\"\"}},\"scene\":{\"xaxis\":{\"backgroundcolor\":\"#E5ECF6\",\"gridcolor\":\"white\",\"gridwidth\":2,\"linecolor\":\"white\",\"showbackground\":true,\"ticks\":\"\",\"zerolinecolor\":\"white\"},\"yaxis\":{\"backgroundcolor\":\"#E5ECF6\",\"gridcolor\":\"white\",\"gridwidth\":2,\"linecolor\":\"white\",\"showbackground\":true,\"ticks\":\"\",\"zerolinecolor\":\"white\"},\"zaxis\":{\"backgroundcolor\":\"#E5ECF6\",\"gridcolor\":\"white\",\"gridwidth\":2,\"linecolor\":\"white\",\"showbackground\":true,\"ticks\":\"\",\"zerolinecolor\":\"white\"}},\"shapedefaults\":{\"line\":{\"color\":\"#2a3f5f\"}},\"ternary\":{\"aaxis\":{\"gridcolor\":\"white\",\"linecolor\":\"white\",\"ticks\":\"\"},\"baxis\":{\"gridcolor\":\"white\",\"linecolor\":\"white\",\"ticks\":\"\"},\"bgcolor\":\"#E5ECF6\",\"caxis\":{\"gridcolor\":\"white\",\"linecolor\":\"white\",\"ticks\":\"\"}},\"title\":{\"x\":0.05},\"xaxis\":{\"automargin\":true,\"gridcolor\":\"white\",\"linecolor\":\"white\",\"ticks\":\"\",\"title\":{\"standoff\":15},\"zerolinecolor\":\"white\",\"zerolinewidth\":2},\"yaxis\":{\"automargin\":true,\"gridcolor\":\"white\",\"linecolor\":\"white\",\"ticks\":\"\",\"title\":{\"standoff\":15},\"zerolinecolor\":\"white\",\"zerolinewidth\":2}}},\"title\":{\"font\":{\"color\":\"#4D5663\"}},\"xaxis\":{\"anchor\":\"y2\",\"gridcolor\":\"#E1E5ED\",\"rangeselector\":{\"bgcolor\":\"rgba(150, 200, 250, 1)\",\"buttons\":[{\"count\":1,\"label\":\"1m\",\"step\":\"month\",\"stepmode\":\"backward\"},{\"count\":1,\"label\":\"1y\",\"step\":\"year\",\"stepmode\":\"backward\"}],\"font\":{\"size\":13},\"visible\":false,\"x\":0,\"y\":0.9},\"rangeslider\":{\"visible\":false},\"showgrid\":true,\"tickfont\":{\"color\":\"#4D5663\"},\"title\":{\"font\":{\"color\":\"#4D5663\"},\"text\":\"\"},\"zerolinecolor\":\"#E1E5ED\"},\"yaxis\":{\"gridcolor\":\"#E1E5ED\",\"showgrid\":true,\"showticklabels\":false,\"tickfont\":{\"color\":\"#4D5663\"},\"title\":{\"font\":{\"color\":\"#4D5663\"},\"text\":\"\"},\"zerolinecolor\":\"#E1E5ED\"},\"yaxis2\":{\"domain\":[0.0,0.9],\"gridcolor\":\"#E1E5ED\",\"showgrid\":true,\"tickfont\":{\"color\":\"#4D5663\"},\"title\":{\"font\":{\"color\":\"#4D5663\"},\"text\":\"\"},\"zerolinecolor\":\"#E1E5ED\"}},                        {\"responsive\": true}                    ).then(function(){\n",
       "                            \n",
       "var gd = document.getElementById('ccc1c9ae-47d4-4283-ba45-51e406a6eb03');\n",
       "var x = new MutationObserver(function (mutations, observer) {{\n",
       "        var display = window.getComputedStyle(gd).display;\n",
       "        if (!display || display === 'none') {{\n",
       "            console.log([gd, 'removed!']);\n",
       "            Plotly.purge(gd);\n",
       "            observer.disconnect();\n",
       "        }}\n",
       "}});\n",
       "\n",
       "// Listen for the removal of the full notebook cells\n",
       "var notebookContainer = gd.closest('#notebook-container');\n",
       "if (notebookContainer) {{\n",
       "    x.observe(notebookContainer, {childList: true});\n",
       "}}\n",
       "\n",
       "// Listen for the clearing of the current output cell\n",
       "var outputEl = gd.closest('.output');\n",
       "if (outputEl) {{\n",
       "    x.observe(outputEl, {childList: true});\n",
       "}}\n",
       "\n",
       "                        }).then(function(){\n",
       "                            function downloadimage(format, height, width, filename) {var p = document.getElementById('ccc1c9ae-47d4-4283-ba45-51e406a6eb03');Plotly.downloadImage(p, {format: format, height: height, width: width, filename: filename});};if(document.readyState == 'complete') {downloadimage('png', 600, 800, 'qf_04');}\n",
       "                        })                };                });            </script>        </div>"
      ]
     },
     "metadata": {},
     "output_type": "display_data"
    }
   ],
   "source": [
    "qf=cf.QuantFig(tickers.get_group('a')[-60:])\n",
    "qf.add_sma([10,20],width=2,color=['green','lightgreen'],legendgroup=True)\n",
    "plyo.iplot(qf.iplot(asFigure=True),image='png',\n",
    "          filename='qf_04')"
   ]
  },
  {
   "cell_type": "code",
   "execution_count": 18,
   "metadata": {},
   "outputs": [
    {
     "data": {
      "application/vnd.plotly.v1+json": {
       "config": {
        "linkText": "Export to plot.ly",
        "plotlyServerURL": "https://plot.ly",
        "showLink": false
       },
       "data": [
        {
         "legendgroup": "RSI(close,20)",
         "line": {
          "color": "rgba(23, 190, 207, 1.0)",
          "dash": "solid",
          "shape": "linear",
          "width": 1.3
         },
         "mode": "lines",
         "name": "RSI(close,20)",
         "showlegend": true,
         "text": "",
         "type": "scatter",
         "x": [
          3179,
          3180,
          3181,
          3182,
          3183,
          3184,
          3185,
          3186,
          3187,
          3188,
          3189,
          3190,
          3191,
          3192,
          3193,
          3194,
          3195,
          3196,
          3197,
          3198,
          3199,
          3200,
          3201,
          3202,
          3203,
          3204,
          3205,
          3206,
          3207,
          3208,
          3209,
          3210,
          3211,
          3212,
          3213,
          3214,
          3215,
          3216,
          3217,
          3218,
          3219,
          3220,
          3221,
          3222,
          3223,
          3224,
          3225,
          3226,
          3227,
          3228,
          3229,
          3230,
          3231,
          3232,
          3233,
          3234,
          3235,
          3236,
          3237,
          3238
         ],
         "y": [
          "",
          "",
          "",
          "",
          "",
          "",
          "",
          "",
          "",
          "",
          "",
          "",
          "",
          "",
          "",
          "",
          "",
          "",
          "",
          80.29912325941228,
          80.59928897917749,
          79.56399625518274,
          74.63322290582151,
          74.88129154795853,
          74.29334170854274,
          62.68760422456936,
          54.47154471544686,
          55.98774477154671,
          50.52617556946825,
          46.24402952670442,
          54.20624151967443,
          56.54761904761904,
          57.99769850402766,
          54.59984046796067,
          59.129248325477434,
          54.070253693894635,
          54.1341870824051,
          60.09223674096838,
          63.86917188587341,
          57.805793991416216,
          56.49946062567416,
          50.51749630359789,
          52.896122546673084,
          56.3347629535179,
          59.049339505475814,
          65.05784301529991,
          71.63212435233145,
          70.83888149134452,
          76.01078167115855,
          76.13941018766715,
          68.34733893557393,
          69.45945945945928,
          66.27043090638867,
          68.10730253353154,
          65.97774244833013,
          63.30128205128177,
          63.24237560192585,
          61.73228346456685,
          49.4233937397032,
          48.543689320388424
         ],
         "yaxis": "y3"
        },
        {
         "legendgroup": "RSI(close,20)",
         "line": {
          "color": "grey",
          "width": 1
         },
         "mode": "lines",
         "name": "",
         "showlegend": true,
         "text": "",
         "type": "scatter",
         "x": [
          3179,
          3180,
          3181,
          3182,
          3183,
          3184,
          3185,
          3186,
          3187,
          3188,
          3189,
          3190,
          3191,
          3192,
          3193,
          3194,
          3195,
          3196,
          3197,
          3198,
          3199,
          3200,
          3201,
          3202,
          3203,
          3204,
          3205,
          3206,
          3207,
          3208,
          3209,
          3210,
          3211,
          3212,
          3213,
          3214,
          3215,
          3216,
          3217,
          3218,
          3219,
          3220,
          3221,
          3222,
          3223,
          3224,
          3225,
          3226,
          3227,
          3228,
          3229,
          3230,
          3231,
          3232,
          3233,
          3234,
          3235,
          3236,
          3237,
          3238
         ],
         "y": [
          30,
          30,
          30,
          30,
          30,
          30,
          30,
          30,
          30,
          30,
          30,
          30,
          30,
          30,
          30,
          30,
          30,
          30,
          30,
          30,
          30,
          30,
          30,
          30,
          30,
          30,
          30,
          30,
          30,
          30,
          30,
          30,
          30,
          30,
          30,
          30,
          30,
          30,
          30,
          30,
          30,
          30,
          30,
          30,
          30,
          30,
          30,
          30,
          30,
          30,
          30,
          30,
          30,
          30,
          30,
          30,
          30,
          30,
          30,
          30
         ],
         "yaxis": "y3"
        },
        {
         "legendgroup": "RSI(close,20)",
         "line": {
          "color": "#17BECF",
          "width": 1
         },
         "mode": "lines",
         "name": "",
         "showlegend": true,
         "text": "",
         "type": "scatter",
         "x": [
          3179,
          3180,
          3181,
          3182,
          3183,
          3184,
          3185,
          3186,
          3187,
          3188,
          3189,
          3190,
          3191,
          3192,
          3193,
          3194,
          3195,
          3196,
          3197,
          3198,
          3199,
          3200,
          3201,
          3202,
          3203,
          3204,
          3205,
          3206,
          3207,
          3208,
          3209,
          3210,
          3211,
          3212,
          3213,
          3214,
          3215,
          3216,
          3217,
          3218,
          3219,
          3220,
          3221,
          3222,
          3223,
          3224,
          3225,
          3226,
          3227,
          3228,
          3229,
          3230,
          3231,
          3232,
          3233,
          3234,
          3235,
          3236,
          3237,
          3238
         ],
         "y": [
          70,
          70,
          70,
          70,
          70,
          70,
          70,
          70,
          70,
          70,
          70,
          70,
          70,
          70,
          70,
          70,
          70,
          70,
          70,
          70,
          70,
          70,
          70,
          70,
          70,
          70,
          70,
          70,
          70,
          70,
          70,
          70,
          70,
          70,
          70,
          70,
          70,
          70,
          70,
          70,
          70,
          70,
          70,
          70,
          70,
          70,
          70,
          70,
          70,
          70,
          70,
          70,
          70,
          70,
          70,
          70,
          70,
          70,
          70,
          70
         ],
         "yaxis": "y3"
        },
        {
         "close": [
          -0.03724883856138729,
          -0.03717547762779041,
          -0.03699275039441414,
          -0.037021254642641964,
          -0.03703475665496041,
          -0.037001751735959765,
          -0.03691803925958541,
          -0.0369135385888126,
          -0.03685202942158412,
          -0.03672931113184538,
          -0.03678016871157819,
          -0.03679367072389663,
          -0.03673081135543632,
          -0.03666645176338507,
          -0.036684454446476326,
          -0.03652123011978225,
          -0.03651672944900943,
          -0.03662159507801602,
          -0.036585589711833504,
          -0.036543733473646325,
          -0.036525730790555065,
          -0.03651222877823662,
          -0.036524230566964126,
          -0.03654958434565098,
          -0.03657058747592412,
          -0.036727810908254444,
          -0.036820674748533525,
          -0.03677866848798725,
          -0.03684017765521572,
          -0.036807172736215074,
          -0.036687154848940015,
          -0.036645148588393746,
          -0.03654313338420995,
          -0.036562636290892146,
          -0.03646362153389022,
          -0.036433617062071454,
          -0.036427616167707705,
          -0.03642461572052583,
          -0.03628659515015951,
          -0.036369107447661114,
          -0.03638110923638862,
          -0.03649962690007274,
          -0.036451619745162714,
          -0.036385609907161436,
          -0.03633010163429672,
          -0.036364606776888304,
          -0.03631960006916015,
          -0.036309098504023585,
          -0.03626109134911357,
          -0.03622208553574917,
          -0.0362940962681142,
          -0.036213084194203535,
          -0.03621458441779448,
          -0.03619808195829416,
          -0.03616207659211164,
          -0.03618457994597571,
          -0.0361800792752029,
          -0.03620108240547603,
          -0.03629709671529608,
          -0.036396111472298
         ],
         "decreasing": {
          "line": {
           "color": "#808080"
          }
         },
         "high": [
          -0.03732512591468666,
          -0.037283502125026034,
          -0.03713162750898831,
          -0.03708015723145097,
          -0.037112232911655406,
          -0.037113724803757936,
          -0.03704897668650806,
          -0.03704077127994414,
          -0.03699601451686819,
          -0.036862042606060845,
          -0.036809975571682495,
          -0.03691425882964946,
          -0.03686502639026591,
          -0.03680027827301604,
          -0.036735530155766166,
          -0.036647657710927053,
          -0.03662527932938908,
          -0.03665511717143971,
          -0.03670718420581807,
          -0.0366685442003625,
          -0.03664318203461946,
          -0.03662095284229174,
          -0.03663423068200427,
          -0.036667052308259965,
          -0.036647657710927053,
          -0.03670270852951047,
          -0.03685159936134313,
          -0.03688740477180389,
          -0.03689337234021401,
          -0.036944693428541106,
          -0.03680669340905693,
          -0.03670076906977718,
          -0.036687342040854394,
          -0.03666943933562402,
          -0.036611255543625286,
          -0.03655307175162655,
          -0.03653964472270377,
          -0.03652323390957592,
          -0.03642924470711643,
          -0.03639642308086073,
          -0.03646355822547465,
          -0.036566498780549336,
          -0.03658067175552339,
          -0.036522487963524655,
          -0.03643968795183415,
          -0.03641730957029617,
          -0.036436704167629085,
          -0.03629199063368352,
          -0.0363949311887582,
          -0.036368077130912634,
          -0.03638001226773288,
          -0.036344206857272125,
          -0.03630392577050377,
          -0.03631287712311896,
          -0.03626961225214554,
          -0.03630243387840124,
          -0.036274087928453144,
          -0.036320336583631624,
          -0.036372552807220224,
          -0.036432228491321494
         ],
         "increasing": {
          "line": {
           "color": "#17BECF"
          }
         },
         "low": [
          -0.037242178751826095,
          -0.037139664571822356,
          -0.0370055959534964,
          -0.036892664279501115,
          -0.03693025784477495,
          -0.03688209580733578,
          -0.036836953333372426,
          -0.036829253446509114,
          -0.036773542500380424,
          -0.03669669460992106,
          -0.03665004235421981,
          -0.03671028264556221,
          -0.036674198862026275,
          -0.036607919443732255,
          -0.03655658686464349,
          -0.0364691705020188,
          -0.036396851956773155,
          -0.0364691705020188,
          -0.036506915045466416,
          -0.03643761606369659,
          -0.036425537809793344,
          -0.03638039533582999,
          -0.036414969337628014,
          -0.036436106281958675,
          -0.036424028028055444,
          -0.03661531737424799,
          -0.03669518482818316,
          -0.036674198862026275,
          -0.03668627711592952,
          -0.03672387068120335,
          -0.036618336937723796,
          -0.03650208374390512,
          -0.03648849570826398,
          -0.0364326337839615,
          -0.03641149683963083,
          -0.03635714469706626,
          -0.036326949062308156,
          -0.036308831681453296,
          -0.0362786360466952,
          -0.036225793685868535,
          -0.03624391106672339,
          -0.03636167404227997,
          -0.03634959578837673,
          -0.03635110557011464,
          -0.036198617614586245,
          -0.036219754558916906,
          -0.036227303467606435,
          -0.03620465674153786,
          -0.03617899045199348,
          -0.036147285035497474,
          -0.03619408826937253,
          -0.03612765787290471,
          -0.036082364420767565,
          -0.03608689376598128,
          -0.03605669813122318,
          -0.03602499271472718,
          -0.03605216878600946,
          -0.036092781914759106,
          -0.03622277412239272,
          -0.036254479538888724
         ],
         "name": "Trace 1",
         "open": [
          -0.03732390805472356,
          -0.03727455483892942,
          -0.03715769722463266,
          -0.037030488935898824,
          -0.03700798746973129,
          -0.03697963562236019,
          -0.036973635231382175,
          -0.03698263581784919,
          -0.036928632299047096,
          -0.03683892645392583,
          -0.03670406766669504,
          -0.036835926258436825,
          -0.03675507099000813,
          -0.036711568155417554,
          -0.03666671523285692,
          -0.03661436182157377,
          -0.03649900430502152,
          -0.03655285781404916,
          -0.03664271366894488,
          -0.036587360062172725,
          -0.036526006064422564,
          -0.03650200450051052,
          -0.036493003914043504,
          -0.03655735810728267,
          -0.03656185840051618,
          -0.03656935888923869,
          -0.036741570110307605,
          -0.03679842381482426,
          -0.03680142401031326,
          -0.03683892645392583,
          -0.03677592234865672,
          -0.036660414822330005,
          -0.036646913942629485,
          -0.0365419071005143,
          -0.036567408762170836,
          -0.03644590084486612,
          -0.03641739898772057,
          -0.03641739898772057,
          -0.03642189928095407,
          -0.03627488970199281,
          -0.03633939390500643,
          -0.03641739898772057,
          -0.03646240192005565,
          -0.03645340133358863,
          -0.03633939390500643,
          -0.036301891461393856,
          -0.0363228928298169,
          -0.036234387062891234,
          -0.03628989067943784,
          -0.03624938804033626,
          -0.036234387062891234,
          -0.03628839058169333,
          -0.036189384130556154,
          -0.036207385303490186,
          -0.036205885205745685,
          -0.03618638393506715,
          -0.03617138295762212,
          -0.03620438510800118,
          -0.036231386867402224,
          -0.036316892438838885
         ],
         "showlegend": true,
         "type": "candlestick",
         "x": [
          3179,
          3180,
          3181,
          3182,
          3183,
          3184,
          3185,
          3186,
          3187,
          3188,
          3189,
          3190,
          3191,
          3192,
          3193,
          3194,
          3195,
          3196,
          3197,
          3198,
          3199,
          3200,
          3201,
          3202,
          3203,
          3204,
          3205,
          3206,
          3207,
          3208,
          3209,
          3210,
          3211,
          3212,
          3213,
          3214,
          3215,
          3216,
          3217,
          3218,
          3219,
          3220,
          3221,
          3222,
          3223,
          3224,
          3225,
          3226,
          3227,
          3228,
          3229,
          3230,
          3231,
          3232,
          3233,
          3234,
          3235,
          3236,
          3237,
          3238
         ],
         "yaxis": "y2"
        }
       ],
       "layout": {
        "legend": {
         "bgcolor": "#F5F6F9",
         "font": {
          "color": "#4D5663"
         }
        },
        "margin": {
         "b": 30,
         "l": 30,
         "r": 30,
         "t": 30
        },
        "paper_bgcolor": "#F5F6F9",
        "plot_bgcolor": "#F5F6F9",
        "showlegend": true,
        "template": {
         "data": {
          "bar": [
           {
            "error_x": {
             "color": "#2a3f5f"
            },
            "error_y": {
             "color": "#2a3f5f"
            },
            "marker": {
             "line": {
              "color": "#E5ECF6",
              "width": 0.5
             },
             "pattern": {
              "fillmode": "overlay",
              "size": 10,
              "solidity": 0.2
             }
            },
            "type": "bar"
           }
          ],
          "barpolar": [
           {
            "marker": {
             "line": {
              "color": "#E5ECF6",
              "width": 0.5
             },
             "pattern": {
              "fillmode": "overlay",
              "size": 10,
              "solidity": 0.2
             }
            },
            "type": "barpolar"
           }
          ],
          "carpet": [
           {
            "aaxis": {
             "endlinecolor": "#2a3f5f",
             "gridcolor": "white",
             "linecolor": "white",
             "minorgridcolor": "white",
             "startlinecolor": "#2a3f5f"
            },
            "baxis": {
             "endlinecolor": "#2a3f5f",
             "gridcolor": "white",
             "linecolor": "white",
             "minorgridcolor": "white",
             "startlinecolor": "#2a3f5f"
            },
            "type": "carpet"
           }
          ],
          "choropleth": [
           {
            "colorbar": {
             "outlinewidth": 0,
             "ticks": ""
            },
            "type": "choropleth"
           }
          ],
          "contour": [
           {
            "colorbar": {
             "outlinewidth": 0,
             "ticks": ""
            },
            "colorscale": [
             [
              0,
              "#0d0887"
             ],
             [
              0.1111111111111111,
              "#46039f"
             ],
             [
              0.2222222222222222,
              "#7201a8"
             ],
             [
              0.3333333333333333,
              "#9c179e"
             ],
             [
              0.4444444444444444,
              "#bd3786"
             ],
             [
              0.5555555555555556,
              "#d8576b"
             ],
             [
              0.6666666666666666,
              "#ed7953"
             ],
             [
              0.7777777777777778,
              "#fb9f3a"
             ],
             [
              0.8888888888888888,
              "#fdca26"
             ],
             [
              1,
              "#f0f921"
             ]
            ],
            "type": "contour"
           }
          ],
          "contourcarpet": [
           {
            "colorbar": {
             "outlinewidth": 0,
             "ticks": ""
            },
            "type": "contourcarpet"
           }
          ],
          "heatmap": [
           {
            "colorbar": {
             "outlinewidth": 0,
             "ticks": ""
            },
            "colorscale": [
             [
              0,
              "#0d0887"
             ],
             [
              0.1111111111111111,
              "#46039f"
             ],
             [
              0.2222222222222222,
              "#7201a8"
             ],
             [
              0.3333333333333333,
              "#9c179e"
             ],
             [
              0.4444444444444444,
              "#bd3786"
             ],
             [
              0.5555555555555556,
              "#d8576b"
             ],
             [
              0.6666666666666666,
              "#ed7953"
             ],
             [
              0.7777777777777778,
              "#fb9f3a"
             ],
             [
              0.8888888888888888,
              "#fdca26"
             ],
             [
              1,
              "#f0f921"
             ]
            ],
            "type": "heatmap"
           }
          ],
          "heatmapgl": [
           {
            "colorbar": {
             "outlinewidth": 0,
             "ticks": ""
            },
            "colorscale": [
             [
              0,
              "#0d0887"
             ],
             [
              0.1111111111111111,
              "#46039f"
             ],
             [
              0.2222222222222222,
              "#7201a8"
             ],
             [
              0.3333333333333333,
              "#9c179e"
             ],
             [
              0.4444444444444444,
              "#bd3786"
             ],
             [
              0.5555555555555556,
              "#d8576b"
             ],
             [
              0.6666666666666666,
              "#ed7953"
             ],
             [
              0.7777777777777778,
              "#fb9f3a"
             ],
             [
              0.8888888888888888,
              "#fdca26"
             ],
             [
              1,
              "#f0f921"
             ]
            ],
            "type": "heatmapgl"
           }
          ],
          "histogram": [
           {
            "marker": {
             "pattern": {
              "fillmode": "overlay",
              "size": 10,
              "solidity": 0.2
             }
            },
            "type": "histogram"
           }
          ],
          "histogram2d": [
           {
            "colorbar": {
             "outlinewidth": 0,
             "ticks": ""
            },
            "colorscale": [
             [
              0,
              "#0d0887"
             ],
             [
              0.1111111111111111,
              "#46039f"
             ],
             [
              0.2222222222222222,
              "#7201a8"
             ],
             [
              0.3333333333333333,
              "#9c179e"
             ],
             [
              0.4444444444444444,
              "#bd3786"
             ],
             [
              0.5555555555555556,
              "#d8576b"
             ],
             [
              0.6666666666666666,
              "#ed7953"
             ],
             [
              0.7777777777777778,
              "#fb9f3a"
             ],
             [
              0.8888888888888888,
              "#fdca26"
             ],
             [
              1,
              "#f0f921"
             ]
            ],
            "type": "histogram2d"
           }
          ],
          "histogram2dcontour": [
           {
            "colorbar": {
             "outlinewidth": 0,
             "ticks": ""
            },
            "colorscale": [
             [
              0,
              "#0d0887"
             ],
             [
              0.1111111111111111,
              "#46039f"
             ],
             [
              0.2222222222222222,
              "#7201a8"
             ],
             [
              0.3333333333333333,
              "#9c179e"
             ],
             [
              0.4444444444444444,
              "#bd3786"
             ],
             [
              0.5555555555555556,
              "#d8576b"
             ],
             [
              0.6666666666666666,
              "#ed7953"
             ],
             [
              0.7777777777777778,
              "#fb9f3a"
             ],
             [
              0.8888888888888888,
              "#fdca26"
             ],
             [
              1,
              "#f0f921"
             ]
            ],
            "type": "histogram2dcontour"
           }
          ],
          "mesh3d": [
           {
            "colorbar": {
             "outlinewidth": 0,
             "ticks": ""
            },
            "type": "mesh3d"
           }
          ],
          "parcoords": [
           {
            "line": {
             "colorbar": {
              "outlinewidth": 0,
              "ticks": ""
             }
            },
            "type": "parcoords"
           }
          ],
          "pie": [
           {
            "automargin": true,
            "type": "pie"
           }
          ],
          "scatter": [
           {
            "marker": {
             "colorbar": {
              "outlinewidth": 0,
              "ticks": ""
             }
            },
            "type": "scatter"
           }
          ],
          "scatter3d": [
           {
            "line": {
             "colorbar": {
              "outlinewidth": 0,
              "ticks": ""
             }
            },
            "marker": {
             "colorbar": {
              "outlinewidth": 0,
              "ticks": ""
             }
            },
            "type": "scatter3d"
           }
          ],
          "scattercarpet": [
           {
            "marker": {
             "colorbar": {
              "outlinewidth": 0,
              "ticks": ""
             }
            },
            "type": "scattercarpet"
           }
          ],
          "scattergeo": [
           {
            "marker": {
             "colorbar": {
              "outlinewidth": 0,
              "ticks": ""
             }
            },
            "type": "scattergeo"
           }
          ],
          "scattergl": [
           {
            "marker": {
             "colorbar": {
              "outlinewidth": 0,
              "ticks": ""
             }
            },
            "type": "scattergl"
           }
          ],
          "scattermapbox": [
           {
            "marker": {
             "colorbar": {
              "outlinewidth": 0,
              "ticks": ""
             }
            },
            "type": "scattermapbox"
           }
          ],
          "scatterpolar": [
           {
            "marker": {
             "colorbar": {
              "outlinewidth": 0,
              "ticks": ""
             }
            },
            "type": "scatterpolar"
           }
          ],
          "scatterpolargl": [
           {
            "marker": {
             "colorbar": {
              "outlinewidth": 0,
              "ticks": ""
             }
            },
            "type": "scatterpolargl"
           }
          ],
          "scatterternary": [
           {
            "marker": {
             "colorbar": {
              "outlinewidth": 0,
              "ticks": ""
             }
            },
            "type": "scatterternary"
           }
          ],
          "surface": [
           {
            "colorbar": {
             "outlinewidth": 0,
             "ticks": ""
            },
            "colorscale": [
             [
              0,
              "#0d0887"
             ],
             [
              0.1111111111111111,
              "#46039f"
             ],
             [
              0.2222222222222222,
              "#7201a8"
             ],
             [
              0.3333333333333333,
              "#9c179e"
             ],
             [
              0.4444444444444444,
              "#bd3786"
             ],
             [
              0.5555555555555556,
              "#d8576b"
             ],
             [
              0.6666666666666666,
              "#ed7953"
             ],
             [
              0.7777777777777778,
              "#fb9f3a"
             ],
             [
              0.8888888888888888,
              "#fdca26"
             ],
             [
              1,
              "#f0f921"
             ]
            ],
            "type": "surface"
           }
          ],
          "table": [
           {
            "cells": {
             "fill": {
              "color": "#EBF0F8"
             },
             "line": {
              "color": "white"
             }
            },
            "header": {
             "fill": {
              "color": "#C8D4E3"
             },
             "line": {
              "color": "white"
             }
            },
            "type": "table"
           }
          ]
         },
         "layout": {
          "annotationdefaults": {
           "arrowcolor": "#2a3f5f",
           "arrowhead": 0,
           "arrowwidth": 1
          },
          "autotypenumbers": "strict",
          "coloraxis": {
           "colorbar": {
            "outlinewidth": 0,
            "ticks": ""
           }
          },
          "colorscale": {
           "diverging": [
            [
             0,
             "#8e0152"
            ],
            [
             0.1,
             "#c51b7d"
            ],
            [
             0.2,
             "#de77ae"
            ],
            [
             0.3,
             "#f1b6da"
            ],
            [
             0.4,
             "#fde0ef"
            ],
            [
             0.5,
             "#f7f7f7"
            ],
            [
             0.6,
             "#e6f5d0"
            ],
            [
             0.7,
             "#b8e186"
            ],
            [
             0.8,
             "#7fbc41"
            ],
            [
             0.9,
             "#4d9221"
            ],
            [
             1,
             "#276419"
            ]
           ],
           "sequential": [
            [
             0,
             "#0d0887"
            ],
            [
             0.1111111111111111,
             "#46039f"
            ],
            [
             0.2222222222222222,
             "#7201a8"
            ],
            [
             0.3333333333333333,
             "#9c179e"
            ],
            [
             0.4444444444444444,
             "#bd3786"
            ],
            [
             0.5555555555555556,
             "#d8576b"
            ],
            [
             0.6666666666666666,
             "#ed7953"
            ],
            [
             0.7777777777777778,
             "#fb9f3a"
            ],
            [
             0.8888888888888888,
             "#fdca26"
            ],
            [
             1,
             "#f0f921"
            ]
           ],
           "sequentialminus": [
            [
             0,
             "#0d0887"
            ],
            [
             0.1111111111111111,
             "#46039f"
            ],
            [
             0.2222222222222222,
             "#7201a8"
            ],
            [
             0.3333333333333333,
             "#9c179e"
            ],
            [
             0.4444444444444444,
             "#bd3786"
            ],
            [
             0.5555555555555556,
             "#d8576b"
            ],
            [
             0.6666666666666666,
             "#ed7953"
            ],
            [
             0.7777777777777778,
             "#fb9f3a"
            ],
            [
             0.8888888888888888,
             "#fdca26"
            ],
            [
             1,
             "#f0f921"
            ]
           ]
          },
          "colorway": [
           "#636efa",
           "#EF553B",
           "#00cc96",
           "#ab63fa",
           "#FFA15A",
           "#19d3f3",
           "#FF6692",
           "#B6E880",
           "#FF97FF",
           "#FECB52"
          ],
          "font": {
           "color": "#2a3f5f"
          },
          "geo": {
           "bgcolor": "white",
           "lakecolor": "white",
           "landcolor": "#E5ECF6",
           "showlakes": true,
           "showland": true,
           "subunitcolor": "white"
          },
          "hoverlabel": {
           "align": "left"
          },
          "hovermode": "closest",
          "mapbox": {
           "style": "light"
          },
          "paper_bgcolor": "white",
          "plot_bgcolor": "#E5ECF6",
          "polar": {
           "angularaxis": {
            "gridcolor": "white",
            "linecolor": "white",
            "ticks": ""
           },
           "bgcolor": "#E5ECF6",
           "radialaxis": {
            "gridcolor": "white",
            "linecolor": "white",
            "ticks": ""
           }
          },
          "scene": {
           "xaxis": {
            "backgroundcolor": "#E5ECF6",
            "gridcolor": "white",
            "gridwidth": 2,
            "linecolor": "white",
            "showbackground": true,
            "ticks": "",
            "zerolinecolor": "white"
           },
           "yaxis": {
            "backgroundcolor": "#E5ECF6",
            "gridcolor": "white",
            "gridwidth": 2,
            "linecolor": "white",
            "showbackground": true,
            "ticks": "",
            "zerolinecolor": "white"
           },
           "zaxis": {
            "backgroundcolor": "#E5ECF6",
            "gridcolor": "white",
            "gridwidth": 2,
            "linecolor": "white",
            "showbackground": true,
            "ticks": "",
            "zerolinecolor": "white"
           }
          },
          "shapedefaults": {
           "line": {
            "color": "#2a3f5f"
           }
          },
          "ternary": {
           "aaxis": {
            "gridcolor": "white",
            "linecolor": "white",
            "ticks": ""
           },
           "baxis": {
            "gridcolor": "white",
            "linecolor": "white",
            "ticks": ""
           },
           "bgcolor": "#E5ECF6",
           "caxis": {
            "gridcolor": "white",
            "linecolor": "white",
            "ticks": ""
           }
          },
          "title": {
           "x": 0.05
          },
          "xaxis": {
           "automargin": true,
           "gridcolor": "white",
           "linecolor": "white",
           "ticks": "",
           "title": {
            "standoff": 15
           },
           "zerolinecolor": "white",
           "zerolinewidth": 2
          },
          "yaxis": {
           "automargin": true,
           "gridcolor": "white",
           "linecolor": "white",
           "ticks": "",
           "title": {
            "standoff": 15
           },
           "zerolinecolor": "white",
           "zerolinewidth": 2
          }
         }
        },
        "title": {
         "font": {
          "color": "#4D5663"
         }
        },
        "xaxis": {
         "anchor": "y2",
         "gridcolor": "#E1E5ED",
         "rangeselector": {
          "bgcolor": "rgba(150, 200, 250, 1)",
          "buttons": [
           {
            "count": 1,
            "label": "1m",
            "step": "month",
            "stepmode": "backward"
           },
           {
            "count": 1,
            "label": "1y",
            "step": "year",
            "stepmode": "backward"
           }
          ],
          "font": {
           "size": 13
          },
          "visible": false,
          "x": 0,
          "y": 0.9
         },
         "rangeslider": {
          "visible": false
         },
         "showgrid": true,
         "tickfont": {
          "color": "#4D5663"
         },
         "title": {
          "font": {
           "color": "#4D5663"
          },
          "text": ""
         },
         "zerolinecolor": "#E1E5ED"
        },
        "yaxis": {
         "gridcolor": "#E1E5ED",
         "showgrid": true,
         "showticklabels": false,
         "tickfont": {
          "color": "#4D5663"
         },
         "title": {
          "font": {
           "color": "#4D5663"
          },
          "text": ""
         },
         "zerolinecolor": "#E1E5ED"
        },
        "yaxis2": {
         "domain": [
          0.23,
          0.9
         ],
         "gridcolor": "#E1E5ED",
         "showgrid": true,
         "tickfont": {
          "color": "#4D5663"
         },
         "title": {
          "font": {
           "color": "#4D5663"
          },
          "text": ""
         },
         "zerolinecolor": "#E1E5ED"
        },
        "yaxis3": {
         "domain": [
          0,
          0.15
         ],
         "gridcolor": "#E1E5ED",
         "showgrid": true,
         "tickfont": {
          "color": "#4D5663"
         },
         "title": {
          "font": {
           "color": "#4D5663"
          },
          "text": ""
         },
         "zerolinecolor": "#E1E5ED"
        }
       }
      },
      "text/html": [
       "<div>                            <div id=\"a22f7a2f-32a6-496f-b747-6b0ed94b8da8\" class=\"plotly-graph-div\" style=\"height:525px; width:100%;\"></div>            <script type=\"text/javascript\">                require([\"plotly\"], function(Plotly) {                    window.PLOTLYENV=window.PLOTLYENV || {};                                    if (document.getElementById(\"a22f7a2f-32a6-496f-b747-6b0ed94b8da8\")) {                    Plotly.newPlot(                        \"a22f7a2f-32a6-496f-b747-6b0ed94b8da8\",                        [{\"legendgroup\":\"RSI(close,20)\",\"line\":{\"color\":\"rgba(23, 190, 207, 1.0)\",\"dash\":\"solid\",\"shape\":\"linear\",\"width\":1.3},\"mode\":\"lines\",\"name\":\"RSI(close,20)\",\"showlegend\":true,\"text\":\"\",\"x\":[3179,3180,3181,3182,3183,3184,3185,3186,3187,3188,3189,3190,3191,3192,3193,3194,3195,3196,3197,3198,3199,3200,3201,3202,3203,3204,3205,3206,3207,3208,3209,3210,3211,3212,3213,3214,3215,3216,3217,3218,3219,3220,3221,3222,3223,3224,3225,3226,3227,3228,3229,3230,3231,3232,3233,3234,3235,3236,3237,3238],\"y\":[\"\",\"\",\"\",\"\",\"\",\"\",\"\",\"\",\"\",\"\",\"\",\"\",\"\",\"\",\"\",\"\",\"\",\"\",\"\",80.29912325941228,80.59928897917749,79.56399625518274,74.63322290582151,74.88129154795853,74.29334170854274,62.68760422456936,54.47154471544686,55.98774477154671,50.52617556946825,46.24402952670442,54.20624151967443,56.54761904761904,57.99769850402766,54.59984046796067,59.129248325477434,54.070253693894635,54.1341870824051,60.09223674096838,63.86917188587341,57.805793991416216,56.49946062567416,50.51749630359789,52.896122546673084,56.3347629535179,59.049339505475814,65.05784301529991,71.63212435233145,70.83888149134452,76.01078167115855,76.13941018766715,68.34733893557393,69.45945945945928,66.27043090638867,68.10730253353154,65.97774244833013,63.30128205128177,63.24237560192585,61.73228346456685,49.4233937397032,48.543689320388424],\"yaxis\":\"y3\",\"type\":\"scatter\"},{\"legendgroup\":\"RSI(close,20)\",\"line\":{\"color\":\"grey\",\"width\":1},\"mode\":\"lines\",\"name\":\"\",\"showlegend\":true,\"text\":\"\",\"x\":[3179,3180,3181,3182,3183,3184,3185,3186,3187,3188,3189,3190,3191,3192,3193,3194,3195,3196,3197,3198,3199,3200,3201,3202,3203,3204,3205,3206,3207,3208,3209,3210,3211,3212,3213,3214,3215,3216,3217,3218,3219,3220,3221,3222,3223,3224,3225,3226,3227,3228,3229,3230,3231,3232,3233,3234,3235,3236,3237,3238],\"y\":[30,30,30,30,30,30,30,30,30,30,30,30,30,30,30,30,30,30,30,30,30,30,30,30,30,30,30,30,30,30,30,30,30,30,30,30,30,30,30,30,30,30,30,30,30,30,30,30,30,30,30,30,30,30,30,30,30,30,30,30],\"yaxis\":\"y3\",\"type\":\"scatter\"},{\"legendgroup\":\"RSI(close,20)\",\"line\":{\"color\":\"#17BECF\",\"width\":1},\"mode\":\"lines\",\"name\":\"\",\"showlegend\":true,\"text\":\"\",\"x\":[3179,3180,3181,3182,3183,3184,3185,3186,3187,3188,3189,3190,3191,3192,3193,3194,3195,3196,3197,3198,3199,3200,3201,3202,3203,3204,3205,3206,3207,3208,3209,3210,3211,3212,3213,3214,3215,3216,3217,3218,3219,3220,3221,3222,3223,3224,3225,3226,3227,3228,3229,3230,3231,3232,3233,3234,3235,3236,3237,3238],\"y\":[70,70,70,70,70,70,70,70,70,70,70,70,70,70,70,70,70,70,70,70,70,70,70,70,70,70,70,70,70,70,70,70,70,70,70,70,70,70,70,70,70,70,70,70,70,70,70,70,70,70,70,70,70,70,70,70,70,70,70,70],\"yaxis\":\"y3\",\"type\":\"scatter\"},{\"close\":[-0.03724883856138729,-0.03717547762779041,-0.03699275039441414,-0.037021254642641964,-0.03703475665496041,-0.037001751735959765,-0.03691803925958541,-0.0369135385888126,-0.03685202942158412,-0.03672931113184538,-0.03678016871157819,-0.03679367072389663,-0.03673081135543632,-0.03666645176338507,-0.036684454446476326,-0.03652123011978225,-0.03651672944900943,-0.03662159507801602,-0.036585589711833504,-0.036543733473646325,-0.036525730790555065,-0.03651222877823662,-0.036524230566964126,-0.03654958434565098,-0.03657058747592412,-0.036727810908254444,-0.036820674748533525,-0.03677866848798725,-0.03684017765521572,-0.036807172736215074,-0.036687154848940015,-0.036645148588393746,-0.03654313338420995,-0.036562636290892146,-0.03646362153389022,-0.036433617062071454,-0.036427616167707705,-0.03642461572052583,-0.03628659515015951,-0.036369107447661114,-0.03638110923638862,-0.03649962690007274,-0.036451619745162714,-0.036385609907161436,-0.03633010163429672,-0.036364606776888304,-0.03631960006916015,-0.036309098504023585,-0.03626109134911357,-0.03622208553574917,-0.0362940962681142,-0.036213084194203535,-0.03621458441779448,-0.03619808195829416,-0.03616207659211164,-0.03618457994597571,-0.0361800792752029,-0.03620108240547603,-0.03629709671529608,-0.036396111472298],\"decreasing\":{\"line\":{\"color\":\"#808080\"}},\"high\":[-0.03732512591468666,-0.037283502125026034,-0.03713162750898831,-0.03708015723145097,-0.037112232911655406,-0.037113724803757936,-0.03704897668650806,-0.03704077127994414,-0.03699601451686819,-0.036862042606060845,-0.036809975571682495,-0.03691425882964946,-0.03686502639026591,-0.03680027827301604,-0.036735530155766166,-0.036647657710927053,-0.03662527932938908,-0.03665511717143971,-0.03670718420581807,-0.0366685442003625,-0.03664318203461946,-0.03662095284229174,-0.03663423068200427,-0.036667052308259965,-0.036647657710927053,-0.03670270852951047,-0.03685159936134313,-0.03688740477180389,-0.03689337234021401,-0.036944693428541106,-0.03680669340905693,-0.03670076906977718,-0.036687342040854394,-0.03666943933562402,-0.036611255543625286,-0.03655307175162655,-0.03653964472270377,-0.03652323390957592,-0.03642924470711643,-0.03639642308086073,-0.03646355822547465,-0.036566498780549336,-0.03658067175552339,-0.036522487963524655,-0.03643968795183415,-0.03641730957029617,-0.036436704167629085,-0.03629199063368352,-0.0363949311887582,-0.036368077130912634,-0.03638001226773288,-0.036344206857272125,-0.03630392577050377,-0.03631287712311896,-0.03626961225214554,-0.03630243387840124,-0.036274087928453144,-0.036320336583631624,-0.036372552807220224,-0.036432228491321494],\"increasing\":{\"line\":{\"color\":\"#17BECF\"}},\"low\":[-0.037242178751826095,-0.037139664571822356,-0.0370055959534964,-0.036892664279501115,-0.03693025784477495,-0.03688209580733578,-0.036836953333372426,-0.036829253446509114,-0.036773542500380424,-0.03669669460992106,-0.03665004235421981,-0.03671028264556221,-0.036674198862026275,-0.036607919443732255,-0.03655658686464349,-0.0364691705020188,-0.036396851956773155,-0.0364691705020188,-0.036506915045466416,-0.03643761606369659,-0.036425537809793344,-0.03638039533582999,-0.036414969337628014,-0.036436106281958675,-0.036424028028055444,-0.03661531737424799,-0.03669518482818316,-0.036674198862026275,-0.03668627711592952,-0.03672387068120335,-0.036618336937723796,-0.03650208374390512,-0.03648849570826398,-0.0364326337839615,-0.03641149683963083,-0.03635714469706626,-0.036326949062308156,-0.036308831681453296,-0.0362786360466952,-0.036225793685868535,-0.03624391106672339,-0.03636167404227997,-0.03634959578837673,-0.03635110557011464,-0.036198617614586245,-0.036219754558916906,-0.036227303467606435,-0.03620465674153786,-0.03617899045199348,-0.036147285035497474,-0.03619408826937253,-0.03612765787290471,-0.036082364420767565,-0.03608689376598128,-0.03605669813122318,-0.03602499271472718,-0.03605216878600946,-0.036092781914759106,-0.03622277412239272,-0.036254479538888724],\"name\":\"Trace 1\",\"open\":[-0.03732390805472356,-0.03727455483892942,-0.03715769722463266,-0.037030488935898824,-0.03700798746973129,-0.03697963562236019,-0.036973635231382175,-0.03698263581784919,-0.036928632299047096,-0.03683892645392583,-0.03670406766669504,-0.036835926258436825,-0.03675507099000813,-0.036711568155417554,-0.03666671523285692,-0.03661436182157377,-0.03649900430502152,-0.03655285781404916,-0.03664271366894488,-0.036587360062172725,-0.036526006064422564,-0.03650200450051052,-0.036493003914043504,-0.03655735810728267,-0.03656185840051618,-0.03656935888923869,-0.036741570110307605,-0.03679842381482426,-0.03680142401031326,-0.03683892645392583,-0.03677592234865672,-0.036660414822330005,-0.036646913942629485,-0.0365419071005143,-0.036567408762170836,-0.03644590084486612,-0.03641739898772057,-0.03641739898772057,-0.03642189928095407,-0.03627488970199281,-0.03633939390500643,-0.03641739898772057,-0.03646240192005565,-0.03645340133358863,-0.03633939390500643,-0.036301891461393856,-0.0363228928298169,-0.036234387062891234,-0.03628989067943784,-0.03624938804033626,-0.036234387062891234,-0.03628839058169333,-0.036189384130556154,-0.036207385303490186,-0.036205885205745685,-0.03618638393506715,-0.03617138295762212,-0.03620438510800118,-0.036231386867402224,-0.036316892438838885],\"showlegend\":true,\"x\":[3179,3180,3181,3182,3183,3184,3185,3186,3187,3188,3189,3190,3191,3192,3193,3194,3195,3196,3197,3198,3199,3200,3201,3202,3203,3204,3205,3206,3207,3208,3209,3210,3211,3212,3213,3214,3215,3216,3217,3218,3219,3220,3221,3222,3223,3224,3225,3226,3227,3228,3229,3230,3231,3232,3233,3234,3235,3236,3237,3238],\"yaxis\":\"y2\",\"type\":\"candlestick\"}],                        {\"legend\":{\"bgcolor\":\"#F5F6F9\",\"font\":{\"color\":\"#4D5663\"}},\"margin\":{\"b\":30,\"l\":30,\"r\":30,\"t\":30},\"paper_bgcolor\":\"#F5F6F9\",\"plot_bgcolor\":\"#F5F6F9\",\"showlegend\":true,\"template\":{\"data\":{\"barpolar\":[{\"marker\":{\"line\":{\"color\":\"#E5ECF6\",\"width\":0.5},\"pattern\":{\"fillmode\":\"overlay\",\"size\":10,\"solidity\":0.2}},\"type\":\"barpolar\"}],\"bar\":[{\"error_x\":{\"color\":\"#2a3f5f\"},\"error_y\":{\"color\":\"#2a3f5f\"},\"marker\":{\"line\":{\"color\":\"#E5ECF6\",\"width\":0.5},\"pattern\":{\"fillmode\":\"overlay\",\"size\":10,\"solidity\":0.2}},\"type\":\"bar\"}],\"carpet\":[{\"aaxis\":{\"endlinecolor\":\"#2a3f5f\",\"gridcolor\":\"white\",\"linecolor\":\"white\",\"minorgridcolor\":\"white\",\"startlinecolor\":\"#2a3f5f\"},\"baxis\":{\"endlinecolor\":\"#2a3f5f\",\"gridcolor\":\"white\",\"linecolor\":\"white\",\"minorgridcolor\":\"white\",\"startlinecolor\":\"#2a3f5f\"},\"type\":\"carpet\"}],\"choropleth\":[{\"colorbar\":{\"outlinewidth\":0,\"ticks\":\"\"},\"type\":\"choropleth\"}],\"contourcarpet\":[{\"colorbar\":{\"outlinewidth\":0,\"ticks\":\"\"},\"type\":\"contourcarpet\"}],\"contour\":[{\"colorbar\":{\"outlinewidth\":0,\"ticks\":\"\"},\"colorscale\":[[0.0,\"#0d0887\"],[0.1111111111111111,\"#46039f\"],[0.2222222222222222,\"#7201a8\"],[0.3333333333333333,\"#9c179e\"],[0.4444444444444444,\"#bd3786\"],[0.5555555555555556,\"#d8576b\"],[0.6666666666666666,\"#ed7953\"],[0.7777777777777778,\"#fb9f3a\"],[0.8888888888888888,\"#fdca26\"],[1.0,\"#f0f921\"]],\"type\":\"contour\"}],\"heatmapgl\":[{\"colorbar\":{\"outlinewidth\":0,\"ticks\":\"\"},\"colorscale\":[[0.0,\"#0d0887\"],[0.1111111111111111,\"#46039f\"],[0.2222222222222222,\"#7201a8\"],[0.3333333333333333,\"#9c179e\"],[0.4444444444444444,\"#bd3786\"],[0.5555555555555556,\"#d8576b\"],[0.6666666666666666,\"#ed7953\"],[0.7777777777777778,\"#fb9f3a\"],[0.8888888888888888,\"#fdca26\"],[1.0,\"#f0f921\"]],\"type\":\"heatmapgl\"}],\"heatmap\":[{\"colorbar\":{\"outlinewidth\":0,\"ticks\":\"\"},\"colorscale\":[[0.0,\"#0d0887\"],[0.1111111111111111,\"#46039f\"],[0.2222222222222222,\"#7201a8\"],[0.3333333333333333,\"#9c179e\"],[0.4444444444444444,\"#bd3786\"],[0.5555555555555556,\"#d8576b\"],[0.6666666666666666,\"#ed7953\"],[0.7777777777777778,\"#fb9f3a\"],[0.8888888888888888,\"#fdca26\"],[1.0,\"#f0f921\"]],\"type\":\"heatmap\"}],\"histogram2dcontour\":[{\"colorbar\":{\"outlinewidth\":0,\"ticks\":\"\"},\"colorscale\":[[0.0,\"#0d0887\"],[0.1111111111111111,\"#46039f\"],[0.2222222222222222,\"#7201a8\"],[0.3333333333333333,\"#9c179e\"],[0.4444444444444444,\"#bd3786\"],[0.5555555555555556,\"#d8576b\"],[0.6666666666666666,\"#ed7953\"],[0.7777777777777778,\"#fb9f3a\"],[0.8888888888888888,\"#fdca26\"],[1.0,\"#f0f921\"]],\"type\":\"histogram2dcontour\"}],\"histogram2d\":[{\"colorbar\":{\"outlinewidth\":0,\"ticks\":\"\"},\"colorscale\":[[0.0,\"#0d0887\"],[0.1111111111111111,\"#46039f\"],[0.2222222222222222,\"#7201a8\"],[0.3333333333333333,\"#9c179e\"],[0.4444444444444444,\"#bd3786\"],[0.5555555555555556,\"#d8576b\"],[0.6666666666666666,\"#ed7953\"],[0.7777777777777778,\"#fb9f3a\"],[0.8888888888888888,\"#fdca26\"],[1.0,\"#f0f921\"]],\"type\":\"histogram2d\"}],\"histogram\":[{\"marker\":{\"pattern\":{\"fillmode\":\"overlay\",\"size\":10,\"solidity\":0.2}},\"type\":\"histogram\"}],\"mesh3d\":[{\"colorbar\":{\"outlinewidth\":0,\"ticks\":\"\"},\"type\":\"mesh3d\"}],\"parcoords\":[{\"line\":{\"colorbar\":{\"outlinewidth\":0,\"ticks\":\"\"}},\"type\":\"parcoords\"}],\"pie\":[{\"automargin\":true,\"type\":\"pie\"}],\"scatter3d\":[{\"line\":{\"colorbar\":{\"outlinewidth\":0,\"ticks\":\"\"}},\"marker\":{\"colorbar\":{\"outlinewidth\":0,\"ticks\":\"\"}},\"type\":\"scatter3d\"}],\"scattercarpet\":[{\"marker\":{\"colorbar\":{\"outlinewidth\":0,\"ticks\":\"\"}},\"type\":\"scattercarpet\"}],\"scattergeo\":[{\"marker\":{\"colorbar\":{\"outlinewidth\":0,\"ticks\":\"\"}},\"type\":\"scattergeo\"}],\"scattergl\":[{\"marker\":{\"colorbar\":{\"outlinewidth\":0,\"ticks\":\"\"}},\"type\":\"scattergl\"}],\"scattermapbox\":[{\"marker\":{\"colorbar\":{\"outlinewidth\":0,\"ticks\":\"\"}},\"type\":\"scattermapbox\"}],\"scatterpolargl\":[{\"marker\":{\"colorbar\":{\"outlinewidth\":0,\"ticks\":\"\"}},\"type\":\"scatterpolargl\"}],\"scatterpolar\":[{\"marker\":{\"colorbar\":{\"outlinewidth\":0,\"ticks\":\"\"}},\"type\":\"scatterpolar\"}],\"scatter\":[{\"marker\":{\"colorbar\":{\"outlinewidth\":0,\"ticks\":\"\"}},\"type\":\"scatter\"}],\"scatterternary\":[{\"marker\":{\"colorbar\":{\"outlinewidth\":0,\"ticks\":\"\"}},\"type\":\"scatterternary\"}],\"surface\":[{\"colorbar\":{\"outlinewidth\":0,\"ticks\":\"\"},\"colorscale\":[[0.0,\"#0d0887\"],[0.1111111111111111,\"#46039f\"],[0.2222222222222222,\"#7201a8\"],[0.3333333333333333,\"#9c179e\"],[0.4444444444444444,\"#bd3786\"],[0.5555555555555556,\"#d8576b\"],[0.6666666666666666,\"#ed7953\"],[0.7777777777777778,\"#fb9f3a\"],[0.8888888888888888,\"#fdca26\"],[1.0,\"#f0f921\"]],\"type\":\"surface\"}],\"table\":[{\"cells\":{\"fill\":{\"color\":\"#EBF0F8\"},\"line\":{\"color\":\"white\"}},\"header\":{\"fill\":{\"color\":\"#C8D4E3\"},\"line\":{\"color\":\"white\"}},\"type\":\"table\"}]},\"layout\":{\"annotationdefaults\":{\"arrowcolor\":\"#2a3f5f\",\"arrowhead\":0,\"arrowwidth\":1},\"autotypenumbers\":\"strict\",\"coloraxis\":{\"colorbar\":{\"outlinewidth\":0,\"ticks\":\"\"}},\"colorscale\":{\"diverging\":[[0,\"#8e0152\"],[0.1,\"#c51b7d\"],[0.2,\"#de77ae\"],[0.3,\"#f1b6da\"],[0.4,\"#fde0ef\"],[0.5,\"#f7f7f7\"],[0.6,\"#e6f5d0\"],[0.7,\"#b8e186\"],[0.8,\"#7fbc41\"],[0.9,\"#4d9221\"],[1,\"#276419\"]],\"sequential\":[[0.0,\"#0d0887\"],[0.1111111111111111,\"#46039f\"],[0.2222222222222222,\"#7201a8\"],[0.3333333333333333,\"#9c179e\"],[0.4444444444444444,\"#bd3786\"],[0.5555555555555556,\"#d8576b\"],[0.6666666666666666,\"#ed7953\"],[0.7777777777777778,\"#fb9f3a\"],[0.8888888888888888,\"#fdca26\"],[1.0,\"#f0f921\"]],\"sequentialminus\":[[0.0,\"#0d0887\"],[0.1111111111111111,\"#46039f\"],[0.2222222222222222,\"#7201a8\"],[0.3333333333333333,\"#9c179e\"],[0.4444444444444444,\"#bd3786\"],[0.5555555555555556,\"#d8576b\"],[0.6666666666666666,\"#ed7953\"],[0.7777777777777778,\"#fb9f3a\"],[0.8888888888888888,\"#fdca26\"],[1.0,\"#f0f921\"]]},\"colorway\":[\"#636efa\",\"#EF553B\",\"#00cc96\",\"#ab63fa\",\"#FFA15A\",\"#19d3f3\",\"#FF6692\",\"#B6E880\",\"#FF97FF\",\"#FECB52\"],\"font\":{\"color\":\"#2a3f5f\"},\"geo\":{\"bgcolor\":\"white\",\"lakecolor\":\"white\",\"landcolor\":\"#E5ECF6\",\"showlakes\":true,\"showland\":true,\"subunitcolor\":\"white\"},\"hoverlabel\":{\"align\":\"left\"},\"hovermode\":\"closest\",\"mapbox\":{\"style\":\"light\"},\"paper_bgcolor\":\"white\",\"plot_bgcolor\":\"#E5ECF6\",\"polar\":{\"angularaxis\":{\"gridcolor\":\"white\",\"linecolor\":\"white\",\"ticks\":\"\"},\"bgcolor\":\"#E5ECF6\",\"radialaxis\":{\"gridcolor\":\"white\",\"linecolor\":\"white\",\"ticks\":\"\"}},\"scene\":{\"xaxis\":{\"backgroundcolor\":\"#E5ECF6\",\"gridcolor\":\"white\",\"gridwidth\":2,\"linecolor\":\"white\",\"showbackground\":true,\"ticks\":\"\",\"zerolinecolor\":\"white\"},\"yaxis\":{\"backgroundcolor\":\"#E5ECF6\",\"gridcolor\":\"white\",\"gridwidth\":2,\"linecolor\":\"white\",\"showbackground\":true,\"ticks\":\"\",\"zerolinecolor\":\"white\"},\"zaxis\":{\"backgroundcolor\":\"#E5ECF6\",\"gridcolor\":\"white\",\"gridwidth\":2,\"linecolor\":\"white\",\"showbackground\":true,\"ticks\":\"\",\"zerolinecolor\":\"white\"}},\"shapedefaults\":{\"line\":{\"color\":\"#2a3f5f\"}},\"ternary\":{\"aaxis\":{\"gridcolor\":\"white\",\"linecolor\":\"white\",\"ticks\":\"\"},\"baxis\":{\"gridcolor\":\"white\",\"linecolor\":\"white\",\"ticks\":\"\"},\"bgcolor\":\"#E5ECF6\",\"caxis\":{\"gridcolor\":\"white\",\"linecolor\":\"white\",\"ticks\":\"\"}},\"title\":{\"x\":0.05},\"xaxis\":{\"automargin\":true,\"gridcolor\":\"white\",\"linecolor\":\"white\",\"ticks\":\"\",\"title\":{\"standoff\":15},\"zerolinecolor\":\"white\",\"zerolinewidth\":2},\"yaxis\":{\"automargin\":true,\"gridcolor\":\"white\",\"linecolor\":\"white\",\"ticks\":\"\",\"title\":{\"standoff\":15},\"zerolinecolor\":\"white\",\"zerolinewidth\":2}}},\"title\":{\"font\":{\"color\":\"#4D5663\"}},\"xaxis\":{\"anchor\":\"y2\",\"gridcolor\":\"#E1E5ED\",\"rangeselector\":{\"bgcolor\":\"rgba(150, 200, 250, 1)\",\"buttons\":[{\"count\":1,\"label\":\"1m\",\"step\":\"month\",\"stepmode\":\"backward\"},{\"count\":1,\"label\":\"1y\",\"step\":\"year\",\"stepmode\":\"backward\"}],\"font\":{\"size\":13},\"visible\":false,\"x\":0,\"y\":0.9},\"rangeslider\":{\"visible\":false},\"showgrid\":true,\"tickfont\":{\"color\":\"#4D5663\"},\"title\":{\"font\":{\"color\":\"#4D5663\"},\"text\":\"\"},\"zerolinecolor\":\"#E1E5ED\"},\"yaxis\":{\"gridcolor\":\"#E1E5ED\",\"showgrid\":true,\"showticklabels\":false,\"tickfont\":{\"color\":\"#4D5663\"},\"title\":{\"font\":{\"color\":\"#4D5663\"},\"text\":\"\"},\"zerolinecolor\":\"#E1E5ED\"},\"yaxis3\":{\"domain\":[0.0,0.15],\"gridcolor\":\"#E1E5ED\",\"showgrid\":true,\"tickfont\":{\"color\":\"#4D5663\"},\"title\":{\"font\":{\"color\":\"#4D5663\"},\"text\":\"\"},\"zerolinecolor\":\"#E1E5ED\"},\"yaxis2\":{\"domain\":[0.23,0.9],\"gridcolor\":\"#E1E5ED\",\"showgrid\":true,\"tickfont\":{\"color\":\"#4D5663\"},\"title\":{\"font\":{\"color\":\"#4D5663\"},\"text\":\"\"},\"zerolinecolor\":\"#E1E5ED\"}},                        {\"responsive\": true}                    ).then(function(){\n",
       "                            \n",
       "var gd = document.getElementById('a22f7a2f-32a6-496f-b747-6b0ed94b8da8');\n",
       "var x = new MutationObserver(function (mutations, observer) {{\n",
       "        var display = window.getComputedStyle(gd).display;\n",
       "        if (!display || display === 'none') {{\n",
       "            console.log([gd, 'removed!']);\n",
       "            Plotly.purge(gd);\n",
       "            observer.disconnect();\n",
       "        }}\n",
       "}});\n",
       "\n",
       "// Listen for the removal of the full notebook cells\n",
       "var notebookContainer = gd.closest('#notebook-container');\n",
       "if (notebookContainer) {{\n",
       "    x.observe(notebookContainer, {childList: true});\n",
       "}}\n",
       "\n",
       "// Listen for the clearing of the current output cell\n",
       "var outputEl = gd.closest('.output');\n",
       "if (outputEl) {{\n",
       "    x.observe(outputEl, {childList: true});\n",
       "}}\n",
       "\n",
       "                        }).then(function(){\n",
       "                            function downloadimage(format, height, width, filename) {var p = document.getElementById('a22f7a2f-32a6-496f-b747-6b0ed94b8da8');Plotly.downloadImage(p, {format: format, height: height, width: width, filename: filename});};if(document.readyState == 'complete') {downloadimage('png', 600, 800, 'qf_04');}\n",
       "                        })                };                });            </script>        </div>"
      ]
     },
     "metadata": {},
     "output_type": "display_data"
    }
   ],
   "source": [
    "qf=cf.QuantFig(tickers.get_group('a')[-60:])\n",
    "qf.add_rsi(periods=20,color='java')\n",
    "plyo.iplot(qf.iplot(asFigure=True),image='png',\n",
    "          filename='qf_04')"
   ]
  },
  {
   "cell_type": "code",
   "execution_count": 19,
   "metadata": {},
   "outputs": [
    {
     "data": {
      "application/vnd.plotly.v1+json": {
       "config": {
        "linkText": "Export to plot.ly",
        "plotlyServerURL": "https://plot.ly",
        "showLink": false
       },
       "data": [
        {
         "legendgroup": "BOLL(close,20)",
         "line": {
          "color": "rgba(255, 0, 255, 1.0)",
          "dash": "solid",
          "shape": "linear",
          "width": 1.3
         },
         "mode": "lines",
         "name": "BOLL(close,20)",
         "showlegend": true,
         "text": "",
         "type": "scatter",
         "x": [
          3179,
          3180,
          3181,
          3182,
          3183,
          3184,
          3185,
          3186,
          3187,
          3188,
          3189,
          3190,
          3191,
          3192,
          3193,
          3194,
          3195,
          3196,
          3197,
          3198,
          3199,
          3200,
          3201,
          3202,
          3203,
          3204,
          3205,
          3206,
          3207,
          3208,
          3209,
          3210,
          3211,
          3212,
          3213,
          3214,
          3215,
          3216,
          3217,
          3218,
          3219,
          3220,
          3221,
          3222,
          3223,
          3224,
          3225,
          3226,
          3227,
          3228,
          3229,
          3230,
          3231,
          3232,
          3233,
          3234,
          3235,
          3236,
          3237,
          3238
         ],
         "y": [
          "",
          "",
          "",
          "",
          "",
          "",
          "",
          "",
          "",
          "",
          "",
          "",
          "",
          "",
          "",
          "",
          "",
          "",
          "",
          -0.036816609142602076,
          -0.036780453754060465,
          -0.03674729131158278,
          -0.036723865320210276,
          -0.03670028180536073,
          -0.03667707334640892,
          -0.03666337630502365,
          -0.036658508079471054,
          -0.036651764574429785,
          -0.03665117198611136,
          -0.03665506506632985,
          -0.036650414373197944,
          -0.0366429882664228,
          -0.03663360436786148,
          -0.03662841359423683,
          -0.03661737194860752,
          -0.036612991295721986,
          -0.036608535631656905,
          -0.036598686663782395,
          -0.03658373693569869,
          -0.03657500563439943,
          -0.03656777455669111,
          -0.03656714446278291,
          -0.03656351392169284,
          -0.03655531519976836,
          -0.036543290907686994,
          -0.036525130701118694,
          -0.03650007696715002,
          -0.036476598467951836,
          -0.03644764415264673,
          -0.036418389792623435,
          -0.036398736863582144,
          -0.036377133643872635,
          -0.03636070619555186,
          -0.036342478478921955,
          -0.036327401231833034,
          -0.03631494937602824,
          -0.036302572531403,
          -0.036291395865650514,
          -0.03629192094390734,
          -0.03629327114513919
         ],
         "yaxis": "y2"
        },
        {
         "legendgroup": "BOLL(close,20)",
         "line": {
          "color": "rgba(128, 128, 128, 1.0)",
          "dash": "solid",
          "shape": "linear",
          "width": 1.3
         },
         "mode": "lines",
         "name": "UPPER(close,20)",
         "showlegend": false,
         "text": "",
         "type": "scatter",
         "x": [
          3179,
          3180,
          3181,
          3182,
          3183,
          3184,
          3185,
          3186,
          3187,
          3188,
          3189,
          3190,
          3191,
          3192,
          3193,
          3194,
          3195,
          3196,
          3197,
          3198,
          3199,
          3200,
          3201,
          3202,
          3203,
          3204,
          3205,
          3206,
          3207,
          3208,
          3209,
          3210,
          3211,
          3212,
          3213,
          3214,
          3215,
          3216,
          3217,
          3218,
          3219,
          3220,
          3221,
          3222,
          3223,
          3224,
          3225,
          3226,
          3227,
          3228,
          3229,
          3230,
          3231,
          3232,
          3233,
          3234,
          3235,
          3236,
          3237,
          3238
         ],
         "y": [
          "",
          "",
          "",
          "",
          "",
          "",
          "",
          "",
          "",
          "",
          "",
          "",
          "",
          "",
          "",
          "",
          "",
          "",
          "",
          -0.03638345545569835,
          -0.036379704782604015,
          -0.03637545247238281,
          -0.03635815477199424,
          -0.036355060357086084,
          -0.03636578761799515,
          -0.03639050641619926,
          -0.036401771075153896,
          -0.03641709596577977,
          -0.036418582038713794,
          -0.036414498505364615,
          -0.03641652751936925,
          -0.036419032470921556,
          -0.03640941511810653,
          -0.03640262490516225,
          -0.036381738417434945,
          -0.03636681043815969,
          -0.03635201053055553,
          -0.036329461539120415,
          -0.036280404569043335,
          -0.03625712090856977,
          -0.03623878476223118,
          -0.03623765884060286,
          -0.03623045649858455,
          -0.03621287324213879,
          -0.03618651821467014,
          -0.03617093877879716,
          -0.03616345618262578,
          -0.03615670568521333,
          -0.036163479426700805,
          -0.036172129299333465,
          -0.03618179662564199,
          -0.03617820823549596,
          -0.036165267214952265,
          -0.03615868296155305,
          -0.03613612766286888,
          -0.03612039366666572,
          -0.03610670520159551,
          -0.036099378103198757,
          -0.03609990102230676,
          -0.0360986044730197
         ],
         "yaxis": "y2"
        },
        {
         "fill": "tonexty",
         "fillcolor": "rgba(128, 128, 128, 0.1)",
         "legendgroup": "BOLL(close,20)",
         "line": {
          "color": "rgba(128, 128, 128, 0.8999999999999999)",
          "dash": "solid",
          "shape": "linear",
          "width": 1.3
         },
         "mode": "lines",
         "name": "LOWER(close,20)",
         "showlegend": false,
         "text": "",
         "type": "scatter",
         "x": [
          3179,
          3180,
          3181,
          3182,
          3183,
          3184,
          3185,
          3186,
          3187,
          3188,
          3189,
          3190,
          3191,
          3192,
          3193,
          3194,
          3195,
          3196,
          3197,
          3198,
          3199,
          3200,
          3201,
          3202,
          3203,
          3204,
          3205,
          3206,
          3207,
          3208,
          3209,
          3210,
          3211,
          3212,
          3213,
          3214,
          3215,
          3216,
          3217,
          3218,
          3219,
          3220,
          3221,
          3222,
          3223,
          3224,
          3225,
          3226,
          3227,
          3228,
          3229,
          3230,
          3231,
          3232,
          3233,
          3234,
          3235,
          3236,
          3237,
          3238
         ],
         "y": [
          "",
          "",
          "",
          "",
          "",
          "",
          "",
          "",
          "",
          "",
          "",
          "",
          "",
          "",
          "",
          "",
          "",
          "",
          "",
          -0.0372497628295058,
          -0.037181202725516914,
          -0.037119130150782755,
          -0.03708957586842631,
          -0.03704550325363538,
          -0.03698835907482269,
          -0.03693624619384804,
          -0.03691524508378821,
          -0.0368864331830798,
          -0.03688376193350893,
          -0.03689563162729509,
          -0.036884301227026635,
          -0.03686694406192405,
          -0.03685779361761642,
          -0.03685420228331141,
          -0.0368530054797801,
          -0.036859172153284284,
          -0.03686506073275828,
          -0.036867911788444375,
          -0.036887069302354046,
          -0.03689289036022909,
          -0.03689676435115104,
          -0.03689663008496297,
          -0.03689657134480113,
          -0.03689775715739793,
          -0.03690006360070385,
          -0.03687932262344023,
          -0.03683669775167426,
          -0.036796491250690344,
          -0.036731808878592655,
          -0.036664650285913404,
          -0.0366156771015223,
          -0.03657605905224931,
          -0.03655614517615145,
          -0.03652627399629086,
          -0.036518674800797186,
          -0.03650950508539076,
          -0.0364984398612105,
          -0.03648341362810227,
          -0.03648394086550792,
          -0.036487937817258675
         ],
         "yaxis": "y2"
        },
        {
         "close": [
          -0.03724883856138729,
          -0.03717547762779041,
          -0.03699275039441414,
          -0.037021254642641964,
          -0.03703475665496041,
          -0.037001751735959765,
          -0.03691803925958541,
          -0.0369135385888126,
          -0.03685202942158412,
          -0.03672931113184538,
          -0.03678016871157819,
          -0.03679367072389663,
          -0.03673081135543632,
          -0.03666645176338507,
          -0.036684454446476326,
          -0.03652123011978225,
          -0.03651672944900943,
          -0.03662159507801602,
          -0.036585589711833504,
          -0.036543733473646325,
          -0.036525730790555065,
          -0.03651222877823662,
          -0.036524230566964126,
          -0.03654958434565098,
          -0.03657058747592412,
          -0.036727810908254444,
          -0.036820674748533525,
          -0.03677866848798725,
          -0.03684017765521572,
          -0.036807172736215074,
          -0.036687154848940015,
          -0.036645148588393746,
          -0.03654313338420995,
          -0.036562636290892146,
          -0.03646362153389022,
          -0.036433617062071454,
          -0.036427616167707705,
          -0.03642461572052583,
          -0.03628659515015951,
          -0.036369107447661114,
          -0.03638110923638862,
          -0.03649962690007274,
          -0.036451619745162714,
          -0.036385609907161436,
          -0.03633010163429672,
          -0.036364606776888304,
          -0.03631960006916015,
          -0.036309098504023585,
          -0.03626109134911357,
          -0.03622208553574917,
          -0.0362940962681142,
          -0.036213084194203535,
          -0.03621458441779448,
          -0.03619808195829416,
          -0.03616207659211164,
          -0.03618457994597571,
          -0.0361800792752029,
          -0.03620108240547603,
          -0.03629709671529608,
          -0.036396111472298
         ],
         "decreasing": {
          "line": {
           "color": "#808080"
          }
         },
         "high": [
          -0.03732512591468666,
          -0.037283502125026034,
          -0.03713162750898831,
          -0.03708015723145097,
          -0.037112232911655406,
          -0.037113724803757936,
          -0.03704897668650806,
          -0.03704077127994414,
          -0.03699601451686819,
          -0.036862042606060845,
          -0.036809975571682495,
          -0.03691425882964946,
          -0.03686502639026591,
          -0.03680027827301604,
          -0.036735530155766166,
          -0.036647657710927053,
          -0.03662527932938908,
          -0.03665511717143971,
          -0.03670718420581807,
          -0.0366685442003625,
          -0.03664318203461946,
          -0.03662095284229174,
          -0.03663423068200427,
          -0.036667052308259965,
          -0.036647657710927053,
          -0.03670270852951047,
          -0.03685159936134313,
          -0.03688740477180389,
          -0.03689337234021401,
          -0.036944693428541106,
          -0.03680669340905693,
          -0.03670076906977718,
          -0.036687342040854394,
          -0.03666943933562402,
          -0.036611255543625286,
          -0.03655307175162655,
          -0.03653964472270377,
          -0.03652323390957592,
          -0.03642924470711643,
          -0.03639642308086073,
          -0.03646355822547465,
          -0.036566498780549336,
          -0.03658067175552339,
          -0.036522487963524655,
          -0.03643968795183415,
          -0.03641730957029617,
          -0.036436704167629085,
          -0.03629199063368352,
          -0.0363949311887582,
          -0.036368077130912634,
          -0.03638001226773288,
          -0.036344206857272125,
          -0.03630392577050377,
          -0.03631287712311896,
          -0.03626961225214554,
          -0.03630243387840124,
          -0.036274087928453144,
          -0.036320336583631624,
          -0.036372552807220224,
          -0.036432228491321494
         ],
         "increasing": {
          "line": {
           "color": "#17BECF"
          }
         },
         "low": [
          -0.037242178751826095,
          -0.037139664571822356,
          -0.0370055959534964,
          -0.036892664279501115,
          -0.03693025784477495,
          -0.03688209580733578,
          -0.036836953333372426,
          -0.036829253446509114,
          -0.036773542500380424,
          -0.03669669460992106,
          -0.03665004235421981,
          -0.03671028264556221,
          -0.036674198862026275,
          -0.036607919443732255,
          -0.03655658686464349,
          -0.0364691705020188,
          -0.036396851956773155,
          -0.0364691705020188,
          -0.036506915045466416,
          -0.03643761606369659,
          -0.036425537809793344,
          -0.03638039533582999,
          -0.036414969337628014,
          -0.036436106281958675,
          -0.036424028028055444,
          -0.03661531737424799,
          -0.03669518482818316,
          -0.036674198862026275,
          -0.03668627711592952,
          -0.03672387068120335,
          -0.036618336937723796,
          -0.03650208374390512,
          -0.03648849570826398,
          -0.0364326337839615,
          -0.03641149683963083,
          -0.03635714469706626,
          -0.036326949062308156,
          -0.036308831681453296,
          -0.0362786360466952,
          -0.036225793685868535,
          -0.03624391106672339,
          -0.03636167404227997,
          -0.03634959578837673,
          -0.03635110557011464,
          -0.036198617614586245,
          -0.036219754558916906,
          -0.036227303467606435,
          -0.03620465674153786,
          -0.03617899045199348,
          -0.036147285035497474,
          -0.03619408826937253,
          -0.03612765787290471,
          -0.036082364420767565,
          -0.03608689376598128,
          -0.03605669813122318,
          -0.03602499271472718,
          -0.03605216878600946,
          -0.036092781914759106,
          -0.03622277412239272,
          -0.036254479538888724
         ],
         "name": "Trace 1",
         "open": [
          -0.03732390805472356,
          -0.03727455483892942,
          -0.03715769722463266,
          -0.037030488935898824,
          -0.03700798746973129,
          -0.03697963562236019,
          -0.036973635231382175,
          -0.03698263581784919,
          -0.036928632299047096,
          -0.03683892645392583,
          -0.03670406766669504,
          -0.036835926258436825,
          -0.03675507099000813,
          -0.036711568155417554,
          -0.03666671523285692,
          -0.03661436182157377,
          -0.03649900430502152,
          -0.03655285781404916,
          -0.03664271366894488,
          -0.036587360062172725,
          -0.036526006064422564,
          -0.03650200450051052,
          -0.036493003914043504,
          -0.03655735810728267,
          -0.03656185840051618,
          -0.03656935888923869,
          -0.036741570110307605,
          -0.03679842381482426,
          -0.03680142401031326,
          -0.03683892645392583,
          -0.03677592234865672,
          -0.036660414822330005,
          -0.036646913942629485,
          -0.0365419071005143,
          -0.036567408762170836,
          -0.03644590084486612,
          -0.03641739898772057,
          -0.03641739898772057,
          -0.03642189928095407,
          -0.03627488970199281,
          -0.03633939390500643,
          -0.03641739898772057,
          -0.03646240192005565,
          -0.03645340133358863,
          -0.03633939390500643,
          -0.036301891461393856,
          -0.0363228928298169,
          -0.036234387062891234,
          -0.03628989067943784,
          -0.03624938804033626,
          -0.036234387062891234,
          -0.03628839058169333,
          -0.036189384130556154,
          -0.036207385303490186,
          -0.036205885205745685,
          -0.03618638393506715,
          -0.03617138295762212,
          -0.03620438510800118,
          -0.036231386867402224,
          -0.036316892438838885
         ],
         "showlegend": true,
         "type": "candlestick",
         "x": [
          3179,
          3180,
          3181,
          3182,
          3183,
          3184,
          3185,
          3186,
          3187,
          3188,
          3189,
          3190,
          3191,
          3192,
          3193,
          3194,
          3195,
          3196,
          3197,
          3198,
          3199,
          3200,
          3201,
          3202,
          3203,
          3204,
          3205,
          3206,
          3207,
          3208,
          3209,
          3210,
          3211,
          3212,
          3213,
          3214,
          3215,
          3216,
          3217,
          3218,
          3219,
          3220,
          3221,
          3222,
          3223,
          3224,
          3225,
          3226,
          3227,
          3228,
          3229,
          3230,
          3231,
          3232,
          3233,
          3234,
          3235,
          3236,
          3237,
          3238
         ],
         "yaxis": "y2"
        }
       ],
       "layout": {
        "legend": {
         "bgcolor": "#F5F6F9",
         "font": {
          "color": "#4D5663"
         }
        },
        "margin": {
         "b": 30,
         "l": 30,
         "r": 30,
         "t": 30
        },
        "paper_bgcolor": "#F5F6F9",
        "plot_bgcolor": "#F5F6F9",
        "showlegend": true,
        "template": {
         "data": {
          "bar": [
           {
            "error_x": {
             "color": "#2a3f5f"
            },
            "error_y": {
             "color": "#2a3f5f"
            },
            "marker": {
             "line": {
              "color": "#E5ECF6",
              "width": 0.5
             },
             "pattern": {
              "fillmode": "overlay",
              "size": 10,
              "solidity": 0.2
             }
            },
            "type": "bar"
           }
          ],
          "barpolar": [
           {
            "marker": {
             "line": {
              "color": "#E5ECF6",
              "width": 0.5
             },
             "pattern": {
              "fillmode": "overlay",
              "size": 10,
              "solidity": 0.2
             }
            },
            "type": "barpolar"
           }
          ],
          "carpet": [
           {
            "aaxis": {
             "endlinecolor": "#2a3f5f",
             "gridcolor": "white",
             "linecolor": "white",
             "minorgridcolor": "white",
             "startlinecolor": "#2a3f5f"
            },
            "baxis": {
             "endlinecolor": "#2a3f5f",
             "gridcolor": "white",
             "linecolor": "white",
             "minorgridcolor": "white",
             "startlinecolor": "#2a3f5f"
            },
            "type": "carpet"
           }
          ],
          "choropleth": [
           {
            "colorbar": {
             "outlinewidth": 0,
             "ticks": ""
            },
            "type": "choropleth"
           }
          ],
          "contour": [
           {
            "colorbar": {
             "outlinewidth": 0,
             "ticks": ""
            },
            "colorscale": [
             [
              0,
              "#0d0887"
             ],
             [
              0.1111111111111111,
              "#46039f"
             ],
             [
              0.2222222222222222,
              "#7201a8"
             ],
             [
              0.3333333333333333,
              "#9c179e"
             ],
             [
              0.4444444444444444,
              "#bd3786"
             ],
             [
              0.5555555555555556,
              "#d8576b"
             ],
             [
              0.6666666666666666,
              "#ed7953"
             ],
             [
              0.7777777777777778,
              "#fb9f3a"
             ],
             [
              0.8888888888888888,
              "#fdca26"
             ],
             [
              1,
              "#f0f921"
             ]
            ],
            "type": "contour"
           }
          ],
          "contourcarpet": [
           {
            "colorbar": {
             "outlinewidth": 0,
             "ticks": ""
            },
            "type": "contourcarpet"
           }
          ],
          "heatmap": [
           {
            "colorbar": {
             "outlinewidth": 0,
             "ticks": ""
            },
            "colorscale": [
             [
              0,
              "#0d0887"
             ],
             [
              0.1111111111111111,
              "#46039f"
             ],
             [
              0.2222222222222222,
              "#7201a8"
             ],
             [
              0.3333333333333333,
              "#9c179e"
             ],
             [
              0.4444444444444444,
              "#bd3786"
             ],
             [
              0.5555555555555556,
              "#d8576b"
             ],
             [
              0.6666666666666666,
              "#ed7953"
             ],
             [
              0.7777777777777778,
              "#fb9f3a"
             ],
             [
              0.8888888888888888,
              "#fdca26"
             ],
             [
              1,
              "#f0f921"
             ]
            ],
            "type": "heatmap"
           }
          ],
          "heatmapgl": [
           {
            "colorbar": {
             "outlinewidth": 0,
             "ticks": ""
            },
            "colorscale": [
             [
              0,
              "#0d0887"
             ],
             [
              0.1111111111111111,
              "#46039f"
             ],
             [
              0.2222222222222222,
              "#7201a8"
             ],
             [
              0.3333333333333333,
              "#9c179e"
             ],
             [
              0.4444444444444444,
              "#bd3786"
             ],
             [
              0.5555555555555556,
              "#d8576b"
             ],
             [
              0.6666666666666666,
              "#ed7953"
             ],
             [
              0.7777777777777778,
              "#fb9f3a"
             ],
             [
              0.8888888888888888,
              "#fdca26"
             ],
             [
              1,
              "#f0f921"
             ]
            ],
            "type": "heatmapgl"
           }
          ],
          "histogram": [
           {
            "marker": {
             "pattern": {
              "fillmode": "overlay",
              "size": 10,
              "solidity": 0.2
             }
            },
            "type": "histogram"
           }
          ],
          "histogram2d": [
           {
            "colorbar": {
             "outlinewidth": 0,
             "ticks": ""
            },
            "colorscale": [
             [
              0,
              "#0d0887"
             ],
             [
              0.1111111111111111,
              "#46039f"
             ],
             [
              0.2222222222222222,
              "#7201a8"
             ],
             [
              0.3333333333333333,
              "#9c179e"
             ],
             [
              0.4444444444444444,
              "#bd3786"
             ],
             [
              0.5555555555555556,
              "#d8576b"
             ],
             [
              0.6666666666666666,
              "#ed7953"
             ],
             [
              0.7777777777777778,
              "#fb9f3a"
             ],
             [
              0.8888888888888888,
              "#fdca26"
             ],
             [
              1,
              "#f0f921"
             ]
            ],
            "type": "histogram2d"
           }
          ],
          "histogram2dcontour": [
           {
            "colorbar": {
             "outlinewidth": 0,
             "ticks": ""
            },
            "colorscale": [
             [
              0,
              "#0d0887"
             ],
             [
              0.1111111111111111,
              "#46039f"
             ],
             [
              0.2222222222222222,
              "#7201a8"
             ],
             [
              0.3333333333333333,
              "#9c179e"
             ],
             [
              0.4444444444444444,
              "#bd3786"
             ],
             [
              0.5555555555555556,
              "#d8576b"
             ],
             [
              0.6666666666666666,
              "#ed7953"
             ],
             [
              0.7777777777777778,
              "#fb9f3a"
             ],
             [
              0.8888888888888888,
              "#fdca26"
             ],
             [
              1,
              "#f0f921"
             ]
            ],
            "type": "histogram2dcontour"
           }
          ],
          "mesh3d": [
           {
            "colorbar": {
             "outlinewidth": 0,
             "ticks": ""
            },
            "type": "mesh3d"
           }
          ],
          "parcoords": [
           {
            "line": {
             "colorbar": {
              "outlinewidth": 0,
              "ticks": ""
             }
            },
            "type": "parcoords"
           }
          ],
          "pie": [
           {
            "automargin": true,
            "type": "pie"
           }
          ],
          "scatter": [
           {
            "marker": {
             "colorbar": {
              "outlinewidth": 0,
              "ticks": ""
             }
            },
            "type": "scatter"
           }
          ],
          "scatter3d": [
           {
            "line": {
             "colorbar": {
              "outlinewidth": 0,
              "ticks": ""
             }
            },
            "marker": {
             "colorbar": {
              "outlinewidth": 0,
              "ticks": ""
             }
            },
            "type": "scatter3d"
           }
          ],
          "scattercarpet": [
           {
            "marker": {
             "colorbar": {
              "outlinewidth": 0,
              "ticks": ""
             }
            },
            "type": "scattercarpet"
           }
          ],
          "scattergeo": [
           {
            "marker": {
             "colorbar": {
              "outlinewidth": 0,
              "ticks": ""
             }
            },
            "type": "scattergeo"
           }
          ],
          "scattergl": [
           {
            "marker": {
             "colorbar": {
              "outlinewidth": 0,
              "ticks": ""
             }
            },
            "type": "scattergl"
           }
          ],
          "scattermapbox": [
           {
            "marker": {
             "colorbar": {
              "outlinewidth": 0,
              "ticks": ""
             }
            },
            "type": "scattermapbox"
           }
          ],
          "scatterpolar": [
           {
            "marker": {
             "colorbar": {
              "outlinewidth": 0,
              "ticks": ""
             }
            },
            "type": "scatterpolar"
           }
          ],
          "scatterpolargl": [
           {
            "marker": {
             "colorbar": {
              "outlinewidth": 0,
              "ticks": ""
             }
            },
            "type": "scatterpolargl"
           }
          ],
          "scatterternary": [
           {
            "marker": {
             "colorbar": {
              "outlinewidth": 0,
              "ticks": ""
             }
            },
            "type": "scatterternary"
           }
          ],
          "surface": [
           {
            "colorbar": {
             "outlinewidth": 0,
             "ticks": ""
            },
            "colorscale": [
             [
              0,
              "#0d0887"
             ],
             [
              0.1111111111111111,
              "#46039f"
             ],
             [
              0.2222222222222222,
              "#7201a8"
             ],
             [
              0.3333333333333333,
              "#9c179e"
             ],
             [
              0.4444444444444444,
              "#bd3786"
             ],
             [
              0.5555555555555556,
              "#d8576b"
             ],
             [
              0.6666666666666666,
              "#ed7953"
             ],
             [
              0.7777777777777778,
              "#fb9f3a"
             ],
             [
              0.8888888888888888,
              "#fdca26"
             ],
             [
              1,
              "#f0f921"
             ]
            ],
            "type": "surface"
           }
          ],
          "table": [
           {
            "cells": {
             "fill": {
              "color": "#EBF0F8"
             },
             "line": {
              "color": "white"
             }
            },
            "header": {
             "fill": {
              "color": "#C8D4E3"
             },
             "line": {
              "color": "white"
             }
            },
            "type": "table"
           }
          ]
         },
         "layout": {
          "annotationdefaults": {
           "arrowcolor": "#2a3f5f",
           "arrowhead": 0,
           "arrowwidth": 1
          },
          "autotypenumbers": "strict",
          "coloraxis": {
           "colorbar": {
            "outlinewidth": 0,
            "ticks": ""
           }
          },
          "colorscale": {
           "diverging": [
            [
             0,
             "#8e0152"
            ],
            [
             0.1,
             "#c51b7d"
            ],
            [
             0.2,
             "#de77ae"
            ],
            [
             0.3,
             "#f1b6da"
            ],
            [
             0.4,
             "#fde0ef"
            ],
            [
             0.5,
             "#f7f7f7"
            ],
            [
             0.6,
             "#e6f5d0"
            ],
            [
             0.7,
             "#b8e186"
            ],
            [
             0.8,
             "#7fbc41"
            ],
            [
             0.9,
             "#4d9221"
            ],
            [
             1,
             "#276419"
            ]
           ],
           "sequential": [
            [
             0,
             "#0d0887"
            ],
            [
             0.1111111111111111,
             "#46039f"
            ],
            [
             0.2222222222222222,
             "#7201a8"
            ],
            [
             0.3333333333333333,
             "#9c179e"
            ],
            [
             0.4444444444444444,
             "#bd3786"
            ],
            [
             0.5555555555555556,
             "#d8576b"
            ],
            [
             0.6666666666666666,
             "#ed7953"
            ],
            [
             0.7777777777777778,
             "#fb9f3a"
            ],
            [
             0.8888888888888888,
             "#fdca26"
            ],
            [
             1,
             "#f0f921"
            ]
           ],
           "sequentialminus": [
            [
             0,
             "#0d0887"
            ],
            [
             0.1111111111111111,
             "#46039f"
            ],
            [
             0.2222222222222222,
             "#7201a8"
            ],
            [
             0.3333333333333333,
             "#9c179e"
            ],
            [
             0.4444444444444444,
             "#bd3786"
            ],
            [
             0.5555555555555556,
             "#d8576b"
            ],
            [
             0.6666666666666666,
             "#ed7953"
            ],
            [
             0.7777777777777778,
             "#fb9f3a"
            ],
            [
             0.8888888888888888,
             "#fdca26"
            ],
            [
             1,
             "#f0f921"
            ]
           ]
          },
          "colorway": [
           "#636efa",
           "#EF553B",
           "#00cc96",
           "#ab63fa",
           "#FFA15A",
           "#19d3f3",
           "#FF6692",
           "#B6E880",
           "#FF97FF",
           "#FECB52"
          ],
          "font": {
           "color": "#2a3f5f"
          },
          "geo": {
           "bgcolor": "white",
           "lakecolor": "white",
           "landcolor": "#E5ECF6",
           "showlakes": true,
           "showland": true,
           "subunitcolor": "white"
          },
          "hoverlabel": {
           "align": "left"
          },
          "hovermode": "closest",
          "mapbox": {
           "style": "light"
          },
          "paper_bgcolor": "white",
          "plot_bgcolor": "#E5ECF6",
          "polar": {
           "angularaxis": {
            "gridcolor": "white",
            "linecolor": "white",
            "ticks": ""
           },
           "bgcolor": "#E5ECF6",
           "radialaxis": {
            "gridcolor": "white",
            "linecolor": "white",
            "ticks": ""
           }
          },
          "scene": {
           "xaxis": {
            "backgroundcolor": "#E5ECF6",
            "gridcolor": "white",
            "gridwidth": 2,
            "linecolor": "white",
            "showbackground": true,
            "ticks": "",
            "zerolinecolor": "white"
           },
           "yaxis": {
            "backgroundcolor": "#E5ECF6",
            "gridcolor": "white",
            "gridwidth": 2,
            "linecolor": "white",
            "showbackground": true,
            "ticks": "",
            "zerolinecolor": "white"
           },
           "zaxis": {
            "backgroundcolor": "#E5ECF6",
            "gridcolor": "white",
            "gridwidth": 2,
            "linecolor": "white",
            "showbackground": true,
            "ticks": "",
            "zerolinecolor": "white"
           }
          },
          "shapedefaults": {
           "line": {
            "color": "#2a3f5f"
           }
          },
          "ternary": {
           "aaxis": {
            "gridcolor": "white",
            "linecolor": "white",
            "ticks": ""
           },
           "baxis": {
            "gridcolor": "white",
            "linecolor": "white",
            "ticks": ""
           },
           "bgcolor": "#E5ECF6",
           "caxis": {
            "gridcolor": "white",
            "linecolor": "white",
            "ticks": ""
           }
          },
          "title": {
           "x": 0.05
          },
          "xaxis": {
           "automargin": true,
           "gridcolor": "white",
           "linecolor": "white",
           "ticks": "",
           "title": {
            "standoff": 15
           },
           "zerolinecolor": "white",
           "zerolinewidth": 2
          },
          "yaxis": {
           "automargin": true,
           "gridcolor": "white",
           "linecolor": "white",
           "ticks": "",
           "title": {
            "standoff": 15
           },
           "zerolinecolor": "white",
           "zerolinewidth": 2
          }
         }
        },
        "title": {
         "font": {
          "color": "#4D5663"
         }
        },
        "xaxis": {
         "anchor": "y2",
         "gridcolor": "#E1E5ED",
         "rangeselector": {
          "bgcolor": "rgba(150, 200, 250, 1)",
          "buttons": [
           {
            "count": 1,
            "label": "1m",
            "step": "month",
            "stepmode": "backward"
           },
           {
            "count": 1,
            "label": "1y",
            "step": "year",
            "stepmode": "backward"
           }
          ],
          "font": {
           "size": 13
          },
          "visible": false,
          "x": 0,
          "y": 0.9
         },
         "rangeslider": {
          "visible": false
         },
         "showgrid": true,
         "tickfont": {
          "color": "#4D5663"
         },
         "title": {
          "font": {
           "color": "#4D5663"
          },
          "text": ""
         },
         "zerolinecolor": "#E1E5ED"
        },
        "yaxis": {
         "gridcolor": "#E1E5ED",
         "showgrid": true,
         "showticklabels": false,
         "tickfont": {
          "color": "#4D5663"
         },
         "title": {
          "font": {
           "color": "#4D5663"
          },
          "text": ""
         },
         "zerolinecolor": "#E1E5ED"
        },
        "yaxis2": {
         "domain": [
          0,
          0.9
         ],
         "gridcolor": "#E1E5ED",
         "showgrid": true,
         "tickfont": {
          "color": "#4D5663"
         },
         "title": {
          "font": {
           "color": "#4D5663"
          },
          "text": ""
         },
         "zerolinecolor": "#E1E5ED"
        }
       }
      },
      "text/html": [
       "<div>                            <div id=\"877e2d61-e262-4b98-a885-3c52c194cedb\" class=\"plotly-graph-div\" style=\"height:525px; width:100%;\"></div>            <script type=\"text/javascript\">                require([\"plotly\"], function(Plotly) {                    window.PLOTLYENV=window.PLOTLYENV || {};                                    if (document.getElementById(\"877e2d61-e262-4b98-a885-3c52c194cedb\")) {                    Plotly.newPlot(                        \"877e2d61-e262-4b98-a885-3c52c194cedb\",                        [{\"legendgroup\":\"BOLL(close,20)\",\"line\":{\"color\":\"rgba(255, 0, 255, 1.0)\",\"dash\":\"solid\",\"shape\":\"linear\",\"width\":1.3},\"mode\":\"lines\",\"name\":\"BOLL(close,20)\",\"showlegend\":true,\"text\":\"\",\"x\":[3179,3180,3181,3182,3183,3184,3185,3186,3187,3188,3189,3190,3191,3192,3193,3194,3195,3196,3197,3198,3199,3200,3201,3202,3203,3204,3205,3206,3207,3208,3209,3210,3211,3212,3213,3214,3215,3216,3217,3218,3219,3220,3221,3222,3223,3224,3225,3226,3227,3228,3229,3230,3231,3232,3233,3234,3235,3236,3237,3238],\"y\":[\"\",\"\",\"\",\"\",\"\",\"\",\"\",\"\",\"\",\"\",\"\",\"\",\"\",\"\",\"\",\"\",\"\",\"\",\"\",-0.036816609142602076,-0.036780453754060465,-0.03674729131158278,-0.036723865320210276,-0.03670028180536073,-0.03667707334640892,-0.03666337630502365,-0.036658508079471054,-0.036651764574429785,-0.03665117198611136,-0.03665506506632985,-0.036650414373197944,-0.0366429882664228,-0.03663360436786148,-0.03662841359423683,-0.03661737194860752,-0.036612991295721986,-0.036608535631656905,-0.036598686663782395,-0.03658373693569869,-0.03657500563439943,-0.03656777455669111,-0.03656714446278291,-0.03656351392169284,-0.03655531519976836,-0.036543290907686994,-0.036525130701118694,-0.03650007696715002,-0.036476598467951836,-0.03644764415264673,-0.036418389792623435,-0.036398736863582144,-0.036377133643872635,-0.03636070619555186,-0.036342478478921955,-0.036327401231833034,-0.03631494937602824,-0.036302572531403,-0.036291395865650514,-0.03629192094390734,-0.03629327114513919],\"yaxis\":\"y2\",\"type\":\"scatter\"},{\"legendgroup\":\"BOLL(close,20)\",\"line\":{\"color\":\"rgba(128, 128, 128, 1.0)\",\"dash\":\"solid\",\"shape\":\"linear\",\"width\":1.3},\"mode\":\"lines\",\"name\":\"UPPER(close,20)\",\"showlegend\":false,\"text\":\"\",\"x\":[3179,3180,3181,3182,3183,3184,3185,3186,3187,3188,3189,3190,3191,3192,3193,3194,3195,3196,3197,3198,3199,3200,3201,3202,3203,3204,3205,3206,3207,3208,3209,3210,3211,3212,3213,3214,3215,3216,3217,3218,3219,3220,3221,3222,3223,3224,3225,3226,3227,3228,3229,3230,3231,3232,3233,3234,3235,3236,3237,3238],\"y\":[\"\",\"\",\"\",\"\",\"\",\"\",\"\",\"\",\"\",\"\",\"\",\"\",\"\",\"\",\"\",\"\",\"\",\"\",\"\",-0.03638345545569835,-0.036379704782604015,-0.03637545247238281,-0.03635815477199424,-0.036355060357086084,-0.03636578761799515,-0.03639050641619926,-0.036401771075153896,-0.03641709596577977,-0.036418582038713794,-0.036414498505364615,-0.03641652751936925,-0.036419032470921556,-0.03640941511810653,-0.03640262490516225,-0.036381738417434945,-0.03636681043815969,-0.03635201053055553,-0.036329461539120415,-0.036280404569043335,-0.03625712090856977,-0.03623878476223118,-0.03623765884060286,-0.03623045649858455,-0.03621287324213879,-0.03618651821467014,-0.03617093877879716,-0.03616345618262578,-0.03615670568521333,-0.036163479426700805,-0.036172129299333465,-0.03618179662564199,-0.03617820823549596,-0.036165267214952265,-0.03615868296155305,-0.03613612766286888,-0.03612039366666572,-0.03610670520159551,-0.036099378103198757,-0.03609990102230676,-0.0360986044730197],\"yaxis\":\"y2\",\"type\":\"scatter\"},{\"fill\":\"tonexty\",\"fillcolor\":\"rgba(128, 128, 128, 0.1)\",\"legendgroup\":\"BOLL(close,20)\",\"line\":{\"color\":\"rgba(128, 128, 128, 0.8999999999999999)\",\"dash\":\"solid\",\"shape\":\"linear\",\"width\":1.3},\"mode\":\"lines\",\"name\":\"LOWER(close,20)\",\"showlegend\":false,\"text\":\"\",\"x\":[3179,3180,3181,3182,3183,3184,3185,3186,3187,3188,3189,3190,3191,3192,3193,3194,3195,3196,3197,3198,3199,3200,3201,3202,3203,3204,3205,3206,3207,3208,3209,3210,3211,3212,3213,3214,3215,3216,3217,3218,3219,3220,3221,3222,3223,3224,3225,3226,3227,3228,3229,3230,3231,3232,3233,3234,3235,3236,3237,3238],\"y\":[\"\",\"\",\"\",\"\",\"\",\"\",\"\",\"\",\"\",\"\",\"\",\"\",\"\",\"\",\"\",\"\",\"\",\"\",\"\",-0.0372497628295058,-0.037181202725516914,-0.037119130150782755,-0.03708957586842631,-0.03704550325363538,-0.03698835907482269,-0.03693624619384804,-0.03691524508378821,-0.0368864331830798,-0.03688376193350893,-0.03689563162729509,-0.036884301227026635,-0.03686694406192405,-0.03685779361761642,-0.03685420228331141,-0.0368530054797801,-0.036859172153284284,-0.03686506073275828,-0.036867911788444375,-0.036887069302354046,-0.03689289036022909,-0.03689676435115104,-0.03689663008496297,-0.03689657134480113,-0.03689775715739793,-0.03690006360070385,-0.03687932262344023,-0.03683669775167426,-0.036796491250690344,-0.036731808878592655,-0.036664650285913404,-0.0366156771015223,-0.03657605905224931,-0.03655614517615145,-0.03652627399629086,-0.036518674800797186,-0.03650950508539076,-0.0364984398612105,-0.03648341362810227,-0.03648394086550792,-0.036487937817258675],\"yaxis\":\"y2\",\"type\":\"scatter\"},{\"close\":[-0.03724883856138729,-0.03717547762779041,-0.03699275039441414,-0.037021254642641964,-0.03703475665496041,-0.037001751735959765,-0.03691803925958541,-0.0369135385888126,-0.03685202942158412,-0.03672931113184538,-0.03678016871157819,-0.03679367072389663,-0.03673081135543632,-0.03666645176338507,-0.036684454446476326,-0.03652123011978225,-0.03651672944900943,-0.03662159507801602,-0.036585589711833504,-0.036543733473646325,-0.036525730790555065,-0.03651222877823662,-0.036524230566964126,-0.03654958434565098,-0.03657058747592412,-0.036727810908254444,-0.036820674748533525,-0.03677866848798725,-0.03684017765521572,-0.036807172736215074,-0.036687154848940015,-0.036645148588393746,-0.03654313338420995,-0.036562636290892146,-0.03646362153389022,-0.036433617062071454,-0.036427616167707705,-0.03642461572052583,-0.03628659515015951,-0.036369107447661114,-0.03638110923638862,-0.03649962690007274,-0.036451619745162714,-0.036385609907161436,-0.03633010163429672,-0.036364606776888304,-0.03631960006916015,-0.036309098504023585,-0.03626109134911357,-0.03622208553574917,-0.0362940962681142,-0.036213084194203535,-0.03621458441779448,-0.03619808195829416,-0.03616207659211164,-0.03618457994597571,-0.0361800792752029,-0.03620108240547603,-0.03629709671529608,-0.036396111472298],\"decreasing\":{\"line\":{\"color\":\"#808080\"}},\"high\":[-0.03732512591468666,-0.037283502125026034,-0.03713162750898831,-0.03708015723145097,-0.037112232911655406,-0.037113724803757936,-0.03704897668650806,-0.03704077127994414,-0.03699601451686819,-0.036862042606060845,-0.036809975571682495,-0.03691425882964946,-0.03686502639026591,-0.03680027827301604,-0.036735530155766166,-0.036647657710927053,-0.03662527932938908,-0.03665511717143971,-0.03670718420581807,-0.0366685442003625,-0.03664318203461946,-0.03662095284229174,-0.03663423068200427,-0.036667052308259965,-0.036647657710927053,-0.03670270852951047,-0.03685159936134313,-0.03688740477180389,-0.03689337234021401,-0.036944693428541106,-0.03680669340905693,-0.03670076906977718,-0.036687342040854394,-0.03666943933562402,-0.036611255543625286,-0.03655307175162655,-0.03653964472270377,-0.03652323390957592,-0.03642924470711643,-0.03639642308086073,-0.03646355822547465,-0.036566498780549336,-0.03658067175552339,-0.036522487963524655,-0.03643968795183415,-0.03641730957029617,-0.036436704167629085,-0.03629199063368352,-0.0363949311887582,-0.036368077130912634,-0.03638001226773288,-0.036344206857272125,-0.03630392577050377,-0.03631287712311896,-0.03626961225214554,-0.03630243387840124,-0.036274087928453144,-0.036320336583631624,-0.036372552807220224,-0.036432228491321494],\"increasing\":{\"line\":{\"color\":\"#17BECF\"}},\"low\":[-0.037242178751826095,-0.037139664571822356,-0.0370055959534964,-0.036892664279501115,-0.03693025784477495,-0.03688209580733578,-0.036836953333372426,-0.036829253446509114,-0.036773542500380424,-0.03669669460992106,-0.03665004235421981,-0.03671028264556221,-0.036674198862026275,-0.036607919443732255,-0.03655658686464349,-0.0364691705020188,-0.036396851956773155,-0.0364691705020188,-0.036506915045466416,-0.03643761606369659,-0.036425537809793344,-0.03638039533582999,-0.036414969337628014,-0.036436106281958675,-0.036424028028055444,-0.03661531737424799,-0.03669518482818316,-0.036674198862026275,-0.03668627711592952,-0.03672387068120335,-0.036618336937723796,-0.03650208374390512,-0.03648849570826398,-0.0364326337839615,-0.03641149683963083,-0.03635714469706626,-0.036326949062308156,-0.036308831681453296,-0.0362786360466952,-0.036225793685868535,-0.03624391106672339,-0.03636167404227997,-0.03634959578837673,-0.03635110557011464,-0.036198617614586245,-0.036219754558916906,-0.036227303467606435,-0.03620465674153786,-0.03617899045199348,-0.036147285035497474,-0.03619408826937253,-0.03612765787290471,-0.036082364420767565,-0.03608689376598128,-0.03605669813122318,-0.03602499271472718,-0.03605216878600946,-0.036092781914759106,-0.03622277412239272,-0.036254479538888724],\"name\":\"Trace 1\",\"open\":[-0.03732390805472356,-0.03727455483892942,-0.03715769722463266,-0.037030488935898824,-0.03700798746973129,-0.03697963562236019,-0.036973635231382175,-0.03698263581784919,-0.036928632299047096,-0.03683892645392583,-0.03670406766669504,-0.036835926258436825,-0.03675507099000813,-0.036711568155417554,-0.03666671523285692,-0.03661436182157377,-0.03649900430502152,-0.03655285781404916,-0.03664271366894488,-0.036587360062172725,-0.036526006064422564,-0.03650200450051052,-0.036493003914043504,-0.03655735810728267,-0.03656185840051618,-0.03656935888923869,-0.036741570110307605,-0.03679842381482426,-0.03680142401031326,-0.03683892645392583,-0.03677592234865672,-0.036660414822330005,-0.036646913942629485,-0.0365419071005143,-0.036567408762170836,-0.03644590084486612,-0.03641739898772057,-0.03641739898772057,-0.03642189928095407,-0.03627488970199281,-0.03633939390500643,-0.03641739898772057,-0.03646240192005565,-0.03645340133358863,-0.03633939390500643,-0.036301891461393856,-0.0363228928298169,-0.036234387062891234,-0.03628989067943784,-0.03624938804033626,-0.036234387062891234,-0.03628839058169333,-0.036189384130556154,-0.036207385303490186,-0.036205885205745685,-0.03618638393506715,-0.03617138295762212,-0.03620438510800118,-0.036231386867402224,-0.036316892438838885],\"showlegend\":true,\"x\":[3179,3180,3181,3182,3183,3184,3185,3186,3187,3188,3189,3190,3191,3192,3193,3194,3195,3196,3197,3198,3199,3200,3201,3202,3203,3204,3205,3206,3207,3208,3209,3210,3211,3212,3213,3214,3215,3216,3217,3218,3219,3220,3221,3222,3223,3224,3225,3226,3227,3228,3229,3230,3231,3232,3233,3234,3235,3236,3237,3238],\"yaxis\":\"y2\",\"type\":\"candlestick\"}],                        {\"legend\":{\"bgcolor\":\"#F5F6F9\",\"font\":{\"color\":\"#4D5663\"}},\"margin\":{\"b\":30,\"l\":30,\"r\":30,\"t\":30},\"paper_bgcolor\":\"#F5F6F9\",\"plot_bgcolor\":\"#F5F6F9\",\"showlegend\":true,\"template\":{\"data\":{\"barpolar\":[{\"marker\":{\"line\":{\"color\":\"#E5ECF6\",\"width\":0.5},\"pattern\":{\"fillmode\":\"overlay\",\"size\":10,\"solidity\":0.2}},\"type\":\"barpolar\"}],\"bar\":[{\"error_x\":{\"color\":\"#2a3f5f\"},\"error_y\":{\"color\":\"#2a3f5f\"},\"marker\":{\"line\":{\"color\":\"#E5ECF6\",\"width\":0.5},\"pattern\":{\"fillmode\":\"overlay\",\"size\":10,\"solidity\":0.2}},\"type\":\"bar\"}],\"carpet\":[{\"aaxis\":{\"endlinecolor\":\"#2a3f5f\",\"gridcolor\":\"white\",\"linecolor\":\"white\",\"minorgridcolor\":\"white\",\"startlinecolor\":\"#2a3f5f\"},\"baxis\":{\"endlinecolor\":\"#2a3f5f\",\"gridcolor\":\"white\",\"linecolor\":\"white\",\"minorgridcolor\":\"white\",\"startlinecolor\":\"#2a3f5f\"},\"type\":\"carpet\"}],\"choropleth\":[{\"colorbar\":{\"outlinewidth\":0,\"ticks\":\"\"},\"type\":\"choropleth\"}],\"contourcarpet\":[{\"colorbar\":{\"outlinewidth\":0,\"ticks\":\"\"},\"type\":\"contourcarpet\"}],\"contour\":[{\"colorbar\":{\"outlinewidth\":0,\"ticks\":\"\"},\"colorscale\":[[0.0,\"#0d0887\"],[0.1111111111111111,\"#46039f\"],[0.2222222222222222,\"#7201a8\"],[0.3333333333333333,\"#9c179e\"],[0.4444444444444444,\"#bd3786\"],[0.5555555555555556,\"#d8576b\"],[0.6666666666666666,\"#ed7953\"],[0.7777777777777778,\"#fb9f3a\"],[0.8888888888888888,\"#fdca26\"],[1.0,\"#f0f921\"]],\"type\":\"contour\"}],\"heatmapgl\":[{\"colorbar\":{\"outlinewidth\":0,\"ticks\":\"\"},\"colorscale\":[[0.0,\"#0d0887\"],[0.1111111111111111,\"#46039f\"],[0.2222222222222222,\"#7201a8\"],[0.3333333333333333,\"#9c179e\"],[0.4444444444444444,\"#bd3786\"],[0.5555555555555556,\"#d8576b\"],[0.6666666666666666,\"#ed7953\"],[0.7777777777777778,\"#fb9f3a\"],[0.8888888888888888,\"#fdca26\"],[1.0,\"#f0f921\"]],\"type\":\"heatmapgl\"}],\"heatmap\":[{\"colorbar\":{\"outlinewidth\":0,\"ticks\":\"\"},\"colorscale\":[[0.0,\"#0d0887\"],[0.1111111111111111,\"#46039f\"],[0.2222222222222222,\"#7201a8\"],[0.3333333333333333,\"#9c179e\"],[0.4444444444444444,\"#bd3786\"],[0.5555555555555556,\"#d8576b\"],[0.6666666666666666,\"#ed7953\"],[0.7777777777777778,\"#fb9f3a\"],[0.8888888888888888,\"#fdca26\"],[1.0,\"#f0f921\"]],\"type\":\"heatmap\"}],\"histogram2dcontour\":[{\"colorbar\":{\"outlinewidth\":0,\"ticks\":\"\"},\"colorscale\":[[0.0,\"#0d0887\"],[0.1111111111111111,\"#46039f\"],[0.2222222222222222,\"#7201a8\"],[0.3333333333333333,\"#9c179e\"],[0.4444444444444444,\"#bd3786\"],[0.5555555555555556,\"#d8576b\"],[0.6666666666666666,\"#ed7953\"],[0.7777777777777778,\"#fb9f3a\"],[0.8888888888888888,\"#fdca26\"],[1.0,\"#f0f921\"]],\"type\":\"histogram2dcontour\"}],\"histogram2d\":[{\"colorbar\":{\"outlinewidth\":0,\"ticks\":\"\"},\"colorscale\":[[0.0,\"#0d0887\"],[0.1111111111111111,\"#46039f\"],[0.2222222222222222,\"#7201a8\"],[0.3333333333333333,\"#9c179e\"],[0.4444444444444444,\"#bd3786\"],[0.5555555555555556,\"#d8576b\"],[0.6666666666666666,\"#ed7953\"],[0.7777777777777778,\"#fb9f3a\"],[0.8888888888888888,\"#fdca26\"],[1.0,\"#f0f921\"]],\"type\":\"histogram2d\"}],\"histogram\":[{\"marker\":{\"pattern\":{\"fillmode\":\"overlay\",\"size\":10,\"solidity\":0.2}},\"type\":\"histogram\"}],\"mesh3d\":[{\"colorbar\":{\"outlinewidth\":0,\"ticks\":\"\"},\"type\":\"mesh3d\"}],\"parcoords\":[{\"line\":{\"colorbar\":{\"outlinewidth\":0,\"ticks\":\"\"}},\"type\":\"parcoords\"}],\"pie\":[{\"automargin\":true,\"type\":\"pie\"}],\"scatter3d\":[{\"line\":{\"colorbar\":{\"outlinewidth\":0,\"ticks\":\"\"}},\"marker\":{\"colorbar\":{\"outlinewidth\":0,\"ticks\":\"\"}},\"type\":\"scatter3d\"}],\"scattercarpet\":[{\"marker\":{\"colorbar\":{\"outlinewidth\":0,\"ticks\":\"\"}},\"type\":\"scattercarpet\"}],\"scattergeo\":[{\"marker\":{\"colorbar\":{\"outlinewidth\":0,\"ticks\":\"\"}},\"type\":\"scattergeo\"}],\"scattergl\":[{\"marker\":{\"colorbar\":{\"outlinewidth\":0,\"ticks\":\"\"}},\"type\":\"scattergl\"}],\"scattermapbox\":[{\"marker\":{\"colorbar\":{\"outlinewidth\":0,\"ticks\":\"\"}},\"type\":\"scattermapbox\"}],\"scatterpolargl\":[{\"marker\":{\"colorbar\":{\"outlinewidth\":0,\"ticks\":\"\"}},\"type\":\"scatterpolargl\"}],\"scatterpolar\":[{\"marker\":{\"colorbar\":{\"outlinewidth\":0,\"ticks\":\"\"}},\"type\":\"scatterpolar\"}],\"scatter\":[{\"marker\":{\"colorbar\":{\"outlinewidth\":0,\"ticks\":\"\"}},\"type\":\"scatter\"}],\"scatterternary\":[{\"marker\":{\"colorbar\":{\"outlinewidth\":0,\"ticks\":\"\"}},\"type\":\"scatterternary\"}],\"surface\":[{\"colorbar\":{\"outlinewidth\":0,\"ticks\":\"\"},\"colorscale\":[[0.0,\"#0d0887\"],[0.1111111111111111,\"#46039f\"],[0.2222222222222222,\"#7201a8\"],[0.3333333333333333,\"#9c179e\"],[0.4444444444444444,\"#bd3786\"],[0.5555555555555556,\"#d8576b\"],[0.6666666666666666,\"#ed7953\"],[0.7777777777777778,\"#fb9f3a\"],[0.8888888888888888,\"#fdca26\"],[1.0,\"#f0f921\"]],\"type\":\"surface\"}],\"table\":[{\"cells\":{\"fill\":{\"color\":\"#EBF0F8\"},\"line\":{\"color\":\"white\"}},\"header\":{\"fill\":{\"color\":\"#C8D4E3\"},\"line\":{\"color\":\"white\"}},\"type\":\"table\"}]},\"layout\":{\"annotationdefaults\":{\"arrowcolor\":\"#2a3f5f\",\"arrowhead\":0,\"arrowwidth\":1},\"autotypenumbers\":\"strict\",\"coloraxis\":{\"colorbar\":{\"outlinewidth\":0,\"ticks\":\"\"}},\"colorscale\":{\"diverging\":[[0,\"#8e0152\"],[0.1,\"#c51b7d\"],[0.2,\"#de77ae\"],[0.3,\"#f1b6da\"],[0.4,\"#fde0ef\"],[0.5,\"#f7f7f7\"],[0.6,\"#e6f5d0\"],[0.7,\"#b8e186\"],[0.8,\"#7fbc41\"],[0.9,\"#4d9221\"],[1,\"#276419\"]],\"sequential\":[[0.0,\"#0d0887\"],[0.1111111111111111,\"#46039f\"],[0.2222222222222222,\"#7201a8\"],[0.3333333333333333,\"#9c179e\"],[0.4444444444444444,\"#bd3786\"],[0.5555555555555556,\"#d8576b\"],[0.6666666666666666,\"#ed7953\"],[0.7777777777777778,\"#fb9f3a\"],[0.8888888888888888,\"#fdca26\"],[1.0,\"#f0f921\"]],\"sequentialminus\":[[0.0,\"#0d0887\"],[0.1111111111111111,\"#46039f\"],[0.2222222222222222,\"#7201a8\"],[0.3333333333333333,\"#9c179e\"],[0.4444444444444444,\"#bd3786\"],[0.5555555555555556,\"#d8576b\"],[0.6666666666666666,\"#ed7953\"],[0.7777777777777778,\"#fb9f3a\"],[0.8888888888888888,\"#fdca26\"],[1.0,\"#f0f921\"]]},\"colorway\":[\"#636efa\",\"#EF553B\",\"#00cc96\",\"#ab63fa\",\"#FFA15A\",\"#19d3f3\",\"#FF6692\",\"#B6E880\",\"#FF97FF\",\"#FECB52\"],\"font\":{\"color\":\"#2a3f5f\"},\"geo\":{\"bgcolor\":\"white\",\"lakecolor\":\"white\",\"landcolor\":\"#E5ECF6\",\"showlakes\":true,\"showland\":true,\"subunitcolor\":\"white\"},\"hoverlabel\":{\"align\":\"left\"},\"hovermode\":\"closest\",\"mapbox\":{\"style\":\"light\"},\"paper_bgcolor\":\"white\",\"plot_bgcolor\":\"#E5ECF6\",\"polar\":{\"angularaxis\":{\"gridcolor\":\"white\",\"linecolor\":\"white\",\"ticks\":\"\"},\"bgcolor\":\"#E5ECF6\",\"radialaxis\":{\"gridcolor\":\"white\",\"linecolor\":\"white\",\"ticks\":\"\"}},\"scene\":{\"xaxis\":{\"backgroundcolor\":\"#E5ECF6\",\"gridcolor\":\"white\",\"gridwidth\":2,\"linecolor\":\"white\",\"showbackground\":true,\"ticks\":\"\",\"zerolinecolor\":\"white\"},\"yaxis\":{\"backgroundcolor\":\"#E5ECF6\",\"gridcolor\":\"white\",\"gridwidth\":2,\"linecolor\":\"white\",\"showbackground\":true,\"ticks\":\"\",\"zerolinecolor\":\"white\"},\"zaxis\":{\"backgroundcolor\":\"#E5ECF6\",\"gridcolor\":\"white\",\"gridwidth\":2,\"linecolor\":\"white\",\"showbackground\":true,\"ticks\":\"\",\"zerolinecolor\":\"white\"}},\"shapedefaults\":{\"line\":{\"color\":\"#2a3f5f\"}},\"ternary\":{\"aaxis\":{\"gridcolor\":\"white\",\"linecolor\":\"white\",\"ticks\":\"\"},\"baxis\":{\"gridcolor\":\"white\",\"linecolor\":\"white\",\"ticks\":\"\"},\"bgcolor\":\"#E5ECF6\",\"caxis\":{\"gridcolor\":\"white\",\"linecolor\":\"white\",\"ticks\":\"\"}},\"title\":{\"x\":0.05},\"xaxis\":{\"automargin\":true,\"gridcolor\":\"white\",\"linecolor\":\"white\",\"ticks\":\"\",\"title\":{\"standoff\":15},\"zerolinecolor\":\"white\",\"zerolinewidth\":2},\"yaxis\":{\"automargin\":true,\"gridcolor\":\"white\",\"linecolor\":\"white\",\"ticks\":\"\",\"title\":{\"standoff\":15},\"zerolinecolor\":\"white\",\"zerolinewidth\":2}}},\"title\":{\"font\":{\"color\":\"#4D5663\"}},\"xaxis\":{\"anchor\":\"y2\",\"gridcolor\":\"#E1E5ED\",\"rangeselector\":{\"bgcolor\":\"rgba(150, 200, 250, 1)\",\"buttons\":[{\"count\":1,\"label\":\"1m\",\"step\":\"month\",\"stepmode\":\"backward\"},{\"count\":1,\"label\":\"1y\",\"step\":\"year\",\"stepmode\":\"backward\"}],\"font\":{\"size\":13},\"visible\":false,\"x\":0,\"y\":0.9},\"rangeslider\":{\"visible\":false},\"showgrid\":true,\"tickfont\":{\"color\":\"#4D5663\"},\"title\":{\"font\":{\"color\":\"#4D5663\"},\"text\":\"\"},\"zerolinecolor\":\"#E1E5ED\"},\"yaxis\":{\"gridcolor\":\"#E1E5ED\",\"showgrid\":true,\"showticklabels\":false,\"tickfont\":{\"color\":\"#4D5663\"},\"title\":{\"font\":{\"color\":\"#4D5663\"},\"text\":\"\"},\"zerolinecolor\":\"#E1E5ED\"},\"yaxis2\":{\"domain\":[0.0,0.9],\"gridcolor\":\"#E1E5ED\",\"showgrid\":true,\"tickfont\":{\"color\":\"#4D5663\"},\"title\":{\"font\":{\"color\":\"#4D5663\"},\"text\":\"\"},\"zerolinecolor\":\"#E1E5ED\"}},                        {\"responsive\": true}                    ).then(function(){\n",
       "                            \n",
       "var gd = document.getElementById('877e2d61-e262-4b98-a885-3c52c194cedb');\n",
       "var x = new MutationObserver(function (mutations, observer) {{\n",
       "        var display = window.getComputedStyle(gd).display;\n",
       "        if (!display || display === 'none') {{\n",
       "            console.log([gd, 'removed!']);\n",
       "            Plotly.purge(gd);\n",
       "            observer.disconnect();\n",
       "        }}\n",
       "}});\n",
       "\n",
       "// Listen for the removal of the full notebook cells\n",
       "var notebookContainer = gd.closest('#notebook-container');\n",
       "if (notebookContainer) {{\n",
       "    x.observe(notebookContainer, {childList: true});\n",
       "}}\n",
       "\n",
       "// Listen for the clearing of the current output cell\n",
       "var outputEl = gd.closest('.output');\n",
       "if (outputEl) {{\n",
       "    x.observe(outputEl, {childList: true});\n",
       "}}\n",
       "\n",
       "                        }).then(function(){\n",
       "                            function downloadimage(format, height, width, filename) {var p = document.getElementById('877e2d61-e262-4b98-a885-3c52c194cedb');Plotly.downloadImage(p, {format: format, height: height, width: width, filename: filename});};if(document.readyState == 'complete') {downloadimage('png', 600, 800, 'qf_04');}\n",
       "                        })                };                });            </script>        </div>"
      ]
     },
     "metadata": {},
     "output_type": "display_data"
    }
   ],
   "source": [
    "qf=cf.QuantFig(tickers.get_group('a')[-60:])\n",
    "\n",
    "\n",
    "qf.add_bollinger_bands(periods=20,boll_std=2,colors=['magenta','grey'],fill=True)\n",
    "plyo.iplot(qf.iplot(asFigure=True),image='png',\n",
    "          filename='qf_04')"
   ]
  },
  {
   "cell_type": "code",
   "execution_count": 20,
   "metadata": {},
   "outputs": [
    {
     "data": {
      "application/vnd.plotly.v1+json": {
       "config": {
        "linkText": "Export to plot.ly",
        "plotlyServerURL": "https://plot.ly",
        "showLink": false
       },
       "data": [
        {
         "legendgroup": " CCI(14)",
         "line": {
          "color": "rgba(55, 128, 191, 1.0)",
          "dash": "solid",
          "shape": "linear",
          "width": 1.3
         },
         "mode": "lines",
         "name": " CCI(14)",
         "showlegend": true,
         "text": "",
         "type": "scatter",
         "x": [
          3179,
          3180,
          3181,
          3182,
          3183,
          3184,
          3185,
          3186,
          3187,
          3188,
          3189,
          3190,
          3191,
          3192,
          3193,
          3194,
          3195,
          3196,
          3197,
          3198,
          3199,
          3200,
          3201,
          3202,
          3203,
          3204,
          3205,
          3206,
          3207,
          3208,
          3209,
          3210,
          3211,
          3212,
          3213,
          3214,
          3215,
          3216,
          3217,
          3218,
          3219,
          3220,
          3221,
          3222,
          3223,
          3224,
          3225,
          3226,
          3227,
          3228,
          3229,
          3230,
          3231,
          3232,
          3233,
          3234,
          3235,
          3236,
          3237,
          3238
         ],
         "y": [
          "",
          "",
          "",
          "",
          "",
          "",
          "",
          "",
          "",
          "",
          "",
          "",
          "",
          117.32461992800243,
          116.48185964464827,
          150.01123572379865,
          143.19793864325325,
          96.15126363589523,
          77.04618580306962,
          89.97333773196941,
          88.61133373366889,
          93.44213207534621,
          72.02532195227846,
          47.025526094903256,
          44.256885827429,
          -97.68076507288868,
          -198.03498578356295,
          -162.8438292398094,
          -148.03993654308542,
          -123.80112293179579,
          -39.626544011849,
          17.831441780805964,
          43.58898641973274,
          55.433336951423065,
          89.68996084624001,
          113.09012466250539,
          113.22006048076173,
          107.51182345199278,
          130.43632008474918,
          110.6687699383758,
          84.85514534522125,
          25.78321055917417,
          25.310849462739824,
          42.82425301728869,
          114.1057024680971,
          93.19583772844304,
          85.23324928995555,
          127.4978391767891,
          103.96257221530668,
          123.54034264447117,
          67.93303154742448,
          128.73658293012738,
          132.2089727993697,
          108.93821029427856,
          120.5332188560901,
          105.64631583049855,
          96.65914201008614,
          48.763264159869365,
          -74.39553036337698,
          -149.94411581983096
         ],
         "yaxis": "y3"
        },
        {
         "legendgroup": " CCI(14)",
         "line": {
          "color": "grey",
          "width": 1
         },
         "mode": "lines",
         "name": "",
         "showlegend": true,
         "text": "",
         "type": "scatter",
         "x": [
          3179,
          3180,
          3181,
          3182,
          3183,
          3184,
          3185,
          3186,
          3187,
          3188,
          3189,
          3190,
          3191,
          3192,
          3193,
          3194,
          3195,
          3196,
          3197,
          3198,
          3199,
          3200,
          3201,
          3202,
          3203,
          3204,
          3205,
          3206,
          3207,
          3208,
          3209,
          3210,
          3211,
          3212,
          3213,
          3214,
          3215,
          3216,
          3217,
          3218,
          3219,
          3220,
          3221,
          3222,
          3223,
          3224,
          3225,
          3226,
          3227,
          3228,
          3229,
          3230,
          3231,
          3232,
          3233,
          3234,
          3235,
          3236,
          3237,
          3238
         ],
         "y": [
          -100,
          -100,
          -100,
          -100,
          -100,
          -100,
          -100,
          -100,
          -100,
          -100,
          -100,
          -100,
          -100,
          -100,
          -100,
          -100,
          -100,
          -100,
          -100,
          -100,
          -100,
          -100,
          -100,
          -100,
          -100,
          -100,
          -100,
          -100,
          -100,
          -100,
          -100,
          -100,
          -100,
          -100,
          -100,
          -100,
          -100,
          -100,
          -100,
          -100,
          -100,
          -100,
          -100,
          -100,
          -100,
          -100,
          -100,
          -100,
          -100,
          -100,
          -100,
          -100,
          -100,
          -100,
          -100,
          -100,
          -100,
          -100,
          -100,
          -100
         ],
         "yaxis": "y3"
        },
        {
         "legendgroup": " CCI(14)",
         "line": {
          "color": "#17BECF",
          "width": 1
         },
         "mode": "lines",
         "name": "",
         "showlegend": true,
         "text": "",
         "type": "scatter",
         "x": [
          3179,
          3180,
          3181,
          3182,
          3183,
          3184,
          3185,
          3186,
          3187,
          3188,
          3189,
          3190,
          3191,
          3192,
          3193,
          3194,
          3195,
          3196,
          3197,
          3198,
          3199,
          3200,
          3201,
          3202,
          3203,
          3204,
          3205,
          3206,
          3207,
          3208,
          3209,
          3210,
          3211,
          3212,
          3213,
          3214,
          3215,
          3216,
          3217,
          3218,
          3219,
          3220,
          3221,
          3222,
          3223,
          3224,
          3225,
          3226,
          3227,
          3228,
          3229,
          3230,
          3231,
          3232,
          3233,
          3234,
          3235,
          3236,
          3237,
          3238
         ],
         "y": [
          100,
          100,
          100,
          100,
          100,
          100,
          100,
          100,
          100,
          100,
          100,
          100,
          100,
          100,
          100,
          100,
          100,
          100,
          100,
          100,
          100,
          100,
          100,
          100,
          100,
          100,
          100,
          100,
          100,
          100,
          100,
          100,
          100,
          100,
          100,
          100,
          100,
          100,
          100,
          100,
          100,
          100,
          100,
          100,
          100,
          100,
          100,
          100,
          100,
          100,
          100,
          100,
          100,
          100,
          100,
          100,
          100,
          100,
          100,
          100
         ],
         "yaxis": "y3"
        },
        {
         "close": [
          -0.03724883856138729,
          -0.03717547762779041,
          -0.03699275039441414,
          -0.037021254642641964,
          -0.03703475665496041,
          -0.037001751735959765,
          -0.03691803925958541,
          -0.0369135385888126,
          -0.03685202942158412,
          -0.03672931113184538,
          -0.03678016871157819,
          -0.03679367072389663,
          -0.03673081135543632,
          -0.03666645176338507,
          -0.036684454446476326,
          -0.03652123011978225,
          -0.03651672944900943,
          -0.03662159507801602,
          -0.036585589711833504,
          -0.036543733473646325,
          -0.036525730790555065,
          -0.03651222877823662,
          -0.036524230566964126,
          -0.03654958434565098,
          -0.03657058747592412,
          -0.036727810908254444,
          -0.036820674748533525,
          -0.03677866848798725,
          -0.03684017765521572,
          -0.036807172736215074,
          -0.036687154848940015,
          -0.036645148588393746,
          -0.03654313338420995,
          -0.036562636290892146,
          -0.03646362153389022,
          -0.036433617062071454,
          -0.036427616167707705,
          -0.03642461572052583,
          -0.03628659515015951,
          -0.036369107447661114,
          -0.03638110923638862,
          -0.03649962690007274,
          -0.036451619745162714,
          -0.036385609907161436,
          -0.03633010163429672,
          -0.036364606776888304,
          -0.03631960006916015,
          -0.036309098504023585,
          -0.03626109134911357,
          -0.03622208553574917,
          -0.0362940962681142,
          -0.036213084194203535,
          -0.03621458441779448,
          -0.03619808195829416,
          -0.03616207659211164,
          -0.03618457994597571,
          -0.0361800792752029,
          -0.03620108240547603,
          -0.03629709671529608,
          -0.036396111472298
         ],
         "decreasing": {
          "line": {
           "color": "#808080"
          }
         },
         "high": [
          -0.03732512591468666,
          -0.037283502125026034,
          -0.03713162750898831,
          -0.03708015723145097,
          -0.037112232911655406,
          -0.037113724803757936,
          -0.03704897668650806,
          -0.03704077127994414,
          -0.03699601451686819,
          -0.036862042606060845,
          -0.036809975571682495,
          -0.03691425882964946,
          -0.03686502639026591,
          -0.03680027827301604,
          -0.036735530155766166,
          -0.036647657710927053,
          -0.03662527932938908,
          -0.03665511717143971,
          -0.03670718420581807,
          -0.0366685442003625,
          -0.03664318203461946,
          -0.03662095284229174,
          -0.03663423068200427,
          -0.036667052308259965,
          -0.036647657710927053,
          -0.03670270852951047,
          -0.03685159936134313,
          -0.03688740477180389,
          -0.03689337234021401,
          -0.036944693428541106,
          -0.03680669340905693,
          -0.03670076906977718,
          -0.036687342040854394,
          -0.03666943933562402,
          -0.036611255543625286,
          -0.03655307175162655,
          -0.03653964472270377,
          -0.03652323390957592,
          -0.03642924470711643,
          -0.03639642308086073,
          -0.03646355822547465,
          -0.036566498780549336,
          -0.03658067175552339,
          -0.036522487963524655,
          -0.03643968795183415,
          -0.03641730957029617,
          -0.036436704167629085,
          -0.03629199063368352,
          -0.0363949311887582,
          -0.036368077130912634,
          -0.03638001226773288,
          -0.036344206857272125,
          -0.03630392577050377,
          -0.03631287712311896,
          -0.03626961225214554,
          -0.03630243387840124,
          -0.036274087928453144,
          -0.036320336583631624,
          -0.036372552807220224,
          -0.036432228491321494
         ],
         "increasing": {
          "line": {
           "color": "#17BECF"
          }
         },
         "low": [
          -0.037242178751826095,
          -0.037139664571822356,
          -0.0370055959534964,
          -0.036892664279501115,
          -0.03693025784477495,
          -0.03688209580733578,
          -0.036836953333372426,
          -0.036829253446509114,
          -0.036773542500380424,
          -0.03669669460992106,
          -0.03665004235421981,
          -0.03671028264556221,
          -0.036674198862026275,
          -0.036607919443732255,
          -0.03655658686464349,
          -0.0364691705020188,
          -0.036396851956773155,
          -0.0364691705020188,
          -0.036506915045466416,
          -0.03643761606369659,
          -0.036425537809793344,
          -0.03638039533582999,
          -0.036414969337628014,
          -0.036436106281958675,
          -0.036424028028055444,
          -0.03661531737424799,
          -0.03669518482818316,
          -0.036674198862026275,
          -0.03668627711592952,
          -0.03672387068120335,
          -0.036618336937723796,
          -0.03650208374390512,
          -0.03648849570826398,
          -0.0364326337839615,
          -0.03641149683963083,
          -0.03635714469706626,
          -0.036326949062308156,
          -0.036308831681453296,
          -0.0362786360466952,
          -0.036225793685868535,
          -0.03624391106672339,
          -0.03636167404227997,
          -0.03634959578837673,
          -0.03635110557011464,
          -0.036198617614586245,
          -0.036219754558916906,
          -0.036227303467606435,
          -0.03620465674153786,
          -0.03617899045199348,
          -0.036147285035497474,
          -0.03619408826937253,
          -0.03612765787290471,
          -0.036082364420767565,
          -0.03608689376598128,
          -0.03605669813122318,
          -0.03602499271472718,
          -0.03605216878600946,
          -0.036092781914759106,
          -0.03622277412239272,
          -0.036254479538888724
         ],
         "name": "Trace 1",
         "open": [
          -0.03732390805472356,
          -0.03727455483892942,
          -0.03715769722463266,
          -0.037030488935898824,
          -0.03700798746973129,
          -0.03697963562236019,
          -0.036973635231382175,
          -0.03698263581784919,
          -0.036928632299047096,
          -0.03683892645392583,
          -0.03670406766669504,
          -0.036835926258436825,
          -0.03675507099000813,
          -0.036711568155417554,
          -0.03666671523285692,
          -0.03661436182157377,
          -0.03649900430502152,
          -0.03655285781404916,
          -0.03664271366894488,
          -0.036587360062172725,
          -0.036526006064422564,
          -0.03650200450051052,
          -0.036493003914043504,
          -0.03655735810728267,
          -0.03656185840051618,
          -0.03656935888923869,
          -0.036741570110307605,
          -0.03679842381482426,
          -0.03680142401031326,
          -0.03683892645392583,
          -0.03677592234865672,
          -0.036660414822330005,
          -0.036646913942629485,
          -0.0365419071005143,
          -0.036567408762170836,
          -0.03644590084486612,
          -0.03641739898772057,
          -0.03641739898772057,
          -0.03642189928095407,
          -0.03627488970199281,
          -0.03633939390500643,
          -0.03641739898772057,
          -0.03646240192005565,
          -0.03645340133358863,
          -0.03633939390500643,
          -0.036301891461393856,
          -0.0363228928298169,
          -0.036234387062891234,
          -0.03628989067943784,
          -0.03624938804033626,
          -0.036234387062891234,
          -0.03628839058169333,
          -0.036189384130556154,
          -0.036207385303490186,
          -0.036205885205745685,
          -0.03618638393506715,
          -0.03617138295762212,
          -0.03620438510800118,
          -0.036231386867402224,
          -0.036316892438838885
         ],
         "showlegend": true,
         "type": "candlestick",
         "x": [
          3179,
          3180,
          3181,
          3182,
          3183,
          3184,
          3185,
          3186,
          3187,
          3188,
          3189,
          3190,
          3191,
          3192,
          3193,
          3194,
          3195,
          3196,
          3197,
          3198,
          3199,
          3200,
          3201,
          3202,
          3203,
          3204,
          3205,
          3206,
          3207,
          3208,
          3209,
          3210,
          3211,
          3212,
          3213,
          3214,
          3215,
          3216,
          3217,
          3218,
          3219,
          3220,
          3221,
          3222,
          3223,
          3224,
          3225,
          3226,
          3227,
          3228,
          3229,
          3230,
          3231,
          3232,
          3233,
          3234,
          3235,
          3236,
          3237,
          3238
         ],
         "yaxis": "y2"
        }
       ],
       "layout": {
        "legend": {
         "bgcolor": "#F5F6F9",
         "font": {
          "color": "#4D5663"
         }
        },
        "margin": {
         "b": 30,
         "l": 30,
         "r": 30,
         "t": 30
        },
        "paper_bgcolor": "#F5F6F9",
        "plot_bgcolor": "#F5F6F9",
        "showlegend": true,
        "template": {
         "data": {
          "bar": [
           {
            "error_x": {
             "color": "#2a3f5f"
            },
            "error_y": {
             "color": "#2a3f5f"
            },
            "marker": {
             "line": {
              "color": "#E5ECF6",
              "width": 0.5
             },
             "pattern": {
              "fillmode": "overlay",
              "size": 10,
              "solidity": 0.2
             }
            },
            "type": "bar"
           }
          ],
          "barpolar": [
           {
            "marker": {
             "line": {
              "color": "#E5ECF6",
              "width": 0.5
             },
             "pattern": {
              "fillmode": "overlay",
              "size": 10,
              "solidity": 0.2
             }
            },
            "type": "barpolar"
           }
          ],
          "carpet": [
           {
            "aaxis": {
             "endlinecolor": "#2a3f5f",
             "gridcolor": "white",
             "linecolor": "white",
             "minorgridcolor": "white",
             "startlinecolor": "#2a3f5f"
            },
            "baxis": {
             "endlinecolor": "#2a3f5f",
             "gridcolor": "white",
             "linecolor": "white",
             "minorgridcolor": "white",
             "startlinecolor": "#2a3f5f"
            },
            "type": "carpet"
           }
          ],
          "choropleth": [
           {
            "colorbar": {
             "outlinewidth": 0,
             "ticks": ""
            },
            "type": "choropleth"
           }
          ],
          "contour": [
           {
            "colorbar": {
             "outlinewidth": 0,
             "ticks": ""
            },
            "colorscale": [
             [
              0,
              "#0d0887"
             ],
             [
              0.1111111111111111,
              "#46039f"
             ],
             [
              0.2222222222222222,
              "#7201a8"
             ],
             [
              0.3333333333333333,
              "#9c179e"
             ],
             [
              0.4444444444444444,
              "#bd3786"
             ],
             [
              0.5555555555555556,
              "#d8576b"
             ],
             [
              0.6666666666666666,
              "#ed7953"
             ],
             [
              0.7777777777777778,
              "#fb9f3a"
             ],
             [
              0.8888888888888888,
              "#fdca26"
             ],
             [
              1,
              "#f0f921"
             ]
            ],
            "type": "contour"
           }
          ],
          "contourcarpet": [
           {
            "colorbar": {
             "outlinewidth": 0,
             "ticks": ""
            },
            "type": "contourcarpet"
           }
          ],
          "heatmap": [
           {
            "colorbar": {
             "outlinewidth": 0,
             "ticks": ""
            },
            "colorscale": [
             [
              0,
              "#0d0887"
             ],
             [
              0.1111111111111111,
              "#46039f"
             ],
             [
              0.2222222222222222,
              "#7201a8"
             ],
             [
              0.3333333333333333,
              "#9c179e"
             ],
             [
              0.4444444444444444,
              "#bd3786"
             ],
             [
              0.5555555555555556,
              "#d8576b"
             ],
             [
              0.6666666666666666,
              "#ed7953"
             ],
             [
              0.7777777777777778,
              "#fb9f3a"
             ],
             [
              0.8888888888888888,
              "#fdca26"
             ],
             [
              1,
              "#f0f921"
             ]
            ],
            "type": "heatmap"
           }
          ],
          "heatmapgl": [
           {
            "colorbar": {
             "outlinewidth": 0,
             "ticks": ""
            },
            "colorscale": [
             [
              0,
              "#0d0887"
             ],
             [
              0.1111111111111111,
              "#46039f"
             ],
             [
              0.2222222222222222,
              "#7201a8"
             ],
             [
              0.3333333333333333,
              "#9c179e"
             ],
             [
              0.4444444444444444,
              "#bd3786"
             ],
             [
              0.5555555555555556,
              "#d8576b"
             ],
             [
              0.6666666666666666,
              "#ed7953"
             ],
             [
              0.7777777777777778,
              "#fb9f3a"
             ],
             [
              0.8888888888888888,
              "#fdca26"
             ],
             [
              1,
              "#f0f921"
             ]
            ],
            "type": "heatmapgl"
           }
          ],
          "histogram": [
           {
            "marker": {
             "pattern": {
              "fillmode": "overlay",
              "size": 10,
              "solidity": 0.2
             }
            },
            "type": "histogram"
           }
          ],
          "histogram2d": [
           {
            "colorbar": {
             "outlinewidth": 0,
             "ticks": ""
            },
            "colorscale": [
             [
              0,
              "#0d0887"
             ],
             [
              0.1111111111111111,
              "#46039f"
             ],
             [
              0.2222222222222222,
              "#7201a8"
             ],
             [
              0.3333333333333333,
              "#9c179e"
             ],
             [
              0.4444444444444444,
              "#bd3786"
             ],
             [
              0.5555555555555556,
              "#d8576b"
             ],
             [
              0.6666666666666666,
              "#ed7953"
             ],
             [
              0.7777777777777778,
              "#fb9f3a"
             ],
             [
              0.8888888888888888,
              "#fdca26"
             ],
             [
              1,
              "#f0f921"
             ]
            ],
            "type": "histogram2d"
           }
          ],
          "histogram2dcontour": [
           {
            "colorbar": {
             "outlinewidth": 0,
             "ticks": ""
            },
            "colorscale": [
             [
              0,
              "#0d0887"
             ],
             [
              0.1111111111111111,
              "#46039f"
             ],
             [
              0.2222222222222222,
              "#7201a8"
             ],
             [
              0.3333333333333333,
              "#9c179e"
             ],
             [
              0.4444444444444444,
              "#bd3786"
             ],
             [
              0.5555555555555556,
              "#d8576b"
             ],
             [
              0.6666666666666666,
              "#ed7953"
             ],
             [
              0.7777777777777778,
              "#fb9f3a"
             ],
             [
              0.8888888888888888,
              "#fdca26"
             ],
             [
              1,
              "#f0f921"
             ]
            ],
            "type": "histogram2dcontour"
           }
          ],
          "mesh3d": [
           {
            "colorbar": {
             "outlinewidth": 0,
             "ticks": ""
            },
            "type": "mesh3d"
           }
          ],
          "parcoords": [
           {
            "line": {
             "colorbar": {
              "outlinewidth": 0,
              "ticks": ""
             }
            },
            "type": "parcoords"
           }
          ],
          "pie": [
           {
            "automargin": true,
            "type": "pie"
           }
          ],
          "scatter": [
           {
            "marker": {
             "colorbar": {
              "outlinewidth": 0,
              "ticks": ""
             }
            },
            "type": "scatter"
           }
          ],
          "scatter3d": [
           {
            "line": {
             "colorbar": {
              "outlinewidth": 0,
              "ticks": ""
             }
            },
            "marker": {
             "colorbar": {
              "outlinewidth": 0,
              "ticks": ""
             }
            },
            "type": "scatter3d"
           }
          ],
          "scattercarpet": [
           {
            "marker": {
             "colorbar": {
              "outlinewidth": 0,
              "ticks": ""
             }
            },
            "type": "scattercarpet"
           }
          ],
          "scattergeo": [
           {
            "marker": {
             "colorbar": {
              "outlinewidth": 0,
              "ticks": ""
             }
            },
            "type": "scattergeo"
           }
          ],
          "scattergl": [
           {
            "marker": {
             "colorbar": {
              "outlinewidth": 0,
              "ticks": ""
             }
            },
            "type": "scattergl"
           }
          ],
          "scattermapbox": [
           {
            "marker": {
             "colorbar": {
              "outlinewidth": 0,
              "ticks": ""
             }
            },
            "type": "scattermapbox"
           }
          ],
          "scatterpolar": [
           {
            "marker": {
             "colorbar": {
              "outlinewidth": 0,
              "ticks": ""
             }
            },
            "type": "scatterpolar"
           }
          ],
          "scatterpolargl": [
           {
            "marker": {
             "colorbar": {
              "outlinewidth": 0,
              "ticks": ""
             }
            },
            "type": "scatterpolargl"
           }
          ],
          "scatterternary": [
           {
            "marker": {
             "colorbar": {
              "outlinewidth": 0,
              "ticks": ""
             }
            },
            "type": "scatterternary"
           }
          ],
          "surface": [
           {
            "colorbar": {
             "outlinewidth": 0,
             "ticks": ""
            },
            "colorscale": [
             [
              0,
              "#0d0887"
             ],
             [
              0.1111111111111111,
              "#46039f"
             ],
             [
              0.2222222222222222,
              "#7201a8"
             ],
             [
              0.3333333333333333,
              "#9c179e"
             ],
             [
              0.4444444444444444,
              "#bd3786"
             ],
             [
              0.5555555555555556,
              "#d8576b"
             ],
             [
              0.6666666666666666,
              "#ed7953"
             ],
             [
              0.7777777777777778,
              "#fb9f3a"
             ],
             [
              0.8888888888888888,
              "#fdca26"
             ],
             [
              1,
              "#f0f921"
             ]
            ],
            "type": "surface"
           }
          ],
          "table": [
           {
            "cells": {
             "fill": {
              "color": "#EBF0F8"
             },
             "line": {
              "color": "white"
             }
            },
            "header": {
             "fill": {
              "color": "#C8D4E3"
             },
             "line": {
              "color": "white"
             }
            },
            "type": "table"
           }
          ]
         },
         "layout": {
          "annotationdefaults": {
           "arrowcolor": "#2a3f5f",
           "arrowhead": 0,
           "arrowwidth": 1
          },
          "autotypenumbers": "strict",
          "coloraxis": {
           "colorbar": {
            "outlinewidth": 0,
            "ticks": ""
           }
          },
          "colorscale": {
           "diverging": [
            [
             0,
             "#8e0152"
            ],
            [
             0.1,
             "#c51b7d"
            ],
            [
             0.2,
             "#de77ae"
            ],
            [
             0.3,
             "#f1b6da"
            ],
            [
             0.4,
             "#fde0ef"
            ],
            [
             0.5,
             "#f7f7f7"
            ],
            [
             0.6,
             "#e6f5d0"
            ],
            [
             0.7,
             "#b8e186"
            ],
            [
             0.8,
             "#7fbc41"
            ],
            [
             0.9,
             "#4d9221"
            ],
            [
             1,
             "#276419"
            ]
           ],
           "sequential": [
            [
             0,
             "#0d0887"
            ],
            [
             0.1111111111111111,
             "#46039f"
            ],
            [
             0.2222222222222222,
             "#7201a8"
            ],
            [
             0.3333333333333333,
             "#9c179e"
            ],
            [
             0.4444444444444444,
             "#bd3786"
            ],
            [
             0.5555555555555556,
             "#d8576b"
            ],
            [
             0.6666666666666666,
             "#ed7953"
            ],
            [
             0.7777777777777778,
             "#fb9f3a"
            ],
            [
             0.8888888888888888,
             "#fdca26"
            ],
            [
             1,
             "#f0f921"
            ]
           ],
           "sequentialminus": [
            [
             0,
             "#0d0887"
            ],
            [
             0.1111111111111111,
             "#46039f"
            ],
            [
             0.2222222222222222,
             "#7201a8"
            ],
            [
             0.3333333333333333,
             "#9c179e"
            ],
            [
             0.4444444444444444,
             "#bd3786"
            ],
            [
             0.5555555555555556,
             "#d8576b"
            ],
            [
             0.6666666666666666,
             "#ed7953"
            ],
            [
             0.7777777777777778,
             "#fb9f3a"
            ],
            [
             0.8888888888888888,
             "#fdca26"
            ],
            [
             1,
             "#f0f921"
            ]
           ]
          },
          "colorway": [
           "#636efa",
           "#EF553B",
           "#00cc96",
           "#ab63fa",
           "#FFA15A",
           "#19d3f3",
           "#FF6692",
           "#B6E880",
           "#FF97FF",
           "#FECB52"
          ],
          "font": {
           "color": "#2a3f5f"
          },
          "geo": {
           "bgcolor": "white",
           "lakecolor": "white",
           "landcolor": "#E5ECF6",
           "showlakes": true,
           "showland": true,
           "subunitcolor": "white"
          },
          "hoverlabel": {
           "align": "left"
          },
          "hovermode": "closest",
          "mapbox": {
           "style": "light"
          },
          "paper_bgcolor": "white",
          "plot_bgcolor": "#E5ECF6",
          "polar": {
           "angularaxis": {
            "gridcolor": "white",
            "linecolor": "white",
            "ticks": ""
           },
           "bgcolor": "#E5ECF6",
           "radialaxis": {
            "gridcolor": "white",
            "linecolor": "white",
            "ticks": ""
           }
          },
          "scene": {
           "xaxis": {
            "backgroundcolor": "#E5ECF6",
            "gridcolor": "white",
            "gridwidth": 2,
            "linecolor": "white",
            "showbackground": true,
            "ticks": "",
            "zerolinecolor": "white"
           },
           "yaxis": {
            "backgroundcolor": "#E5ECF6",
            "gridcolor": "white",
            "gridwidth": 2,
            "linecolor": "white",
            "showbackground": true,
            "ticks": "",
            "zerolinecolor": "white"
           },
           "zaxis": {
            "backgroundcolor": "#E5ECF6",
            "gridcolor": "white",
            "gridwidth": 2,
            "linecolor": "white",
            "showbackground": true,
            "ticks": "",
            "zerolinecolor": "white"
           }
          },
          "shapedefaults": {
           "line": {
            "color": "#2a3f5f"
           }
          },
          "ternary": {
           "aaxis": {
            "gridcolor": "white",
            "linecolor": "white",
            "ticks": ""
           },
           "baxis": {
            "gridcolor": "white",
            "linecolor": "white",
            "ticks": ""
           },
           "bgcolor": "#E5ECF6",
           "caxis": {
            "gridcolor": "white",
            "linecolor": "white",
            "ticks": ""
           }
          },
          "title": {
           "x": 0.05
          },
          "xaxis": {
           "automargin": true,
           "gridcolor": "white",
           "linecolor": "white",
           "ticks": "",
           "title": {
            "standoff": 15
           },
           "zerolinecolor": "white",
           "zerolinewidth": 2
          },
          "yaxis": {
           "automargin": true,
           "gridcolor": "white",
           "linecolor": "white",
           "ticks": "",
           "title": {
            "standoff": 15
           },
           "zerolinecolor": "white",
           "zerolinewidth": 2
          }
         }
        },
        "title": {
         "font": {
          "color": "#4D5663"
         }
        },
        "xaxis": {
         "anchor": "y2",
         "gridcolor": "#E1E5ED",
         "rangeselector": {
          "bgcolor": "rgba(150, 200, 250, 1)",
          "buttons": [
           {
            "count": 1,
            "label": "1m",
            "step": "month",
            "stepmode": "backward"
           },
           {
            "count": 1,
            "label": "1y",
            "step": "year",
            "stepmode": "backward"
           }
          ],
          "font": {
           "size": 13
          },
          "visible": false,
          "x": 0,
          "y": 0.9
         },
         "rangeslider": {
          "visible": false
         },
         "showgrid": true,
         "tickfont": {
          "color": "#4D5663"
         },
         "title": {
          "font": {
           "color": "#4D5663"
          },
          "text": ""
         },
         "zerolinecolor": "#E1E5ED"
        },
        "yaxis": {
         "gridcolor": "#E1E5ED",
         "showgrid": true,
         "showticklabels": false,
         "tickfont": {
          "color": "#4D5663"
         },
         "title": {
          "font": {
           "color": "#4D5663"
          },
          "text": ""
         },
         "zerolinecolor": "#E1E5ED"
        },
        "yaxis2": {
         "domain": [
          0.23,
          0.9
         ],
         "gridcolor": "#E1E5ED",
         "showgrid": true,
         "tickfont": {
          "color": "#4D5663"
         },
         "title": {
          "font": {
           "color": "#4D5663"
          },
          "text": ""
         },
         "zerolinecolor": "#E1E5ED"
        },
        "yaxis3": {
         "domain": [
          0,
          0.15
         ],
         "gridcolor": "#E1E5ED",
         "showgrid": true,
         "tickfont": {
          "color": "#4D5663"
         },
         "title": {
          "font": {
           "color": "#4D5663"
          },
          "text": ""
         },
         "zerolinecolor": "#E1E5ED"
        }
       }
      },
      "text/html": [
       "<div>                            <div id=\"b162df13-2dd5-418c-b911-b81418097b60\" class=\"plotly-graph-div\" style=\"height:525px; width:100%;\"></div>            <script type=\"text/javascript\">                require([\"plotly\"], function(Plotly) {                    window.PLOTLYENV=window.PLOTLYENV || {};                                    if (document.getElementById(\"b162df13-2dd5-418c-b911-b81418097b60\")) {                    Plotly.newPlot(                        \"b162df13-2dd5-418c-b911-b81418097b60\",                        [{\"legendgroup\":\" CCI(14)\",\"line\":{\"color\":\"rgba(55, 128, 191, 1.0)\",\"dash\":\"solid\",\"shape\":\"linear\",\"width\":1.3},\"mode\":\"lines\",\"name\":\" CCI(14)\",\"showlegend\":true,\"text\":\"\",\"x\":[3179,3180,3181,3182,3183,3184,3185,3186,3187,3188,3189,3190,3191,3192,3193,3194,3195,3196,3197,3198,3199,3200,3201,3202,3203,3204,3205,3206,3207,3208,3209,3210,3211,3212,3213,3214,3215,3216,3217,3218,3219,3220,3221,3222,3223,3224,3225,3226,3227,3228,3229,3230,3231,3232,3233,3234,3235,3236,3237,3238],\"y\":[\"\",\"\",\"\",\"\",\"\",\"\",\"\",\"\",\"\",\"\",\"\",\"\",\"\",117.32461992800243,116.48185964464827,150.01123572379865,143.19793864325325,96.15126363589523,77.04618580306962,89.97333773196941,88.61133373366889,93.44213207534621,72.02532195227846,47.025526094903256,44.256885827429,-97.68076507288868,-198.03498578356295,-162.8438292398094,-148.03993654308542,-123.80112293179579,-39.626544011849,17.831441780805964,43.58898641973274,55.433336951423065,89.68996084624001,113.09012466250539,113.22006048076173,107.51182345199278,130.43632008474918,110.6687699383758,84.85514534522125,25.78321055917417,25.310849462739824,42.82425301728869,114.1057024680971,93.19583772844304,85.23324928995555,127.4978391767891,103.96257221530668,123.54034264447117,67.93303154742448,128.73658293012738,132.2089727993697,108.93821029427856,120.5332188560901,105.64631583049855,96.65914201008614,48.763264159869365,-74.39553036337698,-149.94411581983096],\"yaxis\":\"y3\",\"type\":\"scatter\"},{\"legendgroup\":\" CCI(14)\",\"line\":{\"color\":\"grey\",\"width\":1},\"mode\":\"lines\",\"name\":\"\",\"showlegend\":true,\"text\":\"\",\"x\":[3179,3180,3181,3182,3183,3184,3185,3186,3187,3188,3189,3190,3191,3192,3193,3194,3195,3196,3197,3198,3199,3200,3201,3202,3203,3204,3205,3206,3207,3208,3209,3210,3211,3212,3213,3214,3215,3216,3217,3218,3219,3220,3221,3222,3223,3224,3225,3226,3227,3228,3229,3230,3231,3232,3233,3234,3235,3236,3237,3238],\"y\":[-100,-100,-100,-100,-100,-100,-100,-100,-100,-100,-100,-100,-100,-100,-100,-100,-100,-100,-100,-100,-100,-100,-100,-100,-100,-100,-100,-100,-100,-100,-100,-100,-100,-100,-100,-100,-100,-100,-100,-100,-100,-100,-100,-100,-100,-100,-100,-100,-100,-100,-100,-100,-100,-100,-100,-100,-100,-100,-100,-100],\"yaxis\":\"y3\",\"type\":\"scatter\"},{\"legendgroup\":\" CCI(14)\",\"line\":{\"color\":\"#17BECF\",\"width\":1},\"mode\":\"lines\",\"name\":\"\",\"showlegend\":true,\"text\":\"\",\"x\":[3179,3180,3181,3182,3183,3184,3185,3186,3187,3188,3189,3190,3191,3192,3193,3194,3195,3196,3197,3198,3199,3200,3201,3202,3203,3204,3205,3206,3207,3208,3209,3210,3211,3212,3213,3214,3215,3216,3217,3218,3219,3220,3221,3222,3223,3224,3225,3226,3227,3228,3229,3230,3231,3232,3233,3234,3235,3236,3237,3238],\"y\":[100,100,100,100,100,100,100,100,100,100,100,100,100,100,100,100,100,100,100,100,100,100,100,100,100,100,100,100,100,100,100,100,100,100,100,100,100,100,100,100,100,100,100,100,100,100,100,100,100,100,100,100,100,100,100,100,100,100,100,100],\"yaxis\":\"y3\",\"type\":\"scatter\"},{\"close\":[-0.03724883856138729,-0.03717547762779041,-0.03699275039441414,-0.037021254642641964,-0.03703475665496041,-0.037001751735959765,-0.03691803925958541,-0.0369135385888126,-0.03685202942158412,-0.03672931113184538,-0.03678016871157819,-0.03679367072389663,-0.03673081135543632,-0.03666645176338507,-0.036684454446476326,-0.03652123011978225,-0.03651672944900943,-0.03662159507801602,-0.036585589711833504,-0.036543733473646325,-0.036525730790555065,-0.03651222877823662,-0.036524230566964126,-0.03654958434565098,-0.03657058747592412,-0.036727810908254444,-0.036820674748533525,-0.03677866848798725,-0.03684017765521572,-0.036807172736215074,-0.036687154848940015,-0.036645148588393746,-0.03654313338420995,-0.036562636290892146,-0.03646362153389022,-0.036433617062071454,-0.036427616167707705,-0.03642461572052583,-0.03628659515015951,-0.036369107447661114,-0.03638110923638862,-0.03649962690007274,-0.036451619745162714,-0.036385609907161436,-0.03633010163429672,-0.036364606776888304,-0.03631960006916015,-0.036309098504023585,-0.03626109134911357,-0.03622208553574917,-0.0362940962681142,-0.036213084194203535,-0.03621458441779448,-0.03619808195829416,-0.03616207659211164,-0.03618457994597571,-0.0361800792752029,-0.03620108240547603,-0.03629709671529608,-0.036396111472298],\"decreasing\":{\"line\":{\"color\":\"#808080\"}},\"high\":[-0.03732512591468666,-0.037283502125026034,-0.03713162750898831,-0.03708015723145097,-0.037112232911655406,-0.037113724803757936,-0.03704897668650806,-0.03704077127994414,-0.03699601451686819,-0.036862042606060845,-0.036809975571682495,-0.03691425882964946,-0.03686502639026591,-0.03680027827301604,-0.036735530155766166,-0.036647657710927053,-0.03662527932938908,-0.03665511717143971,-0.03670718420581807,-0.0366685442003625,-0.03664318203461946,-0.03662095284229174,-0.03663423068200427,-0.036667052308259965,-0.036647657710927053,-0.03670270852951047,-0.03685159936134313,-0.03688740477180389,-0.03689337234021401,-0.036944693428541106,-0.03680669340905693,-0.03670076906977718,-0.036687342040854394,-0.03666943933562402,-0.036611255543625286,-0.03655307175162655,-0.03653964472270377,-0.03652323390957592,-0.03642924470711643,-0.03639642308086073,-0.03646355822547465,-0.036566498780549336,-0.03658067175552339,-0.036522487963524655,-0.03643968795183415,-0.03641730957029617,-0.036436704167629085,-0.03629199063368352,-0.0363949311887582,-0.036368077130912634,-0.03638001226773288,-0.036344206857272125,-0.03630392577050377,-0.03631287712311896,-0.03626961225214554,-0.03630243387840124,-0.036274087928453144,-0.036320336583631624,-0.036372552807220224,-0.036432228491321494],\"increasing\":{\"line\":{\"color\":\"#17BECF\"}},\"low\":[-0.037242178751826095,-0.037139664571822356,-0.0370055959534964,-0.036892664279501115,-0.03693025784477495,-0.03688209580733578,-0.036836953333372426,-0.036829253446509114,-0.036773542500380424,-0.03669669460992106,-0.03665004235421981,-0.03671028264556221,-0.036674198862026275,-0.036607919443732255,-0.03655658686464349,-0.0364691705020188,-0.036396851956773155,-0.0364691705020188,-0.036506915045466416,-0.03643761606369659,-0.036425537809793344,-0.03638039533582999,-0.036414969337628014,-0.036436106281958675,-0.036424028028055444,-0.03661531737424799,-0.03669518482818316,-0.036674198862026275,-0.03668627711592952,-0.03672387068120335,-0.036618336937723796,-0.03650208374390512,-0.03648849570826398,-0.0364326337839615,-0.03641149683963083,-0.03635714469706626,-0.036326949062308156,-0.036308831681453296,-0.0362786360466952,-0.036225793685868535,-0.03624391106672339,-0.03636167404227997,-0.03634959578837673,-0.03635110557011464,-0.036198617614586245,-0.036219754558916906,-0.036227303467606435,-0.03620465674153786,-0.03617899045199348,-0.036147285035497474,-0.03619408826937253,-0.03612765787290471,-0.036082364420767565,-0.03608689376598128,-0.03605669813122318,-0.03602499271472718,-0.03605216878600946,-0.036092781914759106,-0.03622277412239272,-0.036254479538888724],\"name\":\"Trace 1\",\"open\":[-0.03732390805472356,-0.03727455483892942,-0.03715769722463266,-0.037030488935898824,-0.03700798746973129,-0.03697963562236019,-0.036973635231382175,-0.03698263581784919,-0.036928632299047096,-0.03683892645392583,-0.03670406766669504,-0.036835926258436825,-0.03675507099000813,-0.036711568155417554,-0.03666671523285692,-0.03661436182157377,-0.03649900430502152,-0.03655285781404916,-0.03664271366894488,-0.036587360062172725,-0.036526006064422564,-0.03650200450051052,-0.036493003914043504,-0.03655735810728267,-0.03656185840051618,-0.03656935888923869,-0.036741570110307605,-0.03679842381482426,-0.03680142401031326,-0.03683892645392583,-0.03677592234865672,-0.036660414822330005,-0.036646913942629485,-0.0365419071005143,-0.036567408762170836,-0.03644590084486612,-0.03641739898772057,-0.03641739898772057,-0.03642189928095407,-0.03627488970199281,-0.03633939390500643,-0.03641739898772057,-0.03646240192005565,-0.03645340133358863,-0.03633939390500643,-0.036301891461393856,-0.0363228928298169,-0.036234387062891234,-0.03628989067943784,-0.03624938804033626,-0.036234387062891234,-0.03628839058169333,-0.036189384130556154,-0.036207385303490186,-0.036205885205745685,-0.03618638393506715,-0.03617138295762212,-0.03620438510800118,-0.036231386867402224,-0.036316892438838885],\"showlegend\":true,\"x\":[3179,3180,3181,3182,3183,3184,3185,3186,3187,3188,3189,3190,3191,3192,3193,3194,3195,3196,3197,3198,3199,3200,3201,3202,3203,3204,3205,3206,3207,3208,3209,3210,3211,3212,3213,3214,3215,3216,3217,3218,3219,3220,3221,3222,3223,3224,3225,3226,3227,3228,3229,3230,3231,3232,3233,3234,3235,3236,3237,3238],\"yaxis\":\"y2\",\"type\":\"candlestick\"}],                        {\"legend\":{\"bgcolor\":\"#F5F6F9\",\"font\":{\"color\":\"#4D5663\"}},\"margin\":{\"b\":30,\"l\":30,\"r\":30,\"t\":30},\"paper_bgcolor\":\"#F5F6F9\",\"plot_bgcolor\":\"#F5F6F9\",\"showlegend\":true,\"template\":{\"data\":{\"barpolar\":[{\"marker\":{\"line\":{\"color\":\"#E5ECF6\",\"width\":0.5},\"pattern\":{\"fillmode\":\"overlay\",\"size\":10,\"solidity\":0.2}},\"type\":\"barpolar\"}],\"bar\":[{\"error_x\":{\"color\":\"#2a3f5f\"},\"error_y\":{\"color\":\"#2a3f5f\"},\"marker\":{\"line\":{\"color\":\"#E5ECF6\",\"width\":0.5},\"pattern\":{\"fillmode\":\"overlay\",\"size\":10,\"solidity\":0.2}},\"type\":\"bar\"}],\"carpet\":[{\"aaxis\":{\"endlinecolor\":\"#2a3f5f\",\"gridcolor\":\"white\",\"linecolor\":\"white\",\"minorgridcolor\":\"white\",\"startlinecolor\":\"#2a3f5f\"},\"baxis\":{\"endlinecolor\":\"#2a3f5f\",\"gridcolor\":\"white\",\"linecolor\":\"white\",\"minorgridcolor\":\"white\",\"startlinecolor\":\"#2a3f5f\"},\"type\":\"carpet\"}],\"choropleth\":[{\"colorbar\":{\"outlinewidth\":0,\"ticks\":\"\"},\"type\":\"choropleth\"}],\"contourcarpet\":[{\"colorbar\":{\"outlinewidth\":0,\"ticks\":\"\"},\"type\":\"contourcarpet\"}],\"contour\":[{\"colorbar\":{\"outlinewidth\":0,\"ticks\":\"\"},\"colorscale\":[[0.0,\"#0d0887\"],[0.1111111111111111,\"#46039f\"],[0.2222222222222222,\"#7201a8\"],[0.3333333333333333,\"#9c179e\"],[0.4444444444444444,\"#bd3786\"],[0.5555555555555556,\"#d8576b\"],[0.6666666666666666,\"#ed7953\"],[0.7777777777777778,\"#fb9f3a\"],[0.8888888888888888,\"#fdca26\"],[1.0,\"#f0f921\"]],\"type\":\"contour\"}],\"heatmapgl\":[{\"colorbar\":{\"outlinewidth\":0,\"ticks\":\"\"},\"colorscale\":[[0.0,\"#0d0887\"],[0.1111111111111111,\"#46039f\"],[0.2222222222222222,\"#7201a8\"],[0.3333333333333333,\"#9c179e\"],[0.4444444444444444,\"#bd3786\"],[0.5555555555555556,\"#d8576b\"],[0.6666666666666666,\"#ed7953\"],[0.7777777777777778,\"#fb9f3a\"],[0.8888888888888888,\"#fdca26\"],[1.0,\"#f0f921\"]],\"type\":\"heatmapgl\"}],\"heatmap\":[{\"colorbar\":{\"outlinewidth\":0,\"ticks\":\"\"},\"colorscale\":[[0.0,\"#0d0887\"],[0.1111111111111111,\"#46039f\"],[0.2222222222222222,\"#7201a8\"],[0.3333333333333333,\"#9c179e\"],[0.4444444444444444,\"#bd3786\"],[0.5555555555555556,\"#d8576b\"],[0.6666666666666666,\"#ed7953\"],[0.7777777777777778,\"#fb9f3a\"],[0.8888888888888888,\"#fdca26\"],[1.0,\"#f0f921\"]],\"type\":\"heatmap\"}],\"histogram2dcontour\":[{\"colorbar\":{\"outlinewidth\":0,\"ticks\":\"\"},\"colorscale\":[[0.0,\"#0d0887\"],[0.1111111111111111,\"#46039f\"],[0.2222222222222222,\"#7201a8\"],[0.3333333333333333,\"#9c179e\"],[0.4444444444444444,\"#bd3786\"],[0.5555555555555556,\"#d8576b\"],[0.6666666666666666,\"#ed7953\"],[0.7777777777777778,\"#fb9f3a\"],[0.8888888888888888,\"#fdca26\"],[1.0,\"#f0f921\"]],\"type\":\"histogram2dcontour\"}],\"histogram2d\":[{\"colorbar\":{\"outlinewidth\":0,\"ticks\":\"\"},\"colorscale\":[[0.0,\"#0d0887\"],[0.1111111111111111,\"#46039f\"],[0.2222222222222222,\"#7201a8\"],[0.3333333333333333,\"#9c179e\"],[0.4444444444444444,\"#bd3786\"],[0.5555555555555556,\"#d8576b\"],[0.6666666666666666,\"#ed7953\"],[0.7777777777777778,\"#fb9f3a\"],[0.8888888888888888,\"#fdca26\"],[1.0,\"#f0f921\"]],\"type\":\"histogram2d\"}],\"histogram\":[{\"marker\":{\"pattern\":{\"fillmode\":\"overlay\",\"size\":10,\"solidity\":0.2}},\"type\":\"histogram\"}],\"mesh3d\":[{\"colorbar\":{\"outlinewidth\":0,\"ticks\":\"\"},\"type\":\"mesh3d\"}],\"parcoords\":[{\"line\":{\"colorbar\":{\"outlinewidth\":0,\"ticks\":\"\"}},\"type\":\"parcoords\"}],\"pie\":[{\"automargin\":true,\"type\":\"pie\"}],\"scatter3d\":[{\"line\":{\"colorbar\":{\"outlinewidth\":0,\"ticks\":\"\"}},\"marker\":{\"colorbar\":{\"outlinewidth\":0,\"ticks\":\"\"}},\"type\":\"scatter3d\"}],\"scattercarpet\":[{\"marker\":{\"colorbar\":{\"outlinewidth\":0,\"ticks\":\"\"}},\"type\":\"scattercarpet\"}],\"scattergeo\":[{\"marker\":{\"colorbar\":{\"outlinewidth\":0,\"ticks\":\"\"}},\"type\":\"scattergeo\"}],\"scattergl\":[{\"marker\":{\"colorbar\":{\"outlinewidth\":0,\"ticks\":\"\"}},\"type\":\"scattergl\"}],\"scattermapbox\":[{\"marker\":{\"colorbar\":{\"outlinewidth\":0,\"ticks\":\"\"}},\"type\":\"scattermapbox\"}],\"scatterpolargl\":[{\"marker\":{\"colorbar\":{\"outlinewidth\":0,\"ticks\":\"\"}},\"type\":\"scatterpolargl\"}],\"scatterpolar\":[{\"marker\":{\"colorbar\":{\"outlinewidth\":0,\"ticks\":\"\"}},\"type\":\"scatterpolar\"}],\"scatter\":[{\"marker\":{\"colorbar\":{\"outlinewidth\":0,\"ticks\":\"\"}},\"type\":\"scatter\"}],\"scatterternary\":[{\"marker\":{\"colorbar\":{\"outlinewidth\":0,\"ticks\":\"\"}},\"type\":\"scatterternary\"}],\"surface\":[{\"colorbar\":{\"outlinewidth\":0,\"ticks\":\"\"},\"colorscale\":[[0.0,\"#0d0887\"],[0.1111111111111111,\"#46039f\"],[0.2222222222222222,\"#7201a8\"],[0.3333333333333333,\"#9c179e\"],[0.4444444444444444,\"#bd3786\"],[0.5555555555555556,\"#d8576b\"],[0.6666666666666666,\"#ed7953\"],[0.7777777777777778,\"#fb9f3a\"],[0.8888888888888888,\"#fdca26\"],[1.0,\"#f0f921\"]],\"type\":\"surface\"}],\"table\":[{\"cells\":{\"fill\":{\"color\":\"#EBF0F8\"},\"line\":{\"color\":\"white\"}},\"header\":{\"fill\":{\"color\":\"#C8D4E3\"},\"line\":{\"color\":\"white\"}},\"type\":\"table\"}]},\"layout\":{\"annotationdefaults\":{\"arrowcolor\":\"#2a3f5f\",\"arrowhead\":0,\"arrowwidth\":1},\"autotypenumbers\":\"strict\",\"coloraxis\":{\"colorbar\":{\"outlinewidth\":0,\"ticks\":\"\"}},\"colorscale\":{\"diverging\":[[0,\"#8e0152\"],[0.1,\"#c51b7d\"],[0.2,\"#de77ae\"],[0.3,\"#f1b6da\"],[0.4,\"#fde0ef\"],[0.5,\"#f7f7f7\"],[0.6,\"#e6f5d0\"],[0.7,\"#b8e186\"],[0.8,\"#7fbc41\"],[0.9,\"#4d9221\"],[1,\"#276419\"]],\"sequential\":[[0.0,\"#0d0887\"],[0.1111111111111111,\"#46039f\"],[0.2222222222222222,\"#7201a8\"],[0.3333333333333333,\"#9c179e\"],[0.4444444444444444,\"#bd3786\"],[0.5555555555555556,\"#d8576b\"],[0.6666666666666666,\"#ed7953\"],[0.7777777777777778,\"#fb9f3a\"],[0.8888888888888888,\"#fdca26\"],[1.0,\"#f0f921\"]],\"sequentialminus\":[[0.0,\"#0d0887\"],[0.1111111111111111,\"#46039f\"],[0.2222222222222222,\"#7201a8\"],[0.3333333333333333,\"#9c179e\"],[0.4444444444444444,\"#bd3786\"],[0.5555555555555556,\"#d8576b\"],[0.6666666666666666,\"#ed7953\"],[0.7777777777777778,\"#fb9f3a\"],[0.8888888888888888,\"#fdca26\"],[1.0,\"#f0f921\"]]},\"colorway\":[\"#636efa\",\"#EF553B\",\"#00cc96\",\"#ab63fa\",\"#FFA15A\",\"#19d3f3\",\"#FF6692\",\"#B6E880\",\"#FF97FF\",\"#FECB52\"],\"font\":{\"color\":\"#2a3f5f\"},\"geo\":{\"bgcolor\":\"white\",\"lakecolor\":\"white\",\"landcolor\":\"#E5ECF6\",\"showlakes\":true,\"showland\":true,\"subunitcolor\":\"white\"},\"hoverlabel\":{\"align\":\"left\"},\"hovermode\":\"closest\",\"mapbox\":{\"style\":\"light\"},\"paper_bgcolor\":\"white\",\"plot_bgcolor\":\"#E5ECF6\",\"polar\":{\"angularaxis\":{\"gridcolor\":\"white\",\"linecolor\":\"white\",\"ticks\":\"\"},\"bgcolor\":\"#E5ECF6\",\"radialaxis\":{\"gridcolor\":\"white\",\"linecolor\":\"white\",\"ticks\":\"\"}},\"scene\":{\"xaxis\":{\"backgroundcolor\":\"#E5ECF6\",\"gridcolor\":\"white\",\"gridwidth\":2,\"linecolor\":\"white\",\"showbackground\":true,\"ticks\":\"\",\"zerolinecolor\":\"white\"},\"yaxis\":{\"backgroundcolor\":\"#E5ECF6\",\"gridcolor\":\"white\",\"gridwidth\":2,\"linecolor\":\"white\",\"showbackground\":true,\"ticks\":\"\",\"zerolinecolor\":\"white\"},\"zaxis\":{\"backgroundcolor\":\"#E5ECF6\",\"gridcolor\":\"white\",\"gridwidth\":2,\"linecolor\":\"white\",\"showbackground\":true,\"ticks\":\"\",\"zerolinecolor\":\"white\"}},\"shapedefaults\":{\"line\":{\"color\":\"#2a3f5f\"}},\"ternary\":{\"aaxis\":{\"gridcolor\":\"white\",\"linecolor\":\"white\",\"ticks\":\"\"},\"baxis\":{\"gridcolor\":\"white\",\"linecolor\":\"white\",\"ticks\":\"\"},\"bgcolor\":\"#E5ECF6\",\"caxis\":{\"gridcolor\":\"white\",\"linecolor\":\"white\",\"ticks\":\"\"}},\"title\":{\"x\":0.05},\"xaxis\":{\"automargin\":true,\"gridcolor\":\"white\",\"linecolor\":\"white\",\"ticks\":\"\",\"title\":{\"standoff\":15},\"zerolinecolor\":\"white\",\"zerolinewidth\":2},\"yaxis\":{\"automargin\":true,\"gridcolor\":\"white\",\"linecolor\":\"white\",\"ticks\":\"\",\"title\":{\"standoff\":15},\"zerolinecolor\":\"white\",\"zerolinewidth\":2}}},\"title\":{\"font\":{\"color\":\"#4D5663\"}},\"xaxis\":{\"anchor\":\"y2\",\"gridcolor\":\"#E1E5ED\",\"rangeselector\":{\"bgcolor\":\"rgba(150, 200, 250, 1)\",\"buttons\":[{\"count\":1,\"label\":\"1m\",\"step\":\"month\",\"stepmode\":\"backward\"},{\"count\":1,\"label\":\"1y\",\"step\":\"year\",\"stepmode\":\"backward\"}],\"font\":{\"size\":13},\"visible\":false,\"x\":0,\"y\":0.9},\"rangeslider\":{\"visible\":false},\"showgrid\":true,\"tickfont\":{\"color\":\"#4D5663\"},\"title\":{\"font\":{\"color\":\"#4D5663\"},\"text\":\"\"},\"zerolinecolor\":\"#E1E5ED\"},\"yaxis\":{\"gridcolor\":\"#E1E5ED\",\"showgrid\":true,\"showticklabels\":false,\"tickfont\":{\"color\":\"#4D5663\"},\"title\":{\"font\":{\"color\":\"#4D5663\"},\"text\":\"\"},\"zerolinecolor\":\"#E1E5ED\"},\"yaxis3\":{\"domain\":[0.0,0.15],\"gridcolor\":\"#E1E5ED\",\"showgrid\":true,\"tickfont\":{\"color\":\"#4D5663\"},\"title\":{\"font\":{\"color\":\"#4D5663\"},\"text\":\"\"},\"zerolinecolor\":\"#E1E5ED\"},\"yaxis2\":{\"domain\":[0.23,0.9],\"gridcolor\":\"#E1E5ED\",\"showgrid\":true,\"tickfont\":{\"color\":\"#4D5663\"},\"title\":{\"font\":{\"color\":\"#4D5663\"},\"text\":\"\"},\"zerolinecolor\":\"#E1E5ED\"}},                        {\"responsive\": true}                    ).then(function(){\n",
       "                            \n",
       "var gd = document.getElementById('b162df13-2dd5-418c-b911-b81418097b60');\n",
       "var x = new MutationObserver(function (mutations, observer) {{\n",
       "        var display = window.getComputedStyle(gd).display;\n",
       "        if (!display || display === 'none') {{\n",
       "            console.log([gd, 'removed!']);\n",
       "            Plotly.purge(gd);\n",
       "            observer.disconnect();\n",
       "        }}\n",
       "}});\n",
       "\n",
       "// Listen for the removal of the full notebook cells\n",
       "var notebookContainer = gd.closest('#notebook-container');\n",
       "if (notebookContainer) {{\n",
       "    x.observe(notebookContainer, {childList: true});\n",
       "}}\n",
       "\n",
       "// Listen for the clearing of the current output cell\n",
       "var outputEl = gd.closest('.output');\n",
       "if (outputEl) {{\n",
       "    x.observe(outputEl, {childList: true});\n",
       "}}\n",
       "\n",
       "                        }).then(function(){\n",
       "                            function downloadimage(format, height, width, filename) {var p = document.getElementById('b162df13-2dd5-418c-b911-b81418097b60');Plotly.downloadImage(p, {format: format, height: height, width: width, filename: filename});};if(document.readyState == 'complete') {downloadimage('png', 600, 800, 'qf_04');}\n",
       "                        })                };                });            </script>        </div>"
      ]
     },
     "metadata": {},
     "output_type": "display_data"
    }
   ],
   "source": [
    "qf=cf.QuantFig(tickers.get_group('a')[-60:])\n",
    "qf.add_cci()\n",
    "plyo.iplot(qf.iplot(asFigure=True),image='png',filename='qf_04')"
   ]
  },
  {
   "cell_type": "code",
   "execution_count": 21,
   "metadata": {},
   "outputs": [
    {
     "data": {
      "application/vnd.plotly.v1+json": {
       "config": {
        "linkText": "Export to plot.ly",
        "plotlyServerURL": "https://plot.ly",
        "showLink": false
       },
       "data": [
        {
         "line": {
          "color": "rgba(55, 128, 191, 1.0)",
          "dash": "solid",
          "shape": "linear",
          "width": 1.3
         },
         "mode": "lines",
         "name": " EMA(20)",
         "text": "",
         "type": "scatter",
         "x": [
          3179,
          3180,
          3181,
          3182,
          3183,
          3184,
          3185,
          3186,
          3187,
          3188,
          3189,
          3190,
          3191,
          3192,
          3193,
          3194,
          3195,
          3196,
          3197,
          3198,
          3199,
          3200,
          3201,
          3202,
          3203,
          3204,
          3205,
          3206,
          3207,
          3208,
          3209,
          3210,
          3211,
          3212,
          3213,
          3214,
          3215,
          3216,
          3217,
          3218,
          3219,
          3220,
          3221,
          3222,
          3223,
          3224,
          3225,
          3226,
          3227,
          3228,
          3229,
          3230,
          3231,
          3232,
          3233,
          3234,
          3235,
          3236,
          3237,
          3238
         ],
         "y": [
          "",
          "",
          "",
          "",
          "",
          "",
          "",
          "",
          "",
          "",
          "",
          "",
          "",
          "",
          "",
          "",
          "",
          "",
          "",
          -0.036783209312203836,
          -0.03675868754823729,
          -0.036735215284427705,
          -0.03671512150181212,
          -0.03669935605836821,
          -0.03668709238384973,
          -0.03669097033855494,
          -0.03670332313950528,
          -0.036710498886979755,
          -0.03672284924585937,
          -0.036730880054464676,
          -0.03672671574917662,
          -0.03671894744814968,
          -0.03670220325158399,
          -0.03668891116008953,
          -0.03666745500521341,
          -0.03664518472491417,
          -0.036624463909942125,
          -0.036605430749045334,
          -0.03657506545391335,
          -0.036555450405698846,
          -0.036538846484812156,
          -0.03653511128626555,
          -0.03652715971092242,
          -0.0365136787772309,
          -0.0364961952398086,
          -0.03648366300524476,
          -0.036468037963712896,
          -0.03645290087231391,
          -0.036434633298675786,
          -0.036414390654587535,
          -0.03640293404635198,
          -0.03638485310805213,
          -0.03636863704231331,
          -0.036352393700978154,
          -0.036334268262038484,
          -0.036320012231937274,
          -0.03630668528367685,
          -0.036296627866705344,
          -0.03629667251895208,
          -0.03630614289546121
         ],
         "yaxis": "y2"
        },
        {
         "close": [
          -0.03724883856138729,
          -0.03717547762779041,
          -0.03699275039441414,
          -0.037021254642641964,
          -0.03703475665496041,
          -0.037001751735959765,
          -0.03691803925958541,
          -0.0369135385888126,
          -0.03685202942158412,
          -0.03672931113184538,
          -0.03678016871157819,
          -0.03679367072389663,
          -0.03673081135543632,
          -0.03666645176338507,
          -0.036684454446476326,
          -0.03652123011978225,
          -0.03651672944900943,
          -0.03662159507801602,
          -0.036585589711833504,
          -0.036543733473646325,
          -0.036525730790555065,
          -0.03651222877823662,
          -0.036524230566964126,
          -0.03654958434565098,
          -0.03657058747592412,
          -0.036727810908254444,
          -0.036820674748533525,
          -0.03677866848798725,
          -0.03684017765521572,
          -0.036807172736215074,
          -0.036687154848940015,
          -0.036645148588393746,
          -0.03654313338420995,
          -0.036562636290892146,
          -0.03646362153389022,
          -0.036433617062071454,
          -0.036427616167707705,
          -0.03642461572052583,
          -0.03628659515015951,
          -0.036369107447661114,
          -0.03638110923638862,
          -0.03649962690007274,
          -0.036451619745162714,
          -0.036385609907161436,
          -0.03633010163429672,
          -0.036364606776888304,
          -0.03631960006916015,
          -0.036309098504023585,
          -0.03626109134911357,
          -0.03622208553574917,
          -0.0362940962681142,
          -0.036213084194203535,
          -0.03621458441779448,
          -0.03619808195829416,
          -0.03616207659211164,
          -0.03618457994597571,
          -0.0361800792752029,
          -0.03620108240547603,
          -0.03629709671529608,
          -0.036396111472298
         ],
         "decreasing": {
          "line": {
           "color": "#808080"
          }
         },
         "high": [
          -0.03732512591468666,
          -0.037283502125026034,
          -0.03713162750898831,
          -0.03708015723145097,
          -0.037112232911655406,
          -0.037113724803757936,
          -0.03704897668650806,
          -0.03704077127994414,
          -0.03699601451686819,
          -0.036862042606060845,
          -0.036809975571682495,
          -0.03691425882964946,
          -0.03686502639026591,
          -0.03680027827301604,
          -0.036735530155766166,
          -0.036647657710927053,
          -0.03662527932938908,
          -0.03665511717143971,
          -0.03670718420581807,
          -0.0366685442003625,
          -0.03664318203461946,
          -0.03662095284229174,
          -0.03663423068200427,
          -0.036667052308259965,
          -0.036647657710927053,
          -0.03670270852951047,
          -0.03685159936134313,
          -0.03688740477180389,
          -0.03689337234021401,
          -0.036944693428541106,
          -0.03680669340905693,
          -0.03670076906977718,
          -0.036687342040854394,
          -0.03666943933562402,
          -0.036611255543625286,
          -0.03655307175162655,
          -0.03653964472270377,
          -0.03652323390957592,
          -0.03642924470711643,
          -0.03639642308086073,
          -0.03646355822547465,
          -0.036566498780549336,
          -0.03658067175552339,
          -0.036522487963524655,
          -0.03643968795183415,
          -0.03641730957029617,
          -0.036436704167629085,
          -0.03629199063368352,
          -0.0363949311887582,
          -0.036368077130912634,
          -0.03638001226773288,
          -0.036344206857272125,
          -0.03630392577050377,
          -0.03631287712311896,
          -0.03626961225214554,
          -0.03630243387840124,
          -0.036274087928453144,
          -0.036320336583631624,
          -0.036372552807220224,
          -0.036432228491321494
         ],
         "increasing": {
          "line": {
           "color": "#17BECF"
          }
         },
         "low": [
          -0.037242178751826095,
          -0.037139664571822356,
          -0.0370055959534964,
          -0.036892664279501115,
          -0.03693025784477495,
          -0.03688209580733578,
          -0.036836953333372426,
          -0.036829253446509114,
          -0.036773542500380424,
          -0.03669669460992106,
          -0.03665004235421981,
          -0.03671028264556221,
          -0.036674198862026275,
          -0.036607919443732255,
          -0.03655658686464349,
          -0.0364691705020188,
          -0.036396851956773155,
          -0.0364691705020188,
          -0.036506915045466416,
          -0.03643761606369659,
          -0.036425537809793344,
          -0.03638039533582999,
          -0.036414969337628014,
          -0.036436106281958675,
          -0.036424028028055444,
          -0.03661531737424799,
          -0.03669518482818316,
          -0.036674198862026275,
          -0.03668627711592952,
          -0.03672387068120335,
          -0.036618336937723796,
          -0.03650208374390512,
          -0.03648849570826398,
          -0.0364326337839615,
          -0.03641149683963083,
          -0.03635714469706626,
          -0.036326949062308156,
          -0.036308831681453296,
          -0.0362786360466952,
          -0.036225793685868535,
          -0.03624391106672339,
          -0.03636167404227997,
          -0.03634959578837673,
          -0.03635110557011464,
          -0.036198617614586245,
          -0.036219754558916906,
          -0.036227303467606435,
          -0.03620465674153786,
          -0.03617899045199348,
          -0.036147285035497474,
          -0.03619408826937253,
          -0.03612765787290471,
          -0.036082364420767565,
          -0.03608689376598128,
          -0.03605669813122318,
          -0.03602499271472718,
          -0.03605216878600946,
          -0.036092781914759106,
          -0.03622277412239272,
          -0.036254479538888724
         ],
         "name": "Trace 1",
         "open": [
          -0.03732390805472356,
          -0.03727455483892942,
          -0.03715769722463266,
          -0.037030488935898824,
          -0.03700798746973129,
          -0.03697963562236019,
          -0.036973635231382175,
          -0.03698263581784919,
          -0.036928632299047096,
          -0.03683892645392583,
          -0.03670406766669504,
          -0.036835926258436825,
          -0.03675507099000813,
          -0.036711568155417554,
          -0.03666671523285692,
          -0.03661436182157377,
          -0.03649900430502152,
          -0.03655285781404916,
          -0.03664271366894488,
          -0.036587360062172725,
          -0.036526006064422564,
          -0.03650200450051052,
          -0.036493003914043504,
          -0.03655735810728267,
          -0.03656185840051618,
          -0.03656935888923869,
          -0.036741570110307605,
          -0.03679842381482426,
          -0.03680142401031326,
          -0.03683892645392583,
          -0.03677592234865672,
          -0.036660414822330005,
          -0.036646913942629485,
          -0.0365419071005143,
          -0.036567408762170836,
          -0.03644590084486612,
          -0.03641739898772057,
          -0.03641739898772057,
          -0.03642189928095407,
          -0.03627488970199281,
          -0.03633939390500643,
          -0.03641739898772057,
          -0.03646240192005565,
          -0.03645340133358863,
          -0.03633939390500643,
          -0.036301891461393856,
          -0.0363228928298169,
          -0.036234387062891234,
          -0.03628989067943784,
          -0.03624938804033626,
          -0.036234387062891234,
          -0.03628839058169333,
          -0.036189384130556154,
          -0.036207385303490186,
          -0.036205885205745685,
          -0.03618638393506715,
          -0.03617138295762212,
          -0.03620438510800118,
          -0.036231386867402224,
          -0.036316892438838885
         ],
         "showlegend": true,
         "type": "candlestick",
         "x": [
          3179,
          3180,
          3181,
          3182,
          3183,
          3184,
          3185,
          3186,
          3187,
          3188,
          3189,
          3190,
          3191,
          3192,
          3193,
          3194,
          3195,
          3196,
          3197,
          3198,
          3199,
          3200,
          3201,
          3202,
          3203,
          3204,
          3205,
          3206,
          3207,
          3208,
          3209,
          3210,
          3211,
          3212,
          3213,
          3214,
          3215,
          3216,
          3217,
          3218,
          3219,
          3220,
          3221,
          3222,
          3223,
          3224,
          3225,
          3226,
          3227,
          3228,
          3229,
          3230,
          3231,
          3232,
          3233,
          3234,
          3235,
          3236,
          3237,
          3238
         ],
         "yaxis": "y2"
        }
       ],
       "layout": {
        "legend": {
         "bgcolor": "#F5F6F9",
         "font": {
          "color": "#4D5663"
         }
        },
        "margin": {
         "b": 30,
         "l": 30,
         "r": 30,
         "t": 30
        },
        "paper_bgcolor": "#F5F6F9",
        "plot_bgcolor": "#F5F6F9",
        "showlegend": true,
        "template": {
         "data": {
          "bar": [
           {
            "error_x": {
             "color": "#2a3f5f"
            },
            "error_y": {
             "color": "#2a3f5f"
            },
            "marker": {
             "line": {
              "color": "#E5ECF6",
              "width": 0.5
             },
             "pattern": {
              "fillmode": "overlay",
              "size": 10,
              "solidity": 0.2
             }
            },
            "type": "bar"
           }
          ],
          "barpolar": [
           {
            "marker": {
             "line": {
              "color": "#E5ECF6",
              "width": 0.5
             },
             "pattern": {
              "fillmode": "overlay",
              "size": 10,
              "solidity": 0.2
             }
            },
            "type": "barpolar"
           }
          ],
          "carpet": [
           {
            "aaxis": {
             "endlinecolor": "#2a3f5f",
             "gridcolor": "white",
             "linecolor": "white",
             "minorgridcolor": "white",
             "startlinecolor": "#2a3f5f"
            },
            "baxis": {
             "endlinecolor": "#2a3f5f",
             "gridcolor": "white",
             "linecolor": "white",
             "minorgridcolor": "white",
             "startlinecolor": "#2a3f5f"
            },
            "type": "carpet"
           }
          ],
          "choropleth": [
           {
            "colorbar": {
             "outlinewidth": 0,
             "ticks": ""
            },
            "type": "choropleth"
           }
          ],
          "contour": [
           {
            "colorbar": {
             "outlinewidth": 0,
             "ticks": ""
            },
            "colorscale": [
             [
              0,
              "#0d0887"
             ],
             [
              0.1111111111111111,
              "#46039f"
             ],
             [
              0.2222222222222222,
              "#7201a8"
             ],
             [
              0.3333333333333333,
              "#9c179e"
             ],
             [
              0.4444444444444444,
              "#bd3786"
             ],
             [
              0.5555555555555556,
              "#d8576b"
             ],
             [
              0.6666666666666666,
              "#ed7953"
             ],
             [
              0.7777777777777778,
              "#fb9f3a"
             ],
             [
              0.8888888888888888,
              "#fdca26"
             ],
             [
              1,
              "#f0f921"
             ]
            ],
            "type": "contour"
           }
          ],
          "contourcarpet": [
           {
            "colorbar": {
             "outlinewidth": 0,
             "ticks": ""
            },
            "type": "contourcarpet"
           }
          ],
          "heatmap": [
           {
            "colorbar": {
             "outlinewidth": 0,
             "ticks": ""
            },
            "colorscale": [
             [
              0,
              "#0d0887"
             ],
             [
              0.1111111111111111,
              "#46039f"
             ],
             [
              0.2222222222222222,
              "#7201a8"
             ],
             [
              0.3333333333333333,
              "#9c179e"
             ],
             [
              0.4444444444444444,
              "#bd3786"
             ],
             [
              0.5555555555555556,
              "#d8576b"
             ],
             [
              0.6666666666666666,
              "#ed7953"
             ],
             [
              0.7777777777777778,
              "#fb9f3a"
             ],
             [
              0.8888888888888888,
              "#fdca26"
             ],
             [
              1,
              "#f0f921"
             ]
            ],
            "type": "heatmap"
           }
          ],
          "heatmapgl": [
           {
            "colorbar": {
             "outlinewidth": 0,
             "ticks": ""
            },
            "colorscale": [
             [
              0,
              "#0d0887"
             ],
             [
              0.1111111111111111,
              "#46039f"
             ],
             [
              0.2222222222222222,
              "#7201a8"
             ],
             [
              0.3333333333333333,
              "#9c179e"
             ],
             [
              0.4444444444444444,
              "#bd3786"
             ],
             [
              0.5555555555555556,
              "#d8576b"
             ],
             [
              0.6666666666666666,
              "#ed7953"
             ],
             [
              0.7777777777777778,
              "#fb9f3a"
             ],
             [
              0.8888888888888888,
              "#fdca26"
             ],
             [
              1,
              "#f0f921"
             ]
            ],
            "type": "heatmapgl"
           }
          ],
          "histogram": [
           {
            "marker": {
             "pattern": {
              "fillmode": "overlay",
              "size": 10,
              "solidity": 0.2
             }
            },
            "type": "histogram"
           }
          ],
          "histogram2d": [
           {
            "colorbar": {
             "outlinewidth": 0,
             "ticks": ""
            },
            "colorscale": [
             [
              0,
              "#0d0887"
             ],
             [
              0.1111111111111111,
              "#46039f"
             ],
             [
              0.2222222222222222,
              "#7201a8"
             ],
             [
              0.3333333333333333,
              "#9c179e"
             ],
             [
              0.4444444444444444,
              "#bd3786"
             ],
             [
              0.5555555555555556,
              "#d8576b"
             ],
             [
              0.6666666666666666,
              "#ed7953"
             ],
             [
              0.7777777777777778,
              "#fb9f3a"
             ],
             [
              0.8888888888888888,
              "#fdca26"
             ],
             [
              1,
              "#f0f921"
             ]
            ],
            "type": "histogram2d"
           }
          ],
          "histogram2dcontour": [
           {
            "colorbar": {
             "outlinewidth": 0,
             "ticks": ""
            },
            "colorscale": [
             [
              0,
              "#0d0887"
             ],
             [
              0.1111111111111111,
              "#46039f"
             ],
             [
              0.2222222222222222,
              "#7201a8"
             ],
             [
              0.3333333333333333,
              "#9c179e"
             ],
             [
              0.4444444444444444,
              "#bd3786"
             ],
             [
              0.5555555555555556,
              "#d8576b"
             ],
             [
              0.6666666666666666,
              "#ed7953"
             ],
             [
              0.7777777777777778,
              "#fb9f3a"
             ],
             [
              0.8888888888888888,
              "#fdca26"
             ],
             [
              1,
              "#f0f921"
             ]
            ],
            "type": "histogram2dcontour"
           }
          ],
          "mesh3d": [
           {
            "colorbar": {
             "outlinewidth": 0,
             "ticks": ""
            },
            "type": "mesh3d"
           }
          ],
          "parcoords": [
           {
            "line": {
             "colorbar": {
              "outlinewidth": 0,
              "ticks": ""
             }
            },
            "type": "parcoords"
           }
          ],
          "pie": [
           {
            "automargin": true,
            "type": "pie"
           }
          ],
          "scatter": [
           {
            "marker": {
             "colorbar": {
              "outlinewidth": 0,
              "ticks": ""
             }
            },
            "type": "scatter"
           }
          ],
          "scatter3d": [
           {
            "line": {
             "colorbar": {
              "outlinewidth": 0,
              "ticks": ""
             }
            },
            "marker": {
             "colorbar": {
              "outlinewidth": 0,
              "ticks": ""
             }
            },
            "type": "scatter3d"
           }
          ],
          "scattercarpet": [
           {
            "marker": {
             "colorbar": {
              "outlinewidth": 0,
              "ticks": ""
             }
            },
            "type": "scattercarpet"
           }
          ],
          "scattergeo": [
           {
            "marker": {
             "colorbar": {
              "outlinewidth": 0,
              "ticks": ""
             }
            },
            "type": "scattergeo"
           }
          ],
          "scattergl": [
           {
            "marker": {
             "colorbar": {
              "outlinewidth": 0,
              "ticks": ""
             }
            },
            "type": "scattergl"
           }
          ],
          "scattermapbox": [
           {
            "marker": {
             "colorbar": {
              "outlinewidth": 0,
              "ticks": ""
             }
            },
            "type": "scattermapbox"
           }
          ],
          "scatterpolar": [
           {
            "marker": {
             "colorbar": {
              "outlinewidth": 0,
              "ticks": ""
             }
            },
            "type": "scatterpolar"
           }
          ],
          "scatterpolargl": [
           {
            "marker": {
             "colorbar": {
              "outlinewidth": 0,
              "ticks": ""
             }
            },
            "type": "scatterpolargl"
           }
          ],
          "scatterternary": [
           {
            "marker": {
             "colorbar": {
              "outlinewidth": 0,
              "ticks": ""
             }
            },
            "type": "scatterternary"
           }
          ],
          "surface": [
           {
            "colorbar": {
             "outlinewidth": 0,
             "ticks": ""
            },
            "colorscale": [
             [
              0,
              "#0d0887"
             ],
             [
              0.1111111111111111,
              "#46039f"
             ],
             [
              0.2222222222222222,
              "#7201a8"
             ],
             [
              0.3333333333333333,
              "#9c179e"
             ],
             [
              0.4444444444444444,
              "#bd3786"
             ],
             [
              0.5555555555555556,
              "#d8576b"
             ],
             [
              0.6666666666666666,
              "#ed7953"
             ],
             [
              0.7777777777777778,
              "#fb9f3a"
             ],
             [
              0.8888888888888888,
              "#fdca26"
             ],
             [
              1,
              "#f0f921"
             ]
            ],
            "type": "surface"
           }
          ],
          "table": [
           {
            "cells": {
             "fill": {
              "color": "#EBF0F8"
             },
             "line": {
              "color": "white"
             }
            },
            "header": {
             "fill": {
              "color": "#C8D4E3"
             },
             "line": {
              "color": "white"
             }
            },
            "type": "table"
           }
          ]
         },
         "layout": {
          "annotationdefaults": {
           "arrowcolor": "#2a3f5f",
           "arrowhead": 0,
           "arrowwidth": 1
          },
          "autotypenumbers": "strict",
          "coloraxis": {
           "colorbar": {
            "outlinewidth": 0,
            "ticks": ""
           }
          },
          "colorscale": {
           "diverging": [
            [
             0,
             "#8e0152"
            ],
            [
             0.1,
             "#c51b7d"
            ],
            [
             0.2,
             "#de77ae"
            ],
            [
             0.3,
             "#f1b6da"
            ],
            [
             0.4,
             "#fde0ef"
            ],
            [
             0.5,
             "#f7f7f7"
            ],
            [
             0.6,
             "#e6f5d0"
            ],
            [
             0.7,
             "#b8e186"
            ],
            [
             0.8,
             "#7fbc41"
            ],
            [
             0.9,
             "#4d9221"
            ],
            [
             1,
             "#276419"
            ]
           ],
           "sequential": [
            [
             0,
             "#0d0887"
            ],
            [
             0.1111111111111111,
             "#46039f"
            ],
            [
             0.2222222222222222,
             "#7201a8"
            ],
            [
             0.3333333333333333,
             "#9c179e"
            ],
            [
             0.4444444444444444,
             "#bd3786"
            ],
            [
             0.5555555555555556,
             "#d8576b"
            ],
            [
             0.6666666666666666,
             "#ed7953"
            ],
            [
             0.7777777777777778,
             "#fb9f3a"
            ],
            [
             0.8888888888888888,
             "#fdca26"
            ],
            [
             1,
             "#f0f921"
            ]
           ],
           "sequentialminus": [
            [
             0,
             "#0d0887"
            ],
            [
             0.1111111111111111,
             "#46039f"
            ],
            [
             0.2222222222222222,
             "#7201a8"
            ],
            [
             0.3333333333333333,
             "#9c179e"
            ],
            [
             0.4444444444444444,
             "#bd3786"
            ],
            [
             0.5555555555555556,
             "#d8576b"
            ],
            [
             0.6666666666666666,
             "#ed7953"
            ],
            [
             0.7777777777777778,
             "#fb9f3a"
            ],
            [
             0.8888888888888888,
             "#fdca26"
            ],
            [
             1,
             "#f0f921"
            ]
           ]
          },
          "colorway": [
           "#636efa",
           "#EF553B",
           "#00cc96",
           "#ab63fa",
           "#FFA15A",
           "#19d3f3",
           "#FF6692",
           "#B6E880",
           "#FF97FF",
           "#FECB52"
          ],
          "font": {
           "color": "#2a3f5f"
          },
          "geo": {
           "bgcolor": "white",
           "lakecolor": "white",
           "landcolor": "#E5ECF6",
           "showlakes": true,
           "showland": true,
           "subunitcolor": "white"
          },
          "hoverlabel": {
           "align": "left"
          },
          "hovermode": "closest",
          "mapbox": {
           "style": "light"
          },
          "paper_bgcolor": "white",
          "plot_bgcolor": "#E5ECF6",
          "polar": {
           "angularaxis": {
            "gridcolor": "white",
            "linecolor": "white",
            "ticks": ""
           },
           "bgcolor": "#E5ECF6",
           "radialaxis": {
            "gridcolor": "white",
            "linecolor": "white",
            "ticks": ""
           }
          },
          "scene": {
           "xaxis": {
            "backgroundcolor": "#E5ECF6",
            "gridcolor": "white",
            "gridwidth": 2,
            "linecolor": "white",
            "showbackground": true,
            "ticks": "",
            "zerolinecolor": "white"
           },
           "yaxis": {
            "backgroundcolor": "#E5ECF6",
            "gridcolor": "white",
            "gridwidth": 2,
            "linecolor": "white",
            "showbackground": true,
            "ticks": "",
            "zerolinecolor": "white"
           },
           "zaxis": {
            "backgroundcolor": "#E5ECF6",
            "gridcolor": "white",
            "gridwidth": 2,
            "linecolor": "white",
            "showbackground": true,
            "ticks": "",
            "zerolinecolor": "white"
           }
          },
          "shapedefaults": {
           "line": {
            "color": "#2a3f5f"
           }
          },
          "ternary": {
           "aaxis": {
            "gridcolor": "white",
            "linecolor": "white",
            "ticks": ""
           },
           "baxis": {
            "gridcolor": "white",
            "linecolor": "white",
            "ticks": ""
           },
           "bgcolor": "#E5ECF6",
           "caxis": {
            "gridcolor": "white",
            "linecolor": "white",
            "ticks": ""
           }
          },
          "title": {
           "x": 0.05
          },
          "xaxis": {
           "automargin": true,
           "gridcolor": "white",
           "linecolor": "white",
           "ticks": "",
           "title": {
            "standoff": 15
           },
           "zerolinecolor": "white",
           "zerolinewidth": 2
          },
          "yaxis": {
           "automargin": true,
           "gridcolor": "white",
           "linecolor": "white",
           "ticks": "",
           "title": {
            "standoff": 15
           },
           "zerolinecolor": "white",
           "zerolinewidth": 2
          }
         }
        },
        "title": {
         "font": {
          "color": "#4D5663"
         }
        },
        "xaxis": {
         "anchor": "y2",
         "gridcolor": "#E1E5ED",
         "rangeselector": {
          "bgcolor": "rgba(150, 200, 250, 1)",
          "buttons": [
           {
            "count": 1,
            "label": "1m",
            "step": "month",
            "stepmode": "backward"
           },
           {
            "count": 1,
            "label": "1y",
            "step": "year",
            "stepmode": "backward"
           }
          ],
          "font": {
           "size": 13
          },
          "visible": false,
          "x": 0,
          "y": 0.9
         },
         "rangeslider": {
          "visible": false
         },
         "showgrid": true,
         "tickfont": {
          "color": "#4D5663"
         },
         "title": {
          "font": {
           "color": "#4D5663"
          },
          "text": ""
         },
         "zerolinecolor": "#E1E5ED"
        },
        "yaxis": {
         "gridcolor": "#E1E5ED",
         "showgrid": true,
         "showticklabels": false,
         "tickfont": {
          "color": "#4D5663"
         },
         "title": {
          "font": {
           "color": "#4D5663"
          },
          "text": ""
         },
         "zerolinecolor": "#E1E5ED"
        },
        "yaxis2": {
         "domain": [
          0,
          0.9
         ],
         "gridcolor": "#E1E5ED",
         "showgrid": true,
         "tickfont": {
          "color": "#4D5663"
         },
         "title": {
          "font": {
           "color": "#4D5663"
          },
          "text": ""
         },
         "zerolinecolor": "#E1E5ED"
        }
       }
      },
      "text/html": [
       "<div>                            <div id=\"210d7b54-5896-46d2-980c-b2813fc0d895\" class=\"plotly-graph-div\" style=\"height:525px; width:100%;\"></div>            <script type=\"text/javascript\">                require([\"plotly\"], function(Plotly) {                    window.PLOTLYENV=window.PLOTLYENV || {};                                    if (document.getElementById(\"210d7b54-5896-46d2-980c-b2813fc0d895\")) {                    Plotly.newPlot(                        \"210d7b54-5896-46d2-980c-b2813fc0d895\",                        [{\"line\":{\"color\":\"rgba(55, 128, 191, 1.0)\",\"dash\":\"solid\",\"shape\":\"linear\",\"width\":1.3},\"mode\":\"lines\",\"name\":\" EMA(20)\",\"text\":\"\",\"x\":[3179,3180,3181,3182,3183,3184,3185,3186,3187,3188,3189,3190,3191,3192,3193,3194,3195,3196,3197,3198,3199,3200,3201,3202,3203,3204,3205,3206,3207,3208,3209,3210,3211,3212,3213,3214,3215,3216,3217,3218,3219,3220,3221,3222,3223,3224,3225,3226,3227,3228,3229,3230,3231,3232,3233,3234,3235,3236,3237,3238],\"y\":[\"\",\"\",\"\",\"\",\"\",\"\",\"\",\"\",\"\",\"\",\"\",\"\",\"\",\"\",\"\",\"\",\"\",\"\",\"\",-0.036783209312203836,-0.03675868754823729,-0.036735215284427705,-0.03671512150181212,-0.03669935605836821,-0.03668709238384973,-0.03669097033855494,-0.03670332313950528,-0.036710498886979755,-0.03672284924585937,-0.036730880054464676,-0.03672671574917662,-0.03671894744814968,-0.03670220325158399,-0.03668891116008953,-0.03666745500521341,-0.03664518472491417,-0.036624463909942125,-0.036605430749045334,-0.03657506545391335,-0.036555450405698846,-0.036538846484812156,-0.03653511128626555,-0.03652715971092242,-0.0365136787772309,-0.0364961952398086,-0.03648366300524476,-0.036468037963712896,-0.03645290087231391,-0.036434633298675786,-0.036414390654587535,-0.03640293404635198,-0.03638485310805213,-0.03636863704231331,-0.036352393700978154,-0.036334268262038484,-0.036320012231937274,-0.03630668528367685,-0.036296627866705344,-0.03629667251895208,-0.03630614289546121],\"yaxis\":\"y2\",\"type\":\"scatter\"},{\"close\":[-0.03724883856138729,-0.03717547762779041,-0.03699275039441414,-0.037021254642641964,-0.03703475665496041,-0.037001751735959765,-0.03691803925958541,-0.0369135385888126,-0.03685202942158412,-0.03672931113184538,-0.03678016871157819,-0.03679367072389663,-0.03673081135543632,-0.03666645176338507,-0.036684454446476326,-0.03652123011978225,-0.03651672944900943,-0.03662159507801602,-0.036585589711833504,-0.036543733473646325,-0.036525730790555065,-0.03651222877823662,-0.036524230566964126,-0.03654958434565098,-0.03657058747592412,-0.036727810908254444,-0.036820674748533525,-0.03677866848798725,-0.03684017765521572,-0.036807172736215074,-0.036687154848940015,-0.036645148588393746,-0.03654313338420995,-0.036562636290892146,-0.03646362153389022,-0.036433617062071454,-0.036427616167707705,-0.03642461572052583,-0.03628659515015951,-0.036369107447661114,-0.03638110923638862,-0.03649962690007274,-0.036451619745162714,-0.036385609907161436,-0.03633010163429672,-0.036364606776888304,-0.03631960006916015,-0.036309098504023585,-0.03626109134911357,-0.03622208553574917,-0.0362940962681142,-0.036213084194203535,-0.03621458441779448,-0.03619808195829416,-0.03616207659211164,-0.03618457994597571,-0.0361800792752029,-0.03620108240547603,-0.03629709671529608,-0.036396111472298],\"decreasing\":{\"line\":{\"color\":\"#808080\"}},\"high\":[-0.03732512591468666,-0.037283502125026034,-0.03713162750898831,-0.03708015723145097,-0.037112232911655406,-0.037113724803757936,-0.03704897668650806,-0.03704077127994414,-0.03699601451686819,-0.036862042606060845,-0.036809975571682495,-0.03691425882964946,-0.03686502639026591,-0.03680027827301604,-0.036735530155766166,-0.036647657710927053,-0.03662527932938908,-0.03665511717143971,-0.03670718420581807,-0.0366685442003625,-0.03664318203461946,-0.03662095284229174,-0.03663423068200427,-0.036667052308259965,-0.036647657710927053,-0.03670270852951047,-0.03685159936134313,-0.03688740477180389,-0.03689337234021401,-0.036944693428541106,-0.03680669340905693,-0.03670076906977718,-0.036687342040854394,-0.03666943933562402,-0.036611255543625286,-0.03655307175162655,-0.03653964472270377,-0.03652323390957592,-0.03642924470711643,-0.03639642308086073,-0.03646355822547465,-0.036566498780549336,-0.03658067175552339,-0.036522487963524655,-0.03643968795183415,-0.03641730957029617,-0.036436704167629085,-0.03629199063368352,-0.0363949311887582,-0.036368077130912634,-0.03638001226773288,-0.036344206857272125,-0.03630392577050377,-0.03631287712311896,-0.03626961225214554,-0.03630243387840124,-0.036274087928453144,-0.036320336583631624,-0.036372552807220224,-0.036432228491321494],\"increasing\":{\"line\":{\"color\":\"#17BECF\"}},\"low\":[-0.037242178751826095,-0.037139664571822356,-0.0370055959534964,-0.036892664279501115,-0.03693025784477495,-0.03688209580733578,-0.036836953333372426,-0.036829253446509114,-0.036773542500380424,-0.03669669460992106,-0.03665004235421981,-0.03671028264556221,-0.036674198862026275,-0.036607919443732255,-0.03655658686464349,-0.0364691705020188,-0.036396851956773155,-0.0364691705020188,-0.036506915045466416,-0.03643761606369659,-0.036425537809793344,-0.03638039533582999,-0.036414969337628014,-0.036436106281958675,-0.036424028028055444,-0.03661531737424799,-0.03669518482818316,-0.036674198862026275,-0.03668627711592952,-0.03672387068120335,-0.036618336937723796,-0.03650208374390512,-0.03648849570826398,-0.0364326337839615,-0.03641149683963083,-0.03635714469706626,-0.036326949062308156,-0.036308831681453296,-0.0362786360466952,-0.036225793685868535,-0.03624391106672339,-0.03636167404227997,-0.03634959578837673,-0.03635110557011464,-0.036198617614586245,-0.036219754558916906,-0.036227303467606435,-0.03620465674153786,-0.03617899045199348,-0.036147285035497474,-0.03619408826937253,-0.03612765787290471,-0.036082364420767565,-0.03608689376598128,-0.03605669813122318,-0.03602499271472718,-0.03605216878600946,-0.036092781914759106,-0.03622277412239272,-0.036254479538888724],\"name\":\"Trace 1\",\"open\":[-0.03732390805472356,-0.03727455483892942,-0.03715769722463266,-0.037030488935898824,-0.03700798746973129,-0.03697963562236019,-0.036973635231382175,-0.03698263581784919,-0.036928632299047096,-0.03683892645392583,-0.03670406766669504,-0.036835926258436825,-0.03675507099000813,-0.036711568155417554,-0.03666671523285692,-0.03661436182157377,-0.03649900430502152,-0.03655285781404916,-0.03664271366894488,-0.036587360062172725,-0.036526006064422564,-0.03650200450051052,-0.036493003914043504,-0.03655735810728267,-0.03656185840051618,-0.03656935888923869,-0.036741570110307605,-0.03679842381482426,-0.03680142401031326,-0.03683892645392583,-0.03677592234865672,-0.036660414822330005,-0.036646913942629485,-0.0365419071005143,-0.036567408762170836,-0.03644590084486612,-0.03641739898772057,-0.03641739898772057,-0.03642189928095407,-0.03627488970199281,-0.03633939390500643,-0.03641739898772057,-0.03646240192005565,-0.03645340133358863,-0.03633939390500643,-0.036301891461393856,-0.0363228928298169,-0.036234387062891234,-0.03628989067943784,-0.03624938804033626,-0.036234387062891234,-0.03628839058169333,-0.036189384130556154,-0.036207385303490186,-0.036205885205745685,-0.03618638393506715,-0.03617138295762212,-0.03620438510800118,-0.036231386867402224,-0.036316892438838885],\"showlegend\":true,\"x\":[3179,3180,3181,3182,3183,3184,3185,3186,3187,3188,3189,3190,3191,3192,3193,3194,3195,3196,3197,3198,3199,3200,3201,3202,3203,3204,3205,3206,3207,3208,3209,3210,3211,3212,3213,3214,3215,3216,3217,3218,3219,3220,3221,3222,3223,3224,3225,3226,3227,3228,3229,3230,3231,3232,3233,3234,3235,3236,3237,3238],\"yaxis\":\"y2\",\"type\":\"candlestick\"}],                        {\"legend\":{\"bgcolor\":\"#F5F6F9\",\"font\":{\"color\":\"#4D5663\"}},\"margin\":{\"b\":30,\"l\":30,\"r\":30,\"t\":30},\"paper_bgcolor\":\"#F5F6F9\",\"plot_bgcolor\":\"#F5F6F9\",\"showlegend\":true,\"template\":{\"data\":{\"barpolar\":[{\"marker\":{\"line\":{\"color\":\"#E5ECF6\",\"width\":0.5},\"pattern\":{\"fillmode\":\"overlay\",\"size\":10,\"solidity\":0.2}},\"type\":\"barpolar\"}],\"bar\":[{\"error_x\":{\"color\":\"#2a3f5f\"},\"error_y\":{\"color\":\"#2a3f5f\"},\"marker\":{\"line\":{\"color\":\"#E5ECF6\",\"width\":0.5},\"pattern\":{\"fillmode\":\"overlay\",\"size\":10,\"solidity\":0.2}},\"type\":\"bar\"}],\"carpet\":[{\"aaxis\":{\"endlinecolor\":\"#2a3f5f\",\"gridcolor\":\"white\",\"linecolor\":\"white\",\"minorgridcolor\":\"white\",\"startlinecolor\":\"#2a3f5f\"},\"baxis\":{\"endlinecolor\":\"#2a3f5f\",\"gridcolor\":\"white\",\"linecolor\":\"white\",\"minorgridcolor\":\"white\",\"startlinecolor\":\"#2a3f5f\"},\"type\":\"carpet\"}],\"choropleth\":[{\"colorbar\":{\"outlinewidth\":0,\"ticks\":\"\"},\"type\":\"choropleth\"}],\"contourcarpet\":[{\"colorbar\":{\"outlinewidth\":0,\"ticks\":\"\"},\"type\":\"contourcarpet\"}],\"contour\":[{\"colorbar\":{\"outlinewidth\":0,\"ticks\":\"\"},\"colorscale\":[[0.0,\"#0d0887\"],[0.1111111111111111,\"#46039f\"],[0.2222222222222222,\"#7201a8\"],[0.3333333333333333,\"#9c179e\"],[0.4444444444444444,\"#bd3786\"],[0.5555555555555556,\"#d8576b\"],[0.6666666666666666,\"#ed7953\"],[0.7777777777777778,\"#fb9f3a\"],[0.8888888888888888,\"#fdca26\"],[1.0,\"#f0f921\"]],\"type\":\"contour\"}],\"heatmapgl\":[{\"colorbar\":{\"outlinewidth\":0,\"ticks\":\"\"},\"colorscale\":[[0.0,\"#0d0887\"],[0.1111111111111111,\"#46039f\"],[0.2222222222222222,\"#7201a8\"],[0.3333333333333333,\"#9c179e\"],[0.4444444444444444,\"#bd3786\"],[0.5555555555555556,\"#d8576b\"],[0.6666666666666666,\"#ed7953\"],[0.7777777777777778,\"#fb9f3a\"],[0.8888888888888888,\"#fdca26\"],[1.0,\"#f0f921\"]],\"type\":\"heatmapgl\"}],\"heatmap\":[{\"colorbar\":{\"outlinewidth\":0,\"ticks\":\"\"},\"colorscale\":[[0.0,\"#0d0887\"],[0.1111111111111111,\"#46039f\"],[0.2222222222222222,\"#7201a8\"],[0.3333333333333333,\"#9c179e\"],[0.4444444444444444,\"#bd3786\"],[0.5555555555555556,\"#d8576b\"],[0.6666666666666666,\"#ed7953\"],[0.7777777777777778,\"#fb9f3a\"],[0.8888888888888888,\"#fdca26\"],[1.0,\"#f0f921\"]],\"type\":\"heatmap\"}],\"histogram2dcontour\":[{\"colorbar\":{\"outlinewidth\":0,\"ticks\":\"\"},\"colorscale\":[[0.0,\"#0d0887\"],[0.1111111111111111,\"#46039f\"],[0.2222222222222222,\"#7201a8\"],[0.3333333333333333,\"#9c179e\"],[0.4444444444444444,\"#bd3786\"],[0.5555555555555556,\"#d8576b\"],[0.6666666666666666,\"#ed7953\"],[0.7777777777777778,\"#fb9f3a\"],[0.8888888888888888,\"#fdca26\"],[1.0,\"#f0f921\"]],\"type\":\"histogram2dcontour\"}],\"histogram2d\":[{\"colorbar\":{\"outlinewidth\":0,\"ticks\":\"\"},\"colorscale\":[[0.0,\"#0d0887\"],[0.1111111111111111,\"#46039f\"],[0.2222222222222222,\"#7201a8\"],[0.3333333333333333,\"#9c179e\"],[0.4444444444444444,\"#bd3786\"],[0.5555555555555556,\"#d8576b\"],[0.6666666666666666,\"#ed7953\"],[0.7777777777777778,\"#fb9f3a\"],[0.8888888888888888,\"#fdca26\"],[1.0,\"#f0f921\"]],\"type\":\"histogram2d\"}],\"histogram\":[{\"marker\":{\"pattern\":{\"fillmode\":\"overlay\",\"size\":10,\"solidity\":0.2}},\"type\":\"histogram\"}],\"mesh3d\":[{\"colorbar\":{\"outlinewidth\":0,\"ticks\":\"\"},\"type\":\"mesh3d\"}],\"parcoords\":[{\"line\":{\"colorbar\":{\"outlinewidth\":0,\"ticks\":\"\"}},\"type\":\"parcoords\"}],\"pie\":[{\"automargin\":true,\"type\":\"pie\"}],\"scatter3d\":[{\"line\":{\"colorbar\":{\"outlinewidth\":0,\"ticks\":\"\"}},\"marker\":{\"colorbar\":{\"outlinewidth\":0,\"ticks\":\"\"}},\"type\":\"scatter3d\"}],\"scattercarpet\":[{\"marker\":{\"colorbar\":{\"outlinewidth\":0,\"ticks\":\"\"}},\"type\":\"scattercarpet\"}],\"scattergeo\":[{\"marker\":{\"colorbar\":{\"outlinewidth\":0,\"ticks\":\"\"}},\"type\":\"scattergeo\"}],\"scattergl\":[{\"marker\":{\"colorbar\":{\"outlinewidth\":0,\"ticks\":\"\"}},\"type\":\"scattergl\"}],\"scattermapbox\":[{\"marker\":{\"colorbar\":{\"outlinewidth\":0,\"ticks\":\"\"}},\"type\":\"scattermapbox\"}],\"scatterpolargl\":[{\"marker\":{\"colorbar\":{\"outlinewidth\":0,\"ticks\":\"\"}},\"type\":\"scatterpolargl\"}],\"scatterpolar\":[{\"marker\":{\"colorbar\":{\"outlinewidth\":0,\"ticks\":\"\"}},\"type\":\"scatterpolar\"}],\"scatter\":[{\"marker\":{\"colorbar\":{\"outlinewidth\":0,\"ticks\":\"\"}},\"type\":\"scatter\"}],\"scatterternary\":[{\"marker\":{\"colorbar\":{\"outlinewidth\":0,\"ticks\":\"\"}},\"type\":\"scatterternary\"}],\"surface\":[{\"colorbar\":{\"outlinewidth\":0,\"ticks\":\"\"},\"colorscale\":[[0.0,\"#0d0887\"],[0.1111111111111111,\"#46039f\"],[0.2222222222222222,\"#7201a8\"],[0.3333333333333333,\"#9c179e\"],[0.4444444444444444,\"#bd3786\"],[0.5555555555555556,\"#d8576b\"],[0.6666666666666666,\"#ed7953\"],[0.7777777777777778,\"#fb9f3a\"],[0.8888888888888888,\"#fdca26\"],[1.0,\"#f0f921\"]],\"type\":\"surface\"}],\"table\":[{\"cells\":{\"fill\":{\"color\":\"#EBF0F8\"},\"line\":{\"color\":\"white\"}},\"header\":{\"fill\":{\"color\":\"#C8D4E3\"},\"line\":{\"color\":\"white\"}},\"type\":\"table\"}]},\"layout\":{\"annotationdefaults\":{\"arrowcolor\":\"#2a3f5f\",\"arrowhead\":0,\"arrowwidth\":1},\"autotypenumbers\":\"strict\",\"coloraxis\":{\"colorbar\":{\"outlinewidth\":0,\"ticks\":\"\"}},\"colorscale\":{\"diverging\":[[0,\"#8e0152\"],[0.1,\"#c51b7d\"],[0.2,\"#de77ae\"],[0.3,\"#f1b6da\"],[0.4,\"#fde0ef\"],[0.5,\"#f7f7f7\"],[0.6,\"#e6f5d0\"],[0.7,\"#b8e186\"],[0.8,\"#7fbc41\"],[0.9,\"#4d9221\"],[1,\"#276419\"]],\"sequential\":[[0.0,\"#0d0887\"],[0.1111111111111111,\"#46039f\"],[0.2222222222222222,\"#7201a8\"],[0.3333333333333333,\"#9c179e\"],[0.4444444444444444,\"#bd3786\"],[0.5555555555555556,\"#d8576b\"],[0.6666666666666666,\"#ed7953\"],[0.7777777777777778,\"#fb9f3a\"],[0.8888888888888888,\"#fdca26\"],[1.0,\"#f0f921\"]],\"sequentialminus\":[[0.0,\"#0d0887\"],[0.1111111111111111,\"#46039f\"],[0.2222222222222222,\"#7201a8\"],[0.3333333333333333,\"#9c179e\"],[0.4444444444444444,\"#bd3786\"],[0.5555555555555556,\"#d8576b\"],[0.6666666666666666,\"#ed7953\"],[0.7777777777777778,\"#fb9f3a\"],[0.8888888888888888,\"#fdca26\"],[1.0,\"#f0f921\"]]},\"colorway\":[\"#636efa\",\"#EF553B\",\"#00cc96\",\"#ab63fa\",\"#FFA15A\",\"#19d3f3\",\"#FF6692\",\"#B6E880\",\"#FF97FF\",\"#FECB52\"],\"font\":{\"color\":\"#2a3f5f\"},\"geo\":{\"bgcolor\":\"white\",\"lakecolor\":\"white\",\"landcolor\":\"#E5ECF6\",\"showlakes\":true,\"showland\":true,\"subunitcolor\":\"white\"},\"hoverlabel\":{\"align\":\"left\"},\"hovermode\":\"closest\",\"mapbox\":{\"style\":\"light\"},\"paper_bgcolor\":\"white\",\"plot_bgcolor\":\"#E5ECF6\",\"polar\":{\"angularaxis\":{\"gridcolor\":\"white\",\"linecolor\":\"white\",\"ticks\":\"\"},\"bgcolor\":\"#E5ECF6\",\"radialaxis\":{\"gridcolor\":\"white\",\"linecolor\":\"white\",\"ticks\":\"\"}},\"scene\":{\"xaxis\":{\"backgroundcolor\":\"#E5ECF6\",\"gridcolor\":\"white\",\"gridwidth\":2,\"linecolor\":\"white\",\"showbackground\":true,\"ticks\":\"\",\"zerolinecolor\":\"white\"},\"yaxis\":{\"backgroundcolor\":\"#E5ECF6\",\"gridcolor\":\"white\",\"gridwidth\":2,\"linecolor\":\"white\",\"showbackground\":true,\"ticks\":\"\",\"zerolinecolor\":\"white\"},\"zaxis\":{\"backgroundcolor\":\"#E5ECF6\",\"gridcolor\":\"white\",\"gridwidth\":2,\"linecolor\":\"white\",\"showbackground\":true,\"ticks\":\"\",\"zerolinecolor\":\"white\"}},\"shapedefaults\":{\"line\":{\"color\":\"#2a3f5f\"}},\"ternary\":{\"aaxis\":{\"gridcolor\":\"white\",\"linecolor\":\"white\",\"ticks\":\"\"},\"baxis\":{\"gridcolor\":\"white\",\"linecolor\":\"white\",\"ticks\":\"\"},\"bgcolor\":\"#E5ECF6\",\"caxis\":{\"gridcolor\":\"white\",\"linecolor\":\"white\",\"ticks\":\"\"}},\"title\":{\"x\":0.05},\"xaxis\":{\"automargin\":true,\"gridcolor\":\"white\",\"linecolor\":\"white\",\"ticks\":\"\",\"title\":{\"standoff\":15},\"zerolinecolor\":\"white\",\"zerolinewidth\":2},\"yaxis\":{\"automargin\":true,\"gridcolor\":\"white\",\"linecolor\":\"white\",\"ticks\":\"\",\"title\":{\"standoff\":15},\"zerolinecolor\":\"white\",\"zerolinewidth\":2}}},\"title\":{\"font\":{\"color\":\"#4D5663\"}},\"xaxis\":{\"anchor\":\"y2\",\"gridcolor\":\"#E1E5ED\",\"rangeselector\":{\"bgcolor\":\"rgba(150, 200, 250, 1)\",\"buttons\":[{\"count\":1,\"label\":\"1m\",\"step\":\"month\",\"stepmode\":\"backward\"},{\"count\":1,\"label\":\"1y\",\"step\":\"year\",\"stepmode\":\"backward\"}],\"font\":{\"size\":13},\"visible\":false,\"x\":0,\"y\":0.9},\"rangeslider\":{\"visible\":false},\"showgrid\":true,\"tickfont\":{\"color\":\"#4D5663\"},\"title\":{\"font\":{\"color\":\"#4D5663\"},\"text\":\"\"},\"zerolinecolor\":\"#E1E5ED\"},\"yaxis\":{\"gridcolor\":\"#E1E5ED\",\"showgrid\":true,\"showticklabels\":false,\"tickfont\":{\"color\":\"#4D5663\"},\"title\":{\"font\":{\"color\":\"#4D5663\"},\"text\":\"\"},\"zerolinecolor\":\"#E1E5ED\"},\"yaxis2\":{\"domain\":[0.0,0.9],\"gridcolor\":\"#E1E5ED\",\"showgrid\":true,\"tickfont\":{\"color\":\"#4D5663\"},\"title\":{\"font\":{\"color\":\"#4D5663\"},\"text\":\"\"},\"zerolinecolor\":\"#E1E5ED\"}},                        {\"responsive\": true}                    ).then(function(){\n",
       "                            \n",
       "var gd = document.getElementById('210d7b54-5896-46d2-980c-b2813fc0d895');\n",
       "var x = new MutationObserver(function (mutations, observer) {{\n",
       "        var display = window.getComputedStyle(gd).display;\n",
       "        if (!display || display === 'none') {{\n",
       "            console.log([gd, 'removed!']);\n",
       "            Plotly.purge(gd);\n",
       "            observer.disconnect();\n",
       "        }}\n",
       "}});\n",
       "\n",
       "// Listen for the removal of the full notebook cells\n",
       "var notebookContainer = gd.closest('#notebook-container');\n",
       "if (notebookContainer) {{\n",
       "    x.observe(notebookContainer, {childList: true});\n",
       "}}\n",
       "\n",
       "// Listen for the clearing of the current output cell\n",
       "var outputEl = gd.closest('.output');\n",
       "if (outputEl) {{\n",
       "    x.observe(outputEl, {childList: true});\n",
       "}}\n",
       "\n",
       "                        }).then(function(){\n",
       "                            function downloadimage(format, height, width, filename) {var p = document.getElementById('210d7b54-5896-46d2-980c-b2813fc0d895');Plotly.downloadImage(p, {format: format, height: height, width: width, filename: filename});};if(document.readyState == 'complete') {downloadimage('png', 600, 800, 'qf_04');}\n",
       "                        })                };                });            </script>        </div>"
      ]
     },
     "metadata": {},
     "output_type": "display_data"
    }
   ],
   "source": [
    "qf=cf.QuantFig(tickers.get_group('a')[-60:])\n",
    "qf.add_ema()\n",
    "plyo.iplot(qf.iplot(asFigure=True),image='png',filename='qf_04')"
   ]
  },
  {
   "cell_type": "code",
   "execution_count": 22,
   "metadata": {},
   "outputs": [
    {
     "data": {
      "application/vnd.plotly.v1+json": {
       "config": {
        "linkText": "Export to plot.ly",
        "plotlyServerURL": "https://plot.ly",
        "showLink": false
       },
       "data": [
        {
         "close": [
          -0.03724883856138729,
          -0.03717547762779041,
          -0.03699275039441414,
          -0.037021254642641964,
          -0.03703475665496041,
          -0.037001751735959765,
          -0.03691803925958541,
          -0.0369135385888126,
          -0.03685202942158412,
          -0.03672931113184538,
          -0.03678016871157819,
          -0.03679367072389663,
          -0.03673081135543632,
          -0.03666645176338507,
          -0.036684454446476326,
          -0.03652123011978225,
          -0.03651672944900943,
          -0.03662159507801602,
          -0.036585589711833504,
          -0.036543733473646325,
          -0.036525730790555065,
          -0.03651222877823662,
          -0.036524230566964126,
          -0.03654958434565098,
          -0.03657058747592412,
          -0.036727810908254444,
          -0.036820674748533525,
          -0.03677866848798725,
          -0.03684017765521572,
          -0.036807172736215074,
          -0.036687154848940015,
          -0.036645148588393746,
          -0.03654313338420995,
          -0.036562636290892146,
          -0.03646362153389022,
          -0.036433617062071454,
          -0.036427616167707705,
          -0.03642461572052583,
          -0.03628659515015951,
          -0.036369107447661114,
          -0.03638110923638862,
          -0.03649962690007274,
          -0.036451619745162714,
          -0.036385609907161436,
          -0.03633010163429672,
          -0.036364606776888304,
          -0.03631960006916015,
          -0.036309098504023585,
          -0.03626109134911357,
          -0.03622208553574917,
          -0.0362940962681142,
          -0.036213084194203535,
          -0.03621458441779448,
          -0.03619808195829416,
          -0.03616207659211164,
          -0.03618457994597571,
          -0.0361800792752029,
          -0.03620108240547603,
          -0.03629709671529608,
          -0.036396111472298
         ],
         "decreasing": {
          "line": {
           "color": "#808080"
          }
         },
         "high": [
          -0.03732512591468666,
          -0.037283502125026034,
          -0.03713162750898831,
          -0.03708015723145097,
          -0.037112232911655406,
          -0.037113724803757936,
          -0.03704897668650806,
          -0.03704077127994414,
          -0.03699601451686819,
          -0.036862042606060845,
          -0.036809975571682495,
          -0.03691425882964946,
          -0.03686502639026591,
          -0.03680027827301604,
          -0.036735530155766166,
          -0.036647657710927053,
          -0.03662527932938908,
          -0.03665511717143971,
          -0.03670718420581807,
          -0.0366685442003625,
          -0.03664318203461946,
          -0.03662095284229174,
          -0.03663423068200427,
          -0.036667052308259965,
          -0.036647657710927053,
          -0.03670270852951047,
          -0.03685159936134313,
          -0.03688740477180389,
          -0.03689337234021401,
          -0.036944693428541106,
          -0.03680669340905693,
          -0.03670076906977718,
          -0.036687342040854394,
          -0.03666943933562402,
          -0.036611255543625286,
          -0.03655307175162655,
          -0.03653964472270377,
          -0.03652323390957592,
          -0.03642924470711643,
          -0.03639642308086073,
          -0.03646355822547465,
          -0.036566498780549336,
          -0.03658067175552339,
          -0.036522487963524655,
          -0.03643968795183415,
          -0.03641730957029617,
          -0.036436704167629085,
          -0.03629199063368352,
          -0.0363949311887582,
          -0.036368077130912634,
          -0.03638001226773288,
          -0.036344206857272125,
          -0.03630392577050377,
          -0.03631287712311896,
          -0.03626961225214554,
          -0.03630243387840124,
          -0.036274087928453144,
          -0.036320336583631624,
          -0.036372552807220224,
          -0.036432228491321494
         ],
         "increasing": {
          "line": {
           "color": "#17BECF"
          }
         },
         "low": [
          -0.037242178751826095,
          -0.037139664571822356,
          -0.0370055959534964,
          -0.036892664279501115,
          -0.03693025784477495,
          -0.03688209580733578,
          -0.036836953333372426,
          -0.036829253446509114,
          -0.036773542500380424,
          -0.03669669460992106,
          -0.03665004235421981,
          -0.03671028264556221,
          -0.036674198862026275,
          -0.036607919443732255,
          -0.03655658686464349,
          -0.0364691705020188,
          -0.036396851956773155,
          -0.0364691705020188,
          -0.036506915045466416,
          -0.03643761606369659,
          -0.036425537809793344,
          -0.03638039533582999,
          -0.036414969337628014,
          -0.036436106281958675,
          -0.036424028028055444,
          -0.03661531737424799,
          -0.03669518482818316,
          -0.036674198862026275,
          -0.03668627711592952,
          -0.03672387068120335,
          -0.036618336937723796,
          -0.03650208374390512,
          -0.03648849570826398,
          -0.0364326337839615,
          -0.03641149683963083,
          -0.03635714469706626,
          -0.036326949062308156,
          -0.036308831681453296,
          -0.0362786360466952,
          -0.036225793685868535,
          -0.03624391106672339,
          -0.03636167404227997,
          -0.03634959578837673,
          -0.03635110557011464,
          -0.036198617614586245,
          -0.036219754558916906,
          -0.036227303467606435,
          -0.03620465674153786,
          -0.03617899045199348,
          -0.036147285035497474,
          -0.03619408826937253,
          -0.03612765787290471,
          -0.036082364420767565,
          -0.03608689376598128,
          -0.03605669813122318,
          -0.03602499271472718,
          -0.03605216878600946,
          -0.036092781914759106,
          -0.03622277412239272,
          -0.036254479538888724
         ],
         "name": "Trace 1",
         "open": [
          -0.03732390805472356,
          -0.03727455483892942,
          -0.03715769722463266,
          -0.037030488935898824,
          -0.03700798746973129,
          -0.03697963562236019,
          -0.036973635231382175,
          -0.03698263581784919,
          -0.036928632299047096,
          -0.03683892645392583,
          -0.03670406766669504,
          -0.036835926258436825,
          -0.03675507099000813,
          -0.036711568155417554,
          -0.03666671523285692,
          -0.03661436182157377,
          -0.03649900430502152,
          -0.03655285781404916,
          -0.03664271366894488,
          -0.036587360062172725,
          -0.036526006064422564,
          -0.03650200450051052,
          -0.036493003914043504,
          -0.03655735810728267,
          -0.03656185840051618,
          -0.03656935888923869,
          -0.036741570110307605,
          -0.03679842381482426,
          -0.03680142401031326,
          -0.03683892645392583,
          -0.03677592234865672,
          -0.036660414822330005,
          -0.036646913942629485,
          -0.0365419071005143,
          -0.036567408762170836,
          -0.03644590084486612,
          -0.03641739898772057,
          -0.03641739898772057,
          -0.03642189928095407,
          -0.03627488970199281,
          -0.03633939390500643,
          -0.03641739898772057,
          -0.03646240192005565,
          -0.03645340133358863,
          -0.03633939390500643,
          -0.036301891461393856,
          -0.0363228928298169,
          -0.036234387062891234,
          -0.03628989067943784,
          -0.03624938804033626,
          -0.036234387062891234,
          -0.03628839058169333,
          -0.036189384130556154,
          -0.036207385303490186,
          -0.036205885205745685,
          -0.03618638393506715,
          -0.03617138295762212,
          -0.03620438510800118,
          -0.036231386867402224,
          -0.036316892438838885
         ],
         "showlegend": true,
         "type": "candlestick",
         "x": [
          3179,
          3180,
          3181,
          3182,
          3183,
          3184,
          3185,
          3186,
          3187,
          3188,
          3189,
          3190,
          3191,
          3192,
          3193,
          3194,
          3195,
          3196,
          3197,
          3198,
          3199,
          3200,
          3201,
          3202,
          3203,
          3204,
          3205,
          3206,
          3207,
          3208,
          3209,
          3210,
          3211,
          3212,
          3213,
          3214,
          3215,
          3216,
          3217,
          3218,
          3219,
          3220,
          3221,
          3222,
          3223,
          3224,
          3225,
          3226,
          3227,
          3228,
          3229,
          3230,
          3231,
          3232,
          3233,
          3234,
          3235,
          3236,
          3237,
          3238
         ],
         "yaxis": "y2"
        }
       ],
       "layout": {
        "legend": {
         "bgcolor": "#F5F6F9",
         "font": {
          "color": "#4D5663"
         }
        },
        "margin": {
         "b": 30,
         "l": 30,
         "r": 30,
         "t": 30
        },
        "paper_bgcolor": "#F5F6F9",
        "plot_bgcolor": "#F5F6F9",
        "showlegend": true,
        "template": {
         "data": {
          "bar": [
           {
            "error_x": {
             "color": "#2a3f5f"
            },
            "error_y": {
             "color": "#2a3f5f"
            },
            "marker": {
             "line": {
              "color": "#E5ECF6",
              "width": 0.5
             },
             "pattern": {
              "fillmode": "overlay",
              "size": 10,
              "solidity": 0.2
             }
            },
            "type": "bar"
           }
          ],
          "barpolar": [
           {
            "marker": {
             "line": {
              "color": "#E5ECF6",
              "width": 0.5
             },
             "pattern": {
              "fillmode": "overlay",
              "size": 10,
              "solidity": 0.2
             }
            },
            "type": "barpolar"
           }
          ],
          "carpet": [
           {
            "aaxis": {
             "endlinecolor": "#2a3f5f",
             "gridcolor": "white",
             "linecolor": "white",
             "minorgridcolor": "white",
             "startlinecolor": "#2a3f5f"
            },
            "baxis": {
             "endlinecolor": "#2a3f5f",
             "gridcolor": "white",
             "linecolor": "white",
             "minorgridcolor": "white",
             "startlinecolor": "#2a3f5f"
            },
            "type": "carpet"
           }
          ],
          "choropleth": [
           {
            "colorbar": {
             "outlinewidth": 0,
             "ticks": ""
            },
            "type": "choropleth"
           }
          ],
          "contour": [
           {
            "colorbar": {
             "outlinewidth": 0,
             "ticks": ""
            },
            "colorscale": [
             [
              0,
              "#0d0887"
             ],
             [
              0.1111111111111111,
              "#46039f"
             ],
             [
              0.2222222222222222,
              "#7201a8"
             ],
             [
              0.3333333333333333,
              "#9c179e"
             ],
             [
              0.4444444444444444,
              "#bd3786"
             ],
             [
              0.5555555555555556,
              "#d8576b"
             ],
             [
              0.6666666666666666,
              "#ed7953"
             ],
             [
              0.7777777777777778,
              "#fb9f3a"
             ],
             [
              0.8888888888888888,
              "#fdca26"
             ],
             [
              1,
              "#f0f921"
             ]
            ],
            "type": "contour"
           }
          ],
          "contourcarpet": [
           {
            "colorbar": {
             "outlinewidth": 0,
             "ticks": ""
            },
            "type": "contourcarpet"
           }
          ],
          "heatmap": [
           {
            "colorbar": {
             "outlinewidth": 0,
             "ticks": ""
            },
            "colorscale": [
             [
              0,
              "#0d0887"
             ],
             [
              0.1111111111111111,
              "#46039f"
             ],
             [
              0.2222222222222222,
              "#7201a8"
             ],
             [
              0.3333333333333333,
              "#9c179e"
             ],
             [
              0.4444444444444444,
              "#bd3786"
             ],
             [
              0.5555555555555556,
              "#d8576b"
             ],
             [
              0.6666666666666666,
              "#ed7953"
             ],
             [
              0.7777777777777778,
              "#fb9f3a"
             ],
             [
              0.8888888888888888,
              "#fdca26"
             ],
             [
              1,
              "#f0f921"
             ]
            ],
            "type": "heatmap"
           }
          ],
          "heatmapgl": [
           {
            "colorbar": {
             "outlinewidth": 0,
             "ticks": ""
            },
            "colorscale": [
             [
              0,
              "#0d0887"
             ],
             [
              0.1111111111111111,
              "#46039f"
             ],
             [
              0.2222222222222222,
              "#7201a8"
             ],
             [
              0.3333333333333333,
              "#9c179e"
             ],
             [
              0.4444444444444444,
              "#bd3786"
             ],
             [
              0.5555555555555556,
              "#d8576b"
             ],
             [
              0.6666666666666666,
              "#ed7953"
             ],
             [
              0.7777777777777778,
              "#fb9f3a"
             ],
             [
              0.8888888888888888,
              "#fdca26"
             ],
             [
              1,
              "#f0f921"
             ]
            ],
            "type": "heatmapgl"
           }
          ],
          "histogram": [
           {
            "marker": {
             "pattern": {
              "fillmode": "overlay",
              "size": 10,
              "solidity": 0.2
             }
            },
            "type": "histogram"
           }
          ],
          "histogram2d": [
           {
            "colorbar": {
             "outlinewidth": 0,
             "ticks": ""
            },
            "colorscale": [
             [
              0,
              "#0d0887"
             ],
             [
              0.1111111111111111,
              "#46039f"
             ],
             [
              0.2222222222222222,
              "#7201a8"
             ],
             [
              0.3333333333333333,
              "#9c179e"
             ],
             [
              0.4444444444444444,
              "#bd3786"
             ],
             [
              0.5555555555555556,
              "#d8576b"
             ],
             [
              0.6666666666666666,
              "#ed7953"
             ],
             [
              0.7777777777777778,
              "#fb9f3a"
             ],
             [
              0.8888888888888888,
              "#fdca26"
             ],
             [
              1,
              "#f0f921"
             ]
            ],
            "type": "histogram2d"
           }
          ],
          "histogram2dcontour": [
           {
            "colorbar": {
             "outlinewidth": 0,
             "ticks": ""
            },
            "colorscale": [
             [
              0,
              "#0d0887"
             ],
             [
              0.1111111111111111,
              "#46039f"
             ],
             [
              0.2222222222222222,
              "#7201a8"
             ],
             [
              0.3333333333333333,
              "#9c179e"
             ],
             [
              0.4444444444444444,
              "#bd3786"
             ],
             [
              0.5555555555555556,
              "#d8576b"
             ],
             [
              0.6666666666666666,
              "#ed7953"
             ],
             [
              0.7777777777777778,
              "#fb9f3a"
             ],
             [
              0.8888888888888888,
              "#fdca26"
             ],
             [
              1,
              "#f0f921"
             ]
            ],
            "type": "histogram2dcontour"
           }
          ],
          "mesh3d": [
           {
            "colorbar": {
             "outlinewidth": 0,
             "ticks": ""
            },
            "type": "mesh3d"
           }
          ],
          "parcoords": [
           {
            "line": {
             "colorbar": {
              "outlinewidth": 0,
              "ticks": ""
             }
            },
            "type": "parcoords"
           }
          ],
          "pie": [
           {
            "automargin": true,
            "type": "pie"
           }
          ],
          "scatter": [
           {
            "marker": {
             "colorbar": {
              "outlinewidth": 0,
              "ticks": ""
             }
            },
            "type": "scatter"
           }
          ],
          "scatter3d": [
           {
            "line": {
             "colorbar": {
              "outlinewidth": 0,
              "ticks": ""
             }
            },
            "marker": {
             "colorbar": {
              "outlinewidth": 0,
              "ticks": ""
             }
            },
            "type": "scatter3d"
           }
          ],
          "scattercarpet": [
           {
            "marker": {
             "colorbar": {
              "outlinewidth": 0,
              "ticks": ""
             }
            },
            "type": "scattercarpet"
           }
          ],
          "scattergeo": [
           {
            "marker": {
             "colorbar": {
              "outlinewidth": 0,
              "ticks": ""
             }
            },
            "type": "scattergeo"
           }
          ],
          "scattergl": [
           {
            "marker": {
             "colorbar": {
              "outlinewidth": 0,
              "ticks": ""
             }
            },
            "type": "scattergl"
           }
          ],
          "scattermapbox": [
           {
            "marker": {
             "colorbar": {
              "outlinewidth": 0,
              "ticks": ""
             }
            },
            "type": "scattermapbox"
           }
          ],
          "scatterpolar": [
           {
            "marker": {
             "colorbar": {
              "outlinewidth": 0,
              "ticks": ""
             }
            },
            "type": "scatterpolar"
           }
          ],
          "scatterpolargl": [
           {
            "marker": {
             "colorbar": {
              "outlinewidth": 0,
              "ticks": ""
             }
            },
            "type": "scatterpolargl"
           }
          ],
          "scatterternary": [
           {
            "marker": {
             "colorbar": {
              "outlinewidth": 0,
              "ticks": ""
             }
            },
            "type": "scatterternary"
           }
          ],
          "surface": [
           {
            "colorbar": {
             "outlinewidth": 0,
             "ticks": ""
            },
            "colorscale": [
             [
              0,
              "#0d0887"
             ],
             [
              0.1111111111111111,
              "#46039f"
             ],
             [
              0.2222222222222222,
              "#7201a8"
             ],
             [
              0.3333333333333333,
              "#9c179e"
             ],
             [
              0.4444444444444444,
              "#bd3786"
             ],
             [
              0.5555555555555556,
              "#d8576b"
             ],
             [
              0.6666666666666666,
              "#ed7953"
             ],
             [
              0.7777777777777778,
              "#fb9f3a"
             ],
             [
              0.8888888888888888,
              "#fdca26"
             ],
             [
              1,
              "#f0f921"
             ]
            ],
            "type": "surface"
           }
          ],
          "table": [
           {
            "cells": {
             "fill": {
              "color": "#EBF0F8"
             },
             "line": {
              "color": "white"
             }
            },
            "header": {
             "fill": {
              "color": "#C8D4E3"
             },
             "line": {
              "color": "white"
             }
            },
            "type": "table"
           }
          ]
         },
         "layout": {
          "annotationdefaults": {
           "arrowcolor": "#2a3f5f",
           "arrowhead": 0,
           "arrowwidth": 1
          },
          "autotypenumbers": "strict",
          "coloraxis": {
           "colorbar": {
            "outlinewidth": 0,
            "ticks": ""
           }
          },
          "colorscale": {
           "diverging": [
            [
             0,
             "#8e0152"
            ],
            [
             0.1,
             "#c51b7d"
            ],
            [
             0.2,
             "#de77ae"
            ],
            [
             0.3,
             "#f1b6da"
            ],
            [
             0.4,
             "#fde0ef"
            ],
            [
             0.5,
             "#f7f7f7"
            ],
            [
             0.6,
             "#e6f5d0"
            ],
            [
             0.7,
             "#b8e186"
            ],
            [
             0.8,
             "#7fbc41"
            ],
            [
             0.9,
             "#4d9221"
            ],
            [
             1,
             "#276419"
            ]
           ],
           "sequential": [
            [
             0,
             "#0d0887"
            ],
            [
             0.1111111111111111,
             "#46039f"
            ],
            [
             0.2222222222222222,
             "#7201a8"
            ],
            [
             0.3333333333333333,
             "#9c179e"
            ],
            [
             0.4444444444444444,
             "#bd3786"
            ],
            [
             0.5555555555555556,
             "#d8576b"
            ],
            [
             0.6666666666666666,
             "#ed7953"
            ],
            [
             0.7777777777777778,
             "#fb9f3a"
            ],
            [
             0.8888888888888888,
             "#fdca26"
            ],
            [
             1,
             "#f0f921"
            ]
           ],
           "sequentialminus": [
            [
             0,
             "#0d0887"
            ],
            [
             0.1111111111111111,
             "#46039f"
            ],
            [
             0.2222222222222222,
             "#7201a8"
            ],
            [
             0.3333333333333333,
             "#9c179e"
            ],
            [
             0.4444444444444444,
             "#bd3786"
            ],
            [
             0.5555555555555556,
             "#d8576b"
            ],
            [
             0.6666666666666666,
             "#ed7953"
            ],
            [
             0.7777777777777778,
             "#fb9f3a"
            ],
            [
             0.8888888888888888,
             "#fdca26"
            ],
            [
             1,
             "#f0f921"
            ]
           ]
          },
          "colorway": [
           "#636efa",
           "#EF553B",
           "#00cc96",
           "#ab63fa",
           "#FFA15A",
           "#19d3f3",
           "#FF6692",
           "#B6E880",
           "#FF97FF",
           "#FECB52"
          ],
          "font": {
           "color": "#2a3f5f"
          },
          "geo": {
           "bgcolor": "white",
           "lakecolor": "white",
           "landcolor": "#E5ECF6",
           "showlakes": true,
           "showland": true,
           "subunitcolor": "white"
          },
          "hoverlabel": {
           "align": "left"
          },
          "hovermode": "closest",
          "mapbox": {
           "style": "light"
          },
          "paper_bgcolor": "white",
          "plot_bgcolor": "#E5ECF6",
          "polar": {
           "angularaxis": {
            "gridcolor": "white",
            "linecolor": "white",
            "ticks": ""
           },
           "bgcolor": "#E5ECF6",
           "radialaxis": {
            "gridcolor": "white",
            "linecolor": "white",
            "ticks": ""
           }
          },
          "scene": {
           "xaxis": {
            "backgroundcolor": "#E5ECF6",
            "gridcolor": "white",
            "gridwidth": 2,
            "linecolor": "white",
            "showbackground": true,
            "ticks": "",
            "zerolinecolor": "white"
           },
           "yaxis": {
            "backgroundcolor": "#E5ECF6",
            "gridcolor": "white",
            "gridwidth": 2,
            "linecolor": "white",
            "showbackground": true,
            "ticks": "",
            "zerolinecolor": "white"
           },
           "zaxis": {
            "backgroundcolor": "#E5ECF6",
            "gridcolor": "white",
            "gridwidth": 2,
            "linecolor": "white",
            "showbackground": true,
            "ticks": "",
            "zerolinecolor": "white"
           }
          },
          "shapedefaults": {
           "line": {
            "color": "#2a3f5f"
           }
          },
          "ternary": {
           "aaxis": {
            "gridcolor": "white",
            "linecolor": "white",
            "ticks": ""
           },
           "baxis": {
            "gridcolor": "white",
            "linecolor": "white",
            "ticks": ""
           },
           "bgcolor": "#E5ECF6",
           "caxis": {
            "gridcolor": "white",
            "linecolor": "white",
            "ticks": ""
           }
          },
          "title": {
           "x": 0.05
          },
          "xaxis": {
           "automargin": true,
           "gridcolor": "white",
           "linecolor": "white",
           "ticks": "",
           "title": {
            "standoff": 15
           },
           "zerolinecolor": "white",
           "zerolinewidth": 2
          },
          "yaxis": {
           "automargin": true,
           "gridcolor": "white",
           "linecolor": "white",
           "ticks": "",
           "title": {
            "standoff": 15
           },
           "zerolinecolor": "white",
           "zerolinewidth": 2
          }
         }
        },
        "title": {
         "font": {
          "color": "#4D5663"
         }
        },
        "xaxis": {
         "anchor": "y2",
         "gridcolor": "#E1E5ED",
         "rangeselector": {
          "bgcolor": "rgba(150, 200, 250, 1)",
          "buttons": [
           {
            "count": 1,
            "label": "1m",
            "step": "month",
            "stepmode": "backward"
           },
           {
            "count": 1,
            "label": "1y",
            "step": "year",
            "stepmode": "backward"
           }
          ],
          "font": {
           "size": 13
          },
          "visible": false,
          "x": 0,
          "y": 0.9
         },
         "rangeslider": {
          "visible": false
         },
         "showgrid": true,
         "tickfont": {
          "color": "#4D5663"
         },
         "title": {
          "font": {
           "color": "#4D5663"
          },
          "text": ""
         },
         "zerolinecolor": "#E1E5ED"
        },
        "yaxis": {
         "gridcolor": "#E1E5ED",
         "showgrid": true,
         "showticklabels": false,
         "tickfont": {
          "color": "#4D5663"
         },
         "title": {
          "font": {
           "color": "#4D5663"
          },
          "text": ""
         },
         "zerolinecolor": "#E1E5ED"
        },
        "yaxis2": {
         "domain": [
          0,
          0.9
         ],
         "gridcolor": "#E1E5ED",
         "showgrid": true,
         "tickfont": {
          "color": "#4D5663"
         },
         "title": {
          "font": {
           "color": "#4D5663"
          },
          "text": ""
         },
         "zerolinecolor": "#E1E5ED"
        }
       }
      },
      "text/html": [
       "<div>                            <div id=\"df03b708-be97-4749-b358-48e016730e6a\" class=\"plotly-graph-div\" style=\"height:525px; width:100%;\"></div>            <script type=\"text/javascript\">                require([\"plotly\"], function(Plotly) {                    window.PLOTLYENV=window.PLOTLYENV || {};                                    if (document.getElementById(\"df03b708-be97-4749-b358-48e016730e6a\")) {                    Plotly.newPlot(                        \"df03b708-be97-4749-b358-48e016730e6a\",                        [{\"close\":[-0.03724883856138729,-0.03717547762779041,-0.03699275039441414,-0.037021254642641964,-0.03703475665496041,-0.037001751735959765,-0.03691803925958541,-0.0369135385888126,-0.03685202942158412,-0.03672931113184538,-0.03678016871157819,-0.03679367072389663,-0.03673081135543632,-0.03666645176338507,-0.036684454446476326,-0.03652123011978225,-0.03651672944900943,-0.03662159507801602,-0.036585589711833504,-0.036543733473646325,-0.036525730790555065,-0.03651222877823662,-0.036524230566964126,-0.03654958434565098,-0.03657058747592412,-0.036727810908254444,-0.036820674748533525,-0.03677866848798725,-0.03684017765521572,-0.036807172736215074,-0.036687154848940015,-0.036645148588393746,-0.03654313338420995,-0.036562636290892146,-0.03646362153389022,-0.036433617062071454,-0.036427616167707705,-0.03642461572052583,-0.03628659515015951,-0.036369107447661114,-0.03638110923638862,-0.03649962690007274,-0.036451619745162714,-0.036385609907161436,-0.03633010163429672,-0.036364606776888304,-0.03631960006916015,-0.036309098504023585,-0.03626109134911357,-0.03622208553574917,-0.0362940962681142,-0.036213084194203535,-0.03621458441779448,-0.03619808195829416,-0.03616207659211164,-0.03618457994597571,-0.0361800792752029,-0.03620108240547603,-0.03629709671529608,-0.036396111472298],\"decreasing\":{\"line\":{\"color\":\"#808080\"}},\"high\":[-0.03732512591468666,-0.037283502125026034,-0.03713162750898831,-0.03708015723145097,-0.037112232911655406,-0.037113724803757936,-0.03704897668650806,-0.03704077127994414,-0.03699601451686819,-0.036862042606060845,-0.036809975571682495,-0.03691425882964946,-0.03686502639026591,-0.03680027827301604,-0.036735530155766166,-0.036647657710927053,-0.03662527932938908,-0.03665511717143971,-0.03670718420581807,-0.0366685442003625,-0.03664318203461946,-0.03662095284229174,-0.03663423068200427,-0.036667052308259965,-0.036647657710927053,-0.03670270852951047,-0.03685159936134313,-0.03688740477180389,-0.03689337234021401,-0.036944693428541106,-0.03680669340905693,-0.03670076906977718,-0.036687342040854394,-0.03666943933562402,-0.036611255543625286,-0.03655307175162655,-0.03653964472270377,-0.03652323390957592,-0.03642924470711643,-0.03639642308086073,-0.03646355822547465,-0.036566498780549336,-0.03658067175552339,-0.036522487963524655,-0.03643968795183415,-0.03641730957029617,-0.036436704167629085,-0.03629199063368352,-0.0363949311887582,-0.036368077130912634,-0.03638001226773288,-0.036344206857272125,-0.03630392577050377,-0.03631287712311896,-0.03626961225214554,-0.03630243387840124,-0.036274087928453144,-0.036320336583631624,-0.036372552807220224,-0.036432228491321494],\"increasing\":{\"line\":{\"color\":\"#17BECF\"}},\"low\":[-0.037242178751826095,-0.037139664571822356,-0.0370055959534964,-0.036892664279501115,-0.03693025784477495,-0.03688209580733578,-0.036836953333372426,-0.036829253446509114,-0.036773542500380424,-0.03669669460992106,-0.03665004235421981,-0.03671028264556221,-0.036674198862026275,-0.036607919443732255,-0.03655658686464349,-0.0364691705020188,-0.036396851956773155,-0.0364691705020188,-0.036506915045466416,-0.03643761606369659,-0.036425537809793344,-0.03638039533582999,-0.036414969337628014,-0.036436106281958675,-0.036424028028055444,-0.03661531737424799,-0.03669518482818316,-0.036674198862026275,-0.03668627711592952,-0.03672387068120335,-0.036618336937723796,-0.03650208374390512,-0.03648849570826398,-0.0364326337839615,-0.03641149683963083,-0.03635714469706626,-0.036326949062308156,-0.036308831681453296,-0.0362786360466952,-0.036225793685868535,-0.03624391106672339,-0.03636167404227997,-0.03634959578837673,-0.03635110557011464,-0.036198617614586245,-0.036219754558916906,-0.036227303467606435,-0.03620465674153786,-0.03617899045199348,-0.036147285035497474,-0.03619408826937253,-0.03612765787290471,-0.036082364420767565,-0.03608689376598128,-0.03605669813122318,-0.03602499271472718,-0.03605216878600946,-0.036092781914759106,-0.03622277412239272,-0.036254479538888724],\"name\":\"Trace 1\",\"open\":[-0.03732390805472356,-0.03727455483892942,-0.03715769722463266,-0.037030488935898824,-0.03700798746973129,-0.03697963562236019,-0.036973635231382175,-0.03698263581784919,-0.036928632299047096,-0.03683892645392583,-0.03670406766669504,-0.036835926258436825,-0.03675507099000813,-0.036711568155417554,-0.03666671523285692,-0.03661436182157377,-0.03649900430502152,-0.03655285781404916,-0.03664271366894488,-0.036587360062172725,-0.036526006064422564,-0.03650200450051052,-0.036493003914043504,-0.03655735810728267,-0.03656185840051618,-0.03656935888923869,-0.036741570110307605,-0.03679842381482426,-0.03680142401031326,-0.03683892645392583,-0.03677592234865672,-0.036660414822330005,-0.036646913942629485,-0.0365419071005143,-0.036567408762170836,-0.03644590084486612,-0.03641739898772057,-0.03641739898772057,-0.03642189928095407,-0.03627488970199281,-0.03633939390500643,-0.03641739898772057,-0.03646240192005565,-0.03645340133358863,-0.03633939390500643,-0.036301891461393856,-0.0363228928298169,-0.036234387062891234,-0.03628989067943784,-0.03624938804033626,-0.036234387062891234,-0.03628839058169333,-0.036189384130556154,-0.036207385303490186,-0.036205885205745685,-0.03618638393506715,-0.03617138295762212,-0.03620438510800118,-0.036231386867402224,-0.036316892438838885],\"showlegend\":true,\"x\":[3179,3180,3181,3182,3183,3184,3185,3186,3187,3188,3189,3190,3191,3192,3193,3194,3195,3196,3197,3198,3199,3200,3201,3202,3203,3204,3205,3206,3207,3208,3209,3210,3211,3212,3213,3214,3215,3216,3217,3218,3219,3220,3221,3222,3223,3224,3225,3226,3227,3228,3229,3230,3231,3232,3233,3234,3235,3236,3237,3238],\"yaxis\":\"y2\",\"type\":\"candlestick\"}],                        {\"legend\":{\"bgcolor\":\"#F5F6F9\",\"font\":{\"color\":\"#4D5663\"}},\"margin\":{\"b\":30,\"l\":30,\"r\":30,\"t\":30},\"paper_bgcolor\":\"#F5F6F9\",\"plot_bgcolor\":\"#F5F6F9\",\"showlegend\":true,\"template\":{\"data\":{\"barpolar\":[{\"marker\":{\"line\":{\"color\":\"#E5ECF6\",\"width\":0.5},\"pattern\":{\"fillmode\":\"overlay\",\"size\":10,\"solidity\":0.2}},\"type\":\"barpolar\"}],\"bar\":[{\"error_x\":{\"color\":\"#2a3f5f\"},\"error_y\":{\"color\":\"#2a3f5f\"},\"marker\":{\"line\":{\"color\":\"#E5ECF6\",\"width\":0.5},\"pattern\":{\"fillmode\":\"overlay\",\"size\":10,\"solidity\":0.2}},\"type\":\"bar\"}],\"carpet\":[{\"aaxis\":{\"endlinecolor\":\"#2a3f5f\",\"gridcolor\":\"white\",\"linecolor\":\"white\",\"minorgridcolor\":\"white\",\"startlinecolor\":\"#2a3f5f\"},\"baxis\":{\"endlinecolor\":\"#2a3f5f\",\"gridcolor\":\"white\",\"linecolor\":\"white\",\"minorgridcolor\":\"white\",\"startlinecolor\":\"#2a3f5f\"},\"type\":\"carpet\"}],\"choropleth\":[{\"colorbar\":{\"outlinewidth\":0,\"ticks\":\"\"},\"type\":\"choropleth\"}],\"contourcarpet\":[{\"colorbar\":{\"outlinewidth\":0,\"ticks\":\"\"},\"type\":\"contourcarpet\"}],\"contour\":[{\"colorbar\":{\"outlinewidth\":0,\"ticks\":\"\"},\"colorscale\":[[0.0,\"#0d0887\"],[0.1111111111111111,\"#46039f\"],[0.2222222222222222,\"#7201a8\"],[0.3333333333333333,\"#9c179e\"],[0.4444444444444444,\"#bd3786\"],[0.5555555555555556,\"#d8576b\"],[0.6666666666666666,\"#ed7953\"],[0.7777777777777778,\"#fb9f3a\"],[0.8888888888888888,\"#fdca26\"],[1.0,\"#f0f921\"]],\"type\":\"contour\"}],\"heatmapgl\":[{\"colorbar\":{\"outlinewidth\":0,\"ticks\":\"\"},\"colorscale\":[[0.0,\"#0d0887\"],[0.1111111111111111,\"#46039f\"],[0.2222222222222222,\"#7201a8\"],[0.3333333333333333,\"#9c179e\"],[0.4444444444444444,\"#bd3786\"],[0.5555555555555556,\"#d8576b\"],[0.6666666666666666,\"#ed7953\"],[0.7777777777777778,\"#fb9f3a\"],[0.8888888888888888,\"#fdca26\"],[1.0,\"#f0f921\"]],\"type\":\"heatmapgl\"}],\"heatmap\":[{\"colorbar\":{\"outlinewidth\":0,\"ticks\":\"\"},\"colorscale\":[[0.0,\"#0d0887\"],[0.1111111111111111,\"#46039f\"],[0.2222222222222222,\"#7201a8\"],[0.3333333333333333,\"#9c179e\"],[0.4444444444444444,\"#bd3786\"],[0.5555555555555556,\"#d8576b\"],[0.6666666666666666,\"#ed7953\"],[0.7777777777777778,\"#fb9f3a\"],[0.8888888888888888,\"#fdca26\"],[1.0,\"#f0f921\"]],\"type\":\"heatmap\"}],\"histogram2dcontour\":[{\"colorbar\":{\"outlinewidth\":0,\"ticks\":\"\"},\"colorscale\":[[0.0,\"#0d0887\"],[0.1111111111111111,\"#46039f\"],[0.2222222222222222,\"#7201a8\"],[0.3333333333333333,\"#9c179e\"],[0.4444444444444444,\"#bd3786\"],[0.5555555555555556,\"#d8576b\"],[0.6666666666666666,\"#ed7953\"],[0.7777777777777778,\"#fb9f3a\"],[0.8888888888888888,\"#fdca26\"],[1.0,\"#f0f921\"]],\"type\":\"histogram2dcontour\"}],\"histogram2d\":[{\"colorbar\":{\"outlinewidth\":0,\"ticks\":\"\"},\"colorscale\":[[0.0,\"#0d0887\"],[0.1111111111111111,\"#46039f\"],[0.2222222222222222,\"#7201a8\"],[0.3333333333333333,\"#9c179e\"],[0.4444444444444444,\"#bd3786\"],[0.5555555555555556,\"#d8576b\"],[0.6666666666666666,\"#ed7953\"],[0.7777777777777778,\"#fb9f3a\"],[0.8888888888888888,\"#fdca26\"],[1.0,\"#f0f921\"]],\"type\":\"histogram2d\"}],\"histogram\":[{\"marker\":{\"pattern\":{\"fillmode\":\"overlay\",\"size\":10,\"solidity\":0.2}},\"type\":\"histogram\"}],\"mesh3d\":[{\"colorbar\":{\"outlinewidth\":0,\"ticks\":\"\"},\"type\":\"mesh3d\"}],\"parcoords\":[{\"line\":{\"colorbar\":{\"outlinewidth\":0,\"ticks\":\"\"}},\"type\":\"parcoords\"}],\"pie\":[{\"automargin\":true,\"type\":\"pie\"}],\"scatter3d\":[{\"line\":{\"colorbar\":{\"outlinewidth\":0,\"ticks\":\"\"}},\"marker\":{\"colorbar\":{\"outlinewidth\":0,\"ticks\":\"\"}},\"type\":\"scatter3d\"}],\"scattercarpet\":[{\"marker\":{\"colorbar\":{\"outlinewidth\":0,\"ticks\":\"\"}},\"type\":\"scattercarpet\"}],\"scattergeo\":[{\"marker\":{\"colorbar\":{\"outlinewidth\":0,\"ticks\":\"\"}},\"type\":\"scattergeo\"}],\"scattergl\":[{\"marker\":{\"colorbar\":{\"outlinewidth\":0,\"ticks\":\"\"}},\"type\":\"scattergl\"}],\"scattermapbox\":[{\"marker\":{\"colorbar\":{\"outlinewidth\":0,\"ticks\":\"\"}},\"type\":\"scattermapbox\"}],\"scatterpolargl\":[{\"marker\":{\"colorbar\":{\"outlinewidth\":0,\"ticks\":\"\"}},\"type\":\"scatterpolargl\"}],\"scatterpolar\":[{\"marker\":{\"colorbar\":{\"outlinewidth\":0,\"ticks\":\"\"}},\"type\":\"scatterpolar\"}],\"scatter\":[{\"marker\":{\"colorbar\":{\"outlinewidth\":0,\"ticks\":\"\"}},\"type\":\"scatter\"}],\"scatterternary\":[{\"marker\":{\"colorbar\":{\"outlinewidth\":0,\"ticks\":\"\"}},\"type\":\"scatterternary\"}],\"surface\":[{\"colorbar\":{\"outlinewidth\":0,\"ticks\":\"\"},\"colorscale\":[[0.0,\"#0d0887\"],[0.1111111111111111,\"#46039f\"],[0.2222222222222222,\"#7201a8\"],[0.3333333333333333,\"#9c179e\"],[0.4444444444444444,\"#bd3786\"],[0.5555555555555556,\"#d8576b\"],[0.6666666666666666,\"#ed7953\"],[0.7777777777777778,\"#fb9f3a\"],[0.8888888888888888,\"#fdca26\"],[1.0,\"#f0f921\"]],\"type\":\"surface\"}],\"table\":[{\"cells\":{\"fill\":{\"color\":\"#EBF0F8\"},\"line\":{\"color\":\"white\"}},\"header\":{\"fill\":{\"color\":\"#C8D4E3\"},\"line\":{\"color\":\"white\"}},\"type\":\"table\"}]},\"layout\":{\"annotationdefaults\":{\"arrowcolor\":\"#2a3f5f\",\"arrowhead\":0,\"arrowwidth\":1},\"autotypenumbers\":\"strict\",\"coloraxis\":{\"colorbar\":{\"outlinewidth\":0,\"ticks\":\"\"}},\"colorscale\":{\"diverging\":[[0,\"#8e0152\"],[0.1,\"#c51b7d\"],[0.2,\"#de77ae\"],[0.3,\"#f1b6da\"],[0.4,\"#fde0ef\"],[0.5,\"#f7f7f7\"],[0.6,\"#e6f5d0\"],[0.7,\"#b8e186\"],[0.8,\"#7fbc41\"],[0.9,\"#4d9221\"],[1,\"#276419\"]],\"sequential\":[[0.0,\"#0d0887\"],[0.1111111111111111,\"#46039f\"],[0.2222222222222222,\"#7201a8\"],[0.3333333333333333,\"#9c179e\"],[0.4444444444444444,\"#bd3786\"],[0.5555555555555556,\"#d8576b\"],[0.6666666666666666,\"#ed7953\"],[0.7777777777777778,\"#fb9f3a\"],[0.8888888888888888,\"#fdca26\"],[1.0,\"#f0f921\"]],\"sequentialminus\":[[0.0,\"#0d0887\"],[0.1111111111111111,\"#46039f\"],[0.2222222222222222,\"#7201a8\"],[0.3333333333333333,\"#9c179e\"],[0.4444444444444444,\"#bd3786\"],[0.5555555555555556,\"#d8576b\"],[0.6666666666666666,\"#ed7953\"],[0.7777777777777778,\"#fb9f3a\"],[0.8888888888888888,\"#fdca26\"],[1.0,\"#f0f921\"]]},\"colorway\":[\"#636efa\",\"#EF553B\",\"#00cc96\",\"#ab63fa\",\"#FFA15A\",\"#19d3f3\",\"#FF6692\",\"#B6E880\",\"#FF97FF\",\"#FECB52\"],\"font\":{\"color\":\"#2a3f5f\"},\"geo\":{\"bgcolor\":\"white\",\"lakecolor\":\"white\",\"landcolor\":\"#E5ECF6\",\"showlakes\":true,\"showland\":true,\"subunitcolor\":\"white\"},\"hoverlabel\":{\"align\":\"left\"},\"hovermode\":\"closest\",\"mapbox\":{\"style\":\"light\"},\"paper_bgcolor\":\"white\",\"plot_bgcolor\":\"#E5ECF6\",\"polar\":{\"angularaxis\":{\"gridcolor\":\"white\",\"linecolor\":\"white\",\"ticks\":\"\"},\"bgcolor\":\"#E5ECF6\",\"radialaxis\":{\"gridcolor\":\"white\",\"linecolor\":\"white\",\"ticks\":\"\"}},\"scene\":{\"xaxis\":{\"backgroundcolor\":\"#E5ECF6\",\"gridcolor\":\"white\",\"gridwidth\":2,\"linecolor\":\"white\",\"showbackground\":true,\"ticks\":\"\",\"zerolinecolor\":\"white\"},\"yaxis\":{\"backgroundcolor\":\"#E5ECF6\",\"gridcolor\":\"white\",\"gridwidth\":2,\"linecolor\":\"white\",\"showbackground\":true,\"ticks\":\"\",\"zerolinecolor\":\"white\"},\"zaxis\":{\"backgroundcolor\":\"#E5ECF6\",\"gridcolor\":\"white\",\"gridwidth\":2,\"linecolor\":\"white\",\"showbackground\":true,\"ticks\":\"\",\"zerolinecolor\":\"white\"}},\"shapedefaults\":{\"line\":{\"color\":\"#2a3f5f\"}},\"ternary\":{\"aaxis\":{\"gridcolor\":\"white\",\"linecolor\":\"white\",\"ticks\":\"\"},\"baxis\":{\"gridcolor\":\"white\",\"linecolor\":\"white\",\"ticks\":\"\"},\"bgcolor\":\"#E5ECF6\",\"caxis\":{\"gridcolor\":\"white\",\"linecolor\":\"white\",\"ticks\":\"\"}},\"title\":{\"x\":0.05},\"xaxis\":{\"automargin\":true,\"gridcolor\":\"white\",\"linecolor\":\"white\",\"ticks\":\"\",\"title\":{\"standoff\":15},\"zerolinecolor\":\"white\",\"zerolinewidth\":2},\"yaxis\":{\"automargin\":true,\"gridcolor\":\"white\",\"linecolor\":\"white\",\"ticks\":\"\",\"title\":{\"standoff\":15},\"zerolinecolor\":\"white\",\"zerolinewidth\":2}}},\"title\":{\"font\":{\"color\":\"#4D5663\"}},\"xaxis\":{\"anchor\":\"y2\",\"gridcolor\":\"#E1E5ED\",\"rangeselector\":{\"bgcolor\":\"rgba(150, 200, 250, 1)\",\"buttons\":[{\"count\":1,\"label\":\"1m\",\"step\":\"month\",\"stepmode\":\"backward\"},{\"count\":1,\"label\":\"1y\",\"step\":\"year\",\"stepmode\":\"backward\"}],\"font\":{\"size\":13},\"visible\":false,\"x\":0,\"y\":0.9},\"rangeslider\":{\"visible\":false},\"showgrid\":true,\"tickfont\":{\"color\":\"#4D5663\"},\"title\":{\"font\":{\"color\":\"#4D5663\"},\"text\":\"\"},\"zerolinecolor\":\"#E1E5ED\"},\"yaxis\":{\"gridcolor\":\"#E1E5ED\",\"showgrid\":true,\"showticklabels\":false,\"tickfont\":{\"color\":\"#4D5663\"},\"title\":{\"font\":{\"color\":\"#4D5663\"},\"text\":\"\"},\"zerolinecolor\":\"#E1E5ED\"},\"yaxis2\":{\"domain\":[0.0,0.9],\"gridcolor\":\"#E1E5ED\",\"showgrid\":true,\"tickfont\":{\"color\":\"#4D5663\"},\"title\":{\"font\":{\"color\":\"#4D5663\"},\"text\":\"\"},\"zerolinecolor\":\"#E1E5ED\"}},                        {\"responsive\": true}                    ).then(function(){\n",
       "                            \n",
       "var gd = document.getElementById('df03b708-be97-4749-b358-48e016730e6a');\n",
       "var x = new MutationObserver(function (mutations, observer) {{\n",
       "        var display = window.getComputedStyle(gd).display;\n",
       "        if (!display || display === 'none') {{\n",
       "            console.log([gd, 'removed!']);\n",
       "            Plotly.purge(gd);\n",
       "            observer.disconnect();\n",
       "        }}\n",
       "}});\n",
       "\n",
       "// Listen for the removal of the full notebook cells\n",
       "var notebookContainer = gd.closest('#notebook-container');\n",
       "if (notebookContainer) {{\n",
       "    x.observe(notebookContainer, {childList: true});\n",
       "}}\n",
       "\n",
       "// Listen for the clearing of the current output cell\n",
       "var outputEl = gd.closest('.output');\n",
       "if (outputEl) {{\n",
       "    x.observe(outputEl, {childList: true});\n",
       "}}\n",
       "\n",
       "                        }).then(function(){\n",
       "                            function downloadimage(format, height, width, filename) {var p = document.getElementById('df03b708-be97-4749-b358-48e016730e6a');Plotly.downloadImage(p, {format: format, height: height, width: width, filename: filename});};if(document.readyState == 'complete') {downloadimage('png', 600, 800, 'qf_04');}\n",
       "                        })                };                });            </script>        </div>"
      ]
     },
     "metadata": {},
     "output_type": "display_data"
    }
   ],
   "source": [
    "qf=cf.QuantFig(tickers.get_group('a')[-60:])\n",
    "qf.add_shapes()\n",
    "plyo.iplot(qf.iplot(asFigure=True),image='png',filename='qf_04')"
   ]
  },
  {
   "cell_type": "markdown",
   "metadata": {},
   "source": [
    "#### refer to :-https://jpoles1.github.io/cufflinks/html/cufflinks.quant_figure.html"
   ]
  },
  {
   "cell_type": "code",
   "execution_count": 23,
   "metadata": {},
   "outputs": [
    {
     "name": "stdout",
     "output_type": "stream",
     "text": [
      "Requirement already satisfied: ta in c:\\users\\chait\\appdata\\local\\programs\\python\\python39\\lib\\site-packages (0.8.0)\n",
      "Requirement already satisfied: numpy in c:\\users\\chait\\appdata\\local\\programs\\python\\python39\\lib\\site-packages (from ta) (1.19.5)\n",
      "Requirement already satisfied: pandas in c:\\users\\chait\\appdata\\local\\programs\\python\\python39\\lib\\site-packages (from ta) (1.2.3)\n",
      "Requirement already satisfied: pytz>=2017.3 in c:\\users\\chait\\appdata\\local\\programs\\python\\python39\\lib\\site-packages (from pandas->ta) (2021.1)\n",
      "Requirement already satisfied: python-dateutil>=2.7.3 in c:\\users\\chait\\appdata\\local\\programs\\python\\python39\\lib\\site-packages (from pandas->ta) (2.8.1)\n",
      "Requirement already satisfied: six>=1.5 in c:\\users\\chait\\appdata\\local\\programs\\python\\python39\\lib\\site-packages (from python-dateutil>=2.7.3->pandas->ta) (1.15.0)\n"
     ]
    },
    {
     "name": "stderr",
     "output_type": "stream",
     "text": [
      "WARNING: You are using pip version 21.2.4; however, version 21.3.1 is available.\n",
      "You should consider upgrading via the 'c:\\users\\chait\\appdata\\local\\programs\\python\\python39\\python.exe -m pip install --upgrade pip' command.\n"
     ]
    }
   ],
   "source": [
    "!pip install ta"
   ]
  },
  {
   "cell_type": "code",
   "execution_count": 65,
   "metadata": {},
   "outputs": [],
   "source": [
    "from ta import add_all_ta_features\n",
    "from ta.utils import dropna\n",
    "from ta.volatility import BollingerBands,AverageTrueRange\n",
    "from ta.momentum import AwesomeOscillatorIndicator,KAMAIndicator,ROCIndicator\n",
    "\n",
    "tickers=df.groupby('ticker')\n",
    "indicator_df=tickers.get_group('a')[-160:]\n",
    "\n",
    "roc=ROCIndicator(close=indicator_df[\"close\"])\n",
    "ki=KAMAIndicator(close=indicator_df[\"close\"])\n",
    "atr=AverageTrueRange(indicator_df[\"high\"],indicator_df[\"low\"],indicator_df[\"close\"])\n",
    "indicator_bb = BollingerBands(close=indicator_df[\"close\"], window=20, window_dev=2)\n",
    "aoi=AwesomeOscillatorIndicator(high=indicator_df[\"high\"],low=indicator_df[\"low\"])"
   ]
  },
  {
   "cell_type": "code",
   "execution_count": 66,
   "metadata": {},
   "outputs": [],
   "source": [
    "indicator_df[\"atr\"]=atr.average_true_range()\n",
    "indicator_df['ki']=ki.kama()\n",
    "indicator_df['aoi']=aoi.awesome_oscillator() \n",
    "indicator_df['bb_bbm'] = indicator_bb.bollinger_mavg()\n",
    "indicator_df['bb_bbh'] = indicator_bb.bollinger_hband()\n",
    "indicator_df['bb_bbl'] = indicator_bb.bollinger_lband()\n",
    "indicator_df['roc']=roc.roc()\n",
    "# Add Bollinger Band high indicator\n",
    "indicator_df['bb_bbhi'] = indicator_bb.bollinger_hband_indicator()\n",
    "\n",
    "# Add Bollinger Band low indicator\n",
    "indicator_df['bb_bbli'] = indicator_bb.bollinger_lband_indicator()"
   ]
  },
  {
   "cell_type": "code",
   "execution_count": 64,
   "metadata": {},
   "outputs": [
    {
     "data": {
      "image/png": "[encoded data removed]",
      "text/plain": [
       "<Figure size 432x288 with 1 Axes>"
      ]
     },
     "metadata": {
      "needs_background": "light"
     },
     "output_type": "display_data"
    }
   ],
   "source": [
    "import matplotlib.pyplot as plt\n",
    "plt.plot(indicator_df['date'],indicator_df['close'])\n",
    "plt.plot(indicator_df['date'],indicator_df['bb_bbh'])\n",
    "plt.plot(indicator_df['date'],indicator_df['bb_bbl'])\n",
    "\n",
    "plt.show()"
   ]
  },
  {
   "cell_type": "code",
   "execution_count": 46,
   "metadata": {},
   "outputs": [
    {
     "data": {
      "text/html": [
       "<div>\n",
       "<style scoped>\n",
       "    .dataframe tbody tr th:only-of-type {\n",
       "        vertical-align: middle;\n",
       "    }\n",
       "\n",
       "    .dataframe tbody tr th {\n",
       "        vertical-align: top;\n",
       "    }\n",
       "\n",
       "    .dataframe thead th {\n",
       "        text-align: right;\n",
       "    }\n",
       "</style>\n",
       "<table border=\"1\" class=\"dataframe\">\n",
       "  <thead>\n",
       "    <tr style=\"text-align: right;\">\n",
       "      <th></th>\n",
       "      <th>open</th>\n",
       "      <th>high</th>\n",
       "      <th>low</th>\n",
       "      <th>close</th>\n",
       "      <th>volume</th>\n",
       "      <th>ticker</th>\n",
       "      <th>date</th>\n",
       "      <th>atr</th>\n",
       "      <th>bb_bbm</th>\n",
       "      <th>bb_bbh</th>\n",
       "      <th>bb_bbl</th>\n",
       "      <th>bb_bbhi</th>\n",
       "      <th>bb_bbli</th>\n",
       "    </tr>\n",
       "  </thead>\n",
       "  <tbody>\n",
       "    <tr>\n",
       "      <th>3179</th>\n",
       "      <td>-0.037324</td>\n",
       "      <td>-0.037325</td>\n",
       "      <td>-0.037242</td>\n",
       "      <td>-0.037249</td>\n",
       "      <td>0.047396</td>\n",
       "      <td>a</td>\n",
       "      <td>2017-08-18</td>\n",
       "      <td>0.0</td>\n",
       "      <td>NaN</td>\n",
       "      <td>NaN</td>\n",
       "      <td>NaN</td>\n",
       "      <td>0.0</td>\n",
       "      <td>0.0</td>\n",
       "    </tr>\n",
       "    <tr>\n",
       "      <th>3180</th>\n",
       "      <td>-0.037275</td>\n",
       "      <td>-0.037284</td>\n",
       "      <td>-0.037140</td>\n",
       "      <td>-0.037175</td>\n",
       "      <td>-0.024485</td>\n",
       "      <td>a</td>\n",
       "      <td>2017-08-21</td>\n",
       "      <td>0.0</td>\n",
       "      <td>NaN</td>\n",
       "      <td>NaN</td>\n",
       "      <td>NaN</td>\n",
       "      <td>0.0</td>\n",
       "      <td>0.0</td>\n",
       "    </tr>\n",
       "    <tr>\n",
       "      <th>3181</th>\n",
       "      <td>-0.037158</td>\n",
       "      <td>-0.037132</td>\n",
       "      <td>-0.037006</td>\n",
       "      <td>-0.036993</td>\n",
       "      <td>-0.024684</td>\n",
       "      <td>a</td>\n",
       "      <td>2017-08-22</td>\n",
       "      <td>0.0</td>\n",
       "      <td>NaN</td>\n",
       "      <td>NaN</td>\n",
       "      <td>NaN</td>\n",
       "      <td>0.0</td>\n",
       "      <td>0.0</td>\n",
       "    </tr>\n",
       "    <tr>\n",
       "      <th>3182</th>\n",
       "      <td>-0.037030</td>\n",
       "      <td>-0.037080</td>\n",
       "      <td>-0.036893</td>\n",
       "      <td>-0.037021</td>\n",
       "      <td>-0.026556</td>\n",
       "      <td>a</td>\n",
       "      <td>2017-08-23</td>\n",
       "      <td>0.0</td>\n",
       "      <td>NaN</td>\n",
       "      <td>NaN</td>\n",
       "      <td>NaN</td>\n",
       "      <td>0.0</td>\n",
       "      <td>0.0</td>\n",
       "    </tr>\n",
       "    <tr>\n",
       "      <th>3183</th>\n",
       "      <td>-0.037008</td>\n",
       "      <td>-0.037112</td>\n",
       "      <td>-0.036930</td>\n",
       "      <td>-0.037035</td>\n",
       "      <td>-0.015301</td>\n",
       "      <td>a</td>\n",
       "      <td>2017-08-24</td>\n",
       "      <td>0.0</td>\n",
       "      <td>NaN</td>\n",
       "      <td>NaN</td>\n",
       "      <td>NaN</td>\n",
       "      <td>0.0</td>\n",
       "      <td>0.0</td>\n",
       "    </tr>\n",
       "  </tbody>\n",
       "</table>\n",
       "</div>"
      ],
      "text/plain": [
       "          open      high       low     close    volume ticker        date  \\\n",
       "3179 -0.037324 -0.037325 -0.037242 -0.037249  0.047396      a  2017-08-18   \n",
       "3180 -0.037275 -0.037284 -0.037140 -0.037175 -0.024485      a  2017-08-21   \n",
       "3181 -0.037158 -0.037132 -0.037006 -0.036993 -0.024684      a  2017-08-22   \n",
       "3182 -0.037030 -0.037080 -0.036893 -0.037021 -0.026556      a  2017-08-23   \n",
       "3183 -0.037008 -0.037112 -0.036930 -0.037035 -0.015301      a  2017-08-24   \n",
       "\n",
       "      atr  bb_bbm  bb_bbh  bb_bbl  bb_bbhi  bb_bbli  \n",
       "3179  0.0     NaN     NaN     NaN      0.0      0.0  \n",
       "3180  0.0     NaN     NaN     NaN      0.0      0.0  \n",
       "3181  0.0     NaN     NaN     NaN      0.0      0.0  \n",
       "3182  0.0     NaN     NaN     NaN      0.0      0.0  \n",
       "3183  0.0     NaN     NaN     NaN      0.0      0.0  "
      ]
     },
     "execution_count": 46,
     "metadata": {},
     "output_type": "execute_result"
    }
   ],
   "source": [
    "indicator_df.head()"
   ]
  },
  {
   "cell_type": "code",
   "execution_count": 63,
   "metadata": {},
   "outputs": [
    {
     "data": {
      "text/plain": [
       "[<matplotlib.lines.Line2D at 0x1cc8abcc400>]"
      ]
     },
     "execution_count": 63,
     "metadata": {},
     "output_type": "execute_result"
    },
    {
     "data": {
      "image/png": "[encoded data removed]",
      "text/plain": [
       "<Figure size 432x288 with 1 Axes>"
      ]
     },
     "metadata": {
      "needs_background": "light"
     },
     "output_type": "display_data"
    }
   ],
   "source": [
    "plt.plot(indicator_df['date'],indicator_df['close'])\n",
    "plt.plot(indicator_df['date'],indicator_df['aoi'])\n",
    "plt.plot(indicator_df['date'],indicator_df['atr'])\n"
   ]
  },
  {
   "cell_type": "markdown",
   "metadata": {},
   "source": [
    "#### for more indicators, esentially too many to go through refer:- https://technical-analysis-library-in-python.readthedocs.io/en/latest/ta.html#momentum-indicators"
   ]
  },
  {
   "cell_type": "code",
   "execution_count": 62,
   "metadata": {},
   "outputs": [
    {
     "data": {
      "text/plain": [
       "[<matplotlib.lines.Line2D at 0x1cc8ab6a580>]"
      ]
     },
     "execution_count": 62,
     "metadata": {},
     "output_type": "execute_result"
    },
    {
     "data": {
      "image/png": "[encoded data removed]",
      "text/plain": [
       "<Figure size 432x288 with 1 Axes>"
      ]
     },
     "metadata": {
      "needs_background": "light"
     },
     "output_type": "display_data"
    }
   ],
   "source": [
    "plt.plot(indicator_df['date'],indicator_df['close'])\n",
    "plt.plot(indicator_df['date'],indicator_df['ki'])"
   ]
  },
  {
   "cell_type": "code",
   "execution_count": 67,
   "metadata": {},
   "outputs": [
    {
     "data": {
      "text/plain": [
       "[<matplotlib.lines.Line2D at 0x1cc8ac85df0>]"
      ]
     },
     "execution_count": 67,
     "metadata": {},
     "output_type": "execute_result"
    },
    {
     "data": {
      "image/png": "[encoded data removed]",
      "text/plain": [
       "<Figure size 432x288 with 1 Axes>"
      ]
     },
     "metadata": {
      "needs_background": "light"
     },
     "output_type": "display_data"
    }
   ],
   "source": [
    "plt.plot(indicator_df['date'],indicator_df['close'])\n",
    "plt.plot(indicator_df['date'],indicator_df['roc'])"
   ]
  },
  {
   "cell_type": "code",
   "execution_count": null,
   "metadata": {},
   "outputs": [],
   "source": []
  }
 ],
 "metadata": {
  "colab": {
   "name": "stocks.ipynb",
   "provenance": [],
   "toc_visible": true
  },
  "kernelspec": {
   "display_name": "Python 3",
   "language": "python",
   "name": "python3"
  },
  "language_info": {
   "codemirror_mode": {
    "name": "ipython",
    "version": 3
   },
   "file_extension": ".py",
   "mimetype": "text/x-python",
   "name": "python",
   "nbconvert_exporter": "python",
   "pygments_lexer": "ipython3",
   "version": "3.9.2"
  }
 },
 "nbformat": 4,
 "nbformat_minor": 1
}
