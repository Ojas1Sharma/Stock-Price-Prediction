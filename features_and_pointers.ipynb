{
 "cells": [
  {
   "cell_type": "code",
   "execution_count": 1,
   "metadata": {
    "colab": {
     "base_uri": "https://localhost:8080/"
    },
    "id": "qVBULu_AEaKa",
    "outputId": "fafef89f-b1a4-4273-9276-e48d1920bb4e"
   },
   "outputs": [
    {
     "name": "stdout",
     "output_type": "stream",
     "text": [
      "Requirement already satisfied: pyreadr in c:\\users\\chait\\appdata\\local\\programs\\python\\python39\\lib\\site-packages (0.4.2)"
     ]
    },
    {
     "name": "stderr",
     "output_type": "stream",
     "text": [
      "WARNING: You are using pip version 21.2.4; however, version 21.3.1 is available.\n",
      "You should consider upgrading via the 'c:\\users\\chait\\appdata\\local\\programs\\python\\python39\\python.exe -m pip install --upgrade pip' command.\n"
     ]
    },
    {
     "name": "stdout",
     "output_type": "stream",
     "text": [
      "\n",
      "Requirement already satisfied: pandas>0.24.0 in c:\\users\\chait\\appdata\\local\\programs\\python\\python39\\lib\\site-packages (from pyreadr) (1.2.3)\n",
      "Requirement already satisfied: pytz>=2017.3 in c:\\users\\chait\\appdata\\local\\programs\\python\\python39\\lib\\site-packages (from pandas>0.24.0->pyreadr) (2021.1)\n",
      "Requirement already satisfied: python-dateutil>=2.7.3 in c:\\users\\chait\\appdata\\local\\programs\\python\\python39\\lib\\site-packages (from pandas>0.24.0->pyreadr) (2.8.1)\n",
      "Requirement already satisfied: numpy>=1.16.5 in c:\\users\\chait\\appdata\\local\\programs\\python\\python39\\lib\\site-packages (from pandas>0.24.0->pyreadr) (1.19.5)\n",
      "Requirement already satisfied: six>=1.5 in c:\\users\\chait\\appdata\\local\\programs\\python\\python39\\lib\\site-packages (from python-dateutil>=2.7.3->pandas>0.24.0->pyreadr) (1.15.0)\n",
      "Requirement already satisfied: cufflinks in c:\\users\\chait\\appdata\\local\\programs\\python\\python39\\lib\\site-packages (0.17.3)\n",
      "Requirement already satisfied: plotly>=4.1.1 in c:\\users\\chait\\appdata\\local\\programs\\python\\python39\\lib\\site-packages (from cufflinks) (5.4.0)\n",
      "Requirement already satisfied: setuptools>=34.4.1 in c:\\users\\chait\\appdata\\local\\programs\\python\\python39\\lib\\site-packages (from cufflinks) (49.2.1)\n",
      "Requirement already satisfied: ipython>=5.3.0 in c:\\users\\chait\\appdata\\local\\programs\\python\\python39\\lib\\site-packages (from cufflinks) (7.21.0)\n",
      "Requirement already satisfied: ipywidgets>=7.0.0 in c:\\users\\chait\\appdata\\local\\programs\\python\\python39\\lib\\site-packages (from cufflinks) (7.6.5)\n",
      "Requirement already satisfied: colorlover>=0.2.1 in c:\\users\\chait\\appdata\\local\\programs\\python\\python39\\lib\\site-packages (from cufflinks) (0.3.0)\n",
      "Requirement already satisfied: numpy>=1.9.2 in c:\\users\\chait\\appdata\\local\\programs\\python\\python39\\lib\\site-packages (from cufflinks) (1.19.5)\n",
      "Requirement already satisfied: pandas>=0.19.2 in c:\\users\\chait\\appdata\\local\\programs\\python\\python39\\lib\\site-packages (from cufflinks) (1.2.3)\n",
      "Requirement already satisfied: six>=1.9.0 in c:\\users\\chait\\appdata\\local\\programs\\python\\python39\\lib\\site-packages (from cufflinks) (1.15.0)\n",
      "Requirement already satisfied: colorama in c:\\users\\chait\\appdata\\local\\programs\\python\\python39\\lib\\site-packages (from ipython>=5.3.0->cufflinks) (0.4.4)\n",
      "Requirement already satisfied: pygments in c:\\users\\chait\\appdata\\local\\programs\\python\\python39\\lib\\site-packages (from ipython>=5.3.0->cufflinks) (2.8.1)\n",
      "Requirement already satisfied: prompt-toolkit!=3.0.0,!=3.0.1,<3.1.0,>=2.0.0 in c:\\users\\chait\\appdata\\local\\programs\\python\\python39\\lib\\site-packages (from ipython>=5.3.0->cufflinks) (3.0.17)\n",
      "Requirement already satisfied: decorator in c:\\users\\chait\\appdata\\local\\programs\\python\\python39\\lib\\site-packages (from ipython>=5.3.0->cufflinks) (4.4.2)\n",
      "Requirement already satisfied: jedi>=0.16 in c:\\users\\chait\\appdata\\local\\programs\\python\\python39\\lib\\site-packages (from ipython>=5.3.0->cufflinks) (0.18.0)\n",
      "Requirement already satisfied: traitlets>=4.2 in c:\\users\\chait\\appdata\\local\\programs\\python\\python39\\lib\\site-packages (from ipython>=5.3.0->cufflinks) (5.0.5)\n",
      "Requirement already satisfied: pickleshare in c:\\users\\chait\\appdata\\local\\programs\\python\\python39\\lib\\site-packages (from ipython>=5.3.0->cufflinks) (0.7.5)\n",
      "Requirement already satisfied: backcall in c:\\users\\chait\\appdata\\local\\programs\\python\\python39\\lib\\site-packages (from ipython>=5.3.0->cufflinks) (0.2.0)\n",
      "Requirement already satisfied: ipykernel>=4.5.1 in c:\\users\\chait\\appdata\\local\\programs\\python\\python39\\lib\\site-packages (from ipywidgets>=7.0.0->cufflinks) (5.5.0)\n",
      "Requirement already satisfied: nbformat>=4.2.0 in c:\\users\\chait\\appdata\\local\\programs\\python\\python39\\lib\\site-packages (from ipywidgets>=7.0.0->cufflinks) (5.1.2)\n",
      "Requirement already satisfied: widgetsnbextension~=3.5.0 in c:\\users\\chait\\appdata\\local\\programs\\python\\python39\\lib\\site-packages (from ipywidgets>=7.0.0->cufflinks) (3.5.2)\n",
      "Requirement already satisfied: ipython-genutils~=0.2.0 in c:\\users\\chait\\appdata\\local\\programs\\python\\python39\\lib\\site-packages (from ipywidgets>=7.0.0->cufflinks) (0.2.0)\n",
      "Requirement already satisfied: jupyterlab-widgets>=1.0.0 in c:\\users\\chait\\appdata\\local\\programs\\python\\python39\\lib\\site-packages (from ipywidgets>=7.0.0->cufflinks) (1.0.2)\n",
      "Requirement already satisfied: jupyter-client in c:\\users\\chait\\appdata\\local\\programs\\python\\python39\\lib\\site-packages (from ipykernel>=4.5.1->ipywidgets>=7.0.0->cufflinks) (6.1.12)\n",
      "Requirement already satisfied: tornado>=4.2 in c:\\users\\chait\\appdata\\local\\programs\\python\\python39\\lib\\site-packages (from ipykernel>=4.5.1->ipywidgets>=7.0.0->cufflinks) (6.1)\n",
      "Requirement already satisfied: parso<0.9.0,>=0.8.0 in c:\\users\\chait\\appdata\\local\\programs\\python\\python39\\lib\\site-packages (from jedi>=0.16->ipython>=5.3.0->cufflinks) (0.8.1)\n",
      "Requirement already satisfied: jupyter-core in c:\\users\\chait\\appdata\\local\\programs\\python\\python39\\lib\\site-packages (from nbformat>=4.2.0->ipywidgets>=7.0.0->cufflinks) (4.7.1)\n",
      "Requirement already satisfied: jsonschema!=2.5.0,>=2.4 in c:\\users\\chait\\appdata\\local\\programs\\python\\python39\\lib\\site-packages (from nbformat>=4.2.0->ipywidgets>=7.0.0->cufflinks) (3.2.0)\n",
      "Requirement already satisfied: attrs>=17.4.0 in c:\\users\\chait\\appdata\\local\\programs\\python\\python39\\lib\\site-packages (from jsonschema!=2.5.0,>=2.4->nbformat>=4.2.0->ipywidgets>=7.0.0->cufflinks) (20.3.0)\n",
      "Requirement already satisfied: pyrsistent>=0.14.0 in c:\\users\\chait\\appdata\\local\\programs\\python\\python39\\lib\\site-packages (from jsonschema!=2.5.0,>=2.4->nbformat>=4.2.0->ipywidgets>=7.0.0->cufflinks) (0.17.3)\n",
      "Requirement already satisfied: python-dateutil>=2.7.3 in c:\\users\\chait\\appdata\\local\\programs\\python\\python39\\lib\\site-packages (from pandas>=0.19.2->cufflinks) (2.8.1)\n",
      "Requirement already satisfied: pytz>=2017.3 in c:\\users\\chait\\appdata\\local\\programs\\python\\python39\\lib\\site-packages (from pandas>=0.19.2->cufflinks) (2021.1)\n",
      "Requirement already satisfied: tenacity>=6.2.0 in c:\\users\\chait\\appdata\\local\\programs\\python\\python39\\lib\\site-packages (from plotly>=4.1.1->cufflinks) (8.0.1)\n",
      "Requirement already satisfied: wcwidth in c:\\users\\chait\\appdata\\local\\programs\\python\\python39\\lib\\site-packages (from prompt-toolkit!=3.0.0,!=3.0.1,<3.1.0,>=2.0.0->ipython>=5.3.0->cufflinks) (0.2.5)\n",
      "Requirement already satisfied: notebook>=4.4.1 in c:\\users\\chait\\appdata\\local\\programs\\python\\python39\\lib\\site-packages (from widgetsnbextension~=3.5.0->ipywidgets>=7.0.0->cufflinks) (6.3.0)\n",
      "Requirement already satisfied: Send2Trash>=1.5.0 in c:\\users\\chait\\appdata\\local\\programs\\python\\python39\\lib\\site-packages (from notebook>=4.4.1->widgetsnbextension~=3.5.0->ipywidgets>=7.0.0->cufflinks) (1.5.0)\n",
      "Requirement already satisfied: pyzmq>=17 in c:\\users\\chait\\appdata\\local\\programs\\python\\python39\\lib\\site-packages (from notebook>=4.4.1->widgetsnbextension~=3.5.0->ipywidgets>=7.0.0->cufflinks) (22.0.3)\n",
      "Requirement already satisfied: argon2-cffi in c:\\users\\chait\\appdata\\local\\programs\\python\\python39\\lib\\site-packages (from notebook>=4.4.1->widgetsnbextension~=3.5.0->ipywidgets>=7.0.0->cufflinks) (20.1.0)\n",
      "Requirement already satisfied: jinja2 in c:\\users\\chait\\appdata\\local\\programs\\python\\python39\\lib\\site-packages (from notebook>=4.4.1->widgetsnbextension~=3.5.0->ipywidgets>=7.0.0->cufflinks) (2.11.3)\n",
      "Requirement already satisfied: prometheus-client in c:\\users\\chait\\appdata\\local\\programs\\python\\python39\\lib\\site-packages (from notebook>=4.4.1->widgetsnbextension~=3.5.0->ipywidgets>=7.0.0->cufflinks) (0.9.0)\n",
      "Requirement already satisfied: nbconvert in c:\\users\\chait\\appdata\\local\\programs\\python\\python39\\lib\\site-packages (from notebook>=4.4.1->widgetsnbextension~=3.5.0->ipywidgets>=7.0.0->cufflinks) (6.0.7)\n",
      "Requirement already satisfied: terminado>=0.8.3 in c:\\users\\chait\\appdata\\local\\programs\\python\\python39\\lib\\site-packages (from notebook>=4.4.1->widgetsnbextension~=3.5.0->ipywidgets>=7.0.0->cufflinks) (0.9.3)\n",
      "Requirement already satisfied: pywin32>=1.0 in c:\\users\\chait\\appdata\\local\\programs\\python\\python39\\lib\\site-packages (from jupyter-core->nbformat>=4.2.0->ipywidgets>=7.0.0->cufflinks) (300)\n",
      "Requirement already satisfied: pywinpty>=0.5 in c:\\users\\chait\\appdata\\local\\programs\\python\\python39\\lib\\site-packages (from terminado>=0.8.3->notebook>=4.4.1->widgetsnbextension~=3.5.0->ipywidgets>=7.0.0->cufflinks) (0.5.7)\n",
      "Requirement already satisfied: cffi>=1.0.0 in c:\\users\\chait\\appdata\\local\\programs\\python\\python39\\lib\\site-packages (from argon2-cffi->notebook>=4.4.1->widgetsnbextension~=3.5.0->ipywidgets>=7.0.0->cufflinks) (1.14.5)\n",
      "Requirement already satisfied: pycparser in c:\\users\\chait\\appdata\\local\\programs\\python\\python39\\lib\\site-packages (from cffi>=1.0.0->argon2-cffi->notebook>=4.4.1->widgetsnbextension~=3.5.0->ipywidgets>=7.0.0->cufflinks) (2.20)\n",
      "Requirement already satisfied: MarkupSafe>=0.23 in c:\\users\\chait\\appdata\\local\\programs\\python\\python39\\lib\\site-packages (from jinja2->notebook>=4.4.1->widgetsnbextension~=3.5.0->ipywidgets>=7.0.0->cufflinks) (1.1.1)\n",
      "Requirement already satisfied: mistune<2,>=0.8.1 in c:\\users\\chait\\appdata\\local\\programs\\python\\python39\\lib\\site-packages (from nbconvert->notebook>=4.4.1->widgetsnbextension~=3.5.0->ipywidgets>=7.0.0->cufflinks) (0.8.4)\n",
      "Requirement already satisfied: jupyterlab-pygments in c:\\users\\chait\\appdata\\local\\programs\\python\\python39\\lib\\site-packages (from nbconvert->notebook>=4.4.1->widgetsnbextension~=3.5.0->ipywidgets>=7.0.0->cufflinks) (0.1.2)\n",
      "Requirement already satisfied: defusedxml in c:\\users\\chait\\appdata\\local\\programs\\python\\python39\\lib\\site-packages (from nbconvert->notebook>=4.4.1->widgetsnbextension~=3.5.0->ipywidgets>=7.0.0->cufflinks) (0.7.1)\n",
      "Requirement already satisfied: bleach in c:\\users\\chait\\appdata\\local\\programs\\python\\python39\\lib\\site-packages (from nbconvert->notebook>=4.4.1->widgetsnbextension~=3.5.0->ipywidgets>=7.0.0->cufflinks) (3.3.0)\n",
      "Requirement already satisfied: testpath in c:\\users\\chait\\appdata\\local\\programs\\python\\python39\\lib\\site-packages (from nbconvert->notebook>=4.4.1->widgetsnbextension~=3.5.0->ipywidgets>=7.0.0->cufflinks) (0.4.4)\n",
      "Requirement already satisfied: pandocfilters>=1.4.1 in c:\\users\\chait\\appdata\\local\\programs\\python\\python39\\lib\\site-packages (from nbconvert->notebook>=4.4.1->widgetsnbextension~=3.5.0->ipywidgets>=7.0.0->cufflinks) (1.4.3)\n",
      "Requirement already satisfied: nbclient<0.6.0,>=0.5.0 in c:\\users\\chait\\appdata\\local\\programs\\python\\python39\\lib\\site-packages (from nbconvert->notebook>=4.4.1->widgetsnbextension~=3.5.0->ipywidgets>=7.0.0->cufflinks) (0.5.3)\n",
      "Requirement already satisfied: entrypoints>=0.2.2 in c:\\users\\chait\\appdata\\local\\programs\\python\\python39\\lib\\site-packages (from nbconvert->notebook>=4.4.1->widgetsnbextension~=3.5.0->ipywidgets>=7.0.0->cufflinks) (0.3)\n",
      "Requirement already satisfied: async-generator in c:\\users\\chait\\appdata\\local\\programs\\python\\python39\\lib\\site-packages (from nbclient<0.6.0,>=0.5.0->nbconvert->notebook>=4.4.1->widgetsnbextension~=3.5.0->ipywidgets>=7.0.0->cufflinks) (1.10)\n",
      "Requirement already satisfied: nest-asyncio in c:\\users\\chait\\appdata\\local\\programs\\python\\python39\\lib\\site-packages (from nbclient<0.6.0,>=0.5.0->nbconvert->notebook>=4.4.1->widgetsnbextension~=3.5.0->ipywidgets>=7.0.0->cufflinks) (1.5.1)\n",
      "Requirement already satisfied: packaging in c:\\users\\chait\\appdata\\local\\programs\\python\\python39\\lib\\site-packages (from bleach->nbconvert->notebook>=4.4.1->widgetsnbextension~=3.5.0->ipywidgets>=7.0.0->cufflinks) (20.9)\n",
      "Requirement already satisfied: webencodings in c:\\users\\chait\\appdata\\local\\programs\\python\\python39\\lib\\site-packages (from bleach->nbconvert->notebook>=4.4.1->widgetsnbextension~=3.5.0->ipywidgets>=7.0.0->cufflinks) (0.5.1)\n",
      "Requirement already satisfied: pyparsing>=2.0.2 in c:\\users\\chait\\appdata\\local\\programs\\python\\python39\\lib\\site-packages (from packaging->bleach->nbconvert->notebook>=4.4.1->widgetsnbextension~=3.5.0->ipywidgets>=7.0.0->cufflinks) (2.4.7)\n"
     ]
    },
    {
     "name": "stderr",
     "output_type": "stream",
     "text": [
      "WARNING: You are using pip version 21.2.4; however, version 21.3.1 is available.\n",
      "You should consider upgrading via the 'c:\\users\\chait\\appdata\\local\\programs\\python\\python39\\python.exe -m pip install --upgrade pip' command.\n"
     ]
    }
   ],
   "source": [
    "!pip install pyreadr\n",
    "!pip install cufflinks"
   ]
  },
  {
   "cell_type": "code",
   "execution_count": 2,
   "metadata": {
    "colab": {
     "base_uri": "https://localhost:8080/",
     "height": 17
    },
    "id": "J_1qdpujbRk-",
    "outputId": "d0b542da-7142-423a-9e70-67195f59e0b4"
   },
   "outputs": [
    {
     "data": {
      "text/html": [
       "        <script type=\"text/javascript\">\n",
       "        window.PlotlyConfig = {MathJaxConfig: 'local'};\n",
       "        if (window.MathJax) {MathJax.Hub.Config({SVG: {font: \"STIX-Web\"}});}\n",
       "        if (typeof require !== 'undefined') {\n",
       "        require.undef(\"plotly\");\n",
       "        requirejs.config({\n",
       "            paths: {\n",
       "                'plotly': ['https://cdn.plot.ly/plotly-2.6.3.min']\n",
       "            }\n",
       "        });\n",
       "        require(['plotly'], function(Plotly) {\n",
       "            window._Plotly = Plotly;\n",
       "        });\n",
       "        }\n",
       "        </script>\n",
       "        "
      ]
     },
     "metadata": {},
     "output_type": "display_data"
    }
   ],
   "source": [
    "import cufflinks as cf\n",
    "import matplotlib.pyplot as plt\n",
    "import plotly.offline as plyo\n",
    "plyo.init_notebook_mode(connected=True)"
   ]
  },
  {
   "cell_type": "code",
   "execution_count": 3,
   "metadata": {
    "id": "GLOCfDSzDWvW"
   },
   "outputs": [],
   "source": [
    "import pyreadr\n",
    "\n",
    "result = pyreadr.read_r('stocks.rds') # also works for RData\n",
    "df = result[None] "
   ]
  },
  {
   "cell_type": "code",
   "execution_count": 4,
   "metadata": {
    "id": "pj3wMHYhEp0P"
   },
   "outputs": [],
   "source": [
    "import pandas as pd\n",
    "df=pd.DataFrame(df)"
   ]
  },
  {
   "cell_type": "code",
   "execution_count": 5,
   "metadata": {
    "colab": {
     "base_uri": "https://localhost:8080/",
     "height": 450
    },
    "id": "P_gXCAKJEuWI",
    "outputId": "29bf0fa8-fcc6-44da-b261-06cc5513b82f"
   },
   "outputs": [
    {
     "data": {
      "text/plain": [
       "<AxesSubplot:>"
      ]
     },
     "execution_count": 5,
     "metadata": {},
     "output_type": "execute_result"
    },
    {
     "data": {
      "image/png": "[encoded data removed]",
      "text/plain": [
       "<Figure size 1800x720 with 2 Axes>"
      ]
     },
     "metadata": {
      "needs_background": "light"
     },
     "output_type": "display_data"
    }
   ],
   "source": [
    "import missingno as msno\n",
    "msno.matrix(df)"
   ]
  },
  {
   "cell_type": "markdown",
   "metadata": {
    "id": "WvH_Z0EfGzQD"
   },
   "source": [
    "no non-numerical value,missing data might be zeroes where they dont make sense, to be handled when encountered."
   ]
  },
  {
   "cell_type": "code",
   "execution_count": 6,
   "metadata": {
    "colab": {
     "base_uri": "https://localhost:8080/"
    },
    "id": "xGmXTA8dJzfd",
    "outputId": "5e59079b-e905-495c-ab59-3ef7a671dab1"
   },
   "outputs": [
    {
     "name": "stdout",
     "output_type": "stream",
     "text": [
      "ticker             a\n",
      "date      2005-08-15\n",
      "open           20.05\n",
      "high          20.825\n",
      "low           19.812\n",
      "close         20.472\n",
      "volume    32986983.0\n",
      "Name: 155, dtype: object\n",
      "ticker             aa\n",
      "date       2009-03-19\n",
      "open           12.131\n",
      "high           14.072\n",
      "low            11.965\n",
      "close          13.362\n",
      "volume    115961625.0\n",
      "Name: 4298, dtype: object\n",
      "ticker            aal\n",
      "date       2015-03-20\n",
      "open           53.761\n",
      "high           54.598\n",
      "low            53.438\n",
      "close          54.317\n",
      "volume    141430049.0\n",
      "Name: 6798, dtype: object\n",
      "ticker          aamc\n",
      "date      2016-10-13\n",
      "open            55.0\n",
      "high         59.5012\n",
      "low            39.37\n",
      "close           41.2\n",
      "volume      300450.0\n",
      "Name: 8413, dtype: object\n",
      "ticker          aame\n",
      "date      2011-03-18\n",
      "open          1.9539\n",
      "high          1.9923\n",
      "low           1.9539\n",
      "close         1.9923\n",
      "volume      234903.0\n",
      "Name: 10005, dtype: object\n"
     ]
    },
    {
     "data": {
      "image/png": "[encoded data removed]",
      "text/plain": [
       "<Figure size 1200x560 with 1 Axes>"
      ]
     },
     "metadata": {
      "needs_background": "light"
     },
     "output_type": "display_data"
    }
   ],
   "source": [
    "tickers=df.groupby('ticker')\n",
    "from matplotlib.pyplot import figure\n",
    "\n",
    "figure(figsize=(15, 7), dpi=80)\n",
    "for i in list(tickers.groups.keys())[:5]:\n",
    "    plt.plot(tickers.get_group(i)['date'],tickers.get_group(i)['volume'],label=i)\n",
    "    print(tickers.get_group(i).iloc[tickers.get_group(i)['volume'].argmax()])\n",
    "    plt.legend()"
   ]
  },
  {
   "cell_type": "code",
   "execution_count": 7,
   "metadata": {},
   "outputs": [],
   "source": [
    "import numpy as np\n",
    "ticker_means=tickers.agg(np.mean)\n",
    "ticker_stds=tickers.agg(np.std)\n",
    "ticker_medians=tickers.agg(np.median)"
   ]
  },
  {
   "cell_type": "code",
   "execution_count": 8,
   "metadata": {
    "id": "649NcwaTLdrm"
   },
   "outputs": [
    {
     "data": {
      "application/vnd.plotly.v1+json": {
       "config": {
        "linkText": "Export to plot.ly",
        "plotlyServerURL": "https://plot.ly",
        "showLink": false
       },
       "data": [
        {
         "line": {
          "color": "rgba(255, 153, 51, 1.0)",
          "dash": "solid",
          "shape": "linear",
          "width": 1.3
         },
         "mode": "lines",
         "name": "volume",
         "text": "",
         "type": "scatter",
         "x": [
          "a",
          "aa",
          "aal",
          "aamc",
          "aame",
          "aan",
          "aaoi",
          "aaon",
          "aap",
          "aapl",
          "aat",
          "aau",
          "aaww",
          "aaxn",
          "ab",
          "abbv",
          "abc",
          "abcb",
          "abeo",
          "abev",
          "abg",
          "abio",
          "abm",
          "abmd",
          "abr",
          "abt",
          "abtx",
          "abus",
          "ac",
          "acad",
          "acbi",
          "acc",
          "acco",
          "acer",
          "achc",
          "achv",
          "acia",
          "aciw",
          "acls",
          "acm",
          "acmr",
          "acnb",
          "acor",
          "acre",
          "acrs",
          "acrx",
          "acst",
          "actg",
          "acu",
          "acv",
          "acy",
          "adbe",
          "adc",
          "ades",
          "adi",
          "adm",
          "adma",
          "admp",
          "adms",
          "adom",
          "adp",
          "adro",
          "ads",
          "adsk",
          "adsw",
          "adtn",
          "adus",
          "advm",
          "adx",
          "adxs",
          "ae",
          "aee",
          "aegn",
          "aehr",
          "aeis",
          "ael",
          "aem",
          "aemd",
          "aeo",
          "aep",
          "aeri",
          "aes",
          "aey",
          "aezs",
          "afb",
          "afg",
          "afh",
          "afhbl",
          "afi",
          "afl",
          "aft",
          "ag",
          "agco",
          "agen",
          "agfs",
          "agi",
          "agio",
          "agle",
          "agm",
          "agm-a",
          "agnc",
          "agncn",
          "agr",
          "agro",
          "agrx",
          "agtc",
          "agx",
          "agys",
          "ahc",
          "ahh",
          "ahpi",
          "aht",
          "ai",
          "aif",
          "aig",
          "aimc",
          "aimt",
          "ain",
          "ainc",
          "ainv",
          "air",
          "airg",
          "airi",
          "airt",
          "ait",
          "aiv",
          "aiw",
          "aiz",
          "ajg",
          "ajrd",
          "ajx",
          "akam",
          "akba",
          "akca",
          "aker",
          "akg",
          "akr",
          "akrx",
          "akts",
          "al",
          "alb",
          "albo",
          "alco",
          "aldx",
          "ale",
          "alex",
          "alg",
          "algn",
          "algt",
          "alim",
          "aljj",
          "alk",
          "all",
          "ally",
          "alna",
          "alny",
          "alo",
          "alot",
          "alpn",
          "alrm",
          "alrn",
          "alsk",
          "alsn",
          "alt",
          "altr",
          "alx",
          "alxn",
          "am",
          "amag",
          "amat",
          "amba",
          "ambc",
          "amc",
          "amcx",
          "amd",
          "ame",
          "amed",
          "amg",
          "amgn",
          "amh",
          "amkr",
          "amn",
          "amnb",
          "amot",
          "amov",
          "amp",
          "ampe",
          "amph",
          "amrb",
          "amrc",
          "amrk",
          "amrs",
          "ams",
          "amsc",
          "amsf",
          "amswa",
          "amt",
          "amtd",
          "amtx",
          "amwd",
          "amx",
          "amzn",
          "an",
          "anab",
          "anat",
          "ande",
          "anet",
          "anf",
          "angi",
          "ango",
          "anh",
          "anik",
          "anip",
          "anss",
          "anth",
          "antm",
          "any",
          "aobc",
          "aos",
          "aosl",
          "ap",
          "apa",
          "apam",
          "apd",
          "apdn",
          "apei",
          "apen",
          "aph",
          "aple",
          "apls",
          "apo",
          "apog",
          "appf",
          "appn",
          "apps",
          "aprn",
          "apt",
          "apto",
          "apts",
          "apvo",
          "aqb",
          "aqms",
          "aqn",
          "aqua",
          "ar",
          "ara",
          "aray",
          "arc",
          "arcb",
          "arcc",
          "arch",
          "arcw",
          "ardc",
          "ardx",
          "are",
          "ares",
          "ari",
          "arkr",
          "arl",
          "arlp",
          "armk",
          "arna",
          "arnc",
          "aroc",
          "arow",
          "arql",
          "arr",
          "artna",
          "artw",
          "arw",
          "arwr",
          "asa",
          "asb",
          "asfi",
          "asg",
          "asgn",
          "ash",
          "asix",
          "asm",
          "asmb",
          "asna",
          "aspn",
          "aspu",
          "asr",
          "asrv",
          "astc",
          "aste",
          "asur",
          "asx",
          "asys",
          "at",
          "atax",
          "atec",
          "aten",
          "atge",
          "athx",
          "ati",
          "atkr",
          "atlc",
          "atlo",
          "atni",
          "atnm",
          "atnx",
          "ato",
          "atom",
          "atos",
          "atr",
          "atra",
          "atrc",
          "atri",
          "atro",
          "atrs",
          "atsg",
          "atus",
          "atvi",
          "atxi",
          "aubn",
          "aug",
          "aumn",
          "auph",
          "auto",
          "auy",
          "ava",
          "avav",
          "avb",
          "avd",
          "aveo",
          "avgo",
          "avgr",
          "avid",
          "avk",
          "avnw",
          "avt",
          "avx",
          "avxl",
          "avy",
          "awf",
          "awi",
          "awk",
          "awr",
          "awre",
          "awx",
          "axas",
          "axdx",
          "axe",
          "axgn",
          "axl",
          "axp",
          "axr",
          "axsm",
          "axta",
          "axti",
          "axu",
          "ayi",
          "ayr",
          "aytu",
          "ayx",
          "azo",
          "azpn",
          "azrx",
          "azul",
          "azz",
          "b",
          "ba",
          "bac",
          "baf",
          "bah",
          "bak",
          "bam",
          "banc",
          "band",
          "banf",
          "banr",
          "banx",
          "basi",
          "batra",
          "batrk",
          "bax",
          "bb",
          "bbby",
          "bbd",
          "bbdo",
          "bbf",
          "bbgi",
          "bbk",
          "bbl",
          "bbn",
          "bbsi",
          "bbw",
          "bbx",
          "bby",
          "bc",
          "bcbp",
          "bcc",
          "bce",
          "bcei",
          "bcli",
          "bco",
          "bcor",
          "bcov",
          "bcpc",
          "bcrx",
          "bctf",
          "bcv",
          "bcx",
          "bdc",
          "bdge",
          "bdj",
          "bdl",
          "bdn",
          "bdr",
          "bdsi",
          "bdx",
          "beat",
          "bebe",
          "becn",
          "belfa",
          "belfb",
          "ben",
          "bep",
          "bery",
          "bf-a",
          "bf-b",
          "bfam",
          "bfin",
          "bfk",
          "bfo",
          "bfs",
          "bfy",
          "bfz",
          "bg",
          "bgb",
          "bgcp",
          "bgfv",
          "bgg",
          "bgh",
          "bgi",
          "bgio",
          "bgr",
          "bgs",
          "bgsf",
          "bgt",
          "bgx",
          "bgy",
          "bh",
          "bhb",
          "bhe",
          "bhf",
          "bhk",
          "bhlb",
          "bhp",
          "bhv",
          "bhvn",
          "bidu",
          "bif",
          "big",
          "biib",
          "bio",
          "bio-b",
          "bioc",
          "biol",
          "bit",
          "bjri",
          "bk",
          "bkcc",
          "bkd",
          "bke",
          "bkep",
          "bkepp",
          "bkh",
          "bki",
          "bkk",
          "bkn",
          "bksc",
          "bkt",
          "bku",
          "bkyi",
          "bl",
          "blbd",
          "blcm",
          "bld",
          "bldp",
          "bldr",
          "ble",
          "blfs",
          "blin",
          "blk",
          "blkb",
          "bll",
          "blmn",
          "blph",
          "blue",
          "blw",
          "bmch",
          "bme",
          "bmi",
          "bmo",
          "bmra",
          "bmrc",
          "bmrn",
          "bmtc",
          "bmy",
          "bned",
          "bnft",
          "bns",
          "bntc",
          "bny",
          "boch",
          "boe",
          "boh",
          "bokf",
          "bokfl",
          "bold",
          "bomn",
          "boom",
          "boot",
          "botj",
          "box",
          "bpfh",
          "bpmc",
          "bpmp",
          "bpmx",
          "bpop",
          "bprn",
          "bpt",
          "bpth",
          "bqh",
          "br",
          "brc",
          "brew",
          "brfs",
          "brg",
          "brid",
          "brk-a",
          "brk-b",
          "brkl",
          "brkr",
          "brks",
          "brn",
          "bro",
          "brt",
          "brx",
          "bsbr",
          "bsd",
          "bse",
          "bset",
          "bsl",
          "bsm",
          "bsmx",
          "bsqr",
          "bsrr",
          "bst",
          "bstc",
          "bsx",
          "bta",
          "bte",
          "btg",
          "btn",
          "bto",
          "btt",
          "btu",
          "btz",
          "bui",
          "burl",
          "buse",
          "bv",
          "bvsn",
          "bw",
          "bwa",
          "bwen",
          "bwfg",
          "bwg",
          "bwxt",
          "bx",
          "bxc",
          "bxmt",
          "bxmx",
          "bxp",
          "bxs",
          "by",
          "byd",
          "byfc",
          "bym",
          "bysi",
          "bzh",
          "bzm",
          "c",
          "cabo",
          "cac",
          "cacc",
          "caci",
          "cade",
          "cae",
          "caf",
          "cag",
          "cah",
          "cai",
          "cake",
          "cal",
          "cala",
          "calm",
          "calx",
          "camp",
          "capl",
          "capr",
          "car",
          "cara",
          "carg",
          "caro",
          "cars",
          "carv",
          "cash",
          "casi",
          "cass",
          "casy",
          "cat",
          "catb",
          "catc",
          "catm",
          "cato",
          "cats",
          "caty",
          "cban",
          "cbay",
          "cbb",
          "cbd",
          "cbfv",
          "cbh",
          "cbio",
          "cbl",
          "cbli",
          "cbm",
          "cbmg",
          "cboe",
          "cbrl",
          "cbsh",
          "cbshp",
          "cbt",
          "cbtx",
          "cbu",
          "cbz",
          "cc",
          "ccbg",
          "ccd",
          "ccf",
          "cci",
          "ccj",
          "cck",
          "ccl",
          "cclp",
          "ccmp",
          "ccne",
          "cco",
          "ccoi",
          "ccrn",
          "ccs",
          "ccur",
          "ccxi",
          "cde",
          "cdev",
          "cdk",
          "cdna",
          "cdns",
          "cdor",
          "cdr",
          "cdti",
          "cdtx",
          "cdw",
          "cdxc",
          "cdxs",
          "cdzi",
          "ce",
          "cece",
          "cei",
          "celc",
          "celg",
          "celh",
          "celp",
          "cem",
          "cemi",
          "cen",
          "cent",
          "centa",
          "cenx",
          "ceqp",
          "cerc",
          "cern",
          "cers",
          "cet",
          "cetx",
          "cetxp",
          "cev",
          "ceva",
          "cf",
          "cfbi",
          "cfbk",
          "cffi",
          "cffn",
          "cfg",
          "cfms",
          "cfnb",
          "cfr",
          "cfrx",
          "cfx",
          "cg",
          "cga",
          "cgbd",
          "cgix",
          "cgnx",
          "cgo",
          "chci",
          "chco",
          "chct",
          "chd",
          "chdn",
          "che",
          "chef",
          "chfs",
          "chgg",
          "chh",
          "chi",
          "chkr",
          "chma",
          "chmg",
          "chmi",
          "chn",
          "chrs",
          "chrw",
          "chs",
          "chscl",
          "chscm",
          "chscn",
          "chsco",
          "chscp",
          "chtr",
          "chuy",
          "chw",
          "chy",
          "ci",
          "cia",
          "cidm",
          "cien",
          "cif",
          "cig",
          "cig-c",
          "cigi",
          "cii",
          "cik",
          "cim",
          "cinf",
          "cinr",
          "cio",
          "cir",
          "cit",
          "civb",
          "cix",
          "cizn",
          "ckh",
          "ckpt",
          "ckx",
          "cl",
          "clar",
          "clbs",
          "clct",
          "cldr",
          "cldt",
          "cldx",
          "clf",
          "clfd",
          "clgx",
          "clh",
          "cli",
          "clir",
          "clm",
          "clmt",
          "clne"
         ],
         "y": [
          4087117.31491201,
          9399793.174436554,
          10045407.467138523,
          17644.431048720067,
          6715.7614490772385,
          713972.3823805061,
          794086.874159462,
          204258.34520462356,
          1225192.712902218,
          150055997.36739734,
          215145.48514851485,
          186900.68146049732,
          264112.3421884883,
          1408831.3261480788,
          560349.3623867541,
          8807200.276960785,
          3007064.7391170114,
          84035.47110278039,
          660221.8628257888,
          17292400.177848354,
          322778.00437363324,
          25471.197438300533,
          306788.99406435486,
          347991.4992185058,
          242844.94501718212,
          13460826.372337142,
          37785.72400756144,
          314008.8922008983,
          21905.097759674136,
          1105535.7046875,
          72084.064453125,
          753284.493283349,
          593265.8488975357,
          7557.08544,
          599459.8265171504,
          15688.234375,
          1248317.240105541,
          791555.8834739143,
          239281.23586379256,
          1009096.0774169185,
          131621.16666666666,
          4290.448154657293,
          631035.0905711389,
          205845.37580529705,
          168356.76559546313,
          466757.14277180406,
          40807.62975206612,
          406960.3858169322,
          8817.374189364462,
          62842.3776,
          8512.929582099376,
          5279521.447360297,
          100424.96875976257,
          92021.48235294118,
          3822732.5412164247,
          5625244.239888854,
          32711.490066225164,
          97780.25080179602,
          249604.90838852097,
          156173.94285714286,
          3152342.455387465,
          393296.6825153374,
          1016140.8878475477,
          3037530.939487496,
          386080.7913669065,
          972618.2358637926,
          60886.40603363007,
          326954.8661037394,
          166854.69603248985,
          276601.59343263373,
          10208.79962370649,
          1864479.8660080272,
          225860.8224852071,
          41851.963770439244,
          442104.2414870353,
          588735.5376444861,
          2525777.9966038903,
          100051.85423728813,
          5878037.471727585,
          3553813.8604507563,
          520670.88627450983,
          6089010.762272307,
          29580.87531806616,
          137533.51983755076,
          84659.63511402687,
          540707.3661355827,
          48079.791946308724,
          3482.095238095238,
          206810.48648648648,
          3411548.429144798,
          91959.95665083136,
          1269095.844155844,
          1450624.980006248,
          465552.24554826616,
          161951.35768261965,
          1310189.0935672515,
          569933.6104972375,
          61453.654320987655,
          101967.1905654483,
          5010.374799357945,
          6435507.786371238,
          182075,
          524182.88308977033,
          339577.25834797893,
          146329.92465753425,
          128645.79475982532,
          72231.57274991107,
          132039.07154014372,
          159460.90016233767,
          234253.28797190517,
          10639.83216538192,
          1302672.8491096532,
          277927.8822243049,
          79132.75105130361,
          8135407.923124421,
          178248.00291332847,
          273661.58987783594,
          190829.55982505466,
          5740.366032210834,
          2683586.9953139643,
          383357.07091533893,
          233601.9082278481,
          23344.372290292176,
          30676.766110565914,
          296706.0777881912,
          1794815.0759493671,
          3747.166130760986,
          1038201.0271790066,
          856679.5673227117,
          494338.96438612934,
          57510.145743145746,
          3527390.2633552016,
          366141.54288816504,
          501289.6823529412,
          63944.205020920504,
          297477.5337653479,
          384402.9659481412,
          916956.540625,
          74694.92397660819,
          689486.8730255164,
          991910.7763199001,
          10266.867019267094,
          14815.4996875,
          94749.56708004509,
          236902.264604811,
          437683.6757263355,
          37216.77211628634,
          871877.9059668854,
          211564.70956015994,
          216930.86764705883,
          46110.313157894736,
          2147808.907216495,
          3993477.835751775,
          4248965.549668875,
          481499,
          528516.0593564512,
          55073.98149372108,
          8371.524439918534,
          41688.17763157895,
          298340.7021630616,
          75849.69473684211,
          439218.7791315214,
          1223709.1325385694,
          247219.86535904257,
          1465326.5,
          10472.2465625,
          1926651.0303030303,
          499875.80946123524,
          474094.3173858662,
          20892229.92559432,
          1388736.7806401248,
          420850.29334500874,
          750832.4567650051,
          654423.5143570537,
          25045662.30348873,
          1322910.4201811934,
          514518.50609184627,
          538658.9787566386,
          7353965.157456005,
          1705674.6472222223,
          2110642.9428303656,
          385410.97157138394,
          13147.623206885559,
          26739.335342639595,
          11103.988714733543,
          2082700.3917020583,
          458765.98651960783,
          269715.7049180328,
          9867.121705174097,
          110955.24321389793,
          19529.403951701428,
          64034.21205357143,
          11066.196623634558,
          79606.46266791628,
          120233.45472636816,
          87935.12308653546,
          3185310.413308341,
          4656803.533270853,
          21611.547759167042,
          105331.91065292097,
          8502485.512652297,
          6000297.676752084,
          1518097.9746835444,
          215792.36633663366,
          26514.50172036284,
          352235.7828803499,
          728475.4913494809,
          3369577.5560762263,
          851659.8763297872,
          177711.14401749455,
          1987075.4342393002,
          109637.89284598563,
          90540.27366447986,
          529674.9303342706,
          74019.0736354274,
          3436914.7313985797,
          76669.60355029585,
          1258805.8628553578,
          1626258.802249297,
          88961.55660874145,
          58829.933083176984,
          3996827.0753318924,
          413617.3934010152,
          1564556.0870639086,
          46815.5334375,
          158879.76468253968,
          16103.313679245282,
          2109355.4786004373,
          1156630.8742038216,
          1240330.5,
          1131419.1766826923,
          253270.36613558262,
          74632.40432612313,
          272230.91596638656,
          280410.06552962295,
          3666935.6842105263,
          197541.93283348953,
          74985.65784499055,
          125303.70758122744,
          353493.7409638554,
          20589.642512077295,
          180692.23784722222,
          106078.47083333334,
          2887120.4285714286,
          2428570.517943744,
          158510.36202531646,
          702742.9118406492,
          234430.96595877578,
          465321.5510777882,
          2155975.2924086223,
          503757.71942446043,
          24565.313405124398,
          86457.69335468375,
          227706.8881118881,
          589857.2180568572,
          103401.64719101123,
          599898.6749633967,
          7008.76077795786,
          5869.075824549473,
          349238.8334895345,
          1442409.1519756839,
          393568.1640625,
          4525479.876923077,
          705216.8330058939,
          31414.89659481412,
          321581.3402061856,
          705525.6082431307,
          17521.086018142007,
          20320.011616650532,
          816500.4901593252,
          1090282.8921832885,
          155220.89971883787,
          951161.2066115702,
          72940.85947302384,
          117443.2742892846,
          279685.8056857232,
          2096722.0882988577,
          369916.6928571428,
          175586.72232885475,
          56401.396541786744,
          2174666.160524672,
          66547.67828106853,
          29181.27142857143,
          108696.71727585129,
          19544.38371356147,
          16916.4678125,
          170160.77944392376,
          31045.582343499198,
          1148983.291875,
          91625.6502031885,
          507402.511118378,
          124426.9126335638,
          27691.191814082555,
          451445.30217391305,
          859703.2649172134,
          497951.2444794953,
          2281306.75733251,
          379053.68888888886,
          227382.41231463573,
          11504.729922279792,
          61907.244930291505,
          499124.0229007634,
          175339.56603773584,
          537315.7994376757,
          23063.74213836478,
          259043.39603174603,
          308057.9218994064,
          230937.71483870968,
          96565.72441709845,
          4177.020685197156,
          95204.14307787392,
          737223.5945017182,
          324604.4611059044,
          1771689.1,
          9984818.064979693,
          35506.0824742268,
          3122.6172472387425,
          94312.02409638555,
          249275.11536643025,
          1373373.8721518987,
          70095.30759612379,
          10253437.065604499,
          411189.8300531084,
          235499.12522952625,
          1147102.9681349578,
          169333.39768822244,
          931114.1262286601,
          2451902.555448872,
          455446.0298719772,
          376223.186875,
          118356.06747891284,
          26100.983075791024,
          1304236.615120275,
          317128.7394564199,
          1136232.5844660194,
          1019122.5757949984,
          331965.7116526086,
          539883.8749552132,
          1085065.2292358803,
          231415.24117463292,
          60471.9752583777,
          7865.193181818182,
          964990.8591065292,
          95809.49134615385,
          347852.3345829428,
          46983.42985409652,
          1827162.8812870977,
          8449589.548008645,
          27943.85845047401,
          97124.24048096192,
          1986846.0277777778,
          227682.78444236176,
          270819.70942228334,
          472279.2102467979,
          594164.5946422277,
          56583.75,
          404234.72839506174,
          564175.6798394566,
          529085.5554514214,
          29566.551470588234,
          419903.82666666666,
          219022.0447434293,
          380973.49234614184,
          5733328.343933313,
          124778988.90892251,
          26449.107466416746,
          811884.6657175398,
          410736.97781943146,
          1553944.2511715088,
          419744.6820546164,
          2318015,
          58249.59606373008,
          146862.9962593516,
          22478.055390702277,
          24750.168817934784,
          86820.97738693467,
          211509.30904522614,
          6890071.794689719,
          18467850.297005247,
          3249546.3775856746,
          16420027.965010934,
          6008.107049608355,
          19976.306224585547,
          14897.428385416666,
          33138.98125585754,
          1354007.6413620743,
          294091.1831218974,
          67050.04904717275,
          187695.83817557013,
          252619.68604651163,
          7682863.597406607,
          1284655.6835443038,
          9815.513883880274,
          406142.5915141431,
          993599.8166198063,
          31686.531313131312,
          204273.19465648854,
          432858.0774757888,
          462864.58575445175,
          308955.12673130195,
          111673.21024679787,
          871558.9915651359,
          3894.788395904437,
          14755.46735395189,
          356047.4819711539,
          375452.16713527025,
          21456.661513157895,
          465235.89593495935,
          3417.452653927813,
          1793591.0037488285,
          30428.67391304348,
          390664.5530184548,
          1349692.2056190183,
          367234.1517269737,
          65443.014375,
          509299.1140268666,
          3952.1336109008325,
          37358.10153077164,
          3876555.5745600495,
          51105.99731182796,
          1122123.8171206226,
          21182.86736378646,
          920159.0439802089,
          207684.12396694216,
          57786.703109971146,
          118057.52014995314,
          12153.24834332597,
          54911.74695407685,
          12851.74413512668,
          65578.66885348328,
          1426616.101843174,
          212475.601859024,
          1034926.6585442049,
          247366.0365510778,
          576646.1908778506,
          109924.55713159968,
          38942.89041666667,
          60780.18681318681,
          179784.1287097782,
          456719.0360121304,
          39734.622641509435,
          112846.27835051547,
          68039.11364967779,
          603130.9639742131,
          8802.488284910965,
          14977.115899444989,
          425787.58575445175,
          1159236.7108433736,
          117866.84473602,
          80989.98406747892,
          4060301.263042799,
          3987.1916817359856,
          226398.91044776118,
          15218330.973462783,
          106728.6428125,
          1646510.9803186504,
          2839982.281259648,
          98853.35645110902,
          919.6444444444444,
          466539.532631579,
          208995.9671977507,
          176961.2952060555,
          292818.1318338019,
          7513972.326644026,
          610414.7200764818,
          1516911.2574651625,
          652885.1743205248,
          69839.55147058824,
          18014.32603773585,
          362300.90690409247,
          308278.8070175439,
          39385.51796313652,
          50214.839737582006,
          3420.2659535226853,
          209130.86597938143,
          670186.2214411248,
          15628.21794871795,
          247302.76335877864,
          48365.85766871166,
          438450.3707250342,
          363068.7090301003,
          960910.941580756,
          465958.7958987504,
          69973.86223055296,
          125422.30525164114,
          7611.654444001594,
          679650.3748828492,
          268809.5467041549,
          2947669.7777091693,
          1328923.2860377359,
          338180.0461760462,
          778743.0279279279,
          161953.5788815995,
          231368.6005586592,
          37237.052499214085,
          198873.61418306778,
          629771.1658856607,
          16557.373333333333,
          12220.004440215667,
          1329540.1119099718,
          31316.84274952919,
          12191667.938561285,
          310056.9043478261,
          202077.82330468003,
          602468.8562949079,
          92298.73690932311,
          30614.401749453296,
          17882.59376083189,
          261238.72243467177,
          404485.67166510463,
          139179.1708840987,
          32678.752161383287,
          122095.84084084084,
          28289.448598130843,
          433792.81505779445,
          373251.0758169935,
          3111.8978873239435,
          1273913.5903954802,
          575331.3002186817,
          290789.864274571,
          2196661.0833333335,
          546419.2528089888,
          711637.0196813496,
          24247.972602739726,
          311015.4720399875,
          117242.42615239887,
          7175.009853782581,
          916990.9779932861,
          291556.1202749141,
          48391.51986237097,
          1255174.404315197,
          163154.62295081967,
          3135.390012914335,
          577.0988264360717,
          28741488.075046323,
          423940.89878163073,
          663279.0690409247,
          577467.5060918463,
          12398.796802131912,
          791120.5560762262,
          22410.235387045814,
          1974347.0560471977,
          6649879.617647059,
          25290.73289597001,
          16066.141919349797,
          47864.62792877226,
          78101.40563530037,
          232795.4609375,
          2124265.913245546,
          59721.71626297578,
          25580.76617693029,
          109438.53394255874,
          22831.58247775496,
          13044906.379438099,
          56549.54998305659,
          703065.5459662289,
          3411470.184986595,
          52756.666248037676,
          85147.82911590129,
          214435.49770992366,
          1195145.8506493506,
          287144.4713608172,
          71239.34866666667,
          1061762.4850530375,
          57734.0246875,
          551309.098611111,
          36912.99107996177,
          804777.0986622074,
          2581528.1874414245,
          77762.39847631667,
          12243.864583333334,
          117971.56386732534,
          730746.7073578596,
          5375054.14973262,
          14249.118474523288,
          264298.0262417994,
          196130.27897532022,
          1447441.368947204,
          617974.412371134,
          103917.9255319149,
          1606255.4426741644,
          7407.960057747834,
          69881.59825054671,
          6688.694117647059,
          616136.1487035302,
          4858.279902642559,
          25378418.53720284,
          39162.19063545151,
          28983.938769134646,
          68733.94761606022,
          311193.9831302718,
          173424.83783783784,
          60401.708840987194,
          414254.2552659764,
          4120992.976227231,
          3117825.9617165793,
          103899.58229284904,
          1176139.1605748204,
          472527.88284910965,
          411534.61656050954,
          556207.8787878788,
          339287.3283116883,
          285945.73289597,
          101163.29921259843,
          109316.6421194432,
          1911365.226179319,
          766615.8238993711,
          1177971.9545454546,
          29974.875406283856,
          1637629.105263158,
          6289.228624535316,
          20357.636486944728,
          51763.1178125,
          20834.331736909324,
          411468.48234926583,
          8069898.03612226,
          458672.23089700995,
          1116.6923076923076,
          313364.8043217287,
          233666.9137769447,
          9929.077828054298,
          514749.7728834739,
          4508.864220183486,
          309312.4601873536,
          299234.96782255545,
          650589.6963448923,
          4581.778106508876,
          46744.40625,
          36348.12688614541,
          2455308.17494533,
          63102.776685393255,
          241692.84286160575,
          18921.293209876545,
          677726.7243040685,
          516779.2739768822,
          463333.03061543265,
          18696.57832744405,
          457226.8325523274,
          439979,
          217738.79412683536,
          254470.68728522336,
          3088310.364548495,
          28799.628241174632,
          115510.76807228915,
          17721.012238325282,
          2354239.6238675416,
          2665127.467353952,
          1228170.756326148,
          5029746.290302656,
          111530.48791072535,
          282211.00281162135,
          18258.995412844037,
          788554.6216484607,
          492629.15713839425,
          188714.26991565136,
          130261.06286379512,
          55961.93861572189,
          229246.18978605935,
          2121081.994376757,
          1043384.4375,
          1041462.5573770492,
          113273.11230585424,
          3152380.965635739,
          3042.9872367581365,
          392366.33801936894,
          50780.56949040371,
          82610.92024539877,
          819516.2472826086,
          93323.47396107312,
          141289.3994750656,
          62633.9276420184,
          1495812.0477975633,
          96851.95470165573,
          183164.71208406304,
          79625.65789473684,
          7208673.314589191,
          81646.71666666666,
          53446.74611398964,
          260131.9698924731,
          21102.286494357482,
          135292.4409221902,
          177743.18712902218,
          257693.33652782897,
          1876778.3174008122,
          189622.02842861606,
          261641.054,
          2780664.6316776006,
          552522.325523274,
          31000.71022194436,
          273053.9485049834,
          5846.45,
          19992.736957200876,
          131579.11433926897,
          8563325.205443941,
          26526.496240601504,
          9640.028694404591,
          6498.898900319262,
          756354.5940037477,
          5447505.367888749,
          361084.483277592,
          5520.3417675100845,
          540674.5816932209,
          59721.591194968554,
          632826.035460993,
          740660.8110632184,
          221360.17709663688,
          138126.27358490566,
          129261.15172413793,
          569029.0393626991,
          47543.35191292876,
          20390.266477451907,
          75328.32989690722,
          89234.8945686901,
          1779239.6088722274,
          51429.352077475785,
          217187.9247110278,
          124408.89134554644,
          6874.287234042553,
          698757.8768619662,
          343168.1302717901,
          310437.8072477351,
          449738.7659151194,
          188611.87585034015,
          6856.116818558409,
          99236.52946859904,
          151481.7185254608,
          373884.4947368421,
          1725489.1998147005,
          3356979.7075913777,
          57508.509887005646,
          64557.60427135678,
          35273.86933045356,
          30738.790944123313,
          17420.563806380636,
          943661.9736842106,
          219303.0883233533,
          332780.2087954111,
          317882.47985004686,
          2720161.2445954294,
          87777.67885035927,
          28936.209753047828,
          3922736.2513121334,
          84414.36269915651,
          6541311.09746954,
          4454.199001426534,
          40106.36304700162,
          174128.24586066854,
          202952.00562324273,
          3427024.1335984096,
          1004877.423587527,
          38061.7258382643,
          107581.58139534884,
          107421.91971258982,
          1804325.3350050151,
          8686.118535930154,
          7737.828831760495,
          3965.049015317287,
          342365.6632302406,
          9536.88429752066,
          2733.265724037055,
          5068475.646386659,
          92524.85800316957,
          15965.01384767557,
          51311.3934375,
          1197593.652173913,
          203931.32844421163,
          1016592.9153389565,
          6694260.446422993,
          53112.63659226659,
          844746.4014370509,
          489560.12558575446,
          1031883.7057169634,
          62805.90486409156,
          121160.55420181193,
          372691.17435207,
          1296480.731892302
         ]
        }
       ],
       "layout": {
        "legend": {
         "bgcolor": "#F5F6F9",
         "font": {
          "color": "#4D5663"
         }
        },
        "paper_bgcolor": "#F5F6F9",
        "plot_bgcolor": "#F5F6F9",
        "template": {
         "data": {
          "bar": [
           {
            "error_x": {
             "color": "#2a3f5f"
            },
            "error_y": {
             "color": "#2a3f5f"
            },
            "marker": {
             "line": {
              "color": "#E5ECF6",
              "width": 0.5
             },
             "pattern": {
              "fillmode": "overlay",
              "size": 10,
              "solidity": 0.2
             }
            },
            "type": "bar"
           }
          ],
          "barpolar": [
           {
            "marker": {
             "line": {
              "color": "#E5ECF6",
              "width": 0.5
             },
             "pattern": {
              "fillmode": "overlay",
              "size": 10,
              "solidity": 0.2
             }
            },
            "type": "barpolar"
           }
          ],
          "carpet": [
           {
            "aaxis": {
             "endlinecolor": "#2a3f5f",
             "gridcolor": "white",
             "linecolor": "white",
             "minorgridcolor": "white",
             "startlinecolor": "#2a3f5f"
            },
            "baxis": {
             "endlinecolor": "#2a3f5f",
             "gridcolor": "white",
             "linecolor": "white",
             "minorgridcolor": "white",
             "startlinecolor": "#2a3f5f"
            },
            "type": "carpet"
           }
          ],
          "choropleth": [
           {
            "colorbar": {
             "outlinewidth": 0,
             "ticks": ""
            },
            "type": "choropleth"
           }
          ],
          "contour": [
           {
            "colorbar": {
             "outlinewidth": 0,
             "ticks": ""
            },
            "colorscale": [
             [
              0,
              "#0d0887"
             ],
             [
              0.1111111111111111,
              "#46039f"
             ],
             [
              0.2222222222222222,
              "#7201a8"
             ],
             [
              0.3333333333333333,
              "#9c179e"
             ],
             [
              0.4444444444444444,
              "#bd3786"
             ],
             [
              0.5555555555555556,
              "#d8576b"
             ],
             [
              0.6666666666666666,
              "#ed7953"
             ],
             [
              0.7777777777777778,
              "#fb9f3a"
             ],
             [
              0.8888888888888888,
              "#fdca26"
             ],
             [
              1,
              "#f0f921"
             ]
            ],
            "type": "contour"
           }
          ],
          "contourcarpet": [
           {
            "colorbar": {
             "outlinewidth": 0,
             "ticks": ""
            },
            "type": "contourcarpet"
           }
          ],
          "heatmap": [
           {
            "colorbar": {
             "outlinewidth": 0,
             "ticks": ""
            },
            "colorscale": [
             [
              0,
              "#0d0887"
             ],
             [
              0.1111111111111111,
              "#46039f"
             ],
             [
              0.2222222222222222,
              "#7201a8"
             ],
             [
              0.3333333333333333,
              "#9c179e"
             ],
             [
              0.4444444444444444,
              "#bd3786"
             ],
             [
              0.5555555555555556,
              "#d8576b"
             ],
             [
              0.6666666666666666,
              "#ed7953"
             ],
             [
              0.7777777777777778,
              "#fb9f3a"
             ],
             [
              0.8888888888888888,
              "#fdca26"
             ],
             [
              1,
              "#f0f921"
             ]
            ],
            "type": "heatmap"
           }
          ],
          "heatmapgl": [
           {
            "colorbar": {
             "outlinewidth": 0,
             "ticks": ""
            },
            "colorscale": [
             [
              0,
              "#0d0887"
             ],
             [
              0.1111111111111111,
              "#46039f"
             ],
             [
              0.2222222222222222,
              "#7201a8"
             ],
             [
              0.3333333333333333,
              "#9c179e"
             ],
             [
              0.4444444444444444,
              "#bd3786"
             ],
             [
              0.5555555555555556,
              "#d8576b"
             ],
             [
              0.6666666666666666,
              "#ed7953"
             ],
             [
              0.7777777777777778,
              "#fb9f3a"
             ],
             [
              0.8888888888888888,
              "#fdca26"
             ],
             [
              1,
              "#f0f921"
             ]
            ],
            "type": "heatmapgl"
           }
          ],
          "histogram": [
           {
            "marker": {
             "pattern": {
              "fillmode": "overlay",
              "size": 10,
              "solidity": 0.2
             }
            },
            "type": "histogram"
           }
          ],
          "histogram2d": [
           {
            "colorbar": {
             "outlinewidth": 0,
             "ticks": ""
            },
            "colorscale": [
             [
              0,
              "#0d0887"
             ],
             [
              0.1111111111111111,
              "#46039f"
             ],
             [
              0.2222222222222222,
              "#7201a8"
             ],
             [
              0.3333333333333333,
              "#9c179e"
             ],
             [
              0.4444444444444444,
              "#bd3786"
             ],
             [
              0.5555555555555556,
              "#d8576b"
             ],
             [
              0.6666666666666666,
              "#ed7953"
             ],
             [
              0.7777777777777778,
              "#fb9f3a"
             ],
             [
              0.8888888888888888,
              "#fdca26"
             ],
             [
              1,
              "#f0f921"
             ]
            ],
            "type": "histogram2d"
           }
          ],
          "histogram2dcontour": [
           {
            "colorbar": {
             "outlinewidth": 0,
             "ticks": ""
            },
            "colorscale": [
             [
              0,
              "#0d0887"
             ],
             [
              0.1111111111111111,
              "#46039f"
             ],
             [
              0.2222222222222222,
              "#7201a8"
             ],
             [
              0.3333333333333333,
              "#9c179e"
             ],
             [
              0.4444444444444444,
              "#bd3786"
             ],
             [
              0.5555555555555556,
              "#d8576b"
             ],
             [
              0.6666666666666666,
              "#ed7953"
             ],
             [
              0.7777777777777778,
              "#fb9f3a"
             ],
             [
              0.8888888888888888,
              "#fdca26"
             ],
             [
              1,
              "#f0f921"
             ]
            ],
            "type": "histogram2dcontour"
           }
          ],
          "mesh3d": [
           {
            "colorbar": {
             "outlinewidth": 0,
             "ticks": ""
            },
            "type": "mesh3d"
           }
          ],
          "parcoords": [
           {
            "line": {
             "colorbar": {
              "outlinewidth": 0,
              "ticks": ""
             }
            },
            "type": "parcoords"
           }
          ],
          "pie": [
           {
            "automargin": true,
            "type": "pie"
           }
          ],
          "scatter": [
           {
            "marker": {
             "colorbar": {
              "outlinewidth": 0,
              "ticks": ""
             }
            },
            "type": "scatter"
           }
          ],
          "scatter3d": [
           {
            "line": {
             "colorbar": {
              "outlinewidth": 0,
              "ticks": ""
             }
            },
            "marker": {
             "colorbar": {
              "outlinewidth": 0,
              "ticks": ""
             }
            },
            "type": "scatter3d"
           }
          ],
          "scattercarpet": [
           {
            "marker": {
             "colorbar": {
              "outlinewidth": 0,
              "ticks": ""
             }
            },
            "type": "scattercarpet"
           }
          ],
          "scattergeo": [
           {
            "marker": {
             "colorbar": {
              "outlinewidth": 0,
              "ticks": ""
             }
            },
            "type": "scattergeo"
           }
          ],
          "scattergl": [
           {
            "marker": {
             "colorbar": {
              "outlinewidth": 0,
              "ticks": ""
             }
            },
            "type": "scattergl"
           }
          ],
          "scattermapbox": [
           {
            "marker": {
             "colorbar": {
              "outlinewidth": 0,
              "ticks": ""
             }
            },
            "type": "scattermapbox"
           }
          ],
          "scatterpolar": [
           {
            "marker": {
             "colorbar": {
              "outlinewidth": 0,
              "ticks": ""
             }
            },
            "type": "scatterpolar"
           }
          ],
          "scatterpolargl": [
           {
            "marker": {
             "colorbar": {
              "outlinewidth": 0,
              "ticks": ""
             }
            },
            "type": "scatterpolargl"
           }
          ],
          "scatterternary": [
           {
            "marker": {
             "colorbar": {
              "outlinewidth": 0,
              "ticks": ""
             }
            },
            "type": "scatterternary"
           }
          ],
          "surface": [
           {
            "colorbar": {
             "outlinewidth": 0,
             "ticks": ""
            },
            "colorscale": [
             [
              0,
              "#0d0887"
             ],
             [
              0.1111111111111111,
              "#46039f"
             ],
             [
              0.2222222222222222,
              "#7201a8"
             ],
             [
              0.3333333333333333,
              "#9c179e"
             ],
             [
              0.4444444444444444,
              "#bd3786"
             ],
             [
              0.5555555555555556,
              "#d8576b"
             ],
             [
              0.6666666666666666,
              "#ed7953"
             ],
             [
              0.7777777777777778,
              "#fb9f3a"
             ],
             [
              0.8888888888888888,
              "#fdca26"
             ],
             [
              1,
              "#f0f921"
             ]
            ],
            "type": "surface"
           }
          ],
          "table": [
           {
            "cells": {
             "fill": {
              "color": "#EBF0F8"
             },
             "line": {
              "color": "white"
             }
            },
            "header": {
             "fill": {
              "color": "#C8D4E3"
             },
             "line": {
              "color": "white"
             }
            },
            "type": "table"
           }
          ]
         },
         "layout": {
          "annotationdefaults": {
           "arrowcolor": "#2a3f5f",
           "arrowhead": 0,
           "arrowwidth": 1
          },
          "autotypenumbers": "strict",
          "coloraxis": {
           "colorbar": {
            "outlinewidth": 0,
            "ticks": ""
           }
          },
          "colorscale": {
           "diverging": [
            [
             0,
             "#8e0152"
            ],
            [
             0.1,
             "#c51b7d"
            ],
            [
             0.2,
             "#de77ae"
            ],
            [
             0.3,
             "#f1b6da"
            ],
            [
             0.4,
             "#fde0ef"
            ],
            [
             0.5,
             "#f7f7f7"
            ],
            [
             0.6,
             "#e6f5d0"
            ],
            [
             0.7,
             "#b8e186"
            ],
            [
             0.8,
             "#7fbc41"
            ],
            [
             0.9,
             "#4d9221"
            ],
            [
             1,
             "#276419"
            ]
           ],
           "sequential": [
            [
             0,
             "#0d0887"
            ],
            [
             0.1111111111111111,
             "#46039f"
            ],
            [
             0.2222222222222222,
             "#7201a8"
            ],
            [
             0.3333333333333333,
             "#9c179e"
            ],
            [
             0.4444444444444444,
             "#bd3786"
            ],
            [
             0.5555555555555556,
             "#d8576b"
            ],
            [
             0.6666666666666666,
             "#ed7953"
            ],
            [
             0.7777777777777778,
             "#fb9f3a"
            ],
            [
             0.8888888888888888,
             "#fdca26"
            ],
            [
             1,
             "#f0f921"
            ]
           ],
           "sequentialminus": [
            [
             0,
             "#0d0887"
            ],
            [
             0.1111111111111111,
             "#46039f"
            ],
            [
             0.2222222222222222,
             "#7201a8"
            ],
            [
             0.3333333333333333,
             "#9c179e"
            ],
            [
             0.4444444444444444,
             "#bd3786"
            ],
            [
             0.5555555555555556,
             "#d8576b"
            ],
            [
             0.6666666666666666,
             "#ed7953"
            ],
            [
             0.7777777777777778,
             "#fb9f3a"
            ],
            [
             0.8888888888888888,
             "#fdca26"
            ],
            [
             1,
             "#f0f921"
            ]
           ]
          },
          "colorway": [
           "#636efa",
           "#EF553B",
           "#00cc96",
           "#ab63fa",
           "#FFA15A",
           "#19d3f3",
           "#FF6692",
           "#B6E880",
           "#FF97FF",
           "#FECB52"
          ],
          "font": {
           "color": "#2a3f5f"
          },
          "geo": {
           "bgcolor": "white",
           "lakecolor": "white",
           "landcolor": "#E5ECF6",
           "showlakes": true,
           "showland": true,
           "subunitcolor": "white"
          },
          "hoverlabel": {
           "align": "left"
          },
          "hovermode": "closest",
          "mapbox": {
           "style": "light"
          },
          "paper_bgcolor": "white",
          "plot_bgcolor": "#E5ECF6",
          "polar": {
           "angularaxis": {
            "gridcolor": "white",
            "linecolor": "white",
            "ticks": ""
           },
           "bgcolor": "#E5ECF6",
           "radialaxis": {
            "gridcolor": "white",
            "linecolor": "white",
            "ticks": ""
           }
          },
          "scene": {
           "xaxis": {
            "backgroundcolor": "#E5ECF6",
            "gridcolor": "white",
            "gridwidth": 2,
            "linecolor": "white",
            "showbackground": true,
            "ticks": "",
            "zerolinecolor": "white"
           },
           "yaxis": {
            "backgroundcolor": "#E5ECF6",
            "gridcolor": "white",
            "gridwidth": 2,
            "linecolor": "white",
            "showbackground": true,
            "ticks": "",
            "zerolinecolor": "white"
           },
           "zaxis": {
            "backgroundcolor": "#E5ECF6",
            "gridcolor": "white",
            "gridwidth": 2,
            "linecolor": "white",
            "showbackground": true,
            "ticks": "",
            "zerolinecolor": "white"
           }
          },
          "shapedefaults": {
           "line": {
            "color": "#2a3f5f"
           }
          },
          "ternary": {
           "aaxis": {
            "gridcolor": "white",
            "linecolor": "white",
            "ticks": ""
           },
           "baxis": {
            "gridcolor": "white",
            "linecolor": "white",
            "ticks": ""
           },
           "bgcolor": "#E5ECF6",
           "caxis": {
            "gridcolor": "white",
            "linecolor": "white",
            "ticks": ""
           }
          },
          "title": {
           "x": 0.05
          },
          "xaxis": {
           "automargin": true,
           "gridcolor": "white",
           "linecolor": "white",
           "ticks": "",
           "title": {
            "standoff": 15
           },
           "zerolinecolor": "white",
           "zerolinewidth": 2
          },
          "yaxis": {
           "automargin": true,
           "gridcolor": "white",
           "linecolor": "white",
           "ticks": "",
           "title": {
            "standoff": 15
           },
           "zerolinecolor": "white",
           "zerolinewidth": 2
          }
         }
        },
        "title": {
         "font": {
          "color": "#4D5663"
         }
        },
        "xaxis": {
         "gridcolor": "#E1E5ED",
         "showgrid": true,
         "tickfont": {
          "color": "#4D5663"
         },
         "title": {
          "font": {
           "color": "#4D5663"
          },
          "text": ""
         },
         "zerolinecolor": "#E1E5ED"
        },
        "yaxis": {
         "gridcolor": "#E1E5ED",
         "showgrid": true,
         "tickfont": {
          "color": "#4D5663"
         },
         "title": {
          "font": {
           "color": "#4D5663"
          },
          "text": ""
         },
         "zerolinecolor": "#E1E5ED"
        }
       }
      },
      "text/html": [
       "<div>                            <div id=\"370f1e97-6168-4aa8-8c0c-8bd47be9410d\" class=\"plotly-graph-div\" style=\"height:525px; width:100%;\"></div>            <script type=\"text/javascript\">                require([\"plotly\"], function(Plotly) {                    window.PLOTLYENV=window.PLOTLYENV || {};                                    if (document.getElementById(\"370f1e97-6168-4aa8-8c0c-8bd47be9410d\")) {                    Plotly.newPlot(                        \"370f1e97-6168-4aa8-8c0c-8bd47be9410d\",                        [{\"line\":{\"color\":\"rgba(255, 153, 51, 1.0)\",\"dash\":\"solid\",\"shape\":\"linear\",\"width\":1.3},\"mode\":\"lines\",\"name\":\"volume\",\"text\":\"\",\"x\":[\"a\",\"aa\",\"aal\",\"aamc\",\"aame\",\"aan\",\"aaoi\",\"aaon\",\"aap\",\"aapl\",\"aat\",\"aau\",\"aaww\",\"aaxn\",\"ab\",\"abbv\",\"abc\",\"abcb\",\"abeo\",\"abev\",\"abg\",\"abio\",\"abm\",\"abmd\",\"abr\",\"abt\",\"abtx\",\"abus\",\"ac\",\"acad\",\"acbi\",\"acc\",\"acco\",\"acer\",\"achc\",\"achv\",\"acia\",\"aciw\",\"acls\",\"acm\",\"acmr\",\"acnb\",\"acor\",\"acre\",\"acrs\",\"acrx\",\"acst\",\"actg\",\"acu\",\"acv\",\"acy\",\"adbe\",\"adc\",\"ades\",\"adi\",\"adm\",\"adma\",\"admp\",\"adms\",\"adom\",\"adp\",\"adro\",\"ads\",\"adsk\",\"adsw\",\"adtn\",\"adus\",\"advm\",\"adx\",\"adxs\",\"ae\",\"aee\",\"aegn\",\"aehr\",\"aeis\",\"ael\",\"aem\",\"aemd\",\"aeo\",\"aep\",\"aeri\",\"aes\",\"aey\",\"aezs\",\"afb\",\"afg\",\"afh\",\"afhbl\",\"afi\",\"afl\",\"aft\",\"ag\",\"agco\",\"agen\",\"agfs\",\"agi\",\"agio\",\"agle\",\"agm\",\"agm-a\",\"agnc\",\"agncn\",\"agr\",\"agro\",\"agrx\",\"agtc\",\"agx\",\"agys\",\"ahc\",\"ahh\",\"ahpi\",\"aht\",\"ai\",\"aif\",\"aig\",\"aimc\",\"aimt\",\"ain\",\"ainc\",\"ainv\",\"air\",\"airg\",\"airi\",\"airt\",\"ait\",\"aiv\",\"aiw\",\"aiz\",\"ajg\",\"ajrd\",\"ajx\",\"akam\",\"akba\",\"akca\",\"aker\",\"akg\",\"akr\",\"akrx\",\"akts\",\"al\",\"alb\",\"albo\",\"alco\",\"aldx\",\"ale\",\"alex\",\"alg\",\"algn\",\"algt\",\"alim\",\"aljj\",\"alk\",\"all\",\"ally\",\"alna\",\"alny\",\"alo\",\"alot\",\"alpn\",\"alrm\",\"alrn\",\"alsk\",\"alsn\",\"alt\",\"altr\",\"alx\",\"alxn\",\"am\",\"amag\",\"amat\",\"amba\",\"ambc\",\"amc\",\"amcx\",\"amd\",\"ame\",\"amed\",\"amg\",\"amgn\",\"amh\",\"amkr\",\"amn\",\"amnb\",\"amot\",\"amov\",\"amp\",\"ampe\",\"amph\",\"amrb\",\"amrc\",\"amrk\",\"amrs\",\"ams\",\"amsc\",\"amsf\",\"amswa\",\"amt\",\"amtd\",\"amtx\",\"amwd\",\"amx\",\"amzn\",\"an\",\"anab\",\"anat\",\"ande\",\"anet\",\"anf\",\"angi\",\"ango\",\"anh\",\"anik\",\"anip\",\"anss\",\"anth\",\"antm\",\"any\",\"aobc\",\"aos\",\"aosl\",\"ap\",\"apa\",\"apam\",\"apd\",\"apdn\",\"apei\",\"apen\",\"aph\",\"aple\",\"apls\",\"apo\",\"apog\",\"appf\",\"appn\",\"apps\",\"aprn\",\"apt\",\"apto\",\"apts\",\"apvo\",\"aqb\",\"aqms\",\"aqn\",\"aqua\",\"ar\",\"ara\",\"aray\",\"arc\",\"arcb\",\"arcc\",\"arch\",\"arcw\",\"ardc\",\"ardx\",\"are\",\"ares\",\"ari\",\"arkr\",\"arl\",\"arlp\",\"armk\",\"arna\",\"arnc\",\"aroc\",\"arow\",\"arql\",\"arr\",\"artna\",\"artw\",\"arw\",\"arwr\",\"asa\",\"asb\",\"asfi\",\"asg\",\"asgn\",\"ash\",\"asix\",\"asm\",\"asmb\",\"asna\",\"aspn\",\"aspu\",\"asr\",\"asrv\",\"astc\",\"aste\",\"asur\",\"asx\",\"asys\",\"at\",\"atax\",\"atec\",\"aten\",\"atge\",\"athx\",\"ati\",\"atkr\",\"atlc\",\"atlo\",\"atni\",\"atnm\",\"atnx\",\"ato\",\"atom\",\"atos\",\"atr\",\"atra\",\"atrc\",\"atri\",\"atro\",\"atrs\",\"atsg\",\"atus\",\"atvi\",\"atxi\",\"aubn\",\"aug\",\"aumn\",\"auph\",\"auto\",\"auy\",\"ava\",\"avav\",\"avb\",\"avd\",\"aveo\",\"avgo\",\"avgr\",\"avid\",\"avk\",\"avnw\",\"avt\",\"avx\",\"avxl\",\"avy\",\"awf\",\"awi\",\"awk\",\"awr\",\"awre\",\"awx\",\"axas\",\"axdx\",\"axe\",\"axgn\",\"axl\",\"axp\",\"axr\",\"axsm\",\"axta\",\"axti\",\"axu\",\"ayi\",\"ayr\",\"aytu\",\"ayx\",\"azo\",\"azpn\",\"azrx\",\"azul\",\"azz\",\"b\",\"ba\",\"bac\",\"baf\",\"bah\",\"bak\",\"bam\",\"banc\",\"band\",\"banf\",\"banr\",\"banx\",\"basi\",\"batra\",\"batrk\",\"bax\",\"bb\",\"bbby\",\"bbd\",\"bbdo\",\"bbf\",\"bbgi\",\"bbk\",\"bbl\",\"bbn\",\"bbsi\",\"bbw\",\"bbx\",\"bby\",\"bc\",\"bcbp\",\"bcc\",\"bce\",\"bcei\",\"bcli\",\"bco\",\"bcor\",\"bcov\",\"bcpc\",\"bcrx\",\"bctf\",\"bcv\",\"bcx\",\"bdc\",\"bdge\",\"bdj\",\"bdl\",\"bdn\",\"bdr\",\"bdsi\",\"bdx\",\"beat\",\"bebe\",\"becn\",\"belfa\",\"belfb\",\"ben\",\"bep\",\"bery\",\"bf-a\",\"bf-b\",\"bfam\",\"bfin\",\"bfk\",\"bfo\",\"bfs\",\"bfy\",\"bfz\",\"bg\",\"bgb\",\"bgcp\",\"bgfv\",\"bgg\",\"bgh\",\"bgi\",\"bgio\",\"bgr\",\"bgs\",\"bgsf\",\"bgt\",\"bgx\",\"bgy\",\"bh\",\"bhb\",\"bhe\",\"bhf\",\"bhk\",\"bhlb\",\"bhp\",\"bhv\",\"bhvn\",\"bidu\",\"bif\",\"big\",\"biib\",\"bio\",\"bio-b\",\"bioc\",\"biol\",\"bit\",\"bjri\",\"bk\",\"bkcc\",\"bkd\",\"bke\",\"bkep\",\"bkepp\",\"bkh\",\"bki\",\"bkk\",\"bkn\",\"bksc\",\"bkt\",\"bku\",\"bkyi\",\"bl\",\"blbd\",\"blcm\",\"bld\",\"bldp\",\"bldr\",\"ble\",\"blfs\",\"blin\",\"blk\",\"blkb\",\"bll\",\"blmn\",\"blph\",\"blue\",\"blw\",\"bmch\",\"bme\",\"bmi\",\"bmo\",\"bmra\",\"bmrc\",\"bmrn\",\"bmtc\",\"bmy\",\"bned\",\"bnft\",\"bns\",\"bntc\",\"bny\",\"boch\",\"boe\",\"boh\",\"bokf\",\"bokfl\",\"bold\",\"bomn\",\"boom\",\"boot\",\"botj\",\"box\",\"bpfh\",\"bpmc\",\"bpmp\",\"bpmx\",\"bpop\",\"bprn\",\"bpt\",\"bpth\",\"bqh\",\"br\",\"brc\",\"brew\",\"brfs\",\"brg\",\"brid\",\"brk-a\",\"brk-b\",\"brkl\",\"brkr\",\"brks\",\"brn\",\"bro\",\"brt\",\"brx\",\"bsbr\",\"bsd\",\"bse\",\"bset\",\"bsl\",\"bsm\",\"bsmx\",\"bsqr\",\"bsrr\",\"bst\",\"bstc\",\"bsx\",\"bta\",\"bte\",\"btg\",\"btn\",\"bto\",\"btt\",\"btu\",\"btz\",\"bui\",\"burl\",\"buse\",\"bv\",\"bvsn\",\"bw\",\"bwa\",\"bwen\",\"bwfg\",\"bwg\",\"bwxt\",\"bx\",\"bxc\",\"bxmt\",\"bxmx\",\"bxp\",\"bxs\",\"by\",\"byd\",\"byfc\",\"bym\",\"bysi\",\"bzh\",\"bzm\",\"c\",\"cabo\",\"cac\",\"cacc\",\"caci\",\"cade\",\"cae\",\"caf\",\"cag\",\"cah\",\"cai\",\"cake\",\"cal\",\"cala\",\"calm\",\"calx\",\"camp\",\"capl\",\"capr\",\"car\",\"cara\",\"carg\",\"caro\",\"cars\",\"carv\",\"cash\",\"casi\",\"cass\",\"casy\",\"cat\",\"catb\",\"catc\",\"catm\",\"cato\",\"cats\",\"caty\",\"cban\",\"cbay\",\"cbb\",\"cbd\",\"cbfv\",\"cbh\",\"cbio\",\"cbl\",\"cbli\",\"cbm\",\"cbmg\",\"cboe\",\"cbrl\",\"cbsh\",\"cbshp\",\"cbt\",\"cbtx\",\"cbu\",\"cbz\",\"cc\",\"ccbg\",\"ccd\",\"ccf\",\"cci\",\"ccj\",\"cck\",\"ccl\",\"cclp\",\"ccmp\",\"ccne\",\"cco\",\"ccoi\",\"ccrn\",\"ccs\",\"ccur\",\"ccxi\",\"cde\",\"cdev\",\"cdk\",\"cdna\",\"cdns\",\"cdor\",\"cdr\",\"cdti\",\"cdtx\",\"cdw\",\"cdxc\",\"cdxs\",\"cdzi\",\"ce\",\"cece\",\"cei\",\"celc\",\"celg\",\"celh\",\"celp\",\"cem\",\"cemi\",\"cen\",\"cent\",\"centa\",\"cenx\",\"ceqp\",\"cerc\",\"cern\",\"cers\",\"cet\",\"cetx\",\"cetxp\",\"cev\",\"ceva\",\"cf\",\"cfbi\",\"cfbk\",\"cffi\",\"cffn\",\"cfg\",\"cfms\",\"cfnb\",\"cfr\",\"cfrx\",\"cfx\",\"cg\",\"cga\",\"cgbd\",\"cgix\",\"cgnx\",\"cgo\",\"chci\",\"chco\",\"chct\",\"chd\",\"chdn\",\"che\",\"chef\",\"chfs\",\"chgg\",\"chh\",\"chi\",\"chkr\",\"chma\",\"chmg\",\"chmi\",\"chn\",\"chrs\",\"chrw\",\"chs\",\"chscl\",\"chscm\",\"chscn\",\"chsco\",\"chscp\",\"chtr\",\"chuy\",\"chw\",\"chy\",\"ci\",\"cia\",\"cidm\",\"cien\",\"cif\",\"cig\",\"cig-c\",\"cigi\",\"cii\",\"cik\",\"cim\",\"cinf\",\"cinr\",\"cio\",\"cir\",\"cit\",\"civb\",\"cix\",\"cizn\",\"ckh\",\"ckpt\",\"ckx\",\"cl\",\"clar\",\"clbs\",\"clct\",\"cldr\",\"cldt\",\"cldx\",\"clf\",\"clfd\",\"clgx\",\"clh\",\"cli\",\"clir\",\"clm\",\"clmt\",\"clne\"],\"y\":[4087117.31491201,9399793.174436554,10045407.467138523,17644.431048720067,6715.7614490772385,713972.3823805061,794086.874159462,204258.34520462356,1225192.712902218,150055997.36739734,215145.48514851485,186900.68146049732,264112.3421884883,1408831.3261480788,560349.3623867541,8807200.276960785,3007064.7391170114,84035.47110278039,660221.8628257888,17292400.177848354,322778.00437363324,25471.197438300533,306788.99406435486,347991.4992185058,242844.94501718212,13460826.372337142,37785.72400756144,314008.8922008983,21905.097759674136,1105535.7046875,72084.064453125,753284.493283349,593265.8488975357,7557.08544,599459.8265171504,15688.234375,1248317.240105541,791555.8834739143,239281.23586379256,1009096.0774169185,131621.16666666666,4290.448154657293,631035.0905711389,205845.37580529705,168356.76559546313,466757.14277180406,40807.62975206612,406960.3858169322,8817.374189364462,62842.3776,8512.929582099376,5279521.447360297,100424.96875976257,92021.48235294118,3822732.5412164247,5625244.239888854,32711.490066225164,97780.25080179602,249604.90838852097,156173.94285714286,3152342.455387465,393296.6825153374,1016140.8878475477,3037530.939487496,386080.7913669065,972618.2358637926,60886.40603363007,326954.8661037394,166854.69603248985,276601.59343263373,10208.79962370649,1864479.8660080272,225860.8224852071,41851.963770439244,442104.2414870353,588735.5376444861,2525777.9966038903,100051.85423728813,5878037.471727585,3553813.8604507563,520670.88627450983,6089010.762272307,29580.87531806616,137533.51983755076,84659.63511402687,540707.3661355827,48079.791946308724,3482.095238095238,206810.48648648648,3411548.429144798,91959.95665083136,1269095.844155844,1450624.980006248,465552.24554826616,161951.35768261965,1310189.0935672515,569933.6104972375,61453.654320987655,101967.1905654483,5010.374799357945,6435507.786371238,182075.0,524182.88308977033,339577.25834797893,146329.92465753425,128645.79475982532,72231.57274991107,132039.07154014372,159460.90016233767,234253.28797190517,10639.83216538192,1302672.8491096532,277927.8822243049,79132.75105130361,8135407.923124421,178248.00291332847,273661.58987783594,190829.55982505466,5740.366032210834,2683586.9953139643,383357.07091533893,233601.9082278481,23344.372290292176,30676.766110565914,296706.0777881912,1794815.0759493671,3747.166130760986,1038201.0271790066,856679.5673227117,494338.96438612934,57510.145743145746,3527390.2633552016,366141.54288816504,501289.6823529412,63944.205020920504,297477.5337653479,384402.9659481412,916956.540625,74694.92397660819,689486.8730255164,991910.7763199001,10266.867019267094,14815.4996875,94749.56708004509,236902.264604811,437683.6757263355,37216.77211628634,871877.9059668854,211564.70956015994,216930.86764705883,46110.313157894736,2147808.907216495,3993477.835751775,4248965.549668875,481499.0,528516.0593564512,55073.98149372108,8371.524439918534,41688.17763157895,298340.7021630616,75849.69473684211,439218.7791315214,1223709.1325385694,247219.86535904257,1465326.5,10472.2465625,1926651.0303030303,499875.80946123524,474094.3173858662,20892229.92559432,1388736.7806401248,420850.29334500874,750832.4567650051,654423.5143570537,25045662.30348873,1322910.4201811934,514518.50609184627,538658.9787566386,7353965.157456005,1705674.6472222223,2110642.9428303656,385410.97157138394,13147.623206885559,26739.335342639595,11103.988714733543,2082700.3917020583,458765.98651960783,269715.7049180328,9867.121705174097,110955.24321389793,19529.403951701428,64034.21205357143,11066.196623634558,79606.46266791628,120233.45472636816,87935.12308653546,3185310.413308341,4656803.533270853,21611.547759167042,105331.91065292097,8502485.512652297,6000297.676752084,1518097.9746835444,215792.36633663366,26514.50172036284,352235.7828803499,728475.4913494809,3369577.5560762263,851659.8763297872,177711.14401749455,1987075.4342393002,109637.89284598563,90540.27366447986,529674.9303342706,74019.0736354274,3436914.7313985797,76669.60355029585,1258805.8628553578,1626258.802249297,88961.55660874145,58829.933083176984,3996827.0753318924,413617.3934010152,1564556.0870639086,46815.5334375,158879.76468253968,16103.313679245282,2109355.4786004373,1156630.8742038216,1240330.5,1131419.1766826923,253270.36613558262,74632.40432612313,272230.91596638656,280410.06552962295,3666935.6842105263,197541.93283348953,74985.65784499055,125303.70758122744,353493.7409638554,20589.642512077295,180692.23784722222,106078.47083333334,2887120.4285714286,2428570.517943744,158510.36202531646,702742.9118406492,234430.96595877578,465321.5510777882,2155975.2924086223,503757.71942446043,24565.313405124398,86457.69335468375,227706.8881118881,589857.2180568572,103401.64719101123,599898.6749633967,7008.76077795786,5869.075824549473,349238.8334895345,1442409.1519756839,393568.1640625,4525479.876923077,705216.8330058939,31414.89659481412,321581.3402061856,705525.6082431307,17521.086018142007,20320.011616650532,816500.4901593252,1090282.8921832885,155220.89971883787,951161.2066115702,72940.85947302384,117443.2742892846,279685.8056857232,2096722.0882988577,369916.6928571428,175586.72232885475,56401.396541786744,2174666.160524672,66547.67828106853,29181.27142857143,108696.71727585129,19544.38371356147,16916.4678125,170160.77944392376,31045.582343499198,1148983.291875,91625.6502031885,507402.511118378,124426.9126335638,27691.191814082555,451445.30217391305,859703.2649172134,497951.2444794953,2281306.75733251,379053.68888888886,227382.41231463573,11504.729922279792,61907.244930291505,499124.0229007634,175339.56603773584,537315.7994376757,23063.74213836478,259043.39603174603,308057.9218994064,230937.71483870968,96565.72441709845,4177.020685197156,95204.14307787392,737223.5945017182,324604.4611059044,1771689.1,9984818.064979693,35506.0824742268,3122.6172472387425,94312.02409638555,249275.11536643025,1373373.8721518987,70095.30759612379,10253437.065604499,411189.8300531084,235499.12522952625,1147102.9681349578,169333.39768822244,931114.1262286601,2451902.555448872,455446.0298719772,376223.186875,118356.06747891284,26100.983075791024,1304236.615120275,317128.7394564199,1136232.5844660194,1019122.5757949984,331965.7116526086,539883.8749552132,1085065.2292358803,231415.24117463292,60471.9752583777,7865.193181818182,964990.8591065292,95809.49134615385,347852.3345829428,46983.42985409652,1827162.8812870977,8449589.548008645,27943.85845047401,97124.24048096192,1986846.0277777778,227682.78444236176,270819.70942228334,472279.2102467979,594164.5946422277,56583.75,404234.72839506174,564175.6798394566,529085.5554514214,29566.551470588234,419903.82666666666,219022.0447434293,380973.49234614184,5733328.343933313,124778988.90892251,26449.107466416746,811884.6657175398,410736.97781943146,1553944.2511715088,419744.6820546164,2318015.0,58249.59606373008,146862.9962593516,22478.055390702277,24750.168817934784,86820.97738693467,211509.30904522614,6890071.794689719,18467850.297005247,3249546.3775856746,16420027.965010934,6008.107049608355,19976.306224585547,14897.428385416666,33138.98125585754,1354007.6413620743,294091.1831218974,67050.04904717275,187695.83817557013,252619.68604651163,7682863.597406607,1284655.6835443038,9815.513883880274,406142.5915141431,993599.8166198063,31686.531313131312,204273.19465648854,432858.0774757888,462864.58575445175,308955.12673130195,111673.21024679787,871558.9915651359,3894.788395904437,14755.46735395189,356047.4819711539,375452.16713527025,21456.661513157895,465235.89593495935,3417.452653927813,1793591.0037488285,30428.67391304348,390664.5530184548,1349692.2056190183,367234.1517269737,65443.014375,509299.1140268666,3952.1336109008325,37358.10153077164,3876555.5745600495,51105.99731182796,1122123.8171206226,21182.86736378646,920159.0439802089,207684.12396694216,57786.703109971146,118057.52014995314,12153.24834332597,54911.74695407685,12851.74413512668,65578.66885348328,1426616.101843174,212475.601859024,1034926.6585442049,247366.0365510778,576646.1908778506,109924.55713159968,38942.89041666667,60780.18681318681,179784.1287097782,456719.0360121304,39734.622641509435,112846.27835051547,68039.11364967779,603130.9639742131,8802.488284910965,14977.115899444989,425787.58575445175,1159236.7108433736,117866.84473602,80989.98406747892,4060301.263042799,3987.1916817359856,226398.91044776118,15218330.973462783,106728.6428125,1646510.9803186504,2839982.281259648,98853.35645110902,919.6444444444444,466539.532631579,208995.9671977507,176961.2952060555,292818.1318338019,7513972.326644026,610414.7200764818,1516911.2574651625,652885.1743205248,69839.55147058824,18014.32603773585,362300.90690409247,308278.8070175439,39385.51796313652,50214.839737582006,3420.2659535226853,209130.86597938143,670186.2214411248,15628.21794871795,247302.76335877864,48365.85766871166,438450.3707250342,363068.7090301003,960910.941580756,465958.7958987504,69973.86223055296,125422.30525164114,7611.654444001594,679650.3748828492,268809.5467041549,2947669.7777091693,1328923.2860377359,338180.0461760462,778743.0279279279,161953.5788815995,231368.6005586592,37237.052499214085,198873.61418306778,629771.1658856607,16557.373333333333,12220.004440215667,1329540.1119099718,31316.84274952919,12191667.938561285,310056.9043478261,202077.82330468003,602468.8562949079,92298.73690932311,30614.401749453296,17882.59376083189,261238.72243467177,404485.67166510463,139179.1708840987,32678.752161383287,122095.84084084084,28289.448598130843,433792.81505779445,373251.0758169935,3111.8978873239435,1273913.5903954802,575331.3002186817,290789.864274571,2196661.0833333335,546419.2528089888,711637.0196813496,24247.972602739726,311015.4720399875,117242.42615239887,7175.009853782581,916990.9779932861,291556.1202749141,48391.51986237097,1255174.404315197,163154.62295081967,3135.390012914335,577.0988264360717,28741488.075046323,423940.89878163073,663279.0690409247,577467.5060918463,12398.796802131912,791120.5560762262,22410.235387045814,1974347.0560471977,6649879.617647059,25290.73289597001,16066.141919349797,47864.62792877226,78101.40563530037,232795.4609375,2124265.913245546,59721.71626297578,25580.76617693029,109438.53394255874,22831.58247775496,13044906.379438099,56549.54998305659,703065.5459662289,3411470.184986595,52756.666248037676,85147.82911590129,214435.49770992366,1195145.8506493506,287144.4713608172,71239.34866666667,1061762.4850530375,57734.0246875,551309.098611111,36912.99107996177,804777.0986622074,2581528.1874414245,77762.39847631667,12243.864583333334,117971.56386732534,730746.7073578596,5375054.14973262,14249.118474523288,264298.0262417994,196130.27897532022,1447441.368947204,617974.412371134,103917.9255319149,1606255.4426741644,7407.960057747834,69881.59825054671,6688.694117647059,616136.1487035302,4858.279902642559,25378418.53720284,39162.19063545151,28983.938769134646,68733.94761606022,311193.9831302718,173424.83783783784,60401.708840987194,414254.2552659764,4120992.976227231,3117825.9617165793,103899.58229284904,1176139.1605748204,472527.88284910965,411534.61656050954,556207.8787878788,339287.3283116883,285945.73289597,101163.29921259843,109316.6421194432,1911365.226179319,766615.8238993711,1177971.9545454546,29974.875406283856,1637629.105263158,6289.228624535316,20357.636486944728,51763.1178125,20834.331736909324,411468.48234926583,8069898.03612226,458672.23089700995,1116.6923076923076,313364.8043217287,233666.9137769447,9929.077828054298,514749.7728834739,4508.864220183486,309312.4601873536,299234.96782255545,650589.6963448923,4581.778106508876,46744.40625,36348.12688614541,2455308.17494533,63102.776685393255,241692.84286160575,18921.293209876545,677726.7243040685,516779.2739768822,463333.03061543265,18696.57832744405,457226.8325523274,439979.0,217738.79412683536,254470.68728522336,3088310.364548495,28799.628241174632,115510.76807228915,17721.012238325282,2354239.6238675416,2665127.467353952,1228170.756326148,5029746.290302656,111530.48791072535,282211.00281162135,18258.995412844037,788554.6216484607,492629.15713839425,188714.26991565136,130261.06286379512,55961.93861572189,229246.18978605935,2121081.994376757,1043384.4375,1041462.5573770492,113273.11230585424,3152380.965635739,3042.9872367581365,392366.33801936894,50780.56949040371,82610.92024539877,819516.2472826086,93323.47396107312,141289.3994750656,62633.9276420184,1495812.0477975633,96851.95470165573,183164.71208406304,79625.65789473684,7208673.314589191,81646.71666666666,53446.74611398964,260131.9698924731,21102.286494357482,135292.4409221902,177743.18712902218,257693.33652782897,1876778.3174008122,189622.02842861606,261641.054,2780664.6316776006,552522.325523274,31000.71022194436,273053.9485049834,5846.45,19992.736957200876,131579.11433926897,8563325.205443941,26526.496240601504,9640.028694404591,6498.898900319262,756354.5940037477,5447505.367888749,361084.483277592,5520.3417675100845,540674.5816932209,59721.591194968554,632826.035460993,740660.8110632184,221360.17709663688,138126.27358490566,129261.15172413793,569029.0393626991,47543.35191292876,20390.266477451907,75328.32989690722,89234.8945686901,1779239.6088722274,51429.352077475785,217187.9247110278,124408.89134554644,6874.287234042553,698757.8768619662,343168.1302717901,310437.8072477351,449738.7659151194,188611.87585034015,6856.116818558409,99236.52946859904,151481.7185254608,373884.4947368421,1725489.1998147005,3356979.7075913777,57508.509887005646,64557.60427135678,35273.86933045356,30738.790944123313,17420.563806380636,943661.9736842106,219303.0883233533,332780.2087954111,317882.47985004686,2720161.2445954294,87777.67885035927,28936.209753047828,3922736.2513121334,84414.36269915651,6541311.09746954,4454.199001426534,40106.36304700162,174128.24586066854,202952.00562324273,3427024.1335984096,1004877.423587527,38061.7258382643,107581.58139534884,107421.91971258982,1804325.3350050151,8686.118535930154,7737.828831760495,3965.049015317287,342365.6632302406,9536.88429752066,2733.265724037055,5068475.646386659,92524.85800316957,15965.01384767557,51311.3934375,1197593.652173913,203931.32844421163,1016592.9153389565,6694260.446422993,53112.63659226659,844746.4014370509,489560.12558575446,1031883.7057169634,62805.90486409156,121160.55420181193,372691.17435207,1296480.731892302],\"type\":\"scatter\"}],                        {\"legend\":{\"bgcolor\":\"#F5F6F9\",\"font\":{\"color\":\"#4D5663\"}},\"paper_bgcolor\":\"#F5F6F9\",\"plot_bgcolor\":\"#F5F6F9\",\"template\":{\"data\":{\"barpolar\":[{\"marker\":{\"line\":{\"color\":\"#E5ECF6\",\"width\":0.5},\"pattern\":{\"fillmode\":\"overlay\",\"size\":10,\"solidity\":0.2}},\"type\":\"barpolar\"}],\"bar\":[{\"error_x\":{\"color\":\"#2a3f5f\"},\"error_y\":{\"color\":\"#2a3f5f\"},\"marker\":{\"line\":{\"color\":\"#E5ECF6\",\"width\":0.5},\"pattern\":{\"fillmode\":\"overlay\",\"size\":10,\"solidity\":0.2}},\"type\":\"bar\"}],\"carpet\":[{\"aaxis\":{\"endlinecolor\":\"#2a3f5f\",\"gridcolor\":\"white\",\"linecolor\":\"white\",\"minorgridcolor\":\"white\",\"startlinecolor\":\"#2a3f5f\"},\"baxis\":{\"endlinecolor\":\"#2a3f5f\",\"gridcolor\":\"white\",\"linecolor\":\"white\",\"minorgridcolor\":\"white\",\"startlinecolor\":\"#2a3f5f\"},\"type\":\"carpet\"}],\"choropleth\":[{\"colorbar\":{\"outlinewidth\":0,\"ticks\":\"\"},\"type\":\"choropleth\"}],\"contourcarpet\":[{\"colorbar\":{\"outlinewidth\":0,\"ticks\":\"\"},\"type\":\"contourcarpet\"}],\"contour\":[{\"colorbar\":{\"outlinewidth\":0,\"ticks\":\"\"},\"colorscale\":[[0.0,\"#0d0887\"],[0.1111111111111111,\"#46039f\"],[0.2222222222222222,\"#7201a8\"],[0.3333333333333333,\"#9c179e\"],[0.4444444444444444,\"#bd3786\"],[0.5555555555555556,\"#d8576b\"],[0.6666666666666666,\"#ed7953\"],[0.7777777777777778,\"#fb9f3a\"],[0.8888888888888888,\"#fdca26\"],[1.0,\"#f0f921\"]],\"type\":\"contour\"}],\"heatmapgl\":[{\"colorbar\":{\"outlinewidth\":0,\"ticks\":\"\"},\"colorscale\":[[0.0,\"#0d0887\"],[0.1111111111111111,\"#46039f\"],[0.2222222222222222,\"#7201a8\"],[0.3333333333333333,\"#9c179e\"],[0.4444444444444444,\"#bd3786\"],[0.5555555555555556,\"#d8576b\"],[0.6666666666666666,\"#ed7953\"],[0.7777777777777778,\"#fb9f3a\"],[0.8888888888888888,\"#fdca26\"],[1.0,\"#f0f921\"]],\"type\":\"heatmapgl\"}],\"heatmap\":[{\"colorbar\":{\"outlinewidth\":0,\"ticks\":\"\"},\"colorscale\":[[0.0,\"#0d0887\"],[0.1111111111111111,\"#46039f\"],[0.2222222222222222,\"#7201a8\"],[0.3333333333333333,\"#9c179e\"],[0.4444444444444444,\"#bd3786\"],[0.5555555555555556,\"#d8576b\"],[0.6666666666666666,\"#ed7953\"],[0.7777777777777778,\"#fb9f3a\"],[0.8888888888888888,\"#fdca26\"],[1.0,\"#f0f921\"]],\"type\":\"heatmap\"}],\"histogram2dcontour\":[{\"colorbar\":{\"outlinewidth\":0,\"ticks\":\"\"},\"colorscale\":[[0.0,\"#0d0887\"],[0.1111111111111111,\"#46039f\"],[0.2222222222222222,\"#7201a8\"],[0.3333333333333333,\"#9c179e\"],[0.4444444444444444,\"#bd3786\"],[0.5555555555555556,\"#d8576b\"],[0.6666666666666666,\"#ed7953\"],[0.7777777777777778,\"#fb9f3a\"],[0.8888888888888888,\"#fdca26\"],[1.0,\"#f0f921\"]],\"type\":\"histogram2dcontour\"}],\"histogram2d\":[{\"colorbar\":{\"outlinewidth\":0,\"ticks\":\"\"},\"colorscale\":[[0.0,\"#0d0887\"],[0.1111111111111111,\"#46039f\"],[0.2222222222222222,\"#7201a8\"],[0.3333333333333333,\"#9c179e\"],[0.4444444444444444,\"#bd3786\"],[0.5555555555555556,\"#d8576b\"],[0.6666666666666666,\"#ed7953\"],[0.7777777777777778,\"#fb9f3a\"],[0.8888888888888888,\"#fdca26\"],[1.0,\"#f0f921\"]],\"type\":\"histogram2d\"}],\"histogram\":[{\"marker\":{\"pattern\":{\"fillmode\":\"overlay\",\"size\":10,\"solidity\":0.2}},\"type\":\"histogram\"}],\"mesh3d\":[{\"colorbar\":{\"outlinewidth\":0,\"ticks\":\"\"},\"type\":\"mesh3d\"}],\"parcoords\":[{\"line\":{\"colorbar\":{\"outlinewidth\":0,\"ticks\":\"\"}},\"type\":\"parcoords\"}],\"pie\":[{\"automargin\":true,\"type\":\"pie\"}],\"scatter3d\":[{\"line\":{\"colorbar\":{\"outlinewidth\":0,\"ticks\":\"\"}},\"marker\":{\"colorbar\":{\"outlinewidth\":0,\"ticks\":\"\"}},\"type\":\"scatter3d\"}],\"scattercarpet\":[{\"marker\":{\"colorbar\":{\"outlinewidth\":0,\"ticks\":\"\"}},\"type\":\"scattercarpet\"}],\"scattergeo\":[{\"marker\":{\"colorbar\":{\"outlinewidth\":0,\"ticks\":\"\"}},\"type\":\"scattergeo\"}],\"scattergl\":[{\"marker\":{\"colorbar\":{\"outlinewidth\":0,\"ticks\":\"\"}},\"type\":\"scattergl\"}],\"scattermapbox\":[{\"marker\":{\"colorbar\":{\"outlinewidth\":0,\"ticks\":\"\"}},\"type\":\"scattermapbox\"}],\"scatterpolargl\":[{\"marker\":{\"colorbar\":{\"outlinewidth\":0,\"ticks\":\"\"}},\"type\":\"scatterpolargl\"}],\"scatterpolar\":[{\"marker\":{\"colorbar\":{\"outlinewidth\":0,\"ticks\":\"\"}},\"type\":\"scatterpolar\"}],\"scatter\":[{\"marker\":{\"colorbar\":{\"outlinewidth\":0,\"ticks\":\"\"}},\"type\":\"scatter\"}],\"scatterternary\":[{\"marker\":{\"colorbar\":{\"outlinewidth\":0,\"ticks\":\"\"}},\"type\":\"scatterternary\"}],\"surface\":[{\"colorbar\":{\"outlinewidth\":0,\"ticks\":\"\"},\"colorscale\":[[0.0,\"#0d0887\"],[0.1111111111111111,\"#46039f\"],[0.2222222222222222,\"#7201a8\"],[0.3333333333333333,\"#9c179e\"],[0.4444444444444444,\"#bd3786\"],[0.5555555555555556,\"#d8576b\"],[0.6666666666666666,\"#ed7953\"],[0.7777777777777778,\"#fb9f3a\"],[0.8888888888888888,\"#fdca26\"],[1.0,\"#f0f921\"]],\"type\":\"surface\"}],\"table\":[{\"cells\":{\"fill\":{\"color\":\"#EBF0F8\"},\"line\":{\"color\":\"white\"}},\"header\":{\"fill\":{\"color\":\"#C8D4E3\"},\"line\":{\"color\":\"white\"}},\"type\":\"table\"}]},\"layout\":{\"annotationdefaults\":{\"arrowcolor\":\"#2a3f5f\",\"arrowhead\":0,\"arrowwidth\":1},\"autotypenumbers\":\"strict\",\"coloraxis\":{\"colorbar\":{\"outlinewidth\":0,\"ticks\":\"\"}},\"colorscale\":{\"diverging\":[[0,\"#8e0152\"],[0.1,\"#c51b7d\"],[0.2,\"#de77ae\"],[0.3,\"#f1b6da\"],[0.4,\"#fde0ef\"],[0.5,\"#f7f7f7\"],[0.6,\"#e6f5d0\"],[0.7,\"#b8e186\"],[0.8,\"#7fbc41\"],[0.9,\"#4d9221\"],[1,\"#276419\"]],\"sequential\":[[0.0,\"#0d0887\"],[0.1111111111111111,\"#46039f\"],[0.2222222222222222,\"#7201a8\"],[0.3333333333333333,\"#9c179e\"],[0.4444444444444444,\"#bd3786\"],[0.5555555555555556,\"#d8576b\"],[0.6666666666666666,\"#ed7953\"],[0.7777777777777778,\"#fb9f3a\"],[0.8888888888888888,\"#fdca26\"],[1.0,\"#f0f921\"]],\"sequentialminus\":[[0.0,\"#0d0887\"],[0.1111111111111111,\"#46039f\"],[0.2222222222222222,\"#7201a8\"],[0.3333333333333333,\"#9c179e\"],[0.4444444444444444,\"#bd3786\"],[0.5555555555555556,\"#d8576b\"],[0.6666666666666666,\"#ed7953\"],[0.7777777777777778,\"#fb9f3a\"],[0.8888888888888888,\"#fdca26\"],[1.0,\"#f0f921\"]]},\"colorway\":[\"#636efa\",\"#EF553B\",\"#00cc96\",\"#ab63fa\",\"#FFA15A\",\"#19d3f3\",\"#FF6692\",\"#B6E880\",\"#FF97FF\",\"#FECB52\"],\"font\":{\"color\":\"#2a3f5f\"},\"geo\":{\"bgcolor\":\"white\",\"lakecolor\":\"white\",\"landcolor\":\"#E5ECF6\",\"showlakes\":true,\"showland\":true,\"subunitcolor\":\"white\"},\"hoverlabel\":{\"align\":\"left\"},\"hovermode\":\"closest\",\"mapbox\":{\"style\":\"light\"},\"paper_bgcolor\":\"white\",\"plot_bgcolor\":\"#E5ECF6\",\"polar\":{\"angularaxis\":{\"gridcolor\":\"white\",\"linecolor\":\"white\",\"ticks\":\"\"},\"bgcolor\":\"#E5ECF6\",\"radialaxis\":{\"gridcolor\":\"white\",\"linecolor\":\"white\",\"ticks\":\"\"}},\"scene\":{\"xaxis\":{\"backgroundcolor\":\"#E5ECF6\",\"gridcolor\":\"white\",\"gridwidth\":2,\"linecolor\":\"white\",\"showbackground\":true,\"ticks\":\"\",\"zerolinecolor\":\"white\"},\"yaxis\":{\"backgroundcolor\":\"#E5ECF6\",\"gridcolor\":\"white\",\"gridwidth\":2,\"linecolor\":\"white\",\"showbackground\":true,\"ticks\":\"\",\"zerolinecolor\":\"white\"},\"zaxis\":{\"backgroundcolor\":\"#E5ECF6\",\"gridcolor\":\"white\",\"gridwidth\":2,\"linecolor\":\"white\",\"showbackground\":true,\"ticks\":\"\",\"zerolinecolor\":\"white\"}},\"shapedefaults\":{\"line\":{\"color\":\"#2a3f5f\"}},\"ternary\":{\"aaxis\":{\"gridcolor\":\"white\",\"linecolor\":\"white\",\"ticks\":\"\"},\"baxis\":{\"gridcolor\":\"white\",\"linecolor\":\"white\",\"ticks\":\"\"},\"bgcolor\":\"#E5ECF6\",\"caxis\":{\"gridcolor\":\"white\",\"linecolor\":\"white\",\"ticks\":\"\"}},\"title\":{\"x\":0.05},\"xaxis\":{\"automargin\":true,\"gridcolor\":\"white\",\"linecolor\":\"white\",\"ticks\":\"\",\"title\":{\"standoff\":15},\"zerolinecolor\":\"white\",\"zerolinewidth\":2},\"yaxis\":{\"automargin\":true,\"gridcolor\":\"white\",\"linecolor\":\"white\",\"ticks\":\"\",\"title\":{\"standoff\":15},\"zerolinecolor\":\"white\",\"zerolinewidth\":2}}},\"title\":{\"font\":{\"color\":\"#4D5663\"}},\"xaxis\":{\"gridcolor\":\"#E1E5ED\",\"showgrid\":true,\"tickfont\":{\"color\":\"#4D5663\"},\"title\":{\"font\":{\"color\":\"#4D5663\"},\"text\":\"\"},\"zerolinecolor\":\"#E1E5ED\"},\"yaxis\":{\"gridcolor\":\"#E1E5ED\",\"showgrid\":true,\"tickfont\":{\"color\":\"#4D5663\"},\"title\":{\"font\":{\"color\":\"#4D5663\"},\"text\":\"\"},\"zerolinecolor\":\"#E1E5ED\"}},                        {\"responsive\": true}                    ).then(function(){\n",
       "                            \n",
       "var gd = document.getElementById('370f1e97-6168-4aa8-8c0c-8bd47be9410d');\n",
       "var x = new MutationObserver(function (mutations, observer) {{\n",
       "        var display = window.getComputedStyle(gd).display;\n",
       "        if (!display || display === 'none') {{\n",
       "            console.log([gd, 'removed!']);\n",
       "            Plotly.purge(gd);\n",
       "            observer.disconnect();\n",
       "        }}\n",
       "}});\n",
       "\n",
       "// Listen for the removal of the full notebook cells\n",
       "var notebookContainer = gd.closest('#notebook-container');\n",
       "if (notebookContainer) {{\n",
       "    x.observe(notebookContainer, {childList: true});\n",
       "}}\n",
       "\n",
       "// Listen for the clearing of the current output cell\n",
       "var outputEl = gd.closest('.output');\n",
       "if (outputEl) {{\n",
       "    x.observe(outputEl, {childList: true});\n",
       "}}\n",
       "\n",
       "                        }).then(function(){\n",
       "                            function downloadimage(format, height, width, filename) {var p = document.getElementById('370f1e97-6168-4aa8-8c0c-8bd47be9410d');Plotly.downloadImage(p, {format: format, height: height, width: width, filename: filename});};if(document.readyState == 'complete') {downloadimage('png', 600, 800, 'ply_01');}\n",
       "                        })                };                });            </script>        </div>"
      ]
     },
     "metadata": {},
     "output_type": "display_data"
    }
   ],
   "source": [
    "plyo.iplot(\n",
    "    ticker_means['volume'].iplot(asFigure=True),\n",
    "    image='png',\n",
    "    filename='ply_01'\n",
    ")"
   ]
  },
  {
   "cell_type": "code",
   "execution_count": 9,
   "metadata": {
    "colab": {
     "base_uri": "https://localhost:8080/",
     "height": 424
    },
    "id": "ZfAT7DwGbt5u",
    "outputId": "44bd94a8-8875-4d22-dc4f-2408dffc3ab9"
   },
   "outputs": [
    {
     "data": {
      "application/vnd.plotly.v1+json": {
       "config": {
        "linkText": "Export to plot.ly",
        "plotlyServerURL": "https://plot.ly",
        "showLink": false
       },
       "data": [
        {
         "line": {
          "color": "rgba(255, 153, 51, 1.0)",
          "dash": "solid",
          "shape": "linear",
          "width": 1.3
         },
         "mode": "lines",
         "name": "close",
         "text": "",
         "type": "scatter",
         "x": [
          "a",
          "aa",
          "aal",
          "aamc",
          "aame",
          "aan",
          "aaoi",
          "aaon",
          "aap",
          "aapl",
          "aat",
          "aau",
          "aaww",
          "aaxn",
          "ab",
          "abbv",
          "abc",
          "abcb",
          "abeo",
          "abev",
          "abg",
          "abio",
          "abm",
          "abmd",
          "abr",
          "abt",
          "abtx",
          "abus",
          "ac",
          "acad",
          "acbi",
          "acc",
          "acco",
          "acer",
          "achc",
          "achv",
          "acia",
          "aciw",
          "acls",
          "acm",
          "acmr",
          "acnb",
          "acor",
          "acre",
          "acrs",
          "acrx",
          "acst",
          "actg",
          "acu",
          "acv",
          "acy",
          "adbe",
          "adc",
          "ades",
          "adi",
          "adm",
          "adma",
          "admp",
          "adms",
          "adom",
          "adp",
          "adro",
          "ads",
          "adsk",
          "adsw",
          "adtn",
          "adus",
          "advm",
          "adx",
          "adxs",
          "ae",
          "aee",
          "aegn",
          "aehr",
          "aeis",
          "ael",
          "aem",
          "aemd",
          "aeo",
          "aep",
          "aeri",
          "aes",
          "aey",
          "aezs",
          "afb",
          "afg",
          "afh",
          "afhbl",
          "afi",
          "afl",
          "aft",
          "ag",
          "agco",
          "agen",
          "agfs",
          "agi",
          "agio",
          "agle",
          "agm",
          "agm-a",
          "agnc",
          "agncn",
          "agr",
          "agro",
          "agrx",
          "agtc",
          "agx",
          "agys",
          "ahc",
          "ahh",
          "ahpi",
          "aht",
          "ai",
          "aif",
          "aig",
          "aimc",
          "aimt",
          "ain",
          "ainc",
          "ainv",
          "air",
          "airg",
          "airi",
          "airt",
          "ait",
          "aiv",
          "aiw",
          "aiz",
          "ajg",
          "ajrd",
          "ajx",
          "akam",
          "akba",
          "akca",
          "aker",
          "akg",
          "akr",
          "akrx",
          "akts",
          "al",
          "alb",
          "albo",
          "alco",
          "aldx",
          "ale",
          "alex",
          "alg",
          "algn",
          "algt",
          "alim",
          "aljj",
          "alk",
          "all",
          "ally",
          "alna",
          "alny",
          "alo",
          "alot",
          "alpn",
          "alrm",
          "alrn",
          "alsk",
          "alsn",
          "alt",
          "altr",
          "alx",
          "alxn",
          "am",
          "amag",
          "amat",
          "amba",
          "ambc",
          "amc",
          "amcx",
          "amd",
          "ame",
          "amed",
          "amg",
          "amgn",
          "amh",
          "amkr",
          "amn",
          "amnb",
          "amot",
          "amov",
          "amp",
          "ampe",
          "amph",
          "amrb",
          "amrc",
          "amrk",
          "amrs",
          "ams",
          "amsc",
          "amsf",
          "amswa",
          "amt",
          "amtd",
          "amtx",
          "amwd",
          "amx",
          "amzn",
          "an",
          "anab",
          "anat",
          "ande",
          "anet",
          "anf",
          "angi",
          "ango",
          "anh",
          "anik",
          "anip",
          "anss",
          "anth",
          "antm",
          "any",
          "aobc",
          "aos",
          "aosl",
          "ap",
          "apa",
          "apam",
          "apd",
          "apdn",
          "apei",
          "apen",
          "aph",
          "aple",
          "apls",
          "apo",
          "apog",
          "appf",
          "appn",
          "apps",
          "aprn",
          "apt",
          "apto",
          "apts",
          "apvo",
          "aqb",
          "aqms",
          "aqn",
          "aqua",
          "ar",
          "ara",
          "aray",
          "arc",
          "arcb",
          "arcc",
          "arch",
          "arcw",
          "ardc",
          "ardx",
          "are",
          "ares",
          "ari",
          "arkr",
          "arl",
          "arlp",
          "armk",
          "arna",
          "arnc",
          "aroc",
          "arow",
          "arql",
          "arr",
          "artna",
          "artw",
          "arw",
          "arwr",
          "asa",
          "asb",
          "asfi",
          "asg",
          "asgn",
          "ash",
          "asix",
          "asm",
          "asmb",
          "asna",
          "aspn",
          "aspu",
          "asr",
          "asrv",
          "astc",
          "aste",
          "asur",
          "asx",
          "asys",
          "at",
          "atax",
          "atec",
          "aten",
          "atge",
          "athx",
          "ati",
          "atkr",
          "atlc",
          "atlo",
          "atni",
          "atnm",
          "atnx",
          "ato",
          "atom",
          "atos",
          "atr",
          "atra",
          "atrc",
          "atri",
          "atro",
          "atrs",
          "atsg",
          "atus",
          "atvi",
          "atxi",
          "aubn",
          "aug",
          "aumn",
          "auph",
          "auto",
          "auy",
          "ava",
          "avav",
          "avb",
          "avd",
          "aveo",
          "avgo",
          "avgr",
          "avid",
          "avk",
          "avnw",
          "avt",
          "avx",
          "avxl",
          "avy",
          "awf",
          "awi",
          "awk",
          "awr",
          "awre",
          "awx",
          "axas",
          "axdx",
          "axe",
          "axgn",
          "axl",
          "axp",
          "axr",
          "axsm",
          "axta",
          "axti",
          "axu",
          "ayi",
          "ayr",
          "aytu",
          "ayx",
          "azo",
          "azpn",
          "azrx",
          "azul",
          "azz",
          "b",
          "ba",
          "bac",
          "baf",
          "bah",
          "bak",
          "bam",
          "banc",
          "band",
          "banf",
          "banr",
          "banx",
          "basi",
          "batra",
          "batrk",
          "bax",
          "bb",
          "bbby",
          "bbd",
          "bbdo",
          "bbf",
          "bbgi",
          "bbk",
          "bbl",
          "bbn",
          "bbsi",
          "bbw",
          "bbx",
          "bby",
          "bc",
          "bcbp",
          "bcc",
          "bce",
          "bcei",
          "bcli",
          "bco",
          "bcor",
          "bcov",
          "bcpc",
          "bcrx",
          "bctf",
          "bcv",
          "bcx",
          "bdc",
          "bdge",
          "bdj",
          "bdl",
          "bdn",
          "bdr",
          "bdsi",
          "bdx",
          "beat",
          "bebe",
          "becn",
          "belfa",
          "belfb",
          "ben",
          "bep",
          "bery",
          "bf-a",
          "bf-b",
          "bfam",
          "bfin",
          "bfk",
          "bfo",
          "bfs",
          "bfy",
          "bfz",
          "bg",
          "bgb",
          "bgcp",
          "bgfv",
          "bgg",
          "bgh",
          "bgi",
          "bgio",
          "bgr",
          "bgs",
          "bgsf",
          "bgt",
          "bgx",
          "bgy",
          "bh",
          "bhb",
          "bhe",
          "bhf",
          "bhk",
          "bhlb",
          "bhp",
          "bhv",
          "bhvn",
          "bidu",
          "bif",
          "big",
          "biib",
          "bio",
          "bio-b",
          "bioc",
          "biol",
          "bit",
          "bjri",
          "bk",
          "bkcc",
          "bkd",
          "bke",
          "bkep",
          "bkepp",
          "bkh",
          "bki",
          "bkk",
          "bkn",
          "bksc",
          "bkt",
          "bku",
          "bkyi",
          "bl",
          "blbd",
          "blcm",
          "bld",
          "bldp",
          "bldr",
          "ble",
          "blfs",
          "blin",
          "blk",
          "blkb",
          "bll",
          "blmn",
          "blph",
          "blue",
          "blw",
          "bmch",
          "bme",
          "bmi",
          "bmo",
          "bmra",
          "bmrc",
          "bmrn",
          "bmtc",
          "bmy",
          "bned",
          "bnft",
          "bns",
          "bntc",
          "bny",
          "boch",
          "boe",
          "boh",
          "bokf",
          "bokfl",
          "bold",
          "bomn",
          "boom",
          "boot",
          "botj",
          "box",
          "bpfh",
          "bpmc",
          "bpmp",
          "bpmx",
          "bpop",
          "bprn",
          "bpt",
          "bpth",
          "bqh",
          "br",
          "brc",
          "brew",
          "brfs",
          "brg",
          "brid",
          "brk-a",
          "brk-b",
          "brkl",
          "brkr",
          "brks",
          "brn",
          "bro",
          "brt",
          "brx",
          "bsbr",
          "bsd",
          "bse",
          "bset",
          "bsl",
          "bsm",
          "bsmx",
          "bsqr",
          "bsrr",
          "bst",
          "bstc",
          "bsx",
          "bta",
          "bte",
          "btg",
          "btn",
          "bto",
          "btt",
          "btu",
          "btz",
          "bui",
          "burl",
          "buse",
          "bv",
          "bvsn",
          "bw",
          "bwa",
          "bwen",
          "bwfg",
          "bwg",
          "bwxt",
          "bx",
          "bxc",
          "bxmt",
          "bxmx",
          "bxp",
          "bxs",
          "by",
          "byd",
          "byfc",
          "bym",
          "bysi",
          "bzh",
          "bzm",
          "c",
          "cabo",
          "cac",
          "cacc",
          "caci",
          "cade",
          "cae",
          "caf",
          "cag",
          "cah",
          "cai",
          "cake",
          "cal",
          "cala",
          "calm",
          "calx",
          "camp",
          "capl",
          "capr",
          "car",
          "cara",
          "carg",
          "caro",
          "cars",
          "carv",
          "cash",
          "casi",
          "cass",
          "casy",
          "cat",
          "catb",
          "catc",
          "catm",
          "cato",
          "cats",
          "caty",
          "cban",
          "cbay",
          "cbb",
          "cbd",
          "cbfv",
          "cbh",
          "cbio",
          "cbl",
          "cbli",
          "cbm",
          "cbmg",
          "cboe",
          "cbrl",
          "cbsh",
          "cbshp",
          "cbt",
          "cbtx",
          "cbu",
          "cbz",
          "cc",
          "ccbg",
          "ccd",
          "ccf",
          "cci",
          "ccj",
          "cck",
          "ccl",
          "cclp",
          "ccmp",
          "ccne",
          "cco",
          "ccoi",
          "ccrn",
          "ccs",
          "ccur",
          "ccxi",
          "cde",
          "cdev",
          "cdk",
          "cdna",
          "cdns",
          "cdor",
          "cdr",
          "cdti",
          "cdtx",
          "cdw",
          "cdxc",
          "cdxs",
          "cdzi",
          "ce",
          "cece",
          "cei",
          "celc",
          "celg",
          "celh",
          "celp",
          "cem",
          "cemi",
          "cen",
          "cent",
          "centa",
          "cenx",
          "ceqp",
          "cerc",
          "cern",
          "cers",
          "cet",
          "cetx",
          "cetxp",
          "cev",
          "ceva",
          "cf",
          "cfbi",
          "cfbk",
          "cffi",
          "cffn",
          "cfg",
          "cfms",
          "cfnb",
          "cfr",
          "cfrx",
          "cfx",
          "cg",
          "cga",
          "cgbd",
          "cgix",
          "cgnx",
          "cgo",
          "chci",
          "chco",
          "chct",
          "chd",
          "chdn",
          "che",
          "chef",
          "chfs",
          "chgg",
          "chh",
          "chi",
          "chkr",
          "chma",
          "chmg",
          "chmi",
          "chn",
          "chrs",
          "chrw",
          "chs",
          "chscl",
          "chscm",
          "chscn",
          "chsco",
          "chscp",
          "chtr",
          "chuy",
          "chw",
          "chy",
          "ci",
          "cia",
          "cidm",
          "cien",
          "cif",
          "cig",
          "cig-c",
          "cigi",
          "cii",
          "cik",
          "cim",
          "cinf",
          "cinr",
          "cio",
          "cir",
          "cit",
          "civb",
          "cix",
          "cizn",
          "ckh",
          "ckpt",
          "ckx",
          "cl",
          "clar",
          "clbs",
          "clct",
          "cldr",
          "cldt",
          "cldx",
          "clf",
          "clfd",
          "clgx",
          "clh",
          "cli",
          "clir",
          "clm",
          "clmt",
          "clne"
         ],
         "y": [
          11.706694285226158,
          20.445696633534904,
          6.304681750137086,
          321.1082775181088,
          1.0746366480241405,
          7.237218417877223,
          17.871791976275247,
          9.655031358383244,
          47.37100166461452,
          43.38919591848563,
          8.672232059934874,
          0.9130040582386605,
          11.06989639036771,
          7.8889193024486435,
          12.304820092112134,
          12.404268933848542,
          28.976528136168024,
          10.658080827201958,
          3.489052021778796,
          1.7191836296091643,
          23.29711232527629,
          4013.787498629647,
          7.817818730913991,
          40.78925168590752,
          5.5463454575947315,
          10.007634559387762,
          7.253198875633496,
          5.12046242974832,
          3.15154687776468,
          12.80842130658495,
          2.199337173648065,
          9.598720324345505,
          6.531159348899881,
          2175.6602445192734,
          17.935474894181713,
          359.11953954745474,
          21.41462074731596,
          5.988811493709742,
          8.373517495542826,
          4.794591607115641,
          0.17929909834315017,
          5.641943956667869,
          8.059681560843808,
          1.367731652908926,
          4.597182462575115,
          2.772688375032421,
          9.213867618931632,
          9.557407893956114,
          4.987761797145393,
          2.469619606105674,
          5.004338983319261,
          32.03562091481308,
          9.679476473307774,
          1.405300080830773,
          16.592306027994876,
          8.396571997109218,
          2.490123018931557,
          7.36952478795782,
          3.1696736858890353,
          3.804834902229939,
          24.45581004944654,
          7.794524596721664,
          88.000444251338,
          19.65027232817353,
          1.5638412763763343,
          5.14588657180318,
          11.014614687822203,
          15.079797163712241,
          2.499708437419475,
          9.216557647721869,
          14.397197969012048,
          10.334053515008103,
          2.6546343170339246,
          2.160186802634201,
          16.136641778006023,
          6.77673555611004,
          14.52544711756492,
          2.214581337751081,
          3.495617577926685,
          13.674123407274637,
          13.975639769514338,
          3.07532657723235,
          1.3443950033036132,
          705.3455198411247,
          1.6779890395318622,
          22.756947230143354,
          3.4912298872292262,
          0.24512120883835237,
          2.0665328046644658,
          13.262209768980135,
          1.6170672510814388,
          5.9450661987079885,
          14.040697896307693,
          9.010126207316931,
          2.6637987462278567,
          3.0949434221635626,
          27.324897778240153,
          1.5994958239466854,
          13.876677169755178,
          14.881853420662699,
          3.7335113660137593,
          0.5199814592895503,
          4.239963203778113,
          1.5518365981483118,
          2.335574764167993,
          6.029595104835341,
          17.608456116323016,
          4.235161668169606,
          1.8681694176107564,
          2.3264675080316803,
          3.8683965337952744,
          1.9870533682619018,
          27.10111787196646,
          1.4294546062616134,
          501.4166610599648,
          9.731361544174883,
          4.317540145936073,
          10.215665161606537,
          25.826846842434403,
          2.082889209651583,
          6.489987056332116,
          3.2335248628873217,
          2.923531072810245,
          5.305500199492146,
          12.610609831926684,
          10.857468936218178,
          2.3834981322871545,
          21.382910468784036,
          12.035125817326431,
          6.6220804819308094,
          1.2919728483660768,
          16.42594865017267,
          5.456234907464562,
          5.15092897851802,
          1.255029525552695,
          2.019204761737298,
          6.761126439578203,
          13.206770668175865,
          1.8486993482269756,
          6.42967381214936,
          24.40937390925813,
          646.0752040655302,
          10.330990623253653,
          1.7997671634938939,
          12.44716687642087,
          9.922739458376046,
          21.021778333763773,
          38.28472400259549,
          53.39891922074653,
          2.790945823108803,
          0.6021556109994137,
          27.5667556951461,
          17.765163832672407,
          2.4016267531148965,
          0.931999897813197,
          31.81682309891885,
          9.135467578794502,
          3.1073525967585867,
          17.707898423409038,
          9.430892573034406,
          0.9279743350833296,
          3.9602412408881777,
          5.955773747189801,
          2.5347569451528917,
          1.1379359447199615,
          90.66594979164796,
          61.64491849229229,
          4.836870640589812,
          15.917952137498057,
          8.495701166819785,
          23.847473590476774,
          4.51374999312279,
          5.074271492639316,
          12.579114052668327,
          7.785403007003453,
          16.62161630575442,
          14.072953661832422,
          49.2635070801914,
          44.116617488250164,
          2.811346253591113,
          2.736857612446306,
          10.467266516570632,
          5.91099213421981,
          8.03173656129042,
          4.762493250826057,
          35.14771970607059,
          2.446159834215258,
          2.9362333492393877,
          5.368087179813471,
          3.0416189218475926,
          3.495372264258735,
          125.86018645103722,
          1.5320927887848184,
          114.07700112759822,
          16.05630700436689,
          2.1353384841899414,
          31.555442258742943,
          9.51469435275501,
          11.216457569265653,
          22.296870827218708,
          4.766645502246625,
          264.32648701152755,
          15.967724636448992,
          13.786022452455361,
          20.26238135627623,
          11.793043589952532,
          37.29826976050406,
          16.22988912835078,
          5.0522323335928565,
          4.012326439831787,
          0.7006481095246643,
          15.865112198408747,
          55.595054103568465,
          29.399014650576003,
          164.5613042109181,
          40.551628345182635,
          61.48787289532115,
          6.8806666085625565,
          15.362127449347804,
          4.093999201836317,
          6.445430377207096,
          20.005443822026052,
          7.040384339250528,
          32.78794885735439,
          11.817168545033095,
          7.92045744756391,
          169.47778057262906,
          19.418479956767467,
          1.0351877015222666,
          0.0070710678118646965,
          6.2436827469692595,
          14.769717211767487,
          10.030411943697066,
          2.62152109457643,
          1.3057544681346,
          1.2568437066809528,
          0.9598181055629309,
          8.484491046679803,
          3.8390995595214155,
          0.7325728176155837,
          3.2809661485079182,
          4.045870011183349,
          0.9544416327028086,
          0.23039303891600685,
          15.23538568771033,
          4.529896983086463,
          4.283768847425387,
          9.18593873608497,
          8.96460890739898,
          3.2090351330589013,
          4.453560617262995,
          3.521464850459467,
          1.278624268080389,
          5.539788995026282,
          20.109804332388435,
          2.2441058985863314,
          2.9583784053106355,
          5.2567070287073845,
          2.7788447776397844,
          6.85273516410037,
          4.864241603605426,
          40.44627967228309,
          3.0073137264685235,
          2.7604616757866522,
          5.3369032095245625,
          2.1586123154613595,
          3.7170049436921007,
          6.3400863911024805,
          2.591290380603351,
          15.924225081344709,
          4.1680494070107645,
          6.337017579322256,
          3.1322471722604117,
          10.407205601531798,
          0.8372192051033563,
          14.918656039733762,
          15.652009266313575,
          7.927095586614557,
          0.45098543890781523,
          18.42695277136961,
          5.109608550092849,
          2.040200383739598,
          0.8756076761224014,
          51.19863153480713,
          0.9850756244996048,
          18.904824244044587,
          10.43661747035129,
          3.6666126485625807,
          1.4360477829315994,
          4.573569450375325,
          2.9461374474090842,
          0.782218053058515,
          20.73984710138115,
          2.480690211744551,
          11.89876393615314,
          1.1406940738215525,
          21.48184960452417,
          3.4008345361692855,
          10.86893934043257,
          4.54400750438113,
          19.14500555144437,
          2.8822487281684324,
          1.4518304422893646,
          19.218889534698768,
          1.5434056372941534,
          31.008372600764236,
          18.20316372526616,
          11.874406046900118,
          5.758128599701341,
          150.4938306708286,
          17.605971664221165,
          1.1108879692199236,
          4.891758273511878,
          3.2480252213281586,
          13.621684804379727,
          1.0456893892308552,
          5.130755226726901,
          0.3837624297747392,
          6.550339005752719,
          1.5851561918868566,
          6.92697679917123,
          4.180740737545917,
          9.45758929483799,
          5.541122013620443,
          40.39090457962645,
          6.1924139435433805,
          5.800844787237549,
          69.62314928324581,
          6.1386661179931545,
          13.830122852544688,
          2.5224138557666387,
          59.17949237531909,
          8.476822651810522,
          2.2450711770542155,
          1.3955217841384315,
          17.556861327791253,
          2.2583917616458193,
          12.729013096378145,
          20.664941372072224,
          11.228264962012107,
          1.2657281137440994,
          1.7826173817325963,
          1.3984227152149689,
          8.714284242440906,
          18.440355463964835,
          3.660634033582819,
          6.623760577385314,
          18.63353485110409,
          20.943180808338347,
          2.1499035750621904,
          2.740078456598707,
          2.0697349977201123,
          2.26672380443301,
          70.67504154844498,
          6.649059039077572,
          0.6627030601697368,
          2.3183130613664438,
          236.16691872782724,
          16.234464360101146,
          0.5100433333010862,
          2.384792517438448,
          17.906484812202667,
          12.085456828148416,
          44.552813915560144,
          14.09211437826143,
          2.079118331237458,
          10.006298765836968,
          4.570433493433748,
          8.445809801404238,
          3.8989824564335356,
          "",
          8.993102069414226,
          12.35451904420254,
          2.1524788449943895,
          2.322729989221033,
          3.5804882194511314,
          3.705118794874847,
          10.373003270388464,
          32.12517727168945,
          14.805267092900284,
          2.2193397712801977,
          1.704155168280595,
          1.9402284733052249,
          3.078280594932355,
          2.31999011845476,
          11.982868025048303,
          3.5077084562461605,
          18.213260074112775,
          8.17421782799672,
          0.684366599632245,
          9.509618737380913,
          15.546865822028666,
          2.2907733362163434,
          5.181602500593385,
          9.695525047193726,
          2079.360843769578,
          0.8172330899086461,
          11.251154497453726,
          4.964781955560545,
          3.340246357384468,
          23.02708796787765,
          4.0686602785763215,
          2.620103361555698,
          3.2065341768729634,
          1.152715933326484,
          20.627355017424723,
          5.156133431855981,
          1.441901270817098,
          8.054999001853774,
          5.5720354609514375,
          0.6442242708723287,
          3.127950991691725,
          42.106198893067095,
          9.090295908859892,
          51.17275787761804,
          11.637120521925123,
          5.7261271902524165,
          5.9199857972139895,
          9.517614572347085,
          3.634634196968753,
          12.592514621402035,
          11.790682617188695,
          10.531346896820063,
          15.980512020310798,
          3.0554549867292233,
          2.046720380992403,
          1.9053706853796009,
          10.727502905021542,
          2.170129095074481,
          2.1121527214652236,
          14.68955081030757,
          1.1616576475038332,
          2.5481033774161936,
          4.43300895779164,
          5.075922189351264,
          1.8527503676935957,
          2.328021292160422,
          0.12971380723260412,
          2.424480882932928,
          12.106548732017066,
          2.517066385881664,
          1.8167233800841305,
          1.3141484107107078,
          1.2983195835933385,
          91.21170485359141,
          6.018165378362694,
          5.0709910773266085,
          4.251177942633712,
          2.00624978921215,
          5.396320225699965,
          14.765934432493598,
          2.0293376125816174,
          5.6698420251807775,
          73.64657623216196,
          1.7179480050454425,
          11.67890401180276,
          109.40235024282083,
          39.642647582331705,
          19.063705509542093,
          6.084883238838504,
          2.3592740844865316,
          1.8870743797786844,
          11.939268948182917,
          8.434591488492792,
          1.2698765981144549,
          10.999224170908573,
          10.31339610524302,
          0.8671544728116148,
          0.7901286375734164,
          13.803683224406573,
          4.716306616371258,
          1.9643423814632592,
          2.2443068836384445,
          3.7797724450070573,
          0.7726322363502108,
          5.486448833284665,
          0.5167440673072472,
          3.9916736558608394,
          3.4462145951105088,
          5.251115713173329,
          11.127431516171134,
          1.7628850658621518,
          5.634917331450985,
          2.226275512741632,
          0.9219040147865452,
          23.49457835229472,
          99.79266878793013,
          19.838525381178144,
          10.600675743240629,
          2.928077223973524,
          2.9014035141934595,
          42.71061239032759,
          2.1056536905354153,
          2.3863299434231737,
          8.39120959935452,
          8.83830439195935,
          12.106723431036935,
          0.28856311288627534,
          11.723093236692996,
          34.13755420835011,
          7.350730712608504,
          16.822552748368494,
          2.069591323431596,
          9.488635515399523,
          10.113047458738073,
          5.833675818537246,
          1.7877130460390753,
          2.3440059580411807,
          1.848676767883968,
          13.994425419663884,
          13.193834571075973,
          1.2103575870014587,
          3.7513420252567586,
          1.8771462432916433,
          9.791733300213549,
          7.092322096593521,
          3.1670218306632214,
          3.0204498816821332,
          6.988769865555072,
          13.646462918330066,
          0.35712127640425856,
          0.9469258172367592,
          67.46268859062393,
          0.7601786219637574,
          13.899363848832659,
          1.0139291820219518,
          1.6560916228897065,
          19.64511205727647,
          4.6029482200087,
          4.649511806684789,
          5.862040339386988,
          1.1591675756619206,
          2.608650887681878,
          53502.671530038715,
          35.76137696331124,
          2.1306526045986534,
          6.893115793817191,
          4.768083662327939,
          7.520205921930474,
          7.609420458045111,
          5.330043254679554,
          2.4989457936408037,
          1.7032394649097664,
          2.0869100645463643,
          1.6234083860823791,
          9.367173591108443,
          1.515414667398435,
          2.0284980805827555,
          1.844901136095014,
          1.7672511636355575,
          5.891661314935112,
          3.3278590087149653,
          15.083311608144422,
          7.373084036612526,
          1.7419107770540228,
          12.939066974098402,
          0.6490667640834152,
          1.4462729609267935,
          6.795549337049126,
          2.575313452685616,
          2.518516829024574,
          2.4044766792677486,
          2.5245729491979567,
          22.91884831293632,
          15.902077763987908,
          3.9048311893409156,
          14.212619204374905,
          5.47622217507361,
          14.90321407029093,
          42.86274528944421,
          6.375271827085733,
          1.0014218472831342,
          9.919143094093089,
          8.949076588538905,
          41.15493690905265,
          43.01785587624953,
          2.0017234256122873,
          27.032993273036055,
          5.090622307956319,
          0.4623455859638071,
          14.814354864479396,
          3.5093500233461095,
          1.9036433950218172,
          8.098394475291052,
          95.22122561509815,
          1.4881353944088387,
          177.6163690066037,
          120.08198943617789,
          6.771279775636216,
          74.25565287744169,
          23.906701454351758,
          0.8788537282804472,
          2.87657948470688,
          3.7388580334443695,
          8.680030274496291,
          19.135855206749607,
          6.942377233535834,
          13.077909021305715,
          8.029502953445844,
          5.476557658419029,
          15.022718813714922,
          3.65779056239006,
          7.365243796187082,
          3.9385206469676537,
          45.67679942065929,
          15.168235252698667,
          4.329674153019143,
          1.5249566738576077,
          8.92474158113132,
          1.477114737426878,
          2.561831426338311,
          20.387710821170614,
          8.365016172563386,
          13.083873481544385,
          33.88677844291577,
          20.34562995415095,
          3.361705345348615,
          1.2130028665914083,
          13.456096458212283,
          7.347788342028332,
          3.146012604856927,
          9.060980488402326,
          7.107496217411046,
          2.7858080554429216,
          4.059226846672224,
          12.676882383165198,
          3.7147073260867858,
          0.1871704355121932,
          579.2481148236074,
          6.313593364474528,
          59.203212287372914,
          16.755122144005032,
          7.802712722433878,
          22.647829221941773,
          45.27727196414763,
          8.605960894167618,
          1.9048496375974358,
          11.010876579070006,
          0.3377869150810926,
          11.680058977878483,
          2.4638470633522176,
          16.405532407825508,
          8.15449968427551,
          2.01927412243478,
          25.361325009210532,
          24.729649037203444,
          8.506287577778128,
          13.310367379523447,
          10.268881598517362,
          3.3235332320884123,
          14.680957606783679,
          4.1896052029399105,
          1.606441356674693,
          11.836371415070403,
          4.802738118430515,
          3.266188997840866,
          3.887265874428397,
          3.1543197610839773,
          14.83781079513566,
          2.935600001742376,
          9.28208625681854,
          2.207077487072728,
          7.640035949031496,
          115.33193878874995,
          2.8499179213112296,
          141.64985138789012,
          3.1110747464864263,
          13.06431280282466,
          1.061926472500355,
          2.8125831004481965,
          5.205158245670094,
          21.366932403611983,
          3.6189466435916406,
          73.05150232633989,
          2.862805868201925,
          38.89671298956964,
          0.7668520799738532,
          3.215898303261671,
          3.100013989502792,
          1.7851547577826106,
          1.9826211091880523,
          7.603117861241801,
          7.644521049637572,
          16.7872779813386,
          25.217967098053986,
          1.4946261411076036,
          21.31111322583569,
          2.1614317418471742,
          4.0115805989358755,
          1.166949835318192,
          0.7703070349213565,
          1.6664466929691861,
          9.915377308220041,
          14.737823146616993,
          0.4290097179337167,
          15.617826736162952,
          10.743049965347009,
          1.8263057597457202,
          5.958908074891179,
          5.968837148956516,
          2.721172866925866,
          14.806925614176844,
          1.352546210608805,
          17.375963431382615,
          3.787129447626114,
          3.9877131960102683,
          0.3562258050294981,
          4.827660876304095,
          22.93417064769461,
          1.6345447295641136,
          38.32956632994275,
          11.385491692906204,
          3.921369609319182,
          13.896334336553723,
          45.023295079683884,
          45.316351845927855,
          3.532564058858874,
          2065.0259293389427,
          2.658711404818232,
          13.798178205487517,
          1.7479653624277478,
          2.2379653946177815,
          8.460678961249053,
          5.494001041491777,
          2.2618204730690796,
          3.718627061128709,
          6.327449345728921,
          13.173403800864751,
          7.37674078781735,
          2.1550465938239305,
          2.332492452480062,
          2.5249113788484614,
          2.317614649995293,
          3.154522456757947,
          95.63744436132794,
          5.7114844284995545,
          1.3659091624823707,
          1.6632809499583656,
          44.77670172029522,
          1.355152205977899,
          33.77108791325418,
          7.3557109844088675,
          0.38480679788681194,
          1.3898237203490005,
          3.758255710938346,
          6.584128576239076,
          2.1211383992692445,
          0.4339779183536426,
          5.658866756463889,
          16.16126307853745,
          3.1843167672566643,
          1.0566521616212237,
          15.043445902508596,
          5.546033807580509,
          5.884682633555305,
          3.1442142976349445,
          3.021169881684368,
          8.544931125757618,
          2.287891134975614,
          1.8641055620041385,
          16.75706475552537,
          2.1429839897406953,
          206.94542408328803,
          5.749606316755835,
          2.0454379797843267,
          4.871667509811122,
          7.518420665256072,
          23.44746354779341,
          6.586716136722912,
          8.969948319951532,
          15.848914448307166,
          6.077565120631831,
          2.048218449366163,
          8.640039610197174,
          7.96067932102987,
          5.041879898600456
         ]
        }
       ],
       "layout": {
        "legend": {
         "bgcolor": "#F5F6F9",
         "font": {
          "color": "#4D5663"
         }
        },
        "paper_bgcolor": "#F5F6F9",
        "plot_bgcolor": "#F5F6F9",
        "template": {
         "data": {
          "bar": [
           {
            "error_x": {
             "color": "#2a3f5f"
            },
            "error_y": {
             "color": "#2a3f5f"
            },
            "marker": {
             "line": {
              "color": "#E5ECF6",
              "width": 0.5
             },
             "pattern": {
              "fillmode": "overlay",
              "size": 10,
              "solidity": 0.2
             }
            },
            "type": "bar"
           }
          ],
          "barpolar": [
           {
            "marker": {
             "line": {
              "color": "#E5ECF6",
              "width": 0.5
             },
             "pattern": {
              "fillmode": "overlay",
              "size": 10,
              "solidity": 0.2
             }
            },
            "type": "barpolar"
           }
          ],
          "carpet": [
           {
            "aaxis": {
             "endlinecolor": "#2a3f5f",
             "gridcolor": "white",
             "linecolor": "white",
             "minorgridcolor": "white",
             "startlinecolor": "#2a3f5f"
            },
            "baxis": {
             "endlinecolor": "#2a3f5f",
             "gridcolor": "white",
             "linecolor": "white",
             "minorgridcolor": "white",
             "startlinecolor": "#2a3f5f"
            },
            "type": "carpet"
           }
          ],
          "choropleth": [
           {
            "colorbar": {
             "outlinewidth": 0,
             "ticks": ""
            },
            "type": "choropleth"
           }
          ],
          "contour": [
           {
            "colorbar": {
             "outlinewidth": 0,
             "ticks": ""
            },
            "colorscale": [
             [
              0,
              "#0d0887"
             ],
             [
              0.1111111111111111,
              "#46039f"
             ],
             [
              0.2222222222222222,
              "#7201a8"
             ],
             [
              0.3333333333333333,
              "#9c179e"
             ],
             [
              0.4444444444444444,
              "#bd3786"
             ],
             [
              0.5555555555555556,
              "#d8576b"
             ],
             [
              0.6666666666666666,
              "#ed7953"
             ],
             [
              0.7777777777777778,
              "#fb9f3a"
             ],
             [
              0.8888888888888888,
              "#fdca26"
             ],
             [
              1,
              "#f0f921"
             ]
            ],
            "type": "contour"
           }
          ],
          "contourcarpet": [
           {
            "colorbar": {
             "outlinewidth": 0,
             "ticks": ""
            },
            "type": "contourcarpet"
           }
          ],
          "heatmap": [
           {
            "colorbar": {
             "outlinewidth": 0,
             "ticks": ""
            },
            "colorscale": [
             [
              0,
              "#0d0887"
             ],
             [
              0.1111111111111111,
              "#46039f"
             ],
             [
              0.2222222222222222,
              "#7201a8"
             ],
             [
              0.3333333333333333,
              "#9c179e"
             ],
             [
              0.4444444444444444,
              "#bd3786"
             ],
             [
              0.5555555555555556,
              "#d8576b"
             ],
             [
              0.6666666666666666,
              "#ed7953"
             ],
             [
              0.7777777777777778,
              "#fb9f3a"
             ],
             [
              0.8888888888888888,
              "#fdca26"
             ],
             [
              1,
              "#f0f921"
             ]
            ],
            "type": "heatmap"
           }
          ],
          "heatmapgl": [
           {
            "colorbar": {
             "outlinewidth": 0,
             "ticks": ""
            },
            "colorscale": [
             [
              0,
              "#0d0887"
             ],
             [
              0.1111111111111111,
              "#46039f"
             ],
             [
              0.2222222222222222,
              "#7201a8"
             ],
             [
              0.3333333333333333,
              "#9c179e"
             ],
             [
              0.4444444444444444,
              "#bd3786"
             ],
             [
              0.5555555555555556,
              "#d8576b"
             ],
             [
              0.6666666666666666,
              "#ed7953"
             ],
             [
              0.7777777777777778,
              "#fb9f3a"
             ],
             [
              0.8888888888888888,
              "#fdca26"
             ],
             [
              1,
              "#f0f921"
             ]
            ],
            "type": "heatmapgl"
           }
          ],
          "histogram": [
           {
            "marker": {
             "pattern": {
              "fillmode": "overlay",
              "size": 10,
              "solidity": 0.2
             }
            },
            "type": "histogram"
           }
          ],
          "histogram2d": [
           {
            "colorbar": {
             "outlinewidth": 0,
             "ticks": ""
            },
            "colorscale": [
             [
              0,
              "#0d0887"
             ],
             [
              0.1111111111111111,
              "#46039f"
             ],
             [
              0.2222222222222222,
              "#7201a8"
             ],
             [
              0.3333333333333333,
              "#9c179e"
             ],
             [
              0.4444444444444444,
              "#bd3786"
             ],
             [
              0.5555555555555556,
              "#d8576b"
             ],
             [
              0.6666666666666666,
              "#ed7953"
             ],
             [
              0.7777777777777778,
              "#fb9f3a"
             ],
             [
              0.8888888888888888,
              "#fdca26"
             ],
             [
              1,
              "#f0f921"
             ]
            ],
            "type": "histogram2d"
           }
          ],
          "histogram2dcontour": [
           {
            "colorbar": {
             "outlinewidth": 0,
             "ticks": ""
            },
            "colorscale": [
             [
              0,
              "#0d0887"
             ],
             [
              0.1111111111111111,
              "#46039f"
             ],
             [
              0.2222222222222222,
              "#7201a8"
             ],
             [
              0.3333333333333333,
              "#9c179e"
             ],
             [
              0.4444444444444444,
              "#bd3786"
             ],
             [
              0.5555555555555556,
              "#d8576b"
             ],
             [
              0.6666666666666666,
              "#ed7953"
             ],
             [
              0.7777777777777778,
              "#fb9f3a"
             ],
             [
              0.8888888888888888,
              "#fdca26"
             ],
             [
              1,
              "#f0f921"
             ]
            ],
            "type": "histogram2dcontour"
           }
          ],
          "mesh3d": [
           {
            "colorbar": {
             "outlinewidth": 0,
             "ticks": ""
            },
            "type": "mesh3d"
           }
          ],
          "parcoords": [
           {
            "line": {
             "colorbar": {
              "outlinewidth": 0,
              "ticks": ""
             }
            },
            "type": "parcoords"
           }
          ],
          "pie": [
           {
            "automargin": true,
            "type": "pie"
           }
          ],
          "scatter": [
           {
            "marker": {
             "colorbar": {
              "outlinewidth": 0,
              "ticks": ""
             }
            },
            "type": "scatter"
           }
          ],
          "scatter3d": [
           {
            "line": {
             "colorbar": {
              "outlinewidth": 0,
              "ticks": ""
             }
            },
            "marker": {
             "colorbar": {
              "outlinewidth": 0,
              "ticks": ""
             }
            },
            "type": "scatter3d"
           }
          ],
          "scattercarpet": [
           {
            "marker": {
             "colorbar": {
              "outlinewidth": 0,
              "ticks": ""
             }
            },
            "type": "scattercarpet"
           }
          ],
          "scattergeo": [
           {
            "marker": {
             "colorbar": {
              "outlinewidth": 0,
              "ticks": ""
             }
            },
            "type": "scattergeo"
           }
          ],
          "scattergl": [
           {
            "marker": {
             "colorbar": {
              "outlinewidth": 0,
              "ticks": ""
             }
            },
            "type": "scattergl"
           }
          ],
          "scattermapbox": [
           {
            "marker": {
             "colorbar": {
              "outlinewidth": 0,
              "ticks": ""
             }
            },
            "type": "scattermapbox"
           }
          ],
          "scatterpolar": [
           {
            "marker": {
             "colorbar": {
              "outlinewidth": 0,
              "ticks": ""
             }
            },
            "type": "scatterpolar"
           }
          ],
          "scatterpolargl": [
           {
            "marker": {
             "colorbar": {
              "outlinewidth": 0,
              "ticks": ""
             }
            },
            "type": "scatterpolargl"
           }
          ],
          "scatterternary": [
           {
            "marker": {
             "colorbar": {
              "outlinewidth": 0,
              "ticks": ""
             }
            },
            "type": "scatterternary"
           }
          ],
          "surface": [
           {
            "colorbar": {
             "outlinewidth": 0,
             "ticks": ""
            },
            "colorscale": [
             [
              0,
              "#0d0887"
             ],
             [
              0.1111111111111111,
              "#46039f"
             ],
             [
              0.2222222222222222,
              "#7201a8"
             ],
             [
              0.3333333333333333,
              "#9c179e"
             ],
             [
              0.4444444444444444,
              "#bd3786"
             ],
             [
              0.5555555555555556,
              "#d8576b"
             ],
             [
              0.6666666666666666,
              "#ed7953"
             ],
             [
              0.7777777777777778,
              "#fb9f3a"
             ],
             [
              0.8888888888888888,
              "#fdca26"
             ],
             [
              1,
              "#f0f921"
             ]
            ],
            "type": "surface"
           }
          ],
          "table": [
           {
            "cells": {
             "fill": {
              "color": "#EBF0F8"
             },
             "line": {
              "color": "white"
             }
            },
            "header": {
             "fill": {
              "color": "#C8D4E3"
             },
             "line": {
              "color": "white"
             }
            },
            "type": "table"
           }
          ]
         },
         "layout": {
          "annotationdefaults": {
           "arrowcolor": "#2a3f5f",
           "arrowhead": 0,
           "arrowwidth": 1
          },
          "autotypenumbers": "strict",
          "coloraxis": {
           "colorbar": {
            "outlinewidth": 0,
            "ticks": ""
           }
          },
          "colorscale": {
           "diverging": [
            [
             0,
             "#8e0152"
            ],
            [
             0.1,
             "#c51b7d"
            ],
            [
             0.2,
             "#de77ae"
            ],
            [
             0.3,
             "#f1b6da"
            ],
            [
             0.4,
             "#fde0ef"
            ],
            [
             0.5,
             "#f7f7f7"
            ],
            [
             0.6,
             "#e6f5d0"
            ],
            [
             0.7,
             "#b8e186"
            ],
            [
             0.8,
             "#7fbc41"
            ],
            [
             0.9,
             "#4d9221"
            ],
            [
             1,
             "#276419"
            ]
           ],
           "sequential": [
            [
             0,
             "#0d0887"
            ],
            [
             0.1111111111111111,
             "#46039f"
            ],
            [
             0.2222222222222222,
             "#7201a8"
            ],
            [
             0.3333333333333333,
             "#9c179e"
            ],
            [
             0.4444444444444444,
             "#bd3786"
            ],
            [
             0.5555555555555556,
             "#d8576b"
            ],
            [
             0.6666666666666666,
             "#ed7953"
            ],
            [
             0.7777777777777778,
             "#fb9f3a"
            ],
            [
             0.8888888888888888,
             "#fdca26"
            ],
            [
             1,
             "#f0f921"
            ]
           ],
           "sequentialminus": [
            [
             0,
             "#0d0887"
            ],
            [
             0.1111111111111111,
             "#46039f"
            ],
            [
             0.2222222222222222,
             "#7201a8"
            ],
            [
             0.3333333333333333,
             "#9c179e"
            ],
            [
             0.4444444444444444,
             "#bd3786"
            ],
            [
             0.5555555555555556,
             "#d8576b"
            ],
            [
             0.6666666666666666,
             "#ed7953"
            ],
            [
             0.7777777777777778,
             "#fb9f3a"
            ],
            [
             0.8888888888888888,
             "#fdca26"
            ],
            [
             1,
             "#f0f921"
            ]
           ]
          },
          "colorway": [
           "#636efa",
           "#EF553B",
           "#00cc96",
           "#ab63fa",
           "#FFA15A",
           "#19d3f3",
           "#FF6692",
           "#B6E880",
           "#FF97FF",
           "#FECB52"
          ],
          "font": {
           "color": "#2a3f5f"
          },
          "geo": {
           "bgcolor": "white",
           "lakecolor": "white",
           "landcolor": "#E5ECF6",
           "showlakes": true,
           "showland": true,
           "subunitcolor": "white"
          },
          "hoverlabel": {
           "align": "left"
          },
          "hovermode": "closest",
          "mapbox": {
           "style": "light"
          },
          "paper_bgcolor": "white",
          "plot_bgcolor": "#E5ECF6",
          "polar": {
           "angularaxis": {
            "gridcolor": "white",
            "linecolor": "white",
            "ticks": ""
           },
           "bgcolor": "#E5ECF6",
           "radialaxis": {
            "gridcolor": "white",
            "linecolor": "white",
            "ticks": ""
           }
          },
          "scene": {
           "xaxis": {
            "backgroundcolor": "#E5ECF6",
            "gridcolor": "white",
            "gridwidth": 2,
            "linecolor": "white",
            "showbackground": true,
            "ticks": "",
            "zerolinecolor": "white"
           },
           "yaxis": {
            "backgroundcolor": "#E5ECF6",
            "gridcolor": "white",
            "gridwidth": 2,
            "linecolor": "white",
            "showbackground": true,
            "ticks": "",
            "zerolinecolor": "white"
           },
           "zaxis": {
            "backgroundcolor": "#E5ECF6",
            "gridcolor": "white",
            "gridwidth": 2,
            "linecolor": "white",
            "showbackground": true,
            "ticks": "",
            "zerolinecolor": "white"
           }
          },
          "shapedefaults": {
           "line": {
            "color": "#2a3f5f"
           }
          },
          "ternary": {
           "aaxis": {
            "gridcolor": "white",
            "linecolor": "white",
            "ticks": ""
           },
           "baxis": {
            "gridcolor": "white",
            "linecolor": "white",
            "ticks": ""
           },
           "bgcolor": "#E5ECF6",
           "caxis": {
            "gridcolor": "white",
            "linecolor": "white",
            "ticks": ""
           }
          },
          "title": {
           "x": 0.05
          },
          "xaxis": {
           "automargin": true,
           "gridcolor": "white",
           "linecolor": "white",
           "ticks": "",
           "title": {
            "standoff": 15
           },
           "zerolinecolor": "white",
           "zerolinewidth": 2
          },
          "yaxis": {
           "automargin": true,
           "gridcolor": "white",
           "linecolor": "white",
           "ticks": "",
           "title": {
            "standoff": 15
           },
           "zerolinecolor": "white",
           "zerolinewidth": 2
          }
         }
        },
        "title": {
         "font": {
          "color": "#4D5663"
         }
        },
        "xaxis": {
         "gridcolor": "#E1E5ED",
         "showgrid": true,
         "tickfont": {
          "color": "#4D5663"
         },
         "title": {
          "font": {
           "color": "#4D5663"
          },
          "text": ""
         },
         "zerolinecolor": "#E1E5ED"
        },
        "yaxis": {
         "gridcolor": "#E1E5ED",
         "showgrid": true,
         "tickfont": {
          "color": "#4D5663"
         },
         "title": {
          "font": {
           "color": "#4D5663"
          },
          "text": ""
         },
         "zerolinecolor": "#E1E5ED"
        }
       }
      },
      "text/html": [
       "<div>                            <div id=\"034baf7b-73ed-4d01-b2a6-8276d5c79dd1\" class=\"plotly-graph-div\" style=\"height:525px; width:100%;\"></div>            <script type=\"text/javascript\">                require([\"plotly\"], function(Plotly) {                    window.PLOTLYENV=window.PLOTLYENV || {};                                    if (document.getElementById(\"034baf7b-73ed-4d01-b2a6-8276d5c79dd1\")) {                    Plotly.newPlot(                        \"034baf7b-73ed-4d01-b2a6-8276d5c79dd1\",                        [{\"line\":{\"color\":\"rgba(255, 153, 51, 1.0)\",\"dash\":\"solid\",\"shape\":\"linear\",\"width\":1.3},\"mode\":\"lines\",\"name\":\"close\",\"text\":\"\",\"x\":[\"a\",\"aa\",\"aal\",\"aamc\",\"aame\",\"aan\",\"aaoi\",\"aaon\",\"aap\",\"aapl\",\"aat\",\"aau\",\"aaww\",\"aaxn\",\"ab\",\"abbv\",\"abc\",\"abcb\",\"abeo\",\"abev\",\"abg\",\"abio\",\"abm\",\"abmd\",\"abr\",\"abt\",\"abtx\",\"abus\",\"ac\",\"acad\",\"acbi\",\"acc\",\"acco\",\"acer\",\"achc\",\"achv\",\"acia\",\"aciw\",\"acls\",\"acm\",\"acmr\",\"acnb\",\"acor\",\"acre\",\"acrs\",\"acrx\",\"acst\",\"actg\",\"acu\",\"acv\",\"acy\",\"adbe\",\"adc\",\"ades\",\"adi\",\"adm\",\"adma\",\"admp\",\"adms\",\"adom\",\"adp\",\"adro\",\"ads\",\"adsk\",\"adsw\",\"adtn\",\"adus\",\"advm\",\"adx\",\"adxs\",\"ae\",\"aee\",\"aegn\",\"aehr\",\"aeis\",\"ael\",\"aem\",\"aemd\",\"aeo\",\"aep\",\"aeri\",\"aes\",\"aey\",\"aezs\",\"afb\",\"afg\",\"afh\",\"afhbl\",\"afi\",\"afl\",\"aft\",\"ag\",\"agco\",\"agen\",\"agfs\",\"agi\",\"agio\",\"agle\",\"agm\",\"agm-a\",\"agnc\",\"agncn\",\"agr\",\"agro\",\"agrx\",\"agtc\",\"agx\",\"agys\",\"ahc\",\"ahh\",\"ahpi\",\"aht\",\"ai\",\"aif\",\"aig\",\"aimc\",\"aimt\",\"ain\",\"ainc\",\"ainv\",\"air\",\"airg\",\"airi\",\"airt\",\"ait\",\"aiv\",\"aiw\",\"aiz\",\"ajg\",\"ajrd\",\"ajx\",\"akam\",\"akba\",\"akca\",\"aker\",\"akg\",\"akr\",\"akrx\",\"akts\",\"al\",\"alb\",\"albo\",\"alco\",\"aldx\",\"ale\",\"alex\",\"alg\",\"algn\",\"algt\",\"alim\",\"aljj\",\"alk\",\"all\",\"ally\",\"alna\",\"alny\",\"alo\",\"alot\",\"alpn\",\"alrm\",\"alrn\",\"alsk\",\"alsn\",\"alt\",\"altr\",\"alx\",\"alxn\",\"am\",\"amag\",\"amat\",\"amba\",\"ambc\",\"amc\",\"amcx\",\"amd\",\"ame\",\"amed\",\"amg\",\"amgn\",\"amh\",\"amkr\",\"amn\",\"amnb\",\"amot\",\"amov\",\"amp\",\"ampe\",\"amph\",\"amrb\",\"amrc\",\"amrk\",\"amrs\",\"ams\",\"amsc\",\"amsf\",\"amswa\",\"amt\",\"amtd\",\"amtx\",\"amwd\",\"amx\",\"amzn\",\"an\",\"anab\",\"anat\",\"ande\",\"anet\",\"anf\",\"angi\",\"ango\",\"anh\",\"anik\",\"anip\",\"anss\",\"anth\",\"antm\",\"any\",\"aobc\",\"aos\",\"aosl\",\"ap\",\"apa\",\"apam\",\"apd\",\"apdn\",\"apei\",\"apen\",\"aph\",\"aple\",\"apls\",\"apo\",\"apog\",\"appf\",\"appn\",\"apps\",\"aprn\",\"apt\",\"apto\",\"apts\",\"apvo\",\"aqb\",\"aqms\",\"aqn\",\"aqua\",\"ar\",\"ara\",\"aray\",\"arc\",\"arcb\",\"arcc\",\"arch\",\"arcw\",\"ardc\",\"ardx\",\"are\",\"ares\",\"ari\",\"arkr\",\"arl\",\"arlp\",\"armk\",\"arna\",\"arnc\",\"aroc\",\"arow\",\"arql\",\"arr\",\"artna\",\"artw\",\"arw\",\"arwr\",\"asa\",\"asb\",\"asfi\",\"asg\",\"asgn\",\"ash\",\"asix\",\"asm\",\"asmb\",\"asna\",\"aspn\",\"aspu\",\"asr\",\"asrv\",\"astc\",\"aste\",\"asur\",\"asx\",\"asys\",\"at\",\"atax\",\"atec\",\"aten\",\"atge\",\"athx\",\"ati\",\"atkr\",\"atlc\",\"atlo\",\"atni\",\"atnm\",\"atnx\",\"ato\",\"atom\",\"atos\",\"atr\",\"atra\",\"atrc\",\"atri\",\"atro\",\"atrs\",\"atsg\",\"atus\",\"atvi\",\"atxi\",\"aubn\",\"aug\",\"aumn\",\"auph\",\"auto\",\"auy\",\"ava\",\"avav\",\"avb\",\"avd\",\"aveo\",\"avgo\",\"avgr\",\"avid\",\"avk\",\"avnw\",\"avt\",\"avx\",\"avxl\",\"avy\",\"awf\",\"awi\",\"awk\",\"awr\",\"awre\",\"awx\",\"axas\",\"axdx\",\"axe\",\"axgn\",\"axl\",\"axp\",\"axr\",\"axsm\",\"axta\",\"axti\",\"axu\",\"ayi\",\"ayr\",\"aytu\",\"ayx\",\"azo\",\"azpn\",\"azrx\",\"azul\",\"azz\",\"b\",\"ba\",\"bac\",\"baf\",\"bah\",\"bak\",\"bam\",\"banc\",\"band\",\"banf\",\"banr\",\"banx\",\"basi\",\"batra\",\"batrk\",\"bax\",\"bb\",\"bbby\",\"bbd\",\"bbdo\",\"bbf\",\"bbgi\",\"bbk\",\"bbl\",\"bbn\",\"bbsi\",\"bbw\",\"bbx\",\"bby\",\"bc\",\"bcbp\",\"bcc\",\"bce\",\"bcei\",\"bcli\",\"bco\",\"bcor\",\"bcov\",\"bcpc\",\"bcrx\",\"bctf\",\"bcv\",\"bcx\",\"bdc\",\"bdge\",\"bdj\",\"bdl\",\"bdn\",\"bdr\",\"bdsi\",\"bdx\",\"beat\",\"bebe\",\"becn\",\"belfa\",\"belfb\",\"ben\",\"bep\",\"bery\",\"bf-a\",\"bf-b\",\"bfam\",\"bfin\",\"bfk\",\"bfo\",\"bfs\",\"bfy\",\"bfz\",\"bg\",\"bgb\",\"bgcp\",\"bgfv\",\"bgg\",\"bgh\",\"bgi\",\"bgio\",\"bgr\",\"bgs\",\"bgsf\",\"bgt\",\"bgx\",\"bgy\",\"bh\",\"bhb\",\"bhe\",\"bhf\",\"bhk\",\"bhlb\",\"bhp\",\"bhv\",\"bhvn\",\"bidu\",\"bif\",\"big\",\"biib\",\"bio\",\"bio-b\",\"bioc\",\"biol\",\"bit\",\"bjri\",\"bk\",\"bkcc\",\"bkd\",\"bke\",\"bkep\",\"bkepp\",\"bkh\",\"bki\",\"bkk\",\"bkn\",\"bksc\",\"bkt\",\"bku\",\"bkyi\",\"bl\",\"blbd\",\"blcm\",\"bld\",\"bldp\",\"bldr\",\"ble\",\"blfs\",\"blin\",\"blk\",\"blkb\",\"bll\",\"blmn\",\"blph\",\"blue\",\"blw\",\"bmch\",\"bme\",\"bmi\",\"bmo\",\"bmra\",\"bmrc\",\"bmrn\",\"bmtc\",\"bmy\",\"bned\",\"bnft\",\"bns\",\"bntc\",\"bny\",\"boch\",\"boe\",\"boh\",\"bokf\",\"bokfl\",\"bold\",\"bomn\",\"boom\",\"boot\",\"botj\",\"box\",\"bpfh\",\"bpmc\",\"bpmp\",\"bpmx\",\"bpop\",\"bprn\",\"bpt\",\"bpth\",\"bqh\",\"br\",\"brc\",\"brew\",\"brfs\",\"brg\",\"brid\",\"brk-a\",\"brk-b\",\"brkl\",\"brkr\",\"brks\",\"brn\",\"bro\",\"brt\",\"brx\",\"bsbr\",\"bsd\",\"bse\",\"bset\",\"bsl\",\"bsm\",\"bsmx\",\"bsqr\",\"bsrr\",\"bst\",\"bstc\",\"bsx\",\"bta\",\"bte\",\"btg\",\"btn\",\"bto\",\"btt\",\"btu\",\"btz\",\"bui\",\"burl\",\"buse\",\"bv\",\"bvsn\",\"bw\",\"bwa\",\"bwen\",\"bwfg\",\"bwg\",\"bwxt\",\"bx\",\"bxc\",\"bxmt\",\"bxmx\",\"bxp\",\"bxs\",\"by\",\"byd\",\"byfc\",\"bym\",\"bysi\",\"bzh\",\"bzm\",\"c\",\"cabo\",\"cac\",\"cacc\",\"caci\",\"cade\",\"cae\",\"caf\",\"cag\",\"cah\",\"cai\",\"cake\",\"cal\",\"cala\",\"calm\",\"calx\",\"camp\",\"capl\",\"capr\",\"car\",\"cara\",\"carg\",\"caro\",\"cars\",\"carv\",\"cash\",\"casi\",\"cass\",\"casy\",\"cat\",\"catb\",\"catc\",\"catm\",\"cato\",\"cats\",\"caty\",\"cban\",\"cbay\",\"cbb\",\"cbd\",\"cbfv\",\"cbh\",\"cbio\",\"cbl\",\"cbli\",\"cbm\",\"cbmg\",\"cboe\",\"cbrl\",\"cbsh\",\"cbshp\",\"cbt\",\"cbtx\",\"cbu\",\"cbz\",\"cc\",\"ccbg\",\"ccd\",\"ccf\",\"cci\",\"ccj\",\"cck\",\"ccl\",\"cclp\",\"ccmp\",\"ccne\",\"cco\",\"ccoi\",\"ccrn\",\"ccs\",\"ccur\",\"ccxi\",\"cde\",\"cdev\",\"cdk\",\"cdna\",\"cdns\",\"cdor\",\"cdr\",\"cdti\",\"cdtx\",\"cdw\",\"cdxc\",\"cdxs\",\"cdzi\",\"ce\",\"cece\",\"cei\",\"celc\",\"celg\",\"celh\",\"celp\",\"cem\",\"cemi\",\"cen\",\"cent\",\"centa\",\"cenx\",\"ceqp\",\"cerc\",\"cern\",\"cers\",\"cet\",\"cetx\",\"cetxp\",\"cev\",\"ceva\",\"cf\",\"cfbi\",\"cfbk\",\"cffi\",\"cffn\",\"cfg\",\"cfms\",\"cfnb\",\"cfr\",\"cfrx\",\"cfx\",\"cg\",\"cga\",\"cgbd\",\"cgix\",\"cgnx\",\"cgo\",\"chci\",\"chco\",\"chct\",\"chd\",\"chdn\",\"che\",\"chef\",\"chfs\",\"chgg\",\"chh\",\"chi\",\"chkr\",\"chma\",\"chmg\",\"chmi\",\"chn\",\"chrs\",\"chrw\",\"chs\",\"chscl\",\"chscm\",\"chscn\",\"chsco\",\"chscp\",\"chtr\",\"chuy\",\"chw\",\"chy\",\"ci\",\"cia\",\"cidm\",\"cien\",\"cif\",\"cig\",\"cig-c\",\"cigi\",\"cii\",\"cik\",\"cim\",\"cinf\",\"cinr\",\"cio\",\"cir\",\"cit\",\"civb\",\"cix\",\"cizn\",\"ckh\",\"ckpt\",\"ckx\",\"cl\",\"clar\",\"clbs\",\"clct\",\"cldr\",\"cldt\",\"cldx\",\"clf\",\"clfd\",\"clgx\",\"clh\",\"cli\",\"clir\",\"clm\",\"clmt\",\"clne\"],\"y\":[11.706694285226158,20.445696633534904,6.304681750137086,321.1082775181088,1.0746366480241405,7.237218417877223,17.871791976275247,9.655031358383244,47.37100166461452,43.38919591848563,8.672232059934874,0.9130040582386605,11.06989639036771,7.8889193024486435,12.304820092112134,12.404268933848542,28.976528136168024,10.658080827201958,3.489052021778796,1.7191836296091643,23.29711232527629,4013.787498629647,7.817818730913991,40.78925168590752,5.5463454575947315,10.007634559387762,7.253198875633496,5.12046242974832,3.15154687776468,12.80842130658495,2.199337173648065,9.598720324345505,6.531159348899881,2175.6602445192734,17.935474894181713,359.11953954745474,21.41462074731596,5.988811493709742,8.373517495542826,4.794591607115641,0.17929909834315017,5.641943956667869,8.059681560843808,1.367731652908926,4.597182462575115,2.772688375032421,9.213867618931632,9.557407893956114,4.987761797145393,2.469619606105674,5.004338983319261,32.03562091481308,9.679476473307774,1.405300080830773,16.592306027994876,8.396571997109218,2.490123018931557,7.36952478795782,3.1696736858890353,3.804834902229939,24.45581004944654,7.794524596721664,88.000444251338,19.65027232817353,1.5638412763763343,5.14588657180318,11.014614687822203,15.079797163712241,2.499708437419475,9.216557647721869,14.397197969012048,10.334053515008103,2.6546343170339246,2.160186802634201,16.136641778006023,6.77673555611004,14.52544711756492,2.214581337751081,3.495617577926685,13.674123407274637,13.975639769514338,3.07532657723235,1.3443950033036132,705.3455198411247,1.6779890395318622,22.756947230143354,3.4912298872292262,0.24512120883835237,2.0665328046644658,13.262209768980135,1.6170672510814388,5.9450661987079885,14.040697896307693,9.010126207316931,2.6637987462278567,3.0949434221635626,27.324897778240153,1.5994958239466854,13.876677169755178,14.881853420662699,3.7335113660137593,0.5199814592895503,4.239963203778113,1.5518365981483118,2.335574764167993,6.029595104835341,17.608456116323016,4.235161668169606,1.8681694176107564,2.3264675080316803,3.8683965337952744,1.9870533682619018,27.10111787196646,1.4294546062616134,501.4166610599648,9.731361544174883,4.317540145936073,10.215665161606537,25.826846842434403,2.082889209651583,6.489987056332116,3.2335248628873217,2.923531072810245,5.305500199492146,12.610609831926684,10.857468936218178,2.3834981322871545,21.382910468784036,12.035125817326431,6.6220804819308094,1.2919728483660768,16.42594865017267,5.456234907464562,5.15092897851802,1.255029525552695,2.019204761737298,6.761126439578203,13.206770668175865,1.8486993482269756,6.42967381214936,24.40937390925813,646.0752040655302,10.330990623253653,1.7997671634938939,12.44716687642087,9.922739458376046,21.021778333763773,38.28472400259549,53.39891922074653,2.790945823108803,0.6021556109994137,27.5667556951461,17.765163832672407,2.4016267531148965,0.931999897813197,31.81682309891885,9.135467578794502,3.1073525967585867,17.707898423409038,9.430892573034406,0.9279743350833296,3.9602412408881777,5.955773747189801,2.5347569451528917,1.1379359447199615,90.66594979164796,61.64491849229229,4.836870640589812,15.917952137498057,8.495701166819785,23.847473590476774,4.51374999312279,5.074271492639316,12.579114052668327,7.785403007003453,16.62161630575442,14.072953661832422,49.2635070801914,44.116617488250164,2.811346253591113,2.736857612446306,10.467266516570632,5.91099213421981,8.03173656129042,4.762493250826057,35.14771970607059,2.446159834215258,2.9362333492393877,5.368087179813471,3.0416189218475926,3.495372264258735,125.86018645103722,1.5320927887848184,114.07700112759822,16.05630700436689,2.1353384841899414,31.555442258742943,9.51469435275501,11.216457569265653,22.296870827218708,4.766645502246625,264.32648701152755,15.967724636448992,13.786022452455361,20.26238135627623,11.793043589952532,37.29826976050406,16.22988912835078,5.0522323335928565,4.012326439831787,0.7006481095246643,15.865112198408747,55.595054103568465,29.399014650576003,164.5613042109181,40.551628345182635,61.48787289532115,6.8806666085625565,15.362127449347804,4.093999201836317,6.445430377207096,20.005443822026052,7.040384339250528,32.78794885735439,11.817168545033095,7.92045744756391,169.47778057262906,19.418479956767467,1.0351877015222666,0.0070710678118646965,6.2436827469692595,14.769717211767487,10.030411943697066,2.62152109457643,1.3057544681346,1.2568437066809528,0.9598181055629309,8.484491046679803,3.8390995595214155,0.7325728176155837,3.2809661485079182,4.045870011183349,0.9544416327028086,0.23039303891600685,15.23538568771033,4.529896983086463,4.283768847425387,9.18593873608497,8.96460890739898,3.2090351330589013,4.453560617262995,3.521464850459467,1.278624268080389,5.539788995026282,20.109804332388435,2.2441058985863314,2.9583784053106355,5.2567070287073845,2.7788447776397844,6.85273516410037,4.864241603605426,40.44627967228309,3.0073137264685235,2.7604616757866522,5.3369032095245625,2.1586123154613595,3.7170049436921007,6.3400863911024805,2.591290380603351,15.924225081344709,4.1680494070107645,6.337017579322256,3.1322471722604117,10.407205601531798,0.8372192051033563,14.918656039733762,15.652009266313575,7.927095586614557,0.45098543890781523,18.42695277136961,5.109608550092849,2.040200383739598,0.8756076761224014,51.19863153480713,0.9850756244996048,18.904824244044587,10.43661747035129,3.6666126485625807,1.4360477829315994,4.573569450375325,2.9461374474090842,0.782218053058515,20.73984710138115,2.480690211744551,11.89876393615314,1.1406940738215525,21.48184960452417,3.4008345361692855,10.86893934043257,4.54400750438113,19.14500555144437,2.8822487281684324,1.4518304422893646,19.218889534698768,1.5434056372941534,31.008372600764236,18.20316372526616,11.874406046900118,5.758128599701341,150.4938306708286,17.605971664221165,1.1108879692199236,4.891758273511878,3.2480252213281586,13.621684804379727,1.0456893892308552,5.130755226726901,0.3837624297747392,6.550339005752719,1.5851561918868566,6.92697679917123,4.180740737545917,9.45758929483799,5.541122013620443,40.39090457962645,6.1924139435433805,5.800844787237549,69.62314928324581,6.1386661179931545,13.830122852544688,2.5224138557666387,59.17949237531909,8.476822651810522,2.2450711770542155,1.3955217841384315,17.556861327791253,2.2583917616458193,12.729013096378145,20.664941372072224,11.228264962012107,1.2657281137440994,1.7826173817325963,1.3984227152149689,8.714284242440906,18.440355463964835,3.660634033582819,6.623760577385314,18.63353485110409,20.943180808338347,2.1499035750621904,2.740078456598707,2.0697349977201123,2.26672380443301,70.67504154844498,6.649059039077572,0.6627030601697368,2.3183130613664438,236.16691872782724,16.234464360101146,0.5100433333010862,2.384792517438448,17.906484812202667,12.085456828148416,44.552813915560144,14.09211437826143,2.079118331237458,10.006298765836968,4.570433493433748,8.445809801404238,3.8989824564335356,\"\",8.993102069414226,12.35451904420254,2.1524788449943895,2.322729989221033,3.5804882194511314,3.705118794874847,10.373003270388464,32.12517727168945,14.805267092900284,2.2193397712801977,1.704155168280595,1.9402284733052249,3.078280594932355,2.31999011845476,11.982868025048303,3.5077084562461605,18.213260074112775,8.17421782799672,0.684366599632245,9.509618737380913,15.546865822028666,2.2907733362163434,5.181602500593385,9.695525047193726,2079.360843769578,0.8172330899086461,11.251154497453726,4.964781955560545,3.340246357384468,23.02708796787765,4.0686602785763215,2.620103361555698,3.2065341768729634,1.152715933326484,20.627355017424723,5.156133431855981,1.441901270817098,8.054999001853774,5.5720354609514375,0.6442242708723287,3.127950991691725,42.106198893067095,9.090295908859892,51.17275787761804,11.637120521925123,5.7261271902524165,5.9199857972139895,9.517614572347085,3.634634196968753,12.592514621402035,11.790682617188695,10.531346896820063,15.980512020310798,3.0554549867292233,2.046720380992403,1.9053706853796009,10.727502905021542,2.170129095074481,2.1121527214652236,14.68955081030757,1.1616576475038332,2.5481033774161936,4.43300895779164,5.075922189351264,1.8527503676935957,2.328021292160422,0.12971380723260412,2.424480882932928,12.106548732017066,2.517066385881664,1.8167233800841305,1.3141484107107078,1.2983195835933385,91.21170485359141,6.018165378362694,5.0709910773266085,4.251177942633712,2.00624978921215,5.396320225699965,14.765934432493598,2.0293376125816174,5.6698420251807775,73.64657623216196,1.7179480050454425,11.67890401180276,109.40235024282083,39.642647582331705,19.063705509542093,6.084883238838504,2.3592740844865316,1.8870743797786844,11.939268948182917,8.434591488492792,1.2698765981144549,10.999224170908573,10.31339610524302,0.8671544728116148,0.7901286375734164,13.803683224406573,4.716306616371258,1.9643423814632592,2.2443068836384445,3.7797724450070573,0.7726322363502108,5.486448833284665,0.5167440673072472,3.9916736558608394,3.4462145951105088,5.251115713173329,11.127431516171134,1.7628850658621518,5.634917331450985,2.226275512741632,0.9219040147865452,23.49457835229472,99.79266878793013,19.838525381178144,10.600675743240629,2.928077223973524,2.9014035141934595,42.71061239032759,2.1056536905354153,2.3863299434231737,8.39120959935452,8.83830439195935,12.106723431036935,0.28856311288627534,11.723093236692996,34.13755420835011,7.350730712608504,16.822552748368494,2.069591323431596,9.488635515399523,10.113047458738073,5.833675818537246,1.7877130460390753,2.3440059580411807,1.848676767883968,13.994425419663884,13.193834571075973,1.2103575870014587,3.7513420252567586,1.8771462432916433,9.791733300213549,7.092322096593521,3.1670218306632214,3.0204498816821332,6.988769865555072,13.646462918330066,0.35712127640425856,0.9469258172367592,67.46268859062393,0.7601786219637574,13.899363848832659,1.0139291820219518,1.6560916228897065,19.64511205727647,4.6029482200087,4.649511806684789,5.862040339386988,1.1591675756619206,2.608650887681878,53502.671530038715,35.76137696331124,2.1306526045986534,6.893115793817191,4.768083662327939,7.520205921930474,7.609420458045111,5.330043254679554,2.4989457936408037,1.7032394649097664,2.0869100645463643,1.6234083860823791,9.367173591108443,1.515414667398435,2.0284980805827555,1.844901136095014,1.7672511636355575,5.891661314935112,3.3278590087149653,15.083311608144422,7.373084036612526,1.7419107770540228,12.939066974098402,0.6490667640834152,1.4462729609267935,6.795549337049126,2.575313452685616,2.518516829024574,2.4044766792677486,2.5245729491979567,22.91884831293632,15.902077763987908,3.9048311893409156,14.212619204374905,5.47622217507361,14.90321407029093,42.86274528944421,6.375271827085733,1.0014218472831342,9.919143094093089,8.949076588538905,41.15493690905265,43.01785587624953,2.0017234256122873,27.032993273036055,5.090622307956319,0.4623455859638071,14.814354864479396,3.5093500233461095,1.9036433950218172,8.098394475291052,95.22122561509815,1.4881353944088387,177.6163690066037,120.08198943617789,6.771279775636216,74.25565287744169,23.906701454351758,0.8788537282804472,2.87657948470688,3.7388580334443695,8.680030274496291,19.135855206749607,6.942377233535834,13.077909021305715,8.029502953445844,5.476557658419029,15.022718813714922,3.65779056239006,7.365243796187082,3.9385206469676537,45.67679942065929,15.168235252698667,4.329674153019143,1.5249566738576077,8.92474158113132,1.477114737426878,2.561831426338311,20.387710821170614,8.365016172563386,13.083873481544385,33.88677844291577,20.34562995415095,3.361705345348615,1.2130028665914083,13.456096458212283,7.347788342028332,3.146012604856927,9.060980488402326,7.107496217411046,2.7858080554429216,4.059226846672224,12.676882383165198,3.7147073260867858,0.1871704355121932,579.2481148236074,6.313593364474528,59.203212287372914,16.755122144005032,7.802712722433878,22.647829221941773,45.27727196414763,8.605960894167618,1.9048496375974358,11.010876579070006,0.3377869150810926,11.680058977878483,2.4638470633522176,16.405532407825508,8.15449968427551,2.01927412243478,25.361325009210532,24.729649037203444,8.506287577778128,13.310367379523447,10.268881598517362,3.3235332320884123,14.680957606783679,4.1896052029399105,1.606441356674693,11.836371415070403,4.802738118430515,3.266188997840866,3.887265874428397,3.1543197610839773,14.83781079513566,2.935600001742376,9.28208625681854,2.207077487072728,7.640035949031496,115.33193878874995,2.8499179213112296,141.64985138789012,3.1110747464864263,13.06431280282466,1.061926472500355,2.8125831004481965,5.205158245670094,21.366932403611983,3.6189466435916406,73.05150232633989,2.862805868201925,38.89671298956964,0.7668520799738532,3.215898303261671,3.100013989502792,1.7851547577826106,1.9826211091880523,7.603117861241801,7.644521049637572,16.7872779813386,25.217967098053986,1.4946261411076036,21.31111322583569,2.1614317418471742,4.0115805989358755,1.166949835318192,0.7703070349213565,1.6664466929691861,9.915377308220041,14.737823146616993,0.4290097179337167,15.617826736162952,10.743049965347009,1.8263057597457202,5.958908074891179,5.968837148956516,2.721172866925866,14.806925614176844,1.352546210608805,17.375963431382615,3.787129447626114,3.9877131960102683,0.3562258050294981,4.827660876304095,22.93417064769461,1.6345447295641136,38.32956632994275,11.385491692906204,3.921369609319182,13.896334336553723,45.023295079683884,45.316351845927855,3.532564058858874,2065.0259293389427,2.658711404818232,13.798178205487517,1.7479653624277478,2.2379653946177815,8.460678961249053,5.494001041491777,2.2618204730690796,3.718627061128709,6.327449345728921,13.173403800864751,7.37674078781735,2.1550465938239305,2.332492452480062,2.5249113788484614,2.317614649995293,3.154522456757947,95.63744436132794,5.7114844284995545,1.3659091624823707,1.6632809499583656,44.77670172029522,1.355152205977899,33.77108791325418,7.3557109844088675,0.38480679788681194,1.3898237203490005,3.758255710938346,6.584128576239076,2.1211383992692445,0.4339779183536426,5.658866756463889,16.16126307853745,3.1843167672566643,1.0566521616212237,15.043445902508596,5.546033807580509,5.884682633555305,3.1442142976349445,3.021169881684368,8.544931125757618,2.287891134975614,1.8641055620041385,16.75706475552537,2.1429839897406953,206.94542408328803,5.749606316755835,2.0454379797843267,4.871667509811122,7.518420665256072,23.44746354779341,6.586716136722912,8.969948319951532,15.848914448307166,6.077565120631831,2.048218449366163,8.640039610197174,7.96067932102987,5.041879898600456],\"type\":\"scatter\"}],                        {\"legend\":{\"bgcolor\":\"#F5F6F9\",\"font\":{\"color\":\"#4D5663\"}},\"paper_bgcolor\":\"#F5F6F9\",\"plot_bgcolor\":\"#F5F6F9\",\"template\":{\"data\":{\"barpolar\":[{\"marker\":{\"line\":{\"color\":\"#E5ECF6\",\"width\":0.5},\"pattern\":{\"fillmode\":\"overlay\",\"size\":10,\"solidity\":0.2}},\"type\":\"barpolar\"}],\"bar\":[{\"error_x\":{\"color\":\"#2a3f5f\"},\"error_y\":{\"color\":\"#2a3f5f\"},\"marker\":{\"line\":{\"color\":\"#E5ECF6\",\"width\":0.5},\"pattern\":{\"fillmode\":\"overlay\",\"size\":10,\"solidity\":0.2}},\"type\":\"bar\"}],\"carpet\":[{\"aaxis\":{\"endlinecolor\":\"#2a3f5f\",\"gridcolor\":\"white\",\"linecolor\":\"white\",\"minorgridcolor\":\"white\",\"startlinecolor\":\"#2a3f5f\"},\"baxis\":{\"endlinecolor\":\"#2a3f5f\",\"gridcolor\":\"white\",\"linecolor\":\"white\",\"minorgridcolor\":\"white\",\"startlinecolor\":\"#2a3f5f\"},\"type\":\"carpet\"}],\"choropleth\":[{\"colorbar\":{\"outlinewidth\":0,\"ticks\":\"\"},\"type\":\"choropleth\"}],\"contourcarpet\":[{\"colorbar\":{\"outlinewidth\":0,\"ticks\":\"\"},\"type\":\"contourcarpet\"}],\"contour\":[{\"colorbar\":{\"outlinewidth\":0,\"ticks\":\"\"},\"colorscale\":[[0.0,\"#0d0887\"],[0.1111111111111111,\"#46039f\"],[0.2222222222222222,\"#7201a8\"],[0.3333333333333333,\"#9c179e\"],[0.4444444444444444,\"#bd3786\"],[0.5555555555555556,\"#d8576b\"],[0.6666666666666666,\"#ed7953\"],[0.7777777777777778,\"#fb9f3a\"],[0.8888888888888888,\"#fdca26\"],[1.0,\"#f0f921\"]],\"type\":\"contour\"}],\"heatmapgl\":[{\"colorbar\":{\"outlinewidth\":0,\"ticks\":\"\"},\"colorscale\":[[0.0,\"#0d0887\"],[0.1111111111111111,\"#46039f\"],[0.2222222222222222,\"#7201a8\"],[0.3333333333333333,\"#9c179e\"],[0.4444444444444444,\"#bd3786\"],[0.5555555555555556,\"#d8576b\"],[0.6666666666666666,\"#ed7953\"],[0.7777777777777778,\"#fb9f3a\"],[0.8888888888888888,\"#fdca26\"],[1.0,\"#f0f921\"]],\"type\":\"heatmapgl\"}],\"heatmap\":[{\"colorbar\":{\"outlinewidth\":0,\"ticks\":\"\"},\"colorscale\":[[0.0,\"#0d0887\"],[0.1111111111111111,\"#46039f\"],[0.2222222222222222,\"#7201a8\"],[0.3333333333333333,\"#9c179e\"],[0.4444444444444444,\"#bd3786\"],[0.5555555555555556,\"#d8576b\"],[0.6666666666666666,\"#ed7953\"],[0.7777777777777778,\"#fb9f3a\"],[0.8888888888888888,\"#fdca26\"],[1.0,\"#f0f921\"]],\"type\":\"heatmap\"}],\"histogram2dcontour\":[{\"colorbar\":{\"outlinewidth\":0,\"ticks\":\"\"},\"colorscale\":[[0.0,\"#0d0887\"],[0.1111111111111111,\"#46039f\"],[0.2222222222222222,\"#7201a8\"],[0.3333333333333333,\"#9c179e\"],[0.4444444444444444,\"#bd3786\"],[0.5555555555555556,\"#d8576b\"],[0.6666666666666666,\"#ed7953\"],[0.7777777777777778,\"#fb9f3a\"],[0.8888888888888888,\"#fdca26\"],[1.0,\"#f0f921\"]],\"type\":\"histogram2dcontour\"}],\"histogram2d\":[{\"colorbar\":{\"outlinewidth\":0,\"ticks\":\"\"},\"colorscale\":[[0.0,\"#0d0887\"],[0.1111111111111111,\"#46039f\"],[0.2222222222222222,\"#7201a8\"],[0.3333333333333333,\"#9c179e\"],[0.4444444444444444,\"#bd3786\"],[0.5555555555555556,\"#d8576b\"],[0.6666666666666666,\"#ed7953\"],[0.7777777777777778,\"#fb9f3a\"],[0.8888888888888888,\"#fdca26\"],[1.0,\"#f0f921\"]],\"type\":\"histogram2d\"}],\"histogram\":[{\"marker\":{\"pattern\":{\"fillmode\":\"overlay\",\"size\":10,\"solidity\":0.2}},\"type\":\"histogram\"}],\"mesh3d\":[{\"colorbar\":{\"outlinewidth\":0,\"ticks\":\"\"},\"type\":\"mesh3d\"}],\"parcoords\":[{\"line\":{\"colorbar\":{\"outlinewidth\":0,\"ticks\":\"\"}},\"type\":\"parcoords\"}],\"pie\":[{\"automargin\":true,\"type\":\"pie\"}],\"scatter3d\":[{\"line\":{\"colorbar\":{\"outlinewidth\":0,\"ticks\":\"\"}},\"marker\":{\"colorbar\":{\"outlinewidth\":0,\"ticks\":\"\"}},\"type\":\"scatter3d\"}],\"scattercarpet\":[{\"marker\":{\"colorbar\":{\"outlinewidth\":0,\"ticks\":\"\"}},\"type\":\"scattercarpet\"}],\"scattergeo\":[{\"marker\":{\"colorbar\":{\"outlinewidth\":0,\"ticks\":\"\"}},\"type\":\"scattergeo\"}],\"scattergl\":[{\"marker\":{\"colorbar\":{\"outlinewidth\":0,\"ticks\":\"\"}},\"type\":\"scattergl\"}],\"scattermapbox\":[{\"marker\":{\"colorbar\":{\"outlinewidth\":0,\"ticks\":\"\"}},\"type\":\"scattermapbox\"}],\"scatterpolargl\":[{\"marker\":{\"colorbar\":{\"outlinewidth\":0,\"ticks\":\"\"}},\"type\":\"scatterpolargl\"}],\"scatterpolar\":[{\"marker\":{\"colorbar\":{\"outlinewidth\":0,\"ticks\":\"\"}},\"type\":\"scatterpolar\"}],\"scatter\":[{\"marker\":{\"colorbar\":{\"outlinewidth\":0,\"ticks\":\"\"}},\"type\":\"scatter\"}],\"scatterternary\":[{\"marker\":{\"colorbar\":{\"outlinewidth\":0,\"ticks\":\"\"}},\"type\":\"scatterternary\"}],\"surface\":[{\"colorbar\":{\"outlinewidth\":0,\"ticks\":\"\"},\"colorscale\":[[0.0,\"#0d0887\"],[0.1111111111111111,\"#46039f\"],[0.2222222222222222,\"#7201a8\"],[0.3333333333333333,\"#9c179e\"],[0.4444444444444444,\"#bd3786\"],[0.5555555555555556,\"#d8576b\"],[0.6666666666666666,\"#ed7953\"],[0.7777777777777778,\"#fb9f3a\"],[0.8888888888888888,\"#fdca26\"],[1.0,\"#f0f921\"]],\"type\":\"surface\"}],\"table\":[{\"cells\":{\"fill\":{\"color\":\"#EBF0F8\"},\"line\":{\"color\":\"white\"}},\"header\":{\"fill\":{\"color\":\"#C8D4E3\"},\"line\":{\"color\":\"white\"}},\"type\":\"table\"}]},\"layout\":{\"annotationdefaults\":{\"arrowcolor\":\"#2a3f5f\",\"arrowhead\":0,\"arrowwidth\":1},\"autotypenumbers\":\"strict\",\"coloraxis\":{\"colorbar\":{\"outlinewidth\":0,\"ticks\":\"\"}},\"colorscale\":{\"diverging\":[[0,\"#8e0152\"],[0.1,\"#c51b7d\"],[0.2,\"#de77ae\"],[0.3,\"#f1b6da\"],[0.4,\"#fde0ef\"],[0.5,\"#f7f7f7\"],[0.6,\"#e6f5d0\"],[0.7,\"#b8e186\"],[0.8,\"#7fbc41\"],[0.9,\"#4d9221\"],[1,\"#276419\"]],\"sequential\":[[0.0,\"#0d0887\"],[0.1111111111111111,\"#46039f\"],[0.2222222222222222,\"#7201a8\"],[0.3333333333333333,\"#9c179e\"],[0.4444444444444444,\"#bd3786\"],[0.5555555555555556,\"#d8576b\"],[0.6666666666666666,\"#ed7953\"],[0.7777777777777778,\"#fb9f3a\"],[0.8888888888888888,\"#fdca26\"],[1.0,\"#f0f921\"]],\"sequentialminus\":[[0.0,\"#0d0887\"],[0.1111111111111111,\"#46039f\"],[0.2222222222222222,\"#7201a8\"],[0.3333333333333333,\"#9c179e\"],[0.4444444444444444,\"#bd3786\"],[0.5555555555555556,\"#d8576b\"],[0.6666666666666666,\"#ed7953\"],[0.7777777777777778,\"#fb9f3a\"],[0.8888888888888888,\"#fdca26\"],[1.0,\"#f0f921\"]]},\"colorway\":[\"#636efa\",\"#EF553B\",\"#00cc96\",\"#ab63fa\",\"#FFA15A\",\"#19d3f3\",\"#FF6692\",\"#B6E880\",\"#FF97FF\",\"#FECB52\"],\"font\":{\"color\":\"#2a3f5f\"},\"geo\":{\"bgcolor\":\"white\",\"lakecolor\":\"white\",\"landcolor\":\"#E5ECF6\",\"showlakes\":true,\"showland\":true,\"subunitcolor\":\"white\"},\"hoverlabel\":{\"align\":\"left\"},\"hovermode\":\"closest\",\"mapbox\":{\"style\":\"light\"},\"paper_bgcolor\":\"white\",\"plot_bgcolor\":\"#E5ECF6\",\"polar\":{\"angularaxis\":{\"gridcolor\":\"white\",\"linecolor\":\"white\",\"ticks\":\"\"},\"bgcolor\":\"#E5ECF6\",\"radialaxis\":{\"gridcolor\":\"white\",\"linecolor\":\"white\",\"ticks\":\"\"}},\"scene\":{\"xaxis\":{\"backgroundcolor\":\"#E5ECF6\",\"gridcolor\":\"white\",\"gridwidth\":2,\"linecolor\":\"white\",\"showbackground\":true,\"ticks\":\"\",\"zerolinecolor\":\"white\"},\"yaxis\":{\"backgroundcolor\":\"#E5ECF6\",\"gridcolor\":\"white\",\"gridwidth\":2,\"linecolor\":\"white\",\"showbackground\":true,\"ticks\":\"\",\"zerolinecolor\":\"white\"},\"zaxis\":{\"backgroundcolor\":\"#E5ECF6\",\"gridcolor\":\"white\",\"gridwidth\":2,\"linecolor\":\"white\",\"showbackground\":true,\"ticks\":\"\",\"zerolinecolor\":\"white\"}},\"shapedefaults\":{\"line\":{\"color\":\"#2a3f5f\"}},\"ternary\":{\"aaxis\":{\"gridcolor\":\"white\",\"linecolor\":\"white\",\"ticks\":\"\"},\"baxis\":{\"gridcolor\":\"white\",\"linecolor\":\"white\",\"ticks\":\"\"},\"bgcolor\":\"#E5ECF6\",\"caxis\":{\"gridcolor\":\"white\",\"linecolor\":\"white\",\"ticks\":\"\"}},\"title\":{\"x\":0.05},\"xaxis\":{\"automargin\":true,\"gridcolor\":\"white\",\"linecolor\":\"white\",\"ticks\":\"\",\"title\":{\"standoff\":15},\"zerolinecolor\":\"white\",\"zerolinewidth\":2},\"yaxis\":{\"automargin\":true,\"gridcolor\":\"white\",\"linecolor\":\"white\",\"ticks\":\"\",\"title\":{\"standoff\":15},\"zerolinecolor\":\"white\",\"zerolinewidth\":2}}},\"title\":{\"font\":{\"color\":\"#4D5663\"}},\"xaxis\":{\"gridcolor\":\"#E1E5ED\",\"showgrid\":true,\"tickfont\":{\"color\":\"#4D5663\"},\"title\":{\"font\":{\"color\":\"#4D5663\"},\"text\":\"\"},\"zerolinecolor\":\"#E1E5ED\"},\"yaxis\":{\"gridcolor\":\"#E1E5ED\",\"showgrid\":true,\"tickfont\":{\"color\":\"#4D5663\"},\"title\":{\"font\":{\"color\":\"#4D5663\"},\"text\":\"\"},\"zerolinecolor\":\"#E1E5ED\"}},                        {\"responsive\": true}                    ).then(function(){\n",
       "                            \n",
       "var gd = document.getElementById('034baf7b-73ed-4d01-b2a6-8276d5c79dd1');\n",
       "var x = new MutationObserver(function (mutations, observer) {{\n",
       "        var display = window.getComputedStyle(gd).display;\n",
       "        if (!display || display === 'none') {{\n",
       "            console.log([gd, 'removed!']);\n",
       "            Plotly.purge(gd);\n",
       "            observer.disconnect();\n",
       "        }}\n",
       "}});\n",
       "\n",
       "// Listen for the removal of the full notebook cells\n",
       "var notebookContainer = gd.closest('#notebook-container');\n",
       "if (notebookContainer) {{\n",
       "    x.observe(notebookContainer, {childList: true});\n",
       "}}\n",
       "\n",
       "// Listen for the clearing of the current output cell\n",
       "var outputEl = gd.closest('.output');\n",
       "if (outputEl) {{\n",
       "    x.observe(outputEl, {childList: true});\n",
       "}}\n",
       "\n",
       "                        }).then(function(){\n",
       "                            function downloadimage(format, height, width, filename) {var p = document.getElementById('034baf7b-73ed-4d01-b2a6-8276d5c79dd1');Plotly.downloadImage(p, {format: format, height: height, width: width, filename: filename});};if(document.readyState == 'complete') {downloadimage('png', 600, 800, 'ply_02');}\n",
       "                        })                };                });            </script>        </div>"
      ]
     },
     "metadata": {},
     "output_type": "display_data"
    }
   ],
   "source": [
    "plyo.iplot(\n",
    "    ticker_stds['close'].iplot(asFigure=True),\n",
    "    image='png',\n",
    "    filename='ply_02'\n",
    ")"
   ]
  },
  {
   "cell_type": "code",
   "execution_count": 10,
   "metadata": {
    "id": "pUtYP6RYfTYM"
   },
   "outputs": [
    {
     "data": {
      "application/vnd.plotly.v1+json": {
       "config": {
        "linkText": "Export to plot.ly",
        "plotlyServerURL": "https://plot.ly",
        "showLink": false
       },
       "data": [
        {
         "close": [
          61.126,
          61.615,
          62.833,
          62.643,
          62.553,
          62.773,
          63.331,
          63.361,
          63.771,
          64.589,
          64.25,
          64.16,
          64.579,
          65.008,
          64.888,
          65.976,
          66.006,
          65.307,
          65.547,
          65.826,
          65.946,
          66.036,
          65.956,
          65.787,
          65.647,
          64.599,
          63.98,
          64.26,
          63.85,
          64.07,
          64.87,
          65.15,
          65.83,
          65.7,
          66.36,
          66.56,
          66.6,
          66.62,
          67.54,
          66.99,
          66.91,
          66.12,
          66.44,
          66.88,
          67.25,
          67.02,
          67.32,
          67.39,
          67.71,
          67.97,
          67.49,
          68.03,
          68.02,
          68.13,
          68.37,
          68.22,
          68.25,
          68.11,
          67.47,
          66.81
         ],
         "decreasing": {
          "line": {
           "color": "#808080"
          }
         },
         "high": [
          61.595,
          61.874,
          62.892,
          63.237,
          63.022,
          63.012,
          63.446,
          63.501,
          63.801,
          64.699,
          65.048,
          64.349,
          64.679,
          65.113,
          65.547,
          66.136,
          66.286,
          66.086,
          65.737,
          65.996,
          66.166,
          66.315,
          66.226,
          66.006,
          66.136,
          65.767,
          64.769,
          64.529,
          64.489,
          64.145,
          65.07,
          65.78,
          65.87,
          65.99,
          66.38,
          66.77,
          66.86,
          66.97,
          67.6,
          67.82,
          67.37,
          66.68,
          66.585,
          66.975,
          67.53,
          67.68,
          67.55,
          68.52,
          67.83,
          68.01,
          67.93,
          68.17,
          68.44,
          68.38,
          68.67,
          68.45,
          68.64,
          68.33,
          67.98,
          67.58
         ],
         "increasing": {
          "line": {
           "color": "#17BECF"
          }
         },
         "low": [
          60.158,
          60.837,
          61.725,
          62.473,
          62.224,
          62.543,
          62.842,
          62.893,
          63.262,
          63.771,
          64.08,
          63.681,
          63.92,
          64.359,
          64.699,
          65.278,
          65.757,
          65.278,
          65.028,
          65.487,
          65.567,
          65.866,
          65.637,
          65.497,
          65.577,
          64.31,
          63.781,
          63.92,
          63.84,
          63.591,
          64.29,
          65.06,
          65.15,
          65.52,
          65.66,
          66.02,
          66.22,
          66.34,
          66.54,
          66.89,
          66.77,
          65.99,
          66.07,
          66.06,
          67.07,
          66.93,
          66.88,
          67.03,
          67.2,
          67.41,
          67.1,
          67.54,
          67.84,
          67.81,
          68.01,
          68.22,
          68.04,
          67.771,
          66.91,
          66.7
         ],
         "name": "Trace 1",
         "open": [
          60.637,
          60.966,
          61.745,
          62.593,
          62.743,
          62.932,
          62.972,
          62.912,
          63.272,
          63.87,
          64.769,
          63.89,
          64.429,
          64.719,
          65.018,
          65.367,
          66.136,
          65.777,
          65.178,
          65.547,
          65.956,
          66.116,
          66.176,
          65.747,
          65.717,
          65.667,
          64.519,
          64.14,
          64.12,
          63.87,
          64.29,
          65.06,
          65.15,
          65.85,
          65.68,
          66.49,
          66.68,
          66.68,
          66.65,
          67.63,
          67.2,
          66.68,
          66.38,
          66.44,
          67.2,
          67.45,
          67.31,
          67.9,
          67.53,
          67.8,
          67.9,
          67.54,
          68.2,
          68.08,
          68.09,
          68.22,
          68.32,
          68.1,
          67.92,
          67.35
         ],
         "showlegend": true,
         "type": "candlestick",
         "x": [
          3179,
          3180,
          3181,
          3182,
          3183,
          3184,
          3185,
          3186,
          3187,
          3188,
          3189,
          3190,
          3191,
          3192,
          3193,
          3194,
          3195,
          3196,
          3197,
          3198,
          3199,
          3200,
          3201,
          3202,
          3203,
          3204,
          3205,
          3206,
          3207,
          3208,
          3209,
          3210,
          3211,
          3212,
          3213,
          3214,
          3215,
          3216,
          3217,
          3218,
          3219,
          3220,
          3221,
          3222,
          3223,
          3224,
          3225,
          3226,
          3227,
          3228,
          3229,
          3230,
          3231,
          3232,
          3233,
          3234,
          3235,
          3236,
          3237,
          3238
         ],
         "yaxis": "y2"
        }
       ],
       "layout": {
        "legend": {
         "bgcolor": "#F5F6F9",
         "font": {
          "color": "#4D5663"
         }
        },
        "margin": {
         "b": 30,
         "l": 30,
         "r": 30,
         "t": 30
        },
        "paper_bgcolor": "#F5F6F9",
        "plot_bgcolor": "#F5F6F9",
        "showlegend": true,
        "template": {
         "data": {
          "bar": [
           {
            "error_x": {
             "color": "#2a3f5f"
            },
            "error_y": {
             "color": "#2a3f5f"
            },
            "marker": {
             "line": {
              "color": "#E5ECF6",
              "width": 0.5
             },
             "pattern": {
              "fillmode": "overlay",
              "size": 10,
              "solidity": 0.2
             }
            },
            "type": "bar"
           }
          ],
          "barpolar": [
           {
            "marker": {
             "line": {
              "color": "#E5ECF6",
              "width": 0.5
             },
             "pattern": {
              "fillmode": "overlay",
              "size": 10,
              "solidity": 0.2
             }
            },
            "type": "barpolar"
           }
          ],
          "carpet": [
           {
            "aaxis": {
             "endlinecolor": "#2a3f5f",
             "gridcolor": "white",
             "linecolor": "white",
             "minorgridcolor": "white",
             "startlinecolor": "#2a3f5f"
            },
            "baxis": {
             "endlinecolor": "#2a3f5f",
             "gridcolor": "white",
             "linecolor": "white",
             "minorgridcolor": "white",
             "startlinecolor": "#2a3f5f"
            },
            "type": "carpet"
           }
          ],
          "choropleth": [
           {
            "colorbar": {
             "outlinewidth": 0,
             "ticks": ""
            },
            "type": "choropleth"
           }
          ],
          "contour": [
           {
            "colorbar": {
             "outlinewidth": 0,
             "ticks": ""
            },
            "colorscale": [
             [
              0,
              "#0d0887"
             ],
             [
              0.1111111111111111,
              "#46039f"
             ],
             [
              0.2222222222222222,
              "#7201a8"
             ],
             [
              0.3333333333333333,
              "#9c179e"
             ],
             [
              0.4444444444444444,
              "#bd3786"
             ],
             [
              0.5555555555555556,
              "#d8576b"
             ],
             [
              0.6666666666666666,
              "#ed7953"
             ],
             [
              0.7777777777777778,
              "#fb9f3a"
             ],
             [
              0.8888888888888888,
              "#fdca26"
             ],
             [
              1,
              "#f0f921"
             ]
            ],
            "type": "contour"
           }
          ],
          "contourcarpet": [
           {
            "colorbar": {
             "outlinewidth": 0,
             "ticks": ""
            },
            "type": "contourcarpet"
           }
          ],
          "heatmap": [
           {
            "colorbar": {
             "outlinewidth": 0,
             "ticks": ""
            },
            "colorscale": [
             [
              0,
              "#0d0887"
             ],
             [
              0.1111111111111111,
              "#46039f"
             ],
             [
              0.2222222222222222,
              "#7201a8"
             ],
             [
              0.3333333333333333,
              "#9c179e"
             ],
             [
              0.4444444444444444,
              "#bd3786"
             ],
             [
              0.5555555555555556,
              "#d8576b"
             ],
             [
              0.6666666666666666,
              "#ed7953"
             ],
             [
              0.7777777777777778,
              "#fb9f3a"
             ],
             [
              0.8888888888888888,
              "#fdca26"
             ],
             [
              1,
              "#f0f921"
             ]
            ],
            "type": "heatmap"
           }
          ],
          "heatmapgl": [
           {
            "colorbar": {
             "outlinewidth": 0,
             "ticks": ""
            },
            "colorscale": [
             [
              0,
              "#0d0887"
             ],
             [
              0.1111111111111111,
              "#46039f"
             ],
             [
              0.2222222222222222,
              "#7201a8"
             ],
             [
              0.3333333333333333,
              "#9c179e"
             ],
             [
              0.4444444444444444,
              "#bd3786"
             ],
             [
              0.5555555555555556,
              "#d8576b"
             ],
             [
              0.6666666666666666,
              "#ed7953"
             ],
             [
              0.7777777777777778,
              "#fb9f3a"
             ],
             [
              0.8888888888888888,
              "#fdca26"
             ],
             [
              1,
              "#f0f921"
             ]
            ],
            "type": "heatmapgl"
           }
          ],
          "histogram": [
           {
            "marker": {
             "pattern": {
              "fillmode": "overlay",
              "size": 10,
              "solidity": 0.2
             }
            },
            "type": "histogram"
           }
          ],
          "histogram2d": [
           {
            "colorbar": {
             "outlinewidth": 0,
             "ticks": ""
            },
            "colorscale": [
             [
              0,
              "#0d0887"
             ],
             [
              0.1111111111111111,
              "#46039f"
             ],
             [
              0.2222222222222222,
              "#7201a8"
             ],
             [
              0.3333333333333333,
              "#9c179e"
             ],
             [
              0.4444444444444444,
              "#bd3786"
             ],
             [
              0.5555555555555556,
              "#d8576b"
             ],
             [
              0.6666666666666666,
              "#ed7953"
             ],
             [
              0.7777777777777778,
              "#fb9f3a"
             ],
             [
              0.8888888888888888,
              "#fdca26"
             ],
             [
              1,
              "#f0f921"
             ]
            ],
            "type": "histogram2d"
           }
          ],
          "histogram2dcontour": [
           {
            "colorbar": {
             "outlinewidth": 0,
             "ticks": ""
            },
            "colorscale": [
             [
              0,
              "#0d0887"
             ],
             [
              0.1111111111111111,
              "#46039f"
             ],
             [
              0.2222222222222222,
              "#7201a8"
             ],
             [
              0.3333333333333333,
              "#9c179e"
             ],
             [
              0.4444444444444444,
              "#bd3786"
             ],
             [
              0.5555555555555556,
              "#d8576b"
             ],
             [
              0.6666666666666666,
              "#ed7953"
             ],
             [
              0.7777777777777778,
              "#fb9f3a"
             ],
             [
              0.8888888888888888,
              "#fdca26"
             ],
             [
              1,
              "#f0f921"
             ]
            ],
            "type": "histogram2dcontour"
           }
          ],
          "mesh3d": [
           {
            "colorbar": {
             "outlinewidth": 0,
             "ticks": ""
            },
            "type": "mesh3d"
           }
          ],
          "parcoords": [
           {
            "line": {
             "colorbar": {
              "outlinewidth": 0,
              "ticks": ""
             }
            },
            "type": "parcoords"
           }
          ],
          "pie": [
           {
            "automargin": true,
            "type": "pie"
           }
          ],
          "scatter": [
           {
            "marker": {
             "colorbar": {
              "outlinewidth": 0,
              "ticks": ""
             }
            },
            "type": "scatter"
           }
          ],
          "scatter3d": [
           {
            "line": {
             "colorbar": {
              "outlinewidth": 0,
              "ticks": ""
             }
            },
            "marker": {
             "colorbar": {
              "outlinewidth": 0,
              "ticks": ""
             }
            },
            "type": "scatter3d"
           }
          ],
          "scattercarpet": [
           {
            "marker": {
             "colorbar": {
              "outlinewidth": 0,
              "ticks": ""
             }
            },
            "type": "scattercarpet"
           }
          ],
          "scattergeo": [
           {
            "marker": {
             "colorbar": {
              "outlinewidth": 0,
              "ticks": ""
             }
            },
            "type": "scattergeo"
           }
          ],
          "scattergl": [
           {
            "marker": {
             "colorbar": {
              "outlinewidth": 0,
              "ticks": ""
             }
            },
            "type": "scattergl"
           }
          ],
          "scattermapbox": [
           {
            "marker": {
             "colorbar": {
              "outlinewidth": 0,
              "ticks": ""
             }
            },
            "type": "scattermapbox"
           }
          ],
          "scatterpolar": [
           {
            "marker": {
             "colorbar": {
              "outlinewidth": 0,
              "ticks": ""
             }
            },
            "type": "scatterpolar"
           }
          ],
          "scatterpolargl": [
           {
            "marker": {
             "colorbar": {
              "outlinewidth": 0,
              "ticks": ""
             }
            },
            "type": "scatterpolargl"
           }
          ],
          "scatterternary": [
           {
            "marker": {
             "colorbar": {
              "outlinewidth": 0,
              "ticks": ""
             }
            },
            "type": "scatterternary"
           }
          ],
          "surface": [
           {
            "colorbar": {
             "outlinewidth": 0,
             "ticks": ""
            },
            "colorscale": [
             [
              0,
              "#0d0887"
             ],
             [
              0.1111111111111111,
              "#46039f"
             ],
             [
              0.2222222222222222,
              "#7201a8"
             ],
             [
              0.3333333333333333,
              "#9c179e"
             ],
             [
              0.4444444444444444,
              "#bd3786"
             ],
             [
              0.5555555555555556,
              "#d8576b"
             ],
             [
              0.6666666666666666,
              "#ed7953"
             ],
             [
              0.7777777777777778,
              "#fb9f3a"
             ],
             [
              0.8888888888888888,
              "#fdca26"
             ],
             [
              1,
              "#f0f921"
             ]
            ],
            "type": "surface"
           }
          ],
          "table": [
           {
            "cells": {
             "fill": {
              "color": "#EBF0F8"
             },
             "line": {
              "color": "white"
             }
            },
            "header": {
             "fill": {
              "color": "#C8D4E3"
             },
             "line": {
              "color": "white"
             }
            },
            "type": "table"
           }
          ]
         },
         "layout": {
          "annotationdefaults": {
           "arrowcolor": "#2a3f5f",
           "arrowhead": 0,
           "arrowwidth": 1
          },
          "autotypenumbers": "strict",
          "coloraxis": {
           "colorbar": {
            "outlinewidth": 0,
            "ticks": ""
           }
          },
          "colorscale": {
           "diverging": [
            [
             0,
             "#8e0152"
            ],
            [
             0.1,
             "#c51b7d"
            ],
            [
             0.2,
             "#de77ae"
            ],
            [
             0.3,
             "#f1b6da"
            ],
            [
             0.4,
             "#fde0ef"
            ],
            [
             0.5,
             "#f7f7f7"
            ],
            [
             0.6,
             "#e6f5d0"
            ],
            [
             0.7,
             "#b8e186"
            ],
            [
             0.8,
             "#7fbc41"
            ],
            [
             0.9,
             "#4d9221"
            ],
            [
             1,
             "#276419"
            ]
           ],
           "sequential": [
            [
             0,
             "#0d0887"
            ],
            [
             0.1111111111111111,
             "#46039f"
            ],
            [
             0.2222222222222222,
             "#7201a8"
            ],
            [
             0.3333333333333333,
             "#9c179e"
            ],
            [
             0.4444444444444444,
             "#bd3786"
            ],
            [
             0.5555555555555556,
             "#d8576b"
            ],
            [
             0.6666666666666666,
             "#ed7953"
            ],
            [
             0.7777777777777778,
             "#fb9f3a"
            ],
            [
             0.8888888888888888,
             "#fdca26"
            ],
            [
             1,
             "#f0f921"
            ]
           ],
           "sequentialminus": [
            [
             0,
             "#0d0887"
            ],
            [
             0.1111111111111111,
             "#46039f"
            ],
            [
             0.2222222222222222,
             "#7201a8"
            ],
            [
             0.3333333333333333,
             "#9c179e"
            ],
            [
             0.4444444444444444,
             "#bd3786"
            ],
            [
             0.5555555555555556,
             "#d8576b"
            ],
            [
             0.6666666666666666,
             "#ed7953"
            ],
            [
             0.7777777777777778,
             "#fb9f3a"
            ],
            [
             0.8888888888888888,
             "#fdca26"
            ],
            [
             1,
             "#f0f921"
            ]
           ]
          },
          "colorway": [
           "#636efa",
           "#EF553B",
           "#00cc96",
           "#ab63fa",
           "#FFA15A",
           "#19d3f3",
           "#FF6692",
           "#B6E880",
           "#FF97FF",
           "#FECB52"
          ],
          "font": {
           "color": "#2a3f5f"
          },
          "geo": {
           "bgcolor": "white",
           "lakecolor": "white",
           "landcolor": "#E5ECF6",
           "showlakes": true,
           "showland": true,
           "subunitcolor": "white"
          },
          "hoverlabel": {
           "align": "left"
          },
          "hovermode": "closest",
          "mapbox": {
           "style": "light"
          },
          "paper_bgcolor": "white",
          "plot_bgcolor": "#E5ECF6",
          "polar": {
           "angularaxis": {
            "gridcolor": "white",
            "linecolor": "white",
            "ticks": ""
           },
           "bgcolor": "#E5ECF6",
           "radialaxis": {
            "gridcolor": "white",
            "linecolor": "white",
            "ticks": ""
           }
          },
          "scene": {
           "xaxis": {
            "backgroundcolor": "#E5ECF6",
            "gridcolor": "white",
            "gridwidth": 2,
            "linecolor": "white",
            "showbackground": true,
            "ticks": "",
            "zerolinecolor": "white"
           },
           "yaxis": {
            "backgroundcolor": "#E5ECF6",
            "gridcolor": "white",
            "gridwidth": 2,
            "linecolor": "white",
            "showbackground": true,
            "ticks": "",
            "zerolinecolor": "white"
           },
           "zaxis": {
            "backgroundcolor": "#E5ECF6",
            "gridcolor": "white",
            "gridwidth": 2,
            "linecolor": "white",
            "showbackground": true,
            "ticks": "",
            "zerolinecolor": "white"
           }
          },
          "shapedefaults": {
           "line": {
            "color": "#2a3f5f"
           }
          },
          "ternary": {
           "aaxis": {
            "gridcolor": "white",
            "linecolor": "white",
            "ticks": ""
           },
           "baxis": {
            "gridcolor": "white",
            "linecolor": "white",
            "ticks": ""
           },
           "bgcolor": "#E5ECF6",
           "caxis": {
            "gridcolor": "white",
            "linecolor": "white",
            "ticks": ""
           }
          },
          "title": {
           "x": 0.05
          },
          "xaxis": {
           "automargin": true,
           "gridcolor": "white",
           "linecolor": "white",
           "ticks": "",
           "title": {
            "standoff": 15
           },
           "zerolinecolor": "white",
           "zerolinewidth": 2
          },
          "yaxis": {
           "automargin": true,
           "gridcolor": "white",
           "linecolor": "white",
           "ticks": "",
           "title": {
            "standoff": 15
           },
           "zerolinecolor": "white",
           "zerolinewidth": 2
          }
         }
        },
        "title": {
         "font": {
          "color": "#4D5663"
         }
        },
        "xaxis": {
         "anchor": "y2",
         "gridcolor": "#E1E5ED",
         "rangeselector": {
          "bgcolor": "rgba(150, 200, 250, 1)",
          "buttons": [
           {
            "count": 1,
            "label": "1m",
            "step": "month",
            "stepmode": "backward"
           },
           {
            "count": 1,
            "label": "1y",
            "step": "year",
            "stepmode": "backward"
           }
          ],
          "font": {
           "size": 13
          },
          "visible": false,
          "x": 0,
          "y": 0.9
         },
         "rangeslider": {
          "visible": false
         },
         "showgrid": true,
         "tickfont": {
          "color": "#4D5663"
         },
         "title": {
          "font": {
           "color": "#4D5663"
          },
          "text": ""
         },
         "zerolinecolor": "#E1E5ED"
        },
        "yaxis": {
         "gridcolor": "#E1E5ED",
         "showgrid": true,
         "showticklabels": false,
         "tickfont": {
          "color": "#4D5663"
         },
         "title": {
          "font": {
           "color": "#4D5663"
          },
          "text": ""
         },
         "zerolinecolor": "#E1E5ED"
        },
        "yaxis2": {
         "domain": [
          0,
          0.9
         ],
         "gridcolor": "#E1E5ED",
         "showgrid": true,
         "tickfont": {
          "color": "#4D5663"
         },
         "title": {
          "font": {
           "color": "#4D5663"
          },
          "text": ""
         },
         "zerolinecolor": "#E1E5ED"
        }
       }
      },
      "text/html": [
       "<div>                            <div id=\"fca6fb82-9b62-41f7-a18b-137cb7151774\" class=\"plotly-graph-div\" style=\"height:525px; width:100%;\"></div>            <script type=\"text/javascript\">                require([\"plotly\"], function(Plotly) {                    window.PLOTLYENV=window.PLOTLYENV || {};                                    if (document.getElementById(\"fca6fb82-9b62-41f7-a18b-137cb7151774\")) {                    Plotly.newPlot(                        \"fca6fb82-9b62-41f7-a18b-137cb7151774\",                        [{\"close\":[61.126,61.615,62.833,62.643,62.553,62.773,63.331,63.361,63.771,64.589,64.25,64.16,64.579,65.008,64.888,65.976,66.006,65.307,65.547,65.826,65.946,66.036,65.956,65.787,65.647,64.599,63.98,64.26,63.85,64.07,64.87,65.15,65.83,65.7,66.36,66.56,66.6,66.62,67.54,66.99,66.91,66.12,66.44,66.88,67.25,67.02,67.32,67.39,67.71,67.97,67.49,68.03,68.02,68.13,68.37,68.22,68.25,68.11,67.47,66.81],\"decreasing\":{\"line\":{\"color\":\"#808080\"}},\"high\":[61.595,61.874,62.892,63.237,63.022,63.012,63.446,63.501,63.801,64.699,65.048,64.349,64.679,65.113,65.547,66.136,66.286,66.086,65.737,65.996,66.166,66.315,66.226,66.006,66.136,65.767,64.769,64.529,64.489,64.145,65.07,65.78,65.87,65.99,66.38,66.77,66.86,66.97,67.6,67.82,67.37,66.68,66.585,66.975,67.53,67.68,67.55,68.52,67.83,68.01,67.93,68.17,68.44,68.38,68.67,68.45,68.64,68.33,67.98,67.58],\"increasing\":{\"line\":{\"color\":\"#17BECF\"}},\"low\":[60.158,60.837,61.725,62.473,62.224,62.543,62.842,62.893,63.262,63.771,64.08,63.681,63.92,64.359,64.699,65.278,65.757,65.278,65.028,65.487,65.567,65.866,65.637,65.497,65.577,64.31,63.781,63.92,63.84,63.591,64.29,65.06,65.15,65.52,65.66,66.02,66.22,66.34,66.54,66.89,66.77,65.99,66.07,66.06,67.07,66.93,66.88,67.03,67.2,67.41,67.1,67.54,67.84,67.81,68.01,68.22,68.04,67.771,66.91,66.7],\"name\":\"Trace 1\",\"open\":[60.637,60.966,61.745,62.593,62.743,62.932,62.972,62.912,63.272,63.87,64.769,63.89,64.429,64.719,65.018,65.367,66.136,65.777,65.178,65.547,65.956,66.116,66.176,65.747,65.717,65.667,64.519,64.14,64.12,63.87,64.29,65.06,65.15,65.85,65.68,66.49,66.68,66.68,66.65,67.63,67.2,66.68,66.38,66.44,67.2,67.45,67.31,67.9,67.53,67.8,67.9,67.54,68.2,68.08,68.09,68.22,68.32,68.1,67.92,67.35],\"showlegend\":true,\"x\":[3179,3180,3181,3182,3183,3184,3185,3186,3187,3188,3189,3190,3191,3192,3193,3194,3195,3196,3197,3198,3199,3200,3201,3202,3203,3204,3205,3206,3207,3208,3209,3210,3211,3212,3213,3214,3215,3216,3217,3218,3219,3220,3221,3222,3223,3224,3225,3226,3227,3228,3229,3230,3231,3232,3233,3234,3235,3236,3237,3238],\"yaxis\":\"y2\",\"type\":\"candlestick\"}],                        {\"legend\":{\"bgcolor\":\"#F5F6F9\",\"font\":{\"color\":\"#4D5663\"}},\"margin\":{\"b\":30,\"l\":30,\"r\":30,\"t\":30},\"paper_bgcolor\":\"#F5F6F9\",\"plot_bgcolor\":\"#F5F6F9\",\"showlegend\":true,\"template\":{\"data\":{\"barpolar\":[{\"marker\":{\"line\":{\"color\":\"#E5ECF6\",\"width\":0.5},\"pattern\":{\"fillmode\":\"overlay\",\"size\":10,\"solidity\":0.2}},\"type\":\"barpolar\"}],\"bar\":[{\"error_x\":{\"color\":\"#2a3f5f\"},\"error_y\":{\"color\":\"#2a3f5f\"},\"marker\":{\"line\":{\"color\":\"#E5ECF6\",\"width\":0.5},\"pattern\":{\"fillmode\":\"overlay\",\"size\":10,\"solidity\":0.2}},\"type\":\"bar\"}],\"carpet\":[{\"aaxis\":{\"endlinecolor\":\"#2a3f5f\",\"gridcolor\":\"white\",\"linecolor\":\"white\",\"minorgridcolor\":\"white\",\"startlinecolor\":\"#2a3f5f\"},\"baxis\":{\"endlinecolor\":\"#2a3f5f\",\"gridcolor\":\"white\",\"linecolor\":\"white\",\"minorgridcolor\":\"white\",\"startlinecolor\":\"#2a3f5f\"},\"type\":\"carpet\"}],\"choropleth\":[{\"colorbar\":{\"outlinewidth\":0,\"ticks\":\"\"},\"type\":\"choropleth\"}],\"contourcarpet\":[{\"colorbar\":{\"outlinewidth\":0,\"ticks\":\"\"},\"type\":\"contourcarpet\"}],\"contour\":[{\"colorbar\":{\"outlinewidth\":0,\"ticks\":\"\"},\"colorscale\":[[0.0,\"#0d0887\"],[0.1111111111111111,\"#46039f\"],[0.2222222222222222,\"#7201a8\"],[0.3333333333333333,\"#9c179e\"],[0.4444444444444444,\"#bd3786\"],[0.5555555555555556,\"#d8576b\"],[0.6666666666666666,\"#ed7953\"],[0.7777777777777778,\"#fb9f3a\"],[0.8888888888888888,\"#fdca26\"],[1.0,\"#f0f921\"]],\"type\":\"contour\"}],\"heatmapgl\":[{\"colorbar\":{\"outlinewidth\":0,\"ticks\":\"\"},\"colorscale\":[[0.0,\"#0d0887\"],[0.1111111111111111,\"#46039f\"],[0.2222222222222222,\"#7201a8\"],[0.3333333333333333,\"#9c179e\"],[0.4444444444444444,\"#bd3786\"],[0.5555555555555556,\"#d8576b\"],[0.6666666666666666,\"#ed7953\"],[0.7777777777777778,\"#fb9f3a\"],[0.8888888888888888,\"#fdca26\"],[1.0,\"#f0f921\"]],\"type\":\"heatmapgl\"}],\"heatmap\":[{\"colorbar\":{\"outlinewidth\":0,\"ticks\":\"\"},\"colorscale\":[[0.0,\"#0d0887\"],[0.1111111111111111,\"#46039f\"],[0.2222222222222222,\"#7201a8\"],[0.3333333333333333,\"#9c179e\"],[0.4444444444444444,\"#bd3786\"],[0.5555555555555556,\"#d8576b\"],[0.6666666666666666,\"#ed7953\"],[0.7777777777777778,\"#fb9f3a\"],[0.8888888888888888,\"#fdca26\"],[1.0,\"#f0f921\"]],\"type\":\"heatmap\"}],\"histogram2dcontour\":[{\"colorbar\":{\"outlinewidth\":0,\"ticks\":\"\"},\"colorscale\":[[0.0,\"#0d0887\"],[0.1111111111111111,\"#46039f\"],[0.2222222222222222,\"#7201a8\"],[0.3333333333333333,\"#9c179e\"],[0.4444444444444444,\"#bd3786\"],[0.5555555555555556,\"#d8576b\"],[0.6666666666666666,\"#ed7953\"],[0.7777777777777778,\"#fb9f3a\"],[0.8888888888888888,\"#fdca26\"],[1.0,\"#f0f921\"]],\"type\":\"histogram2dcontour\"}],\"histogram2d\":[{\"colorbar\":{\"outlinewidth\":0,\"ticks\":\"\"},\"colorscale\":[[0.0,\"#0d0887\"],[0.1111111111111111,\"#46039f\"],[0.2222222222222222,\"#7201a8\"],[0.3333333333333333,\"#9c179e\"],[0.4444444444444444,\"#bd3786\"],[0.5555555555555556,\"#d8576b\"],[0.6666666666666666,\"#ed7953\"],[0.7777777777777778,\"#fb9f3a\"],[0.8888888888888888,\"#fdca26\"],[1.0,\"#f0f921\"]],\"type\":\"histogram2d\"}],\"histogram\":[{\"marker\":{\"pattern\":{\"fillmode\":\"overlay\",\"size\":10,\"solidity\":0.2}},\"type\":\"histogram\"}],\"mesh3d\":[{\"colorbar\":{\"outlinewidth\":0,\"ticks\":\"\"},\"type\":\"mesh3d\"}],\"parcoords\":[{\"line\":{\"colorbar\":{\"outlinewidth\":0,\"ticks\":\"\"}},\"type\":\"parcoords\"}],\"pie\":[{\"automargin\":true,\"type\":\"pie\"}],\"scatter3d\":[{\"line\":{\"colorbar\":{\"outlinewidth\":0,\"ticks\":\"\"}},\"marker\":{\"colorbar\":{\"outlinewidth\":0,\"ticks\":\"\"}},\"type\":\"scatter3d\"}],\"scattercarpet\":[{\"marker\":{\"colorbar\":{\"outlinewidth\":0,\"ticks\":\"\"}},\"type\":\"scattercarpet\"}],\"scattergeo\":[{\"marker\":{\"colorbar\":{\"outlinewidth\":0,\"ticks\":\"\"}},\"type\":\"scattergeo\"}],\"scattergl\":[{\"marker\":{\"colorbar\":{\"outlinewidth\":0,\"ticks\":\"\"}},\"type\":\"scattergl\"}],\"scattermapbox\":[{\"marker\":{\"colorbar\":{\"outlinewidth\":0,\"ticks\":\"\"}},\"type\":\"scattermapbox\"}],\"scatterpolargl\":[{\"marker\":{\"colorbar\":{\"outlinewidth\":0,\"ticks\":\"\"}},\"type\":\"scatterpolargl\"}],\"scatterpolar\":[{\"marker\":{\"colorbar\":{\"outlinewidth\":0,\"ticks\":\"\"}},\"type\":\"scatterpolar\"}],\"scatter\":[{\"marker\":{\"colorbar\":{\"outlinewidth\":0,\"ticks\":\"\"}},\"type\":\"scatter\"}],\"scatterternary\":[{\"marker\":{\"colorbar\":{\"outlinewidth\":0,\"ticks\":\"\"}},\"type\":\"scatterternary\"}],\"surface\":[{\"colorbar\":{\"outlinewidth\":0,\"ticks\":\"\"},\"colorscale\":[[0.0,\"#0d0887\"],[0.1111111111111111,\"#46039f\"],[0.2222222222222222,\"#7201a8\"],[0.3333333333333333,\"#9c179e\"],[0.4444444444444444,\"#bd3786\"],[0.5555555555555556,\"#d8576b\"],[0.6666666666666666,\"#ed7953\"],[0.7777777777777778,\"#fb9f3a\"],[0.8888888888888888,\"#fdca26\"],[1.0,\"#f0f921\"]],\"type\":\"surface\"}],\"table\":[{\"cells\":{\"fill\":{\"color\":\"#EBF0F8\"},\"line\":{\"color\":\"white\"}},\"header\":{\"fill\":{\"color\":\"#C8D4E3\"},\"line\":{\"color\":\"white\"}},\"type\":\"table\"}]},\"layout\":{\"annotationdefaults\":{\"arrowcolor\":\"#2a3f5f\",\"arrowhead\":0,\"arrowwidth\":1},\"autotypenumbers\":\"strict\",\"coloraxis\":{\"colorbar\":{\"outlinewidth\":0,\"ticks\":\"\"}},\"colorscale\":{\"diverging\":[[0,\"#8e0152\"],[0.1,\"#c51b7d\"],[0.2,\"#de77ae\"],[0.3,\"#f1b6da\"],[0.4,\"#fde0ef\"],[0.5,\"#f7f7f7\"],[0.6,\"#e6f5d0\"],[0.7,\"#b8e186\"],[0.8,\"#7fbc41\"],[0.9,\"#4d9221\"],[1,\"#276419\"]],\"sequential\":[[0.0,\"#0d0887\"],[0.1111111111111111,\"#46039f\"],[0.2222222222222222,\"#7201a8\"],[0.3333333333333333,\"#9c179e\"],[0.4444444444444444,\"#bd3786\"],[0.5555555555555556,\"#d8576b\"],[0.6666666666666666,\"#ed7953\"],[0.7777777777777778,\"#fb9f3a\"],[0.8888888888888888,\"#fdca26\"],[1.0,\"#f0f921\"]],\"sequentialminus\":[[0.0,\"#0d0887\"],[0.1111111111111111,\"#46039f\"],[0.2222222222222222,\"#7201a8\"],[0.3333333333333333,\"#9c179e\"],[0.4444444444444444,\"#bd3786\"],[0.5555555555555556,\"#d8576b\"],[0.6666666666666666,\"#ed7953\"],[0.7777777777777778,\"#fb9f3a\"],[0.8888888888888888,\"#fdca26\"],[1.0,\"#f0f921\"]]},\"colorway\":[\"#636efa\",\"#EF553B\",\"#00cc96\",\"#ab63fa\",\"#FFA15A\",\"#19d3f3\",\"#FF6692\",\"#B6E880\",\"#FF97FF\",\"#FECB52\"],\"font\":{\"color\":\"#2a3f5f\"},\"geo\":{\"bgcolor\":\"white\",\"lakecolor\":\"white\",\"landcolor\":\"#E5ECF6\",\"showlakes\":true,\"showland\":true,\"subunitcolor\":\"white\"},\"hoverlabel\":{\"align\":\"left\"},\"hovermode\":\"closest\",\"mapbox\":{\"style\":\"light\"},\"paper_bgcolor\":\"white\",\"plot_bgcolor\":\"#E5ECF6\",\"polar\":{\"angularaxis\":{\"gridcolor\":\"white\",\"linecolor\":\"white\",\"ticks\":\"\"},\"bgcolor\":\"#E5ECF6\",\"radialaxis\":{\"gridcolor\":\"white\",\"linecolor\":\"white\",\"ticks\":\"\"}},\"scene\":{\"xaxis\":{\"backgroundcolor\":\"#E5ECF6\",\"gridcolor\":\"white\",\"gridwidth\":2,\"linecolor\":\"white\",\"showbackground\":true,\"ticks\":\"\",\"zerolinecolor\":\"white\"},\"yaxis\":{\"backgroundcolor\":\"#E5ECF6\",\"gridcolor\":\"white\",\"gridwidth\":2,\"linecolor\":\"white\",\"showbackground\":true,\"ticks\":\"\",\"zerolinecolor\":\"white\"},\"zaxis\":{\"backgroundcolor\":\"#E5ECF6\",\"gridcolor\":\"white\",\"gridwidth\":2,\"linecolor\":\"white\",\"showbackground\":true,\"ticks\":\"\",\"zerolinecolor\":\"white\"}},\"shapedefaults\":{\"line\":{\"color\":\"#2a3f5f\"}},\"ternary\":{\"aaxis\":{\"gridcolor\":\"white\",\"linecolor\":\"white\",\"ticks\":\"\"},\"baxis\":{\"gridcolor\":\"white\",\"linecolor\":\"white\",\"ticks\":\"\"},\"bgcolor\":\"#E5ECF6\",\"caxis\":{\"gridcolor\":\"white\",\"linecolor\":\"white\",\"ticks\":\"\"}},\"title\":{\"x\":0.05},\"xaxis\":{\"automargin\":true,\"gridcolor\":\"white\",\"linecolor\":\"white\",\"ticks\":\"\",\"title\":{\"standoff\":15},\"zerolinecolor\":\"white\",\"zerolinewidth\":2},\"yaxis\":{\"automargin\":true,\"gridcolor\":\"white\",\"linecolor\":\"white\",\"ticks\":\"\",\"title\":{\"standoff\":15},\"zerolinecolor\":\"white\",\"zerolinewidth\":2}}},\"title\":{\"font\":{\"color\":\"#4D5663\"}},\"xaxis\":{\"anchor\":\"y2\",\"gridcolor\":\"#E1E5ED\",\"rangeselector\":{\"bgcolor\":\"rgba(150, 200, 250, 1)\",\"buttons\":[{\"count\":1,\"label\":\"1m\",\"step\":\"month\",\"stepmode\":\"backward\"},{\"count\":1,\"label\":\"1y\",\"step\":\"year\",\"stepmode\":\"backward\"}],\"font\":{\"size\":13},\"visible\":false,\"x\":0,\"y\":0.9},\"rangeslider\":{\"visible\":false},\"showgrid\":true,\"tickfont\":{\"color\":\"#4D5663\"},\"title\":{\"font\":{\"color\":\"#4D5663\"},\"text\":\"\"},\"zerolinecolor\":\"#E1E5ED\"},\"yaxis\":{\"gridcolor\":\"#E1E5ED\",\"showgrid\":true,\"showticklabels\":false,\"tickfont\":{\"color\":\"#4D5663\"},\"title\":{\"font\":{\"color\":\"#4D5663\"},\"text\":\"\"},\"zerolinecolor\":\"#E1E5ED\"},\"yaxis2\":{\"domain\":[0.0,0.9],\"gridcolor\":\"#E1E5ED\",\"showgrid\":true,\"tickfont\":{\"color\":\"#4D5663\"},\"title\":{\"font\":{\"color\":\"#4D5663\"},\"text\":\"\"},\"zerolinecolor\":\"#E1E5ED\"}},                        {\"responsive\": true}                    ).then(function(){\n",
       "                            \n",
       "var gd = document.getElementById('fca6fb82-9b62-41f7-a18b-137cb7151774');\n",
       "var x = new MutationObserver(function (mutations, observer) {{\n",
       "        var display = window.getComputedStyle(gd).display;\n",
       "        if (!display || display === 'none') {{\n",
       "            console.log([gd, 'removed!']);\n",
       "            Plotly.purge(gd);\n",
       "            observer.disconnect();\n",
       "        }}\n",
       "}});\n",
       "\n",
       "// Listen for the removal of the full notebook cells\n",
       "var notebookContainer = gd.closest('#notebook-container');\n",
       "if (notebookContainer) {{\n",
       "    x.observe(notebookContainer, {childList: true});\n",
       "}}\n",
       "\n",
       "// Listen for the clearing of the current output cell\n",
       "var outputEl = gd.closest('.output');\n",
       "if (outputEl) {{\n",
       "    x.observe(outputEl, {childList: true});\n",
       "}}\n",
       "\n",
       "                        }).then(function(){\n",
       "                            function downloadimage(format, height, width, filename) {var p = document.getElementById('fca6fb82-9b62-41f7-a18b-137cb7151774');Plotly.downloadImage(p, {format: format, height: height, width: width, filename: filename});};if(document.readyState == 'complete') {downloadimage('png', 600, 800, 'qf_01');}\n",
       "                        })                };                });            </script>        </div>"
      ]
     },
     "metadata": {},
     "output_type": "display_data"
    }
   ],
   "source": [
    "qf=cf.QuantFig(tickers.get_group('a')[-60:])\n",
    "plyo.iplot(qf.iplot(asFigure=True),image='png',\n",
    "          filename='qf_01')"
   ]
  },
  {
   "cell_type": "code",
   "execution_count": 11,
   "metadata": {},
   "outputs": [
    {
     "data": {
      "application/vnd.plotly.v1+json": {
       "config": {
        "linkText": "Export to plot.ly",
        "plotlyServerURL": "https://plot.ly",
        "showLink": false
       },
       "data": [
        {
         "legendgroup": "BOLL(close,15)",
         "line": {
          "color": "rgba(55, 128, 191, 1.0)",
          "dash": "solid",
          "shape": "linear",
          "width": 1.3
         },
         "mode": "lines",
         "name": "BOLL(close,15)",
         "showlegend": true,
         "text": "",
         "type": "scatter",
         "x": [
          3179,
          3180,
          3181,
          3182,
          3183,
          3184,
          3185,
          3186,
          3187,
          3188,
          3189,
          3190,
          3191,
          3192,
          3193,
          3194,
          3195,
          3196,
          3197,
          3198,
          3199,
          3200,
          3201,
          3202,
          3203,
          3204,
          3205,
          3206,
          3207,
          3208,
          3209,
          3210,
          3211,
          3212,
          3213,
          3214,
          3215,
          3216,
          3217,
          3218,
          3219,
          3220,
          3221,
          3222,
          3223,
          3224,
          3225,
          3226,
          3227,
          3228,
          3229,
          3230,
          3231,
          3232,
          3233,
          3234,
          3235,
          3236,
          3237,
          3238
         ],
         "y": [
          "",
          "",
          "",
          "",
          "",
          "",
          "",
          "",
          "",
          "",
          "",
          "",
          "",
          "",
          63.432,
          63.75533333333333,
          64.04806666666667,
          64.21300000000001,
          64.4066,
          64.6248,
          64.83633333333333,
          65.01666666666667,
          65.18966666666667,
          65.32406666666667,
          65.3946,
          65.41786666666667,
          65.40586666666667,
          65.3846,
          65.3074,
          65.25286666666666,
          65.17913333333334,
          65.12206666666667,
          65.15693333333334,
          65.16713333333333,
          65.20273333333334,
          65.24366666666667,
          65.28126666666667,
          65.32553333333333,
          65.4424,
          65.53193333333334,
          65.686,
          65.82866666666668,
          65.974,
          66.176,
          66.38799999999999,
          66.53133333333334,
          66.676,
          66.78,
          66.914,
          67.02133333333333,
          67.08333333333333,
          67.17866666666667,
          67.272,
          67.31133333333334,
          67.40333333333334,
          67.49066666666666,
          67.63266666666667,
          67.744,
          67.78333333333333,
          67.754
         ],
         "yaxis": "y2"
        },
        {
         "legendgroup": "BOLL(close,15)",
         "line": {
          "color": "rgba(55, 128, 191, 0.8999999999999999)",
          "dash": "solid",
          "shape": "linear",
          "width": 1.3
         },
         "mode": "lines",
         "name": "UPPER(close,15)",
         "showlegend": false,
         "text": "",
         "type": "scatter",
         "x": [
          3179,
          3180,
          3181,
          3182,
          3183,
          3184,
          3185,
          3186,
          3187,
          3188,
          3189,
          3190,
          3191,
          3192,
          3193,
          3194,
          3195,
          3196,
          3197,
          3198,
          3199,
          3200,
          3201,
          3202,
          3203,
          3204,
          3205,
          3206,
          3207,
          3208,
          3209,
          3210,
          3211,
          3212,
          3213,
          3214,
          3215,
          3216,
          3217,
          3218,
          3219,
          3220,
          3221,
          3222,
          3223,
          3224,
          3225,
          3226,
          3227,
          3228,
          3229,
          3230,
          3231,
          3232,
          3233,
          3234,
          3235,
          3236,
          3237,
          3238
         ],
         "y": [
          "",
          "",
          "",
          "",
          "",
          "",
          "",
          "",
          "",
          "",
          "",
          "",
          "",
          "",
          65.7860002427479,
          66.0840818220735,
          66.32715325897469,
          66.47323424828998,
          66.58655724728723,
          66.66002146215101,
          66.69894696042017,
          66.7755643192835,
          66.7499050489416,
          66.69659768982201,
          66.71290883006547,
          66.65970099347446,
          66.70208156654505,
          66.74769769066116,
          66.87737685151271,
          66.93788889910444,
          66.8248781263707,
          66.70302089328639,
          66.77792870067788,
          66.80052592312337,
          66.91885145558597,
          67.06201044473455,
          67.19086280447274,
          67.33056270492678,
          67.74497890201401,
          67.96911583622084,
          68.16229677427519,
          68.12367823422751,
          68.11415753759256,
          68.00656275500185,
          67.87820037003654,
          67.79164773099461,
          67.73960035459079,
          67.7929447876647,
          67.84295640371329,
          68.04334442264039,
          68.09821310571076,
          68.26509901066935,
          68.39274465041261,
          68.51102059416819,
          68.7047538027033,
          68.82559238245258,
          68.78313158304152,
          68.70791463759574,
          68.63812375599058,
          68.7112818662382
         ],
         "yaxis": "y2"
        },
        {
         "fill": "tonexty",
         "fillcolor": "rgba(55, 128, 191, 0.1)",
         "legendgroup": "BOLL(close,15)",
         "line": {
          "color": "rgba(55, 128, 191, 0.7999999999999998)",
          "dash": "solid",
          "shape": "linear",
          "width": 1.3
         },
         "mode": "lines",
         "name": "LOWER(close,15)",
         "showlegend": false,
         "text": "",
         "type": "scatter",
         "x": [
          3179,
          3180,
          3181,
          3182,
          3183,
          3184,
          3185,
          3186,
          3187,
          3188,
          3189,
          3190,
          3191,
          3192,
          3193,
          3194,
          3195,
          3196,
          3197,
          3198,
          3199,
          3200,
          3201,
          3202,
          3203,
          3204,
          3205,
          3206,
          3207,
          3208,
          3209,
          3210,
          3211,
          3212,
          3213,
          3214,
          3215,
          3216,
          3217,
          3218,
          3219,
          3220,
          3221,
          3222,
          3223,
          3224,
          3225,
          3226,
          3227,
          3228,
          3229,
          3230,
          3231,
          3232,
          3233,
          3234,
          3235,
          3236,
          3237,
          3238
         ],
         "y": [
          "",
          "",
          "",
          "",
          "",
          "",
          "",
          "",
          "",
          "",
          "",
          "",
          "",
          "",
          61.0779997572521,
          61.42658484459317,
          61.768980074358645,
          61.952765751710025,
          62.22664275271276,
          62.58957853784898,
          62.97371970624648,
          63.25776901404982,
          63.62942828439174,
          63.95153564351132,
          64.07629116993452,
          64.17603233985888,
          64.10965176678829,
          64.02150230933886,
          63.73742314848729,
          63.56784443422889,
          63.533388540295974,
          63.54111244004695,
          63.5359379659888,
          63.533740743543284,
          63.48661521108072,
          63.42532288859879,
          63.3716705288606,
          63.320503961739874,
          63.139821097986,
          63.09475083044585,
          63.209703225724816,
          63.533655099105836,
          63.833842462407446,
          64.34543724499815,
          64.89779962996344,
          65.27101893567206,
          65.61239964540921,
          65.76705521233531,
          65.98504359628672,
          65.99932224402627,
          66.0684535609559,
          66.092234322664,
          66.1512553495874,
          66.11164607249849,
          66.10191286396338,
          66.15574095088073,
          66.48220175029181,
          66.78008536240426,
          66.92854291067609,
          66.79671813376181
         ],
         "yaxis": "y2"
        },
        {
         "close": [
          61.126,
          61.615,
          62.833,
          62.643,
          62.553,
          62.773,
          63.331,
          63.361,
          63.771,
          64.589,
          64.25,
          64.16,
          64.579,
          65.008,
          64.888,
          65.976,
          66.006,
          65.307,
          65.547,
          65.826,
          65.946,
          66.036,
          65.956,
          65.787,
          65.647,
          64.599,
          63.98,
          64.26,
          63.85,
          64.07,
          64.87,
          65.15,
          65.83,
          65.7,
          66.36,
          66.56,
          66.6,
          66.62,
          67.54,
          66.99,
          66.91,
          66.12,
          66.44,
          66.88,
          67.25,
          67.02,
          67.32,
          67.39,
          67.71,
          67.97,
          67.49,
          68.03,
          68.02,
          68.13,
          68.37,
          68.22,
          68.25,
          68.11,
          67.47,
          66.81
         ],
         "decreasing": {
          "line": {
           "color": "#808080"
          }
         },
         "high": [
          61.595,
          61.874,
          62.892,
          63.237,
          63.022,
          63.012,
          63.446,
          63.501,
          63.801,
          64.699,
          65.048,
          64.349,
          64.679,
          65.113,
          65.547,
          66.136,
          66.286,
          66.086,
          65.737,
          65.996,
          66.166,
          66.315,
          66.226,
          66.006,
          66.136,
          65.767,
          64.769,
          64.529,
          64.489,
          64.145,
          65.07,
          65.78,
          65.87,
          65.99,
          66.38,
          66.77,
          66.86,
          66.97,
          67.6,
          67.82,
          67.37,
          66.68,
          66.585,
          66.975,
          67.53,
          67.68,
          67.55,
          68.52,
          67.83,
          68.01,
          67.93,
          68.17,
          68.44,
          68.38,
          68.67,
          68.45,
          68.64,
          68.33,
          67.98,
          67.58
         ],
         "increasing": {
          "line": {
           "color": "#17BECF"
          }
         },
         "low": [
          60.158,
          60.837,
          61.725,
          62.473,
          62.224,
          62.543,
          62.842,
          62.893,
          63.262,
          63.771,
          64.08,
          63.681,
          63.92,
          64.359,
          64.699,
          65.278,
          65.757,
          65.278,
          65.028,
          65.487,
          65.567,
          65.866,
          65.637,
          65.497,
          65.577,
          64.31,
          63.781,
          63.92,
          63.84,
          63.591,
          64.29,
          65.06,
          65.15,
          65.52,
          65.66,
          66.02,
          66.22,
          66.34,
          66.54,
          66.89,
          66.77,
          65.99,
          66.07,
          66.06,
          67.07,
          66.93,
          66.88,
          67.03,
          67.2,
          67.41,
          67.1,
          67.54,
          67.84,
          67.81,
          68.01,
          68.22,
          68.04,
          67.771,
          66.91,
          66.7
         ],
         "name": "Trace 1",
         "open": [
          60.637,
          60.966,
          61.745,
          62.593,
          62.743,
          62.932,
          62.972,
          62.912,
          63.272,
          63.87,
          64.769,
          63.89,
          64.429,
          64.719,
          65.018,
          65.367,
          66.136,
          65.777,
          65.178,
          65.547,
          65.956,
          66.116,
          66.176,
          65.747,
          65.717,
          65.667,
          64.519,
          64.14,
          64.12,
          63.87,
          64.29,
          65.06,
          65.15,
          65.85,
          65.68,
          66.49,
          66.68,
          66.68,
          66.65,
          67.63,
          67.2,
          66.68,
          66.38,
          66.44,
          67.2,
          67.45,
          67.31,
          67.9,
          67.53,
          67.8,
          67.9,
          67.54,
          68.2,
          68.08,
          68.09,
          68.22,
          68.32,
          68.1,
          67.92,
          67.35
         ],
         "showlegend": true,
         "type": "candlestick",
         "x": [
          3179,
          3180,
          3181,
          3182,
          3183,
          3184,
          3185,
          3186,
          3187,
          3188,
          3189,
          3190,
          3191,
          3192,
          3193,
          3194,
          3195,
          3196,
          3197,
          3198,
          3199,
          3200,
          3201,
          3202,
          3203,
          3204,
          3205,
          3206,
          3207,
          3208,
          3209,
          3210,
          3211,
          3212,
          3213,
          3214,
          3215,
          3216,
          3217,
          3218,
          3219,
          3220,
          3221,
          3222,
          3223,
          3224,
          3225,
          3226,
          3227,
          3228,
          3229,
          3230,
          3231,
          3232,
          3233,
          3234,
          3235,
          3236,
          3237,
          3238
         ],
         "yaxis": "y2"
        }
       ],
       "layout": {
        "legend": {
         "bgcolor": "#F5F6F9",
         "font": {
          "color": "#4D5663"
         }
        },
        "margin": {
         "b": 30,
         "l": 30,
         "r": 30,
         "t": 30
        },
        "paper_bgcolor": "#F5F6F9",
        "plot_bgcolor": "#F5F6F9",
        "showlegend": true,
        "template": {
         "data": {
          "bar": [
           {
            "error_x": {
             "color": "#2a3f5f"
            },
            "error_y": {
             "color": "#2a3f5f"
            },
            "marker": {
             "line": {
              "color": "#E5ECF6",
              "width": 0.5
             },
             "pattern": {
              "fillmode": "overlay",
              "size": 10,
              "solidity": 0.2
             }
            },
            "type": "bar"
           }
          ],
          "barpolar": [
           {
            "marker": {
             "line": {
              "color": "#E5ECF6",
              "width": 0.5
             },
             "pattern": {
              "fillmode": "overlay",
              "size": 10,
              "solidity": 0.2
             }
            },
            "type": "barpolar"
           }
          ],
          "carpet": [
           {
            "aaxis": {
             "endlinecolor": "#2a3f5f",
             "gridcolor": "white",
             "linecolor": "white",
             "minorgridcolor": "white",
             "startlinecolor": "#2a3f5f"
            },
            "baxis": {
             "endlinecolor": "#2a3f5f",
             "gridcolor": "white",
             "linecolor": "white",
             "minorgridcolor": "white",
             "startlinecolor": "#2a3f5f"
            },
            "type": "carpet"
           }
          ],
          "choropleth": [
           {
            "colorbar": {
             "outlinewidth": 0,
             "ticks": ""
            },
            "type": "choropleth"
           }
          ],
          "contour": [
           {
            "colorbar": {
             "outlinewidth": 0,
             "ticks": ""
            },
            "colorscale": [
             [
              0,
              "#0d0887"
             ],
             [
              0.1111111111111111,
              "#46039f"
             ],
             [
              0.2222222222222222,
              "#7201a8"
             ],
             [
              0.3333333333333333,
              "#9c179e"
             ],
             [
              0.4444444444444444,
              "#bd3786"
             ],
             [
              0.5555555555555556,
              "#d8576b"
             ],
             [
              0.6666666666666666,
              "#ed7953"
             ],
             [
              0.7777777777777778,
              "#fb9f3a"
             ],
             [
              0.8888888888888888,
              "#fdca26"
             ],
             [
              1,
              "#f0f921"
             ]
            ],
            "type": "contour"
           }
          ],
          "contourcarpet": [
           {
            "colorbar": {
             "outlinewidth": 0,
             "ticks": ""
            },
            "type": "contourcarpet"
           }
          ],
          "heatmap": [
           {
            "colorbar": {
             "outlinewidth": 0,
             "ticks": ""
            },
            "colorscale": [
             [
              0,
              "#0d0887"
             ],
             [
              0.1111111111111111,
              "#46039f"
             ],
             [
              0.2222222222222222,
              "#7201a8"
             ],
             [
              0.3333333333333333,
              "#9c179e"
             ],
             [
              0.4444444444444444,
              "#bd3786"
             ],
             [
              0.5555555555555556,
              "#d8576b"
             ],
             [
              0.6666666666666666,
              "#ed7953"
             ],
             [
              0.7777777777777778,
              "#fb9f3a"
             ],
             [
              0.8888888888888888,
              "#fdca26"
             ],
             [
              1,
              "#f0f921"
             ]
            ],
            "type": "heatmap"
           }
          ],
          "heatmapgl": [
           {
            "colorbar": {
             "outlinewidth": 0,
             "ticks": ""
            },
            "colorscale": [
             [
              0,
              "#0d0887"
             ],
             [
              0.1111111111111111,
              "#46039f"
             ],
             [
              0.2222222222222222,
              "#7201a8"
             ],
             [
              0.3333333333333333,
              "#9c179e"
             ],
             [
              0.4444444444444444,
              "#bd3786"
             ],
             [
              0.5555555555555556,
              "#d8576b"
             ],
             [
              0.6666666666666666,
              "#ed7953"
             ],
             [
              0.7777777777777778,
              "#fb9f3a"
             ],
             [
              0.8888888888888888,
              "#fdca26"
             ],
             [
              1,
              "#f0f921"
             ]
            ],
            "type": "heatmapgl"
           }
          ],
          "histogram": [
           {
            "marker": {
             "pattern": {
              "fillmode": "overlay",
              "size": 10,
              "solidity": 0.2
             }
            },
            "type": "histogram"
           }
          ],
          "histogram2d": [
           {
            "colorbar": {
             "outlinewidth": 0,
             "ticks": ""
            },
            "colorscale": [
             [
              0,
              "#0d0887"
             ],
             [
              0.1111111111111111,
              "#46039f"
             ],
             [
              0.2222222222222222,
              "#7201a8"
             ],
             [
              0.3333333333333333,
              "#9c179e"
             ],
             [
              0.4444444444444444,
              "#bd3786"
             ],
             [
              0.5555555555555556,
              "#d8576b"
             ],
             [
              0.6666666666666666,
              "#ed7953"
             ],
             [
              0.7777777777777778,
              "#fb9f3a"
             ],
             [
              0.8888888888888888,
              "#fdca26"
             ],
             [
              1,
              "#f0f921"
             ]
            ],
            "type": "histogram2d"
           }
          ],
          "histogram2dcontour": [
           {
            "colorbar": {
             "outlinewidth": 0,
             "ticks": ""
            },
            "colorscale": [
             [
              0,
              "#0d0887"
             ],
             [
              0.1111111111111111,
              "#46039f"
             ],
             [
              0.2222222222222222,
              "#7201a8"
             ],
             [
              0.3333333333333333,
              "#9c179e"
             ],
             [
              0.4444444444444444,
              "#bd3786"
             ],
             [
              0.5555555555555556,
              "#d8576b"
             ],
             [
              0.6666666666666666,
              "#ed7953"
             ],
             [
              0.7777777777777778,
              "#fb9f3a"
             ],
             [
              0.8888888888888888,
              "#fdca26"
             ],
             [
              1,
              "#f0f921"
             ]
            ],
            "type": "histogram2dcontour"
           }
          ],
          "mesh3d": [
           {
            "colorbar": {
             "outlinewidth": 0,
             "ticks": ""
            },
            "type": "mesh3d"
           }
          ],
          "parcoords": [
           {
            "line": {
             "colorbar": {
              "outlinewidth": 0,
              "ticks": ""
             }
            },
            "type": "parcoords"
           }
          ],
          "pie": [
           {
            "automargin": true,
            "type": "pie"
           }
          ],
          "scatter": [
           {
            "marker": {
             "colorbar": {
              "outlinewidth": 0,
              "ticks": ""
             }
            },
            "type": "scatter"
           }
          ],
          "scatter3d": [
           {
            "line": {
             "colorbar": {
              "outlinewidth": 0,
              "ticks": ""
             }
            },
            "marker": {
             "colorbar": {
              "outlinewidth": 0,
              "ticks": ""
             }
            },
            "type": "scatter3d"
           }
          ],
          "scattercarpet": [
           {
            "marker": {
             "colorbar": {
              "outlinewidth": 0,
              "ticks": ""
             }
            },
            "type": "scattercarpet"
           }
          ],
          "scattergeo": [
           {
            "marker": {
             "colorbar": {
              "outlinewidth": 0,
              "ticks": ""
             }
            },
            "type": "scattergeo"
           }
          ],
          "scattergl": [
           {
            "marker": {
             "colorbar": {
              "outlinewidth": 0,
              "ticks": ""
             }
            },
            "type": "scattergl"
           }
          ],
          "scattermapbox": [
           {
            "marker": {
             "colorbar": {
              "outlinewidth": 0,
              "ticks": ""
             }
            },
            "type": "scattermapbox"
           }
          ],
          "scatterpolar": [
           {
            "marker": {
             "colorbar": {
              "outlinewidth": 0,
              "ticks": ""
             }
            },
            "type": "scatterpolar"
           }
          ],
          "scatterpolargl": [
           {
            "marker": {
             "colorbar": {
              "outlinewidth": 0,
              "ticks": ""
             }
            },
            "type": "scatterpolargl"
           }
          ],
          "scatterternary": [
           {
            "marker": {
             "colorbar": {
              "outlinewidth": 0,
              "ticks": ""
             }
            },
            "type": "scatterternary"
           }
          ],
          "surface": [
           {
            "colorbar": {
             "outlinewidth": 0,
             "ticks": ""
            },
            "colorscale": [
             [
              0,
              "#0d0887"
             ],
             [
              0.1111111111111111,
              "#46039f"
             ],
             [
              0.2222222222222222,
              "#7201a8"
             ],
             [
              0.3333333333333333,
              "#9c179e"
             ],
             [
              0.4444444444444444,
              "#bd3786"
             ],
             [
              0.5555555555555556,
              "#d8576b"
             ],
             [
              0.6666666666666666,
              "#ed7953"
             ],
             [
              0.7777777777777778,
              "#fb9f3a"
             ],
             [
              0.8888888888888888,
              "#fdca26"
             ],
             [
              1,
              "#f0f921"
             ]
            ],
            "type": "surface"
           }
          ],
          "table": [
           {
            "cells": {
             "fill": {
              "color": "#EBF0F8"
             },
             "line": {
              "color": "white"
             }
            },
            "header": {
             "fill": {
              "color": "#C8D4E3"
             },
             "line": {
              "color": "white"
             }
            },
            "type": "table"
           }
          ]
         },
         "layout": {
          "annotationdefaults": {
           "arrowcolor": "#2a3f5f",
           "arrowhead": 0,
           "arrowwidth": 1
          },
          "autotypenumbers": "strict",
          "coloraxis": {
           "colorbar": {
            "outlinewidth": 0,
            "ticks": ""
           }
          },
          "colorscale": {
           "diverging": [
            [
             0,
             "#8e0152"
            ],
            [
             0.1,
             "#c51b7d"
            ],
            [
             0.2,
             "#de77ae"
            ],
            [
             0.3,
             "#f1b6da"
            ],
            [
             0.4,
             "#fde0ef"
            ],
            [
             0.5,
             "#f7f7f7"
            ],
            [
             0.6,
             "#e6f5d0"
            ],
            [
             0.7,
             "#b8e186"
            ],
            [
             0.8,
             "#7fbc41"
            ],
            [
             0.9,
             "#4d9221"
            ],
            [
             1,
             "#276419"
            ]
           ],
           "sequential": [
            [
             0,
             "#0d0887"
            ],
            [
             0.1111111111111111,
             "#46039f"
            ],
            [
             0.2222222222222222,
             "#7201a8"
            ],
            [
             0.3333333333333333,
             "#9c179e"
            ],
            [
             0.4444444444444444,
             "#bd3786"
            ],
            [
             0.5555555555555556,
             "#d8576b"
            ],
            [
             0.6666666666666666,
             "#ed7953"
            ],
            [
             0.7777777777777778,
             "#fb9f3a"
            ],
            [
             0.8888888888888888,
             "#fdca26"
            ],
            [
             1,
             "#f0f921"
            ]
           ],
           "sequentialminus": [
            [
             0,
             "#0d0887"
            ],
            [
             0.1111111111111111,
             "#46039f"
            ],
            [
             0.2222222222222222,
             "#7201a8"
            ],
            [
             0.3333333333333333,
             "#9c179e"
            ],
            [
             0.4444444444444444,
             "#bd3786"
            ],
            [
             0.5555555555555556,
             "#d8576b"
            ],
            [
             0.6666666666666666,
             "#ed7953"
            ],
            [
             0.7777777777777778,
             "#fb9f3a"
            ],
            [
             0.8888888888888888,
             "#fdca26"
            ],
            [
             1,
             "#f0f921"
            ]
           ]
          },
          "colorway": [
           "#636efa",
           "#EF553B",
           "#00cc96",
           "#ab63fa",
           "#FFA15A",
           "#19d3f3",
           "#FF6692",
           "#B6E880",
           "#FF97FF",
           "#FECB52"
          ],
          "font": {
           "color": "#2a3f5f"
          },
          "geo": {
           "bgcolor": "white",
           "lakecolor": "white",
           "landcolor": "#E5ECF6",
           "showlakes": true,
           "showland": true,
           "subunitcolor": "white"
          },
          "hoverlabel": {
           "align": "left"
          },
          "hovermode": "closest",
          "mapbox": {
           "style": "light"
          },
          "paper_bgcolor": "white",
          "plot_bgcolor": "#E5ECF6",
          "polar": {
           "angularaxis": {
            "gridcolor": "white",
            "linecolor": "white",
            "ticks": ""
           },
           "bgcolor": "#E5ECF6",
           "radialaxis": {
            "gridcolor": "white",
            "linecolor": "white",
            "ticks": ""
           }
          },
          "scene": {
           "xaxis": {
            "backgroundcolor": "#E5ECF6",
            "gridcolor": "white",
            "gridwidth": 2,
            "linecolor": "white",
            "showbackground": true,
            "ticks": "",
            "zerolinecolor": "white"
           },
           "yaxis": {
            "backgroundcolor": "#E5ECF6",
            "gridcolor": "white",
            "gridwidth": 2,
            "linecolor": "white",
            "showbackground": true,
            "ticks": "",
            "zerolinecolor": "white"
           },
           "zaxis": {
            "backgroundcolor": "#E5ECF6",
            "gridcolor": "white",
            "gridwidth": 2,
            "linecolor": "white",
            "showbackground": true,
            "ticks": "",
            "zerolinecolor": "white"
           }
          },
          "shapedefaults": {
           "line": {
            "color": "#2a3f5f"
           }
          },
          "ternary": {
           "aaxis": {
            "gridcolor": "white",
            "linecolor": "white",
            "ticks": ""
           },
           "baxis": {
            "gridcolor": "white",
            "linecolor": "white",
            "ticks": ""
           },
           "bgcolor": "#E5ECF6",
           "caxis": {
            "gridcolor": "white",
            "linecolor": "white",
            "ticks": ""
           }
          },
          "title": {
           "x": 0.05
          },
          "xaxis": {
           "automargin": true,
           "gridcolor": "white",
           "linecolor": "white",
           "ticks": "",
           "title": {
            "standoff": 15
           },
           "zerolinecolor": "white",
           "zerolinewidth": 2
          },
          "yaxis": {
           "automargin": true,
           "gridcolor": "white",
           "linecolor": "white",
           "ticks": "",
           "title": {
            "standoff": 15
           },
           "zerolinecolor": "white",
           "zerolinewidth": 2
          }
         }
        },
        "title": {
         "font": {
          "color": "#4D5663"
         }
        },
        "xaxis": {
         "anchor": "y2",
         "gridcolor": "#E1E5ED",
         "rangeselector": {
          "bgcolor": "rgba(150, 200, 250, 1)",
          "buttons": [
           {
            "count": 1,
            "label": "1m",
            "step": "month",
            "stepmode": "backward"
           },
           {
            "count": 1,
            "label": "1y",
            "step": "year",
            "stepmode": "backward"
           }
          ],
          "font": {
           "size": 13
          },
          "visible": false,
          "x": 0,
          "y": 0.9
         },
         "rangeslider": {
          "visible": false
         },
         "showgrid": true,
         "tickfont": {
          "color": "#4D5663"
         },
         "title": {
          "font": {
           "color": "#4D5663"
          },
          "text": ""
         },
         "zerolinecolor": "#E1E5ED"
        },
        "yaxis": {
         "gridcolor": "#E1E5ED",
         "showgrid": true,
         "showticklabels": false,
         "tickfont": {
          "color": "#4D5663"
         },
         "title": {
          "font": {
           "color": "#4D5663"
          },
          "text": ""
         },
         "zerolinecolor": "#E1E5ED"
        },
        "yaxis2": {
         "domain": [
          0,
          0.9
         ],
         "gridcolor": "#E1E5ED",
         "showgrid": true,
         "tickfont": {
          "color": "#4D5663"
         },
         "title": {
          "font": {
           "color": "#4D5663"
          },
          "text": ""
         },
         "zerolinecolor": "#E1E5ED"
        }
       }
      },
      "text/html": [
       "<div>                            <div id=\"c79ae1df-4d0c-407a-afa7-f50ec11c8e97\" class=\"plotly-graph-div\" style=\"height:525px; width:100%;\"></div>            <script type=\"text/javascript\">                require([\"plotly\"], function(Plotly) {                    window.PLOTLYENV=window.PLOTLYENV || {};                                    if (document.getElementById(\"c79ae1df-4d0c-407a-afa7-f50ec11c8e97\")) {                    Plotly.newPlot(                        \"c79ae1df-4d0c-407a-afa7-f50ec11c8e97\",                        [{\"legendgroup\":\"BOLL(close,15)\",\"line\":{\"color\":\"rgba(55, 128, 191, 1.0)\",\"dash\":\"solid\",\"shape\":\"linear\",\"width\":1.3},\"mode\":\"lines\",\"name\":\"BOLL(close,15)\",\"showlegend\":true,\"text\":\"\",\"x\":[3179,3180,3181,3182,3183,3184,3185,3186,3187,3188,3189,3190,3191,3192,3193,3194,3195,3196,3197,3198,3199,3200,3201,3202,3203,3204,3205,3206,3207,3208,3209,3210,3211,3212,3213,3214,3215,3216,3217,3218,3219,3220,3221,3222,3223,3224,3225,3226,3227,3228,3229,3230,3231,3232,3233,3234,3235,3236,3237,3238],\"y\":[\"\",\"\",\"\",\"\",\"\",\"\",\"\",\"\",\"\",\"\",\"\",\"\",\"\",\"\",63.432,63.75533333333333,64.04806666666667,64.21300000000001,64.4066,64.6248,64.83633333333333,65.01666666666667,65.18966666666667,65.32406666666667,65.3946,65.41786666666667,65.40586666666667,65.3846,65.3074,65.25286666666666,65.17913333333334,65.12206666666667,65.15693333333334,65.16713333333333,65.20273333333334,65.24366666666667,65.28126666666667,65.32553333333333,65.4424,65.53193333333334,65.686,65.82866666666668,65.974,66.176,66.38799999999999,66.53133333333334,66.676,66.78,66.914,67.02133333333333,67.08333333333333,67.17866666666667,67.272,67.31133333333334,67.40333333333334,67.49066666666666,67.63266666666667,67.744,67.78333333333333,67.754],\"yaxis\":\"y2\",\"type\":\"scatter\"},{\"legendgroup\":\"BOLL(close,15)\",\"line\":{\"color\":\"rgba(55, 128, 191, 0.8999999999999999)\",\"dash\":\"solid\",\"shape\":\"linear\",\"width\":1.3},\"mode\":\"lines\",\"name\":\"UPPER(close,15)\",\"showlegend\":false,\"text\":\"\",\"x\":[3179,3180,3181,3182,3183,3184,3185,3186,3187,3188,3189,3190,3191,3192,3193,3194,3195,3196,3197,3198,3199,3200,3201,3202,3203,3204,3205,3206,3207,3208,3209,3210,3211,3212,3213,3214,3215,3216,3217,3218,3219,3220,3221,3222,3223,3224,3225,3226,3227,3228,3229,3230,3231,3232,3233,3234,3235,3236,3237,3238],\"y\":[\"\",\"\",\"\",\"\",\"\",\"\",\"\",\"\",\"\",\"\",\"\",\"\",\"\",\"\",65.7860002427479,66.0840818220735,66.32715325897469,66.47323424828998,66.58655724728723,66.66002146215101,66.69894696042017,66.7755643192835,66.7499050489416,66.69659768982201,66.71290883006547,66.65970099347446,66.70208156654505,66.74769769066116,66.87737685151271,66.93788889910444,66.8248781263707,66.70302089328639,66.77792870067788,66.80052592312337,66.91885145558597,67.06201044473455,67.19086280447274,67.33056270492678,67.74497890201401,67.96911583622084,68.16229677427519,68.12367823422751,68.11415753759256,68.00656275500185,67.87820037003654,67.79164773099461,67.73960035459079,67.7929447876647,67.84295640371329,68.04334442264039,68.09821310571076,68.26509901066935,68.39274465041261,68.51102059416819,68.7047538027033,68.82559238245258,68.78313158304152,68.70791463759574,68.63812375599058,68.7112818662382],\"yaxis\":\"y2\",\"type\":\"scatter\"},{\"fill\":\"tonexty\",\"fillcolor\":\"rgba(55, 128, 191, 0.1)\",\"legendgroup\":\"BOLL(close,15)\",\"line\":{\"color\":\"rgba(55, 128, 191, 0.7999999999999998)\",\"dash\":\"solid\",\"shape\":\"linear\",\"width\":1.3},\"mode\":\"lines\",\"name\":\"LOWER(close,15)\",\"showlegend\":false,\"text\":\"\",\"x\":[3179,3180,3181,3182,3183,3184,3185,3186,3187,3188,3189,3190,3191,3192,3193,3194,3195,3196,3197,3198,3199,3200,3201,3202,3203,3204,3205,3206,3207,3208,3209,3210,3211,3212,3213,3214,3215,3216,3217,3218,3219,3220,3221,3222,3223,3224,3225,3226,3227,3228,3229,3230,3231,3232,3233,3234,3235,3236,3237,3238],\"y\":[\"\",\"\",\"\",\"\",\"\",\"\",\"\",\"\",\"\",\"\",\"\",\"\",\"\",\"\",61.0779997572521,61.42658484459317,61.768980074358645,61.952765751710025,62.22664275271276,62.58957853784898,62.97371970624648,63.25776901404982,63.62942828439174,63.95153564351132,64.07629116993452,64.17603233985888,64.10965176678829,64.02150230933886,63.73742314848729,63.56784443422889,63.533388540295974,63.54111244004695,63.5359379659888,63.533740743543284,63.48661521108072,63.42532288859879,63.3716705288606,63.320503961739874,63.139821097986,63.09475083044585,63.209703225724816,63.533655099105836,63.833842462407446,64.34543724499815,64.89779962996344,65.27101893567206,65.61239964540921,65.76705521233531,65.98504359628672,65.99932224402627,66.0684535609559,66.092234322664,66.1512553495874,66.11164607249849,66.10191286396338,66.15574095088073,66.48220175029181,66.78008536240426,66.92854291067609,66.79671813376181],\"yaxis\":\"y2\",\"type\":\"scatter\"},{\"close\":[61.126,61.615,62.833,62.643,62.553,62.773,63.331,63.361,63.771,64.589,64.25,64.16,64.579,65.008,64.888,65.976,66.006,65.307,65.547,65.826,65.946,66.036,65.956,65.787,65.647,64.599,63.98,64.26,63.85,64.07,64.87,65.15,65.83,65.7,66.36,66.56,66.6,66.62,67.54,66.99,66.91,66.12,66.44,66.88,67.25,67.02,67.32,67.39,67.71,67.97,67.49,68.03,68.02,68.13,68.37,68.22,68.25,68.11,67.47,66.81],\"decreasing\":{\"line\":{\"color\":\"#808080\"}},\"high\":[61.595,61.874,62.892,63.237,63.022,63.012,63.446,63.501,63.801,64.699,65.048,64.349,64.679,65.113,65.547,66.136,66.286,66.086,65.737,65.996,66.166,66.315,66.226,66.006,66.136,65.767,64.769,64.529,64.489,64.145,65.07,65.78,65.87,65.99,66.38,66.77,66.86,66.97,67.6,67.82,67.37,66.68,66.585,66.975,67.53,67.68,67.55,68.52,67.83,68.01,67.93,68.17,68.44,68.38,68.67,68.45,68.64,68.33,67.98,67.58],\"increasing\":{\"line\":{\"color\":\"#17BECF\"}},\"low\":[60.158,60.837,61.725,62.473,62.224,62.543,62.842,62.893,63.262,63.771,64.08,63.681,63.92,64.359,64.699,65.278,65.757,65.278,65.028,65.487,65.567,65.866,65.637,65.497,65.577,64.31,63.781,63.92,63.84,63.591,64.29,65.06,65.15,65.52,65.66,66.02,66.22,66.34,66.54,66.89,66.77,65.99,66.07,66.06,67.07,66.93,66.88,67.03,67.2,67.41,67.1,67.54,67.84,67.81,68.01,68.22,68.04,67.771,66.91,66.7],\"name\":\"Trace 1\",\"open\":[60.637,60.966,61.745,62.593,62.743,62.932,62.972,62.912,63.272,63.87,64.769,63.89,64.429,64.719,65.018,65.367,66.136,65.777,65.178,65.547,65.956,66.116,66.176,65.747,65.717,65.667,64.519,64.14,64.12,63.87,64.29,65.06,65.15,65.85,65.68,66.49,66.68,66.68,66.65,67.63,67.2,66.68,66.38,66.44,67.2,67.45,67.31,67.9,67.53,67.8,67.9,67.54,68.2,68.08,68.09,68.22,68.32,68.1,67.92,67.35],\"showlegend\":true,\"x\":[3179,3180,3181,3182,3183,3184,3185,3186,3187,3188,3189,3190,3191,3192,3193,3194,3195,3196,3197,3198,3199,3200,3201,3202,3203,3204,3205,3206,3207,3208,3209,3210,3211,3212,3213,3214,3215,3216,3217,3218,3219,3220,3221,3222,3223,3224,3225,3226,3227,3228,3229,3230,3231,3232,3233,3234,3235,3236,3237,3238],\"yaxis\":\"y2\",\"type\":\"candlestick\"}],                        {\"legend\":{\"bgcolor\":\"#F5F6F9\",\"font\":{\"color\":\"#4D5663\"}},\"margin\":{\"b\":30,\"l\":30,\"r\":30,\"t\":30},\"paper_bgcolor\":\"#F5F6F9\",\"plot_bgcolor\":\"#F5F6F9\",\"showlegend\":true,\"template\":{\"data\":{\"barpolar\":[{\"marker\":{\"line\":{\"color\":\"#E5ECF6\",\"width\":0.5},\"pattern\":{\"fillmode\":\"overlay\",\"size\":10,\"solidity\":0.2}},\"type\":\"barpolar\"}],\"bar\":[{\"error_x\":{\"color\":\"#2a3f5f\"},\"error_y\":{\"color\":\"#2a3f5f\"},\"marker\":{\"line\":{\"color\":\"#E5ECF6\",\"width\":0.5},\"pattern\":{\"fillmode\":\"overlay\",\"size\":10,\"solidity\":0.2}},\"type\":\"bar\"}],\"carpet\":[{\"aaxis\":{\"endlinecolor\":\"#2a3f5f\",\"gridcolor\":\"white\",\"linecolor\":\"white\",\"minorgridcolor\":\"white\",\"startlinecolor\":\"#2a3f5f\"},\"baxis\":{\"endlinecolor\":\"#2a3f5f\",\"gridcolor\":\"white\",\"linecolor\":\"white\",\"minorgridcolor\":\"white\",\"startlinecolor\":\"#2a3f5f\"},\"type\":\"carpet\"}],\"choropleth\":[{\"colorbar\":{\"outlinewidth\":0,\"ticks\":\"\"},\"type\":\"choropleth\"}],\"contourcarpet\":[{\"colorbar\":{\"outlinewidth\":0,\"ticks\":\"\"},\"type\":\"contourcarpet\"}],\"contour\":[{\"colorbar\":{\"outlinewidth\":0,\"ticks\":\"\"},\"colorscale\":[[0.0,\"#0d0887\"],[0.1111111111111111,\"#46039f\"],[0.2222222222222222,\"#7201a8\"],[0.3333333333333333,\"#9c179e\"],[0.4444444444444444,\"#bd3786\"],[0.5555555555555556,\"#d8576b\"],[0.6666666666666666,\"#ed7953\"],[0.7777777777777778,\"#fb9f3a\"],[0.8888888888888888,\"#fdca26\"],[1.0,\"#f0f921\"]],\"type\":\"contour\"}],\"heatmapgl\":[{\"colorbar\":{\"outlinewidth\":0,\"ticks\":\"\"},\"colorscale\":[[0.0,\"#0d0887\"],[0.1111111111111111,\"#46039f\"],[0.2222222222222222,\"#7201a8\"],[0.3333333333333333,\"#9c179e\"],[0.4444444444444444,\"#bd3786\"],[0.5555555555555556,\"#d8576b\"],[0.6666666666666666,\"#ed7953\"],[0.7777777777777778,\"#fb9f3a\"],[0.8888888888888888,\"#fdca26\"],[1.0,\"#f0f921\"]],\"type\":\"heatmapgl\"}],\"heatmap\":[{\"colorbar\":{\"outlinewidth\":0,\"ticks\":\"\"},\"colorscale\":[[0.0,\"#0d0887\"],[0.1111111111111111,\"#46039f\"],[0.2222222222222222,\"#7201a8\"],[0.3333333333333333,\"#9c179e\"],[0.4444444444444444,\"#bd3786\"],[0.5555555555555556,\"#d8576b\"],[0.6666666666666666,\"#ed7953\"],[0.7777777777777778,\"#fb9f3a\"],[0.8888888888888888,\"#fdca26\"],[1.0,\"#f0f921\"]],\"type\":\"heatmap\"}],\"histogram2dcontour\":[{\"colorbar\":{\"outlinewidth\":0,\"ticks\":\"\"},\"colorscale\":[[0.0,\"#0d0887\"],[0.1111111111111111,\"#46039f\"],[0.2222222222222222,\"#7201a8\"],[0.3333333333333333,\"#9c179e\"],[0.4444444444444444,\"#bd3786\"],[0.5555555555555556,\"#d8576b\"],[0.6666666666666666,\"#ed7953\"],[0.7777777777777778,\"#fb9f3a\"],[0.8888888888888888,\"#fdca26\"],[1.0,\"#f0f921\"]],\"type\":\"histogram2dcontour\"}],\"histogram2d\":[{\"colorbar\":{\"outlinewidth\":0,\"ticks\":\"\"},\"colorscale\":[[0.0,\"#0d0887\"],[0.1111111111111111,\"#46039f\"],[0.2222222222222222,\"#7201a8\"],[0.3333333333333333,\"#9c179e\"],[0.4444444444444444,\"#bd3786\"],[0.5555555555555556,\"#d8576b\"],[0.6666666666666666,\"#ed7953\"],[0.7777777777777778,\"#fb9f3a\"],[0.8888888888888888,\"#fdca26\"],[1.0,\"#f0f921\"]],\"type\":\"histogram2d\"}],\"histogram\":[{\"marker\":{\"pattern\":{\"fillmode\":\"overlay\",\"size\":10,\"solidity\":0.2}},\"type\":\"histogram\"}],\"mesh3d\":[{\"colorbar\":{\"outlinewidth\":0,\"ticks\":\"\"},\"type\":\"mesh3d\"}],\"parcoords\":[{\"line\":{\"colorbar\":{\"outlinewidth\":0,\"ticks\":\"\"}},\"type\":\"parcoords\"}],\"pie\":[{\"automargin\":true,\"type\":\"pie\"}],\"scatter3d\":[{\"line\":{\"colorbar\":{\"outlinewidth\":0,\"ticks\":\"\"}},\"marker\":{\"colorbar\":{\"outlinewidth\":0,\"ticks\":\"\"}},\"type\":\"scatter3d\"}],\"scattercarpet\":[{\"marker\":{\"colorbar\":{\"outlinewidth\":0,\"ticks\":\"\"}},\"type\":\"scattercarpet\"}],\"scattergeo\":[{\"marker\":{\"colorbar\":{\"outlinewidth\":0,\"ticks\":\"\"}},\"type\":\"scattergeo\"}],\"scattergl\":[{\"marker\":{\"colorbar\":{\"outlinewidth\":0,\"ticks\":\"\"}},\"type\":\"scattergl\"}],\"scattermapbox\":[{\"marker\":{\"colorbar\":{\"outlinewidth\":0,\"ticks\":\"\"}},\"type\":\"scattermapbox\"}],\"scatterpolargl\":[{\"marker\":{\"colorbar\":{\"outlinewidth\":0,\"ticks\":\"\"}},\"type\":\"scatterpolargl\"}],\"scatterpolar\":[{\"marker\":{\"colorbar\":{\"outlinewidth\":0,\"ticks\":\"\"}},\"type\":\"scatterpolar\"}],\"scatter\":[{\"marker\":{\"colorbar\":{\"outlinewidth\":0,\"ticks\":\"\"}},\"type\":\"scatter\"}],\"scatterternary\":[{\"marker\":{\"colorbar\":{\"outlinewidth\":0,\"ticks\":\"\"}},\"type\":\"scatterternary\"}],\"surface\":[{\"colorbar\":{\"outlinewidth\":0,\"ticks\":\"\"},\"colorscale\":[[0.0,\"#0d0887\"],[0.1111111111111111,\"#46039f\"],[0.2222222222222222,\"#7201a8\"],[0.3333333333333333,\"#9c179e\"],[0.4444444444444444,\"#bd3786\"],[0.5555555555555556,\"#d8576b\"],[0.6666666666666666,\"#ed7953\"],[0.7777777777777778,\"#fb9f3a\"],[0.8888888888888888,\"#fdca26\"],[1.0,\"#f0f921\"]],\"type\":\"surface\"}],\"table\":[{\"cells\":{\"fill\":{\"color\":\"#EBF0F8\"},\"line\":{\"color\":\"white\"}},\"header\":{\"fill\":{\"color\":\"#C8D4E3\"},\"line\":{\"color\":\"white\"}},\"type\":\"table\"}]},\"layout\":{\"annotationdefaults\":{\"arrowcolor\":\"#2a3f5f\",\"arrowhead\":0,\"arrowwidth\":1},\"autotypenumbers\":\"strict\",\"coloraxis\":{\"colorbar\":{\"outlinewidth\":0,\"ticks\":\"\"}},\"colorscale\":{\"diverging\":[[0,\"#8e0152\"],[0.1,\"#c51b7d\"],[0.2,\"#de77ae\"],[0.3,\"#f1b6da\"],[0.4,\"#fde0ef\"],[0.5,\"#f7f7f7\"],[0.6,\"#e6f5d0\"],[0.7,\"#b8e186\"],[0.8,\"#7fbc41\"],[0.9,\"#4d9221\"],[1,\"#276419\"]],\"sequential\":[[0.0,\"#0d0887\"],[0.1111111111111111,\"#46039f\"],[0.2222222222222222,\"#7201a8\"],[0.3333333333333333,\"#9c179e\"],[0.4444444444444444,\"#bd3786\"],[0.5555555555555556,\"#d8576b\"],[0.6666666666666666,\"#ed7953\"],[0.7777777777777778,\"#fb9f3a\"],[0.8888888888888888,\"#fdca26\"],[1.0,\"#f0f921\"]],\"sequentialminus\":[[0.0,\"#0d0887\"],[0.1111111111111111,\"#46039f\"],[0.2222222222222222,\"#7201a8\"],[0.3333333333333333,\"#9c179e\"],[0.4444444444444444,\"#bd3786\"],[0.5555555555555556,\"#d8576b\"],[0.6666666666666666,\"#ed7953\"],[0.7777777777777778,\"#fb9f3a\"],[0.8888888888888888,\"#fdca26\"],[1.0,\"#f0f921\"]]},\"colorway\":[\"#636efa\",\"#EF553B\",\"#00cc96\",\"#ab63fa\",\"#FFA15A\",\"#19d3f3\",\"#FF6692\",\"#B6E880\",\"#FF97FF\",\"#FECB52\"],\"font\":{\"color\":\"#2a3f5f\"},\"geo\":{\"bgcolor\":\"white\",\"lakecolor\":\"white\",\"landcolor\":\"#E5ECF6\",\"showlakes\":true,\"showland\":true,\"subunitcolor\":\"white\"},\"hoverlabel\":{\"align\":\"left\"},\"hovermode\":\"closest\",\"mapbox\":{\"style\":\"light\"},\"paper_bgcolor\":\"white\",\"plot_bgcolor\":\"#E5ECF6\",\"polar\":{\"angularaxis\":{\"gridcolor\":\"white\",\"linecolor\":\"white\",\"ticks\":\"\"},\"bgcolor\":\"#E5ECF6\",\"radialaxis\":{\"gridcolor\":\"white\",\"linecolor\":\"white\",\"ticks\":\"\"}},\"scene\":{\"xaxis\":{\"backgroundcolor\":\"#E5ECF6\",\"gridcolor\":\"white\",\"gridwidth\":2,\"linecolor\":\"white\",\"showbackground\":true,\"ticks\":\"\",\"zerolinecolor\":\"white\"},\"yaxis\":{\"backgroundcolor\":\"#E5ECF6\",\"gridcolor\":\"white\",\"gridwidth\":2,\"linecolor\":\"white\",\"showbackground\":true,\"ticks\":\"\",\"zerolinecolor\":\"white\"},\"zaxis\":{\"backgroundcolor\":\"#E5ECF6\",\"gridcolor\":\"white\",\"gridwidth\":2,\"linecolor\":\"white\",\"showbackground\":true,\"ticks\":\"\",\"zerolinecolor\":\"white\"}},\"shapedefaults\":{\"line\":{\"color\":\"#2a3f5f\"}},\"ternary\":{\"aaxis\":{\"gridcolor\":\"white\",\"linecolor\":\"white\",\"ticks\":\"\"},\"baxis\":{\"gridcolor\":\"white\",\"linecolor\":\"white\",\"ticks\":\"\"},\"bgcolor\":\"#E5ECF6\",\"caxis\":{\"gridcolor\":\"white\",\"linecolor\":\"white\",\"ticks\":\"\"}},\"title\":{\"x\":0.05},\"xaxis\":{\"automargin\":true,\"gridcolor\":\"white\",\"linecolor\":\"white\",\"ticks\":\"\",\"title\":{\"standoff\":15},\"zerolinecolor\":\"white\",\"zerolinewidth\":2},\"yaxis\":{\"automargin\":true,\"gridcolor\":\"white\",\"linecolor\":\"white\",\"ticks\":\"\",\"title\":{\"standoff\":15},\"zerolinecolor\":\"white\",\"zerolinewidth\":2}}},\"title\":{\"font\":{\"color\":\"#4D5663\"}},\"xaxis\":{\"anchor\":\"y2\",\"gridcolor\":\"#E1E5ED\",\"rangeselector\":{\"bgcolor\":\"rgba(150, 200, 250, 1)\",\"buttons\":[{\"count\":1,\"label\":\"1m\",\"step\":\"month\",\"stepmode\":\"backward\"},{\"count\":1,\"label\":\"1y\",\"step\":\"year\",\"stepmode\":\"backward\"}],\"font\":{\"size\":13},\"visible\":false,\"x\":0,\"y\":0.9},\"rangeslider\":{\"visible\":false},\"showgrid\":true,\"tickfont\":{\"color\":\"#4D5663\"},\"title\":{\"font\":{\"color\":\"#4D5663\"},\"text\":\"\"},\"zerolinecolor\":\"#E1E5ED\"},\"yaxis\":{\"gridcolor\":\"#E1E5ED\",\"showgrid\":true,\"showticklabels\":false,\"tickfont\":{\"color\":\"#4D5663\"},\"title\":{\"font\":{\"color\":\"#4D5663\"},\"text\":\"\"},\"zerolinecolor\":\"#E1E5ED\"},\"yaxis2\":{\"domain\":[0.0,0.9],\"gridcolor\":\"#E1E5ED\",\"showgrid\":true,\"tickfont\":{\"color\":\"#4D5663\"},\"title\":{\"font\":{\"color\":\"#4D5663\"},\"text\":\"\"},\"zerolinecolor\":\"#E1E5ED\"}},                        {\"responsive\": true}                    ).then(function(){\n",
       "                            \n",
       "var gd = document.getElementById('c79ae1df-4d0c-407a-afa7-f50ec11c8e97');\n",
       "var x = new MutationObserver(function (mutations, observer) {{\n",
       "        var display = window.getComputedStyle(gd).display;\n",
       "        if (!display || display === 'none') {{\n",
       "            console.log([gd, 'removed!']);\n",
       "            Plotly.purge(gd);\n",
       "            observer.disconnect();\n",
       "        }}\n",
       "}});\n",
       "\n",
       "// Listen for the removal of the full notebook cells\n",
       "var notebookContainer = gd.closest('#notebook-container');\n",
       "if (notebookContainer) {{\n",
       "    x.observe(notebookContainer, {childList: true});\n",
       "}}\n",
       "\n",
       "// Listen for the clearing of the current output cell\n",
       "var outputEl = gd.closest('.output');\n",
       "if (outputEl) {{\n",
       "    x.observe(outputEl, {childList: true});\n",
       "}}\n",
       "\n",
       "                        }).then(function(){\n",
       "                            function downloadimage(format, height, width, filename) {var p = document.getElementById('c79ae1df-4d0c-407a-afa7-f50ec11c8e97');Plotly.downloadImage(p, {format: format, height: height, width: width, filename: filename});};if(document.readyState == 'complete') {downloadimage('png', 600, 800, 'qf_04');}\n",
       "                        })                };                });            </script>        </div>"
      ]
     },
     "metadata": {},
     "output_type": "display_data"
    }
   ],
   "source": [
    "qf.add_bollinger_bands(periods=15,boll_std=2)\n",
    "\n",
    "plyo.iplot(qf.iplot(asFigure=True),image='png',\n",
    "          filename='qf_04')"
   ]
  },
  {
   "cell_type": "code",
   "execution_count": 12,
   "metadata": {},
   "outputs": [
    {
     "data": {
      "application/vnd.plotly.v1+json": {
       "config": {
        "linkText": "Export to plot.ly",
        "plotlyServerURL": "https://plot.ly",
        "showLink": false
       },
       "data": [
        {
         "legendgroup": " SMA([10, 20])",
         "line": {
          "color": "rgba(0, 128, 0, 1.0)",
          "dash": "solid",
          "shape": "linear",
          "width": 2
         },
         "mode": "lines",
         "name": " SMA([10, 20])",
         "showlegend": true,
         "text": "",
         "type": "scatter",
         "x": [
          3179,
          3180,
          3181,
          3182,
          3183,
          3184,
          3185,
          3186,
          3187,
          3188,
          3189,
          3190,
          3191,
          3192,
          3193,
          3194,
          3195,
          3196,
          3197,
          3198,
          3199,
          3200,
          3201,
          3202,
          3203,
          3204,
          3205,
          3206,
          3207,
          3208,
          3209,
          3210,
          3211,
          3212,
          3213,
          3214,
          3215,
          3216,
          3217,
          3218,
          3219,
          3220,
          3221,
          3222,
          3223,
          3224,
          3225,
          3226,
          3227,
          3228,
          3229,
          3230,
          3231,
          3232,
          3233,
          3234,
          3235,
          3236,
          3237,
          3238
         ],
         "y": [
          "",
          "",
          "",
          "",
          "",
          "",
          "",
          "",
          "",
          62.859500000000004,
          63.17190000000001,
          63.4264,
          63.601,
          63.8375,
          64.071,
          64.3913,
          64.6588,
          64.8534,
          65.031,
          65.15469999999999,
          65.3243,
          65.5119,
          65.6496,
          65.72749999999999,
          65.8034,
          65.66569999999999,
          65.4631,
          65.3584,
          65.1887,
          65.01310000000001,
          64.9055,
          64.8169,
          64.8043,
          64.79560000000001,
          64.8669,
          65.063,
          65.325,
          65.561,
          65.93,
          66.22200000000001,
          66.426,
          66.523,
          66.58399999999999,
          66.702,
          66.791,
          66.83699999999999,
          66.909,
          66.986,
          67.003,
          67.101,
          67.15899999999999,
          67.35,
          67.50800000000001,
          67.63300000000001,
          67.745,
          67.86500000000001,
          67.958,
          68.03,
          68.006,
          67.89
         ],
         "yaxis": "y2"
        },
        {
         "legendgroup": " SMA([10, 20])",
         "line": {
          "color": "rgba(144, 238, 144, 1.0)",
          "dash": "solid",
          "shape": "linear",
          "width": 2
         },
         "mode": "lines",
         "name": " SMA(20)",
         "showlegend": false,
         "text": "",
         "type": "scatter",
         "x": [
          3179,
          3180,
          3181,
          3182,
          3183,
          3184,
          3185,
          3186,
          3187,
          3188,
          3189,
          3190,
          3191,
          3192,
          3193,
          3194,
          3195,
          3196,
          3197,
          3198,
          3199,
          3200,
          3201,
          3202,
          3203,
          3204,
          3205,
          3206,
          3207,
          3208,
          3209,
          3210,
          3211,
          3212,
          3213,
          3214,
          3215,
          3216,
          3217,
          3218,
          3219,
          3220,
          3221,
          3222,
          3223,
          3224,
          3225,
          3226,
          3227,
          3228,
          3229,
          3230,
          3231,
          3232,
          3233,
          3234,
          3235,
          3236,
          3237,
          3238
         ],
         "y": [
          "",
          "",
          "",
          "",
          "",
          "",
          "",
          "",
          "",
          "",
          "",
          "",
          "",
          "",
          "",
          "",
          "",
          "",
          "",
          64.00710000000001,
          64.2481,
          64.46915,
          64.6253,
          64.7825,
          64.93719999999999,
          65.02850000000001,
          65.06095,
          65.1059,
          65.10985,
          65.0839,
          65.1149,
          65.1644,
          65.22695,
          65.26155,
          65.33515,
          65.36435,
          65.39405000000001,
          65.4597,
          65.55935,
          65.61755,
          65.66575,
          65.66995,
          65.69415000000001,
          65.7488,
          65.82895,
          65.95,
          66.11699999999999,
          66.2735,
          66.4665,
          66.6615,
          66.79249999999999,
          66.9365,
          67.04599999999999,
          67.16749999999999,
          67.268,
          67.351,
          67.4335,
          67.50800000000001,
          67.50450000000001,
          67.4955
         ],
         "yaxis": "y2"
        },
        {
         "close": [
          61.126,
          61.615,
          62.833,
          62.643,
          62.553,
          62.773,
          63.331,
          63.361,
          63.771,
          64.589,
          64.25,
          64.16,
          64.579,
          65.008,
          64.888,
          65.976,
          66.006,
          65.307,
          65.547,
          65.826,
          65.946,
          66.036,
          65.956,
          65.787,
          65.647,
          64.599,
          63.98,
          64.26,
          63.85,
          64.07,
          64.87,
          65.15,
          65.83,
          65.7,
          66.36,
          66.56,
          66.6,
          66.62,
          67.54,
          66.99,
          66.91,
          66.12,
          66.44,
          66.88,
          67.25,
          67.02,
          67.32,
          67.39,
          67.71,
          67.97,
          67.49,
          68.03,
          68.02,
          68.13,
          68.37,
          68.22,
          68.25,
          68.11,
          67.47,
          66.81
         ],
         "decreasing": {
          "line": {
           "color": "#808080"
          }
         },
         "high": [
          61.595,
          61.874,
          62.892,
          63.237,
          63.022,
          63.012,
          63.446,
          63.501,
          63.801,
          64.699,
          65.048,
          64.349,
          64.679,
          65.113,
          65.547,
          66.136,
          66.286,
          66.086,
          65.737,
          65.996,
          66.166,
          66.315,
          66.226,
          66.006,
          66.136,
          65.767,
          64.769,
          64.529,
          64.489,
          64.145,
          65.07,
          65.78,
          65.87,
          65.99,
          66.38,
          66.77,
          66.86,
          66.97,
          67.6,
          67.82,
          67.37,
          66.68,
          66.585,
          66.975,
          67.53,
          67.68,
          67.55,
          68.52,
          67.83,
          68.01,
          67.93,
          68.17,
          68.44,
          68.38,
          68.67,
          68.45,
          68.64,
          68.33,
          67.98,
          67.58
         ],
         "increasing": {
          "line": {
           "color": "#17BECF"
          }
         },
         "low": [
          60.158,
          60.837,
          61.725,
          62.473,
          62.224,
          62.543,
          62.842,
          62.893,
          63.262,
          63.771,
          64.08,
          63.681,
          63.92,
          64.359,
          64.699,
          65.278,
          65.757,
          65.278,
          65.028,
          65.487,
          65.567,
          65.866,
          65.637,
          65.497,
          65.577,
          64.31,
          63.781,
          63.92,
          63.84,
          63.591,
          64.29,
          65.06,
          65.15,
          65.52,
          65.66,
          66.02,
          66.22,
          66.34,
          66.54,
          66.89,
          66.77,
          65.99,
          66.07,
          66.06,
          67.07,
          66.93,
          66.88,
          67.03,
          67.2,
          67.41,
          67.1,
          67.54,
          67.84,
          67.81,
          68.01,
          68.22,
          68.04,
          67.771,
          66.91,
          66.7
         ],
         "name": "Trace 1",
         "open": [
          60.637,
          60.966,
          61.745,
          62.593,
          62.743,
          62.932,
          62.972,
          62.912,
          63.272,
          63.87,
          64.769,
          63.89,
          64.429,
          64.719,
          65.018,
          65.367,
          66.136,
          65.777,
          65.178,
          65.547,
          65.956,
          66.116,
          66.176,
          65.747,
          65.717,
          65.667,
          64.519,
          64.14,
          64.12,
          63.87,
          64.29,
          65.06,
          65.15,
          65.85,
          65.68,
          66.49,
          66.68,
          66.68,
          66.65,
          67.63,
          67.2,
          66.68,
          66.38,
          66.44,
          67.2,
          67.45,
          67.31,
          67.9,
          67.53,
          67.8,
          67.9,
          67.54,
          68.2,
          68.08,
          68.09,
          68.22,
          68.32,
          68.1,
          67.92,
          67.35
         ],
         "showlegend": true,
         "type": "candlestick",
         "x": [
          3179,
          3180,
          3181,
          3182,
          3183,
          3184,
          3185,
          3186,
          3187,
          3188,
          3189,
          3190,
          3191,
          3192,
          3193,
          3194,
          3195,
          3196,
          3197,
          3198,
          3199,
          3200,
          3201,
          3202,
          3203,
          3204,
          3205,
          3206,
          3207,
          3208,
          3209,
          3210,
          3211,
          3212,
          3213,
          3214,
          3215,
          3216,
          3217,
          3218,
          3219,
          3220,
          3221,
          3222,
          3223,
          3224,
          3225,
          3226,
          3227,
          3228,
          3229,
          3230,
          3231,
          3232,
          3233,
          3234,
          3235,
          3236,
          3237,
          3238
         ],
         "yaxis": "y2"
        }
       ],
       "layout": {
        "legend": {
         "bgcolor": "#F5F6F9",
         "font": {
          "color": "#4D5663"
         }
        },
        "margin": {
         "b": 30,
         "l": 30,
         "r": 30,
         "t": 30
        },
        "paper_bgcolor": "#F5F6F9",
        "plot_bgcolor": "#F5F6F9",
        "showlegend": true,
        "template": {
         "data": {
          "bar": [
           {
            "error_x": {
             "color": "#2a3f5f"
            },
            "error_y": {
             "color": "#2a3f5f"
            },
            "marker": {
             "line": {
              "color": "#E5ECF6",
              "width": 0.5
             },
             "pattern": {
              "fillmode": "overlay",
              "size": 10,
              "solidity": 0.2
             }
            },
            "type": "bar"
           }
          ],
          "barpolar": [
           {
            "marker": {
             "line": {
              "color": "#E5ECF6",
              "width": 0.5
             },
             "pattern": {
              "fillmode": "overlay",
              "size": 10,
              "solidity": 0.2
             }
            },
            "type": "barpolar"
           }
          ],
          "carpet": [
           {
            "aaxis": {
             "endlinecolor": "#2a3f5f",
             "gridcolor": "white",
             "linecolor": "white",
             "minorgridcolor": "white",
             "startlinecolor": "#2a3f5f"
            },
            "baxis": {
             "endlinecolor": "#2a3f5f",
             "gridcolor": "white",
             "linecolor": "white",
             "minorgridcolor": "white",
             "startlinecolor": "#2a3f5f"
            },
            "type": "carpet"
           }
          ],
          "choropleth": [
           {
            "colorbar": {
             "outlinewidth": 0,
             "ticks": ""
            },
            "type": "choropleth"
           }
          ],
          "contour": [
           {
            "colorbar": {
             "outlinewidth": 0,
             "ticks": ""
            },
            "colorscale": [
             [
              0,
              "#0d0887"
             ],
             [
              0.1111111111111111,
              "#46039f"
             ],
             [
              0.2222222222222222,
              "#7201a8"
             ],
             [
              0.3333333333333333,
              "#9c179e"
             ],
             [
              0.4444444444444444,
              "#bd3786"
             ],
             [
              0.5555555555555556,
              "#d8576b"
             ],
             [
              0.6666666666666666,
              "#ed7953"
             ],
             [
              0.7777777777777778,
              "#fb9f3a"
             ],
             [
              0.8888888888888888,
              "#fdca26"
             ],
             [
              1,
              "#f0f921"
             ]
            ],
            "type": "contour"
           }
          ],
          "contourcarpet": [
           {
            "colorbar": {
             "outlinewidth": 0,
             "ticks": ""
            },
            "type": "contourcarpet"
           }
          ],
          "heatmap": [
           {
            "colorbar": {
             "outlinewidth": 0,
             "ticks": ""
            },
            "colorscale": [
             [
              0,
              "#0d0887"
             ],
             [
              0.1111111111111111,
              "#46039f"
             ],
             [
              0.2222222222222222,
              "#7201a8"
             ],
             [
              0.3333333333333333,
              "#9c179e"
             ],
             [
              0.4444444444444444,
              "#bd3786"
             ],
             [
              0.5555555555555556,
              "#d8576b"
             ],
             [
              0.6666666666666666,
              "#ed7953"
             ],
             [
              0.7777777777777778,
              "#fb9f3a"
             ],
             [
              0.8888888888888888,
              "#fdca26"
             ],
             [
              1,
              "#f0f921"
             ]
            ],
            "type": "heatmap"
           }
          ],
          "heatmapgl": [
           {
            "colorbar": {
             "outlinewidth": 0,
             "ticks": ""
            },
            "colorscale": [
             [
              0,
              "#0d0887"
             ],
             [
              0.1111111111111111,
              "#46039f"
             ],
             [
              0.2222222222222222,
              "#7201a8"
             ],
             [
              0.3333333333333333,
              "#9c179e"
             ],
             [
              0.4444444444444444,
              "#bd3786"
             ],
             [
              0.5555555555555556,
              "#d8576b"
             ],
             [
              0.6666666666666666,
              "#ed7953"
             ],
             [
              0.7777777777777778,
              "#fb9f3a"
             ],
             [
              0.8888888888888888,
              "#fdca26"
             ],
             [
              1,
              "#f0f921"
             ]
            ],
            "type": "heatmapgl"
           }
          ],
          "histogram": [
           {
            "marker": {
             "pattern": {
              "fillmode": "overlay",
              "size": 10,
              "solidity": 0.2
             }
            },
            "type": "histogram"
           }
          ],
          "histogram2d": [
           {
            "colorbar": {
             "outlinewidth": 0,
             "ticks": ""
            },
            "colorscale": [
             [
              0,
              "#0d0887"
             ],
             [
              0.1111111111111111,
              "#46039f"
             ],
             [
              0.2222222222222222,
              "#7201a8"
             ],
             [
              0.3333333333333333,
              "#9c179e"
             ],
             [
              0.4444444444444444,
              "#bd3786"
             ],
             [
              0.5555555555555556,
              "#d8576b"
             ],
             [
              0.6666666666666666,
              "#ed7953"
             ],
             [
              0.7777777777777778,
              "#fb9f3a"
             ],
             [
              0.8888888888888888,
              "#fdca26"
             ],
             [
              1,
              "#f0f921"
             ]
            ],
            "type": "histogram2d"
           }
          ],
          "histogram2dcontour": [
           {
            "colorbar": {
             "outlinewidth": 0,
             "ticks": ""
            },
            "colorscale": [
             [
              0,
              "#0d0887"
             ],
             [
              0.1111111111111111,
              "#46039f"
             ],
             [
              0.2222222222222222,
              "#7201a8"
             ],
             [
              0.3333333333333333,
              "#9c179e"
             ],
             [
              0.4444444444444444,
              "#bd3786"
             ],
             [
              0.5555555555555556,
              "#d8576b"
             ],
             [
              0.6666666666666666,
              "#ed7953"
             ],
             [
              0.7777777777777778,
              "#fb9f3a"
             ],
             [
              0.8888888888888888,
              "#fdca26"
             ],
             [
              1,
              "#f0f921"
             ]
            ],
            "type": "histogram2dcontour"
           }
          ],
          "mesh3d": [
           {
            "colorbar": {
             "outlinewidth": 0,
             "ticks": ""
            },
            "type": "mesh3d"
           }
          ],
          "parcoords": [
           {
            "line": {
             "colorbar": {
              "outlinewidth": 0,
              "ticks": ""
             }
            },
            "type": "parcoords"
           }
          ],
          "pie": [
           {
            "automargin": true,
            "type": "pie"
           }
          ],
          "scatter": [
           {
            "marker": {
             "colorbar": {
              "outlinewidth": 0,
              "ticks": ""
             }
            },
            "type": "scatter"
           }
          ],
          "scatter3d": [
           {
            "line": {
             "colorbar": {
              "outlinewidth": 0,
              "ticks": ""
             }
            },
            "marker": {
             "colorbar": {
              "outlinewidth": 0,
              "ticks": ""
             }
            },
            "type": "scatter3d"
           }
          ],
          "scattercarpet": [
           {
            "marker": {
             "colorbar": {
              "outlinewidth": 0,
              "ticks": ""
             }
            },
            "type": "scattercarpet"
           }
          ],
          "scattergeo": [
           {
            "marker": {
             "colorbar": {
              "outlinewidth": 0,
              "ticks": ""
             }
            },
            "type": "scattergeo"
           }
          ],
          "scattergl": [
           {
            "marker": {
             "colorbar": {
              "outlinewidth": 0,
              "ticks": ""
             }
            },
            "type": "scattergl"
           }
          ],
          "scattermapbox": [
           {
            "marker": {
             "colorbar": {
              "outlinewidth": 0,
              "ticks": ""
             }
            },
            "type": "scattermapbox"
           }
          ],
          "scatterpolar": [
           {
            "marker": {
             "colorbar": {
              "outlinewidth": 0,
              "ticks": ""
             }
            },
            "type": "scatterpolar"
           }
          ],
          "scatterpolargl": [
           {
            "marker": {
             "colorbar": {
              "outlinewidth": 0,
              "ticks": ""
             }
            },
            "type": "scatterpolargl"
           }
          ],
          "scatterternary": [
           {
            "marker": {
             "colorbar": {
              "outlinewidth": 0,
              "ticks": ""
             }
            },
            "type": "scatterternary"
           }
          ],
          "surface": [
           {
            "colorbar": {
             "outlinewidth": 0,
             "ticks": ""
            },
            "colorscale": [
             [
              0,
              "#0d0887"
             ],
             [
              0.1111111111111111,
              "#46039f"
             ],
             [
              0.2222222222222222,
              "#7201a8"
             ],
             [
              0.3333333333333333,
              "#9c179e"
             ],
             [
              0.4444444444444444,
              "#bd3786"
             ],
             [
              0.5555555555555556,
              "#d8576b"
             ],
             [
              0.6666666666666666,
              "#ed7953"
             ],
             [
              0.7777777777777778,
              "#fb9f3a"
             ],
             [
              0.8888888888888888,
              "#fdca26"
             ],
             [
              1,
              "#f0f921"
             ]
            ],
            "type": "surface"
           }
          ],
          "table": [
           {
            "cells": {
             "fill": {
              "color": "#EBF0F8"
             },
             "line": {
              "color": "white"
             }
            },
            "header": {
             "fill": {
              "color": "#C8D4E3"
             },
             "line": {
              "color": "white"
             }
            },
            "type": "table"
           }
          ]
         },
         "layout": {
          "annotationdefaults": {
           "arrowcolor": "#2a3f5f",
           "arrowhead": 0,
           "arrowwidth": 1
          },
          "autotypenumbers": "strict",
          "coloraxis": {
           "colorbar": {
            "outlinewidth": 0,
            "ticks": ""
           }
          },
          "colorscale": {
           "diverging": [
            [
             0,
             "#8e0152"
            ],
            [
             0.1,
             "#c51b7d"
            ],
            [
             0.2,
             "#de77ae"
            ],
            [
             0.3,
             "#f1b6da"
            ],
            [
             0.4,
             "#fde0ef"
            ],
            [
             0.5,
             "#f7f7f7"
            ],
            [
             0.6,
             "#e6f5d0"
            ],
            [
             0.7,
             "#b8e186"
            ],
            [
             0.8,
             "#7fbc41"
            ],
            [
             0.9,
             "#4d9221"
            ],
            [
             1,
             "#276419"
            ]
           ],
           "sequential": [
            [
             0,
             "#0d0887"
            ],
            [
             0.1111111111111111,
             "#46039f"
            ],
            [
             0.2222222222222222,
             "#7201a8"
            ],
            [
             0.3333333333333333,
             "#9c179e"
            ],
            [
             0.4444444444444444,
             "#bd3786"
            ],
            [
             0.5555555555555556,
             "#d8576b"
            ],
            [
             0.6666666666666666,
             "#ed7953"
            ],
            [
             0.7777777777777778,
             "#fb9f3a"
            ],
            [
             0.8888888888888888,
             "#fdca26"
            ],
            [
             1,
             "#f0f921"
            ]
           ],
           "sequentialminus": [
            [
             0,
             "#0d0887"
            ],
            [
             0.1111111111111111,
             "#46039f"
            ],
            [
             0.2222222222222222,
             "#7201a8"
            ],
            [
             0.3333333333333333,
             "#9c179e"
            ],
            [
             0.4444444444444444,
             "#bd3786"
            ],
            [
             0.5555555555555556,
             "#d8576b"
            ],
            [
             0.6666666666666666,
             "#ed7953"
            ],
            [
             0.7777777777777778,
             "#fb9f3a"
            ],
            [
             0.8888888888888888,
             "#fdca26"
            ],
            [
             1,
             "#f0f921"
            ]
           ]
          },
          "colorway": [
           "#636efa",
           "#EF553B",
           "#00cc96",
           "#ab63fa",
           "#FFA15A",
           "#19d3f3",
           "#FF6692",
           "#B6E880",
           "#FF97FF",
           "#FECB52"
          ],
          "font": {
           "color": "#2a3f5f"
          },
          "geo": {
           "bgcolor": "white",
           "lakecolor": "white",
           "landcolor": "#E5ECF6",
           "showlakes": true,
           "showland": true,
           "subunitcolor": "white"
          },
          "hoverlabel": {
           "align": "left"
          },
          "hovermode": "closest",
          "mapbox": {
           "style": "light"
          },
          "paper_bgcolor": "white",
          "plot_bgcolor": "#E5ECF6",
          "polar": {
           "angularaxis": {
            "gridcolor": "white",
            "linecolor": "white",
            "ticks": ""
           },
           "bgcolor": "#E5ECF6",
           "radialaxis": {
            "gridcolor": "white",
            "linecolor": "white",
            "ticks": ""
           }
          },
          "scene": {
           "xaxis": {
            "backgroundcolor": "#E5ECF6",
            "gridcolor": "white",
            "gridwidth": 2,
            "linecolor": "white",
            "showbackground": true,
            "ticks": "",
            "zerolinecolor": "white"
           },
           "yaxis": {
            "backgroundcolor": "#E5ECF6",
            "gridcolor": "white",
            "gridwidth": 2,
            "linecolor": "white",
            "showbackground": true,
            "ticks": "",
            "zerolinecolor": "white"
           },
           "zaxis": {
            "backgroundcolor": "#E5ECF6",
            "gridcolor": "white",
            "gridwidth": 2,
            "linecolor": "white",
            "showbackground": true,
            "ticks": "",
            "zerolinecolor": "white"
           }
          },
          "shapedefaults": {
           "line": {
            "color": "#2a3f5f"
           }
          },
          "ternary": {
           "aaxis": {
            "gridcolor": "white",
            "linecolor": "white",
            "ticks": ""
           },
           "baxis": {
            "gridcolor": "white",
            "linecolor": "white",
            "ticks": ""
           },
           "bgcolor": "#E5ECF6",
           "caxis": {
            "gridcolor": "white",
            "linecolor": "white",
            "ticks": ""
           }
          },
          "title": {
           "x": 0.05
          },
          "xaxis": {
           "automargin": true,
           "gridcolor": "white",
           "linecolor": "white",
           "ticks": "",
           "title": {
            "standoff": 15
           },
           "zerolinecolor": "white",
           "zerolinewidth": 2
          },
          "yaxis": {
           "automargin": true,
           "gridcolor": "white",
           "linecolor": "white",
           "ticks": "",
           "title": {
            "standoff": 15
           },
           "zerolinecolor": "white",
           "zerolinewidth": 2
          }
         }
        },
        "title": {
         "font": {
          "color": "#4D5663"
         }
        },
        "xaxis": {
         "anchor": "y2",
         "gridcolor": "#E1E5ED",
         "rangeselector": {
          "bgcolor": "rgba(150, 200, 250, 1)",
          "buttons": [
           {
            "count": 1,
            "label": "1m",
            "step": "month",
            "stepmode": "backward"
           },
           {
            "count": 1,
            "label": "1y",
            "step": "year",
            "stepmode": "backward"
           }
          ],
          "font": {
           "size": 13
          },
          "visible": false,
          "x": 0,
          "y": 0.9
         },
         "rangeslider": {
          "visible": false
         },
         "showgrid": true,
         "tickfont": {
          "color": "#4D5663"
         },
         "title": {
          "font": {
           "color": "#4D5663"
          },
          "text": ""
         },
         "zerolinecolor": "#E1E5ED"
        },
        "yaxis": {
         "gridcolor": "#E1E5ED",
         "showgrid": true,
         "showticklabels": false,
         "tickfont": {
          "color": "#4D5663"
         },
         "title": {
          "font": {
           "color": "#4D5663"
          },
          "text": ""
         },
         "zerolinecolor": "#E1E5ED"
        },
        "yaxis2": {
         "domain": [
          0,
          0.9
         ],
         "gridcolor": "#E1E5ED",
         "showgrid": true,
         "tickfont": {
          "color": "#4D5663"
         },
         "title": {
          "font": {
           "color": "#4D5663"
          },
          "text": ""
         },
         "zerolinecolor": "#E1E5ED"
        }
       }
      },
      "text/html": [
       "<div>                            <div id=\"43e7a558-7da6-43de-bc5d-5cdda801b1ff\" class=\"plotly-graph-div\" style=\"height:525px; width:100%;\"></div>            <script type=\"text/javascript\">                require([\"plotly\"], function(Plotly) {                    window.PLOTLYENV=window.PLOTLYENV || {};                                    if (document.getElementById(\"43e7a558-7da6-43de-bc5d-5cdda801b1ff\")) {                    Plotly.newPlot(                        \"43e7a558-7da6-43de-bc5d-5cdda801b1ff\",                        [{\"legendgroup\":\" SMA([10, 20])\",\"line\":{\"color\":\"rgba(0, 128, 0, 1.0)\",\"dash\":\"solid\",\"shape\":\"linear\",\"width\":2},\"mode\":\"lines\",\"name\":\" SMA([10, 20])\",\"showlegend\":true,\"text\":\"\",\"x\":[3179,3180,3181,3182,3183,3184,3185,3186,3187,3188,3189,3190,3191,3192,3193,3194,3195,3196,3197,3198,3199,3200,3201,3202,3203,3204,3205,3206,3207,3208,3209,3210,3211,3212,3213,3214,3215,3216,3217,3218,3219,3220,3221,3222,3223,3224,3225,3226,3227,3228,3229,3230,3231,3232,3233,3234,3235,3236,3237,3238],\"y\":[\"\",\"\",\"\",\"\",\"\",\"\",\"\",\"\",\"\",62.859500000000004,63.17190000000001,63.4264,63.601,63.8375,64.071,64.3913,64.6588,64.8534,65.031,65.15469999999999,65.3243,65.5119,65.6496,65.72749999999999,65.8034,65.66569999999999,65.4631,65.3584,65.1887,65.01310000000001,64.9055,64.8169,64.8043,64.79560000000001,64.8669,65.063,65.325,65.561,65.93,66.22200000000001,66.426,66.523,66.58399999999999,66.702,66.791,66.83699999999999,66.909,66.986,67.003,67.101,67.15899999999999,67.35,67.50800000000001,67.63300000000001,67.745,67.86500000000001,67.958,68.03,68.006,67.89],\"yaxis\":\"y2\",\"type\":\"scatter\"},{\"legendgroup\":\" SMA([10, 20])\",\"line\":{\"color\":\"rgba(144, 238, 144, 1.0)\",\"dash\":\"solid\",\"shape\":\"linear\",\"width\":2},\"mode\":\"lines\",\"name\":\" SMA(20)\",\"showlegend\":false,\"text\":\"\",\"x\":[3179,3180,3181,3182,3183,3184,3185,3186,3187,3188,3189,3190,3191,3192,3193,3194,3195,3196,3197,3198,3199,3200,3201,3202,3203,3204,3205,3206,3207,3208,3209,3210,3211,3212,3213,3214,3215,3216,3217,3218,3219,3220,3221,3222,3223,3224,3225,3226,3227,3228,3229,3230,3231,3232,3233,3234,3235,3236,3237,3238],\"y\":[\"\",\"\",\"\",\"\",\"\",\"\",\"\",\"\",\"\",\"\",\"\",\"\",\"\",\"\",\"\",\"\",\"\",\"\",\"\",64.00710000000001,64.2481,64.46915,64.6253,64.7825,64.93719999999999,65.02850000000001,65.06095,65.1059,65.10985,65.0839,65.1149,65.1644,65.22695,65.26155,65.33515,65.36435,65.39405000000001,65.4597,65.55935,65.61755,65.66575,65.66995,65.69415000000001,65.7488,65.82895,65.95,66.11699999999999,66.2735,66.4665,66.6615,66.79249999999999,66.9365,67.04599999999999,67.16749999999999,67.268,67.351,67.4335,67.50800000000001,67.50450000000001,67.4955],\"yaxis\":\"y2\",\"type\":\"scatter\"},{\"close\":[61.126,61.615,62.833,62.643,62.553,62.773,63.331,63.361,63.771,64.589,64.25,64.16,64.579,65.008,64.888,65.976,66.006,65.307,65.547,65.826,65.946,66.036,65.956,65.787,65.647,64.599,63.98,64.26,63.85,64.07,64.87,65.15,65.83,65.7,66.36,66.56,66.6,66.62,67.54,66.99,66.91,66.12,66.44,66.88,67.25,67.02,67.32,67.39,67.71,67.97,67.49,68.03,68.02,68.13,68.37,68.22,68.25,68.11,67.47,66.81],\"decreasing\":{\"line\":{\"color\":\"#808080\"}},\"high\":[61.595,61.874,62.892,63.237,63.022,63.012,63.446,63.501,63.801,64.699,65.048,64.349,64.679,65.113,65.547,66.136,66.286,66.086,65.737,65.996,66.166,66.315,66.226,66.006,66.136,65.767,64.769,64.529,64.489,64.145,65.07,65.78,65.87,65.99,66.38,66.77,66.86,66.97,67.6,67.82,67.37,66.68,66.585,66.975,67.53,67.68,67.55,68.52,67.83,68.01,67.93,68.17,68.44,68.38,68.67,68.45,68.64,68.33,67.98,67.58],\"increasing\":{\"line\":{\"color\":\"#17BECF\"}},\"low\":[60.158,60.837,61.725,62.473,62.224,62.543,62.842,62.893,63.262,63.771,64.08,63.681,63.92,64.359,64.699,65.278,65.757,65.278,65.028,65.487,65.567,65.866,65.637,65.497,65.577,64.31,63.781,63.92,63.84,63.591,64.29,65.06,65.15,65.52,65.66,66.02,66.22,66.34,66.54,66.89,66.77,65.99,66.07,66.06,67.07,66.93,66.88,67.03,67.2,67.41,67.1,67.54,67.84,67.81,68.01,68.22,68.04,67.771,66.91,66.7],\"name\":\"Trace 1\",\"open\":[60.637,60.966,61.745,62.593,62.743,62.932,62.972,62.912,63.272,63.87,64.769,63.89,64.429,64.719,65.018,65.367,66.136,65.777,65.178,65.547,65.956,66.116,66.176,65.747,65.717,65.667,64.519,64.14,64.12,63.87,64.29,65.06,65.15,65.85,65.68,66.49,66.68,66.68,66.65,67.63,67.2,66.68,66.38,66.44,67.2,67.45,67.31,67.9,67.53,67.8,67.9,67.54,68.2,68.08,68.09,68.22,68.32,68.1,67.92,67.35],\"showlegend\":true,\"x\":[3179,3180,3181,3182,3183,3184,3185,3186,3187,3188,3189,3190,3191,3192,3193,3194,3195,3196,3197,3198,3199,3200,3201,3202,3203,3204,3205,3206,3207,3208,3209,3210,3211,3212,3213,3214,3215,3216,3217,3218,3219,3220,3221,3222,3223,3224,3225,3226,3227,3228,3229,3230,3231,3232,3233,3234,3235,3236,3237,3238],\"yaxis\":\"y2\",\"type\":\"candlestick\"}],                        {\"legend\":{\"bgcolor\":\"#F5F6F9\",\"font\":{\"color\":\"#4D5663\"}},\"margin\":{\"b\":30,\"l\":30,\"r\":30,\"t\":30},\"paper_bgcolor\":\"#F5F6F9\",\"plot_bgcolor\":\"#F5F6F9\",\"showlegend\":true,\"template\":{\"data\":{\"barpolar\":[{\"marker\":{\"line\":{\"color\":\"#E5ECF6\",\"width\":0.5},\"pattern\":{\"fillmode\":\"overlay\",\"size\":10,\"solidity\":0.2}},\"type\":\"barpolar\"}],\"bar\":[{\"error_x\":{\"color\":\"#2a3f5f\"},\"error_y\":{\"color\":\"#2a3f5f\"},\"marker\":{\"line\":{\"color\":\"#E5ECF6\",\"width\":0.5},\"pattern\":{\"fillmode\":\"overlay\",\"size\":10,\"solidity\":0.2}},\"type\":\"bar\"}],\"carpet\":[{\"aaxis\":{\"endlinecolor\":\"#2a3f5f\",\"gridcolor\":\"white\",\"linecolor\":\"white\",\"minorgridcolor\":\"white\",\"startlinecolor\":\"#2a3f5f\"},\"baxis\":{\"endlinecolor\":\"#2a3f5f\",\"gridcolor\":\"white\",\"linecolor\":\"white\",\"minorgridcolor\":\"white\",\"startlinecolor\":\"#2a3f5f\"},\"type\":\"carpet\"}],\"choropleth\":[{\"colorbar\":{\"outlinewidth\":0,\"ticks\":\"\"},\"type\":\"choropleth\"}],\"contourcarpet\":[{\"colorbar\":{\"outlinewidth\":0,\"ticks\":\"\"},\"type\":\"contourcarpet\"}],\"contour\":[{\"colorbar\":{\"outlinewidth\":0,\"ticks\":\"\"},\"colorscale\":[[0.0,\"#0d0887\"],[0.1111111111111111,\"#46039f\"],[0.2222222222222222,\"#7201a8\"],[0.3333333333333333,\"#9c179e\"],[0.4444444444444444,\"#bd3786\"],[0.5555555555555556,\"#d8576b\"],[0.6666666666666666,\"#ed7953\"],[0.7777777777777778,\"#fb9f3a\"],[0.8888888888888888,\"#fdca26\"],[1.0,\"#f0f921\"]],\"type\":\"contour\"}],\"heatmapgl\":[{\"colorbar\":{\"outlinewidth\":0,\"ticks\":\"\"},\"colorscale\":[[0.0,\"#0d0887\"],[0.1111111111111111,\"#46039f\"],[0.2222222222222222,\"#7201a8\"],[0.3333333333333333,\"#9c179e\"],[0.4444444444444444,\"#bd3786\"],[0.5555555555555556,\"#d8576b\"],[0.6666666666666666,\"#ed7953\"],[0.7777777777777778,\"#fb9f3a\"],[0.8888888888888888,\"#fdca26\"],[1.0,\"#f0f921\"]],\"type\":\"heatmapgl\"}],\"heatmap\":[{\"colorbar\":{\"outlinewidth\":0,\"ticks\":\"\"},\"colorscale\":[[0.0,\"#0d0887\"],[0.1111111111111111,\"#46039f\"],[0.2222222222222222,\"#7201a8\"],[0.3333333333333333,\"#9c179e\"],[0.4444444444444444,\"#bd3786\"],[0.5555555555555556,\"#d8576b\"],[0.6666666666666666,\"#ed7953\"],[0.7777777777777778,\"#fb9f3a\"],[0.8888888888888888,\"#fdca26\"],[1.0,\"#f0f921\"]],\"type\":\"heatmap\"}],\"histogram2dcontour\":[{\"colorbar\":{\"outlinewidth\":0,\"ticks\":\"\"},\"colorscale\":[[0.0,\"#0d0887\"],[0.1111111111111111,\"#46039f\"],[0.2222222222222222,\"#7201a8\"],[0.3333333333333333,\"#9c179e\"],[0.4444444444444444,\"#bd3786\"],[0.5555555555555556,\"#d8576b\"],[0.6666666666666666,\"#ed7953\"],[0.7777777777777778,\"#fb9f3a\"],[0.8888888888888888,\"#fdca26\"],[1.0,\"#f0f921\"]],\"type\":\"histogram2dcontour\"}],\"histogram2d\":[{\"colorbar\":{\"outlinewidth\":0,\"ticks\":\"\"},\"colorscale\":[[0.0,\"#0d0887\"],[0.1111111111111111,\"#46039f\"],[0.2222222222222222,\"#7201a8\"],[0.3333333333333333,\"#9c179e\"],[0.4444444444444444,\"#bd3786\"],[0.5555555555555556,\"#d8576b\"],[0.6666666666666666,\"#ed7953\"],[0.7777777777777778,\"#fb9f3a\"],[0.8888888888888888,\"#fdca26\"],[1.0,\"#f0f921\"]],\"type\":\"histogram2d\"}],\"histogram\":[{\"marker\":{\"pattern\":{\"fillmode\":\"overlay\",\"size\":10,\"solidity\":0.2}},\"type\":\"histogram\"}],\"mesh3d\":[{\"colorbar\":{\"outlinewidth\":0,\"ticks\":\"\"},\"type\":\"mesh3d\"}],\"parcoords\":[{\"line\":{\"colorbar\":{\"outlinewidth\":0,\"ticks\":\"\"}},\"type\":\"parcoords\"}],\"pie\":[{\"automargin\":true,\"type\":\"pie\"}],\"scatter3d\":[{\"line\":{\"colorbar\":{\"outlinewidth\":0,\"ticks\":\"\"}},\"marker\":{\"colorbar\":{\"outlinewidth\":0,\"ticks\":\"\"}},\"type\":\"scatter3d\"}],\"scattercarpet\":[{\"marker\":{\"colorbar\":{\"outlinewidth\":0,\"ticks\":\"\"}},\"type\":\"scattercarpet\"}],\"scattergeo\":[{\"marker\":{\"colorbar\":{\"outlinewidth\":0,\"ticks\":\"\"}},\"type\":\"scattergeo\"}],\"scattergl\":[{\"marker\":{\"colorbar\":{\"outlinewidth\":0,\"ticks\":\"\"}},\"type\":\"scattergl\"}],\"scattermapbox\":[{\"marker\":{\"colorbar\":{\"outlinewidth\":0,\"ticks\":\"\"}},\"type\":\"scattermapbox\"}],\"scatterpolargl\":[{\"marker\":{\"colorbar\":{\"outlinewidth\":0,\"ticks\":\"\"}},\"type\":\"scatterpolargl\"}],\"scatterpolar\":[{\"marker\":{\"colorbar\":{\"outlinewidth\":0,\"ticks\":\"\"}},\"type\":\"scatterpolar\"}],\"scatter\":[{\"marker\":{\"colorbar\":{\"outlinewidth\":0,\"ticks\":\"\"}},\"type\":\"scatter\"}],\"scatterternary\":[{\"marker\":{\"colorbar\":{\"outlinewidth\":0,\"ticks\":\"\"}},\"type\":\"scatterternary\"}],\"surface\":[{\"colorbar\":{\"outlinewidth\":0,\"ticks\":\"\"},\"colorscale\":[[0.0,\"#0d0887\"],[0.1111111111111111,\"#46039f\"],[0.2222222222222222,\"#7201a8\"],[0.3333333333333333,\"#9c179e\"],[0.4444444444444444,\"#bd3786\"],[0.5555555555555556,\"#d8576b\"],[0.6666666666666666,\"#ed7953\"],[0.7777777777777778,\"#fb9f3a\"],[0.8888888888888888,\"#fdca26\"],[1.0,\"#f0f921\"]],\"type\":\"surface\"}],\"table\":[{\"cells\":{\"fill\":{\"color\":\"#EBF0F8\"},\"line\":{\"color\":\"white\"}},\"header\":{\"fill\":{\"color\":\"#C8D4E3\"},\"line\":{\"color\":\"white\"}},\"type\":\"table\"}]},\"layout\":{\"annotationdefaults\":{\"arrowcolor\":\"#2a3f5f\",\"arrowhead\":0,\"arrowwidth\":1},\"autotypenumbers\":\"strict\",\"coloraxis\":{\"colorbar\":{\"outlinewidth\":0,\"ticks\":\"\"}},\"colorscale\":{\"diverging\":[[0,\"#8e0152\"],[0.1,\"#c51b7d\"],[0.2,\"#de77ae\"],[0.3,\"#f1b6da\"],[0.4,\"#fde0ef\"],[0.5,\"#f7f7f7\"],[0.6,\"#e6f5d0\"],[0.7,\"#b8e186\"],[0.8,\"#7fbc41\"],[0.9,\"#4d9221\"],[1,\"#276419\"]],\"sequential\":[[0.0,\"#0d0887\"],[0.1111111111111111,\"#46039f\"],[0.2222222222222222,\"#7201a8\"],[0.3333333333333333,\"#9c179e\"],[0.4444444444444444,\"#bd3786\"],[0.5555555555555556,\"#d8576b\"],[0.6666666666666666,\"#ed7953\"],[0.7777777777777778,\"#fb9f3a\"],[0.8888888888888888,\"#fdca26\"],[1.0,\"#f0f921\"]],\"sequentialminus\":[[0.0,\"#0d0887\"],[0.1111111111111111,\"#46039f\"],[0.2222222222222222,\"#7201a8\"],[0.3333333333333333,\"#9c179e\"],[0.4444444444444444,\"#bd3786\"],[0.5555555555555556,\"#d8576b\"],[0.6666666666666666,\"#ed7953\"],[0.7777777777777778,\"#fb9f3a\"],[0.8888888888888888,\"#fdca26\"],[1.0,\"#f0f921\"]]},\"colorway\":[\"#636efa\",\"#EF553B\",\"#00cc96\",\"#ab63fa\",\"#FFA15A\",\"#19d3f3\",\"#FF6692\",\"#B6E880\",\"#FF97FF\",\"#FECB52\"],\"font\":{\"color\":\"#2a3f5f\"},\"geo\":{\"bgcolor\":\"white\",\"lakecolor\":\"white\",\"landcolor\":\"#E5ECF6\",\"showlakes\":true,\"showland\":true,\"subunitcolor\":\"white\"},\"hoverlabel\":{\"align\":\"left\"},\"hovermode\":\"closest\",\"mapbox\":{\"style\":\"light\"},\"paper_bgcolor\":\"white\",\"plot_bgcolor\":\"#E5ECF6\",\"polar\":{\"angularaxis\":{\"gridcolor\":\"white\",\"linecolor\":\"white\",\"ticks\":\"\"},\"bgcolor\":\"#E5ECF6\",\"radialaxis\":{\"gridcolor\":\"white\",\"linecolor\":\"white\",\"ticks\":\"\"}},\"scene\":{\"xaxis\":{\"backgroundcolor\":\"#E5ECF6\",\"gridcolor\":\"white\",\"gridwidth\":2,\"linecolor\":\"white\",\"showbackground\":true,\"ticks\":\"\",\"zerolinecolor\":\"white\"},\"yaxis\":{\"backgroundcolor\":\"#E5ECF6\",\"gridcolor\":\"white\",\"gridwidth\":2,\"linecolor\":\"white\",\"showbackground\":true,\"ticks\":\"\",\"zerolinecolor\":\"white\"},\"zaxis\":{\"backgroundcolor\":\"#E5ECF6\",\"gridcolor\":\"white\",\"gridwidth\":2,\"linecolor\":\"white\",\"showbackground\":true,\"ticks\":\"\",\"zerolinecolor\":\"white\"}},\"shapedefaults\":{\"line\":{\"color\":\"#2a3f5f\"}},\"ternary\":{\"aaxis\":{\"gridcolor\":\"white\",\"linecolor\":\"white\",\"ticks\":\"\"},\"baxis\":{\"gridcolor\":\"white\",\"linecolor\":\"white\",\"ticks\":\"\"},\"bgcolor\":\"#E5ECF6\",\"caxis\":{\"gridcolor\":\"white\",\"linecolor\":\"white\",\"ticks\":\"\"}},\"title\":{\"x\":0.05},\"xaxis\":{\"automargin\":true,\"gridcolor\":\"white\",\"linecolor\":\"white\",\"ticks\":\"\",\"title\":{\"standoff\":15},\"zerolinecolor\":\"white\",\"zerolinewidth\":2},\"yaxis\":{\"automargin\":true,\"gridcolor\":\"white\",\"linecolor\":\"white\",\"ticks\":\"\",\"title\":{\"standoff\":15},\"zerolinecolor\":\"white\",\"zerolinewidth\":2}}},\"title\":{\"font\":{\"color\":\"#4D5663\"}},\"xaxis\":{\"anchor\":\"y2\",\"gridcolor\":\"#E1E5ED\",\"rangeselector\":{\"bgcolor\":\"rgba(150, 200, 250, 1)\",\"buttons\":[{\"count\":1,\"label\":\"1m\",\"step\":\"month\",\"stepmode\":\"backward\"},{\"count\":1,\"label\":\"1y\",\"step\":\"year\",\"stepmode\":\"backward\"}],\"font\":{\"size\":13},\"visible\":false,\"x\":0,\"y\":0.9},\"rangeslider\":{\"visible\":false},\"showgrid\":true,\"tickfont\":{\"color\":\"#4D5663\"},\"title\":{\"font\":{\"color\":\"#4D5663\"},\"text\":\"\"},\"zerolinecolor\":\"#E1E5ED\"},\"yaxis\":{\"gridcolor\":\"#E1E5ED\",\"showgrid\":true,\"showticklabels\":false,\"tickfont\":{\"color\":\"#4D5663\"},\"title\":{\"font\":{\"color\":\"#4D5663\"},\"text\":\"\"},\"zerolinecolor\":\"#E1E5ED\"},\"yaxis2\":{\"domain\":[0.0,0.9],\"gridcolor\":\"#E1E5ED\",\"showgrid\":true,\"tickfont\":{\"color\":\"#4D5663\"},\"title\":{\"font\":{\"color\":\"#4D5663\"},\"text\":\"\"},\"zerolinecolor\":\"#E1E5ED\"}},                        {\"responsive\": true}                    ).then(function(){\n",
       "                            \n",
       "var gd = document.getElementById('43e7a558-7da6-43de-bc5d-5cdda801b1ff');\n",
       "var x = new MutationObserver(function (mutations, observer) {{\n",
       "        var display = window.getComputedStyle(gd).display;\n",
       "        if (!display || display === 'none') {{\n",
       "            console.log([gd, 'removed!']);\n",
       "            Plotly.purge(gd);\n",
       "            observer.disconnect();\n",
       "        }}\n",
       "}});\n",
       "\n",
       "// Listen for the removal of the full notebook cells\n",
       "var notebookContainer = gd.closest('#notebook-container');\n",
       "if (notebookContainer) {{\n",
       "    x.observe(notebookContainer, {childList: true});\n",
       "}}\n",
       "\n",
       "// Listen for the clearing of the current output cell\n",
       "var outputEl = gd.closest('.output');\n",
       "if (outputEl) {{\n",
       "    x.observe(outputEl, {childList: true});\n",
       "}}\n",
       "\n",
       "                        }).then(function(){\n",
       "                            function downloadimage(format, height, width, filename) {var p = document.getElementById('43e7a558-7da6-43de-bc5d-5cdda801b1ff');Plotly.downloadImage(p, {format: format, height: height, width: width, filename: filename});};if(document.readyState == 'complete') {downloadimage('png', 600, 800, 'qf_04');}\n",
       "                        })                };                });            </script>        </div>"
      ]
     },
     "metadata": {},
     "output_type": "display_data"
    }
   ],
   "source": [
    "qf=cf.QuantFig(tickers.get_group('a')[-60:])\n",
    "qf.add_sma([10,20],width=2,color=['green','lightgreen'],legendgroup=True)\n",
    "plyo.iplot(qf.iplot(asFigure=True),image='png',\n",
    "          filename='qf_04')"
   ]
  },
  {
   "cell_type": "code",
   "execution_count": 13,
   "metadata": {},
   "outputs": [
    {
     "data": {
      "application/vnd.plotly.v1+json": {
       "config": {
        "linkText": "Export to plot.ly",
        "plotlyServerURL": "https://plot.ly",
        "showLink": false
       },
       "data": [
        {
         "legendgroup": "RSI(close,20)",
         "line": {
          "color": "rgba(23, 190, 207, 1.0)",
          "dash": "solid",
          "shape": "linear",
          "width": 1.3
         },
         "mode": "lines",
         "name": "RSI(close,20)",
         "showlegend": true,
         "text": "",
         "type": "scatter",
         "x": [
          3179,
          3180,
          3181,
          3182,
          3183,
          3184,
          3185,
          3186,
          3187,
          3188,
          3189,
          3190,
          3191,
          3192,
          3193,
          3194,
          3195,
          3196,
          3197,
          3198,
          3199,
          3200,
          3201,
          3202,
          3203,
          3204,
          3205,
          3206,
          3207,
          3208,
          3209,
          3210,
          3211,
          3212,
          3213,
          3214,
          3215,
          3216,
          3217,
          3218,
          3219,
          3220,
          3221,
          3222,
          3223,
          3224,
          3225,
          3226,
          3227,
          3228,
          3229,
          3230,
          3231,
          3232,
          3233,
          3234,
          3235,
          3236,
          3237,
          3238
         ],
         "y": [
          "",
          "",
          "",
          "",
          "",
          "",
          "",
          "",
          "",
          "",
          "",
          "",
          "",
          "",
          "",
          "",
          "",
          "",
          "",
          80.29912325941211,
          80.59928897917732,
          79.56399625518263,
          74.6332229058212,
          74.88129154795833,
          74.29334170854285,
          62.68760422456925,
          54.47154471544712,
          55.98774477154661,
          50.52617556946849,
          46.24402952670426,
          54.206241519674386,
          56.5476190476191,
          57.997698504027646,
          54.5998404679607,
          59.12924832547751,
          54.070253693894635,
          54.1341870824053,
          60.09223674096848,
          63.86917188587338,
          57.80579399141629,
          56.49946062567419,
          50.517496303597845,
          52.89612254667301,
          56.33476295351795,
          59.04933950547585,
          65.05784301530034,
          71.63212435233157,
          70.83888149134484,
          76.010781671159,
          76.13941018766756,
          68.34733893557416,
          69.45945945945941,
          66.27043090638924,
          68.10730253353194,
          65.97774244833064,
          63.301282051281945,
          63.24237560192611,
          61.73228346456682,
          49.4233937397034,
          48.54368932038842
         ],
         "yaxis": "y3"
        },
        {
         "legendgroup": "RSI(close,20)",
         "line": {
          "color": "grey",
          "width": 1
         },
         "mode": "lines",
         "name": "",
         "showlegend": true,
         "text": "",
         "type": "scatter",
         "x": [
          3179,
          3180,
          3181,
          3182,
          3183,
          3184,
          3185,
          3186,
          3187,
          3188,
          3189,
          3190,
          3191,
          3192,
          3193,
          3194,
          3195,
          3196,
          3197,
          3198,
          3199,
          3200,
          3201,
          3202,
          3203,
          3204,
          3205,
          3206,
          3207,
          3208,
          3209,
          3210,
          3211,
          3212,
          3213,
          3214,
          3215,
          3216,
          3217,
          3218,
          3219,
          3220,
          3221,
          3222,
          3223,
          3224,
          3225,
          3226,
          3227,
          3228,
          3229,
          3230,
          3231,
          3232,
          3233,
          3234,
          3235,
          3236,
          3237,
          3238
         ],
         "y": [
          30,
          30,
          30,
          30,
          30,
          30,
          30,
          30,
          30,
          30,
          30,
          30,
          30,
          30,
          30,
          30,
          30,
          30,
          30,
          30,
          30,
          30,
          30,
          30,
          30,
          30,
          30,
          30,
          30,
          30,
          30,
          30,
          30,
          30,
          30,
          30,
          30,
          30,
          30,
          30,
          30,
          30,
          30,
          30,
          30,
          30,
          30,
          30,
          30,
          30,
          30,
          30,
          30,
          30,
          30,
          30,
          30,
          30,
          30,
          30
         ],
         "yaxis": "y3"
        },
        {
         "legendgroup": "RSI(close,20)",
         "line": {
          "color": "#17BECF",
          "width": 1
         },
         "mode": "lines",
         "name": "",
         "showlegend": true,
         "text": "",
         "type": "scatter",
         "x": [
          3179,
          3180,
          3181,
          3182,
          3183,
          3184,
          3185,
          3186,
          3187,
          3188,
          3189,
          3190,
          3191,
          3192,
          3193,
          3194,
          3195,
          3196,
          3197,
          3198,
          3199,
          3200,
          3201,
          3202,
          3203,
          3204,
          3205,
          3206,
          3207,
          3208,
          3209,
          3210,
          3211,
          3212,
          3213,
          3214,
          3215,
          3216,
          3217,
          3218,
          3219,
          3220,
          3221,
          3222,
          3223,
          3224,
          3225,
          3226,
          3227,
          3228,
          3229,
          3230,
          3231,
          3232,
          3233,
          3234,
          3235,
          3236,
          3237,
          3238
         ],
         "y": [
          70,
          70,
          70,
          70,
          70,
          70,
          70,
          70,
          70,
          70,
          70,
          70,
          70,
          70,
          70,
          70,
          70,
          70,
          70,
          70,
          70,
          70,
          70,
          70,
          70,
          70,
          70,
          70,
          70,
          70,
          70,
          70,
          70,
          70,
          70,
          70,
          70,
          70,
          70,
          70,
          70,
          70,
          70,
          70,
          70,
          70,
          70,
          70,
          70,
          70,
          70,
          70,
          70,
          70,
          70,
          70,
          70,
          70,
          70,
          70
         ],
         "yaxis": "y3"
        },
        {
         "close": [
          61.126,
          61.615,
          62.833,
          62.643,
          62.553,
          62.773,
          63.331,
          63.361,
          63.771,
          64.589,
          64.25,
          64.16,
          64.579,
          65.008,
          64.888,
          65.976,
          66.006,
          65.307,
          65.547,
          65.826,
          65.946,
          66.036,
          65.956,
          65.787,
          65.647,
          64.599,
          63.98,
          64.26,
          63.85,
          64.07,
          64.87,
          65.15,
          65.83,
          65.7,
          66.36,
          66.56,
          66.6,
          66.62,
          67.54,
          66.99,
          66.91,
          66.12,
          66.44,
          66.88,
          67.25,
          67.02,
          67.32,
          67.39,
          67.71,
          67.97,
          67.49,
          68.03,
          68.02,
          68.13,
          68.37,
          68.22,
          68.25,
          68.11,
          67.47,
          66.81
         ],
         "decreasing": {
          "line": {
           "color": "#808080"
          }
         },
         "high": [
          61.595,
          61.874,
          62.892,
          63.237,
          63.022,
          63.012,
          63.446,
          63.501,
          63.801,
          64.699,
          65.048,
          64.349,
          64.679,
          65.113,
          65.547,
          66.136,
          66.286,
          66.086,
          65.737,
          65.996,
          66.166,
          66.315,
          66.226,
          66.006,
          66.136,
          65.767,
          64.769,
          64.529,
          64.489,
          64.145,
          65.07,
          65.78,
          65.87,
          65.99,
          66.38,
          66.77,
          66.86,
          66.97,
          67.6,
          67.82,
          67.37,
          66.68,
          66.585,
          66.975,
          67.53,
          67.68,
          67.55,
          68.52,
          67.83,
          68.01,
          67.93,
          68.17,
          68.44,
          68.38,
          68.67,
          68.45,
          68.64,
          68.33,
          67.98,
          67.58
         ],
         "increasing": {
          "line": {
           "color": "#17BECF"
          }
         },
         "low": [
          60.158,
          60.837,
          61.725,
          62.473,
          62.224,
          62.543,
          62.842,
          62.893,
          63.262,
          63.771,
          64.08,
          63.681,
          63.92,
          64.359,
          64.699,
          65.278,
          65.757,
          65.278,
          65.028,
          65.487,
          65.567,
          65.866,
          65.637,
          65.497,
          65.577,
          64.31,
          63.781,
          63.92,
          63.84,
          63.591,
          64.29,
          65.06,
          65.15,
          65.52,
          65.66,
          66.02,
          66.22,
          66.34,
          66.54,
          66.89,
          66.77,
          65.99,
          66.07,
          66.06,
          67.07,
          66.93,
          66.88,
          67.03,
          67.2,
          67.41,
          67.1,
          67.54,
          67.84,
          67.81,
          68.01,
          68.22,
          68.04,
          67.771,
          66.91,
          66.7
         ],
         "name": "Trace 1",
         "open": [
          60.637,
          60.966,
          61.745,
          62.593,
          62.743,
          62.932,
          62.972,
          62.912,
          63.272,
          63.87,
          64.769,
          63.89,
          64.429,
          64.719,
          65.018,
          65.367,
          66.136,
          65.777,
          65.178,
          65.547,
          65.956,
          66.116,
          66.176,
          65.747,
          65.717,
          65.667,
          64.519,
          64.14,
          64.12,
          63.87,
          64.29,
          65.06,
          65.15,
          65.85,
          65.68,
          66.49,
          66.68,
          66.68,
          66.65,
          67.63,
          67.2,
          66.68,
          66.38,
          66.44,
          67.2,
          67.45,
          67.31,
          67.9,
          67.53,
          67.8,
          67.9,
          67.54,
          68.2,
          68.08,
          68.09,
          68.22,
          68.32,
          68.1,
          67.92,
          67.35
         ],
         "showlegend": true,
         "type": "candlestick",
         "x": [
          3179,
          3180,
          3181,
          3182,
          3183,
          3184,
          3185,
          3186,
          3187,
          3188,
          3189,
          3190,
          3191,
          3192,
          3193,
          3194,
          3195,
          3196,
          3197,
          3198,
          3199,
          3200,
          3201,
          3202,
          3203,
          3204,
          3205,
          3206,
          3207,
          3208,
          3209,
          3210,
          3211,
          3212,
          3213,
          3214,
          3215,
          3216,
          3217,
          3218,
          3219,
          3220,
          3221,
          3222,
          3223,
          3224,
          3225,
          3226,
          3227,
          3228,
          3229,
          3230,
          3231,
          3232,
          3233,
          3234,
          3235,
          3236,
          3237,
          3238
         ],
         "yaxis": "y2"
        }
       ],
       "layout": {
        "legend": {
         "bgcolor": "#F5F6F9",
         "font": {
          "color": "#4D5663"
         }
        },
        "margin": {
         "b": 30,
         "l": 30,
         "r": 30,
         "t": 30
        },
        "paper_bgcolor": "#F5F6F9",
        "plot_bgcolor": "#F5F6F9",
        "showlegend": true,
        "template": {
         "data": {
          "bar": [
           {
            "error_x": {
             "color": "#2a3f5f"
            },
            "error_y": {
             "color": "#2a3f5f"
            },
            "marker": {
             "line": {
              "color": "#E5ECF6",
              "width": 0.5
             },
             "pattern": {
              "fillmode": "overlay",
              "size": 10,
              "solidity": 0.2
             }
            },
            "type": "bar"
           }
          ],
          "barpolar": [
           {
            "marker": {
             "line": {
              "color": "#E5ECF6",
              "width": 0.5
             },
             "pattern": {
              "fillmode": "overlay",
              "size": 10,
              "solidity": 0.2
             }
            },
            "type": "barpolar"
           }
          ],
          "carpet": [
           {
            "aaxis": {
             "endlinecolor": "#2a3f5f",
             "gridcolor": "white",
             "linecolor": "white",
             "minorgridcolor": "white",
             "startlinecolor": "#2a3f5f"
            },
            "baxis": {
             "endlinecolor": "#2a3f5f",
             "gridcolor": "white",
             "linecolor": "white",
             "minorgridcolor": "white",
             "startlinecolor": "#2a3f5f"
            },
            "type": "carpet"
           }
          ],
          "choropleth": [
           {
            "colorbar": {
             "outlinewidth": 0,
             "ticks": ""
            },
            "type": "choropleth"
           }
          ],
          "contour": [
           {
            "colorbar": {
             "outlinewidth": 0,
             "ticks": ""
            },
            "colorscale": [
             [
              0,
              "#0d0887"
             ],
             [
              0.1111111111111111,
              "#46039f"
             ],
             [
              0.2222222222222222,
              "#7201a8"
             ],
             [
              0.3333333333333333,
              "#9c179e"
             ],
             [
              0.4444444444444444,
              "#bd3786"
             ],
             [
              0.5555555555555556,
              "#d8576b"
             ],
             [
              0.6666666666666666,
              "#ed7953"
             ],
             [
              0.7777777777777778,
              "#fb9f3a"
             ],
             [
              0.8888888888888888,
              "#fdca26"
             ],
             [
              1,
              "#f0f921"
             ]
            ],
            "type": "contour"
           }
          ],
          "contourcarpet": [
           {
            "colorbar": {
             "outlinewidth": 0,
             "ticks": ""
            },
            "type": "contourcarpet"
           }
          ],
          "heatmap": [
           {
            "colorbar": {
             "outlinewidth": 0,
             "ticks": ""
            },
            "colorscale": [
             [
              0,
              "#0d0887"
             ],
             [
              0.1111111111111111,
              "#46039f"
             ],
             [
              0.2222222222222222,
              "#7201a8"
             ],
             [
              0.3333333333333333,
              "#9c179e"
             ],
             [
              0.4444444444444444,
              "#bd3786"
             ],
             [
              0.5555555555555556,
              "#d8576b"
             ],
             [
              0.6666666666666666,
              "#ed7953"
             ],
             [
              0.7777777777777778,
              "#fb9f3a"
             ],
             [
              0.8888888888888888,
              "#fdca26"
             ],
             [
              1,
              "#f0f921"
             ]
            ],
            "type": "heatmap"
           }
          ],
          "heatmapgl": [
           {
            "colorbar": {
             "outlinewidth": 0,
             "ticks": ""
            },
            "colorscale": [
             [
              0,
              "#0d0887"
             ],
             [
              0.1111111111111111,
              "#46039f"
             ],
             [
              0.2222222222222222,
              "#7201a8"
             ],
             [
              0.3333333333333333,
              "#9c179e"
             ],
             [
              0.4444444444444444,
              "#bd3786"
             ],
             [
              0.5555555555555556,
              "#d8576b"
             ],
             [
              0.6666666666666666,
              "#ed7953"
             ],
             [
              0.7777777777777778,
              "#fb9f3a"
             ],
             [
              0.8888888888888888,
              "#fdca26"
             ],
             [
              1,
              "#f0f921"
             ]
            ],
            "type": "heatmapgl"
           }
          ],
          "histogram": [
           {
            "marker": {
             "pattern": {
              "fillmode": "overlay",
              "size": 10,
              "solidity": 0.2
             }
            },
            "type": "histogram"
           }
          ],
          "histogram2d": [
           {
            "colorbar": {
             "outlinewidth": 0,
             "ticks": ""
            },
            "colorscale": [
             [
              0,
              "#0d0887"
             ],
             [
              0.1111111111111111,
              "#46039f"
             ],
             [
              0.2222222222222222,
              "#7201a8"
             ],
             [
              0.3333333333333333,
              "#9c179e"
             ],
             [
              0.4444444444444444,
              "#bd3786"
             ],
             [
              0.5555555555555556,
              "#d8576b"
             ],
             [
              0.6666666666666666,
              "#ed7953"
             ],
             [
              0.7777777777777778,
              "#fb9f3a"
             ],
             [
              0.8888888888888888,
              "#fdca26"
             ],
             [
              1,
              "#f0f921"
             ]
            ],
            "type": "histogram2d"
           }
          ],
          "histogram2dcontour": [
           {
            "colorbar": {
             "outlinewidth": 0,
             "ticks": ""
            },
            "colorscale": [
             [
              0,
              "#0d0887"
             ],
             [
              0.1111111111111111,
              "#46039f"
             ],
             [
              0.2222222222222222,
              "#7201a8"
             ],
             [
              0.3333333333333333,
              "#9c179e"
             ],
             [
              0.4444444444444444,
              "#bd3786"
             ],
             [
              0.5555555555555556,
              "#d8576b"
             ],
             [
              0.6666666666666666,
              "#ed7953"
             ],
             [
              0.7777777777777778,
              "#fb9f3a"
             ],
             [
              0.8888888888888888,
              "#fdca26"
             ],
             [
              1,
              "#f0f921"
             ]
            ],
            "type": "histogram2dcontour"
           }
          ],
          "mesh3d": [
           {
            "colorbar": {
             "outlinewidth": 0,
             "ticks": ""
            },
            "type": "mesh3d"
           }
          ],
          "parcoords": [
           {
            "line": {
             "colorbar": {
              "outlinewidth": 0,
              "ticks": ""
             }
            },
            "type": "parcoords"
           }
          ],
          "pie": [
           {
            "automargin": true,
            "type": "pie"
           }
          ],
          "scatter": [
           {
            "marker": {
             "colorbar": {
              "outlinewidth": 0,
              "ticks": ""
             }
            },
            "type": "scatter"
           }
          ],
          "scatter3d": [
           {
            "line": {
             "colorbar": {
              "outlinewidth": 0,
              "ticks": ""
             }
            },
            "marker": {
             "colorbar": {
              "outlinewidth": 0,
              "ticks": ""
             }
            },
            "type": "scatter3d"
           }
          ],
          "scattercarpet": [
           {
            "marker": {
             "colorbar": {
              "outlinewidth": 0,
              "ticks": ""
             }
            },
            "type": "scattercarpet"
           }
          ],
          "scattergeo": [
           {
            "marker": {
             "colorbar": {
              "outlinewidth": 0,
              "ticks": ""
             }
            },
            "type": "scattergeo"
           }
          ],
          "scattergl": [
           {
            "marker": {
             "colorbar": {
              "outlinewidth": 0,
              "ticks": ""
             }
            },
            "type": "scattergl"
           }
          ],
          "scattermapbox": [
           {
            "marker": {
             "colorbar": {
              "outlinewidth": 0,
              "ticks": ""
             }
            },
            "type": "scattermapbox"
           }
          ],
          "scatterpolar": [
           {
            "marker": {
             "colorbar": {
              "outlinewidth": 0,
              "ticks": ""
             }
            },
            "type": "scatterpolar"
           }
          ],
          "scatterpolargl": [
           {
            "marker": {
             "colorbar": {
              "outlinewidth": 0,
              "ticks": ""
             }
            },
            "type": "scatterpolargl"
           }
          ],
          "scatterternary": [
           {
            "marker": {
             "colorbar": {
              "outlinewidth": 0,
              "ticks": ""
             }
            },
            "type": "scatterternary"
           }
          ],
          "surface": [
           {
            "colorbar": {
             "outlinewidth": 0,
             "ticks": ""
            },
            "colorscale": [
             [
              0,
              "#0d0887"
             ],
             [
              0.1111111111111111,
              "#46039f"
             ],
             [
              0.2222222222222222,
              "#7201a8"
             ],
             [
              0.3333333333333333,
              "#9c179e"
             ],
             [
              0.4444444444444444,
              "#bd3786"
             ],
             [
              0.5555555555555556,
              "#d8576b"
             ],
             [
              0.6666666666666666,
              "#ed7953"
             ],
             [
              0.7777777777777778,
              "#fb9f3a"
             ],
             [
              0.8888888888888888,
              "#fdca26"
             ],
             [
              1,
              "#f0f921"
             ]
            ],
            "type": "surface"
           }
          ],
          "table": [
           {
            "cells": {
             "fill": {
              "color": "#EBF0F8"
             },
             "line": {
              "color": "white"
             }
            },
            "header": {
             "fill": {
              "color": "#C8D4E3"
             },
             "line": {
              "color": "white"
             }
            },
            "type": "table"
           }
          ]
         },
         "layout": {
          "annotationdefaults": {
           "arrowcolor": "#2a3f5f",
           "arrowhead": 0,
           "arrowwidth": 1
          },
          "autotypenumbers": "strict",
          "coloraxis": {
           "colorbar": {
            "outlinewidth": 0,
            "ticks": ""
           }
          },
          "colorscale": {
           "diverging": [
            [
             0,
             "#8e0152"
            ],
            [
             0.1,
             "#c51b7d"
            ],
            [
             0.2,
             "#de77ae"
            ],
            [
             0.3,
             "#f1b6da"
            ],
            [
             0.4,
             "#fde0ef"
            ],
            [
             0.5,
             "#f7f7f7"
            ],
            [
             0.6,
             "#e6f5d0"
            ],
            [
             0.7,
             "#b8e186"
            ],
            [
             0.8,
             "#7fbc41"
            ],
            [
             0.9,
             "#4d9221"
            ],
            [
             1,
             "#276419"
            ]
           ],
           "sequential": [
            [
             0,
             "#0d0887"
            ],
            [
             0.1111111111111111,
             "#46039f"
            ],
            [
             0.2222222222222222,
             "#7201a8"
            ],
            [
             0.3333333333333333,
             "#9c179e"
            ],
            [
             0.4444444444444444,
             "#bd3786"
            ],
            [
             0.5555555555555556,
             "#d8576b"
            ],
            [
             0.6666666666666666,
             "#ed7953"
            ],
            [
             0.7777777777777778,
             "#fb9f3a"
            ],
            [
             0.8888888888888888,
             "#fdca26"
            ],
            [
             1,
             "#f0f921"
            ]
           ],
           "sequentialminus": [
            [
             0,
             "#0d0887"
            ],
            [
             0.1111111111111111,
             "#46039f"
            ],
            [
             0.2222222222222222,
             "#7201a8"
            ],
            [
             0.3333333333333333,
             "#9c179e"
            ],
            [
             0.4444444444444444,
             "#bd3786"
            ],
            [
             0.5555555555555556,
             "#d8576b"
            ],
            [
             0.6666666666666666,
             "#ed7953"
            ],
            [
             0.7777777777777778,
             "#fb9f3a"
            ],
            [
             0.8888888888888888,
             "#fdca26"
            ],
            [
             1,
             "#f0f921"
            ]
           ]
          },
          "colorway": [
           "#636efa",
           "#EF553B",
           "#00cc96",
           "#ab63fa",
           "#FFA15A",
           "#19d3f3",
           "#FF6692",
           "#B6E880",
           "#FF97FF",
           "#FECB52"
          ],
          "font": {
           "color": "#2a3f5f"
          },
          "geo": {
           "bgcolor": "white",
           "lakecolor": "white",
           "landcolor": "#E5ECF6",
           "showlakes": true,
           "showland": true,
           "subunitcolor": "white"
          },
          "hoverlabel": {
           "align": "left"
          },
          "hovermode": "closest",
          "mapbox": {
           "style": "light"
          },
          "paper_bgcolor": "white",
          "plot_bgcolor": "#E5ECF6",
          "polar": {
           "angularaxis": {
            "gridcolor": "white",
            "linecolor": "white",
            "ticks": ""
           },
           "bgcolor": "#E5ECF6",
           "radialaxis": {
            "gridcolor": "white",
            "linecolor": "white",
            "ticks": ""
           }
          },
          "scene": {
           "xaxis": {
            "backgroundcolor": "#E5ECF6",
            "gridcolor": "white",
            "gridwidth": 2,
            "linecolor": "white",
            "showbackground": true,
            "ticks": "",
            "zerolinecolor": "white"
           },
           "yaxis": {
            "backgroundcolor": "#E5ECF6",
            "gridcolor": "white",
            "gridwidth": 2,
            "linecolor": "white",
            "showbackground": true,
            "ticks": "",
            "zerolinecolor": "white"
           },
           "zaxis": {
            "backgroundcolor": "#E5ECF6",
            "gridcolor": "white",
            "gridwidth": 2,
            "linecolor": "white",
            "showbackground": true,
            "ticks": "",
            "zerolinecolor": "white"
           }
          },
          "shapedefaults": {
           "line": {
            "color": "#2a3f5f"
           }
          },
          "ternary": {
           "aaxis": {
            "gridcolor": "white",
            "linecolor": "white",
            "ticks": ""
           },
           "baxis": {
            "gridcolor": "white",
            "linecolor": "white",
            "ticks": ""
           },
           "bgcolor": "#E5ECF6",
           "caxis": {
            "gridcolor": "white",
            "linecolor": "white",
            "ticks": ""
           }
          },
          "title": {
           "x": 0.05
          },
          "xaxis": {
           "automargin": true,
           "gridcolor": "white",
           "linecolor": "white",
           "ticks": "",
           "title": {
            "standoff": 15
           },
           "zerolinecolor": "white",
           "zerolinewidth": 2
          },
          "yaxis": {
           "automargin": true,
           "gridcolor": "white",
           "linecolor": "white",
           "ticks": "",
           "title": {
            "standoff": 15
           },
           "zerolinecolor": "white",
           "zerolinewidth": 2
          }
         }
        },
        "title": {
         "font": {
          "color": "#4D5663"
         }
        },
        "xaxis": {
         "anchor": "y2",
         "gridcolor": "#E1E5ED",
         "rangeselector": {
          "bgcolor": "rgba(150, 200, 250, 1)",
          "buttons": [
           {
            "count": 1,
            "label": "1m",
            "step": "month",
            "stepmode": "backward"
           },
           {
            "count": 1,
            "label": "1y",
            "step": "year",
            "stepmode": "backward"
           }
          ],
          "font": {
           "size": 13
          },
          "visible": false,
          "x": 0,
          "y": 0.9
         },
         "rangeslider": {
          "visible": false
         },
         "showgrid": true,
         "tickfont": {
          "color": "#4D5663"
         },
         "title": {
          "font": {
           "color": "#4D5663"
          },
          "text": ""
         },
         "zerolinecolor": "#E1E5ED"
        },
        "yaxis": {
         "gridcolor": "#E1E5ED",
         "showgrid": true,
         "showticklabels": false,
         "tickfont": {
          "color": "#4D5663"
         },
         "title": {
          "font": {
           "color": "#4D5663"
          },
          "text": ""
         },
         "zerolinecolor": "#E1E5ED"
        },
        "yaxis2": {
         "domain": [
          0.23,
          0.9
         ],
         "gridcolor": "#E1E5ED",
         "showgrid": true,
         "tickfont": {
          "color": "#4D5663"
         },
         "title": {
          "font": {
           "color": "#4D5663"
          },
          "text": ""
         },
         "zerolinecolor": "#E1E5ED"
        },
        "yaxis3": {
         "domain": [
          0,
          0.15
         ],
         "gridcolor": "#E1E5ED",
         "showgrid": true,
         "tickfont": {
          "color": "#4D5663"
         },
         "title": {
          "font": {
           "color": "#4D5663"
          },
          "text": ""
         },
         "zerolinecolor": "#E1E5ED"
        }
       }
      },
      "text/html": [
       "<div>                            <div id=\"01699137-b780-4d7a-9979-4e35c62fc460\" class=\"plotly-graph-div\" style=\"height:525px; width:100%;\"></div>            <script type=\"text/javascript\">                require([\"plotly\"], function(Plotly) {                    window.PLOTLYENV=window.PLOTLYENV || {};                                    if (document.getElementById(\"01699137-b780-4d7a-9979-4e35c62fc460\")) {                    Plotly.newPlot(                        \"01699137-b780-4d7a-9979-4e35c62fc460\",                        [{\"legendgroup\":\"RSI(close,20)\",\"line\":{\"color\":\"rgba(23, 190, 207, 1.0)\",\"dash\":\"solid\",\"shape\":\"linear\",\"width\":1.3},\"mode\":\"lines\",\"name\":\"RSI(close,20)\",\"showlegend\":true,\"text\":\"\",\"x\":[3179,3180,3181,3182,3183,3184,3185,3186,3187,3188,3189,3190,3191,3192,3193,3194,3195,3196,3197,3198,3199,3200,3201,3202,3203,3204,3205,3206,3207,3208,3209,3210,3211,3212,3213,3214,3215,3216,3217,3218,3219,3220,3221,3222,3223,3224,3225,3226,3227,3228,3229,3230,3231,3232,3233,3234,3235,3236,3237,3238],\"y\":[\"\",\"\",\"\",\"\",\"\",\"\",\"\",\"\",\"\",\"\",\"\",\"\",\"\",\"\",\"\",\"\",\"\",\"\",\"\",80.29912325941211,80.59928897917732,79.56399625518263,74.6332229058212,74.88129154795833,74.29334170854285,62.68760422456925,54.47154471544712,55.98774477154661,50.52617556946849,46.24402952670426,54.206241519674386,56.5476190476191,57.997698504027646,54.5998404679607,59.12924832547751,54.070253693894635,54.1341870824053,60.09223674096848,63.86917188587338,57.80579399141629,56.49946062567419,50.517496303597845,52.89612254667301,56.33476295351795,59.04933950547585,65.05784301530034,71.63212435233157,70.83888149134484,76.010781671159,76.13941018766756,68.34733893557416,69.45945945945941,66.27043090638924,68.10730253353194,65.97774244833064,63.301282051281945,63.24237560192611,61.73228346456682,49.4233937397034,48.54368932038842],\"yaxis\":\"y3\",\"type\":\"scatter\"},{\"legendgroup\":\"RSI(close,20)\",\"line\":{\"color\":\"grey\",\"width\":1},\"mode\":\"lines\",\"name\":\"\",\"showlegend\":true,\"text\":\"\",\"x\":[3179,3180,3181,3182,3183,3184,3185,3186,3187,3188,3189,3190,3191,3192,3193,3194,3195,3196,3197,3198,3199,3200,3201,3202,3203,3204,3205,3206,3207,3208,3209,3210,3211,3212,3213,3214,3215,3216,3217,3218,3219,3220,3221,3222,3223,3224,3225,3226,3227,3228,3229,3230,3231,3232,3233,3234,3235,3236,3237,3238],\"y\":[30,30,30,30,30,30,30,30,30,30,30,30,30,30,30,30,30,30,30,30,30,30,30,30,30,30,30,30,30,30,30,30,30,30,30,30,30,30,30,30,30,30,30,30,30,30,30,30,30,30,30,30,30,30,30,30,30,30,30,30],\"yaxis\":\"y3\",\"type\":\"scatter\"},{\"legendgroup\":\"RSI(close,20)\",\"line\":{\"color\":\"#17BECF\",\"width\":1},\"mode\":\"lines\",\"name\":\"\",\"showlegend\":true,\"text\":\"\",\"x\":[3179,3180,3181,3182,3183,3184,3185,3186,3187,3188,3189,3190,3191,3192,3193,3194,3195,3196,3197,3198,3199,3200,3201,3202,3203,3204,3205,3206,3207,3208,3209,3210,3211,3212,3213,3214,3215,3216,3217,3218,3219,3220,3221,3222,3223,3224,3225,3226,3227,3228,3229,3230,3231,3232,3233,3234,3235,3236,3237,3238],\"y\":[70,70,70,70,70,70,70,70,70,70,70,70,70,70,70,70,70,70,70,70,70,70,70,70,70,70,70,70,70,70,70,70,70,70,70,70,70,70,70,70,70,70,70,70,70,70,70,70,70,70,70,70,70,70,70,70,70,70,70,70],\"yaxis\":\"y3\",\"type\":\"scatter\"},{\"close\":[61.126,61.615,62.833,62.643,62.553,62.773,63.331,63.361,63.771,64.589,64.25,64.16,64.579,65.008,64.888,65.976,66.006,65.307,65.547,65.826,65.946,66.036,65.956,65.787,65.647,64.599,63.98,64.26,63.85,64.07,64.87,65.15,65.83,65.7,66.36,66.56,66.6,66.62,67.54,66.99,66.91,66.12,66.44,66.88,67.25,67.02,67.32,67.39,67.71,67.97,67.49,68.03,68.02,68.13,68.37,68.22,68.25,68.11,67.47,66.81],\"decreasing\":{\"line\":{\"color\":\"#808080\"}},\"high\":[61.595,61.874,62.892,63.237,63.022,63.012,63.446,63.501,63.801,64.699,65.048,64.349,64.679,65.113,65.547,66.136,66.286,66.086,65.737,65.996,66.166,66.315,66.226,66.006,66.136,65.767,64.769,64.529,64.489,64.145,65.07,65.78,65.87,65.99,66.38,66.77,66.86,66.97,67.6,67.82,67.37,66.68,66.585,66.975,67.53,67.68,67.55,68.52,67.83,68.01,67.93,68.17,68.44,68.38,68.67,68.45,68.64,68.33,67.98,67.58],\"increasing\":{\"line\":{\"color\":\"#17BECF\"}},\"low\":[60.158,60.837,61.725,62.473,62.224,62.543,62.842,62.893,63.262,63.771,64.08,63.681,63.92,64.359,64.699,65.278,65.757,65.278,65.028,65.487,65.567,65.866,65.637,65.497,65.577,64.31,63.781,63.92,63.84,63.591,64.29,65.06,65.15,65.52,65.66,66.02,66.22,66.34,66.54,66.89,66.77,65.99,66.07,66.06,67.07,66.93,66.88,67.03,67.2,67.41,67.1,67.54,67.84,67.81,68.01,68.22,68.04,67.771,66.91,66.7],\"name\":\"Trace 1\",\"open\":[60.637,60.966,61.745,62.593,62.743,62.932,62.972,62.912,63.272,63.87,64.769,63.89,64.429,64.719,65.018,65.367,66.136,65.777,65.178,65.547,65.956,66.116,66.176,65.747,65.717,65.667,64.519,64.14,64.12,63.87,64.29,65.06,65.15,65.85,65.68,66.49,66.68,66.68,66.65,67.63,67.2,66.68,66.38,66.44,67.2,67.45,67.31,67.9,67.53,67.8,67.9,67.54,68.2,68.08,68.09,68.22,68.32,68.1,67.92,67.35],\"showlegend\":true,\"x\":[3179,3180,3181,3182,3183,3184,3185,3186,3187,3188,3189,3190,3191,3192,3193,3194,3195,3196,3197,3198,3199,3200,3201,3202,3203,3204,3205,3206,3207,3208,3209,3210,3211,3212,3213,3214,3215,3216,3217,3218,3219,3220,3221,3222,3223,3224,3225,3226,3227,3228,3229,3230,3231,3232,3233,3234,3235,3236,3237,3238],\"yaxis\":\"y2\",\"type\":\"candlestick\"}],                        {\"legend\":{\"bgcolor\":\"#F5F6F9\",\"font\":{\"color\":\"#4D5663\"}},\"margin\":{\"b\":30,\"l\":30,\"r\":30,\"t\":30},\"paper_bgcolor\":\"#F5F6F9\",\"plot_bgcolor\":\"#F5F6F9\",\"showlegend\":true,\"template\":{\"data\":{\"barpolar\":[{\"marker\":{\"line\":{\"color\":\"#E5ECF6\",\"width\":0.5},\"pattern\":{\"fillmode\":\"overlay\",\"size\":10,\"solidity\":0.2}},\"type\":\"barpolar\"}],\"bar\":[{\"error_x\":{\"color\":\"#2a3f5f\"},\"error_y\":{\"color\":\"#2a3f5f\"},\"marker\":{\"line\":{\"color\":\"#E5ECF6\",\"width\":0.5},\"pattern\":{\"fillmode\":\"overlay\",\"size\":10,\"solidity\":0.2}},\"type\":\"bar\"}],\"carpet\":[{\"aaxis\":{\"endlinecolor\":\"#2a3f5f\",\"gridcolor\":\"white\",\"linecolor\":\"white\",\"minorgridcolor\":\"white\",\"startlinecolor\":\"#2a3f5f\"},\"baxis\":{\"endlinecolor\":\"#2a3f5f\",\"gridcolor\":\"white\",\"linecolor\":\"white\",\"minorgridcolor\":\"white\",\"startlinecolor\":\"#2a3f5f\"},\"type\":\"carpet\"}],\"choropleth\":[{\"colorbar\":{\"outlinewidth\":0,\"ticks\":\"\"},\"type\":\"choropleth\"}],\"contourcarpet\":[{\"colorbar\":{\"outlinewidth\":0,\"ticks\":\"\"},\"type\":\"contourcarpet\"}],\"contour\":[{\"colorbar\":{\"outlinewidth\":0,\"ticks\":\"\"},\"colorscale\":[[0.0,\"#0d0887\"],[0.1111111111111111,\"#46039f\"],[0.2222222222222222,\"#7201a8\"],[0.3333333333333333,\"#9c179e\"],[0.4444444444444444,\"#bd3786\"],[0.5555555555555556,\"#d8576b\"],[0.6666666666666666,\"#ed7953\"],[0.7777777777777778,\"#fb9f3a\"],[0.8888888888888888,\"#fdca26\"],[1.0,\"#f0f921\"]],\"type\":\"contour\"}],\"heatmapgl\":[{\"colorbar\":{\"outlinewidth\":0,\"ticks\":\"\"},\"colorscale\":[[0.0,\"#0d0887\"],[0.1111111111111111,\"#46039f\"],[0.2222222222222222,\"#7201a8\"],[0.3333333333333333,\"#9c179e\"],[0.4444444444444444,\"#bd3786\"],[0.5555555555555556,\"#d8576b\"],[0.6666666666666666,\"#ed7953\"],[0.7777777777777778,\"#fb9f3a\"],[0.8888888888888888,\"#fdca26\"],[1.0,\"#f0f921\"]],\"type\":\"heatmapgl\"}],\"heatmap\":[{\"colorbar\":{\"outlinewidth\":0,\"ticks\":\"\"},\"colorscale\":[[0.0,\"#0d0887\"],[0.1111111111111111,\"#46039f\"],[0.2222222222222222,\"#7201a8\"],[0.3333333333333333,\"#9c179e\"],[0.4444444444444444,\"#bd3786\"],[0.5555555555555556,\"#d8576b\"],[0.6666666666666666,\"#ed7953\"],[0.7777777777777778,\"#fb9f3a\"],[0.8888888888888888,\"#fdca26\"],[1.0,\"#f0f921\"]],\"type\":\"heatmap\"}],\"histogram2dcontour\":[{\"colorbar\":{\"outlinewidth\":0,\"ticks\":\"\"},\"colorscale\":[[0.0,\"#0d0887\"],[0.1111111111111111,\"#46039f\"],[0.2222222222222222,\"#7201a8\"],[0.3333333333333333,\"#9c179e\"],[0.4444444444444444,\"#bd3786\"],[0.5555555555555556,\"#d8576b\"],[0.6666666666666666,\"#ed7953\"],[0.7777777777777778,\"#fb9f3a\"],[0.8888888888888888,\"#fdca26\"],[1.0,\"#f0f921\"]],\"type\":\"histogram2dcontour\"}],\"histogram2d\":[{\"colorbar\":{\"outlinewidth\":0,\"ticks\":\"\"},\"colorscale\":[[0.0,\"#0d0887\"],[0.1111111111111111,\"#46039f\"],[0.2222222222222222,\"#7201a8\"],[0.3333333333333333,\"#9c179e\"],[0.4444444444444444,\"#bd3786\"],[0.5555555555555556,\"#d8576b\"],[0.6666666666666666,\"#ed7953\"],[0.7777777777777778,\"#fb9f3a\"],[0.8888888888888888,\"#fdca26\"],[1.0,\"#f0f921\"]],\"type\":\"histogram2d\"}],\"histogram\":[{\"marker\":{\"pattern\":{\"fillmode\":\"overlay\",\"size\":10,\"solidity\":0.2}},\"type\":\"histogram\"}],\"mesh3d\":[{\"colorbar\":{\"outlinewidth\":0,\"ticks\":\"\"},\"type\":\"mesh3d\"}],\"parcoords\":[{\"line\":{\"colorbar\":{\"outlinewidth\":0,\"ticks\":\"\"}},\"type\":\"parcoords\"}],\"pie\":[{\"automargin\":true,\"type\":\"pie\"}],\"scatter3d\":[{\"line\":{\"colorbar\":{\"outlinewidth\":0,\"ticks\":\"\"}},\"marker\":{\"colorbar\":{\"outlinewidth\":0,\"ticks\":\"\"}},\"type\":\"scatter3d\"}],\"scattercarpet\":[{\"marker\":{\"colorbar\":{\"outlinewidth\":0,\"ticks\":\"\"}},\"type\":\"scattercarpet\"}],\"scattergeo\":[{\"marker\":{\"colorbar\":{\"outlinewidth\":0,\"ticks\":\"\"}},\"type\":\"scattergeo\"}],\"scattergl\":[{\"marker\":{\"colorbar\":{\"outlinewidth\":0,\"ticks\":\"\"}},\"type\":\"scattergl\"}],\"scattermapbox\":[{\"marker\":{\"colorbar\":{\"outlinewidth\":0,\"ticks\":\"\"}},\"type\":\"scattermapbox\"}],\"scatterpolargl\":[{\"marker\":{\"colorbar\":{\"outlinewidth\":0,\"ticks\":\"\"}},\"type\":\"scatterpolargl\"}],\"scatterpolar\":[{\"marker\":{\"colorbar\":{\"outlinewidth\":0,\"ticks\":\"\"}},\"type\":\"scatterpolar\"}],\"scatter\":[{\"marker\":{\"colorbar\":{\"outlinewidth\":0,\"ticks\":\"\"}},\"type\":\"scatter\"}],\"scatterternary\":[{\"marker\":{\"colorbar\":{\"outlinewidth\":0,\"ticks\":\"\"}},\"type\":\"scatterternary\"}],\"surface\":[{\"colorbar\":{\"outlinewidth\":0,\"ticks\":\"\"},\"colorscale\":[[0.0,\"#0d0887\"],[0.1111111111111111,\"#46039f\"],[0.2222222222222222,\"#7201a8\"],[0.3333333333333333,\"#9c179e\"],[0.4444444444444444,\"#bd3786\"],[0.5555555555555556,\"#d8576b\"],[0.6666666666666666,\"#ed7953\"],[0.7777777777777778,\"#fb9f3a\"],[0.8888888888888888,\"#fdca26\"],[1.0,\"#f0f921\"]],\"type\":\"surface\"}],\"table\":[{\"cells\":{\"fill\":{\"color\":\"#EBF0F8\"},\"line\":{\"color\":\"white\"}},\"header\":{\"fill\":{\"color\":\"#C8D4E3\"},\"line\":{\"color\":\"white\"}},\"type\":\"table\"}]},\"layout\":{\"annotationdefaults\":{\"arrowcolor\":\"#2a3f5f\",\"arrowhead\":0,\"arrowwidth\":1},\"autotypenumbers\":\"strict\",\"coloraxis\":{\"colorbar\":{\"outlinewidth\":0,\"ticks\":\"\"}},\"colorscale\":{\"diverging\":[[0,\"#8e0152\"],[0.1,\"#c51b7d\"],[0.2,\"#de77ae\"],[0.3,\"#f1b6da\"],[0.4,\"#fde0ef\"],[0.5,\"#f7f7f7\"],[0.6,\"#e6f5d0\"],[0.7,\"#b8e186\"],[0.8,\"#7fbc41\"],[0.9,\"#4d9221\"],[1,\"#276419\"]],\"sequential\":[[0.0,\"#0d0887\"],[0.1111111111111111,\"#46039f\"],[0.2222222222222222,\"#7201a8\"],[0.3333333333333333,\"#9c179e\"],[0.4444444444444444,\"#bd3786\"],[0.5555555555555556,\"#d8576b\"],[0.6666666666666666,\"#ed7953\"],[0.7777777777777778,\"#fb9f3a\"],[0.8888888888888888,\"#fdca26\"],[1.0,\"#f0f921\"]],\"sequentialminus\":[[0.0,\"#0d0887\"],[0.1111111111111111,\"#46039f\"],[0.2222222222222222,\"#7201a8\"],[0.3333333333333333,\"#9c179e\"],[0.4444444444444444,\"#bd3786\"],[0.5555555555555556,\"#d8576b\"],[0.6666666666666666,\"#ed7953\"],[0.7777777777777778,\"#fb9f3a\"],[0.8888888888888888,\"#fdca26\"],[1.0,\"#f0f921\"]]},\"colorway\":[\"#636efa\",\"#EF553B\",\"#00cc96\",\"#ab63fa\",\"#FFA15A\",\"#19d3f3\",\"#FF6692\",\"#B6E880\",\"#FF97FF\",\"#FECB52\"],\"font\":{\"color\":\"#2a3f5f\"},\"geo\":{\"bgcolor\":\"white\",\"lakecolor\":\"white\",\"landcolor\":\"#E5ECF6\",\"showlakes\":true,\"showland\":true,\"subunitcolor\":\"white\"},\"hoverlabel\":{\"align\":\"left\"},\"hovermode\":\"closest\",\"mapbox\":{\"style\":\"light\"},\"paper_bgcolor\":\"white\",\"plot_bgcolor\":\"#E5ECF6\",\"polar\":{\"angularaxis\":{\"gridcolor\":\"white\",\"linecolor\":\"white\",\"ticks\":\"\"},\"bgcolor\":\"#E5ECF6\",\"radialaxis\":{\"gridcolor\":\"white\",\"linecolor\":\"white\",\"ticks\":\"\"}},\"scene\":{\"xaxis\":{\"backgroundcolor\":\"#E5ECF6\",\"gridcolor\":\"white\",\"gridwidth\":2,\"linecolor\":\"white\",\"showbackground\":true,\"ticks\":\"\",\"zerolinecolor\":\"white\"},\"yaxis\":{\"backgroundcolor\":\"#E5ECF6\",\"gridcolor\":\"white\",\"gridwidth\":2,\"linecolor\":\"white\",\"showbackground\":true,\"ticks\":\"\",\"zerolinecolor\":\"white\"},\"zaxis\":{\"backgroundcolor\":\"#E5ECF6\",\"gridcolor\":\"white\",\"gridwidth\":2,\"linecolor\":\"white\",\"showbackground\":true,\"ticks\":\"\",\"zerolinecolor\":\"white\"}},\"shapedefaults\":{\"line\":{\"color\":\"#2a3f5f\"}},\"ternary\":{\"aaxis\":{\"gridcolor\":\"white\",\"linecolor\":\"white\",\"ticks\":\"\"},\"baxis\":{\"gridcolor\":\"white\",\"linecolor\":\"white\",\"ticks\":\"\"},\"bgcolor\":\"#E5ECF6\",\"caxis\":{\"gridcolor\":\"white\",\"linecolor\":\"white\",\"ticks\":\"\"}},\"title\":{\"x\":0.05},\"xaxis\":{\"automargin\":true,\"gridcolor\":\"white\",\"linecolor\":\"white\",\"ticks\":\"\",\"title\":{\"standoff\":15},\"zerolinecolor\":\"white\",\"zerolinewidth\":2},\"yaxis\":{\"automargin\":true,\"gridcolor\":\"white\",\"linecolor\":\"white\",\"ticks\":\"\",\"title\":{\"standoff\":15},\"zerolinecolor\":\"white\",\"zerolinewidth\":2}}},\"title\":{\"font\":{\"color\":\"#4D5663\"}},\"xaxis\":{\"anchor\":\"y2\",\"gridcolor\":\"#E1E5ED\",\"rangeselector\":{\"bgcolor\":\"rgba(150, 200, 250, 1)\",\"buttons\":[{\"count\":1,\"label\":\"1m\",\"step\":\"month\",\"stepmode\":\"backward\"},{\"count\":1,\"label\":\"1y\",\"step\":\"year\",\"stepmode\":\"backward\"}],\"font\":{\"size\":13},\"visible\":false,\"x\":0,\"y\":0.9},\"rangeslider\":{\"visible\":false},\"showgrid\":true,\"tickfont\":{\"color\":\"#4D5663\"},\"title\":{\"font\":{\"color\":\"#4D5663\"},\"text\":\"\"},\"zerolinecolor\":\"#E1E5ED\"},\"yaxis\":{\"gridcolor\":\"#E1E5ED\",\"showgrid\":true,\"showticklabels\":false,\"tickfont\":{\"color\":\"#4D5663\"},\"title\":{\"font\":{\"color\":\"#4D5663\"},\"text\":\"\"},\"zerolinecolor\":\"#E1E5ED\"},\"yaxis3\":{\"domain\":[0.0,0.15],\"gridcolor\":\"#E1E5ED\",\"showgrid\":true,\"tickfont\":{\"color\":\"#4D5663\"},\"title\":{\"font\":{\"color\":\"#4D5663\"},\"text\":\"\"},\"zerolinecolor\":\"#E1E5ED\"},\"yaxis2\":{\"domain\":[0.23,0.9],\"gridcolor\":\"#E1E5ED\",\"showgrid\":true,\"tickfont\":{\"color\":\"#4D5663\"},\"title\":{\"font\":{\"color\":\"#4D5663\"},\"text\":\"\"},\"zerolinecolor\":\"#E1E5ED\"}},                        {\"responsive\": true}                    ).then(function(){\n",
       "                            \n",
       "var gd = document.getElementById('01699137-b780-4d7a-9979-4e35c62fc460');\n",
       "var x = new MutationObserver(function (mutations, observer) {{\n",
       "        var display = window.getComputedStyle(gd).display;\n",
       "        if (!display || display === 'none') {{\n",
       "            console.log([gd, 'removed!']);\n",
       "            Plotly.purge(gd);\n",
       "            observer.disconnect();\n",
       "        }}\n",
       "}});\n",
       "\n",
       "// Listen for the removal of the full notebook cells\n",
       "var notebookContainer = gd.closest('#notebook-container');\n",
       "if (notebookContainer) {{\n",
       "    x.observe(notebookContainer, {childList: true});\n",
       "}}\n",
       "\n",
       "// Listen for the clearing of the current output cell\n",
       "var outputEl = gd.closest('.output');\n",
       "if (outputEl) {{\n",
       "    x.observe(outputEl, {childList: true});\n",
       "}}\n",
       "\n",
       "                        }).then(function(){\n",
       "                            function downloadimage(format, height, width, filename) {var p = document.getElementById('01699137-b780-4d7a-9979-4e35c62fc460');Plotly.downloadImage(p, {format: format, height: height, width: width, filename: filename});};if(document.readyState == 'complete') {downloadimage('png', 600, 800, 'qf_04');}\n",
       "                        })                };                });            </script>        </div>"
      ]
     },
     "metadata": {},
     "output_type": "display_data"
    }
   ],
   "source": [
    "qf=cf.QuantFig(tickers.get_group('a')[-60:])\n",
    "qf.add_rsi(periods=20,color='java')\n",
    "plyo.iplot(qf.iplot(asFigure=True),image='png',\n",
    "          filename='qf_04')"
   ]
  },
  {
   "cell_type": "code",
   "execution_count": 14,
   "metadata": {},
   "outputs": [
    {
     "data": {
      "application/vnd.plotly.v1+json": {
       "config": {
        "linkText": "Export to plot.ly",
        "plotlyServerURL": "https://plot.ly",
        "showLink": false
       },
       "data": [
        {
         "legendgroup": "BOLL(close,20)",
         "line": {
          "color": "rgba(255, 0, 255, 1.0)",
          "dash": "solid",
          "shape": "linear",
          "width": 1.3
         },
         "mode": "lines",
         "name": "BOLL(close,20)",
         "showlegend": true,
         "text": "",
         "type": "scatter",
         "x": [
          3179,
          3180,
          3181,
          3182,
          3183,
          3184,
          3185,
          3186,
          3187,
          3188,
          3189,
          3190,
          3191,
          3192,
          3193,
          3194,
          3195,
          3196,
          3197,
          3198,
          3199,
          3200,
          3201,
          3202,
          3203,
          3204,
          3205,
          3206,
          3207,
          3208,
          3209,
          3210,
          3211,
          3212,
          3213,
          3214,
          3215,
          3216,
          3217,
          3218,
          3219,
          3220,
          3221,
          3222,
          3223,
          3224,
          3225,
          3226,
          3227,
          3228,
          3229,
          3230,
          3231,
          3232,
          3233,
          3234,
          3235,
          3236,
          3237,
          3238
         ],
         "y": [
          "",
          "",
          "",
          "",
          "",
          "",
          "",
          "",
          "",
          "",
          "",
          "",
          "",
          "",
          "",
          "",
          "",
          "",
          "",
          64.00710000000001,
          64.2481,
          64.46915,
          64.6253,
          64.7825,
          64.93719999999999,
          65.02850000000001,
          65.06095,
          65.1059,
          65.10985,
          65.0839,
          65.1149,
          65.1644,
          65.22695,
          65.26155,
          65.33515,
          65.36435,
          65.39405000000001,
          65.4597,
          65.55935,
          65.61755,
          65.66575,
          65.66995,
          65.69415000000001,
          65.7488,
          65.82895,
          65.95,
          66.11699999999999,
          66.2735,
          66.4665,
          66.6615,
          66.79249999999999,
          66.9365,
          67.04599999999999,
          67.16749999999999,
          67.268,
          67.351,
          67.4335,
          67.50800000000001,
          67.50450000000001,
          67.4955
         ],
         "yaxis": "y2"
        },
        {
         "legendgroup": "BOLL(close,20)",
         "line": {
          "color": "rgba(128, 128, 128, 1.0)",
          "dash": "solid",
          "shape": "linear",
          "width": 1.3
         },
         "mode": "lines",
         "name": "UPPER(close,20)",
         "showlegend": false,
         "text": "",
         "type": "scatter",
         "x": [
          3179,
          3180,
          3181,
          3182,
          3183,
          3184,
          3185,
          3186,
          3187,
          3188,
          3189,
          3190,
          3191,
          3192,
          3193,
          3194,
          3195,
          3196,
          3197,
          3198,
          3199,
          3200,
          3201,
          3202,
          3203,
          3204,
          3205,
          3206,
          3207,
          3208,
          3209,
          3210,
          3211,
          3212,
          3213,
          3214,
          3215,
          3216,
          3217,
          3218,
          3219,
          3220,
          3221,
          3222,
          3223,
          3224,
          3225,
          3226,
          3227,
          3228,
          3229,
          3230,
          3231,
          3232,
          3233,
          3234,
          3235,
          3236,
          3237,
          3238
         ],
         "y": [
          "",
          "",
          "",
          "",
          "",
          "",
          "",
          "",
          "",
          "",
          "",
          "",
          "",
          "",
          "",
          "",
          "",
          "",
          "",
          66.89436086911383,
          66.91936162978037,
          66.94770613953814,
          67.06300695531684,
          67.0836333134601,
          67.01212889922573,
          66.84736147153423,
          66.77227493761569,
          66.67012422675874,
          66.66021855041157,
          66.68743804871735,
          66.67391330469326,
          66.65721611657122,
          66.7213222463049,
          66.76658358591655,
          66.9058060848391,
          67.00531111439221,
          67.10396246005537,
          67.25426666518395,
          67.58126438987904,
          67.73646565863793,
          67.85868841562795,
          67.86619344111293,
          67.91420189839764,
          68.03140613749883,
          68.20708013454733,
          68.31092756080494,
          68.36080410065254,
          68.40580070951295,
          68.36064916324759,
          68.3029919401184,
          68.23855270341458,
          68.26247173900187,
          68.34873235123239,
          68.39262083184953,
          68.54296707903842,
          68.64784475392764,
          68.73908758701536,
          68.78792762953314,
          68.78444202171332,
          68.79308439538941
         ],
         "yaxis": "y2"
        },
        {
         "fill": "tonexty",
         "fillcolor": "rgba(128, 128, 128, 0.1)",
         "legendgroup": "BOLL(close,20)",
         "line": {
          "color": "rgba(128, 128, 128, 0.8999999999999999)",
          "dash": "solid",
          "shape": "linear",
          "width": 1.3
         },
         "mode": "lines",
         "name": "LOWER(close,20)",
         "showlegend": false,
         "text": "",
         "type": "scatter",
         "x": [
          3179,
          3180,
          3181,
          3182,
          3183,
          3184,
          3185,
          3186,
          3187,
          3188,
          3189,
          3190,
          3191,
          3192,
          3193,
          3194,
          3195,
          3196,
          3197,
          3198,
          3199,
          3200,
          3201,
          3202,
          3203,
          3204,
          3205,
          3206,
          3207,
          3208,
          3209,
          3210,
          3211,
          3212,
          3213,
          3214,
          3215,
          3216,
          3217,
          3218,
          3219,
          3220,
          3221,
          3222,
          3223,
          3224,
          3225,
          3226,
          3227,
          3228,
          3229,
          3230,
          3231,
          3232,
          3233,
          3234,
          3235,
          3236,
          3237,
          3238
         ],
         "y": [
          "",
          "",
          "",
          "",
          "",
          "",
          "",
          "",
          "",
          "",
          "",
          "",
          "",
          "",
          "",
          "",
          "",
          "",
          "",
          61.11983913088619,
          61.57683837021962,
          61.990593860461864,
          62.18759304468316,
          62.4813666865399,
          62.862271100774244,
          63.20963852846579,
          63.34962506238433,
          63.541675773241266,
          63.55948144958842,
          63.480361951282646,
          63.555886695306754,
          63.67158388342878,
          63.73257775369511,
          63.75651641408344,
          63.7644939151609,
          63.72338888560778,
          63.684137539944636,
          63.66513333481605,
          63.537435610120944,
          63.49863434136206,
          63.47281158437206,
          63.47370655888707,
          63.47409810160238,
          63.46619386250117,
          63.45081986545269,
          63.589072439195064,
          63.87319589934744,
          64.14119929048705,
          64.5723508367524,
          65.0200080598816,
          65.3464472965854,
          65.61052826099812,
          65.7432676487676,
          65.94237916815045,
          65.99303292096158,
          66.05415524607236,
          66.12791241298463,
          66.22807237046688,
          66.2245579782867,
          66.1979156046106
         ],
         "yaxis": "y2"
        },
        {
         "close": [
          61.126,
          61.615,
          62.833,
          62.643,
          62.553,
          62.773,
          63.331,
          63.361,
          63.771,
          64.589,
          64.25,
          64.16,
          64.579,
          65.008,
          64.888,
          65.976,
          66.006,
          65.307,
          65.547,
          65.826,
          65.946,
          66.036,
          65.956,
          65.787,
          65.647,
          64.599,
          63.98,
          64.26,
          63.85,
          64.07,
          64.87,
          65.15,
          65.83,
          65.7,
          66.36,
          66.56,
          66.6,
          66.62,
          67.54,
          66.99,
          66.91,
          66.12,
          66.44,
          66.88,
          67.25,
          67.02,
          67.32,
          67.39,
          67.71,
          67.97,
          67.49,
          68.03,
          68.02,
          68.13,
          68.37,
          68.22,
          68.25,
          68.11,
          67.47,
          66.81
         ],
         "decreasing": {
          "line": {
           "color": "#808080"
          }
         },
         "high": [
          61.595,
          61.874,
          62.892,
          63.237,
          63.022,
          63.012,
          63.446,
          63.501,
          63.801,
          64.699,
          65.048,
          64.349,
          64.679,
          65.113,
          65.547,
          66.136,
          66.286,
          66.086,
          65.737,
          65.996,
          66.166,
          66.315,
          66.226,
          66.006,
          66.136,
          65.767,
          64.769,
          64.529,
          64.489,
          64.145,
          65.07,
          65.78,
          65.87,
          65.99,
          66.38,
          66.77,
          66.86,
          66.97,
          67.6,
          67.82,
          67.37,
          66.68,
          66.585,
          66.975,
          67.53,
          67.68,
          67.55,
          68.52,
          67.83,
          68.01,
          67.93,
          68.17,
          68.44,
          68.38,
          68.67,
          68.45,
          68.64,
          68.33,
          67.98,
          67.58
         ],
         "increasing": {
          "line": {
           "color": "#17BECF"
          }
         },
         "low": [
          60.158,
          60.837,
          61.725,
          62.473,
          62.224,
          62.543,
          62.842,
          62.893,
          63.262,
          63.771,
          64.08,
          63.681,
          63.92,
          64.359,
          64.699,
          65.278,
          65.757,
          65.278,
          65.028,
          65.487,
          65.567,
          65.866,
          65.637,
          65.497,
          65.577,
          64.31,
          63.781,
          63.92,
          63.84,
          63.591,
          64.29,
          65.06,
          65.15,
          65.52,
          65.66,
          66.02,
          66.22,
          66.34,
          66.54,
          66.89,
          66.77,
          65.99,
          66.07,
          66.06,
          67.07,
          66.93,
          66.88,
          67.03,
          67.2,
          67.41,
          67.1,
          67.54,
          67.84,
          67.81,
          68.01,
          68.22,
          68.04,
          67.771,
          66.91,
          66.7
         ],
         "name": "Trace 1",
         "open": [
          60.637,
          60.966,
          61.745,
          62.593,
          62.743,
          62.932,
          62.972,
          62.912,
          63.272,
          63.87,
          64.769,
          63.89,
          64.429,
          64.719,
          65.018,
          65.367,
          66.136,
          65.777,
          65.178,
          65.547,
          65.956,
          66.116,
          66.176,
          65.747,
          65.717,
          65.667,
          64.519,
          64.14,
          64.12,
          63.87,
          64.29,
          65.06,
          65.15,
          65.85,
          65.68,
          66.49,
          66.68,
          66.68,
          66.65,
          67.63,
          67.2,
          66.68,
          66.38,
          66.44,
          67.2,
          67.45,
          67.31,
          67.9,
          67.53,
          67.8,
          67.9,
          67.54,
          68.2,
          68.08,
          68.09,
          68.22,
          68.32,
          68.1,
          67.92,
          67.35
         ],
         "showlegend": true,
         "type": "candlestick",
         "x": [
          3179,
          3180,
          3181,
          3182,
          3183,
          3184,
          3185,
          3186,
          3187,
          3188,
          3189,
          3190,
          3191,
          3192,
          3193,
          3194,
          3195,
          3196,
          3197,
          3198,
          3199,
          3200,
          3201,
          3202,
          3203,
          3204,
          3205,
          3206,
          3207,
          3208,
          3209,
          3210,
          3211,
          3212,
          3213,
          3214,
          3215,
          3216,
          3217,
          3218,
          3219,
          3220,
          3221,
          3222,
          3223,
          3224,
          3225,
          3226,
          3227,
          3228,
          3229,
          3230,
          3231,
          3232,
          3233,
          3234,
          3235,
          3236,
          3237,
          3238
         ],
         "yaxis": "y2"
        }
       ],
       "layout": {
        "legend": {
         "bgcolor": "#F5F6F9",
         "font": {
          "color": "#4D5663"
         }
        },
        "margin": {
         "b": 30,
         "l": 30,
         "r": 30,
         "t": 30
        },
        "paper_bgcolor": "#F5F6F9",
        "plot_bgcolor": "#F5F6F9",
        "showlegend": true,
        "template": {
         "data": {
          "bar": [
           {
            "error_x": {
             "color": "#2a3f5f"
            },
            "error_y": {
             "color": "#2a3f5f"
            },
            "marker": {
             "line": {
              "color": "#E5ECF6",
              "width": 0.5
             },
             "pattern": {
              "fillmode": "overlay",
              "size": 10,
              "solidity": 0.2
             }
            },
            "type": "bar"
           }
          ],
          "barpolar": [
           {
            "marker": {
             "line": {
              "color": "#E5ECF6",
              "width": 0.5
             },
             "pattern": {
              "fillmode": "overlay",
              "size": 10,
              "solidity": 0.2
             }
            },
            "type": "barpolar"
           }
          ],
          "carpet": [
           {
            "aaxis": {
             "endlinecolor": "#2a3f5f",
             "gridcolor": "white",
             "linecolor": "white",
             "minorgridcolor": "white",
             "startlinecolor": "#2a3f5f"
            },
            "baxis": {
             "endlinecolor": "#2a3f5f",
             "gridcolor": "white",
             "linecolor": "white",
             "minorgridcolor": "white",
             "startlinecolor": "#2a3f5f"
            },
            "type": "carpet"
           }
          ],
          "choropleth": [
           {
            "colorbar": {
             "outlinewidth": 0,
             "ticks": ""
            },
            "type": "choropleth"
           }
          ],
          "contour": [
           {
            "colorbar": {
             "outlinewidth": 0,
             "ticks": ""
            },
            "colorscale": [
             [
              0,
              "#0d0887"
             ],
             [
              0.1111111111111111,
              "#46039f"
             ],
             [
              0.2222222222222222,
              "#7201a8"
             ],
             [
              0.3333333333333333,
              "#9c179e"
             ],
             [
              0.4444444444444444,
              "#bd3786"
             ],
             [
              0.5555555555555556,
              "#d8576b"
             ],
             [
              0.6666666666666666,
              "#ed7953"
             ],
             [
              0.7777777777777778,
              "#fb9f3a"
             ],
             [
              0.8888888888888888,
              "#fdca26"
             ],
             [
              1,
              "#f0f921"
             ]
            ],
            "type": "contour"
           }
          ],
          "contourcarpet": [
           {
            "colorbar": {
             "outlinewidth": 0,
             "ticks": ""
            },
            "type": "contourcarpet"
           }
          ],
          "heatmap": [
           {
            "colorbar": {
             "outlinewidth": 0,
             "ticks": ""
            },
            "colorscale": [
             [
              0,
              "#0d0887"
             ],
             [
              0.1111111111111111,
              "#46039f"
             ],
             [
              0.2222222222222222,
              "#7201a8"
             ],
             [
              0.3333333333333333,
              "#9c179e"
             ],
             [
              0.4444444444444444,
              "#bd3786"
             ],
             [
              0.5555555555555556,
              "#d8576b"
             ],
             [
              0.6666666666666666,
              "#ed7953"
             ],
             [
              0.7777777777777778,
              "#fb9f3a"
             ],
             [
              0.8888888888888888,
              "#fdca26"
             ],
             [
              1,
              "#f0f921"
             ]
            ],
            "type": "heatmap"
           }
          ],
          "heatmapgl": [
           {
            "colorbar": {
             "outlinewidth": 0,
             "ticks": ""
            },
            "colorscale": [
             [
              0,
              "#0d0887"
             ],
             [
              0.1111111111111111,
              "#46039f"
             ],
             [
              0.2222222222222222,
              "#7201a8"
             ],
             [
              0.3333333333333333,
              "#9c179e"
             ],
             [
              0.4444444444444444,
              "#bd3786"
             ],
             [
              0.5555555555555556,
              "#d8576b"
             ],
             [
              0.6666666666666666,
              "#ed7953"
             ],
             [
              0.7777777777777778,
              "#fb9f3a"
             ],
             [
              0.8888888888888888,
              "#fdca26"
             ],
             [
              1,
              "#f0f921"
             ]
            ],
            "type": "heatmapgl"
           }
          ],
          "histogram": [
           {
            "marker": {
             "pattern": {
              "fillmode": "overlay",
              "size": 10,
              "solidity": 0.2
             }
            },
            "type": "histogram"
           }
          ],
          "histogram2d": [
           {
            "colorbar": {
             "outlinewidth": 0,
             "ticks": ""
            },
            "colorscale": [
             [
              0,
              "#0d0887"
             ],
             [
              0.1111111111111111,
              "#46039f"
             ],
             [
              0.2222222222222222,
              "#7201a8"
             ],
             [
              0.3333333333333333,
              "#9c179e"
             ],
             [
              0.4444444444444444,
              "#bd3786"
             ],
             [
              0.5555555555555556,
              "#d8576b"
             ],
             [
              0.6666666666666666,
              "#ed7953"
             ],
             [
              0.7777777777777778,
              "#fb9f3a"
             ],
             [
              0.8888888888888888,
              "#fdca26"
             ],
             [
              1,
              "#f0f921"
             ]
            ],
            "type": "histogram2d"
           }
          ],
          "histogram2dcontour": [
           {
            "colorbar": {
             "outlinewidth": 0,
             "ticks": ""
            },
            "colorscale": [
             [
              0,
              "#0d0887"
             ],
             [
              0.1111111111111111,
              "#46039f"
             ],
             [
              0.2222222222222222,
              "#7201a8"
             ],
             [
              0.3333333333333333,
              "#9c179e"
             ],
             [
              0.4444444444444444,
              "#bd3786"
             ],
             [
              0.5555555555555556,
              "#d8576b"
             ],
             [
              0.6666666666666666,
              "#ed7953"
             ],
             [
              0.7777777777777778,
              "#fb9f3a"
             ],
             [
              0.8888888888888888,
              "#fdca26"
             ],
             [
              1,
              "#f0f921"
             ]
            ],
            "type": "histogram2dcontour"
           }
          ],
          "mesh3d": [
           {
            "colorbar": {
             "outlinewidth": 0,
             "ticks": ""
            },
            "type": "mesh3d"
           }
          ],
          "parcoords": [
           {
            "line": {
             "colorbar": {
              "outlinewidth": 0,
              "ticks": ""
             }
            },
            "type": "parcoords"
           }
          ],
          "pie": [
           {
            "automargin": true,
            "type": "pie"
           }
          ],
          "scatter": [
           {
            "marker": {
             "colorbar": {
              "outlinewidth": 0,
              "ticks": ""
             }
            },
            "type": "scatter"
           }
          ],
          "scatter3d": [
           {
            "line": {
             "colorbar": {
              "outlinewidth": 0,
              "ticks": ""
             }
            },
            "marker": {
             "colorbar": {
              "outlinewidth": 0,
              "ticks": ""
             }
            },
            "type": "scatter3d"
           }
          ],
          "scattercarpet": [
           {
            "marker": {
             "colorbar": {
              "outlinewidth": 0,
              "ticks": ""
             }
            },
            "type": "scattercarpet"
           }
          ],
          "scattergeo": [
           {
            "marker": {
             "colorbar": {
              "outlinewidth": 0,
              "ticks": ""
             }
            },
            "type": "scattergeo"
           }
          ],
          "scattergl": [
           {
            "marker": {
             "colorbar": {
              "outlinewidth": 0,
              "ticks": ""
             }
            },
            "type": "scattergl"
           }
          ],
          "scattermapbox": [
           {
            "marker": {
             "colorbar": {
              "outlinewidth": 0,
              "ticks": ""
             }
            },
            "type": "scattermapbox"
           }
          ],
          "scatterpolar": [
           {
            "marker": {
             "colorbar": {
              "outlinewidth": 0,
              "ticks": ""
             }
            },
            "type": "scatterpolar"
           }
          ],
          "scatterpolargl": [
           {
            "marker": {
             "colorbar": {
              "outlinewidth": 0,
              "ticks": ""
             }
            },
            "type": "scatterpolargl"
           }
          ],
          "scatterternary": [
           {
            "marker": {
             "colorbar": {
              "outlinewidth": 0,
              "ticks": ""
             }
            },
            "type": "scatterternary"
           }
          ],
          "surface": [
           {
            "colorbar": {
             "outlinewidth": 0,
             "ticks": ""
            },
            "colorscale": [
             [
              0,
              "#0d0887"
             ],
             [
              0.1111111111111111,
              "#46039f"
             ],
             [
              0.2222222222222222,
              "#7201a8"
             ],
             [
              0.3333333333333333,
              "#9c179e"
             ],
             [
              0.4444444444444444,
              "#bd3786"
             ],
             [
              0.5555555555555556,
              "#d8576b"
             ],
             [
              0.6666666666666666,
              "#ed7953"
             ],
             [
              0.7777777777777778,
              "#fb9f3a"
             ],
             [
              0.8888888888888888,
              "#fdca26"
             ],
             [
              1,
              "#f0f921"
             ]
            ],
            "type": "surface"
           }
          ],
          "table": [
           {
            "cells": {
             "fill": {
              "color": "#EBF0F8"
             },
             "line": {
              "color": "white"
             }
            },
            "header": {
             "fill": {
              "color": "#C8D4E3"
             },
             "line": {
              "color": "white"
             }
            },
            "type": "table"
           }
          ]
         },
         "layout": {
          "annotationdefaults": {
           "arrowcolor": "#2a3f5f",
           "arrowhead": 0,
           "arrowwidth": 1
          },
          "autotypenumbers": "strict",
          "coloraxis": {
           "colorbar": {
            "outlinewidth": 0,
            "ticks": ""
           }
          },
          "colorscale": {
           "diverging": [
            [
             0,
             "#8e0152"
            ],
            [
             0.1,
             "#c51b7d"
            ],
            [
             0.2,
             "#de77ae"
            ],
            [
             0.3,
             "#f1b6da"
            ],
            [
             0.4,
             "#fde0ef"
            ],
            [
             0.5,
             "#f7f7f7"
            ],
            [
             0.6,
             "#e6f5d0"
            ],
            [
             0.7,
             "#b8e186"
            ],
            [
             0.8,
             "#7fbc41"
            ],
            [
             0.9,
             "#4d9221"
            ],
            [
             1,
             "#276419"
            ]
           ],
           "sequential": [
            [
             0,
             "#0d0887"
            ],
            [
             0.1111111111111111,
             "#46039f"
            ],
            [
             0.2222222222222222,
             "#7201a8"
            ],
            [
             0.3333333333333333,
             "#9c179e"
            ],
            [
             0.4444444444444444,
             "#bd3786"
            ],
            [
             0.5555555555555556,
             "#d8576b"
            ],
            [
             0.6666666666666666,
             "#ed7953"
            ],
            [
             0.7777777777777778,
             "#fb9f3a"
            ],
            [
             0.8888888888888888,
             "#fdca26"
            ],
            [
             1,
             "#f0f921"
            ]
           ],
           "sequentialminus": [
            [
             0,
             "#0d0887"
            ],
            [
             0.1111111111111111,
             "#46039f"
            ],
            [
             0.2222222222222222,
             "#7201a8"
            ],
            [
             0.3333333333333333,
             "#9c179e"
            ],
            [
             0.4444444444444444,
             "#bd3786"
            ],
            [
             0.5555555555555556,
             "#d8576b"
            ],
            [
             0.6666666666666666,
             "#ed7953"
            ],
            [
             0.7777777777777778,
             "#fb9f3a"
            ],
            [
             0.8888888888888888,
             "#fdca26"
            ],
            [
             1,
             "#f0f921"
            ]
           ]
          },
          "colorway": [
           "#636efa",
           "#EF553B",
           "#00cc96",
           "#ab63fa",
           "#FFA15A",
           "#19d3f3",
           "#FF6692",
           "#B6E880",
           "#FF97FF",
           "#FECB52"
          ],
          "font": {
           "color": "#2a3f5f"
          },
          "geo": {
           "bgcolor": "white",
           "lakecolor": "white",
           "landcolor": "#E5ECF6",
           "showlakes": true,
           "showland": true,
           "subunitcolor": "white"
          },
          "hoverlabel": {
           "align": "left"
          },
          "hovermode": "closest",
          "mapbox": {
           "style": "light"
          },
          "paper_bgcolor": "white",
          "plot_bgcolor": "#E5ECF6",
          "polar": {
           "angularaxis": {
            "gridcolor": "white",
            "linecolor": "white",
            "ticks": ""
           },
           "bgcolor": "#E5ECF6",
           "radialaxis": {
            "gridcolor": "white",
            "linecolor": "white",
            "ticks": ""
           }
          },
          "scene": {
           "xaxis": {
            "backgroundcolor": "#E5ECF6",
            "gridcolor": "white",
            "gridwidth": 2,
            "linecolor": "white",
            "showbackground": true,
            "ticks": "",
            "zerolinecolor": "white"
           },
           "yaxis": {
            "backgroundcolor": "#E5ECF6",
            "gridcolor": "white",
            "gridwidth": 2,
            "linecolor": "white",
            "showbackground": true,
            "ticks": "",
            "zerolinecolor": "white"
           },
           "zaxis": {
            "backgroundcolor": "#E5ECF6",
            "gridcolor": "white",
            "gridwidth": 2,
            "linecolor": "white",
            "showbackground": true,
            "ticks": "",
            "zerolinecolor": "white"
           }
          },
          "shapedefaults": {
           "line": {
            "color": "#2a3f5f"
           }
          },
          "ternary": {
           "aaxis": {
            "gridcolor": "white",
            "linecolor": "white",
            "ticks": ""
           },
           "baxis": {
            "gridcolor": "white",
            "linecolor": "white",
            "ticks": ""
           },
           "bgcolor": "#E5ECF6",
           "caxis": {
            "gridcolor": "white",
            "linecolor": "white",
            "ticks": ""
           }
          },
          "title": {
           "x": 0.05
          },
          "xaxis": {
           "automargin": true,
           "gridcolor": "white",
           "linecolor": "white",
           "ticks": "",
           "title": {
            "standoff": 15
           },
           "zerolinecolor": "white",
           "zerolinewidth": 2
          },
          "yaxis": {
           "automargin": true,
           "gridcolor": "white",
           "linecolor": "white",
           "ticks": "",
           "title": {
            "standoff": 15
           },
           "zerolinecolor": "white",
           "zerolinewidth": 2
          }
         }
        },
        "title": {
         "font": {
          "color": "#4D5663"
         }
        },
        "xaxis": {
         "anchor": "y2",
         "gridcolor": "#E1E5ED",
         "rangeselector": {
          "bgcolor": "rgba(150, 200, 250, 1)",
          "buttons": [
           {
            "count": 1,
            "label": "1m",
            "step": "month",
            "stepmode": "backward"
           },
           {
            "count": 1,
            "label": "1y",
            "step": "year",
            "stepmode": "backward"
           }
          ],
          "font": {
           "size": 13
          },
          "visible": false,
          "x": 0,
          "y": 0.9
         },
         "rangeslider": {
          "visible": false
         },
         "showgrid": true,
         "tickfont": {
          "color": "#4D5663"
         },
         "title": {
          "font": {
           "color": "#4D5663"
          },
          "text": ""
         },
         "zerolinecolor": "#E1E5ED"
        },
        "yaxis": {
         "gridcolor": "#E1E5ED",
         "showgrid": true,
         "showticklabels": false,
         "tickfont": {
          "color": "#4D5663"
         },
         "title": {
          "font": {
           "color": "#4D5663"
          },
          "text": ""
         },
         "zerolinecolor": "#E1E5ED"
        },
        "yaxis2": {
         "domain": [
          0,
          0.9
         ],
         "gridcolor": "#E1E5ED",
         "showgrid": true,
         "tickfont": {
          "color": "#4D5663"
         },
         "title": {
          "font": {
           "color": "#4D5663"
          },
          "text": ""
         },
         "zerolinecolor": "#E1E5ED"
        }
       }
      },
      "text/html": [
       "<div>                            <div id=\"cc1e4802-027b-4d72-9d90-0acc1986d494\" class=\"plotly-graph-div\" style=\"height:525px; width:100%;\"></div>            <script type=\"text/javascript\">                require([\"plotly\"], function(Plotly) {                    window.PLOTLYENV=window.PLOTLYENV || {};                                    if (document.getElementById(\"cc1e4802-027b-4d72-9d90-0acc1986d494\")) {                    Plotly.newPlot(                        \"cc1e4802-027b-4d72-9d90-0acc1986d494\",                        [{\"legendgroup\":\"BOLL(close,20)\",\"line\":{\"color\":\"rgba(255, 0, 255, 1.0)\",\"dash\":\"solid\",\"shape\":\"linear\",\"width\":1.3},\"mode\":\"lines\",\"name\":\"BOLL(close,20)\",\"showlegend\":true,\"text\":\"\",\"x\":[3179,3180,3181,3182,3183,3184,3185,3186,3187,3188,3189,3190,3191,3192,3193,3194,3195,3196,3197,3198,3199,3200,3201,3202,3203,3204,3205,3206,3207,3208,3209,3210,3211,3212,3213,3214,3215,3216,3217,3218,3219,3220,3221,3222,3223,3224,3225,3226,3227,3228,3229,3230,3231,3232,3233,3234,3235,3236,3237,3238],\"y\":[\"\",\"\",\"\",\"\",\"\",\"\",\"\",\"\",\"\",\"\",\"\",\"\",\"\",\"\",\"\",\"\",\"\",\"\",\"\",64.00710000000001,64.2481,64.46915,64.6253,64.7825,64.93719999999999,65.02850000000001,65.06095,65.1059,65.10985,65.0839,65.1149,65.1644,65.22695,65.26155,65.33515,65.36435,65.39405000000001,65.4597,65.55935,65.61755,65.66575,65.66995,65.69415000000001,65.7488,65.82895,65.95,66.11699999999999,66.2735,66.4665,66.6615,66.79249999999999,66.9365,67.04599999999999,67.16749999999999,67.268,67.351,67.4335,67.50800000000001,67.50450000000001,67.4955],\"yaxis\":\"y2\",\"type\":\"scatter\"},{\"legendgroup\":\"BOLL(close,20)\",\"line\":{\"color\":\"rgba(128, 128, 128, 1.0)\",\"dash\":\"solid\",\"shape\":\"linear\",\"width\":1.3},\"mode\":\"lines\",\"name\":\"UPPER(close,20)\",\"showlegend\":false,\"text\":\"\",\"x\":[3179,3180,3181,3182,3183,3184,3185,3186,3187,3188,3189,3190,3191,3192,3193,3194,3195,3196,3197,3198,3199,3200,3201,3202,3203,3204,3205,3206,3207,3208,3209,3210,3211,3212,3213,3214,3215,3216,3217,3218,3219,3220,3221,3222,3223,3224,3225,3226,3227,3228,3229,3230,3231,3232,3233,3234,3235,3236,3237,3238],\"y\":[\"\",\"\",\"\",\"\",\"\",\"\",\"\",\"\",\"\",\"\",\"\",\"\",\"\",\"\",\"\",\"\",\"\",\"\",\"\",66.89436086911383,66.91936162978037,66.94770613953814,67.06300695531684,67.0836333134601,67.01212889922573,66.84736147153423,66.77227493761569,66.67012422675874,66.66021855041157,66.68743804871735,66.67391330469326,66.65721611657122,66.7213222463049,66.76658358591655,66.9058060848391,67.00531111439221,67.10396246005537,67.25426666518395,67.58126438987904,67.73646565863793,67.85868841562795,67.86619344111293,67.91420189839764,68.03140613749883,68.20708013454733,68.31092756080494,68.36080410065254,68.40580070951295,68.36064916324759,68.3029919401184,68.23855270341458,68.26247173900187,68.34873235123239,68.39262083184953,68.54296707903842,68.64784475392764,68.73908758701536,68.78792762953314,68.78444202171332,68.79308439538941],\"yaxis\":\"y2\",\"type\":\"scatter\"},{\"fill\":\"tonexty\",\"fillcolor\":\"rgba(128, 128, 128, 0.1)\",\"legendgroup\":\"BOLL(close,20)\",\"line\":{\"color\":\"rgba(128, 128, 128, 0.8999999999999999)\",\"dash\":\"solid\",\"shape\":\"linear\",\"width\":1.3},\"mode\":\"lines\",\"name\":\"LOWER(close,20)\",\"showlegend\":false,\"text\":\"\",\"x\":[3179,3180,3181,3182,3183,3184,3185,3186,3187,3188,3189,3190,3191,3192,3193,3194,3195,3196,3197,3198,3199,3200,3201,3202,3203,3204,3205,3206,3207,3208,3209,3210,3211,3212,3213,3214,3215,3216,3217,3218,3219,3220,3221,3222,3223,3224,3225,3226,3227,3228,3229,3230,3231,3232,3233,3234,3235,3236,3237,3238],\"y\":[\"\",\"\",\"\",\"\",\"\",\"\",\"\",\"\",\"\",\"\",\"\",\"\",\"\",\"\",\"\",\"\",\"\",\"\",\"\",61.11983913088619,61.57683837021962,61.990593860461864,62.18759304468316,62.4813666865399,62.862271100774244,63.20963852846579,63.34962506238433,63.541675773241266,63.55948144958842,63.480361951282646,63.555886695306754,63.67158388342878,63.73257775369511,63.75651641408344,63.7644939151609,63.72338888560778,63.684137539944636,63.66513333481605,63.537435610120944,63.49863434136206,63.47281158437206,63.47370655888707,63.47409810160238,63.46619386250117,63.45081986545269,63.589072439195064,63.87319589934744,64.14119929048705,64.5723508367524,65.0200080598816,65.3464472965854,65.61052826099812,65.7432676487676,65.94237916815045,65.99303292096158,66.05415524607236,66.12791241298463,66.22807237046688,66.2245579782867,66.1979156046106],\"yaxis\":\"y2\",\"type\":\"scatter\"},{\"close\":[61.126,61.615,62.833,62.643,62.553,62.773,63.331,63.361,63.771,64.589,64.25,64.16,64.579,65.008,64.888,65.976,66.006,65.307,65.547,65.826,65.946,66.036,65.956,65.787,65.647,64.599,63.98,64.26,63.85,64.07,64.87,65.15,65.83,65.7,66.36,66.56,66.6,66.62,67.54,66.99,66.91,66.12,66.44,66.88,67.25,67.02,67.32,67.39,67.71,67.97,67.49,68.03,68.02,68.13,68.37,68.22,68.25,68.11,67.47,66.81],\"decreasing\":{\"line\":{\"color\":\"#808080\"}},\"high\":[61.595,61.874,62.892,63.237,63.022,63.012,63.446,63.501,63.801,64.699,65.048,64.349,64.679,65.113,65.547,66.136,66.286,66.086,65.737,65.996,66.166,66.315,66.226,66.006,66.136,65.767,64.769,64.529,64.489,64.145,65.07,65.78,65.87,65.99,66.38,66.77,66.86,66.97,67.6,67.82,67.37,66.68,66.585,66.975,67.53,67.68,67.55,68.52,67.83,68.01,67.93,68.17,68.44,68.38,68.67,68.45,68.64,68.33,67.98,67.58],\"increasing\":{\"line\":{\"color\":\"#17BECF\"}},\"low\":[60.158,60.837,61.725,62.473,62.224,62.543,62.842,62.893,63.262,63.771,64.08,63.681,63.92,64.359,64.699,65.278,65.757,65.278,65.028,65.487,65.567,65.866,65.637,65.497,65.577,64.31,63.781,63.92,63.84,63.591,64.29,65.06,65.15,65.52,65.66,66.02,66.22,66.34,66.54,66.89,66.77,65.99,66.07,66.06,67.07,66.93,66.88,67.03,67.2,67.41,67.1,67.54,67.84,67.81,68.01,68.22,68.04,67.771,66.91,66.7],\"name\":\"Trace 1\",\"open\":[60.637,60.966,61.745,62.593,62.743,62.932,62.972,62.912,63.272,63.87,64.769,63.89,64.429,64.719,65.018,65.367,66.136,65.777,65.178,65.547,65.956,66.116,66.176,65.747,65.717,65.667,64.519,64.14,64.12,63.87,64.29,65.06,65.15,65.85,65.68,66.49,66.68,66.68,66.65,67.63,67.2,66.68,66.38,66.44,67.2,67.45,67.31,67.9,67.53,67.8,67.9,67.54,68.2,68.08,68.09,68.22,68.32,68.1,67.92,67.35],\"showlegend\":true,\"x\":[3179,3180,3181,3182,3183,3184,3185,3186,3187,3188,3189,3190,3191,3192,3193,3194,3195,3196,3197,3198,3199,3200,3201,3202,3203,3204,3205,3206,3207,3208,3209,3210,3211,3212,3213,3214,3215,3216,3217,3218,3219,3220,3221,3222,3223,3224,3225,3226,3227,3228,3229,3230,3231,3232,3233,3234,3235,3236,3237,3238],\"yaxis\":\"y2\",\"type\":\"candlestick\"}],                        {\"legend\":{\"bgcolor\":\"#F5F6F9\",\"font\":{\"color\":\"#4D5663\"}},\"margin\":{\"b\":30,\"l\":30,\"r\":30,\"t\":30},\"paper_bgcolor\":\"#F5F6F9\",\"plot_bgcolor\":\"#F5F6F9\",\"showlegend\":true,\"template\":{\"data\":{\"barpolar\":[{\"marker\":{\"line\":{\"color\":\"#E5ECF6\",\"width\":0.5},\"pattern\":{\"fillmode\":\"overlay\",\"size\":10,\"solidity\":0.2}},\"type\":\"barpolar\"}],\"bar\":[{\"error_x\":{\"color\":\"#2a3f5f\"},\"error_y\":{\"color\":\"#2a3f5f\"},\"marker\":{\"line\":{\"color\":\"#E5ECF6\",\"width\":0.5},\"pattern\":{\"fillmode\":\"overlay\",\"size\":10,\"solidity\":0.2}},\"type\":\"bar\"}],\"carpet\":[{\"aaxis\":{\"endlinecolor\":\"#2a3f5f\",\"gridcolor\":\"white\",\"linecolor\":\"white\",\"minorgridcolor\":\"white\",\"startlinecolor\":\"#2a3f5f\"},\"baxis\":{\"endlinecolor\":\"#2a3f5f\",\"gridcolor\":\"white\",\"linecolor\":\"white\",\"minorgridcolor\":\"white\",\"startlinecolor\":\"#2a3f5f\"},\"type\":\"carpet\"}],\"choropleth\":[{\"colorbar\":{\"outlinewidth\":0,\"ticks\":\"\"},\"type\":\"choropleth\"}],\"contourcarpet\":[{\"colorbar\":{\"outlinewidth\":0,\"ticks\":\"\"},\"type\":\"contourcarpet\"}],\"contour\":[{\"colorbar\":{\"outlinewidth\":0,\"ticks\":\"\"},\"colorscale\":[[0.0,\"#0d0887\"],[0.1111111111111111,\"#46039f\"],[0.2222222222222222,\"#7201a8\"],[0.3333333333333333,\"#9c179e\"],[0.4444444444444444,\"#bd3786\"],[0.5555555555555556,\"#d8576b\"],[0.6666666666666666,\"#ed7953\"],[0.7777777777777778,\"#fb9f3a\"],[0.8888888888888888,\"#fdca26\"],[1.0,\"#f0f921\"]],\"type\":\"contour\"}],\"heatmapgl\":[{\"colorbar\":{\"outlinewidth\":0,\"ticks\":\"\"},\"colorscale\":[[0.0,\"#0d0887\"],[0.1111111111111111,\"#46039f\"],[0.2222222222222222,\"#7201a8\"],[0.3333333333333333,\"#9c179e\"],[0.4444444444444444,\"#bd3786\"],[0.5555555555555556,\"#d8576b\"],[0.6666666666666666,\"#ed7953\"],[0.7777777777777778,\"#fb9f3a\"],[0.8888888888888888,\"#fdca26\"],[1.0,\"#f0f921\"]],\"type\":\"heatmapgl\"}],\"heatmap\":[{\"colorbar\":{\"outlinewidth\":0,\"ticks\":\"\"},\"colorscale\":[[0.0,\"#0d0887\"],[0.1111111111111111,\"#46039f\"],[0.2222222222222222,\"#7201a8\"],[0.3333333333333333,\"#9c179e\"],[0.4444444444444444,\"#bd3786\"],[0.5555555555555556,\"#d8576b\"],[0.6666666666666666,\"#ed7953\"],[0.7777777777777778,\"#fb9f3a\"],[0.8888888888888888,\"#fdca26\"],[1.0,\"#f0f921\"]],\"type\":\"heatmap\"}],\"histogram2dcontour\":[{\"colorbar\":{\"outlinewidth\":0,\"ticks\":\"\"},\"colorscale\":[[0.0,\"#0d0887\"],[0.1111111111111111,\"#46039f\"],[0.2222222222222222,\"#7201a8\"],[0.3333333333333333,\"#9c179e\"],[0.4444444444444444,\"#bd3786\"],[0.5555555555555556,\"#d8576b\"],[0.6666666666666666,\"#ed7953\"],[0.7777777777777778,\"#fb9f3a\"],[0.8888888888888888,\"#fdca26\"],[1.0,\"#f0f921\"]],\"type\":\"histogram2dcontour\"}],\"histogram2d\":[{\"colorbar\":{\"outlinewidth\":0,\"ticks\":\"\"},\"colorscale\":[[0.0,\"#0d0887\"],[0.1111111111111111,\"#46039f\"],[0.2222222222222222,\"#7201a8\"],[0.3333333333333333,\"#9c179e\"],[0.4444444444444444,\"#bd3786\"],[0.5555555555555556,\"#d8576b\"],[0.6666666666666666,\"#ed7953\"],[0.7777777777777778,\"#fb9f3a\"],[0.8888888888888888,\"#fdca26\"],[1.0,\"#f0f921\"]],\"type\":\"histogram2d\"}],\"histogram\":[{\"marker\":{\"pattern\":{\"fillmode\":\"overlay\",\"size\":10,\"solidity\":0.2}},\"type\":\"histogram\"}],\"mesh3d\":[{\"colorbar\":{\"outlinewidth\":0,\"ticks\":\"\"},\"type\":\"mesh3d\"}],\"parcoords\":[{\"line\":{\"colorbar\":{\"outlinewidth\":0,\"ticks\":\"\"}},\"type\":\"parcoords\"}],\"pie\":[{\"automargin\":true,\"type\":\"pie\"}],\"scatter3d\":[{\"line\":{\"colorbar\":{\"outlinewidth\":0,\"ticks\":\"\"}},\"marker\":{\"colorbar\":{\"outlinewidth\":0,\"ticks\":\"\"}},\"type\":\"scatter3d\"}],\"scattercarpet\":[{\"marker\":{\"colorbar\":{\"outlinewidth\":0,\"ticks\":\"\"}},\"type\":\"scattercarpet\"}],\"scattergeo\":[{\"marker\":{\"colorbar\":{\"outlinewidth\":0,\"ticks\":\"\"}},\"type\":\"scattergeo\"}],\"scattergl\":[{\"marker\":{\"colorbar\":{\"outlinewidth\":0,\"ticks\":\"\"}},\"type\":\"scattergl\"}],\"scattermapbox\":[{\"marker\":{\"colorbar\":{\"outlinewidth\":0,\"ticks\":\"\"}},\"type\":\"scattermapbox\"}],\"scatterpolargl\":[{\"marker\":{\"colorbar\":{\"outlinewidth\":0,\"ticks\":\"\"}},\"type\":\"scatterpolargl\"}],\"scatterpolar\":[{\"marker\":{\"colorbar\":{\"outlinewidth\":0,\"ticks\":\"\"}},\"type\":\"scatterpolar\"}],\"scatter\":[{\"marker\":{\"colorbar\":{\"outlinewidth\":0,\"ticks\":\"\"}},\"type\":\"scatter\"}],\"scatterternary\":[{\"marker\":{\"colorbar\":{\"outlinewidth\":0,\"ticks\":\"\"}},\"type\":\"scatterternary\"}],\"surface\":[{\"colorbar\":{\"outlinewidth\":0,\"ticks\":\"\"},\"colorscale\":[[0.0,\"#0d0887\"],[0.1111111111111111,\"#46039f\"],[0.2222222222222222,\"#7201a8\"],[0.3333333333333333,\"#9c179e\"],[0.4444444444444444,\"#bd3786\"],[0.5555555555555556,\"#d8576b\"],[0.6666666666666666,\"#ed7953\"],[0.7777777777777778,\"#fb9f3a\"],[0.8888888888888888,\"#fdca26\"],[1.0,\"#f0f921\"]],\"type\":\"surface\"}],\"table\":[{\"cells\":{\"fill\":{\"color\":\"#EBF0F8\"},\"line\":{\"color\":\"white\"}},\"header\":{\"fill\":{\"color\":\"#C8D4E3\"},\"line\":{\"color\":\"white\"}},\"type\":\"table\"}]},\"layout\":{\"annotationdefaults\":{\"arrowcolor\":\"#2a3f5f\",\"arrowhead\":0,\"arrowwidth\":1},\"autotypenumbers\":\"strict\",\"coloraxis\":{\"colorbar\":{\"outlinewidth\":0,\"ticks\":\"\"}},\"colorscale\":{\"diverging\":[[0,\"#8e0152\"],[0.1,\"#c51b7d\"],[0.2,\"#de77ae\"],[0.3,\"#f1b6da\"],[0.4,\"#fde0ef\"],[0.5,\"#f7f7f7\"],[0.6,\"#e6f5d0\"],[0.7,\"#b8e186\"],[0.8,\"#7fbc41\"],[0.9,\"#4d9221\"],[1,\"#276419\"]],\"sequential\":[[0.0,\"#0d0887\"],[0.1111111111111111,\"#46039f\"],[0.2222222222222222,\"#7201a8\"],[0.3333333333333333,\"#9c179e\"],[0.4444444444444444,\"#bd3786\"],[0.5555555555555556,\"#d8576b\"],[0.6666666666666666,\"#ed7953\"],[0.7777777777777778,\"#fb9f3a\"],[0.8888888888888888,\"#fdca26\"],[1.0,\"#f0f921\"]],\"sequentialminus\":[[0.0,\"#0d0887\"],[0.1111111111111111,\"#46039f\"],[0.2222222222222222,\"#7201a8\"],[0.3333333333333333,\"#9c179e\"],[0.4444444444444444,\"#bd3786\"],[0.5555555555555556,\"#d8576b\"],[0.6666666666666666,\"#ed7953\"],[0.7777777777777778,\"#fb9f3a\"],[0.8888888888888888,\"#fdca26\"],[1.0,\"#f0f921\"]]},\"colorway\":[\"#636efa\",\"#EF553B\",\"#00cc96\",\"#ab63fa\",\"#FFA15A\",\"#19d3f3\",\"#FF6692\",\"#B6E880\",\"#FF97FF\",\"#FECB52\"],\"font\":{\"color\":\"#2a3f5f\"},\"geo\":{\"bgcolor\":\"white\",\"lakecolor\":\"white\",\"landcolor\":\"#E5ECF6\",\"showlakes\":true,\"showland\":true,\"subunitcolor\":\"white\"},\"hoverlabel\":{\"align\":\"left\"},\"hovermode\":\"closest\",\"mapbox\":{\"style\":\"light\"},\"paper_bgcolor\":\"white\",\"plot_bgcolor\":\"#E5ECF6\",\"polar\":{\"angularaxis\":{\"gridcolor\":\"white\",\"linecolor\":\"white\",\"ticks\":\"\"},\"bgcolor\":\"#E5ECF6\",\"radialaxis\":{\"gridcolor\":\"white\",\"linecolor\":\"white\",\"ticks\":\"\"}},\"scene\":{\"xaxis\":{\"backgroundcolor\":\"#E5ECF6\",\"gridcolor\":\"white\",\"gridwidth\":2,\"linecolor\":\"white\",\"showbackground\":true,\"ticks\":\"\",\"zerolinecolor\":\"white\"},\"yaxis\":{\"backgroundcolor\":\"#E5ECF6\",\"gridcolor\":\"white\",\"gridwidth\":2,\"linecolor\":\"white\",\"showbackground\":true,\"ticks\":\"\",\"zerolinecolor\":\"white\"},\"zaxis\":{\"backgroundcolor\":\"#E5ECF6\",\"gridcolor\":\"white\",\"gridwidth\":2,\"linecolor\":\"white\",\"showbackground\":true,\"ticks\":\"\",\"zerolinecolor\":\"white\"}},\"shapedefaults\":{\"line\":{\"color\":\"#2a3f5f\"}},\"ternary\":{\"aaxis\":{\"gridcolor\":\"white\",\"linecolor\":\"white\",\"ticks\":\"\"},\"baxis\":{\"gridcolor\":\"white\",\"linecolor\":\"white\",\"ticks\":\"\"},\"bgcolor\":\"#E5ECF6\",\"caxis\":{\"gridcolor\":\"white\",\"linecolor\":\"white\",\"ticks\":\"\"}},\"title\":{\"x\":0.05},\"xaxis\":{\"automargin\":true,\"gridcolor\":\"white\",\"linecolor\":\"white\",\"ticks\":\"\",\"title\":{\"standoff\":15},\"zerolinecolor\":\"white\",\"zerolinewidth\":2},\"yaxis\":{\"automargin\":true,\"gridcolor\":\"white\",\"linecolor\":\"white\",\"ticks\":\"\",\"title\":{\"standoff\":15},\"zerolinecolor\":\"white\",\"zerolinewidth\":2}}},\"title\":{\"font\":{\"color\":\"#4D5663\"}},\"xaxis\":{\"anchor\":\"y2\",\"gridcolor\":\"#E1E5ED\",\"rangeselector\":{\"bgcolor\":\"rgba(150, 200, 250, 1)\",\"buttons\":[{\"count\":1,\"label\":\"1m\",\"step\":\"month\",\"stepmode\":\"backward\"},{\"count\":1,\"label\":\"1y\",\"step\":\"year\",\"stepmode\":\"backward\"}],\"font\":{\"size\":13},\"visible\":false,\"x\":0,\"y\":0.9},\"rangeslider\":{\"visible\":false},\"showgrid\":true,\"tickfont\":{\"color\":\"#4D5663\"},\"title\":{\"font\":{\"color\":\"#4D5663\"},\"text\":\"\"},\"zerolinecolor\":\"#E1E5ED\"},\"yaxis\":{\"gridcolor\":\"#E1E5ED\",\"showgrid\":true,\"showticklabels\":false,\"tickfont\":{\"color\":\"#4D5663\"},\"title\":{\"font\":{\"color\":\"#4D5663\"},\"text\":\"\"},\"zerolinecolor\":\"#E1E5ED\"},\"yaxis2\":{\"domain\":[0.0,0.9],\"gridcolor\":\"#E1E5ED\",\"showgrid\":true,\"tickfont\":{\"color\":\"#4D5663\"},\"title\":{\"font\":{\"color\":\"#4D5663\"},\"text\":\"\"},\"zerolinecolor\":\"#E1E5ED\"}},                        {\"responsive\": true}                    ).then(function(){\n",
       "                            \n",
       "var gd = document.getElementById('cc1e4802-027b-4d72-9d90-0acc1986d494');\n",
       "var x = new MutationObserver(function (mutations, observer) {{\n",
       "        var display = window.getComputedStyle(gd).display;\n",
       "        if (!display || display === 'none') {{\n",
       "            console.log([gd, 'removed!']);\n",
       "            Plotly.purge(gd);\n",
       "            observer.disconnect();\n",
       "        }}\n",
       "}});\n",
       "\n",
       "// Listen for the removal of the full notebook cells\n",
       "var notebookContainer = gd.closest('#notebook-container');\n",
       "if (notebookContainer) {{\n",
       "    x.observe(notebookContainer, {childList: true});\n",
       "}}\n",
       "\n",
       "// Listen for the clearing of the current output cell\n",
       "var outputEl = gd.closest('.output');\n",
       "if (outputEl) {{\n",
       "    x.observe(outputEl, {childList: true});\n",
       "}}\n",
       "\n",
       "                        }).then(function(){\n",
       "                            function downloadimage(format, height, width, filename) {var p = document.getElementById('cc1e4802-027b-4d72-9d90-0acc1986d494');Plotly.downloadImage(p, {format: format, height: height, width: width, filename: filename});};if(document.readyState == 'complete') {downloadimage('png', 600, 800, 'qf_04');}\n",
       "                        })                };                });            </script>        </div>"
      ]
     },
     "metadata": {},
     "output_type": "display_data"
    }
   ],
   "source": [
    "qf=cf.QuantFig(tickers.get_group('a')[-60:])\n",
    "\n",
    "\n",
    "qf.add_bollinger_bands(periods=20,boll_std=2,colors=['magenta','grey'],fill=True)\n",
    "plyo.iplot(qf.iplot(asFigure=True),image='png',\n",
    "          filename='qf_04')"
   ]
  },
  {
   "cell_type": "code",
   "execution_count": 15,
   "metadata": {},
   "outputs": [
    {
     "data": {
      "application/vnd.plotly.v1+json": {
       "config": {
        "linkText": "Export to plot.ly",
        "plotlyServerURL": "https://plot.ly",
        "showLink": false
       },
       "data": [
        {
         "legendgroup": " CCI(14)",
         "line": {
          "color": "rgba(55, 128, 191, 1.0)",
          "dash": "solid",
          "shape": "linear",
          "width": 1.3
         },
         "mode": "lines",
         "name": " CCI(14)",
         "showlegend": true,
         "text": "",
         "type": "scatter",
         "x": [
          3179,
          3180,
          3181,
          3182,
          3183,
          3184,
          3185,
          3186,
          3187,
          3188,
          3189,
          3190,
          3191,
          3192,
          3193,
          3194,
          3195,
          3196,
          3197,
          3198,
          3199,
          3200,
          3201,
          3202,
          3203,
          3204,
          3205,
          3206,
          3207,
          3208,
          3209,
          3210,
          3211,
          3212,
          3213,
          3214,
          3215,
          3216,
          3217,
          3218,
          3219,
          3220,
          3221,
          3222,
          3223,
          3224,
          3225,
          3226,
          3227,
          3228,
          3229,
          3230,
          3231,
          3232,
          3233,
          3234,
          3235,
          3236,
          3237,
          3238
         ],
         "y": [
          "",
          "",
          "",
          "",
          "",
          "",
          "",
          "",
          "",
          "",
          "",
          "",
          "",
          117.33473242392361,
          116.48963765939374,
          150.00590839264447,
          143.14192467142996,
          96.14086942689087,
          77.04059026373018,
          89.93959758390362,
          88.59698979054946,
          93.41140691314315,
          72.02053340815654,
          46.999129264625346,
          44.2413460624419,
          -97.51801441152938,
          -198.10094952523585,
          -162.9647305875038,
          -148.11487806175322,
          -123.86380719346252,
          -39.62230105718336,
          17.841458925002964,
          43.61269114040487,
          55.41169789892073,
          89.72681971881048,
          113.12746066779326,
          113.23439009396607,
          107.51840599939841,
          130.49427056610304,
          110.68947330132453,
          84.82947863582885,
          25.77582633924014,
          25.275474677864477,
          42.86768322676021,
          114.01590457256437,
          93.1809938338769,
          85.21046643913444,
          127.67584097859225,
          103.88832372555572,
          123.44594594594574,
          67.92879680895307,
          128.65311703648612,
          132.15574548907858,
          108.87434994128444,
          120.49946581196681,
          105.51662442224469,
          96.69078630004864,
          48.756355014475616,
          -74.32027023834733,
          -150.02843946943136
         ],
         "yaxis": "y3"
        },
        {
         "legendgroup": " CCI(14)",
         "line": {
          "color": "grey",
          "width": 1
         },
         "mode": "lines",
         "name": "",
         "showlegend": true,
         "text": "",
         "type": "scatter",
         "x": [
          3179,
          3180,
          3181,
          3182,
          3183,
          3184,
          3185,
          3186,
          3187,
          3188,
          3189,
          3190,
          3191,
          3192,
          3193,
          3194,
          3195,
          3196,
          3197,
          3198,
          3199,
          3200,
          3201,
          3202,
          3203,
          3204,
          3205,
          3206,
          3207,
          3208,
          3209,
          3210,
          3211,
          3212,
          3213,
          3214,
          3215,
          3216,
          3217,
          3218,
          3219,
          3220,
          3221,
          3222,
          3223,
          3224,
          3225,
          3226,
          3227,
          3228,
          3229,
          3230,
          3231,
          3232,
          3233,
          3234,
          3235,
          3236,
          3237,
          3238
         ],
         "y": [
          -100,
          -100,
          -100,
          -100,
          -100,
          -100,
          -100,
          -100,
          -100,
          -100,
          -100,
          -100,
          -100,
          -100,
          -100,
          -100,
          -100,
          -100,
          -100,
          -100,
          -100,
          -100,
          -100,
          -100,
          -100,
          -100,
          -100,
          -100,
          -100,
          -100,
          -100,
          -100,
          -100,
          -100,
          -100,
          -100,
          -100,
          -100,
          -100,
          -100,
          -100,
          -100,
          -100,
          -100,
          -100,
          -100,
          -100,
          -100,
          -100,
          -100,
          -100,
          -100,
          -100,
          -100,
          -100,
          -100,
          -100,
          -100,
          -100,
          -100
         ],
         "yaxis": "y3"
        },
        {
         "legendgroup": " CCI(14)",
         "line": {
          "color": "#17BECF",
          "width": 1
         },
         "mode": "lines",
         "name": "",
         "showlegend": true,
         "text": "",
         "type": "scatter",
         "x": [
          3179,
          3180,
          3181,
          3182,
          3183,
          3184,
          3185,
          3186,
          3187,
          3188,
          3189,
          3190,
          3191,
          3192,
          3193,
          3194,
          3195,
          3196,
          3197,
          3198,
          3199,
          3200,
          3201,
          3202,
          3203,
          3204,
          3205,
          3206,
          3207,
          3208,
          3209,
          3210,
          3211,
          3212,
          3213,
          3214,
          3215,
          3216,
          3217,
          3218,
          3219,
          3220,
          3221,
          3222,
          3223,
          3224,
          3225,
          3226,
          3227,
          3228,
          3229,
          3230,
          3231,
          3232,
          3233,
          3234,
          3235,
          3236,
          3237,
          3238
         ],
         "y": [
          100,
          100,
          100,
          100,
          100,
          100,
          100,
          100,
          100,
          100,
          100,
          100,
          100,
          100,
          100,
          100,
          100,
          100,
          100,
          100,
          100,
          100,
          100,
          100,
          100,
          100,
          100,
          100,
          100,
          100,
          100,
          100,
          100,
          100,
          100,
          100,
          100,
          100,
          100,
          100,
          100,
          100,
          100,
          100,
          100,
          100,
          100,
          100,
          100,
          100,
          100,
          100,
          100,
          100,
          100,
          100,
          100,
          100,
          100,
          100
         ],
         "yaxis": "y3"
        },
        {
         "close": [
          61.126,
          61.615,
          62.833,
          62.643,
          62.553,
          62.773,
          63.331,
          63.361,
          63.771,
          64.589,
          64.25,
          64.16,
          64.579,
          65.008,
          64.888,
          65.976,
          66.006,
          65.307,
          65.547,
          65.826,
          65.946,
          66.036,
          65.956,
          65.787,
          65.647,
          64.599,
          63.98,
          64.26,
          63.85,
          64.07,
          64.87,
          65.15,
          65.83,
          65.7,
          66.36,
          66.56,
          66.6,
          66.62,
          67.54,
          66.99,
          66.91,
          66.12,
          66.44,
          66.88,
          67.25,
          67.02,
          67.32,
          67.39,
          67.71,
          67.97,
          67.49,
          68.03,
          68.02,
          68.13,
          68.37,
          68.22,
          68.25,
          68.11,
          67.47,
          66.81
         ],
         "decreasing": {
          "line": {
           "color": "#808080"
          }
         },
         "high": [
          61.595,
          61.874,
          62.892,
          63.237,
          63.022,
          63.012,
          63.446,
          63.501,
          63.801,
          64.699,
          65.048,
          64.349,
          64.679,
          65.113,
          65.547,
          66.136,
          66.286,
          66.086,
          65.737,
          65.996,
          66.166,
          66.315,
          66.226,
          66.006,
          66.136,
          65.767,
          64.769,
          64.529,
          64.489,
          64.145,
          65.07,
          65.78,
          65.87,
          65.99,
          66.38,
          66.77,
          66.86,
          66.97,
          67.6,
          67.82,
          67.37,
          66.68,
          66.585,
          66.975,
          67.53,
          67.68,
          67.55,
          68.52,
          67.83,
          68.01,
          67.93,
          68.17,
          68.44,
          68.38,
          68.67,
          68.45,
          68.64,
          68.33,
          67.98,
          67.58
         ],
         "increasing": {
          "line": {
           "color": "#17BECF"
          }
         },
         "low": [
          60.158,
          60.837,
          61.725,
          62.473,
          62.224,
          62.543,
          62.842,
          62.893,
          63.262,
          63.771,
          64.08,
          63.681,
          63.92,
          64.359,
          64.699,
          65.278,
          65.757,
          65.278,
          65.028,
          65.487,
          65.567,
          65.866,
          65.637,
          65.497,
          65.577,
          64.31,
          63.781,
          63.92,
          63.84,
          63.591,
          64.29,
          65.06,
          65.15,
          65.52,
          65.66,
          66.02,
          66.22,
          66.34,
          66.54,
          66.89,
          66.77,
          65.99,
          66.07,
          66.06,
          67.07,
          66.93,
          66.88,
          67.03,
          67.2,
          67.41,
          67.1,
          67.54,
          67.84,
          67.81,
          68.01,
          68.22,
          68.04,
          67.771,
          66.91,
          66.7
         ],
         "name": "Trace 1",
         "open": [
          60.637,
          60.966,
          61.745,
          62.593,
          62.743,
          62.932,
          62.972,
          62.912,
          63.272,
          63.87,
          64.769,
          63.89,
          64.429,
          64.719,
          65.018,
          65.367,
          66.136,
          65.777,
          65.178,
          65.547,
          65.956,
          66.116,
          66.176,
          65.747,
          65.717,
          65.667,
          64.519,
          64.14,
          64.12,
          63.87,
          64.29,
          65.06,
          65.15,
          65.85,
          65.68,
          66.49,
          66.68,
          66.68,
          66.65,
          67.63,
          67.2,
          66.68,
          66.38,
          66.44,
          67.2,
          67.45,
          67.31,
          67.9,
          67.53,
          67.8,
          67.9,
          67.54,
          68.2,
          68.08,
          68.09,
          68.22,
          68.32,
          68.1,
          67.92,
          67.35
         ],
         "showlegend": true,
         "type": "candlestick",
         "x": [
          3179,
          3180,
          3181,
          3182,
          3183,
          3184,
          3185,
          3186,
          3187,
          3188,
          3189,
          3190,
          3191,
          3192,
          3193,
          3194,
          3195,
          3196,
          3197,
          3198,
          3199,
          3200,
          3201,
          3202,
          3203,
          3204,
          3205,
          3206,
          3207,
          3208,
          3209,
          3210,
          3211,
          3212,
          3213,
          3214,
          3215,
          3216,
          3217,
          3218,
          3219,
          3220,
          3221,
          3222,
          3223,
          3224,
          3225,
          3226,
          3227,
          3228,
          3229,
          3230,
          3231,
          3232,
          3233,
          3234,
          3235,
          3236,
          3237,
          3238
         ],
         "yaxis": "y2"
        }
       ],
       "layout": {
        "legend": {
         "bgcolor": "#F5F6F9",
         "font": {
          "color": "#4D5663"
         }
        },
        "margin": {
         "b": 30,
         "l": 30,
         "r": 30,
         "t": 30
        },
        "paper_bgcolor": "#F5F6F9",
        "plot_bgcolor": "#F5F6F9",
        "showlegend": true,
        "template": {
         "data": {
          "bar": [
           {
            "error_x": {
             "color": "#2a3f5f"
            },
            "error_y": {
             "color": "#2a3f5f"
            },
            "marker": {
             "line": {
              "color": "#E5ECF6",
              "width": 0.5
             },
             "pattern": {
              "fillmode": "overlay",
              "size": 10,
              "solidity": 0.2
             }
            },
            "type": "bar"
           }
          ],
          "barpolar": [
           {
            "marker": {
             "line": {
              "color": "#E5ECF6",
              "width": 0.5
             },
             "pattern": {
              "fillmode": "overlay",
              "size": 10,
              "solidity": 0.2
             }
            },
            "type": "barpolar"
           }
          ],
          "carpet": [
           {
            "aaxis": {
             "endlinecolor": "#2a3f5f",
             "gridcolor": "white",
             "linecolor": "white",
             "minorgridcolor": "white",
             "startlinecolor": "#2a3f5f"
            },
            "baxis": {
             "endlinecolor": "#2a3f5f",
             "gridcolor": "white",
             "linecolor": "white",
             "minorgridcolor": "white",
             "startlinecolor": "#2a3f5f"
            },
            "type": "carpet"
           }
          ],
          "choropleth": [
           {
            "colorbar": {
             "outlinewidth": 0,
             "ticks": ""
            },
            "type": "choropleth"
           }
          ],
          "contour": [
           {
            "colorbar": {
             "outlinewidth": 0,
             "ticks": ""
            },
            "colorscale": [
             [
              0,
              "#0d0887"
             ],
             [
              0.1111111111111111,
              "#46039f"
             ],
             [
              0.2222222222222222,
              "#7201a8"
             ],
             [
              0.3333333333333333,
              "#9c179e"
             ],
             [
              0.4444444444444444,
              "#bd3786"
             ],
             [
              0.5555555555555556,
              "#d8576b"
             ],
             [
              0.6666666666666666,
              "#ed7953"
             ],
             [
              0.7777777777777778,
              "#fb9f3a"
             ],
             [
              0.8888888888888888,
              "#fdca26"
             ],
             [
              1,
              "#f0f921"
             ]
            ],
            "type": "contour"
           }
          ],
          "contourcarpet": [
           {
            "colorbar": {
             "outlinewidth": 0,
             "ticks": ""
            },
            "type": "contourcarpet"
           }
          ],
          "heatmap": [
           {
            "colorbar": {
             "outlinewidth": 0,
             "ticks": ""
            },
            "colorscale": [
             [
              0,
              "#0d0887"
             ],
             [
              0.1111111111111111,
              "#46039f"
             ],
             [
              0.2222222222222222,
              "#7201a8"
             ],
             [
              0.3333333333333333,
              "#9c179e"
             ],
             [
              0.4444444444444444,
              "#bd3786"
             ],
             [
              0.5555555555555556,
              "#d8576b"
             ],
             [
              0.6666666666666666,
              "#ed7953"
             ],
             [
              0.7777777777777778,
              "#fb9f3a"
             ],
             [
              0.8888888888888888,
              "#fdca26"
             ],
             [
              1,
              "#f0f921"
             ]
            ],
            "type": "heatmap"
           }
          ],
          "heatmapgl": [
           {
            "colorbar": {
             "outlinewidth": 0,
             "ticks": ""
            },
            "colorscale": [
             [
              0,
              "#0d0887"
             ],
             [
              0.1111111111111111,
              "#46039f"
             ],
             [
              0.2222222222222222,
              "#7201a8"
             ],
             [
              0.3333333333333333,
              "#9c179e"
             ],
             [
              0.4444444444444444,
              "#bd3786"
             ],
             [
              0.5555555555555556,
              "#d8576b"
             ],
             [
              0.6666666666666666,
              "#ed7953"
             ],
             [
              0.7777777777777778,
              "#fb9f3a"
             ],
             [
              0.8888888888888888,
              "#fdca26"
             ],
             [
              1,
              "#f0f921"
             ]
            ],
            "type": "heatmapgl"
           }
          ],
          "histogram": [
           {
            "marker": {
             "pattern": {
              "fillmode": "overlay",
              "size": 10,
              "solidity": 0.2
             }
            },
            "type": "histogram"
           }
          ],
          "histogram2d": [
           {
            "colorbar": {
             "outlinewidth": 0,
             "ticks": ""
            },
            "colorscale": [
             [
              0,
              "#0d0887"
             ],
             [
              0.1111111111111111,
              "#46039f"
             ],
             [
              0.2222222222222222,
              "#7201a8"
             ],
             [
              0.3333333333333333,
              "#9c179e"
             ],
             [
              0.4444444444444444,
              "#bd3786"
             ],
             [
              0.5555555555555556,
              "#d8576b"
             ],
             [
              0.6666666666666666,
              "#ed7953"
             ],
             [
              0.7777777777777778,
              "#fb9f3a"
             ],
             [
              0.8888888888888888,
              "#fdca26"
             ],
             [
              1,
              "#f0f921"
             ]
            ],
            "type": "histogram2d"
           }
          ],
          "histogram2dcontour": [
           {
            "colorbar": {
             "outlinewidth": 0,
             "ticks": ""
            },
            "colorscale": [
             [
              0,
              "#0d0887"
             ],
             [
              0.1111111111111111,
              "#46039f"
             ],
             [
              0.2222222222222222,
              "#7201a8"
             ],
             [
              0.3333333333333333,
              "#9c179e"
             ],
             [
              0.4444444444444444,
              "#bd3786"
             ],
             [
              0.5555555555555556,
              "#d8576b"
             ],
             [
              0.6666666666666666,
              "#ed7953"
             ],
             [
              0.7777777777777778,
              "#fb9f3a"
             ],
             [
              0.8888888888888888,
              "#fdca26"
             ],
             [
              1,
              "#f0f921"
             ]
            ],
            "type": "histogram2dcontour"
           }
          ],
          "mesh3d": [
           {
            "colorbar": {
             "outlinewidth": 0,
             "ticks": ""
            },
            "type": "mesh3d"
           }
          ],
          "parcoords": [
           {
            "line": {
             "colorbar": {
              "outlinewidth": 0,
              "ticks": ""
             }
            },
            "type": "parcoords"
           }
          ],
          "pie": [
           {
            "automargin": true,
            "type": "pie"
           }
          ],
          "scatter": [
           {
            "marker": {
             "colorbar": {
              "outlinewidth": 0,
              "ticks": ""
             }
            },
            "type": "scatter"
           }
          ],
          "scatter3d": [
           {
            "line": {
             "colorbar": {
              "outlinewidth": 0,
              "ticks": ""
             }
            },
            "marker": {
             "colorbar": {
              "outlinewidth": 0,
              "ticks": ""
             }
            },
            "type": "scatter3d"
           }
          ],
          "scattercarpet": [
           {
            "marker": {
             "colorbar": {
              "outlinewidth": 0,
              "ticks": ""
             }
            },
            "type": "scattercarpet"
           }
          ],
          "scattergeo": [
           {
            "marker": {
             "colorbar": {
              "outlinewidth": 0,
              "ticks": ""
             }
            },
            "type": "scattergeo"
           }
          ],
          "scattergl": [
           {
            "marker": {
             "colorbar": {
              "outlinewidth": 0,
              "ticks": ""
             }
            },
            "type": "scattergl"
           }
          ],
          "scattermapbox": [
           {
            "marker": {
             "colorbar": {
              "outlinewidth": 0,
              "ticks": ""
             }
            },
            "type": "scattermapbox"
           }
          ],
          "scatterpolar": [
           {
            "marker": {
             "colorbar": {
              "outlinewidth": 0,
              "ticks": ""
             }
            },
            "type": "scatterpolar"
           }
          ],
          "scatterpolargl": [
           {
            "marker": {
             "colorbar": {
              "outlinewidth": 0,
              "ticks": ""
             }
            },
            "type": "scatterpolargl"
           }
          ],
          "scatterternary": [
           {
            "marker": {
             "colorbar": {
              "outlinewidth": 0,
              "ticks": ""
             }
            },
            "type": "scatterternary"
           }
          ],
          "surface": [
           {
            "colorbar": {
             "outlinewidth": 0,
             "ticks": ""
            },
            "colorscale": [
             [
              0,
              "#0d0887"
             ],
             [
              0.1111111111111111,
              "#46039f"
             ],
             [
              0.2222222222222222,
              "#7201a8"
             ],
             [
              0.3333333333333333,
              "#9c179e"
             ],
             [
              0.4444444444444444,
              "#bd3786"
             ],
             [
              0.5555555555555556,
              "#d8576b"
             ],
             [
              0.6666666666666666,
              "#ed7953"
             ],
             [
              0.7777777777777778,
              "#fb9f3a"
             ],
             [
              0.8888888888888888,
              "#fdca26"
             ],
             [
              1,
              "#f0f921"
             ]
            ],
            "type": "surface"
           }
          ],
          "table": [
           {
            "cells": {
             "fill": {
              "color": "#EBF0F8"
             },
             "line": {
              "color": "white"
             }
            },
            "header": {
             "fill": {
              "color": "#C8D4E3"
             },
             "line": {
              "color": "white"
             }
            },
            "type": "table"
           }
          ]
         },
         "layout": {
          "annotationdefaults": {
           "arrowcolor": "#2a3f5f",
           "arrowhead": 0,
           "arrowwidth": 1
          },
          "autotypenumbers": "strict",
          "coloraxis": {
           "colorbar": {
            "outlinewidth": 0,
            "ticks": ""
           }
          },
          "colorscale": {
           "diverging": [
            [
             0,
             "#8e0152"
            ],
            [
             0.1,
             "#c51b7d"
            ],
            [
             0.2,
             "#de77ae"
            ],
            [
             0.3,
             "#f1b6da"
            ],
            [
             0.4,
             "#fde0ef"
            ],
            [
             0.5,
             "#f7f7f7"
            ],
            [
             0.6,
             "#e6f5d0"
            ],
            [
             0.7,
             "#b8e186"
            ],
            [
             0.8,
             "#7fbc41"
            ],
            [
             0.9,
             "#4d9221"
            ],
            [
             1,
             "#276419"
            ]
           ],
           "sequential": [
            [
             0,
             "#0d0887"
            ],
            [
             0.1111111111111111,
             "#46039f"
            ],
            [
             0.2222222222222222,
             "#7201a8"
            ],
            [
             0.3333333333333333,
             "#9c179e"
            ],
            [
             0.4444444444444444,
             "#bd3786"
            ],
            [
             0.5555555555555556,
             "#d8576b"
            ],
            [
             0.6666666666666666,
             "#ed7953"
            ],
            [
             0.7777777777777778,
             "#fb9f3a"
            ],
            [
             0.8888888888888888,
             "#fdca26"
            ],
            [
             1,
             "#f0f921"
            ]
           ],
           "sequentialminus": [
            [
             0,
             "#0d0887"
            ],
            [
             0.1111111111111111,
             "#46039f"
            ],
            [
             0.2222222222222222,
             "#7201a8"
            ],
            [
             0.3333333333333333,
             "#9c179e"
            ],
            [
             0.4444444444444444,
             "#bd3786"
            ],
            [
             0.5555555555555556,
             "#d8576b"
            ],
            [
             0.6666666666666666,
             "#ed7953"
            ],
            [
             0.7777777777777778,
             "#fb9f3a"
            ],
            [
             0.8888888888888888,
             "#fdca26"
            ],
            [
             1,
             "#f0f921"
            ]
           ]
          },
          "colorway": [
           "#636efa",
           "#EF553B",
           "#00cc96",
           "#ab63fa",
           "#FFA15A",
           "#19d3f3",
           "#FF6692",
           "#B6E880",
           "#FF97FF",
           "#FECB52"
          ],
          "font": {
           "color": "#2a3f5f"
          },
          "geo": {
           "bgcolor": "white",
           "lakecolor": "white",
           "landcolor": "#E5ECF6",
           "showlakes": true,
           "showland": true,
           "subunitcolor": "white"
          },
          "hoverlabel": {
           "align": "left"
          },
          "hovermode": "closest",
          "mapbox": {
           "style": "light"
          },
          "paper_bgcolor": "white",
          "plot_bgcolor": "#E5ECF6",
          "polar": {
           "angularaxis": {
            "gridcolor": "white",
            "linecolor": "white",
            "ticks": ""
           },
           "bgcolor": "#E5ECF6",
           "radialaxis": {
            "gridcolor": "white",
            "linecolor": "white",
            "ticks": ""
           }
          },
          "scene": {
           "xaxis": {
            "backgroundcolor": "#E5ECF6",
            "gridcolor": "white",
            "gridwidth": 2,
            "linecolor": "white",
            "showbackground": true,
            "ticks": "",
            "zerolinecolor": "white"
           },
           "yaxis": {
            "backgroundcolor": "#E5ECF6",
            "gridcolor": "white",
            "gridwidth": 2,
            "linecolor": "white",
            "showbackground": true,
            "ticks": "",
            "zerolinecolor": "white"
           },
           "zaxis": {
            "backgroundcolor": "#E5ECF6",
            "gridcolor": "white",
            "gridwidth": 2,
            "linecolor": "white",
            "showbackground": true,
            "ticks": "",
            "zerolinecolor": "white"
           }
          },
          "shapedefaults": {
           "line": {
            "color": "#2a3f5f"
           }
          },
          "ternary": {
           "aaxis": {
            "gridcolor": "white",
            "linecolor": "white",
            "ticks": ""
           },
           "baxis": {
            "gridcolor": "white",
            "linecolor": "white",
            "ticks": ""
           },
           "bgcolor": "#E5ECF6",
           "caxis": {
            "gridcolor": "white",
            "linecolor": "white",
            "ticks": ""
           }
          },
          "title": {
           "x": 0.05
          },
          "xaxis": {
           "automargin": true,
           "gridcolor": "white",
           "linecolor": "white",
           "ticks": "",
           "title": {
            "standoff": 15
           },
           "zerolinecolor": "white",
           "zerolinewidth": 2
          },
          "yaxis": {
           "automargin": true,
           "gridcolor": "white",
           "linecolor": "white",
           "ticks": "",
           "title": {
            "standoff": 15
           },
           "zerolinecolor": "white",
           "zerolinewidth": 2
          }
         }
        },
        "title": {
         "font": {
          "color": "#4D5663"
         }
        },
        "xaxis": {
         "anchor": "y2",
         "gridcolor": "#E1E5ED",
         "rangeselector": {
          "bgcolor": "rgba(150, 200, 250, 1)",
          "buttons": [
           {
            "count": 1,
            "label": "1m",
            "step": "month",
            "stepmode": "backward"
           },
           {
            "count": 1,
            "label": "1y",
            "step": "year",
            "stepmode": "backward"
           }
          ],
          "font": {
           "size": 13
          },
          "visible": false,
          "x": 0,
          "y": 0.9
         },
         "rangeslider": {
          "visible": false
         },
         "showgrid": true,
         "tickfont": {
          "color": "#4D5663"
         },
         "title": {
          "font": {
           "color": "#4D5663"
          },
          "text": ""
         },
         "zerolinecolor": "#E1E5ED"
        },
        "yaxis": {
         "gridcolor": "#E1E5ED",
         "showgrid": true,
         "showticklabels": false,
         "tickfont": {
          "color": "#4D5663"
         },
         "title": {
          "font": {
           "color": "#4D5663"
          },
          "text": ""
         },
         "zerolinecolor": "#E1E5ED"
        },
        "yaxis2": {
         "domain": [
          0.23,
          0.9
         ],
         "gridcolor": "#E1E5ED",
         "showgrid": true,
         "tickfont": {
          "color": "#4D5663"
         },
         "title": {
          "font": {
           "color": "#4D5663"
          },
          "text": ""
         },
         "zerolinecolor": "#E1E5ED"
        },
        "yaxis3": {
         "domain": [
          0,
          0.15
         ],
         "gridcolor": "#E1E5ED",
         "showgrid": true,
         "tickfont": {
          "color": "#4D5663"
         },
         "title": {
          "font": {
           "color": "#4D5663"
          },
          "text": ""
         },
         "zerolinecolor": "#E1E5ED"
        }
       }
      },
      "text/html": [
       "<div>                            <div id=\"69f0c1fe-dab7-4ad4-956c-cdfd5295c2e2\" class=\"plotly-graph-div\" style=\"height:525px; width:100%;\"></div>            <script type=\"text/javascript\">                require([\"plotly\"], function(Plotly) {                    window.PLOTLYENV=window.PLOTLYENV || {};                                    if (document.getElementById(\"69f0c1fe-dab7-4ad4-956c-cdfd5295c2e2\")) {                    Plotly.newPlot(                        \"69f0c1fe-dab7-4ad4-956c-cdfd5295c2e2\",                        [{\"legendgroup\":\" CCI(14)\",\"line\":{\"color\":\"rgba(55, 128, 191, 1.0)\",\"dash\":\"solid\",\"shape\":\"linear\",\"width\":1.3},\"mode\":\"lines\",\"name\":\" CCI(14)\",\"showlegend\":true,\"text\":\"\",\"x\":[3179,3180,3181,3182,3183,3184,3185,3186,3187,3188,3189,3190,3191,3192,3193,3194,3195,3196,3197,3198,3199,3200,3201,3202,3203,3204,3205,3206,3207,3208,3209,3210,3211,3212,3213,3214,3215,3216,3217,3218,3219,3220,3221,3222,3223,3224,3225,3226,3227,3228,3229,3230,3231,3232,3233,3234,3235,3236,3237,3238],\"y\":[\"\",\"\",\"\",\"\",\"\",\"\",\"\",\"\",\"\",\"\",\"\",\"\",\"\",117.33473242392361,116.48963765939374,150.00590839264447,143.14192467142996,96.14086942689087,77.04059026373018,89.93959758390362,88.59698979054946,93.41140691314315,72.02053340815654,46.999129264625346,44.2413460624419,-97.51801441152938,-198.10094952523585,-162.9647305875038,-148.11487806175322,-123.86380719346252,-39.62230105718336,17.841458925002964,43.61269114040487,55.41169789892073,89.72681971881048,113.12746066779326,113.23439009396607,107.51840599939841,130.49427056610304,110.68947330132453,84.82947863582885,25.77582633924014,25.275474677864477,42.86768322676021,114.01590457256437,93.1809938338769,85.21046643913444,127.67584097859225,103.88832372555572,123.44594594594574,67.92879680895307,128.65311703648612,132.15574548907858,108.87434994128444,120.49946581196681,105.51662442224469,96.69078630004864,48.756355014475616,-74.32027023834733,-150.02843946943136],\"yaxis\":\"y3\",\"type\":\"scatter\"},{\"legendgroup\":\" CCI(14)\",\"line\":{\"color\":\"grey\",\"width\":1},\"mode\":\"lines\",\"name\":\"\",\"showlegend\":true,\"text\":\"\",\"x\":[3179,3180,3181,3182,3183,3184,3185,3186,3187,3188,3189,3190,3191,3192,3193,3194,3195,3196,3197,3198,3199,3200,3201,3202,3203,3204,3205,3206,3207,3208,3209,3210,3211,3212,3213,3214,3215,3216,3217,3218,3219,3220,3221,3222,3223,3224,3225,3226,3227,3228,3229,3230,3231,3232,3233,3234,3235,3236,3237,3238],\"y\":[-100,-100,-100,-100,-100,-100,-100,-100,-100,-100,-100,-100,-100,-100,-100,-100,-100,-100,-100,-100,-100,-100,-100,-100,-100,-100,-100,-100,-100,-100,-100,-100,-100,-100,-100,-100,-100,-100,-100,-100,-100,-100,-100,-100,-100,-100,-100,-100,-100,-100,-100,-100,-100,-100,-100,-100,-100,-100,-100,-100],\"yaxis\":\"y3\",\"type\":\"scatter\"},{\"legendgroup\":\" CCI(14)\",\"line\":{\"color\":\"#17BECF\",\"width\":1},\"mode\":\"lines\",\"name\":\"\",\"showlegend\":true,\"text\":\"\",\"x\":[3179,3180,3181,3182,3183,3184,3185,3186,3187,3188,3189,3190,3191,3192,3193,3194,3195,3196,3197,3198,3199,3200,3201,3202,3203,3204,3205,3206,3207,3208,3209,3210,3211,3212,3213,3214,3215,3216,3217,3218,3219,3220,3221,3222,3223,3224,3225,3226,3227,3228,3229,3230,3231,3232,3233,3234,3235,3236,3237,3238],\"y\":[100,100,100,100,100,100,100,100,100,100,100,100,100,100,100,100,100,100,100,100,100,100,100,100,100,100,100,100,100,100,100,100,100,100,100,100,100,100,100,100,100,100,100,100,100,100,100,100,100,100,100,100,100,100,100,100,100,100,100,100],\"yaxis\":\"y3\",\"type\":\"scatter\"},{\"close\":[61.126,61.615,62.833,62.643,62.553,62.773,63.331,63.361,63.771,64.589,64.25,64.16,64.579,65.008,64.888,65.976,66.006,65.307,65.547,65.826,65.946,66.036,65.956,65.787,65.647,64.599,63.98,64.26,63.85,64.07,64.87,65.15,65.83,65.7,66.36,66.56,66.6,66.62,67.54,66.99,66.91,66.12,66.44,66.88,67.25,67.02,67.32,67.39,67.71,67.97,67.49,68.03,68.02,68.13,68.37,68.22,68.25,68.11,67.47,66.81],\"decreasing\":{\"line\":{\"color\":\"#808080\"}},\"high\":[61.595,61.874,62.892,63.237,63.022,63.012,63.446,63.501,63.801,64.699,65.048,64.349,64.679,65.113,65.547,66.136,66.286,66.086,65.737,65.996,66.166,66.315,66.226,66.006,66.136,65.767,64.769,64.529,64.489,64.145,65.07,65.78,65.87,65.99,66.38,66.77,66.86,66.97,67.6,67.82,67.37,66.68,66.585,66.975,67.53,67.68,67.55,68.52,67.83,68.01,67.93,68.17,68.44,68.38,68.67,68.45,68.64,68.33,67.98,67.58],\"increasing\":{\"line\":{\"color\":\"#17BECF\"}},\"low\":[60.158,60.837,61.725,62.473,62.224,62.543,62.842,62.893,63.262,63.771,64.08,63.681,63.92,64.359,64.699,65.278,65.757,65.278,65.028,65.487,65.567,65.866,65.637,65.497,65.577,64.31,63.781,63.92,63.84,63.591,64.29,65.06,65.15,65.52,65.66,66.02,66.22,66.34,66.54,66.89,66.77,65.99,66.07,66.06,67.07,66.93,66.88,67.03,67.2,67.41,67.1,67.54,67.84,67.81,68.01,68.22,68.04,67.771,66.91,66.7],\"name\":\"Trace 1\",\"open\":[60.637,60.966,61.745,62.593,62.743,62.932,62.972,62.912,63.272,63.87,64.769,63.89,64.429,64.719,65.018,65.367,66.136,65.777,65.178,65.547,65.956,66.116,66.176,65.747,65.717,65.667,64.519,64.14,64.12,63.87,64.29,65.06,65.15,65.85,65.68,66.49,66.68,66.68,66.65,67.63,67.2,66.68,66.38,66.44,67.2,67.45,67.31,67.9,67.53,67.8,67.9,67.54,68.2,68.08,68.09,68.22,68.32,68.1,67.92,67.35],\"showlegend\":true,\"x\":[3179,3180,3181,3182,3183,3184,3185,3186,3187,3188,3189,3190,3191,3192,3193,3194,3195,3196,3197,3198,3199,3200,3201,3202,3203,3204,3205,3206,3207,3208,3209,3210,3211,3212,3213,3214,3215,3216,3217,3218,3219,3220,3221,3222,3223,3224,3225,3226,3227,3228,3229,3230,3231,3232,3233,3234,3235,3236,3237,3238],\"yaxis\":\"y2\",\"type\":\"candlestick\"}],                        {\"legend\":{\"bgcolor\":\"#F5F6F9\",\"font\":{\"color\":\"#4D5663\"}},\"margin\":{\"b\":30,\"l\":30,\"r\":30,\"t\":30},\"paper_bgcolor\":\"#F5F6F9\",\"plot_bgcolor\":\"#F5F6F9\",\"showlegend\":true,\"template\":{\"data\":{\"barpolar\":[{\"marker\":{\"line\":{\"color\":\"#E5ECF6\",\"width\":0.5},\"pattern\":{\"fillmode\":\"overlay\",\"size\":10,\"solidity\":0.2}},\"type\":\"barpolar\"}],\"bar\":[{\"error_x\":{\"color\":\"#2a3f5f\"},\"error_y\":{\"color\":\"#2a3f5f\"},\"marker\":{\"line\":{\"color\":\"#E5ECF6\",\"width\":0.5},\"pattern\":{\"fillmode\":\"overlay\",\"size\":10,\"solidity\":0.2}},\"type\":\"bar\"}],\"carpet\":[{\"aaxis\":{\"endlinecolor\":\"#2a3f5f\",\"gridcolor\":\"white\",\"linecolor\":\"white\",\"minorgridcolor\":\"white\",\"startlinecolor\":\"#2a3f5f\"},\"baxis\":{\"endlinecolor\":\"#2a3f5f\",\"gridcolor\":\"white\",\"linecolor\":\"white\",\"minorgridcolor\":\"white\",\"startlinecolor\":\"#2a3f5f\"},\"type\":\"carpet\"}],\"choropleth\":[{\"colorbar\":{\"outlinewidth\":0,\"ticks\":\"\"},\"type\":\"choropleth\"}],\"contourcarpet\":[{\"colorbar\":{\"outlinewidth\":0,\"ticks\":\"\"},\"type\":\"contourcarpet\"}],\"contour\":[{\"colorbar\":{\"outlinewidth\":0,\"ticks\":\"\"},\"colorscale\":[[0.0,\"#0d0887\"],[0.1111111111111111,\"#46039f\"],[0.2222222222222222,\"#7201a8\"],[0.3333333333333333,\"#9c179e\"],[0.4444444444444444,\"#bd3786\"],[0.5555555555555556,\"#d8576b\"],[0.6666666666666666,\"#ed7953\"],[0.7777777777777778,\"#fb9f3a\"],[0.8888888888888888,\"#fdca26\"],[1.0,\"#f0f921\"]],\"type\":\"contour\"}],\"heatmapgl\":[{\"colorbar\":{\"outlinewidth\":0,\"ticks\":\"\"},\"colorscale\":[[0.0,\"#0d0887\"],[0.1111111111111111,\"#46039f\"],[0.2222222222222222,\"#7201a8\"],[0.3333333333333333,\"#9c179e\"],[0.4444444444444444,\"#bd3786\"],[0.5555555555555556,\"#d8576b\"],[0.6666666666666666,\"#ed7953\"],[0.7777777777777778,\"#fb9f3a\"],[0.8888888888888888,\"#fdca26\"],[1.0,\"#f0f921\"]],\"type\":\"heatmapgl\"}],\"heatmap\":[{\"colorbar\":{\"outlinewidth\":0,\"ticks\":\"\"},\"colorscale\":[[0.0,\"#0d0887\"],[0.1111111111111111,\"#46039f\"],[0.2222222222222222,\"#7201a8\"],[0.3333333333333333,\"#9c179e\"],[0.4444444444444444,\"#bd3786\"],[0.5555555555555556,\"#d8576b\"],[0.6666666666666666,\"#ed7953\"],[0.7777777777777778,\"#fb9f3a\"],[0.8888888888888888,\"#fdca26\"],[1.0,\"#f0f921\"]],\"type\":\"heatmap\"}],\"histogram2dcontour\":[{\"colorbar\":{\"outlinewidth\":0,\"ticks\":\"\"},\"colorscale\":[[0.0,\"#0d0887\"],[0.1111111111111111,\"#46039f\"],[0.2222222222222222,\"#7201a8\"],[0.3333333333333333,\"#9c179e\"],[0.4444444444444444,\"#bd3786\"],[0.5555555555555556,\"#d8576b\"],[0.6666666666666666,\"#ed7953\"],[0.7777777777777778,\"#fb9f3a\"],[0.8888888888888888,\"#fdca26\"],[1.0,\"#f0f921\"]],\"type\":\"histogram2dcontour\"}],\"histogram2d\":[{\"colorbar\":{\"outlinewidth\":0,\"ticks\":\"\"},\"colorscale\":[[0.0,\"#0d0887\"],[0.1111111111111111,\"#46039f\"],[0.2222222222222222,\"#7201a8\"],[0.3333333333333333,\"#9c179e\"],[0.4444444444444444,\"#bd3786\"],[0.5555555555555556,\"#d8576b\"],[0.6666666666666666,\"#ed7953\"],[0.7777777777777778,\"#fb9f3a\"],[0.8888888888888888,\"#fdca26\"],[1.0,\"#f0f921\"]],\"type\":\"histogram2d\"}],\"histogram\":[{\"marker\":{\"pattern\":{\"fillmode\":\"overlay\",\"size\":10,\"solidity\":0.2}},\"type\":\"histogram\"}],\"mesh3d\":[{\"colorbar\":{\"outlinewidth\":0,\"ticks\":\"\"},\"type\":\"mesh3d\"}],\"parcoords\":[{\"line\":{\"colorbar\":{\"outlinewidth\":0,\"ticks\":\"\"}},\"type\":\"parcoords\"}],\"pie\":[{\"automargin\":true,\"type\":\"pie\"}],\"scatter3d\":[{\"line\":{\"colorbar\":{\"outlinewidth\":0,\"ticks\":\"\"}},\"marker\":{\"colorbar\":{\"outlinewidth\":0,\"ticks\":\"\"}},\"type\":\"scatter3d\"}],\"scattercarpet\":[{\"marker\":{\"colorbar\":{\"outlinewidth\":0,\"ticks\":\"\"}},\"type\":\"scattercarpet\"}],\"scattergeo\":[{\"marker\":{\"colorbar\":{\"outlinewidth\":0,\"ticks\":\"\"}},\"type\":\"scattergeo\"}],\"scattergl\":[{\"marker\":{\"colorbar\":{\"outlinewidth\":0,\"ticks\":\"\"}},\"type\":\"scattergl\"}],\"scattermapbox\":[{\"marker\":{\"colorbar\":{\"outlinewidth\":0,\"ticks\":\"\"}},\"type\":\"scattermapbox\"}],\"scatterpolargl\":[{\"marker\":{\"colorbar\":{\"outlinewidth\":0,\"ticks\":\"\"}},\"type\":\"scatterpolargl\"}],\"scatterpolar\":[{\"marker\":{\"colorbar\":{\"outlinewidth\":0,\"ticks\":\"\"}},\"type\":\"scatterpolar\"}],\"scatter\":[{\"marker\":{\"colorbar\":{\"outlinewidth\":0,\"ticks\":\"\"}},\"type\":\"scatter\"}],\"scatterternary\":[{\"marker\":{\"colorbar\":{\"outlinewidth\":0,\"ticks\":\"\"}},\"type\":\"scatterternary\"}],\"surface\":[{\"colorbar\":{\"outlinewidth\":0,\"ticks\":\"\"},\"colorscale\":[[0.0,\"#0d0887\"],[0.1111111111111111,\"#46039f\"],[0.2222222222222222,\"#7201a8\"],[0.3333333333333333,\"#9c179e\"],[0.4444444444444444,\"#bd3786\"],[0.5555555555555556,\"#d8576b\"],[0.6666666666666666,\"#ed7953\"],[0.7777777777777778,\"#fb9f3a\"],[0.8888888888888888,\"#fdca26\"],[1.0,\"#f0f921\"]],\"type\":\"surface\"}],\"table\":[{\"cells\":{\"fill\":{\"color\":\"#EBF0F8\"},\"line\":{\"color\":\"white\"}},\"header\":{\"fill\":{\"color\":\"#C8D4E3\"},\"line\":{\"color\":\"white\"}},\"type\":\"table\"}]},\"layout\":{\"annotationdefaults\":{\"arrowcolor\":\"#2a3f5f\",\"arrowhead\":0,\"arrowwidth\":1},\"autotypenumbers\":\"strict\",\"coloraxis\":{\"colorbar\":{\"outlinewidth\":0,\"ticks\":\"\"}},\"colorscale\":{\"diverging\":[[0,\"#8e0152\"],[0.1,\"#c51b7d\"],[0.2,\"#de77ae\"],[0.3,\"#f1b6da\"],[0.4,\"#fde0ef\"],[0.5,\"#f7f7f7\"],[0.6,\"#e6f5d0\"],[0.7,\"#b8e186\"],[0.8,\"#7fbc41\"],[0.9,\"#4d9221\"],[1,\"#276419\"]],\"sequential\":[[0.0,\"#0d0887\"],[0.1111111111111111,\"#46039f\"],[0.2222222222222222,\"#7201a8\"],[0.3333333333333333,\"#9c179e\"],[0.4444444444444444,\"#bd3786\"],[0.5555555555555556,\"#d8576b\"],[0.6666666666666666,\"#ed7953\"],[0.7777777777777778,\"#fb9f3a\"],[0.8888888888888888,\"#fdca26\"],[1.0,\"#f0f921\"]],\"sequentialminus\":[[0.0,\"#0d0887\"],[0.1111111111111111,\"#46039f\"],[0.2222222222222222,\"#7201a8\"],[0.3333333333333333,\"#9c179e\"],[0.4444444444444444,\"#bd3786\"],[0.5555555555555556,\"#d8576b\"],[0.6666666666666666,\"#ed7953\"],[0.7777777777777778,\"#fb9f3a\"],[0.8888888888888888,\"#fdca26\"],[1.0,\"#f0f921\"]]},\"colorway\":[\"#636efa\",\"#EF553B\",\"#00cc96\",\"#ab63fa\",\"#FFA15A\",\"#19d3f3\",\"#FF6692\",\"#B6E880\",\"#FF97FF\",\"#FECB52\"],\"font\":{\"color\":\"#2a3f5f\"},\"geo\":{\"bgcolor\":\"white\",\"lakecolor\":\"white\",\"landcolor\":\"#E5ECF6\",\"showlakes\":true,\"showland\":true,\"subunitcolor\":\"white\"},\"hoverlabel\":{\"align\":\"left\"},\"hovermode\":\"closest\",\"mapbox\":{\"style\":\"light\"},\"paper_bgcolor\":\"white\",\"plot_bgcolor\":\"#E5ECF6\",\"polar\":{\"angularaxis\":{\"gridcolor\":\"white\",\"linecolor\":\"white\",\"ticks\":\"\"},\"bgcolor\":\"#E5ECF6\",\"radialaxis\":{\"gridcolor\":\"white\",\"linecolor\":\"white\",\"ticks\":\"\"}},\"scene\":{\"xaxis\":{\"backgroundcolor\":\"#E5ECF6\",\"gridcolor\":\"white\",\"gridwidth\":2,\"linecolor\":\"white\",\"showbackground\":true,\"ticks\":\"\",\"zerolinecolor\":\"white\"},\"yaxis\":{\"backgroundcolor\":\"#E5ECF6\",\"gridcolor\":\"white\",\"gridwidth\":2,\"linecolor\":\"white\",\"showbackground\":true,\"ticks\":\"\",\"zerolinecolor\":\"white\"},\"zaxis\":{\"backgroundcolor\":\"#E5ECF6\",\"gridcolor\":\"white\",\"gridwidth\":2,\"linecolor\":\"white\",\"showbackground\":true,\"ticks\":\"\",\"zerolinecolor\":\"white\"}},\"shapedefaults\":{\"line\":{\"color\":\"#2a3f5f\"}},\"ternary\":{\"aaxis\":{\"gridcolor\":\"white\",\"linecolor\":\"white\",\"ticks\":\"\"},\"baxis\":{\"gridcolor\":\"white\",\"linecolor\":\"white\",\"ticks\":\"\"},\"bgcolor\":\"#E5ECF6\",\"caxis\":{\"gridcolor\":\"white\",\"linecolor\":\"white\",\"ticks\":\"\"}},\"title\":{\"x\":0.05},\"xaxis\":{\"automargin\":true,\"gridcolor\":\"white\",\"linecolor\":\"white\",\"ticks\":\"\",\"title\":{\"standoff\":15},\"zerolinecolor\":\"white\",\"zerolinewidth\":2},\"yaxis\":{\"automargin\":true,\"gridcolor\":\"white\",\"linecolor\":\"white\",\"ticks\":\"\",\"title\":{\"standoff\":15},\"zerolinecolor\":\"white\",\"zerolinewidth\":2}}},\"title\":{\"font\":{\"color\":\"#4D5663\"}},\"xaxis\":{\"anchor\":\"y2\",\"gridcolor\":\"#E1E5ED\",\"rangeselector\":{\"bgcolor\":\"rgba(150, 200, 250, 1)\",\"buttons\":[{\"count\":1,\"label\":\"1m\",\"step\":\"month\",\"stepmode\":\"backward\"},{\"count\":1,\"label\":\"1y\",\"step\":\"year\",\"stepmode\":\"backward\"}],\"font\":{\"size\":13},\"visible\":false,\"x\":0,\"y\":0.9},\"rangeslider\":{\"visible\":false},\"showgrid\":true,\"tickfont\":{\"color\":\"#4D5663\"},\"title\":{\"font\":{\"color\":\"#4D5663\"},\"text\":\"\"},\"zerolinecolor\":\"#E1E5ED\"},\"yaxis\":{\"gridcolor\":\"#E1E5ED\",\"showgrid\":true,\"showticklabels\":false,\"tickfont\":{\"color\":\"#4D5663\"},\"title\":{\"font\":{\"color\":\"#4D5663\"},\"text\":\"\"},\"zerolinecolor\":\"#E1E5ED\"},\"yaxis3\":{\"domain\":[0.0,0.15],\"gridcolor\":\"#E1E5ED\",\"showgrid\":true,\"tickfont\":{\"color\":\"#4D5663\"},\"title\":{\"font\":{\"color\":\"#4D5663\"},\"text\":\"\"},\"zerolinecolor\":\"#E1E5ED\"},\"yaxis2\":{\"domain\":[0.23,0.9],\"gridcolor\":\"#E1E5ED\",\"showgrid\":true,\"tickfont\":{\"color\":\"#4D5663\"},\"title\":{\"font\":{\"color\":\"#4D5663\"},\"text\":\"\"},\"zerolinecolor\":\"#E1E5ED\"}},                        {\"responsive\": true}                    ).then(function(){\n",
       "                            \n",
       "var gd = document.getElementById('69f0c1fe-dab7-4ad4-956c-cdfd5295c2e2');\n",
       "var x = new MutationObserver(function (mutations, observer) {{\n",
       "        var display = window.getComputedStyle(gd).display;\n",
       "        if (!display || display === 'none') {{\n",
       "            console.log([gd, 'removed!']);\n",
       "            Plotly.purge(gd);\n",
       "            observer.disconnect();\n",
       "        }}\n",
       "}});\n",
       "\n",
       "// Listen for the removal of the full notebook cells\n",
       "var notebookContainer = gd.closest('#notebook-container');\n",
       "if (notebookContainer) {{\n",
       "    x.observe(notebookContainer, {childList: true});\n",
       "}}\n",
       "\n",
       "// Listen for the clearing of the current output cell\n",
       "var outputEl = gd.closest('.output');\n",
       "if (outputEl) {{\n",
       "    x.observe(outputEl, {childList: true});\n",
       "}}\n",
       "\n",
       "                        }).then(function(){\n",
       "                            function downloadimage(format, height, width, filename) {var p = document.getElementById('69f0c1fe-dab7-4ad4-956c-cdfd5295c2e2');Plotly.downloadImage(p, {format: format, height: height, width: width, filename: filename});};if(document.readyState == 'complete') {downloadimage('png', 600, 800, 'qf_04');}\n",
       "                        })                };                });            </script>        </div>"
      ]
     },
     "metadata": {},
     "output_type": "display_data"
    }
   ],
   "source": [
    "qf=cf.QuantFig(tickers.get_group('a')[-60:])\n",
    "qf.add_cci()\n",
    "plyo.iplot(qf.iplot(asFigure=True),image='png',filename='qf_04')"
   ]
  },
  {
   "cell_type": "code",
   "execution_count": 16,
   "metadata": {},
   "outputs": [
    {
     "data": {
      "application/vnd.plotly.v1+json": {
       "config": {
        "linkText": "Export to plot.ly",
        "plotlyServerURL": "https://plot.ly",
        "showLink": false
       },
       "data": [
        {
         "line": {
          "color": "rgba(55, 128, 191, 1.0)",
          "dash": "solid",
          "shape": "linear",
          "width": 1.3
         },
         "mode": "lines",
         "name": " EMA(20)",
         "text": "",
         "type": "scatter",
         "x": [
          3179,
          3180,
          3181,
          3182,
          3183,
          3184,
          3185,
          3186,
          3187,
          3188,
          3189,
          3190,
          3191,
          3192,
          3193,
          3194,
          3195,
          3196,
          3197,
          3198,
          3199,
          3200,
          3201,
          3202,
          3203,
          3204,
          3205,
          3206,
          3207,
          3208,
          3209,
          3210,
          3211,
          3212,
          3213,
          3214,
          3215,
          3216,
          3217,
          3218,
          3219,
          3220,
          3221,
          3222,
          3223,
          3224,
          3225,
          3226,
          3227,
          3228,
          3229,
          3230,
          3231,
          3232,
          3233,
          3234,
          3235,
          3236,
          3237,
          3238
         ],
         "y": [
          "",
          "",
          "",
          "",
          "",
          "",
          "",
          "",
          "",
          "",
          "",
          "",
          "",
          "",
          "",
          "",
          "",
          "",
          "",
          64.2297323502709,
          64.39318641214986,
          64.54964484908797,
          64.68358343488912,
          64.78867072680444,
          64.87041637187069,
          64.84456719359729,
          64.76222746087373,
          64.71439627412386,
          64.6320728194454,
          64.5785420747363,
          64.60629997238047,
          64.65808092739185,
          64.76969226764024,
          64.85829300405545,
          65.00131271795493,
          65.14975912576875,
          65.28787730426697,
          65.41474613243203,
          65.6171512626766,
          65.7478987614693,
          65.8585750699008,
          65.8834726822912,
          65.93647528397776,
          66.02633478074178,
          66.14287432543303,
          66.22641010396322,
          66.33056152263339,
          66.43146042523973,
          66.55322609902643,
          66.6881569467382,
          66.76452295181076,
          66.88504457544784,
          66.99313556826233,
          67.10140837128496,
          67.22222662163877,
          67.31725265767317,
          67.40608573789477,
          67.47312519142861,
          67.47282755414969,
          67.40970112042115
         ],
         "yaxis": "y2"
        },
        {
         "close": [
          61.126,
          61.615,
          62.833,
          62.643,
          62.553,
          62.773,
          63.331,
          63.361,
          63.771,
          64.589,
          64.25,
          64.16,
          64.579,
          65.008,
          64.888,
          65.976,
          66.006,
          65.307,
          65.547,
          65.826,
          65.946,
          66.036,
          65.956,
          65.787,
          65.647,
          64.599,
          63.98,
          64.26,
          63.85,
          64.07,
          64.87,
          65.15,
          65.83,
          65.7,
          66.36,
          66.56,
          66.6,
          66.62,
          67.54,
          66.99,
          66.91,
          66.12,
          66.44,
          66.88,
          67.25,
          67.02,
          67.32,
          67.39,
          67.71,
          67.97,
          67.49,
          68.03,
          68.02,
          68.13,
          68.37,
          68.22,
          68.25,
          68.11,
          67.47,
          66.81
         ],
         "decreasing": {
          "line": {
           "color": "#808080"
          }
         },
         "high": [
          61.595,
          61.874,
          62.892,
          63.237,
          63.022,
          63.012,
          63.446,
          63.501,
          63.801,
          64.699,
          65.048,
          64.349,
          64.679,
          65.113,
          65.547,
          66.136,
          66.286,
          66.086,
          65.737,
          65.996,
          66.166,
          66.315,
          66.226,
          66.006,
          66.136,
          65.767,
          64.769,
          64.529,
          64.489,
          64.145,
          65.07,
          65.78,
          65.87,
          65.99,
          66.38,
          66.77,
          66.86,
          66.97,
          67.6,
          67.82,
          67.37,
          66.68,
          66.585,
          66.975,
          67.53,
          67.68,
          67.55,
          68.52,
          67.83,
          68.01,
          67.93,
          68.17,
          68.44,
          68.38,
          68.67,
          68.45,
          68.64,
          68.33,
          67.98,
          67.58
         ],
         "increasing": {
          "line": {
           "color": "#17BECF"
          }
         },
         "low": [
          60.158,
          60.837,
          61.725,
          62.473,
          62.224,
          62.543,
          62.842,
          62.893,
          63.262,
          63.771,
          64.08,
          63.681,
          63.92,
          64.359,
          64.699,
          65.278,
          65.757,
          65.278,
          65.028,
          65.487,
          65.567,
          65.866,
          65.637,
          65.497,
          65.577,
          64.31,
          63.781,
          63.92,
          63.84,
          63.591,
          64.29,
          65.06,
          65.15,
          65.52,
          65.66,
          66.02,
          66.22,
          66.34,
          66.54,
          66.89,
          66.77,
          65.99,
          66.07,
          66.06,
          67.07,
          66.93,
          66.88,
          67.03,
          67.2,
          67.41,
          67.1,
          67.54,
          67.84,
          67.81,
          68.01,
          68.22,
          68.04,
          67.771,
          66.91,
          66.7
         ],
         "name": "Trace 1",
         "open": [
          60.637,
          60.966,
          61.745,
          62.593,
          62.743,
          62.932,
          62.972,
          62.912,
          63.272,
          63.87,
          64.769,
          63.89,
          64.429,
          64.719,
          65.018,
          65.367,
          66.136,
          65.777,
          65.178,
          65.547,
          65.956,
          66.116,
          66.176,
          65.747,
          65.717,
          65.667,
          64.519,
          64.14,
          64.12,
          63.87,
          64.29,
          65.06,
          65.15,
          65.85,
          65.68,
          66.49,
          66.68,
          66.68,
          66.65,
          67.63,
          67.2,
          66.68,
          66.38,
          66.44,
          67.2,
          67.45,
          67.31,
          67.9,
          67.53,
          67.8,
          67.9,
          67.54,
          68.2,
          68.08,
          68.09,
          68.22,
          68.32,
          68.1,
          67.92,
          67.35
         ],
         "showlegend": true,
         "type": "candlestick",
         "x": [
          3179,
          3180,
          3181,
          3182,
          3183,
          3184,
          3185,
          3186,
          3187,
          3188,
          3189,
          3190,
          3191,
          3192,
          3193,
          3194,
          3195,
          3196,
          3197,
          3198,
          3199,
          3200,
          3201,
          3202,
          3203,
          3204,
          3205,
          3206,
          3207,
          3208,
          3209,
          3210,
          3211,
          3212,
          3213,
          3214,
          3215,
          3216,
          3217,
          3218,
          3219,
          3220,
          3221,
          3222,
          3223,
          3224,
          3225,
          3226,
          3227,
          3228,
          3229,
          3230,
          3231,
          3232,
          3233,
          3234,
          3235,
          3236,
          3237,
          3238
         ],
         "yaxis": "y2"
        }
       ],
       "layout": {
        "legend": {
         "bgcolor": "#F5F6F9",
         "font": {
          "color": "#4D5663"
         }
        },
        "margin": {
         "b": 30,
         "l": 30,
         "r": 30,
         "t": 30
        },
        "paper_bgcolor": "#F5F6F9",
        "plot_bgcolor": "#F5F6F9",
        "showlegend": true,
        "template": {
         "data": {
          "bar": [
           {
            "error_x": {
             "color": "#2a3f5f"
            },
            "error_y": {
             "color": "#2a3f5f"
            },
            "marker": {
             "line": {
              "color": "#E5ECF6",
              "width": 0.5
             },
             "pattern": {
              "fillmode": "overlay",
              "size": 10,
              "solidity": 0.2
             }
            },
            "type": "bar"
           }
          ],
          "barpolar": [
           {
            "marker": {
             "line": {
              "color": "#E5ECF6",
              "width": 0.5
             },
             "pattern": {
              "fillmode": "overlay",
              "size": 10,
              "solidity": 0.2
             }
            },
            "type": "barpolar"
           }
          ],
          "carpet": [
           {
            "aaxis": {
             "endlinecolor": "#2a3f5f",
             "gridcolor": "white",
             "linecolor": "white",
             "minorgridcolor": "white",
             "startlinecolor": "#2a3f5f"
            },
            "baxis": {
             "endlinecolor": "#2a3f5f",
             "gridcolor": "white",
             "linecolor": "white",
             "minorgridcolor": "white",
             "startlinecolor": "#2a3f5f"
            },
            "type": "carpet"
           }
          ],
          "choropleth": [
           {
            "colorbar": {
             "outlinewidth": 0,
             "ticks": ""
            },
            "type": "choropleth"
           }
          ],
          "contour": [
           {
            "colorbar": {
             "outlinewidth": 0,
             "ticks": ""
            },
            "colorscale": [
             [
              0,
              "#0d0887"
             ],
             [
              0.1111111111111111,
              "#46039f"
             ],
             [
              0.2222222222222222,
              "#7201a8"
             ],
             [
              0.3333333333333333,
              "#9c179e"
             ],
             [
              0.4444444444444444,
              "#bd3786"
             ],
             [
              0.5555555555555556,
              "#d8576b"
             ],
             [
              0.6666666666666666,
              "#ed7953"
             ],
             [
              0.7777777777777778,
              "#fb9f3a"
             ],
             [
              0.8888888888888888,
              "#fdca26"
             ],
             [
              1,
              "#f0f921"
             ]
            ],
            "type": "contour"
           }
          ],
          "contourcarpet": [
           {
            "colorbar": {
             "outlinewidth": 0,
             "ticks": ""
            },
            "type": "contourcarpet"
           }
          ],
          "heatmap": [
           {
            "colorbar": {
             "outlinewidth": 0,
             "ticks": ""
            },
            "colorscale": [
             [
              0,
              "#0d0887"
             ],
             [
              0.1111111111111111,
              "#46039f"
             ],
             [
              0.2222222222222222,
              "#7201a8"
             ],
             [
              0.3333333333333333,
              "#9c179e"
             ],
             [
              0.4444444444444444,
              "#bd3786"
             ],
             [
              0.5555555555555556,
              "#d8576b"
             ],
             [
              0.6666666666666666,
              "#ed7953"
             ],
             [
              0.7777777777777778,
              "#fb9f3a"
             ],
             [
              0.8888888888888888,
              "#fdca26"
             ],
             [
              1,
              "#f0f921"
             ]
            ],
            "type": "heatmap"
           }
          ],
          "heatmapgl": [
           {
            "colorbar": {
             "outlinewidth": 0,
             "ticks": ""
            },
            "colorscale": [
             [
              0,
              "#0d0887"
             ],
             [
              0.1111111111111111,
              "#46039f"
             ],
             [
              0.2222222222222222,
              "#7201a8"
             ],
             [
              0.3333333333333333,
              "#9c179e"
             ],
             [
              0.4444444444444444,
              "#bd3786"
             ],
             [
              0.5555555555555556,
              "#d8576b"
             ],
             [
              0.6666666666666666,
              "#ed7953"
             ],
             [
              0.7777777777777778,
              "#fb9f3a"
             ],
             [
              0.8888888888888888,
              "#fdca26"
             ],
             [
              1,
              "#f0f921"
             ]
            ],
            "type": "heatmapgl"
           }
          ],
          "histogram": [
           {
            "marker": {
             "pattern": {
              "fillmode": "overlay",
              "size": 10,
              "solidity": 0.2
             }
            },
            "type": "histogram"
           }
          ],
          "histogram2d": [
           {
            "colorbar": {
             "outlinewidth": 0,
             "ticks": ""
            },
            "colorscale": [
             [
              0,
              "#0d0887"
             ],
             [
              0.1111111111111111,
              "#46039f"
             ],
             [
              0.2222222222222222,
              "#7201a8"
             ],
             [
              0.3333333333333333,
              "#9c179e"
             ],
             [
              0.4444444444444444,
              "#bd3786"
             ],
             [
              0.5555555555555556,
              "#d8576b"
             ],
             [
              0.6666666666666666,
              "#ed7953"
             ],
             [
              0.7777777777777778,
              "#fb9f3a"
             ],
             [
              0.8888888888888888,
              "#fdca26"
             ],
             [
              1,
              "#f0f921"
             ]
            ],
            "type": "histogram2d"
           }
          ],
          "histogram2dcontour": [
           {
            "colorbar": {
             "outlinewidth": 0,
             "ticks": ""
            },
            "colorscale": [
             [
              0,
              "#0d0887"
             ],
             [
              0.1111111111111111,
              "#46039f"
             ],
             [
              0.2222222222222222,
              "#7201a8"
             ],
             [
              0.3333333333333333,
              "#9c179e"
             ],
             [
              0.4444444444444444,
              "#bd3786"
             ],
             [
              0.5555555555555556,
              "#d8576b"
             ],
             [
              0.6666666666666666,
              "#ed7953"
             ],
             [
              0.7777777777777778,
              "#fb9f3a"
             ],
             [
              0.8888888888888888,
              "#fdca26"
             ],
             [
              1,
              "#f0f921"
             ]
            ],
            "type": "histogram2dcontour"
           }
          ],
          "mesh3d": [
           {
            "colorbar": {
             "outlinewidth": 0,
             "ticks": ""
            },
            "type": "mesh3d"
           }
          ],
          "parcoords": [
           {
            "line": {
             "colorbar": {
              "outlinewidth": 0,
              "ticks": ""
             }
            },
            "type": "parcoords"
           }
          ],
          "pie": [
           {
            "automargin": true,
            "type": "pie"
           }
          ],
          "scatter": [
           {
            "marker": {
             "colorbar": {
              "outlinewidth": 0,
              "ticks": ""
             }
            },
            "type": "scatter"
           }
          ],
          "scatter3d": [
           {
            "line": {
             "colorbar": {
              "outlinewidth": 0,
              "ticks": ""
             }
            },
            "marker": {
             "colorbar": {
              "outlinewidth": 0,
              "ticks": ""
             }
            },
            "type": "scatter3d"
           }
          ],
          "scattercarpet": [
           {
            "marker": {
             "colorbar": {
              "outlinewidth": 0,
              "ticks": ""
             }
            },
            "type": "scattercarpet"
           }
          ],
          "scattergeo": [
           {
            "marker": {
             "colorbar": {
              "outlinewidth": 0,
              "ticks": ""
             }
            },
            "type": "scattergeo"
           }
          ],
          "scattergl": [
           {
            "marker": {
             "colorbar": {
              "outlinewidth": 0,
              "ticks": ""
             }
            },
            "type": "scattergl"
           }
          ],
          "scattermapbox": [
           {
            "marker": {
             "colorbar": {
              "outlinewidth": 0,
              "ticks": ""
             }
            },
            "type": "scattermapbox"
           }
          ],
          "scatterpolar": [
           {
            "marker": {
             "colorbar": {
              "outlinewidth": 0,
              "ticks": ""
             }
            },
            "type": "scatterpolar"
           }
          ],
          "scatterpolargl": [
           {
            "marker": {
             "colorbar": {
              "outlinewidth": 0,
              "ticks": ""
             }
            },
            "type": "scatterpolargl"
           }
          ],
          "scatterternary": [
           {
            "marker": {
             "colorbar": {
              "outlinewidth": 0,
              "ticks": ""
             }
            },
            "type": "scatterternary"
           }
          ],
          "surface": [
           {
            "colorbar": {
             "outlinewidth": 0,
             "ticks": ""
            },
            "colorscale": [
             [
              0,
              "#0d0887"
             ],
             [
              0.1111111111111111,
              "#46039f"
             ],
             [
              0.2222222222222222,
              "#7201a8"
             ],
             [
              0.3333333333333333,
              "#9c179e"
             ],
             [
              0.4444444444444444,
              "#bd3786"
             ],
             [
              0.5555555555555556,
              "#d8576b"
             ],
             [
              0.6666666666666666,
              "#ed7953"
             ],
             [
              0.7777777777777778,
              "#fb9f3a"
             ],
             [
              0.8888888888888888,
              "#fdca26"
             ],
             [
              1,
              "#f0f921"
             ]
            ],
            "type": "surface"
           }
          ],
          "table": [
           {
            "cells": {
             "fill": {
              "color": "#EBF0F8"
             },
             "line": {
              "color": "white"
             }
            },
            "header": {
             "fill": {
              "color": "#C8D4E3"
             },
             "line": {
              "color": "white"
             }
            },
            "type": "table"
           }
          ]
         },
         "layout": {
          "annotationdefaults": {
           "arrowcolor": "#2a3f5f",
           "arrowhead": 0,
           "arrowwidth": 1
          },
          "autotypenumbers": "strict",
          "coloraxis": {
           "colorbar": {
            "outlinewidth": 0,
            "ticks": ""
           }
          },
          "colorscale": {
           "diverging": [
            [
             0,
             "#8e0152"
            ],
            [
             0.1,
             "#c51b7d"
            ],
            [
             0.2,
             "#de77ae"
            ],
            [
             0.3,
             "#f1b6da"
            ],
            [
             0.4,
             "#fde0ef"
            ],
            [
             0.5,
             "#f7f7f7"
            ],
            [
             0.6,
             "#e6f5d0"
            ],
            [
             0.7,
             "#b8e186"
            ],
            [
             0.8,
             "#7fbc41"
            ],
            [
             0.9,
             "#4d9221"
            ],
            [
             1,
             "#276419"
            ]
           ],
           "sequential": [
            [
             0,
             "#0d0887"
            ],
            [
             0.1111111111111111,
             "#46039f"
            ],
            [
             0.2222222222222222,
             "#7201a8"
            ],
            [
             0.3333333333333333,
             "#9c179e"
            ],
            [
             0.4444444444444444,
             "#bd3786"
            ],
            [
             0.5555555555555556,
             "#d8576b"
            ],
            [
             0.6666666666666666,
             "#ed7953"
            ],
            [
             0.7777777777777778,
             "#fb9f3a"
            ],
            [
             0.8888888888888888,
             "#fdca26"
            ],
            [
             1,
             "#f0f921"
            ]
           ],
           "sequentialminus": [
            [
             0,
             "#0d0887"
            ],
            [
             0.1111111111111111,
             "#46039f"
            ],
            [
             0.2222222222222222,
             "#7201a8"
            ],
            [
             0.3333333333333333,
             "#9c179e"
            ],
            [
             0.4444444444444444,
             "#bd3786"
            ],
            [
             0.5555555555555556,
             "#d8576b"
            ],
            [
             0.6666666666666666,
             "#ed7953"
            ],
            [
             0.7777777777777778,
             "#fb9f3a"
            ],
            [
             0.8888888888888888,
             "#fdca26"
            ],
            [
             1,
             "#f0f921"
            ]
           ]
          },
          "colorway": [
           "#636efa",
           "#EF553B",
           "#00cc96",
           "#ab63fa",
           "#FFA15A",
           "#19d3f3",
           "#FF6692",
           "#B6E880",
           "#FF97FF",
           "#FECB52"
          ],
          "font": {
           "color": "#2a3f5f"
          },
          "geo": {
           "bgcolor": "white",
           "lakecolor": "white",
           "landcolor": "#E5ECF6",
           "showlakes": true,
           "showland": true,
           "subunitcolor": "white"
          },
          "hoverlabel": {
           "align": "left"
          },
          "hovermode": "closest",
          "mapbox": {
           "style": "light"
          },
          "paper_bgcolor": "white",
          "plot_bgcolor": "#E5ECF6",
          "polar": {
           "angularaxis": {
            "gridcolor": "white",
            "linecolor": "white",
            "ticks": ""
           },
           "bgcolor": "#E5ECF6",
           "radialaxis": {
            "gridcolor": "white",
            "linecolor": "white",
            "ticks": ""
           }
          },
          "scene": {
           "xaxis": {
            "backgroundcolor": "#E5ECF6",
            "gridcolor": "white",
            "gridwidth": 2,
            "linecolor": "white",
            "showbackground": true,
            "ticks": "",
            "zerolinecolor": "white"
           },
           "yaxis": {
            "backgroundcolor": "#E5ECF6",
            "gridcolor": "white",
            "gridwidth": 2,
            "linecolor": "white",
            "showbackground": true,
            "ticks": "",
            "zerolinecolor": "white"
           },
           "zaxis": {
            "backgroundcolor": "#E5ECF6",
            "gridcolor": "white",
            "gridwidth": 2,
            "linecolor": "white",
            "showbackground": true,
            "ticks": "",
            "zerolinecolor": "white"
           }
          },
          "shapedefaults": {
           "line": {
            "color": "#2a3f5f"
           }
          },
          "ternary": {
           "aaxis": {
            "gridcolor": "white",
            "linecolor": "white",
            "ticks": ""
           },
           "baxis": {
            "gridcolor": "white",
            "linecolor": "white",
            "ticks": ""
           },
           "bgcolor": "#E5ECF6",
           "caxis": {
            "gridcolor": "white",
            "linecolor": "white",
            "ticks": ""
           }
          },
          "title": {
           "x": 0.05
          },
          "xaxis": {
           "automargin": true,
           "gridcolor": "white",
           "linecolor": "white",
           "ticks": "",
           "title": {
            "standoff": 15
           },
           "zerolinecolor": "white",
           "zerolinewidth": 2
          },
          "yaxis": {
           "automargin": true,
           "gridcolor": "white",
           "linecolor": "white",
           "ticks": "",
           "title": {
            "standoff": 15
           },
           "zerolinecolor": "white",
           "zerolinewidth": 2
          }
         }
        },
        "title": {
         "font": {
          "color": "#4D5663"
         }
        },
        "xaxis": {
         "anchor": "y2",
         "gridcolor": "#E1E5ED",
         "rangeselector": {
          "bgcolor": "rgba(150, 200, 250, 1)",
          "buttons": [
           {
            "count": 1,
            "label": "1m",
            "step": "month",
            "stepmode": "backward"
           },
           {
            "count": 1,
            "label": "1y",
            "step": "year",
            "stepmode": "backward"
           }
          ],
          "font": {
           "size": 13
          },
          "visible": false,
          "x": 0,
          "y": 0.9
         },
         "rangeslider": {
          "visible": false
         },
         "showgrid": true,
         "tickfont": {
          "color": "#4D5663"
         },
         "title": {
          "font": {
           "color": "#4D5663"
          },
          "text": ""
         },
         "zerolinecolor": "#E1E5ED"
        },
        "yaxis": {
         "gridcolor": "#E1E5ED",
         "showgrid": true,
         "showticklabels": false,
         "tickfont": {
          "color": "#4D5663"
         },
         "title": {
          "font": {
           "color": "#4D5663"
          },
          "text": ""
         },
         "zerolinecolor": "#E1E5ED"
        },
        "yaxis2": {
         "domain": [
          0,
          0.9
         ],
         "gridcolor": "#E1E5ED",
         "showgrid": true,
         "tickfont": {
          "color": "#4D5663"
         },
         "title": {
          "font": {
           "color": "#4D5663"
          },
          "text": ""
         },
         "zerolinecolor": "#E1E5ED"
        }
       }
      },
      "text/html": [
       "<div>                            <div id=\"5cc34720-a322-41dd-9ab8-7689d437e57e\" class=\"plotly-graph-div\" style=\"height:525px; width:100%;\"></div>            <script type=\"text/javascript\">                require([\"plotly\"], function(Plotly) {                    window.PLOTLYENV=window.PLOTLYENV || {};                                    if (document.getElementById(\"5cc34720-a322-41dd-9ab8-7689d437e57e\")) {                    Plotly.newPlot(                        \"5cc34720-a322-41dd-9ab8-7689d437e57e\",                        [{\"line\":{\"color\":\"rgba(55, 128, 191, 1.0)\",\"dash\":\"solid\",\"shape\":\"linear\",\"width\":1.3},\"mode\":\"lines\",\"name\":\" EMA(20)\",\"text\":\"\",\"x\":[3179,3180,3181,3182,3183,3184,3185,3186,3187,3188,3189,3190,3191,3192,3193,3194,3195,3196,3197,3198,3199,3200,3201,3202,3203,3204,3205,3206,3207,3208,3209,3210,3211,3212,3213,3214,3215,3216,3217,3218,3219,3220,3221,3222,3223,3224,3225,3226,3227,3228,3229,3230,3231,3232,3233,3234,3235,3236,3237,3238],\"y\":[\"\",\"\",\"\",\"\",\"\",\"\",\"\",\"\",\"\",\"\",\"\",\"\",\"\",\"\",\"\",\"\",\"\",\"\",\"\",64.2297323502709,64.39318641214986,64.54964484908797,64.68358343488912,64.78867072680444,64.87041637187069,64.84456719359729,64.76222746087373,64.71439627412386,64.6320728194454,64.5785420747363,64.60629997238047,64.65808092739185,64.76969226764024,64.85829300405545,65.00131271795493,65.14975912576875,65.28787730426697,65.41474613243203,65.6171512626766,65.7478987614693,65.8585750699008,65.8834726822912,65.93647528397776,66.02633478074178,66.14287432543303,66.22641010396322,66.33056152263339,66.43146042523973,66.55322609902643,66.6881569467382,66.76452295181076,66.88504457544784,66.99313556826233,67.10140837128496,67.22222662163877,67.31725265767317,67.40608573789477,67.47312519142861,67.47282755414969,67.40970112042115],\"yaxis\":\"y2\",\"type\":\"scatter\"},{\"close\":[61.126,61.615,62.833,62.643,62.553,62.773,63.331,63.361,63.771,64.589,64.25,64.16,64.579,65.008,64.888,65.976,66.006,65.307,65.547,65.826,65.946,66.036,65.956,65.787,65.647,64.599,63.98,64.26,63.85,64.07,64.87,65.15,65.83,65.7,66.36,66.56,66.6,66.62,67.54,66.99,66.91,66.12,66.44,66.88,67.25,67.02,67.32,67.39,67.71,67.97,67.49,68.03,68.02,68.13,68.37,68.22,68.25,68.11,67.47,66.81],\"decreasing\":{\"line\":{\"color\":\"#808080\"}},\"high\":[61.595,61.874,62.892,63.237,63.022,63.012,63.446,63.501,63.801,64.699,65.048,64.349,64.679,65.113,65.547,66.136,66.286,66.086,65.737,65.996,66.166,66.315,66.226,66.006,66.136,65.767,64.769,64.529,64.489,64.145,65.07,65.78,65.87,65.99,66.38,66.77,66.86,66.97,67.6,67.82,67.37,66.68,66.585,66.975,67.53,67.68,67.55,68.52,67.83,68.01,67.93,68.17,68.44,68.38,68.67,68.45,68.64,68.33,67.98,67.58],\"increasing\":{\"line\":{\"color\":\"#17BECF\"}},\"low\":[60.158,60.837,61.725,62.473,62.224,62.543,62.842,62.893,63.262,63.771,64.08,63.681,63.92,64.359,64.699,65.278,65.757,65.278,65.028,65.487,65.567,65.866,65.637,65.497,65.577,64.31,63.781,63.92,63.84,63.591,64.29,65.06,65.15,65.52,65.66,66.02,66.22,66.34,66.54,66.89,66.77,65.99,66.07,66.06,67.07,66.93,66.88,67.03,67.2,67.41,67.1,67.54,67.84,67.81,68.01,68.22,68.04,67.771,66.91,66.7],\"name\":\"Trace 1\",\"open\":[60.637,60.966,61.745,62.593,62.743,62.932,62.972,62.912,63.272,63.87,64.769,63.89,64.429,64.719,65.018,65.367,66.136,65.777,65.178,65.547,65.956,66.116,66.176,65.747,65.717,65.667,64.519,64.14,64.12,63.87,64.29,65.06,65.15,65.85,65.68,66.49,66.68,66.68,66.65,67.63,67.2,66.68,66.38,66.44,67.2,67.45,67.31,67.9,67.53,67.8,67.9,67.54,68.2,68.08,68.09,68.22,68.32,68.1,67.92,67.35],\"showlegend\":true,\"x\":[3179,3180,3181,3182,3183,3184,3185,3186,3187,3188,3189,3190,3191,3192,3193,3194,3195,3196,3197,3198,3199,3200,3201,3202,3203,3204,3205,3206,3207,3208,3209,3210,3211,3212,3213,3214,3215,3216,3217,3218,3219,3220,3221,3222,3223,3224,3225,3226,3227,3228,3229,3230,3231,3232,3233,3234,3235,3236,3237,3238],\"yaxis\":\"y2\",\"type\":\"candlestick\"}],                        {\"legend\":{\"bgcolor\":\"#F5F6F9\",\"font\":{\"color\":\"#4D5663\"}},\"margin\":{\"b\":30,\"l\":30,\"r\":30,\"t\":30},\"paper_bgcolor\":\"#F5F6F9\",\"plot_bgcolor\":\"#F5F6F9\",\"showlegend\":true,\"template\":{\"data\":{\"barpolar\":[{\"marker\":{\"line\":{\"color\":\"#E5ECF6\",\"width\":0.5},\"pattern\":{\"fillmode\":\"overlay\",\"size\":10,\"solidity\":0.2}},\"type\":\"barpolar\"}],\"bar\":[{\"error_x\":{\"color\":\"#2a3f5f\"},\"error_y\":{\"color\":\"#2a3f5f\"},\"marker\":{\"line\":{\"color\":\"#E5ECF6\",\"width\":0.5},\"pattern\":{\"fillmode\":\"overlay\",\"size\":10,\"solidity\":0.2}},\"type\":\"bar\"}],\"carpet\":[{\"aaxis\":{\"endlinecolor\":\"#2a3f5f\",\"gridcolor\":\"white\",\"linecolor\":\"white\",\"minorgridcolor\":\"white\",\"startlinecolor\":\"#2a3f5f\"},\"baxis\":{\"endlinecolor\":\"#2a3f5f\",\"gridcolor\":\"white\",\"linecolor\":\"white\",\"minorgridcolor\":\"white\",\"startlinecolor\":\"#2a3f5f\"},\"type\":\"carpet\"}],\"choropleth\":[{\"colorbar\":{\"outlinewidth\":0,\"ticks\":\"\"},\"type\":\"choropleth\"}],\"contourcarpet\":[{\"colorbar\":{\"outlinewidth\":0,\"ticks\":\"\"},\"type\":\"contourcarpet\"}],\"contour\":[{\"colorbar\":{\"outlinewidth\":0,\"ticks\":\"\"},\"colorscale\":[[0.0,\"#0d0887\"],[0.1111111111111111,\"#46039f\"],[0.2222222222222222,\"#7201a8\"],[0.3333333333333333,\"#9c179e\"],[0.4444444444444444,\"#bd3786\"],[0.5555555555555556,\"#d8576b\"],[0.6666666666666666,\"#ed7953\"],[0.7777777777777778,\"#fb9f3a\"],[0.8888888888888888,\"#fdca26\"],[1.0,\"#f0f921\"]],\"type\":\"contour\"}],\"heatmapgl\":[{\"colorbar\":{\"outlinewidth\":0,\"ticks\":\"\"},\"colorscale\":[[0.0,\"#0d0887\"],[0.1111111111111111,\"#46039f\"],[0.2222222222222222,\"#7201a8\"],[0.3333333333333333,\"#9c179e\"],[0.4444444444444444,\"#bd3786\"],[0.5555555555555556,\"#d8576b\"],[0.6666666666666666,\"#ed7953\"],[0.7777777777777778,\"#fb9f3a\"],[0.8888888888888888,\"#fdca26\"],[1.0,\"#f0f921\"]],\"type\":\"heatmapgl\"}],\"heatmap\":[{\"colorbar\":{\"outlinewidth\":0,\"ticks\":\"\"},\"colorscale\":[[0.0,\"#0d0887\"],[0.1111111111111111,\"#46039f\"],[0.2222222222222222,\"#7201a8\"],[0.3333333333333333,\"#9c179e\"],[0.4444444444444444,\"#bd3786\"],[0.5555555555555556,\"#d8576b\"],[0.6666666666666666,\"#ed7953\"],[0.7777777777777778,\"#fb9f3a\"],[0.8888888888888888,\"#fdca26\"],[1.0,\"#f0f921\"]],\"type\":\"heatmap\"}],\"histogram2dcontour\":[{\"colorbar\":{\"outlinewidth\":0,\"ticks\":\"\"},\"colorscale\":[[0.0,\"#0d0887\"],[0.1111111111111111,\"#46039f\"],[0.2222222222222222,\"#7201a8\"],[0.3333333333333333,\"#9c179e\"],[0.4444444444444444,\"#bd3786\"],[0.5555555555555556,\"#d8576b\"],[0.6666666666666666,\"#ed7953\"],[0.7777777777777778,\"#fb9f3a\"],[0.8888888888888888,\"#fdca26\"],[1.0,\"#f0f921\"]],\"type\":\"histogram2dcontour\"}],\"histogram2d\":[{\"colorbar\":{\"outlinewidth\":0,\"ticks\":\"\"},\"colorscale\":[[0.0,\"#0d0887\"],[0.1111111111111111,\"#46039f\"],[0.2222222222222222,\"#7201a8\"],[0.3333333333333333,\"#9c179e\"],[0.4444444444444444,\"#bd3786\"],[0.5555555555555556,\"#d8576b\"],[0.6666666666666666,\"#ed7953\"],[0.7777777777777778,\"#fb9f3a\"],[0.8888888888888888,\"#fdca26\"],[1.0,\"#f0f921\"]],\"type\":\"histogram2d\"}],\"histogram\":[{\"marker\":{\"pattern\":{\"fillmode\":\"overlay\",\"size\":10,\"solidity\":0.2}},\"type\":\"histogram\"}],\"mesh3d\":[{\"colorbar\":{\"outlinewidth\":0,\"ticks\":\"\"},\"type\":\"mesh3d\"}],\"parcoords\":[{\"line\":{\"colorbar\":{\"outlinewidth\":0,\"ticks\":\"\"}},\"type\":\"parcoords\"}],\"pie\":[{\"automargin\":true,\"type\":\"pie\"}],\"scatter3d\":[{\"line\":{\"colorbar\":{\"outlinewidth\":0,\"ticks\":\"\"}},\"marker\":{\"colorbar\":{\"outlinewidth\":0,\"ticks\":\"\"}},\"type\":\"scatter3d\"}],\"scattercarpet\":[{\"marker\":{\"colorbar\":{\"outlinewidth\":0,\"ticks\":\"\"}},\"type\":\"scattercarpet\"}],\"scattergeo\":[{\"marker\":{\"colorbar\":{\"outlinewidth\":0,\"ticks\":\"\"}},\"type\":\"scattergeo\"}],\"scattergl\":[{\"marker\":{\"colorbar\":{\"outlinewidth\":0,\"ticks\":\"\"}},\"type\":\"scattergl\"}],\"scattermapbox\":[{\"marker\":{\"colorbar\":{\"outlinewidth\":0,\"ticks\":\"\"}},\"type\":\"scattermapbox\"}],\"scatterpolargl\":[{\"marker\":{\"colorbar\":{\"outlinewidth\":0,\"ticks\":\"\"}},\"type\":\"scatterpolargl\"}],\"scatterpolar\":[{\"marker\":{\"colorbar\":{\"outlinewidth\":0,\"ticks\":\"\"}},\"type\":\"scatterpolar\"}],\"scatter\":[{\"marker\":{\"colorbar\":{\"outlinewidth\":0,\"ticks\":\"\"}},\"type\":\"scatter\"}],\"scatterternary\":[{\"marker\":{\"colorbar\":{\"outlinewidth\":0,\"ticks\":\"\"}},\"type\":\"scatterternary\"}],\"surface\":[{\"colorbar\":{\"outlinewidth\":0,\"ticks\":\"\"},\"colorscale\":[[0.0,\"#0d0887\"],[0.1111111111111111,\"#46039f\"],[0.2222222222222222,\"#7201a8\"],[0.3333333333333333,\"#9c179e\"],[0.4444444444444444,\"#bd3786\"],[0.5555555555555556,\"#d8576b\"],[0.6666666666666666,\"#ed7953\"],[0.7777777777777778,\"#fb9f3a\"],[0.8888888888888888,\"#fdca26\"],[1.0,\"#f0f921\"]],\"type\":\"surface\"}],\"table\":[{\"cells\":{\"fill\":{\"color\":\"#EBF0F8\"},\"line\":{\"color\":\"white\"}},\"header\":{\"fill\":{\"color\":\"#C8D4E3\"},\"line\":{\"color\":\"white\"}},\"type\":\"table\"}]},\"layout\":{\"annotationdefaults\":{\"arrowcolor\":\"#2a3f5f\",\"arrowhead\":0,\"arrowwidth\":1},\"autotypenumbers\":\"strict\",\"coloraxis\":{\"colorbar\":{\"outlinewidth\":0,\"ticks\":\"\"}},\"colorscale\":{\"diverging\":[[0,\"#8e0152\"],[0.1,\"#c51b7d\"],[0.2,\"#de77ae\"],[0.3,\"#f1b6da\"],[0.4,\"#fde0ef\"],[0.5,\"#f7f7f7\"],[0.6,\"#e6f5d0\"],[0.7,\"#b8e186\"],[0.8,\"#7fbc41\"],[0.9,\"#4d9221\"],[1,\"#276419\"]],\"sequential\":[[0.0,\"#0d0887\"],[0.1111111111111111,\"#46039f\"],[0.2222222222222222,\"#7201a8\"],[0.3333333333333333,\"#9c179e\"],[0.4444444444444444,\"#bd3786\"],[0.5555555555555556,\"#d8576b\"],[0.6666666666666666,\"#ed7953\"],[0.7777777777777778,\"#fb9f3a\"],[0.8888888888888888,\"#fdca26\"],[1.0,\"#f0f921\"]],\"sequentialminus\":[[0.0,\"#0d0887\"],[0.1111111111111111,\"#46039f\"],[0.2222222222222222,\"#7201a8\"],[0.3333333333333333,\"#9c179e\"],[0.4444444444444444,\"#bd3786\"],[0.5555555555555556,\"#d8576b\"],[0.6666666666666666,\"#ed7953\"],[0.7777777777777778,\"#fb9f3a\"],[0.8888888888888888,\"#fdca26\"],[1.0,\"#f0f921\"]]},\"colorway\":[\"#636efa\",\"#EF553B\",\"#00cc96\",\"#ab63fa\",\"#FFA15A\",\"#19d3f3\",\"#FF6692\",\"#B6E880\",\"#FF97FF\",\"#FECB52\"],\"font\":{\"color\":\"#2a3f5f\"},\"geo\":{\"bgcolor\":\"white\",\"lakecolor\":\"white\",\"landcolor\":\"#E5ECF6\",\"showlakes\":true,\"showland\":true,\"subunitcolor\":\"white\"},\"hoverlabel\":{\"align\":\"left\"},\"hovermode\":\"closest\",\"mapbox\":{\"style\":\"light\"},\"paper_bgcolor\":\"white\",\"plot_bgcolor\":\"#E5ECF6\",\"polar\":{\"angularaxis\":{\"gridcolor\":\"white\",\"linecolor\":\"white\",\"ticks\":\"\"},\"bgcolor\":\"#E5ECF6\",\"radialaxis\":{\"gridcolor\":\"white\",\"linecolor\":\"white\",\"ticks\":\"\"}},\"scene\":{\"xaxis\":{\"backgroundcolor\":\"#E5ECF6\",\"gridcolor\":\"white\",\"gridwidth\":2,\"linecolor\":\"white\",\"showbackground\":true,\"ticks\":\"\",\"zerolinecolor\":\"white\"},\"yaxis\":{\"backgroundcolor\":\"#E5ECF6\",\"gridcolor\":\"white\",\"gridwidth\":2,\"linecolor\":\"white\",\"showbackground\":true,\"ticks\":\"\",\"zerolinecolor\":\"white\"},\"zaxis\":{\"backgroundcolor\":\"#E5ECF6\",\"gridcolor\":\"white\",\"gridwidth\":2,\"linecolor\":\"white\",\"showbackground\":true,\"ticks\":\"\",\"zerolinecolor\":\"white\"}},\"shapedefaults\":{\"line\":{\"color\":\"#2a3f5f\"}},\"ternary\":{\"aaxis\":{\"gridcolor\":\"white\",\"linecolor\":\"white\",\"ticks\":\"\"},\"baxis\":{\"gridcolor\":\"white\",\"linecolor\":\"white\",\"ticks\":\"\"},\"bgcolor\":\"#E5ECF6\",\"caxis\":{\"gridcolor\":\"white\",\"linecolor\":\"white\",\"ticks\":\"\"}},\"title\":{\"x\":0.05},\"xaxis\":{\"automargin\":true,\"gridcolor\":\"white\",\"linecolor\":\"white\",\"ticks\":\"\",\"title\":{\"standoff\":15},\"zerolinecolor\":\"white\",\"zerolinewidth\":2},\"yaxis\":{\"automargin\":true,\"gridcolor\":\"white\",\"linecolor\":\"white\",\"ticks\":\"\",\"title\":{\"standoff\":15},\"zerolinecolor\":\"white\",\"zerolinewidth\":2}}},\"title\":{\"font\":{\"color\":\"#4D5663\"}},\"xaxis\":{\"anchor\":\"y2\",\"gridcolor\":\"#E1E5ED\",\"rangeselector\":{\"bgcolor\":\"rgba(150, 200, 250, 1)\",\"buttons\":[{\"count\":1,\"label\":\"1m\",\"step\":\"month\",\"stepmode\":\"backward\"},{\"count\":1,\"label\":\"1y\",\"step\":\"year\",\"stepmode\":\"backward\"}],\"font\":{\"size\":13},\"visible\":false,\"x\":0,\"y\":0.9},\"rangeslider\":{\"visible\":false},\"showgrid\":true,\"tickfont\":{\"color\":\"#4D5663\"},\"title\":{\"font\":{\"color\":\"#4D5663\"},\"text\":\"\"},\"zerolinecolor\":\"#E1E5ED\"},\"yaxis\":{\"gridcolor\":\"#E1E5ED\",\"showgrid\":true,\"showticklabels\":false,\"tickfont\":{\"color\":\"#4D5663\"},\"title\":{\"font\":{\"color\":\"#4D5663\"},\"text\":\"\"},\"zerolinecolor\":\"#E1E5ED\"},\"yaxis2\":{\"domain\":[0.0,0.9],\"gridcolor\":\"#E1E5ED\",\"showgrid\":true,\"tickfont\":{\"color\":\"#4D5663\"},\"title\":{\"font\":{\"color\":\"#4D5663\"},\"text\":\"\"},\"zerolinecolor\":\"#E1E5ED\"}},                        {\"responsive\": true}                    ).then(function(){\n",
       "                            \n",
       "var gd = document.getElementById('5cc34720-a322-41dd-9ab8-7689d437e57e');\n",
       "var x = new MutationObserver(function (mutations, observer) {{\n",
       "        var display = window.getComputedStyle(gd).display;\n",
       "        if (!display || display === 'none') {{\n",
       "            console.log([gd, 'removed!']);\n",
       "            Plotly.purge(gd);\n",
       "            observer.disconnect();\n",
       "        }}\n",
       "}});\n",
       "\n",
       "// Listen for the removal of the full notebook cells\n",
       "var notebookContainer = gd.closest('#notebook-container');\n",
       "if (notebookContainer) {{\n",
       "    x.observe(notebookContainer, {childList: true});\n",
       "}}\n",
       "\n",
       "// Listen for the clearing of the current output cell\n",
       "var outputEl = gd.closest('.output');\n",
       "if (outputEl) {{\n",
       "    x.observe(outputEl, {childList: true});\n",
       "}}\n",
       "\n",
       "                        }).then(function(){\n",
       "                            function downloadimage(format, height, width, filename) {var p = document.getElementById('5cc34720-a322-41dd-9ab8-7689d437e57e');Plotly.downloadImage(p, {format: format, height: height, width: width, filename: filename});};if(document.readyState == 'complete') {downloadimage('png', 600, 800, 'qf_04');}\n",
       "                        })                };                });            </script>        </div>"
      ]
     },
     "metadata": {},
     "output_type": "display_data"
    }
   ],
   "source": [
    "qf=cf.QuantFig(tickers.get_group('a')[-60:])\n",
    "qf.add_ema()\n",
    "plyo.iplot(qf.iplot(asFigure=True),image='png',filename='qf_04')"
   ]
  },
  {
   "cell_type": "markdown",
   "metadata": {},
   "source": [
    "#### refer to :-https://jpoles1.github.io/cufflinks/html/cufflinks.quant_figure.html"
   ]
  },
  {
   "cell_type": "code",
   "execution_count": 17,
   "metadata": {},
   "outputs": [
    {
     "name": "stdout",
     "output_type": "stream",
     "text": [
      "Requirement already satisfied: ta in c:\\users\\chait\\appdata\\local\\programs\\python\\python39\\lib\\site-packages (0.8.0)"
     ]
    },
    {
     "name": "stderr",
     "output_type": "stream",
     "text": [
      "WARNING: You are using pip version 21.2.4; however, version 21.3.1 is available.\n",
      "You should consider upgrading via the 'c:\\users\\chait\\appdata\\local\\programs\\python\\python39\\python.exe -m pip install --upgrade pip' command.\n"
     ]
    },
    {
     "name": "stdout",
     "output_type": "stream",
     "text": [
      "\n",
      "Requirement already satisfied: pandas in c:\\users\\chait\\appdata\\local\\programs\\python\\python39\\lib\\site-packages (from ta) (1.2.3)\n",
      "Requirement already satisfied: numpy in c:\\users\\chait\\appdata\\local\\programs\\python\\python39\\lib\\site-packages (from ta) (1.19.5)\n",
      "Requirement already satisfied: python-dateutil>=2.7.3 in c:\\users\\chait\\appdata\\local\\programs\\python\\python39\\lib\\site-packages (from pandas->ta) (2.8.1)\n",
      "Requirement already satisfied: pytz>=2017.3 in c:\\users\\chait\\appdata\\local\\programs\\python\\python39\\lib\\site-packages (from pandas->ta) (2021.1)\n",
      "Requirement already satisfied: six>=1.5 in c:\\users\\chait\\appdata\\local\\programs\\python\\python39\\lib\\site-packages (from python-dateutil>=2.7.3->pandas->ta) (1.15.0)\n"
     ]
    }
   ],
   "source": [
    "!pip install ta"
   ]
  },
  {
   "cell_type": "markdown",
   "metadata": {},
   "source": [
    "#### adding in the market cap"
   ]
  },
  {
   "cell_type": "code",
   "execution_count": 18,
   "metadata": {},
   "outputs": [],
   "source": [
    "df['total traded']=df['open']*df['volume']"
   ]
  },
  {
   "cell_type": "code",
   "execution_count": 19,
   "metadata": {},
   "outputs": [
    {
     "data": {
      "text/plain": [
       "14168872"
      ]
     },
     "execution_count": 19,
     "metadata": {},
     "output_type": "execute_result"
    }
   ],
   "source": [
    "df.size"
   ]
  },
  {
   "cell_type": "markdown",
   "metadata": {},
   "source": [
    "#### outlier removal"
   ]
  },
  {
   "cell_type": "code",
   "execution_count": 20,
   "metadata": {},
   "outputs": [],
   "source": [
    "tickers=df.groupby('ticker')\n",
    "temp=pd.DataFrame()\n",
    "for i in list(tickers.groups.keys()):\n",
    "    tic=tickers.get_group(i)\n",
    "    ##outliers removed via percentile method\n",
    "    max1=tic['open'].quantile(0.999)\n",
    "    tic=tic[tic['open']<max1]\n",
    "    min1=tic['open'].quantile(0.001)\n",
    "    tic=tic[tic['open']>min1]\n",
    "    \n",
    "    max1=tic['high'].quantile(0.999)\n",
    "    tic=tic[tic['high']<max1]\n",
    "    min1=tic['high'].quantile(0.001)\n",
    "    tic=tic[tic['high']>min1]\n",
    "    \n",
    "    max1=tic['low'].quantile(0.999)\n",
    "    tic=tic[tic['low']<max1]\n",
    "    min1=tic['low'].quantile(0.001)\n",
    "    tic=tic[tic['low']>min1]\n",
    "    \n",
    "    max1=tic['close'].quantile(0.999)\n",
    "    tic=tic[tic['close']<max1]\n",
    "    min1=tic['close'].quantile(0.001)\n",
    "    tic=tic[tic['close']>min1]\n",
    "    \n",
    "    max1=tic['volume'].quantile(0.999)\n",
    "    tic=tic[tic['volume']<max1]\n",
    "    min1=tic['volume'].quantile(0.001)\n",
    "    tic=tic[tic['volume']>min1]\n",
    "    \n",
    "    ##outliers via iqr method\n",
    "    iqr1=tic['open'].quantile(0.75)-tic['open'].quantile(0.25)\n",
    "    tic=tic[tic['open']<tic['open'].quantile(0.75)+1.5*iqr1]\n",
    "    tic=tic[tic['open']>tic['open'].quantile(0.25)-1.5*iqr1]\n",
    "    \n",
    "    iqr1=tic['high'].quantile(0.75)-tic['high'].quantile(0.25)\n",
    "    tic=tic[tic['high']<tic['high'].quantile(0.75)+1.5*iqr1]\n",
    "    tic=tic[tic['high']>tic['high'].quantile(0.25)-1.5*iqr1]\n",
    "    \n",
    "    iqr1=tic['low'].quantile(0.75)-tic['low'].quantile(0.25)\n",
    "    tic=tic[tic['low']<tic['low'].quantile(0.75)+1.5*iqr1]\n",
    "    tic=tic[tic['low']>tic['low'].quantile(0.25)-1.5*iqr1]\n",
    "    \n",
    "    iqr1=tic['close'].quantile(0.75)-tic['close'].quantile(0.25)\n",
    "    tic=tic[tic['close']<tic['close'].quantile(0.75)+1.5*iqr1]\n",
    "    tic=tic[tic['close']>tic['close'].quantile(0.25)-1.5*iqr1]\n",
    "    \n",
    "    iqr1=tic['volume'].quantile(0.75)-tic['volume'].quantile(0.25)\n",
    "    tic=tic[tic['volume']<tic['volume'].quantile(0.75)+1.5*iqr1]\n",
    "    tic=tic[tic['volume']>tic['volume'].quantile(0.25)-1.5*iqr1]\n",
    "    \n",
    "    temp=pd.concat([temp,tic])"
   ]
  },
  {
   "cell_type": "code",
   "execution_count": 21,
   "metadata": {},
   "outputs": [
    {
     "data": {
      "text/plain": [
       "12442784"
      ]
     },
     "execution_count": 21,
     "metadata": {},
     "output_type": "execute_result"
    }
   ],
   "source": [
    "df=temp\n",
    "temp.size\n"
   ]
  },
  {
   "cell_type": "markdown",
   "metadata": {},
   "source": [
    "#### making all these features that is all the indicators for all the tickers now"
   ]
  },
  {
   "cell_type": "code",
   "execution_count": 22,
   "metadata": {},
   "outputs": [],
   "source": [
    "# working with df\n",
    "\n",
    "\n",
    "from ta import add_all_ta_features\n",
    "from ta.momentum import WilliamsRIndicator,UltimateOscillator,TSIIndicator,StochasticOscillator,StochRSIIndicator,RSIIndicator,ROCIndicator,AwesomeOscillatorIndicator,PercentageVolumeOscillator,PercentagePriceOscillator,KAMAIndicator\n",
    "from ta.volume import VolumeWeightedAveragePrice,VolumePriceTrendIndicator,OnBalanceVolumeIndicator,NegativeVolumeIndexIndicator,MFIIndicator,ForceIndexIndicator,EaseOfMovementIndicator,ChaikinMoneyFlowIndicator,AccDistIndexIndicator\n",
    "from ta.volatility import AverageTrueRange,BollingerBands,UlcerIndex\n",
    "from ta.trend import ADXIndicator"
   ]
  },
  {
   "cell_type": "code",
   "execution_count": 23,
   "metadata": {},
   "outputs": [],
   "source": [
    "tickers=df.groupby('ticker')\n",
    "newdf=pd.DataFrame()\n",
    "for i in list(tickers.groups.keys()):\n",
    "    ticker_df=tickers.get_group(i)   \n",
    "    \n",
    "    ## 11 momentum indicators\n",
    "    awe=AwesomeOscillatorIndicator(ticker_df['high'],ticker_df['low'])\n",
    "    kama=KAMAIndicator(ticker_df['close'])\n",
    "    ppo=PercentagePriceOscillator(ticker_df['close'])\n",
    "    pvo=PercentageVolumeOscillator(ticker_df['volume'])\n",
    "    roc=ROCIndicator(ticker_df['close'])\n",
    "    rsi=RSIIndicator(ticker_df['close'])\n",
    "    srsi=StochRSIIndicator(ticker_df['close'])\n",
    "    so=StochasticOscillator(ticker_df['high'],ticker_df['low'],ticker_df['close'])\n",
    "    tsi=TSIIndicator(ticker_df['close'])\n",
    "    uo=UltimateOscillator(ticker_df['high'],ticker_df['low'],ticker_df['close'])\n",
    "    wr=WilliamsRIndicator(ticker_df['high'],ticker_df['low'],ticker_df['close'])\n",
    "    ## 9 volume indicators\n",
    "    adi=AccDistIndexIndicator(ticker_df['high'],ticker_df['low'],ticker_df['close'],ticker_df['volume'])\n",
    "    cmf=ChaikinMoneyFlowIndicator(ticker_df['high'],ticker_df['low'],ticker_df['close'],ticker_df['volume'])\n",
    "    eom=EaseOfMovementIndicator(ticker_df['high'],ticker_df['low'],ticker_df['volume'])\n",
    "    fi=ForceIndexIndicator(ticker_df['close'],ticker_df['volume'])\n",
    "    mfi=MFIIndicator(ticker_df['high'],ticker_df['low'],ticker_df['close'],ticker_df['volume'])\n",
    "    nvi=NegativeVolumeIndexIndicator(ticker_df['close'],ticker_df['volume'])\n",
    "    obv=OnBalanceVolumeIndicator(ticker_df['close'],ticker_df['volume'])\n",
    "    vpt=VolumePriceTrendIndicator(ticker_df['close'],ticker_df['volume'])\n",
    "    vwa=VolumeWeightedAveragePrice(ticker_df['high'],ticker_df['low'],ticker_df['close'],ticker_df['volume'])\n",
    "    ## volatility indicators\n",
    "    #atr=AverageTrueRange(ticker_df['high'],ticker_df['low'],ticker_df['close'])\n",
    "    bb=BollingerBands(ticker_df['close'])\n",
    "    ui=UlcerIndex(ticker_df['close'])\n",
    "    ## Trend Indicators.\n",
    "    #adx=ADXIndicator(ticker_df['high'],ticker_df['low'],ticker_df['close'])\n",
    "    \n",
    "    ## 11 momentum indicators\n",
    "    ticker_df['awesome']=awe.awesome_oscillator()\n",
    "    ticker_df['kama']=kama.kama()\n",
    "    ticker_df['ppo']=ppo.ppo()\n",
    "    ticker_df['ppo hist']=ppo.ppo_hist()\n",
    "    ticker_df['ppo signal']=ppo.ppo_signal()\n",
    "    ticker_df['pvo']=pvo.pvo()\n",
    "    ticker_df['pvo hist']=pvo.pvo_hist()\n",
    "    ticker_df['pvo signal']=pvo.pvo_signal()\n",
    "    ticker_df['roc']=roc.roc()\n",
    "    ticker_df['rsi']=rsi.rsi()\n",
    "    ticker_df['srsi']=srsi.stochrsi()\n",
    "    ticker_df['srsi d']=srsi.stochrsi_d()\n",
    "    ticker_df['srsi k']=srsi.stochrsi_k()\n",
    "    ticker_df['so']=so.stoch()\n",
    "    ticker_df['so signal']=so.stoch_signal()\n",
    "    ticker_df['tsi']=tsi.tsi()\n",
    "    ticker_df['uo']=uo.ultimate_oscillator()\n",
    "    ticker_df['wr']=wr.williams_r()\n",
    "    ## 9 volume indicators\n",
    "    ticker_df['adi']=adi.acc_dist_index()\n",
    "    ticker_df['cmf']=cmf.chaikin_money_flow()\n",
    "    ticker_df['eom']=eom.ease_of_movement()\n",
    "    ticker_df['eom signal']=eom.sma_ease_of_movement()\n",
    "    ticker_df['fi']=fi.force_index()\n",
    "    ticker_df['mfi']=mfi.money_flow_index()\n",
    "    ticker_df['nvi']=nvi.negative_volume_index()\n",
    "    ticker_df['obv']=obv.on_balance_volume()\n",
    "    ticker_df['vpt']=vpt.volume_price_trend()\n",
    "    ticker_df['vwa']=vwa.volume_weighted_average_price()\n",
    "    ## volatility indicators\n",
    "    #ticker_df['atr']=atr.average_true_range()\n",
    "    ticker_df['bhb']=bb.bollinger_hband()\n",
    "    ticker_df['bhbi']=bb.bollinger_hband_indicator()\n",
    "    ticker_df['blb']=bb.bollinger_lband()\n",
    "    ticker_df['blbi']=bb.bollinger_lband_indicator()\n",
    "    ticker_df['bm']=bb.bollinger_mavg()\n",
    "    ticker_df['bpb']=bb.bollinger_pband()\n",
    "    ticker_df['bwb']=bb.bollinger_wband()\n",
    "    ticker_df['ui']=ui.ulcer_index()\n",
    "    #ticker_df['adx']=adx.adx()\n",
    "    #ticker_df['adx pos']=adx.adx_pos()\n",
    "   # ticker_df['adx neg']=adx.adx_neg()   \n",
    "    \n",
    "    newdf=pd.concat([newdf,ticker_df])"
   ]
  },
  {
   "cell_type": "code",
   "execution_count": 24,
   "metadata": {},
   "outputs": [
    {
     "data": {
      "text/html": [
       "<div>\n",
       "<style scoped>\n",
       "    .dataframe tbody tr th:only-of-type {\n",
       "        vertical-align: middle;\n",
       "    }\n",
       "\n",
       "    .dataframe tbody tr th {\n",
       "        vertical-align: top;\n",
       "    }\n",
       "\n",
       "    .dataframe thead th {\n",
       "        text-align: right;\n",
       "    }\n",
       "</style>\n",
       "<table border=\"1\" class=\"dataframe\">\n",
       "  <thead>\n",
       "    <tr style=\"text-align: right;\">\n",
       "      <th></th>\n",
       "      <th>ticker</th>\n",
       "      <th>date</th>\n",
       "      <th>open</th>\n",
       "      <th>high</th>\n",
       "      <th>low</th>\n",
       "      <th>close</th>\n",
       "      <th>volume</th>\n",
       "      <th>total traded</th>\n",
       "      <th>awesome</th>\n",
       "      <th>kama</th>\n",
       "      <th>...</th>\n",
       "      <th>vpt</th>\n",
       "      <th>vwa</th>\n",
       "      <th>bhb</th>\n",
       "      <th>bhbi</th>\n",
       "      <th>blb</th>\n",
       "      <th>blbi</th>\n",
       "      <th>bm</th>\n",
       "      <th>bpb</th>\n",
       "      <th>bwb</th>\n",
       "      <th>ui</th>\n",
       "    </tr>\n",
       "  </thead>\n",
       "  <tbody>\n",
       "    <tr>\n",
       "      <th>1771098</th>\n",
       "      <td>clne</td>\n",
       "      <td>2017-10-27</td>\n",
       "      <td>2.30</td>\n",
       "      <td>2.33</td>\n",
       "      <td>2.27</td>\n",
       "      <td>2.29</td>\n",
       "      <td>1028467.0</td>\n",
       "      <td>2365474.10</td>\n",
       "      <td>-0.092831</td>\n",
       "      <td>2.364872</td>\n",
       "      <td>...</td>\n",
       "      <td>-12522.459023</td>\n",
       "      <td>2.363964</td>\n",
       "      <td>2.508991</td>\n",
       "      <td>0.0</td>\n",
       "      <td>2.277009</td>\n",
       "      <td>0.0</td>\n",
       "      <td>2.3930</td>\n",
       "      <td>0.056001</td>\n",
       "      <td>9.694223</td>\n",
       "      <td>5.410943</td>\n",
       "    </tr>\n",
       "    <tr>\n",
       "      <th>1771099</th>\n",
       "      <td>clne</td>\n",
       "      <td>2017-10-30</td>\n",
       "      <td>2.28</td>\n",
       "      <td>2.32</td>\n",
       "      <td>2.26</td>\n",
       "      <td>2.30</td>\n",
       "      <td>1269343.0</td>\n",
       "      <td>2894102.04</td>\n",
       "      <td>-0.098096</td>\n",
       "      <td>2.356868</td>\n",
       "      <td>...</td>\n",
       "      <td>-3361.493658</td>\n",
       "      <td>2.352811</td>\n",
       "      <td>2.489117</td>\n",
       "      <td>0.0</td>\n",
       "      <td>2.274883</td>\n",
       "      <td>0.0</td>\n",
       "      <td>2.3820</td>\n",
       "      <td>0.117240</td>\n",
       "      <td>8.993850</td>\n",
       "      <td>5.594720</td>\n",
       "    </tr>\n",
       "    <tr>\n",
       "      <th>1771100</th>\n",
       "      <td>clne</td>\n",
       "      <td>2017-10-31</td>\n",
       "      <td>2.35</td>\n",
       "      <td>2.40</td>\n",
       "      <td>2.30</td>\n",
       "      <td>2.35</td>\n",
       "      <td>879314.0</td>\n",
       "      <td>2066387.90</td>\n",
       "      <td>-0.096684</td>\n",
       "      <td>2.356810</td>\n",
       "      <td>...</td>\n",
       "      <td>24658.504272</td>\n",
       "      <td>2.347288</td>\n",
       "      <td>2.470656</td>\n",
       "      <td>0.0</td>\n",
       "      <td>2.279344</td>\n",
       "      <td>0.0</td>\n",
       "      <td>2.3750</td>\n",
       "      <td>0.369323</td>\n",
       "      <td>8.055211</td>\n",
       "      <td>5.615794</td>\n",
       "    </tr>\n",
       "    <tr>\n",
       "      <th>1771101</th>\n",
       "      <td>clne</td>\n",
       "      <td>2017-11-01</td>\n",
       "      <td>2.37</td>\n",
       "      <td>2.44</td>\n",
       "      <td>2.35</td>\n",
       "      <td>2.41</td>\n",
       "      <td>930360.0</td>\n",
       "      <td>2204953.20</td>\n",
       "      <td>-0.077346</td>\n",
       "      <td>2.359205</td>\n",
       "      <td>...</td>\n",
       "      <td>42869.394080</td>\n",
       "      <td>2.347014</td>\n",
       "      <td>2.467734</td>\n",
       "      <td>0.0</td>\n",
       "      <td>2.280266</td>\n",
       "      <td>0.0</td>\n",
       "      <td>2.3740</td>\n",
       "      <td>0.692033</td>\n",
       "      <td>7.896686</td>\n",
       "      <td>5.504276</td>\n",
       "    </tr>\n",
       "    <tr>\n",
       "      <th>1771102</th>\n",
       "      <td>clne</td>\n",
       "      <td>2017-11-02</td>\n",
       "      <td>2.42</td>\n",
       "      <td>2.43</td>\n",
       "      <td>2.35</td>\n",
       "      <td>2.39</td>\n",
       "      <td>755638.0</td>\n",
       "      <td>1828643.96</td>\n",
       "      <td>-0.059551</td>\n",
       "      <td>2.359903</td>\n",
       "      <td>...</td>\n",
       "      <td>17483.017569</td>\n",
       "      <td>2.347058</td>\n",
       "      <td>2.460612</td>\n",
       "      <td>0.0</td>\n",
       "      <td>2.282388</td>\n",
       "      <td>0.0</td>\n",
       "      <td>2.3715</td>\n",
       "      <td>0.603802</td>\n",
       "      <td>7.515268</td>\n",
       "      <td>5.359716</td>\n",
       "    </tr>\n",
       "  </tbody>\n",
       "</table>\n",
       "<p>5 rows × 44 columns</p>\n",
       "</div>"
      ],
      "text/plain": [
       "        ticker        date  open  high   low  close     volume  total traded  \\\n",
       "1771098   clne  2017-10-27  2.30  2.33  2.27   2.29  1028467.0    2365474.10   \n",
       "1771099   clne  2017-10-30  2.28  2.32  2.26   2.30  1269343.0    2894102.04   \n",
       "1771100   clne  2017-10-31  2.35  2.40  2.30   2.35   879314.0    2066387.90   \n",
       "1771101   clne  2017-11-01  2.37  2.44  2.35   2.41   930360.0    2204953.20   \n",
       "1771102   clne  2017-11-02  2.42  2.43  2.35   2.39   755638.0    1828643.96   \n",
       "\n",
       "          awesome      kama  ...           vpt       vwa       bhb  bhbi  \\\n",
       "1771098 -0.092831  2.364872  ... -12522.459023  2.363964  2.508991   0.0   \n",
       "1771099 -0.098096  2.356868  ...  -3361.493658  2.352811  2.489117   0.0   \n",
       "1771100 -0.096684  2.356810  ...  24658.504272  2.347288  2.470656   0.0   \n",
       "1771101 -0.077346  2.359205  ...  42869.394080  2.347014  2.467734   0.0   \n",
       "1771102 -0.059551  2.359903  ...  17483.017569  2.347058  2.460612   0.0   \n",
       "\n",
       "              blb  blbi      bm       bpb       bwb        ui  \n",
       "1771098  2.277009   0.0  2.3930  0.056001  9.694223  5.410943  \n",
       "1771099  2.274883   0.0  2.3820  0.117240  8.993850  5.594720  \n",
       "1771100  2.279344   0.0  2.3750  0.369323  8.055211  5.615794  \n",
       "1771101  2.280266   0.0  2.3740  0.692033  7.896686  5.504276  \n",
       "1771102  2.282388   0.0  2.3715  0.603802  7.515268  5.359716  \n",
       "\n",
       "[5 rows x 44 columns]"
      ]
     },
     "execution_count": 24,
     "metadata": {},
     "output_type": "execute_result"
    }
   ],
   "source": [
    "newdf.tail()"
   ]
  },
  {
   "cell_type": "code",
   "execution_count": 25,
   "metadata": {},
   "outputs": [
    {
     "data": {
      "text/plain": [
       "769"
      ]
     },
     "execution_count": 25,
     "metadata": {},
     "output_type": "execute_result"
    }
   ],
   "source": [
    "tickers=newdf.groupby('ticker')\n",
    "len(list(tickers.groups.keys()))"
   ]
  },
  {
   "cell_type": "markdown",
   "metadata": {},
   "source": [
    "https://technical-analysis-library-in-python.readthedocs.io/en/latest/index.html"
   ]
  },
  {
   "cell_type": "markdown",
   "metadata": {},
   "source": [
    "feature selection"
   ]
  },
  {
   "cell_type": "markdown",
   "metadata": {},
   "source": [
    "#### random forest importance"
   ]
  },
  {
   "cell_type": "code",
   "execution_count": null,
   "metadata": {},
   "outputs": [],
   "source": [
    "newdf.to_csv('newdf.csv')"
   ]
  },
  {
   "cell_type": "code",
   "execution_count": 29,
   "metadata": {},
   "outputs": [],
   "source": [
    "newdf=pd.read_csv('newdf.csv')"
   ]
  },
  {
   "cell_type": "code",
   "execution_count": 34,
   "metadata": {},
   "outputs": [],
   "source": [
    "dummies=pd.get_dummies(newdf['ticker'])\n",
    "merged=pd.concat([newdf,dummies],axis='columns')\n",
    "merged=merged.drop(['ticker'],axis=1)"
   ]
  },
  {
   "cell_type": "code",
   "execution_count": 38,
   "metadata": {},
   "outputs": [],
   "source": [
    "merged=merged.drop(['Unnamed: 0'],axis=1)"
   ]
  },
  {
   "cell_type": "code",
   "execution_count": 42,
   "metadata": {},
   "outputs": [
    {
     "data": {
      "text/html": [
       "<div>\n",
       "<style scoped>\n",
       "    .dataframe tbody tr th:only-of-type {\n",
       "        vertical-align: middle;\n",
       "    }\n",
       "\n",
       "    .dataframe tbody tr th {\n",
       "        vertical-align: top;\n",
       "    }\n",
       "\n",
       "    .dataframe thead th {\n",
       "        text-align: right;\n",
       "    }\n",
       "</style>\n",
       "<table border=\"1\" class=\"dataframe\">\n",
       "  <thead>\n",
       "    <tr style=\"text-align: right;\">\n",
       "      <th></th>\n",
       "      <th>date</th>\n",
       "      <th>open</th>\n",
       "      <th>high</th>\n",
       "      <th>low</th>\n",
       "      <th>close</th>\n",
       "      <th>volume</th>\n",
       "      <th>total traded</th>\n",
       "      <th>awesome</th>\n",
       "      <th>kama</th>\n",
       "      <th>ppo</th>\n",
       "      <th>...</th>\n",
       "      <th>cldx</th>\n",
       "      <th>clf</th>\n",
       "      <th>clfd</th>\n",
       "      <th>clgx</th>\n",
       "      <th>clh</th>\n",
       "      <th>cli</th>\n",
       "      <th>clir</th>\n",
       "      <th>clm</th>\n",
       "      <th>clmt</th>\n",
       "      <th>clne</th>\n",
       "    </tr>\n",
       "  </thead>\n",
       "  <tbody>\n",
       "    <tr>\n",
       "      <th>1771104</th>\n",
       "      <td>2017-11-06</td>\n",
       "      <td>2.08</td>\n",
       "      <td>2.12</td>\n",
       "      <td>2.07</td>\n",
       "      <td>2.10</td>\n",
       "      <td>2081824.0</td>\n",
       "      <td>4330193.92</td>\n",
       "      <td>-0.122669</td>\n",
       "      <td>2.290970</td>\n",
       "      <td>-2.438575</td>\n",
       "      <td>...</td>\n",
       "      <td>0</td>\n",
       "      <td>0</td>\n",
       "      <td>0</td>\n",
       "      <td>0</td>\n",
       "      <td>0</td>\n",
       "      <td>0</td>\n",
       "      <td>0</td>\n",
       "      <td>0</td>\n",
       "      <td>0</td>\n",
       "      <td>1</td>\n",
       "    </tr>\n",
       "    <tr>\n",
       "      <th>1771105</th>\n",
       "      <td>2017-11-07</td>\n",
       "      <td>2.10</td>\n",
       "      <td>2.14</td>\n",
       "      <td>2.01</td>\n",
       "      <td>2.07</td>\n",
       "      <td>1574224.0</td>\n",
       "      <td>3305870.40</td>\n",
       "      <td>-0.167228</td>\n",
       "      <td>2.264491</td>\n",
       "      <td>-3.004156</td>\n",
       "      <td>...</td>\n",
       "      <td>0</td>\n",
       "      <td>0</td>\n",
       "      <td>0</td>\n",
       "      <td>0</td>\n",
       "      <td>0</td>\n",
       "      <td>0</td>\n",
       "      <td>0</td>\n",
       "      <td>0</td>\n",
       "      <td>0</td>\n",
       "      <td>1</td>\n",
       "    </tr>\n",
       "    <tr>\n",
       "      <th>1771106</th>\n",
       "      <td>2017-11-08</td>\n",
       "      <td>2.07</td>\n",
       "      <td>2.12</td>\n",
       "      <td>2.05</td>\n",
       "      <td>2.10</td>\n",
       "      <td>1659151.0</td>\n",
       "      <td>3434442.57</td>\n",
       "      <td>-0.219471</td>\n",
       "      <td>2.250857</td>\n",
       "      <td>-3.316580</td>\n",
       "      <td>...</td>\n",
       "      <td>0</td>\n",
       "      <td>0</td>\n",
       "      <td>0</td>\n",
       "      <td>0</td>\n",
       "      <td>0</td>\n",
       "      <td>0</td>\n",
       "      <td>0</td>\n",
       "      <td>0</td>\n",
       "      <td>0</td>\n",
       "      <td>1</td>\n",
       "    </tr>\n",
       "    <tr>\n",
       "      <th>1771107</th>\n",
       "      <td>2017-11-09</td>\n",
       "      <td>2.08</td>\n",
       "      <td>2.12</td>\n",
       "      <td>2.05</td>\n",
       "      <td>2.11</td>\n",
       "      <td>1167644.0</td>\n",
       "      <td>2428699.52</td>\n",
       "      <td>-0.271059</td>\n",
       "      <td>2.241192</td>\n",
       "      <td>-3.493981</td>\n",
       "      <td>...</td>\n",
       "      <td>0</td>\n",
       "      <td>0</td>\n",
       "      <td>0</td>\n",
       "      <td>0</td>\n",
       "      <td>0</td>\n",
       "      <td>0</td>\n",
       "      <td>0</td>\n",
       "      <td>0</td>\n",
       "      <td>0</td>\n",
       "      <td>1</td>\n",
       "    </tr>\n",
       "    <tr>\n",
       "      <th>1771108</th>\n",
       "      <td>2017-11-10</td>\n",
       "      <td>2.08</td>\n",
       "      <td>2.12</td>\n",
       "      <td>2.07</td>\n",
       "      <td>2.10</td>\n",
       "      <td>895072.0</td>\n",
       "      <td>1861749.76</td>\n",
       "      <td>-0.257059</td>\n",
       "      <td>2.231997</td>\n",
       "      <td>-3.633965</td>\n",
       "      <td>...</td>\n",
       "      <td>0</td>\n",
       "      <td>0</td>\n",
       "      <td>0</td>\n",
       "      <td>0</td>\n",
       "      <td>0</td>\n",
       "      <td>0</td>\n",
       "      <td>0</td>\n",
       "      <td>0</td>\n",
       "      <td>0</td>\n",
       "      <td>1</td>\n",
       "    </tr>\n",
       "  </tbody>\n",
       "</table>\n",
       "<p>5 rows × 819 columns</p>\n",
       "</div>"
      ],
      "text/plain": [
       "               date  open  high   low  close     volume  total traded  \\\n",
       "1771104  2017-11-06  2.08  2.12  2.07   2.10  2081824.0    4330193.92   \n",
       "1771105  2017-11-07  2.10  2.14  2.01   2.07  1574224.0    3305870.40   \n",
       "1771106  2017-11-08  2.07  2.12  2.05   2.10  1659151.0    3434442.57   \n",
       "1771107  2017-11-09  2.08  2.12  2.05   2.11  1167644.0    2428699.52   \n",
       "1771108  2017-11-10  2.08  2.12  2.07   2.10   895072.0    1861749.76   \n",
       "\n",
       "          awesome      kama       ppo  ...  cldx  clf  clfd  clgx  clh  cli  \\\n",
       "1771104 -0.122669  2.290970 -2.438575  ...     0    0     0     0    0    0   \n",
       "1771105 -0.167228  2.264491 -3.004156  ...     0    0     0     0    0    0   \n",
       "1771106 -0.219471  2.250857 -3.316580  ...     0    0     0     0    0    0   \n",
       "1771107 -0.271059  2.241192 -3.493981  ...     0    0     0     0    0    0   \n",
       "1771108 -0.257059  2.231997 -3.633965  ...     0    0     0     0    0    0   \n",
       "\n",
       "         clir  clm  clmt  clne  \n",
       "1771104     0    0     0     1  \n",
       "1771105     0    0     0     1  \n",
       "1771106     0    0     0     1  \n",
       "1771107     0    0     0     1  \n",
       "1771108     0    0     0     1  \n",
       "\n",
       "[5 rows x 819 columns]"
      ]
     },
     "execution_count": 42,
     "metadata": {},
     "output_type": "execute_result"
    }
   ],
   "source": [
    "merged.tail()"
   ]
  },
  {
   "cell_type": "code",
   "execution_count": 41,
   "metadata": {},
   "outputs": [
    {
     "ename": "MemoryError",
     "evalue": "Unable to allocate 1.28 GiB for an array with shape (776, 1771109) and data type uint8",
     "output_type": "error",
     "traceback": [
      "\u001b[1;31m---------------------------------------------------------------------------\u001b[0m",
      "\u001b[1;31mMemoryError\u001b[0m                               Traceback (most recent call last)",
      "\u001b[1;32m<ipython-input-41-8d3a2d30dfba>\u001b[0m in \u001b[0;36m<module>\u001b[1;34m\u001b[0m\n\u001b[0;32m      1\u001b[0m \u001b[1;31m##train test split\u001b[0m\u001b[1;33m\u001b[0m\u001b[1;33m\u001b[0m\u001b[1;33m\u001b[0m\u001b[0m\n\u001b[0;32m      2\u001b[0m \u001b[1;32mfrom\u001b[0m \u001b[0msklearn\u001b[0m\u001b[1;33m.\u001b[0m\u001b[0mmodel_selection\u001b[0m \u001b[1;32mimport\u001b[0m \u001b[0mtrain_test_split\u001b[0m\u001b[1;33m\u001b[0m\u001b[1;33m\u001b[0m\u001b[0m\n\u001b[1;32m----> 3\u001b[1;33m \u001b[0mxtrain\u001b[0m\u001b[1;33m,\u001b[0m\u001b[0mytrain\u001b[0m\u001b[1;33m,\u001b[0m\u001b[0mxtest\u001b[0m\u001b[1;33m,\u001b[0m\u001b[0mytest\u001b[0m\u001b[1;33m=\u001b[0m\u001b[0mtrain_test_split\u001b[0m\u001b[1;33m(\u001b[0m\u001b[0mmerged\u001b[0m\u001b[1;33m.\u001b[0m\u001b[0mdrop\u001b[0m\u001b[1;33m(\u001b[0m\u001b[1;33m[\u001b[0m\u001b[1;34m'close'\u001b[0m\u001b[1;33m]\u001b[0m\u001b[1;33m,\u001b[0m \u001b[0maxis\u001b[0m\u001b[1;33m=\u001b[0m\u001b[1;36m1\u001b[0m\u001b[1;33m)\u001b[0m\u001b[1;33m,\u001b[0m\u001b[0mnewdf\u001b[0m\u001b[1;33m[\u001b[0m\u001b[1;34m'close'\u001b[0m\u001b[1;33m]\u001b[0m\u001b[1;33m)\u001b[0m\u001b[1;33m\u001b[0m\u001b[1;33m\u001b[0m\u001b[0m\n\u001b[0m",
      "\u001b[1;32mc:\\users\\chait\\appdata\\local\\programs\\python\\python39\\lib\\site-packages\\pandas\\core\\frame.py\u001b[0m in \u001b[0;36mdrop\u001b[1;34m(self, labels, axis, index, columns, level, inplace, errors)\u001b[0m\n\u001b[0;32m   4306\u001b[0m                 \u001b[0mweight\u001b[0m  \u001b[1;36m1.0\u001b[0m     \u001b[1;36m0.8\u001b[0m\u001b[1;33m\u001b[0m\u001b[1;33m\u001b[0m\u001b[0m\n\u001b[0;32m   4307\u001b[0m         \"\"\"\n\u001b[1;32m-> 4308\u001b[1;33m         return super().drop(\n\u001b[0m\u001b[0;32m   4309\u001b[0m             \u001b[0mlabels\u001b[0m\u001b[1;33m=\u001b[0m\u001b[0mlabels\u001b[0m\u001b[1;33m,\u001b[0m\u001b[1;33m\u001b[0m\u001b[1;33m\u001b[0m\u001b[0m\n\u001b[0;32m   4310\u001b[0m             \u001b[0maxis\u001b[0m\u001b[1;33m=\u001b[0m\u001b[0maxis\u001b[0m\u001b[1;33m,\u001b[0m\u001b[1;33m\u001b[0m\u001b[1;33m\u001b[0m\u001b[0m\n",
      "\u001b[1;32mc:\\users\\chait\\appdata\\local\\programs\\python\\python39\\lib\\site-packages\\pandas\\core\\generic.py\u001b[0m in \u001b[0;36mdrop\u001b[1;34m(self, labels, axis, index, columns, level, inplace, errors)\u001b[0m\n\u001b[0;32m   4151\u001b[0m         \u001b[1;32mfor\u001b[0m \u001b[0maxis\u001b[0m\u001b[1;33m,\u001b[0m \u001b[0mlabels\u001b[0m \u001b[1;32min\u001b[0m \u001b[0maxes\u001b[0m\u001b[1;33m.\u001b[0m\u001b[0mitems\u001b[0m\u001b[1;33m(\u001b[0m\u001b[1;33m)\u001b[0m\u001b[1;33m:\u001b[0m\u001b[1;33m\u001b[0m\u001b[1;33m\u001b[0m\u001b[0m\n\u001b[0;32m   4152\u001b[0m             \u001b[1;32mif\u001b[0m \u001b[0mlabels\u001b[0m \u001b[1;32mis\u001b[0m \u001b[1;32mnot\u001b[0m \u001b[1;32mNone\u001b[0m\u001b[1;33m:\u001b[0m\u001b[1;33m\u001b[0m\u001b[1;33m\u001b[0m\u001b[0m\n\u001b[1;32m-> 4153\u001b[1;33m                 \u001b[0mobj\u001b[0m \u001b[1;33m=\u001b[0m \u001b[0mobj\u001b[0m\u001b[1;33m.\u001b[0m\u001b[0m_drop_axis\u001b[0m\u001b[1;33m(\u001b[0m\u001b[0mlabels\u001b[0m\u001b[1;33m,\u001b[0m \u001b[0maxis\u001b[0m\u001b[1;33m,\u001b[0m \u001b[0mlevel\u001b[0m\u001b[1;33m=\u001b[0m\u001b[0mlevel\u001b[0m\u001b[1;33m,\u001b[0m \u001b[0merrors\u001b[0m\u001b[1;33m=\u001b[0m\u001b[0merrors\u001b[0m\u001b[1;33m)\u001b[0m\u001b[1;33m\u001b[0m\u001b[1;33m\u001b[0m\u001b[0m\n\u001b[0m\u001b[0;32m   4154\u001b[0m \u001b[1;33m\u001b[0m\u001b[0m\n\u001b[0;32m   4155\u001b[0m         \u001b[1;32mif\u001b[0m \u001b[0minplace\u001b[0m\u001b[1;33m:\u001b[0m\u001b[1;33m\u001b[0m\u001b[1;33m\u001b[0m\u001b[0m\n",
      "\u001b[1;32mc:\\users\\chait\\appdata\\local\\programs\\python\\python39\\lib\\site-packages\\pandas\\core\\generic.py\u001b[0m in \u001b[0;36m_drop_axis\u001b[1;34m(self, labels, axis, level, errors)\u001b[0m\n\u001b[0;32m   4210\u001b[0m             \u001b[0mslicer\u001b[0m\u001b[1;33m[\u001b[0m\u001b[0mself\u001b[0m\u001b[1;33m.\u001b[0m\u001b[0m_get_axis_number\u001b[0m\u001b[1;33m(\u001b[0m\u001b[0maxis_name\u001b[0m\u001b[1;33m)\u001b[0m\u001b[1;33m]\u001b[0m \u001b[1;33m=\u001b[0m \u001b[0mindexer\u001b[0m\u001b[1;33m\u001b[0m\u001b[1;33m\u001b[0m\u001b[0m\n\u001b[0;32m   4211\u001b[0m \u001b[1;33m\u001b[0m\u001b[0m\n\u001b[1;32m-> 4212\u001b[1;33m             \u001b[0mresult\u001b[0m \u001b[1;33m=\u001b[0m \u001b[0mself\u001b[0m\u001b[1;33m.\u001b[0m\u001b[0mloc\u001b[0m\u001b[1;33m[\u001b[0m\u001b[0mtuple\u001b[0m\u001b[1;33m(\u001b[0m\u001b[0mslicer\u001b[0m\u001b[1;33m)\u001b[0m\u001b[1;33m]\u001b[0m\u001b[1;33m\u001b[0m\u001b[1;33m\u001b[0m\u001b[0m\n\u001b[0m\u001b[0;32m   4213\u001b[0m \u001b[1;33m\u001b[0m\u001b[0m\n\u001b[0;32m   4214\u001b[0m         \u001b[1;32mreturn\u001b[0m \u001b[0mresult\u001b[0m\u001b[1;33m\u001b[0m\u001b[1;33m\u001b[0m\u001b[0m\n",
      "\u001b[1;32mc:\\users\\chait\\appdata\\local\\programs\\python\\python39\\lib\\site-packages\\pandas\\core\\indexing.py\u001b[0m in \u001b[0;36m__getitem__\u001b[1;34m(self, key)\u001b[0m\n\u001b[0;32m    887\u001b[0m                     \u001b[1;31m# AttributeError for IntervalTree get_value\u001b[0m\u001b[1;33m\u001b[0m\u001b[1;33m\u001b[0m\u001b[1;33m\u001b[0m\u001b[0m\n\u001b[0;32m    888\u001b[0m                     \u001b[1;32mreturn\u001b[0m \u001b[0mself\u001b[0m\u001b[1;33m.\u001b[0m\u001b[0mobj\u001b[0m\u001b[1;33m.\u001b[0m\u001b[0m_get_value\u001b[0m\u001b[1;33m(\u001b[0m\u001b[1;33m*\u001b[0m\u001b[0mkey\u001b[0m\u001b[1;33m,\u001b[0m \u001b[0mtakeable\u001b[0m\u001b[1;33m=\u001b[0m\u001b[0mself\u001b[0m\u001b[1;33m.\u001b[0m\u001b[0m_takeable\u001b[0m\u001b[1;33m)\u001b[0m\u001b[1;33m\u001b[0m\u001b[1;33m\u001b[0m\u001b[0m\n\u001b[1;32m--> 889\u001b[1;33m             \u001b[1;32mreturn\u001b[0m \u001b[0mself\u001b[0m\u001b[1;33m.\u001b[0m\u001b[0m_getitem_tuple\u001b[0m\u001b[1;33m(\u001b[0m\u001b[0mkey\u001b[0m\u001b[1;33m)\u001b[0m\u001b[1;33m\u001b[0m\u001b[1;33m\u001b[0m\u001b[0m\n\u001b[0m\u001b[0;32m    890\u001b[0m         \u001b[1;32melse\u001b[0m\u001b[1;33m:\u001b[0m\u001b[1;33m\u001b[0m\u001b[1;33m\u001b[0m\u001b[0m\n\u001b[0;32m    891\u001b[0m             \u001b[1;31m# we by definition only have the 0th axis\u001b[0m\u001b[1;33m\u001b[0m\u001b[1;33m\u001b[0m\u001b[1;33m\u001b[0m\u001b[0m\n",
      "\u001b[1;32mc:\\users\\chait\\appdata\\local\\programs\\python\\python39\\lib\\site-packages\\pandas\\core\\indexing.py\u001b[0m in \u001b[0;36m_getitem_tuple\u001b[1;34m(self, tup)\u001b[0m\n\u001b[0;32m   1067\u001b[0m             \u001b[1;32mreturn\u001b[0m \u001b[0mself\u001b[0m\u001b[1;33m.\u001b[0m\u001b[0m_multi_take\u001b[0m\u001b[1;33m(\u001b[0m\u001b[0mtup\u001b[0m\u001b[1;33m)\u001b[0m\u001b[1;33m\u001b[0m\u001b[1;33m\u001b[0m\u001b[0m\n\u001b[0;32m   1068\u001b[0m \u001b[1;33m\u001b[0m\u001b[0m\n\u001b[1;32m-> 1069\u001b[1;33m         \u001b[1;32mreturn\u001b[0m \u001b[0mself\u001b[0m\u001b[1;33m.\u001b[0m\u001b[0m_getitem_tuple_same_dim\u001b[0m\u001b[1;33m(\u001b[0m\u001b[0mtup\u001b[0m\u001b[1;33m)\u001b[0m\u001b[1;33m\u001b[0m\u001b[1;33m\u001b[0m\u001b[0m\n\u001b[0m\u001b[0;32m   1070\u001b[0m \u001b[1;33m\u001b[0m\u001b[0m\n\u001b[0;32m   1071\u001b[0m     \u001b[1;32mdef\u001b[0m \u001b[0m_get_label\u001b[0m\u001b[1;33m(\u001b[0m\u001b[0mself\u001b[0m\u001b[1;33m,\u001b[0m \u001b[0mlabel\u001b[0m\u001b[1;33m,\u001b[0m \u001b[0maxis\u001b[0m\u001b[1;33m:\u001b[0m \u001b[0mint\u001b[0m\u001b[1;33m)\u001b[0m\u001b[1;33m:\u001b[0m\u001b[1;33m\u001b[0m\u001b[1;33m\u001b[0m\u001b[0m\n",
      "\u001b[1;32mc:\\users\\chait\\appdata\\local\\programs\\python\\python39\\lib\\site-packages\\pandas\\core\\indexing.py\u001b[0m in \u001b[0;36m_getitem_tuple_same_dim\u001b[1;34m(self, tup)\u001b[0m\n\u001b[0;32m    773\u001b[0m                 \u001b[1;32mcontinue\u001b[0m\u001b[1;33m\u001b[0m\u001b[1;33m\u001b[0m\u001b[0m\n\u001b[0;32m    774\u001b[0m \u001b[1;33m\u001b[0m\u001b[0m\n\u001b[1;32m--> 775\u001b[1;33m             \u001b[0mretval\u001b[0m \u001b[1;33m=\u001b[0m \u001b[0mgetattr\u001b[0m\u001b[1;33m(\u001b[0m\u001b[0mretval\u001b[0m\u001b[1;33m,\u001b[0m \u001b[0mself\u001b[0m\u001b[1;33m.\u001b[0m\u001b[0mname\u001b[0m\u001b[1;33m)\u001b[0m\u001b[1;33m.\u001b[0m\u001b[0m_getitem_axis\u001b[0m\u001b[1;33m(\u001b[0m\u001b[0mkey\u001b[0m\u001b[1;33m,\u001b[0m \u001b[0maxis\u001b[0m\u001b[1;33m=\u001b[0m\u001b[0mi\u001b[0m\u001b[1;33m)\u001b[0m\u001b[1;33m\u001b[0m\u001b[1;33m\u001b[0m\u001b[0m\n\u001b[0m\u001b[0;32m    776\u001b[0m             \u001b[1;31m# We should never have retval.ndim < self.ndim, as that should\u001b[0m\u001b[1;33m\u001b[0m\u001b[1;33m\u001b[0m\u001b[1;33m\u001b[0m\u001b[0m\n\u001b[0;32m    777\u001b[0m             \u001b[1;31m#  be handled by the _getitem_lowerdim call above.\u001b[0m\u001b[1;33m\u001b[0m\u001b[1;33m\u001b[0m\u001b[1;33m\u001b[0m\u001b[0m\n",
      "\u001b[1;32mc:\\users\\chait\\appdata\\local\\programs\\python\\python39\\lib\\site-packages\\pandas\\core\\indexing.py\u001b[0m in \u001b[0;36m_getitem_axis\u001b[1;34m(self, key, axis)\u001b[0m\n\u001b[0;32m   1102\u001b[0m             \u001b[1;32mreturn\u001b[0m \u001b[0mself\u001b[0m\u001b[1;33m.\u001b[0m\u001b[0m_get_slice_axis\u001b[0m\u001b[1;33m(\u001b[0m\u001b[0mkey\u001b[0m\u001b[1;33m,\u001b[0m \u001b[0maxis\u001b[0m\u001b[1;33m=\u001b[0m\u001b[0maxis\u001b[0m\u001b[1;33m)\u001b[0m\u001b[1;33m\u001b[0m\u001b[1;33m\u001b[0m\u001b[0m\n\u001b[0;32m   1103\u001b[0m         \u001b[1;32melif\u001b[0m \u001b[0mcom\u001b[0m\u001b[1;33m.\u001b[0m\u001b[0mis_bool_indexer\u001b[0m\u001b[1;33m(\u001b[0m\u001b[0mkey\u001b[0m\u001b[1;33m)\u001b[0m\u001b[1;33m:\u001b[0m\u001b[1;33m\u001b[0m\u001b[1;33m\u001b[0m\u001b[0m\n\u001b[1;32m-> 1104\u001b[1;33m             \u001b[1;32mreturn\u001b[0m \u001b[0mself\u001b[0m\u001b[1;33m.\u001b[0m\u001b[0m_getbool_axis\u001b[0m\u001b[1;33m(\u001b[0m\u001b[0mkey\u001b[0m\u001b[1;33m,\u001b[0m \u001b[0maxis\u001b[0m\u001b[1;33m=\u001b[0m\u001b[0maxis\u001b[0m\u001b[1;33m)\u001b[0m\u001b[1;33m\u001b[0m\u001b[1;33m\u001b[0m\u001b[0m\n\u001b[0m\u001b[0;32m   1105\u001b[0m         \u001b[1;32melif\u001b[0m \u001b[0mis_list_like_indexer\u001b[0m\u001b[1;33m(\u001b[0m\u001b[0mkey\u001b[0m\u001b[1;33m)\u001b[0m\u001b[1;33m:\u001b[0m\u001b[1;33m\u001b[0m\u001b[1;33m\u001b[0m\u001b[0m\n\u001b[0;32m   1106\u001b[0m \u001b[1;33m\u001b[0m\u001b[0m\n",
      "\u001b[1;32mc:\\users\\chait\\appdata\\local\\programs\\python\\python39\\lib\\site-packages\\pandas\\core\\indexing.py\u001b[0m in \u001b[0;36m_getbool_axis\u001b[1;34m(self, key, axis)\u001b[0m\n\u001b[0;32m    912\u001b[0m         \u001b[0mkey\u001b[0m \u001b[1;33m=\u001b[0m \u001b[0mcheck_bool_indexer\u001b[0m\u001b[1;33m(\u001b[0m\u001b[0mlabels\u001b[0m\u001b[1;33m,\u001b[0m \u001b[0mkey\u001b[0m\u001b[1;33m)\u001b[0m\u001b[1;33m\u001b[0m\u001b[1;33m\u001b[0m\u001b[0m\n\u001b[0;32m    913\u001b[0m         \u001b[0minds\u001b[0m \u001b[1;33m=\u001b[0m \u001b[0mkey\u001b[0m\u001b[1;33m.\u001b[0m\u001b[0mnonzero\u001b[0m\u001b[1;33m(\u001b[0m\u001b[1;33m)\u001b[0m\u001b[1;33m[\u001b[0m\u001b[1;36m0\u001b[0m\u001b[1;33m]\u001b[0m\u001b[1;33m\u001b[0m\u001b[1;33m\u001b[0m\u001b[0m\n\u001b[1;32m--> 914\u001b[1;33m         \u001b[1;32mreturn\u001b[0m \u001b[0mself\u001b[0m\u001b[1;33m.\u001b[0m\u001b[0mobj\u001b[0m\u001b[1;33m.\u001b[0m\u001b[0m_take_with_is_copy\u001b[0m\u001b[1;33m(\u001b[0m\u001b[0minds\u001b[0m\u001b[1;33m,\u001b[0m \u001b[0maxis\u001b[0m\u001b[1;33m=\u001b[0m\u001b[0maxis\u001b[0m\u001b[1;33m)\u001b[0m\u001b[1;33m\u001b[0m\u001b[1;33m\u001b[0m\u001b[0m\n\u001b[0m\u001b[0;32m    915\u001b[0m \u001b[1;33m\u001b[0m\u001b[0m\n\u001b[0;32m    916\u001b[0m \u001b[1;33m\u001b[0m\u001b[0m\n",
      "\u001b[1;32mc:\\users\\chait\\appdata\\local\\programs\\python\\python39\\lib\\site-packages\\pandas\\core\\generic.py\u001b[0m in \u001b[0;36m_take_with_is_copy\u001b[1;34m(self, indices, axis)\u001b[0m\n\u001b[0;32m   3598\u001b[0m         \u001b[0mSee\u001b[0m \u001b[0mthe\u001b[0m \u001b[0mdocstring\u001b[0m \u001b[0mof\u001b[0m\u001b[0;31m \u001b[0m\u001b[0;31m`\u001b[0m\u001b[0mtake\u001b[0m\u001b[0;31m`\u001b[0m \u001b[1;32mfor\u001b[0m \u001b[0mfull\u001b[0m \u001b[0mexplanation\u001b[0m \u001b[0mof\u001b[0m \u001b[0mthe\u001b[0m \u001b[0mparameters\u001b[0m\u001b[1;33m.\u001b[0m\u001b[1;33m\u001b[0m\u001b[1;33m\u001b[0m\u001b[0m\n\u001b[0;32m   3599\u001b[0m         \"\"\"\n\u001b[1;32m-> 3600\u001b[1;33m         \u001b[0mresult\u001b[0m \u001b[1;33m=\u001b[0m \u001b[0mself\u001b[0m\u001b[1;33m.\u001b[0m\u001b[0mtake\u001b[0m\u001b[1;33m(\u001b[0m\u001b[0mindices\u001b[0m\u001b[1;33m=\u001b[0m\u001b[0mindices\u001b[0m\u001b[1;33m,\u001b[0m \u001b[0maxis\u001b[0m\u001b[1;33m=\u001b[0m\u001b[0maxis\u001b[0m\u001b[1;33m)\u001b[0m\u001b[1;33m\u001b[0m\u001b[1;33m\u001b[0m\u001b[0m\n\u001b[0m\u001b[0;32m   3601\u001b[0m         \u001b[1;31m# Maybe set copy if we didn't actually change the index.\u001b[0m\u001b[1;33m\u001b[0m\u001b[1;33m\u001b[0m\u001b[1;33m\u001b[0m\u001b[0m\n\u001b[0;32m   3602\u001b[0m         \u001b[1;32mif\u001b[0m \u001b[1;32mnot\u001b[0m \u001b[0mresult\u001b[0m\u001b[1;33m.\u001b[0m\u001b[0m_get_axis\u001b[0m\u001b[1;33m(\u001b[0m\u001b[0maxis\u001b[0m\u001b[1;33m)\u001b[0m\u001b[1;33m.\u001b[0m\u001b[0mequals\u001b[0m\u001b[1;33m(\u001b[0m\u001b[0mself\u001b[0m\u001b[1;33m.\u001b[0m\u001b[0m_get_axis\u001b[0m\u001b[1;33m(\u001b[0m\u001b[0maxis\u001b[0m\u001b[1;33m)\u001b[0m\u001b[1;33m)\u001b[0m\u001b[1;33m:\u001b[0m\u001b[1;33m\u001b[0m\u001b[1;33m\u001b[0m\u001b[0m\n",
      "\u001b[1;32mc:\\users\\chait\\appdata\\local\\programs\\python\\python39\\lib\\site-packages\\pandas\\core\\generic.py\u001b[0m in \u001b[0;36mtake\u001b[1;34m(self, indices, axis, is_copy, **kwargs)\u001b[0m\n\u001b[0;32m   3584\u001b[0m         \u001b[0mself\u001b[0m\u001b[1;33m.\u001b[0m\u001b[0m_consolidate_inplace\u001b[0m\u001b[1;33m(\u001b[0m\u001b[1;33m)\u001b[0m\u001b[1;33m\u001b[0m\u001b[1;33m\u001b[0m\u001b[0m\n\u001b[0;32m   3585\u001b[0m \u001b[1;33m\u001b[0m\u001b[0m\n\u001b[1;32m-> 3586\u001b[1;33m         new_data = self._mgr.take(\n\u001b[0m\u001b[0;32m   3587\u001b[0m             \u001b[0mindices\u001b[0m\u001b[1;33m,\u001b[0m \u001b[0maxis\u001b[0m\u001b[1;33m=\u001b[0m\u001b[0mself\u001b[0m\u001b[1;33m.\u001b[0m\u001b[0m_get_block_manager_axis\u001b[0m\u001b[1;33m(\u001b[0m\u001b[0maxis\u001b[0m\u001b[1;33m)\u001b[0m\u001b[1;33m,\u001b[0m \u001b[0mverify\u001b[0m\u001b[1;33m=\u001b[0m\u001b[1;32mTrue\u001b[0m\u001b[1;33m\u001b[0m\u001b[1;33m\u001b[0m\u001b[0m\n\u001b[0;32m   3588\u001b[0m         )\n",
      "\u001b[1;32mc:\\users\\chait\\appdata\\local\\programs\\python\\python39\\lib\\site-packages\\pandas\\core\\internals\\managers.py\u001b[0m in \u001b[0;36mtake\u001b[1;34m(self, indexer, axis, verify, convert)\u001b[0m\n\u001b[0;32m   1472\u001b[0m \u001b[1;33m\u001b[0m\u001b[0m\n\u001b[0;32m   1473\u001b[0m         \u001b[0mnew_labels\u001b[0m \u001b[1;33m=\u001b[0m \u001b[0mself\u001b[0m\u001b[1;33m.\u001b[0m\u001b[0maxes\u001b[0m\u001b[1;33m[\u001b[0m\u001b[0maxis\u001b[0m\u001b[1;33m]\u001b[0m\u001b[1;33m.\u001b[0m\u001b[0mtake\u001b[0m\u001b[1;33m(\u001b[0m\u001b[0mindexer\u001b[0m\u001b[1;33m)\u001b[0m\u001b[1;33m\u001b[0m\u001b[1;33m\u001b[0m\u001b[0m\n\u001b[1;32m-> 1474\u001b[1;33m         return self.reindex_indexer(\n\u001b[0m\u001b[0;32m   1475\u001b[0m             \u001b[0mnew_axis\u001b[0m\u001b[1;33m=\u001b[0m\u001b[0mnew_labels\u001b[0m\u001b[1;33m,\u001b[0m \u001b[0mindexer\u001b[0m\u001b[1;33m=\u001b[0m\u001b[0mindexer\u001b[0m\u001b[1;33m,\u001b[0m \u001b[0maxis\u001b[0m\u001b[1;33m=\u001b[0m\u001b[0maxis\u001b[0m\u001b[1;33m,\u001b[0m \u001b[0mallow_dups\u001b[0m\u001b[1;33m=\u001b[0m\u001b[1;32mTrue\u001b[0m\u001b[1;33m\u001b[0m\u001b[1;33m\u001b[0m\u001b[0m\n\u001b[0;32m   1476\u001b[0m         )\n",
      "\u001b[1;32mc:\\users\\chait\\appdata\\local\\programs\\python\\python39\\lib\\site-packages\\pandas\\core\\internals\\managers.py\u001b[0m in \u001b[0;36mreindex_indexer\u001b[1;34m(self, new_axis, indexer, axis, fill_value, allow_dups, copy, consolidate, only_slice)\u001b[0m\n\u001b[0;32m   1305\u001b[0m \u001b[1;33m\u001b[0m\u001b[0m\n\u001b[0;32m   1306\u001b[0m         \u001b[1;32mif\u001b[0m \u001b[0maxis\u001b[0m \u001b[1;33m==\u001b[0m \u001b[1;36m0\u001b[0m\u001b[1;33m:\u001b[0m\u001b[1;33m\u001b[0m\u001b[1;33m\u001b[0m\u001b[0m\n\u001b[1;32m-> 1307\u001b[1;33m             new_blocks = self._slice_take_blocks_ax0(\n\u001b[0m\u001b[0;32m   1308\u001b[0m                 \u001b[0mindexer\u001b[0m\u001b[1;33m,\u001b[0m \u001b[0mfill_value\u001b[0m\u001b[1;33m=\u001b[0m\u001b[0mfill_value\u001b[0m\u001b[1;33m,\u001b[0m \u001b[0monly_slice\u001b[0m\u001b[1;33m=\u001b[0m\u001b[0monly_slice\u001b[0m\u001b[1;33m\u001b[0m\u001b[1;33m\u001b[0m\u001b[0m\n\u001b[0;32m   1309\u001b[0m             )\n",
      "\u001b[1;32mc:\\users\\chait\\appdata\\local\\programs\\python\\python39\\lib\\site-packages\\pandas\\core\\internals\\managers.py\u001b[0m in \u001b[0;36m_slice_take_blocks_ax0\u001b[1;34m(self, slice_or_indexer, fill_value, only_slice)\u001b[0m\n\u001b[0;32m   1435\u001b[0m                             \u001b[0mblocks\u001b[0m\u001b[1;33m.\u001b[0m\u001b[0mappend\u001b[0m\u001b[1;33m(\u001b[0m\u001b[0mnb\u001b[0m\u001b[1;33m)\u001b[0m\u001b[1;33m\u001b[0m\u001b[1;33m\u001b[0m\u001b[0m\n\u001b[0;32m   1436\u001b[0m                     \u001b[1;32melse\u001b[0m\u001b[1;33m:\u001b[0m\u001b[1;33m\u001b[0m\u001b[1;33m\u001b[0m\u001b[0m\n\u001b[1;32m-> 1437\u001b[1;33m                         \u001b[0mnb\u001b[0m \u001b[1;33m=\u001b[0m \u001b[0mblk\u001b[0m\u001b[1;33m.\u001b[0m\u001b[0mtake_nd\u001b[0m\u001b[1;33m(\u001b[0m\u001b[0mtaker\u001b[0m\u001b[1;33m,\u001b[0m \u001b[0maxis\u001b[0m\u001b[1;33m=\u001b[0m\u001b[1;36m0\u001b[0m\u001b[1;33m,\u001b[0m \u001b[0mnew_mgr_locs\u001b[0m\u001b[1;33m=\u001b[0m\u001b[0mmgr_locs\u001b[0m\u001b[1;33m)\u001b[0m\u001b[1;33m\u001b[0m\u001b[1;33m\u001b[0m\u001b[0m\n\u001b[0m\u001b[0;32m   1438\u001b[0m                         \u001b[0mblocks\u001b[0m\u001b[1;33m.\u001b[0m\u001b[0mappend\u001b[0m\u001b[1;33m(\u001b[0m\u001b[0mnb\u001b[0m\u001b[1;33m)\u001b[0m\u001b[1;33m\u001b[0m\u001b[1;33m\u001b[0m\u001b[0m\n\u001b[0;32m   1439\u001b[0m \u001b[1;33m\u001b[0m\u001b[0m\n",
      "\u001b[1;32mc:\\users\\chait\\appdata\\local\\programs\\python\\python39\\lib\\site-packages\\pandas\\core\\internals\\blocks.py\u001b[0m in \u001b[0;36mtake_nd\u001b[1;34m(self, indexer, axis, new_mgr_locs, fill_value)\u001b[0m\n\u001b[0;32m   1383\u001b[0m             \u001b[0mallow_fill\u001b[0m \u001b[1;33m=\u001b[0m \u001b[1;32mTrue\u001b[0m\u001b[1;33m\u001b[0m\u001b[1;33m\u001b[0m\u001b[0m\n\u001b[0;32m   1384\u001b[0m \u001b[1;33m\u001b[0m\u001b[0m\n\u001b[1;32m-> 1385\u001b[1;33m         new_values = algos.take_nd(\n\u001b[0m\u001b[0;32m   1386\u001b[0m             \u001b[0mvalues\u001b[0m\u001b[1;33m,\u001b[0m \u001b[0mindexer\u001b[0m\u001b[1;33m,\u001b[0m \u001b[0maxis\u001b[0m\u001b[1;33m=\u001b[0m\u001b[0maxis\u001b[0m\u001b[1;33m,\u001b[0m \u001b[0mallow_fill\u001b[0m\u001b[1;33m=\u001b[0m\u001b[0mallow_fill\u001b[0m\u001b[1;33m,\u001b[0m \u001b[0mfill_value\u001b[0m\u001b[1;33m=\u001b[0m\u001b[0mfill_value\u001b[0m\u001b[1;33m\u001b[0m\u001b[1;33m\u001b[0m\u001b[0m\n\u001b[0;32m   1387\u001b[0m         )\n",
      "\u001b[1;32mc:\\users\\chait\\appdata\\local\\programs\\python\\python39\\lib\\site-packages\\pandas\\core\\algorithms.py\u001b[0m in \u001b[0;36mtake_nd\u001b[1;34m(arr, indexer, axis, out, fill_value, allow_fill)\u001b[0m\n\u001b[0;32m   1752\u001b[0m             \u001b[0mout\u001b[0m \u001b[1;33m=\u001b[0m \u001b[0mnp\u001b[0m\u001b[1;33m.\u001b[0m\u001b[0mempty\u001b[0m\u001b[1;33m(\u001b[0m\u001b[0mout_shape\u001b[0m\u001b[1;33m,\u001b[0m \u001b[0mdtype\u001b[0m\u001b[1;33m=\u001b[0m\u001b[0mdtype\u001b[0m\u001b[1;33m,\u001b[0m \u001b[0morder\u001b[0m\u001b[1;33m=\u001b[0m\u001b[1;34m\"F\"\u001b[0m\u001b[1;33m)\u001b[0m\u001b[1;33m\u001b[0m\u001b[1;33m\u001b[0m\u001b[0m\n\u001b[0;32m   1753\u001b[0m         \u001b[1;32melse\u001b[0m\u001b[1;33m:\u001b[0m\u001b[1;33m\u001b[0m\u001b[1;33m\u001b[0m\u001b[0m\n\u001b[1;32m-> 1754\u001b[1;33m             \u001b[0mout\u001b[0m \u001b[1;33m=\u001b[0m \u001b[0mnp\u001b[0m\u001b[1;33m.\u001b[0m\u001b[0mempty\u001b[0m\u001b[1;33m(\u001b[0m\u001b[0mout_shape\u001b[0m\u001b[1;33m,\u001b[0m \u001b[0mdtype\u001b[0m\u001b[1;33m=\u001b[0m\u001b[0mdtype\u001b[0m\u001b[1;33m)\u001b[0m\u001b[1;33m\u001b[0m\u001b[1;33m\u001b[0m\u001b[0m\n\u001b[0m\u001b[0;32m   1755\u001b[0m \u001b[1;33m\u001b[0m\u001b[0m\n\u001b[0;32m   1756\u001b[0m     func = _get_take_nd_function(\n",
      "\u001b[1;31mMemoryError\u001b[0m: Unable to allocate 1.28 GiB for an array with shape (776, 1771109) and data type uint8"
     ]
    }
   ],
   "source": [
    "##train test split\n",
    "from sklearn.model_selection import train_test_split\n",
    "xtrain,ytrain,xtest,ytest=train_test_split(merged.drop(['close'], axis=1),newdf['close'])"
   ]
  },
  {
   "cell_type": "code",
   "execution_count": null,
   "metadata": {},
   "outputs": [],
   "source": [
    "from sklearn.ensemble import RandomForestRegressor\n",
    "rnd=RandomForestRegressor(n_estimators=500,n_jobs=-1)\n",
    "rnd.fit(xtrain,ytrain)"
   ]
  },
  {
   "cell_type": "code",
   "execution_count": null,
   "metadata": {},
   "outputs": [],
   "source": [
    "for name,score in zip()"
   ]
  },
  {
   "cell_type": "code",
   "execution_count": null,
   "metadata": {},
   "outputs": [],
   "source": []
  },
  {
   "cell_type": "code",
   "execution_count": null,
   "metadata": {},
   "outputs": [],
   "source": []
  },
  {
   "cell_type": "code",
   "execution_count": null,
   "metadata": {},
   "outputs": [],
   "source": []
  }
 ],
 "metadata": {
  "colab": {
   "name": "stocks.ipynb",
   "provenance": [],
   "toc_visible": true
  },
  "kernelspec": {
   "display_name": "Python 3",
   "language": "python",
   "name": "python3"
  },
  "language_info": {
   "codemirror_mode": {
    "name": "ipython",
    "version": 3
   },
   "file_extension": ".py",
   "mimetype": "text/x-python",
   "name": "python",
   "nbconvert_exporter": "python",
   "pygments_lexer": "ipython3",
   "version": "3.9.2"
  }
 },
 "nbformat": 4,
 "nbformat_minor": 1
}
