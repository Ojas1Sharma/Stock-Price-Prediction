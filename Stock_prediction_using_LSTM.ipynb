{
  "cells": [
    {
      "cell_type": "code",
      "execution_count": 1,
      "metadata": {
        "id": "57uOh8paLiCi"
      },
      "outputs": [],
      "source": [
        "\n",
        "import pandas as pd\n",
        "import numpy as np\n",
        "import matplotlib.pyplot as plt\n",
        "import keras"
      ]
    },
    {
      "cell_type": "code",
      "execution_count": 46,
      "metadata": {
        "id": "4GgvhSzfLiCj"
      },
      "outputs": [],
      "source": [
        "train= pd.read_csv('/content/Price_Train.csv')\n",
        "test= pd.read_csv('/content/Price_Test.csv')"
      ]
    },
    {
      "cell_type": "code",
      "execution_count": 47,
      "metadata": {
        "colab": {
          "base_uri": "https://localhost:8080/",
          "height": 206
        },
        "id": "m5pexHrDLiCk",
        "outputId": "c85eab56-3ee6-4600-de3d-0b32a7c85beb"
      },
      "outputs": [
        {
          "data": {
            "text/html": [
              "\n",
              "  <div id=\"df-e944eebc-a7a5-4276-b4ac-b6323d4e7e5c\">\n",
              "    <div class=\"colab-df-container\">\n",
              "      <div>\n",
              "<style scoped>\n",
              "    .dataframe tbody tr th:only-of-type {\n",
              "        vertical-align: middle;\n",
              "    }\n",
              "\n",
              "    .dataframe tbody tr th {\n",
              "        vertical-align: top;\n",
              "    }\n",
              "\n",
              "    .dataframe thead th {\n",
              "        text-align: right;\n",
              "    }\n",
              "</style>\n",
              "<table border=\"1\" class=\"dataframe\">\n",
              "  <thead>\n",
              "    <tr style=\"text-align: right;\">\n",
              "      <th></th>\n",
              "      <th>Date</th>\n",
              "      <th>Open</th>\n",
              "      <th>High</th>\n",
              "      <th>Low</th>\n",
              "      <th>Close</th>\n",
              "      <th>Volume</th>\n",
              "    </tr>\n",
              "  </thead>\n",
              "  <tbody>\n",
              "    <tr>\n",
              "      <th>0</th>\n",
              "      <td>03-01-2005</td>\n",
              "      <td>16.268</td>\n",
              "      <td>16.322</td>\n",
              "      <td>15.863</td>\n",
              "      <td>16.119</td>\n",
              "      <td>3580384</td>\n",
              "    </tr>\n",
              "    <tr>\n",
              "      <th>1</th>\n",
              "      <td>04-01-2005</td>\n",
              "      <td>16.052</td>\n",
              "      <td>16.194</td>\n",
              "      <td>15.560</td>\n",
              "      <td>15.694</td>\n",
              "      <td>3970435</td>\n",
              "    </tr>\n",
              "    <tr>\n",
              "      <th>2</th>\n",
              "      <td>05-01-2005</td>\n",
              "      <td>15.640</td>\n",
              "      <td>15.964</td>\n",
              "      <td>15.608</td>\n",
              "      <td>15.687</td>\n",
              "      <td>4131760</td>\n",
              "    </tr>\n",
              "    <tr>\n",
              "      <th>3</th>\n",
              "      <td>06-01-2005</td>\n",
              "      <td>15.797</td>\n",
              "      <td>15.824</td>\n",
              "      <td>15.316</td>\n",
              "      <td>15.344</td>\n",
              "      <td>3347065</td>\n",
              "    </tr>\n",
              "    <tr>\n",
              "      <th>4</th>\n",
              "      <td>07-01-2005</td>\n",
              "      <td>15.309</td>\n",
              "      <td>15.492</td>\n",
              "      <td>15.275</td>\n",
              "      <td>15.330</td>\n",
              "      <td>2780878</td>\n",
              "    </tr>\n",
              "  </tbody>\n",
              "</table>\n",
              "</div>\n",
              "      <button class=\"colab-df-convert\" onclick=\"convertToInteractive('df-e944eebc-a7a5-4276-b4ac-b6323d4e7e5c')\"\n",
              "              title=\"Convert this dataframe to an interactive table.\"\n",
              "              style=\"display:none;\">\n",
              "        \n",
              "  <svg xmlns=\"http://www.w3.org/2000/svg\" height=\"24px\"viewBox=\"0 0 24 24\"\n",
              "       width=\"24px\">\n",
              "    <path d=\"M0 0h24v24H0V0z\" fill=\"none\"/>\n",
              "    <path d=\"M18.56 5.44l.94 2.06.94-2.06 2.06-.94-2.06-.94-.94-2.06-.94 2.06-2.06.94zm-11 1L8.5 8.5l.94-2.06 2.06-.94-2.06-.94L8.5 2.5l-.94 2.06-2.06.94zm10 10l.94 2.06.94-2.06 2.06-.94-2.06-.94-.94-2.06-.94 2.06-2.06.94z\"/><path d=\"M17.41 7.96l-1.37-1.37c-.4-.4-.92-.59-1.43-.59-.52 0-1.04.2-1.43.59L10.3 9.45l-7.72 7.72c-.78.78-.78 2.05 0 2.83L4 21.41c.39.39.9.59 1.41.59.51 0 1.02-.2 1.41-.59l7.78-7.78 2.81-2.81c.8-.78.8-2.07 0-2.86zM5.41 20L4 18.59l7.72-7.72 1.47 1.35L5.41 20z\"/>\n",
              "  </svg>\n",
              "      </button>\n",
              "      \n",
              "  <style>\n",
              "    .colab-df-container {\n",
              "      display:flex;\n",
              "      flex-wrap:wrap;\n",
              "      gap: 12px;\n",
              "    }\n",
              "\n",
              "    .colab-df-convert {\n",
              "      background-color: #E8F0FE;\n",
              "      border: none;\n",
              "      border-radius: 50%;\n",
              "      cursor: pointer;\n",
              "      display: none;\n",
              "      fill: #1967D2;\n",
              "      height: 32px;\n",
              "      padding: 0 0 0 0;\n",
              "      width: 32px;\n",
              "    }\n",
              "\n",
              "    .colab-df-convert:hover {\n",
              "      background-color: #E2EBFA;\n",
              "      box-shadow: 0px 1px 2px rgba(60, 64, 67, 0.3), 0px 1px 3px 1px rgba(60, 64, 67, 0.15);\n",
              "      fill: #174EA6;\n",
              "    }\n",
              "\n",
              "    [theme=dark] .colab-df-convert {\n",
              "      background-color: #3B4455;\n",
              "      fill: #D2E3FC;\n",
              "    }\n",
              "\n",
              "    [theme=dark] .colab-df-convert:hover {\n",
              "      background-color: #434B5C;\n",
              "      box-shadow: 0px 1px 3px 1px rgba(0, 0, 0, 0.15);\n",
              "      filter: drop-shadow(0px 1px 2px rgba(0, 0, 0, 0.3));\n",
              "      fill: #FFFFFF;\n",
              "    }\n",
              "  </style>\n",
              "\n",
              "      <script>\n",
              "        const buttonEl =\n",
              "          document.querySelector('#df-e944eebc-a7a5-4276-b4ac-b6323d4e7e5c button.colab-df-convert');\n",
              "        buttonEl.style.display =\n",
              "          google.colab.kernel.accessAllowed ? 'block' : 'none';\n",
              "\n",
              "        async function convertToInteractive(key) {\n",
              "          const element = document.querySelector('#df-e944eebc-a7a5-4276-b4ac-b6323d4e7e5c');\n",
              "          const dataTable =\n",
              "            await google.colab.kernel.invokeFunction('convertToInteractive',\n",
              "                                                     [key], {});\n",
              "          if (!dataTable) return;\n",
              "\n",
              "          const docLinkHtml = 'Like what you see? Visit the ' +\n",
              "            '<a target=\"_blank\" href=https://colab.research.google.com/notebooks/data_table.ipynb>data table notebook</a>'\n",
              "            + ' to learn more about interactive tables.';\n",
              "          element.innerHTML = '';\n",
              "          dataTable['output_type'] = 'display_data';\n",
              "          await google.colab.output.renderOutput(dataTable, element);\n",
              "          const docLink = document.createElement('div');\n",
              "          docLink.innerHTML = docLinkHtml;\n",
              "          element.appendChild(docLink);\n",
              "        }\n",
              "      </script>\n",
              "    </div>\n",
              "  </div>\n",
              "  "
            ],
            "text/plain": [
              "         Date    Open    High     Low   Close   Volume\n",
              "0  03-01-2005  16.268  16.322  15.863  16.119  3580384\n",
              "1  04-01-2005  16.052  16.194  15.560  15.694  3970435\n",
              "2  05-01-2005  15.640  15.964  15.608  15.687  4131760\n",
              "3  06-01-2005  15.797  15.824  15.316  15.344  3347065\n",
              "4  07-01-2005  15.309  15.492  15.275  15.330  2780878"
            ]
          },
          "execution_count": 47,
          "metadata": {},
          "output_type": "execute_result"
        }
      ],
      "source": [
        "train.head()"
      ]
    },
    {
      "cell_type": "code",
      "execution_count": 48,
      "metadata": {
        "id": "FwDlfsB_LiCl"
      },
      "outputs": [],
      "source": [
        "#taking open price from data in 2d array , if we will do train.loc[:, 'open'].values it gives one d array which wont\n",
        "#be considered in scaling\n",
        "train_open= train.iloc[:, 1:2].values\n"
      ]
    },
    {
      "cell_type": "code",
      "execution_count": 49,
      "metadata": {
        "id": "3uC9NH1cLiCm"
      },
      "outputs": [],
      "source": [
        "#Scaling the values between 0 to 1\n",
        "from sklearn.preprocessing import MinMaxScaler\n",
        "ss= MinMaxScaler(feature_range=(0,1))\n",
        "train_open_scaled= ss.fit_transform(train_open)"
      ]
    },
    {
      "cell_type": "code",
      "execution_count": 50,
      "metadata": {
        "colab": {
          "base_uri": "https://localhost:8080/"
        },
        "id": "wW5wNvyDLiCm",
        "outputId": "78cebe11-22b1-486f-febe-40af5f7b2cd2"
      },
      "outputs": [
        {
          "data": {
            "text/plain": [
              "array([0.16719862])"
            ]
          },
          "execution_count": 50,
          "metadata": {},
          "output_type": "execute_result"
        }
      ],
      "source": [
        "train_open_scaled[60]"
      ]
    },
    {
      "cell_type": "code",
      "execution_count": 51,
      "metadata": {
        "id": "pI2xX79kLiCo"
      },
      "outputs": [],
      "source": [
        "# Feature selection\n",
        "xtrain=[]\n",
        "ytrain=[]\n",
        "for i in range(60,len(train_open_scaled)):\n",
        "    xtrain.append(train_open_scaled[i-60:i,0])\n",
        "    ytrain.append(train_open_scaled[i,0])\n",
        "\n",
        "xtrain, ytrain = np.array(xtrain), np.array(ytrain)"
      ]
    },
    {
      "cell_type": "code",
      "execution_count": 52,
      "metadata": {
        "id": "1ARO6TSfLiCo"
      },
      "outputs": [],
      "source": [
        "#Reshaping the train data to make it as input for LTSM layer input_shape(batchzise,timesteps,input_dim)\n",
        "xtrain= np.reshape(xtrain,(xtrain.shape[0],xtrain.shape[1],1))"
      ]
    },
    {
      "cell_type": "code",
      "execution_count": 53,
      "metadata": {
        "colab": {
          "base_uri": "https://localhost:8080/"
        },
        "id": "WGHd92euLiCp",
        "outputId": "6e6d9e2f-ce1e-4827-c49b-d4d59537c77a"
      },
      "outputs": [
        {
          "data": {
            "text/plain": [
              "(2939, 60, 1)"
            ]
          },
          "execution_count": 53,
          "metadata": {},
          "output_type": "execute_result"
        }
      ],
      "source": [
        "xtrain.shape"
      ]
    },
    {
      "cell_type": "markdown",
      "metadata": {
        "id": "Zr6Hg2qtLiCp"
      },
      "source": [
        "### Building the LSTM Network"
      ]
    },
    {
      "cell_type": "code",
      "execution_count": 31,
      "metadata": {
        "id": "Tn76uCe0LiCq"
      },
      "outputs": [],
      "source": [
        "from keras.models import Sequential\n",
        "from keras.layers import LSTM\n",
        "from keras.layers import Dense\n",
        "from keras.layers import Dropout"
      ]
    },
    {
      "cell_type": "code",
      "execution_count": 32,
      "metadata": {
        "colab": {
          "base_uri": "https://localhost:8080/"
        },
        "id": "E-_WDpHHLiCq",
        "outputId": "03031738-24e7-415c-e707-f66c3ccf81a2"
      },
      "outputs": [
        {
          "name": "stdout",
          "output_type": "stream",
          "text": [
            "Epoch 1/100\n",
            "98/98 [==============================] - 20s 136ms/step - loss: 0.0179\n",
            "Epoch 2/100\n",
            "98/98 [==============================] - 14s 142ms/step - loss: 0.0044\n",
            "Epoch 3/100\n",
            "98/98 [==============================] - 12s 127ms/step - loss: 0.0042\n",
            "Epoch 4/100\n",
            "98/98 [==============================] - 13s 136ms/step - loss: 0.0036\n",
            "Epoch 5/100\n",
            "98/98 [==============================] - 13s 133ms/step - loss: 0.0033\n",
            "Epoch 6/100\n",
            "98/98 [==============================] - 13s 131ms/step - loss: 0.0029\n",
            "Epoch 7/100\n",
            "98/98 [==============================] - 13s 128ms/step - loss: 0.0031\n",
            "Epoch 8/100\n",
            "98/98 [==============================] - 13s 133ms/step - loss: 0.0028\n",
            "Epoch 9/100\n",
            "98/98 [==============================] - 12s 126ms/step - loss: 0.0028\n",
            "Epoch 10/100\n",
            "98/98 [==============================] - 13s 132ms/step - loss: 0.0029\n",
            "Epoch 11/100\n",
            "98/98 [==============================] - 13s 135ms/step - loss: 0.0024\n",
            "Epoch 12/100\n",
            "98/98 [==============================] - 14s 142ms/step - loss: 0.0023\n",
            "Epoch 13/100\n",
            "98/98 [==============================] - 13s 130ms/step - loss: 0.0022\n",
            "Epoch 14/100\n",
            "98/98 [==============================] - 13s 137ms/step - loss: 0.0022\n",
            "Epoch 15/100\n",
            "98/98 [==============================] - 13s 135ms/step - loss: 0.0020\n",
            "Epoch 16/100\n",
            "98/98 [==============================] - 13s 136ms/step - loss: 0.0020\n",
            "Epoch 17/100\n",
            "98/98 [==============================] - 13s 134ms/step - loss: 0.0021\n",
            "Epoch 18/100\n",
            "98/98 [==============================] - 13s 135ms/step - loss: 0.0019\n",
            "Epoch 19/100\n",
            "98/98 [==============================] - 13s 136ms/step - loss: 0.0019\n",
            "Epoch 20/100\n",
            "98/98 [==============================] - 13s 129ms/step - loss: 0.0018\n",
            "Epoch 21/100\n",
            "98/98 [==============================] - 13s 130ms/step - loss: 0.0019\n",
            "Epoch 22/100\n",
            "98/98 [==============================] - 13s 130ms/step - loss: 0.0018\n",
            "Epoch 23/100\n",
            "98/98 [==============================] - 13s 137ms/step - loss: 0.0016\n",
            "Epoch 24/100\n",
            "98/98 [==============================] - 13s 134ms/step - loss: 0.0016\n",
            "Epoch 25/100\n",
            "98/98 [==============================] - 13s 133ms/step - loss: 0.0016\n",
            "Epoch 26/100\n",
            "98/98 [==============================] - 12s 127ms/step - loss: 0.0015\n",
            "Epoch 27/100\n",
            "98/98 [==============================] - 13s 132ms/step - loss: 0.0016\n",
            "Epoch 28/100\n",
            "98/98 [==============================] - 13s 132ms/step - loss: 0.0016\n",
            "Epoch 29/100\n",
            "98/98 [==============================] - 13s 136ms/step - loss: 0.0013\n",
            "Epoch 30/100\n",
            "98/98 [==============================] - 13s 131ms/step - loss: 0.0013\n",
            "Epoch 31/100\n",
            "98/98 [==============================] - 13s 131ms/step - loss: 0.0013\n",
            "Epoch 32/100\n",
            "98/98 [==============================] - 13s 135ms/step - loss: 0.0013\n",
            "Epoch 33/100\n",
            "98/98 [==============================] - 14s 139ms/step - loss: 0.0013\n",
            "Epoch 34/100\n",
            "98/98 [==============================] - 13s 134ms/step - loss: 0.0013\n",
            "Epoch 35/100\n",
            "98/98 [==============================] - 13s 136ms/step - loss: 0.0013\n",
            "Epoch 36/100\n",
            "98/98 [==============================] - 13s 135ms/step - loss: 0.0013\n",
            "Epoch 37/100\n",
            "98/98 [==============================] - 13s 129ms/step - loss: 0.0012\n",
            "Epoch 38/100\n",
            "98/98 [==============================] - 13s 134ms/step - loss: 0.0011\n",
            "Epoch 39/100\n",
            "98/98 [==============================] - 13s 131ms/step - loss: 0.0011\n",
            "Epoch 40/100\n",
            "98/98 [==============================] - 13s 135ms/step - loss: 0.0010\n",
            "Epoch 41/100\n",
            "98/98 [==============================] - 13s 134ms/step - loss: 0.0011\n",
            "Epoch 42/100\n",
            "98/98 [==============================] - 13s 130ms/step - loss: 0.0010\n",
            "Epoch 43/100\n",
            "98/98 [==============================] - 13s 133ms/step - loss: 0.0011\n",
            "Epoch 44/100\n",
            "98/98 [==============================] - 13s 129ms/step - loss: 9.9954e-04\n",
            "Epoch 45/100\n",
            "98/98 [==============================] - 13s 129ms/step - loss: 8.7921e-04\n",
            "Epoch 46/100\n",
            "98/98 [==============================] - 13s 133ms/step - loss: 9.7018e-04\n",
            "Epoch 47/100\n",
            "98/98 [==============================] - 13s 131ms/step - loss: 9.4660e-04\n",
            "Epoch 48/100\n",
            "98/98 [==============================] - 15s 154ms/step - loss: 9.3377e-04\n",
            "Epoch 49/100\n",
            "98/98 [==============================] - 13s 135ms/step - loss: 8.9732e-04\n",
            "Epoch 50/100\n",
            "98/98 [==============================] - 13s 130ms/step - loss: 9.1286e-04\n",
            "Epoch 51/100\n",
            "98/98 [==============================] - 13s 131ms/step - loss: 8.3867e-04\n",
            "Epoch 52/100\n",
            "98/98 [==============================] - 13s 129ms/step - loss: 9.5817e-04\n",
            "Epoch 53/100\n",
            "98/98 [==============================] - 13s 130ms/step - loss: 9.4308e-04\n",
            "Epoch 54/100\n",
            "98/98 [==============================] - 13s 131ms/step - loss: 8.1478e-04\n",
            "Epoch 55/100\n",
            "98/98 [==============================] - 13s 131ms/step - loss: 8.6125e-04\n",
            "Epoch 56/100\n",
            "98/98 [==============================] - 13s 132ms/step - loss: 8.0535e-04\n",
            "Epoch 57/100\n",
            "98/98 [==============================] - 13s 130ms/step - loss: 7.9010e-04\n",
            "Epoch 58/100\n",
            "98/98 [==============================] - 13s 129ms/step - loss: 7.3423e-04\n",
            "Epoch 59/100\n",
            "98/98 [==============================] - 13s 132ms/step - loss: 7.9898e-04\n",
            "Epoch 60/100\n",
            "98/98 [==============================] - 13s 133ms/step - loss: 7.9910e-04\n",
            "Epoch 61/100\n",
            "98/98 [==============================] - 13s 128ms/step - loss: 8.2475e-04\n",
            "Epoch 62/100\n",
            "98/98 [==============================] - 13s 132ms/step - loss: 8.0685e-04\n",
            "Epoch 63/100\n",
            "98/98 [==============================] - 13s 130ms/step - loss: 7.9118e-04\n",
            "Epoch 64/100\n",
            "98/98 [==============================] - 13s 129ms/step - loss: 8.0137e-04\n",
            "Epoch 65/100\n",
            "98/98 [==============================] - 13s 136ms/step - loss: 7.3137e-04\n",
            "Epoch 66/100\n",
            "98/98 [==============================] - 13s 132ms/step - loss: 7.1980e-04\n",
            "Epoch 67/100\n",
            "98/98 [==============================] - 13s 134ms/step - loss: 7.5468e-04\n",
            "Epoch 68/100\n",
            "98/98 [==============================] - 13s 137ms/step - loss: 7.3098e-04\n",
            "Epoch 69/100\n",
            "98/98 [==============================] - 12s 124ms/step - loss: 7.7516e-04\n",
            "Epoch 70/100\n",
            "98/98 [==============================] - 12s 127ms/step - loss: 8.0435e-04\n",
            "Epoch 71/100\n",
            "98/98 [==============================] - 12s 127ms/step - loss: 7.2340e-04\n",
            "Epoch 72/100\n",
            "98/98 [==============================] - 13s 129ms/step - loss: 7.7384e-04\n",
            "Epoch 73/100\n",
            "98/98 [==============================] - 13s 135ms/step - loss: 7.7826e-04\n",
            "Epoch 74/100\n",
            "98/98 [==============================] - 13s 136ms/step - loss: 7.4404e-04\n",
            "Epoch 75/100\n",
            "98/98 [==============================] - 13s 135ms/step - loss: 7.9520e-04\n",
            "Epoch 76/100\n",
            "98/98 [==============================] - 13s 134ms/step - loss: 6.9661e-04\n",
            "Epoch 77/100\n",
            "98/98 [==============================] - 13s 131ms/step - loss: 7.1841e-04\n",
            "Epoch 78/100\n",
            "98/98 [==============================] - 13s 136ms/step - loss: 7.0968e-04\n",
            "Epoch 79/100\n",
            "98/98 [==============================] - 13s 131ms/step - loss: 7.1188e-04\n",
            "Epoch 80/100\n",
            "98/98 [==============================] - 13s 137ms/step - loss: 6.7691e-04\n",
            "Epoch 81/100\n",
            "98/98 [==============================] - 13s 131ms/step - loss: 7.1743e-04\n",
            "Epoch 82/100\n",
            "98/98 [==============================] - 13s 128ms/step - loss: 7.5309e-04\n",
            "Epoch 83/100\n",
            "98/98 [==============================] - 13s 132ms/step - loss: 7.5824e-04\n",
            "Epoch 84/100\n",
            "98/98 [==============================] - 14s 139ms/step - loss: 7.6805e-04\n",
            "Epoch 85/100\n",
            "98/98 [==============================] - 13s 136ms/step - loss: 7.3488e-04\n",
            "Epoch 86/100\n",
            "98/98 [==============================] - 13s 128ms/step - loss: 6.7483e-04\n",
            "Epoch 87/100\n",
            "98/98 [==============================] - 13s 134ms/step - loss: 6.9319e-04\n",
            "Epoch 88/100\n",
            "98/98 [==============================] - 13s 134ms/step - loss: 7.4645e-04\n",
            "Epoch 89/100\n",
            "98/98 [==============================] - 14s 138ms/step - loss: 7.5730e-04\n",
            "Epoch 90/100\n",
            "98/98 [==============================] - 13s 134ms/step - loss: 6.6018e-04\n",
            "Epoch 91/100\n",
            "98/98 [==============================] - 13s 129ms/step - loss: 6.7327e-04\n",
            "Epoch 92/100\n",
            "98/98 [==============================] - 13s 138ms/step - loss: 6.6834e-04\n",
            "Epoch 93/100\n",
            "98/98 [==============================] - 13s 138ms/step - loss: 7.0367e-04\n",
            "Epoch 94/100\n",
            "98/98 [==============================] - 13s 131ms/step - loss: 6.7988e-04\n",
            "Epoch 95/100\n",
            "98/98 [==============================] - 13s 133ms/step - loss: 6.7477e-04\n",
            "Epoch 96/100\n",
            "98/98 [==============================] - 13s 134ms/step - loss: 6.4604e-04\n",
            "Epoch 97/100\n",
            "98/98 [==============================] - 13s 133ms/step - loss: 7.0494e-04\n",
            "Epoch 98/100\n",
            "98/98 [==============================] - 13s 131ms/step - loss: 6.6723e-04\n",
            "Epoch 99/100\n",
            "98/98 [==============================] - 13s 130ms/step - loss: 6.6836e-04\n",
            "Epoch 100/100\n",
            "98/98 [==============================] - 13s 130ms/step - loss: 7.6251e-04\n"
          ]
        },
        {
          "data": {
            "text/plain": [
              "<keras.callbacks.History at 0x7f86041d3950>"
            ]
          },
          "execution_count": 32,
          "metadata": {},
          "output_type": "execute_result"
        }
      ],
      "source": [
        "#initialisizng the model \n",
        "regression= Sequential()\n",
        "\n",
        "#First Input layer and LSTM layer with 0.2% dropout\n",
        "regression.add(LSTM(units=50,return_sequences=True,kernel_initializer='glorot_uniform',input_shape=(xtrain.shape[1],1)))\n",
        "regression.add(Dropout(0.2))\n",
        "\n",
        "# Where:\n",
        "#     return_sequences: Boolean. Whether to return the last output in the output sequence, or the full sequence.\n",
        "\n",
        "# Second LSTM layer with 0.2% dropout\n",
        "regression.add(LSTM(units=50,kernel_initializer='glorot_uniform',return_sequences=True))\n",
        "regression.add(Dropout(0.2))\n",
        "\n",
        "#Third LSTM layer with 0.2% dropout\n",
        "regression.add(LSTM(units=50,kernel_initializer='glorot_uniform',return_sequences=True))\n",
        "regression.add(Dropout(0.2))\n",
        "\n",
        "#Fourth LSTM layer with 0.2% dropout, we wont use return sequence true in last layers as we dont want to previous output\n",
        "regression.add(LSTM(units=50,kernel_initializer='glorot_uniform'))\n",
        "regression.add(Dropout(0.2))\n",
        "#Output layer , we wont pass any activation as its continous value model\n",
        "regression.add(Dense(units=1))\n",
        "\n",
        "#Compiling the network\n",
        "regression.compile(optimizer='adam',loss='mean_squared_error')\n",
        "\n",
        "\n",
        "#fitting the network\n",
        "regression.fit(xtrain,ytrain,batch_size=30,epochs=100)"
      ]
    },
    {
      "cell_type": "markdown",
      "metadata": {
        "id": "hRS7IbTKLiCr"
      },
      "source": [
        "### Predicting for test data\n",
        "\n",
        "As we have 60 input in our layer, we will concatenate our train and test and will take last 60 values of our training set with test set"
      ]
    },
    {
      "cell_type": "code",
      "execution_count": 54,
      "metadata": {
        "id": "HBkBPHpELiCr"
      },
      "outputs": [],
      "source": [
        "\n",
        "test_open= test.iloc[:, 1:2].values #taking  open price\n",
        "total= pd.concat([train['Open'],test['Open']],axis=0) # Concating train and test and then will take last 60 train point\n",
        "test_input = total[len(total)-len(test)-60:].values\n",
        "test_input= test_input.reshape(-1,1) # reshaping it to get it transformed\n",
        "test_input= ss.transform(test_input)"
      ]
    },
    {
      "cell_type": "code",
      "execution_count": 55,
      "metadata": {
        "id": "bcaDyyouLiCs"
      },
      "outputs": [],
      "source": [
        "xtest= []\n",
        "for i in range(60,80):\n",
        "    xtest.append(test_input[i-60:i,0]) #creating input for lstm prediction"
      ]
    },
    {
      "cell_type": "code",
      "execution_count": 56,
      "metadata": {
        "id": "8E9lRGjDLiCs"
      },
      "outputs": [],
      "source": [
        "xtest= np.array(xtest)"
      ]
    },
    {
      "cell_type": "code",
      "execution_count": 57,
      "metadata": {
        "id": "D0WWk_FuLiCs"
      },
      "outputs": [],
      "source": [
        "xtest= np.reshape(xtest,(xtest.shape[0],xtest.shape[1],1))\n",
        "predicted_value= regression.predict(xtest)"
      ]
    },
    {
      "cell_type": "code",
      "execution_count": 58,
      "metadata": {
        "id": "cEjtiLjcLiCs"
      },
      "outputs": [],
      "source": [
        "predicted_value= ss.inverse_transform(predicted_value)"
      ]
    },
    {
      "cell_type": "code",
      "execution_count": 59,
      "metadata": {
        "colab": {
          "base_uri": "https://localhost:8080/"
        },
        "id": "A1bi50ZfnfNF",
        "outputId": "38afaf37-0026-48a3-b349-9558b90f6525"
      },
      "outputs": [
        {
          "data": {
            "text/plain": [
              "array([[44.788456],\n",
              "       [44.8818  ],\n",
              "       [45.133755],\n",
              "       [45.19255 ],\n",
              "       [45.420982],\n",
              "       [45.999363],\n",
              "       [46.36906 ],\n",
              "       [46.56873 ],\n",
              "       [46.72223 ],\n",
              "       [46.62478 ],\n",
              "       [46.874336],\n",
              "       [46.63184 ],\n",
              "       [46.451965],\n",
              "       [46.64482 ],\n",
              "       [46.584805],\n",
              "       [46.618416],\n",
              "       [46.788593],\n",
              "       [46.92643 ],\n",
              "       [46.613914],\n",
              "       [46.52701 ]], dtype=float32)"
            ]
          },
          "execution_count": 59,
          "metadata": {},
          "output_type": "execute_result"
        }
      ],
      "source": [
        "predicted_value"
      ]
    },
    {
      "cell_type": "code",
      "execution_count": 60,
      "metadata": {
        "colab": {
          "base_uri": "https://localhost:8080/"
        },
        "id": "wSYXWy1cni_I",
        "outputId": "63a077d2-2827-4457-ea11-bbc6f5c1d688"
      },
      "outputs": [
        {
          "data": {
            "text/plain": [
              "array([[43.786],\n",
              "       [44.152],\n",
              "       [44.133],\n",
              "       [44.56 ],\n",
              "       [45.471],\n",
              "       [45.738],\n",
              "       [45.867],\n",
              "       [45.985],\n",
              "       [45.638],\n",
              "       [46.163],\n",
              "       [45.452],\n",
              "       [45.312],\n",
              "       [45.768],\n",
              "       [45.49 ],\n",
              "       [45.638],\n",
              "       [45.927],\n",
              "       [46.065],\n",
              "       [45.374],\n",
              "       [45.454],\n",
              "       [45.621],\n",
              "       [   nan],\n",
              "       [   nan],\n",
              "       [   nan],\n",
              "       [   nan],\n",
              "       [   nan],\n",
              "       [   nan],\n",
              "       [   nan],\n",
              "       [   nan],\n",
              "       [   nan],\n",
              "       [   nan],\n",
              "       [   nan],\n",
              "       [   nan],\n",
              "       [   nan],\n",
              "       [   nan],\n",
              "       [   nan],\n",
              "       [   nan],\n",
              "       [   nan],\n",
              "       [   nan],\n",
              "       [   nan],\n",
              "       [   nan],\n",
              "       [   nan],\n",
              "       [   nan],\n",
              "       [   nan],\n",
              "       [   nan],\n",
              "       [   nan],\n",
              "       [   nan],\n",
              "       [   nan],\n",
              "       [   nan],\n",
              "       [   nan],\n",
              "       [   nan],\n",
              "       [   nan],\n",
              "       [   nan],\n",
              "       [   nan],\n",
              "       [   nan],\n",
              "       [   nan],\n",
              "       [   nan],\n",
              "       [   nan],\n",
              "       [   nan],\n",
              "       [   nan],\n",
              "       [   nan],\n",
              "       [   nan],\n",
              "       [   nan],\n",
              "       [   nan],\n",
              "       [   nan],\n",
              "       [   nan],\n",
              "       [   nan],\n",
              "       [   nan],\n",
              "       [   nan],\n",
              "       [   nan],\n",
              "       [   nan],\n",
              "       [   nan],\n",
              "       [   nan],\n",
              "       [   nan],\n",
              "       [   nan],\n",
              "       [   nan],\n",
              "       [   nan],\n",
              "       [   nan],\n",
              "       [   nan],\n",
              "       [   nan],\n",
              "       [   nan],\n",
              "       [   nan],\n",
              "       [   nan],\n",
              "       [   nan],\n",
              "       [   nan],\n",
              "       [   nan],\n",
              "       [   nan],\n",
              "       [   nan],\n",
              "       [   nan],\n",
              "       [   nan],\n",
              "       [   nan],\n",
              "       [   nan],\n",
              "       [   nan],\n",
              "       [   nan],\n",
              "       [   nan],\n",
              "       [   nan],\n",
              "       [   nan],\n",
              "       [   nan],\n",
              "       [   nan],\n",
              "       [   nan],\n",
              "       [   nan],\n",
              "       [   nan],\n",
              "       [   nan],\n",
              "       [   nan],\n",
              "       [   nan],\n",
              "       [   nan],\n",
              "       [   nan],\n",
              "       [   nan],\n",
              "       [   nan],\n",
              "       [   nan],\n",
              "       [   nan],\n",
              "       [   nan],\n",
              "       [   nan],\n",
              "       [   nan],\n",
              "       [   nan],\n",
              "       [   nan],\n",
              "       [   nan],\n",
              "       [   nan],\n",
              "       [   nan],\n",
              "       [   nan],\n",
              "       [   nan],\n",
              "       [   nan],\n",
              "       [   nan],\n",
              "       [   nan],\n",
              "       [   nan],\n",
              "       [   nan],\n",
              "       [   nan],\n",
              "       [   nan],\n",
              "       [   nan],\n",
              "       [   nan],\n",
              "       [   nan],\n",
              "       [   nan],\n",
              "       [   nan],\n",
              "       [   nan],\n",
              "       [   nan],\n",
              "       [   nan],\n",
              "       [   nan],\n",
              "       [   nan],\n",
              "       [   nan],\n",
              "       [   nan],\n",
              "       [   nan],\n",
              "       [   nan],\n",
              "       [   nan],\n",
              "       [   nan],\n",
              "       [   nan],\n",
              "       [   nan],\n",
              "       [   nan],\n",
              "       [   nan],\n",
              "       [   nan],\n",
              "       [   nan],\n",
              "       [   nan],\n",
              "       [   nan],\n",
              "       [   nan],\n",
              "       [   nan],\n",
              "       [   nan],\n",
              "       [   nan],\n",
              "       [   nan],\n",
              "       [   nan],\n",
              "       [   nan],\n",
              "       [   nan],\n",
              "       [   nan],\n",
              "       [   nan],\n",
              "       [   nan],\n",
              "       [   nan],\n",
              "       [   nan],\n",
              "       [   nan],\n",
              "       [   nan],\n",
              "       [   nan],\n",
              "       [   nan],\n",
              "       [   nan],\n",
              "       [   nan],\n",
              "       [   nan],\n",
              "       [   nan],\n",
              "       [   nan],\n",
              "       [   nan],\n",
              "       [   nan],\n",
              "       [   nan],\n",
              "       [   nan],\n",
              "       [   nan],\n",
              "       [   nan],\n",
              "       [   nan],\n",
              "       [   nan],\n",
              "       [   nan],\n",
              "       [   nan],\n",
              "       [   nan],\n",
              "       [   nan],\n",
              "       [   nan],\n",
              "       [   nan],\n",
              "       [   nan],\n",
              "       [   nan],\n",
              "       [   nan],\n",
              "       [   nan],\n",
              "       [   nan],\n",
              "       [   nan],\n",
              "       [   nan],\n",
              "       [   nan],\n",
              "       [   nan],\n",
              "       [   nan],\n",
              "       [   nan],\n",
              "       [   nan],\n",
              "       [   nan],\n",
              "       [   nan],\n",
              "       [   nan],\n",
              "       [   nan],\n",
              "       [   nan],\n",
              "       [   nan],\n",
              "       [   nan],\n",
              "       [   nan],\n",
              "       [   nan],\n",
              "       [   nan],\n",
              "       [   nan],\n",
              "       [   nan],\n",
              "       [   nan],\n",
              "       [   nan],\n",
              "       [   nan],\n",
              "       [   nan],\n",
              "       [   nan],\n",
              "       [   nan],\n",
              "       [   nan],\n",
              "       [   nan],\n",
              "       [   nan],\n",
              "       [   nan],\n",
              "       [   nan],\n",
              "       [   nan],\n",
              "       [   nan],\n",
              "       [   nan],\n",
              "       [   nan],\n",
              "       [   nan]])"
            ]
          },
          "execution_count": 60,
          "metadata": {},
          "output_type": "execute_result"
        }
      ],
      "source": [
        "test_open"
      ]
    },
    {
      "cell_type": "markdown",
      "metadata": {
        "id": "B7qM3bGOLiCt"
      },
      "source": [
        "### Plotting the data"
      ]
    },
    {
      "cell_type": "code",
      "execution_count": 65,
      "metadata": {
        "colab": {
          "base_uri": "https://localhost:8080/",
          "height": 550
        },
        "id": "ORTGlbU3LiCt",
        "outputId": "843ee78e-3146-4880-b2c3-74a36397dc5d"
      },
      "outputs": [
        {
          "data": {
            "text/plain": [
              "<matplotlib.legend.Legend at 0x7f86027a7bd0>"
            ]
          },
          "execution_count": 65,
          "metadata": {},
          "output_type": "execute_result"
        },
        {
          "data": {
            "image/png": "[encoded data removed]",
            "text/plain": [
              "<Figure size 1440x720 with 1 Axes>"
            ]
          },
          "metadata": {
            "needs_background": "light"
          },
          "output_type": "display_data"
        }
      ],
      "source": [
        "plt.figure(figsize=(20,10))\n",
        "plt.plot(test_open,'red',label='Real Prices')\n",
        "plt.plot(predicted_value,'blue',label='Predicted Prices')\n",
        "plt.xlabel('Time')\n",
        "plt.ylabel('Prices')\n",
        "plt.title('Real vs Predicted Prices')\n",
        "plt.legend(loc='best', fontsize=20)\n"
      ]
    },
    {
      "cell_type": "code",
      "execution_count": 70,
      "metadata": {
        "colab": {
          "base_uri": "https://localhost:8080/"
        },
        "id": "KXCThYTVs-Lh",
        "outputId": "7dbd8906-407b-41f0-ea92-61b90e3ede60"
      },
      "outputs": [
        {
          "name": "stdout",
          "output_type": "stream",
          "text": [
            "0.8516192517395387\n"
          ]
        }
      ],
      "source": [
        "testt=test_open[0:20]\n",
        "difference_array=np.subtract(predicted_value,testt)\n",
        "squared_array = np. square(difference_array)\n",
        "mse = squared_array. mean()\n",
        "print(mse)"
      ]
    }
  ],
  "metadata": {
    "colab": {
      "collapsed_sections": [],
      "name": "Stock_prediction_using_LSTM.ipynb",
      "provenance": []
    },
    "kernelspec": {
      "display_name": "Python 3",
      "language": "python",
      "name": "python3"
    },
    "language_info": {
      "codemirror_mode": {
        "name": "ipython",
        "version": 3
      },
      "file_extension": ".py",
      "mimetype": "text/x-python",
      "name": "python",
      "nbconvert_exporter": "python",
      "pygments_lexer": "ipython3",
      "version": "3.7.3"
    }
  },
  "nbformat": 4,
  "nbformat_minor": 0
}
