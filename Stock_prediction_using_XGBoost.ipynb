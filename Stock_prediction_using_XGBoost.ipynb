{
 "cells": [
  {
   "cell_type": "markdown",
   "id": "trying-piano",
   "metadata": {},
   "source": [
    "### Imports"
   ]
  },
  {
   "cell_type": "code",
   "execution_count": 1,
   "id": "cooperative-skirt",
   "metadata": {
    "colab": {
     "base_uri": "https://localhost:8080/",
     "height": 224
    },
    "id": "cooperative-skirt",
    "outputId": "f5893912-ec40-45f2-bea4-d97c9653ae03"
   },
   "outputs": [
    {
     "data": {
      "text/html": [
       "        <script type=\"text/javascript\">\n",
       "        window.PlotlyConfig = {MathJaxConfig: 'local'};\n",
       "        if (window.MathJax) {MathJax.Hub.Config({SVG: {font: \"STIX-Web\"}});}\n",
       "        if (typeof require !== 'undefined') {\n",
       "        require.undef(\"plotly\");\n",
       "        requirejs.config({\n",
       "            paths: {\n",
       "                'plotly': ['https://cdn.plot.ly/plotly-2.4.2.min']\n",
       "            }\n",
       "        });\n",
       "        require(['plotly'], function(Plotly) {\n",
       "            window._Plotly = Plotly;\n",
       "        });\n",
       "        }\n",
       "        </script>\n",
       "        "
      ]
     },
     "metadata": {},
     "output_type": "display_data"
    },
    {
     "name": "stdout",
     "output_type": "stream",
     "text": [
      "Requirement already satisfied: pyreadr in c:\\users\\chait\\appdata\\local\\programs\\python\\python39\\lib\\site-packages (0.4.2)\n",
      "Requirement already satisfied: pandas>0.24.0 in c:\\users\\chait\\appdata\\local\\programs\\python\\python39\\lib\\site-packages (from pyreadr) (1.2.3)\n",
      "Requirement already satisfied: pytz>=2017.3 in c:\\users\\chait\\appdata\\local\\programs\\python\\python39\\lib\\site-packages (from pandas>0.24.0->pyreadr) (2021.1)\n",
      "Requirement already satisfied: numpy>=1.16.5 in c:\\users\\chait\\appdata\\local\\programs\\python\\python39\\lib\\site-packages (from pandas>0.24.0->pyreadr) (1.19.5)\n",
      "Requirement already satisfied: python-dateutil>=2.7.3 in c:\\users\\chait\\appdata\\local\\programs\\python\\python39\\lib\\site-packages (from pandas>0.24.0->pyreadr) (2.8.1)\n",
      "Requirement already satisfied: six>=1.5 in c:\\users\\chait\\appdata\\local\\programs\\python\\python39\\lib\\site-packages (from python-dateutil>=2.7.3->pandas>0.24.0->pyreadr) (1.15.0)\n"
     ]
    },
    {
     "name": "stderr",
     "output_type": "stream",
     "text": [
      "WARNING: You are using pip version 21.2.4; however, version 21.3.1 is available.\n",
      "You should consider upgrading via the 'c:\\users\\chait\\appdata\\local\\programs\\python\\python39\\python.exe -m pip install --upgrade pip' command.\n"
     ]
    }
   ],
   "source": [
    "import pandas as pd\n",
    "import cufflinks as cf\n",
    "import matplotlib.pyplot as plt\n",
    "import plotly.offline as plyo\n",
    "plyo.init_notebook_mode(connected=True)\n",
    "import pandas as pd\n",
    "import missingno as msno\n",
    "from matplotlib.pyplot import figure\n",
    "\n",
    "import numpy as np\n",
    "from sklearn.model_selection import train_test_split\n",
    "from sklearn.ensemble import RandomForestRegressor\n",
    "from sklearn.preprocessing import StandardScaler"
   ]
  },
  {
   "cell_type": "code",
   "execution_count": null,
   "id": "fbc52716",
   "metadata": {},
   "outputs": [],
   "source": [
    "!pip install pyreadr\n",
    "import pyreadr"
   ]
  },
  {
   "cell_type": "markdown",
   "id": "previous-arnold",
   "metadata": {},
   "source": [
    "### Reading initial data"
   ]
  },
  {
   "cell_type": "code",
   "execution_count": null,
   "id": "productive-integrity",
   "metadata": {
    "id": "productive-integrity"
   },
   "outputs": [],
   "source": [
    "result = pyreadr.read_r('stocks.rds') # also works for RData\n",
    "df = result[None] \n",
    "df=pd.DataFrame(df)\n",
    "msno.matrix(df)"
   ]
  },
  {
   "cell_type": "markdown",
   "id": "multiple-inspector",
   "metadata": {
    "id": "multiple-inspector"
   },
   "source": [
    "#### no non-numerical value,missing data might be zeroes where they dont make sense, to be handled when encountered.\n"
   ]
  },
  {
   "cell_type": "code",
   "execution_count": null,
   "id": "dangerous-injury",
   "metadata": {
    "id": "dangerous-injury"
   },
   "outputs": [],
   "source": [
    "df.head()"
   ]
  },
  {
   "cell_type": "markdown",
   "id": "organizational-shore",
   "metadata": {},
   "source": [
    "### Further imports"
   ]
  },
  {
   "cell_type": "code",
   "execution_count": 8,
   "id": "trying-fireplace",
   "metadata": {
    "colab": {
     "base_uri": "https://localhost:8080/",
     "height": 73
    },
    "id": "trying-fireplace",
    "outputId": "963e8183-ec66-4900-8661-5fe9ad2e5f61"
   },
   "outputs": [
    {
     "data": {
      "text/html": [
       "        <script type=\"text/javascript\">\n",
       "        window.PlotlyConfig = {MathJaxConfig: 'local'};\n",
       "        if (window.MathJax) {MathJax.Hub.Config({SVG: {font: \"STIX-Web\"}});}\n",
       "        if (typeof require !== 'undefined') {\n",
       "        require.undef(\"plotly\");\n",
       "        requirejs.config({\n",
       "            paths: {\n",
       "                'plotly': ['https://cdn.plot.ly/plotly-2.4.2.min']\n",
       "            }\n",
       "        });\n",
       "        require(['plotly'], function(Plotly) {\n",
       "            window._Plotly = Plotly;\n",
       "        });\n",
       "        }\n",
       "        </script>\n",
       "        "
      ]
     },
     "metadata": {},
     "output_type": "display_data"
    },
    {
     "name": "stdout",
     "output_type": "stream",
     "text": [
      "Requirement already satisfied: xgboost in c:\\users\\chait\\appdata\\local\\programs\\python\\python39\\lib\\site-packages (1.5.1)\n",
      "Requirement already satisfied: scipy in c:\\users\\chait\\appdata\\local\\programs\\python\\python39\\lib\\site-packages (from xgboost) (1.6.1)\n",
      "Requirement already satisfied: numpy in c:\\users\\chait\\appdata\\local\\programs\\python\\python39\\lib\\site-packages (from xgboost) (1.19.5)\n"
     ]
    },
    {
     "name": "stderr",
     "output_type": "stream",
     "text": [
      "WARNING: You are using pip version 21.2.4; however, version 21.3.1 is available.\n",
      "You should consider upgrading via the 'c:\\users\\chait\\appdata\\local\\programs\\python\\python39\\python.exe -m pip install --upgrade pip' command.\n"
     ]
    },
    {
     "name": "stdout",
     "output_type": "stream",
     "text": [
      "Requirement already satisfied: fast_ml in c:\\users\\chait\\appdata\\local\\programs\\python\\python39\\lib\\site-packages (3.68)"
     ]
    },
    {
     "name": "stderr",
     "output_type": "stream",
     "text": [
      "WARNING: You are using pip version 21.2.4; however, version 21.3.1 is available.\n",
      "You should consider upgrading via the 'c:\\users\\chait\\appdata\\local\\programs\\python\\python39\\python.exe -m pip install --upgrade pip' command.\n"
     ]
    },
    {
     "name": "stdout",
     "output_type": "stream",
     "text": [
      "\n",
      "Requirement already satisfied: tqdm in c:\\users\\chait\\appdata\\local\\programs\\python\\python39\\lib\\site-packages (4.62.3)"
     ]
    },
    {
     "name": "stderr",
     "output_type": "stream",
     "text": [
      "WARNING: You are using pip version 21.2.4; however, version 21.3.1 is available.\n",
      "You should consider upgrading via the 'c:\\users\\chait\\appdata\\local\\programs\\python\\python39\\python.exe -m pip install --upgrade pip' command.\n"
     ]
    },
    {
     "data": {
      "text/plain": [
       "<Figure size 1600x1200 with 0 Axes>"
      ]
     },
     "execution_count": 8,
     "metadata": {},
     "output_type": "execute_result"
    },
    {
     "name": "stdout",
     "output_type": "stream",
     "text": [
      "\n",
      "Requirement already satisfied: colorama in c:\\users\\chait\\appdata\\local\\programs\\python\\python39\\lib\\site-packages (from tqdm) (0.4.4)\n"
     ]
    },
    {
     "data": {
      "text/plain": [
       "<Figure size 1600x1200 with 0 Axes>"
      ]
     },
     "metadata": {},
     "output_type": "display_data"
    }
   ],
   "source": [
    "import pyreadr\n",
    "import pandas as pd\n",
    "import cufflinks as cf\n",
    "import matplotlib.pyplot as plt\n",
    "import plotly.offline as plyo\n",
    "plyo.init_notebook_mode(connected=True)\n",
    "import pandas as pd\n",
    "import missingno as msno\n",
    "from matplotlib.pyplot import figure\n",
    "import pyreadr\n",
    "import numpy as np\n",
    "from sklearn.model_selection import train_test_split\n",
    "from sklearn.ensemble import RandomForestRegressor\n",
    "from sklearn.preprocessing import StandardScaler\n",
    "from sklearn.svm import SVR\n",
    "!pip install xgboost\n",
    "import xgboost as xgb\n",
    "from xgboost import plot_importance, plot_tree\n",
    "from sklearn.metrics import mean_squared_error\n",
    "from sklearn.preprocessing import MinMaxScaler\n",
    "from sklearn.model_selection import train_test_split, GridSearchCV\n",
    "import matplotlib.pyplot as plt\n",
    "!pip install fast_ml\n",
    "!pip install tqdm\n",
    "from fast_ml.model_development import train_valid_test_split\n",
    "import plotly as py\n",
    "import plotly.io as pio\n",
    "import plotly.graph_objects as go\n",
    "from plotly.subplots import make_subplots\n",
    "from plotly.offline import download_plotlyjs, init_notebook_mode, plot, iplot\n",
    "\n"
   ]
  },
  {
   "cell_type": "code",
   "execution_count": 3,
   "id": "superior-german",
   "metadata": {
    "colab": {
     "base_uri": "https://localhost:8080/",
     "height": 17
    },
    "id": "superior-german",
    "outputId": "774e1fda-3620-43fc-cc08-d6b918da38d1"
   },
   "outputs": [
    {
     "data": {
      "text/html": [
       "        <script type=\"text/javascript\">\n",
       "        window.PlotlyConfig = {MathJaxConfig: 'local'};\n",
       "        if (window.MathJax) {MathJax.Hub.Config({SVG: {font: \"STIX-Web\"}});}\n",
       "        if (typeof require !== 'undefined') {\n",
       "        require.undef(\"plotly\");\n",
       "        requirejs.config({\n",
       "            paths: {\n",
       "                'plotly': ['https://cdn.plot.ly/plotly-2.4.2.min']\n",
       "            }\n",
       "        });\n",
       "        require(['plotly'], function(Plotly) {\n",
       "            window._Plotly = Plotly;\n",
       "        });\n",
       "        }\n",
       "        </script>\n",
       "        "
      ]
     },
     "metadata": {},
     "output_type": "display_data"
    }
   ],
   "source": [
    "init_notebook_mode(connected=True)\n",
    "\n",
    "# Change default background color for all visualizations\n",
    "layout=go.Layout(paper_bgcolor='rgba(0,0,0,0)', plot_bgcolor='rgba(250,250,250,0.8)')\n",
    "fig = go.Figure(layout=layout)\n",
    "templated_fig = pio.to_templated(fig)\n",
    "pio.templates['my_template'] = templated_fig.layout.template\n",
    "pio.templates.default = 'my_template'"
   ]
  },
  {
   "cell_type": "code",
   "execution_count": 4,
   "id": "M4CSFWKcGKZo",
   "metadata": {
    "colab": {
     "base_uri": "https://localhost:8080/"
    },
    "id": "M4CSFWKcGKZo",
    "outputId": "a8948ff2-fd79-4a7a-b1b1-817638603702"
   },
   "outputs": [
    {
     "name": "stdout",
     "output_type": "stream",
     "text": [
      "Mounted at /content/drive\n"
     ]
    }
   ],
   "source": [
    "from google.colab import drive\n",
    "drive.mount('/content/drive')"
   ]
  },
  {
   "cell_type": "markdown",
   "id": "close-night",
   "metadata": {},
   "source": [
    "### Reducing the data"
   ]
  },
  {
   "cell_type": "code",
   "execution_count": null,
   "id": "legislative-victim",
   "metadata": {
    "id": "legislative-victim"
   },
   "outputs": [],
   "source": [
    "df['date']=pd.to_datetime(df['date'])\n",
    "df=df[df['date']>pd.to_datetime('2012-01-01')]"
   ]
  },
  {
   "cell_type": "markdown",
   "id": "fluid-herald",
   "metadata": {},
   "source": [
    "### Reading in the small data"
   ]
  },
  {
   "cell_type": "code",
   "execution_count": 4,
   "id": "collect-claim",
   "metadata": {
    "id": "collect-claim"
   },
   "outputs": [],
   "source": [
    "df=pd.read_csv('stock small.csv')\n",
    "df=df[df['ticker']!='acmr']\n",
    "df=df[df['ticker']!='alna']\n",
    "df=df[df['ticker']!='altr']\n",
    "df=df[df['ticker']!='apls']\n",
    "df=df[df['ticker']!='aqua']\n",
    "df=df[df['ticker']!='band']"
   ]
  },
  {
   "cell_type": "markdown",
   "id": "reverse-analyst",
   "metadata": {},
   "source": [
    "### Imports for technical indicators"
   ]
  },
  {
   "cell_type": "code",
   "execution_count": 5,
   "id": "spanish-circular",
   "metadata": {
    "colab": {
     "base_uri": "https://localhost:8080/"
    },
    "id": "spanish-circular",
    "outputId": "2749af60-565b-412b-d26d-bf885e9b1ebf"
   },
   "outputs": [
    {
     "name": "stdout",
     "output_type": "stream",
     "text": [
      "Requirement already satisfied: ta in c:\\users\\chait\\appdata\\local\\programs\\python\\python39\\lib\\site-packages (0.8.0)\n",
      "Requirement already satisfied: pandas in c:\\users\\chait\\appdata\\local\\programs\\python\\python39\\lib\\site-packages (from ta) (1.2.3)\n",
      "Requirement already satisfied: numpy in c:\\users\\chait\\appdata\\local\\programs\\python\\python39\\lib\\site-packages (from ta) (1.19.5)\n",
      "Requirement already satisfied: pytz>=2017.3 in c:\\users\\chait\\appdata\\local\\programs\\python\\python39\\lib\\site-packages (from pandas->ta) (2021.1)\n",
      "Requirement already satisfied: python-dateutil>=2.7.3 in c:\\users\\chait\\appdata\\local\\programs\\python\\python39\\lib\\site-packages (from pandas->ta) (2.8.1)\n",
      "Requirement already satisfied: six>=1.5 in c:\\users\\chait\\appdata\\local\\programs\\python\\python39\\lib\\site-packages (from python-dateutil>=2.7.3->pandas->ta) (1.15.0)\n"
     ]
    },
    {
     "name": "stderr",
     "output_type": "stream",
     "text": [
      "WARNING: You are using pip version 21.2.4; however, version 21.3.1 is available.\n",
      "You should consider upgrading via the 'c:\\users\\chait\\appdata\\local\\programs\\python\\python39\\python.exe -m pip install --upgrade pip' command.\n"
     ]
    }
   ],
   "source": [
    "!pip install ta\n",
    "from ta import add_all_ta_features\n",
    "from ta.momentum import WilliamsRIndicator,UltimateOscillator,TSIIndicator,StochasticOscillator,StochRSIIndicator,RSIIndicator,ROCIndicator,AwesomeOscillatorIndicator,PercentageVolumeOscillator,PercentagePriceOscillator,KAMAIndicator\n",
    "from ta.volume import VolumeWeightedAveragePrice,VolumePriceTrendIndicator,OnBalanceVolumeIndicator,NegativeVolumeIndexIndicator,MFIIndicator,ForceIndexIndicator,EaseOfMovementIndicator,ChaikinMoneyFlowIndicator,AccDistIndexIndicator\n",
    "from ta.volatility import AverageTrueRange,BollingerBands,UlcerIndex\n",
    "from ta.trend import ADXIndicator"
   ]
  },
  {
   "cell_type": "code",
   "execution_count": 13,
   "id": "fitted-murder",
   "metadata": {},
   "outputs": [],
   "source": [
    "import matplotlib.pyplot as plt\n",
    "plt.rcParams[\"figure.figsize\"] = (20,10)"
   ]
  },
  {
   "cell_type": "code",
   "execution_count": 24,
   "id": "protective-equivalent",
   "metadata": {
    "colab": {
     "base_uri": "https://localhost:8080/",
     "height": 617
    },
    "id": "protective-equivalent",
    "outputId": "51b0e52f-d75b-4135-e113-5001ef4b8ce5",
    "scrolled": false
   },
   "outputs": [
    {
     "data": {
      "image/png": "[encoded data removed]",
      "text/plain": [
       "<Figure size 1440x720 with 1 Axes>"
      ]
     },
     "metadata": {
      "needs_background": "light"
     },
     "output_type": "display_data"
    },
    {
     "name": "stdout",
     "output_type": "stream",
     "text": [
      "Best params: {'gamma': 0.02, 'learning_rate': 0.05, 'max_depth': 8, 'n_estimators': 200}\n",
      "Best validation score = 0.9923824032262679\n",
      "y_true = [40.579 43.182 43.919 35.363 52.397 32.877 45.254 40.746 34.897 41.673\n",
      " 34.255 37.671 25.592 39.378 51.86  40.018 27.395 37.501 41.975 25.899\n",
      " 39.329 50.051 28.847 39.187 37.692 31.275 31.077 33.638 40.89  41.125\n",
      " 50.499 38.515 30.774 38.518 40.338 45.188 39.881 39.645 27.918 29.35\n",
      " 30.447 39.17  40.241 46.237 28.779 34.801 52.487 35.646 28.512 32.089\n",
      " 30.418 40.913 50.022 38.687 28.408 46.415 31.747 28.36  38.231 40.569\n",
      " 40.187 39.892 27.155 39.434 27.469 28.334 28.537 40.415 40.993 25.418\n",
      " 40.173 39.324 31.17  37.805 38.089 52.763 25.165 38.356 40.956 38.568\n",
      " 29.776 29.487 27.581 39.793 42.965 37.065 38.455 30.326 28.451 25.444\n",
      " 45.927 43.826 37.258 37.68  30.803 28.347 45.852 46.381 40.705 39.684\n",
      " 38.337 55.842 39.798 39.806 40.983 38.833 36.856 29.509 37.518 39.392\n",
      " 37.622 40.913 46.662 38.515 40.596 30.634]\n",
      "y_pred = [40.050964 43.87074  44.858974 35.058228 52.712345 33.11889  45.641342\n",
      " 40.729225 34.0408   41.754353 35.16571  38.16531  25.500515 39.527657\n",
      " 52.34436  39.57461  27.178888 38.444046 42.222885 25.889679 39.45052\n",
      " 51.089115 29.513784 39.56319  37.860443 31.068243 31.439009 33.7222\n",
      " 40.068047 40.273663 50.982857 38.6953   30.864876 37.624706 40.304363\n",
      " 44.535168 40.3105   39.036667 27.107859 30.12634  31.154861 39.12174\n",
      " 39.776905 45.587727 28.713083 33.566875 52.940712 35.447144 28.094896\n",
      " 32.006668 29.939342 40.594456 50.227905 39.420864 28.0229   46.45533\n",
      " 31.37545  28.312256 38.36045  40.515465 39.506405 39.310425 27.916876\n",
      " 39.558636 25.501734 28.574675 29.574877 40.718304 39.95028  25.422058\n",
      " 40.404354 39.68241  31.091238 38.030586 39.01767  52.8847   25.62825\n",
      " 37.66799  40.032974 38.377686 28.750826 29.406076 26.981606 39.959087\n",
      " 42.599102 37.252426 39.11933  29.49394  28.187038 26.0343   45.477554\n",
      " 43.833614 37.030502 37.201836 30.361074 29.107718 47.040997 46.562077\n",
      " 39.767296 39.90139  38.798508 55.42863  39.362003 40.35815  40.198063\n",
      " 39.245823 36.575394 29.407032 38.369957 38.974144 38.532227 41.382065\n",
      " 47.15174  38.3443   40.225674 29.804718]\n",
      "mean_squared_error = 0.3303303893917462\n"
     ]
    },
    {
     "data": {
      "image/png": "[encoded data removed]",
      "text/plain": [
       "<Figure size 1440x720 with 1 Axes>"
      ]
     },
     "metadata": {
      "needs_background": "light"
     },
     "output_type": "display_data"
    }
   ],
   "source": [
    "imp_dict={}\n",
    "\n",
    "\n",
    "tickers=df.groupby('ticker')\n",
    "\n",
    "for i in range(1):#list(tickers.groups.keys()):\n",
    "    #print(i)\n",
    "    cols=['close', 'awesome', 'kama', 'ppo', 'ppo hist', 'ppo signal', 'pvo', 'pvo hist', 'pvo signal', 'roc', 'rsi', 'srsi', 'srsi d', 'srsi k', 'so', 'so signal', 'tsi', 'uo', 'wr', 'adi', 'cmf', 'eom', 'eom signal', 'fi', 'mfi', 'obv', 'vpt', 'vwa', 'bhb', 'bhbi', 'blb', 'blbi', 'bm', 'bpb', 'bwb', 'ui','EMA_9','SMA_5','SMA_10','SMA_15','SMA_30','MACD','MACD_signal']\n",
    "    for j in cols:\n",
    "        imp_dict[j]=0\n",
    "        \n",
    "    ticker_df=tickers.get_group('a')\n",
    "    ticker_df=ticker_df.drop(['Unnamed: 0','ticker'],axis=1)\n",
    "    #ticker_df=ticker_df.set_index('date')\n",
    "    \n",
    "    max1=ticker_df['open'].quantile(0.999)\n",
    "    ticker_df=ticker_df[ticker_df['open']<max1]\n",
    "    min1=ticker_df['open'].quantile(0.001)\n",
    "    ticker_df=ticker_df[ticker_df['open']>min1]\n",
    "    \n",
    "    max1=ticker_df['high'].quantile(0.999)\n",
    "    ticker_df=ticker_df[ticker_df['high']<max1]\n",
    "    min1=ticker_df['high'].quantile(0.001)\n",
    "    ticker_df=ticker_df[ticker_df['high']>min1]\n",
    "    \n",
    "    max1=ticker_df['low'].quantile(0.999)\n",
    "    ticker_df=ticker_df[ticker_df['low']<max1]\n",
    "    min1=ticker_df['low'].quantile(0.001)\n",
    "    ticker_df=ticker_df[ticker_df['low']>min1]\n",
    "    \n",
    "    max1=ticker_df['close'].quantile(0.999)\n",
    "    ticker_df=ticker_df[ticker_df['close']<max1]\n",
    "    min1=ticker_df['close'].quantile(0.001)\n",
    "    ticker_df=ticker_df[ticker_df['close']>min1]\n",
    "    \n",
    "    max1=ticker_df['volume'].quantile(0.999)\n",
    "    ticker_df=ticker_df[ticker_df['volume']<max1]\n",
    "    min1=ticker_df['volume'].quantile(0.001)\n",
    "    ticker_df=ticker_df[ticker_df['volume']>min1]\n",
    "    \n",
    "    ##outliers via iqr method\n",
    "    iqr1=ticker_df['open'].quantile(0.75)-ticker_df['open'].quantile(0.25)\n",
    "    ticker_df=ticker_df[ticker_df['open']<ticker_df['open'].quantile(0.75)+1.5*iqr1]\n",
    "    ticker_df=ticker_df[ticker_df['open']>ticker_df['open'].quantile(0.25)-1.5*iqr1]\n",
    "    \n",
    "    iqr1=ticker_df['high'].quantile(0.75)-ticker_df['high'].quantile(0.25)\n",
    "    ticker_df=ticker_df[ticker_df['high']<ticker_df['high'].quantile(0.75)+1.5*iqr1]\n",
    "    ticker_df=ticker_df[ticker_df['high']>ticker_df['high'].quantile(0.25)-1.5*iqr1]\n",
    "    \n",
    "    iqr1=ticker_df['low'].quantile(0.75)-ticker_df['low'].quantile(0.25)\n",
    "    ticker_df=ticker_df[ticker_df['low']<ticker_df['low'].quantile(0.75)+1.5*iqr1]\n",
    "    ticker_df=ticker_df[ticker_df['low']>ticker_df['low'].quantile(0.25)-1.5*iqr1]\n",
    "    \n",
    "    iqr1=ticker_df['close'].quantile(0.75)-ticker_df['close'].quantile(0.25)\n",
    "    ticker_df=ticker_df[ticker_df['close']<ticker_df['close'].quantile(0.75)+1.5*iqr1]\n",
    "    ticker_df=ticker_df[ticker_df['close']>ticker_df['close'].quantile(0.25)-1.5*iqr1]\n",
    "    \n",
    "    iqr1=ticker_df['volume'].quantile(0.75)-ticker_df['volume'].quantile(0.25)\n",
    "    ticker_df=ticker_df[ticker_df['volume']<ticker_df['volume'].quantile(0.75)+1.5*iqr1]\n",
    "    ticker_df=ticker_df[ticker_df['volume']>ticker_df['volume'].quantile(0.25)-1.5*iqr1]\n",
    "    \n",
    "    ## 11 momentum indicators\n",
    "    awe=AwesomeOscillatorIndicator(ticker_df['high'],ticker_df['low'])\n",
    "    kama=KAMAIndicator(ticker_df['close'])\n",
    "    ppo=PercentagePriceOscillator(ticker_df['close'])\n",
    "    pvo=PercentageVolumeOscillator(ticker_df['volume'])\n",
    "    roc=ROCIndicator(ticker_df['close'])\n",
    "    rsi=RSIIndicator(ticker_df['close'])\n",
    "    srsi=StochRSIIndicator(ticker_df['close'])\n",
    "    so=StochasticOscillator(ticker_df['high'],ticker_df['low'],ticker_df['close'])\n",
    "    tsi=TSIIndicator(ticker_df['close'])\n",
    "    uo=UltimateOscillator(ticker_df['high'],ticker_df['low'],ticker_df['close'])\n",
    "    wr=WilliamsRIndicator(ticker_df['high'],ticker_df['low'],ticker_df['close'])\n",
    "    ## 9 volume indicators\n",
    "    adi=AccDistIndexIndicator(ticker_df['high'],ticker_df['low'],ticker_df['close'],ticker_df['volume'])\n",
    "    cmf=ChaikinMoneyFlowIndicator(ticker_df['high'],ticker_df['low'],ticker_df['close'],ticker_df['volume'])\n",
    "    eom=EaseOfMovementIndicator(ticker_df['high'],ticker_df['low'],ticker_df['volume'])\n",
    "    fi=ForceIndexIndicator(ticker_df['close'],ticker_df['volume'])\n",
    "    mfi=MFIIndicator(ticker_df['high'],ticker_df['low'],ticker_df['close'],ticker_df['volume'])\n",
    "    #nvi=NegativeVolumeIndexIndicator(ticker_df['close'],ticker_df['volume'])\n",
    "    obv=OnBalanceVolumeIndicator(ticker_df['close'],ticker_df['volume'])\n",
    "    vpt=VolumePriceTrendIndicator(ticker_df['close'],ticker_df['volume'])\n",
    "    vwa=VolumeWeightedAveragePrice(ticker_df['high'],ticker_df['low'],ticker_df['close'],ticker_df['volume'])\n",
    "    ## volatility indicators\n",
    "    #atr=AverageTrueRange(ticker_df['high'],ticker_df['low'],ticker_df['close'])\n",
    "    bb=BollingerBands(ticker_df['close'])\n",
    "    ui=UlcerIndex(ticker_df['close'])\n",
    "    ## Trend Indicators.\n",
    "    #adx=ADXIndicator(ticker_df['high'],ticker_df['low'],ticker_df['close'])\n",
    "    \n",
    "    ## 11 momentum indicators\n",
    "    ticker_df['awesome']=awe.awesome_oscillator().astype(np.float64)\n",
    "    ticker_df['kama']=kama.kama().astype(np.float64)\n",
    "    ticker_df['ppo']=ppo.ppo().astype(np.float64)\n",
    "    ticker_df['ppo hist']=ppo.ppo_hist().astype(np.float64)\n",
    "    ticker_df['ppo signal']=ppo.ppo_signal().astype(np.float64)\n",
    "    ticker_df['pvo']=pvo.pvo().astype(np.float64)\n",
    "    ticker_df['pvo hist']=pvo.pvo_hist().astype(np.float64)\n",
    "    ticker_df['pvo signal']=pvo.pvo_signal().astype(np.float64)\n",
    "    ticker_df['roc']=roc.roc().astype(np.float64)\n",
    "    ticker_df['rsi']=rsi.rsi().astype(np.float64)\n",
    "    ticker_df['srsi']=srsi.stochrsi().astype(np.float64)\n",
    "    ticker_df['srsi d']=srsi.stochrsi_d().astype(np.float64)\n",
    "    ticker_df['srsi k']=srsi.stochrsi_k().astype(np.float64)\n",
    "    ticker_df['so']=so.stoch().astype(np.float64)\n",
    "    ticker_df['so signal']=so.stoch_signal().astype(np.float64)\n",
    "    ticker_df['tsi']=tsi.tsi().astype(np.float64)\n",
    "    ticker_df['uo']=uo.ultimate_oscillator().astype(np.float64)\n",
    "    ticker_df['wr']=wr.williams_r().astype(np.float64)\n",
    "    ## 9 volume indicators\n",
    "    ticker_df['adi']=adi.acc_dist_index().astype(np.float64)\n",
    "    ticker_df['cmf']=cmf.chaikin_money_flow().astype(np.float64)\n",
    "    ticker_df['eom']=eom.ease_of_movement().astype(np.float64)\n",
    "    ticker_df['eom signal']=eom.sma_ease_of_movement().astype(np.float64)\n",
    "    ticker_df['fi']=fi.force_index().astype(np.float64)\n",
    "    ticker_df['mfi']=mfi.money_flow_index().astype(np.float64)\n",
    "    #ticker_df['nvi']=nvi.negative_volume_index().astype(np.float64)\n",
    "    ticker_df['obv']=obv.on_balance_volume().astype(np.float64)\n",
    "    ticker_df['vpt']=vpt.volume_price_trend().astype(np.float64)\n",
    "    ticker_df['vwa']=vwa.volume_weighted_average_price().astype(np.float64)\n",
    "    ## volatility indicators\n",
    "    ticker_df['bhb']=bb.bollinger_hband().astype(np.float64)\n",
    "    ticker_df['bhbi']=bb.bollinger_hband_indicator().astype(np.float64)\n",
    "    ticker_df['blb']=bb.bollinger_lband().astype(np.float64)\n",
    "    ticker_df['blbi']=bb.bollinger_lband_indicator().astype(np.float64)\n",
    "    ticker_df['bm']=bb.bollinger_mavg().astype(np.float64)\n",
    "    ticker_df['bpb']=bb.bollinger_pband().astype(np.float64)\n",
    "    ticker_df['bwb']=bb.bollinger_wband().astype(np.float64)\n",
    "    ticker_df['ui']=ui.ulcer_index().astype(np.float64)\n",
    "    ticker_df['EMA_9'] = ticker_df['close'].ewm(9).mean().shift()\n",
    "    ticker_df['SMA_5'] = ticker_df['close'].rolling(5).mean().shift()\n",
    "    ticker_df['SMA_10'] = ticker_df['close'].rolling(10).mean().shift()\n",
    "    ticker_df['SMA_15'] = ticker_df['close'].rolling(15).mean().shift()\n",
    "    ticker_df['SMA_30'] = ticker_df['close'].rolling(30).mean().shift()\n",
    "    EMA_12 = pd.Series(ticker_df['close'].ewm(span=12, min_periods=12).mean())\n",
    "    EMA_26 = pd.Series(ticker_df['close'].ewm(span=26, min_periods=26).mean())\n",
    "    ticker_df['MACD'] = pd.Series(EMA_12 - EMA_26)\n",
    "    ticker_df['MACD_signal'] = pd.Series(ticker_df.MACD.ewm(span=9, min_periods=9).mean())\n",
    "    ticker_df['close'] = ticker_df['close'].shift(-1)\n",
    "    \n",
    "    ticker_df = ticker_df.iloc[35:] # Because of moving averages and MACD line\n",
    "    ticker_df = ticker_df[:-1]      # Because of shifting close price\n",
    "\n",
    "    ticker_df=ticker_df.drop(['open','high','low','volume'],1)\n",
    "    ticker_df['close']=ticker_df['close'].astype(np.float64)\n",
    "    \n",
    "    cols=list(ticker_df.columns)\n",
    "    cols.remove('date')\n",
    "    date=ticker_df['date']\n",
    "    \n",
    "    ticker_df=ticker_df.fillna(0)\n",
    "    ticker_df['date']=date\n",
    "    ticker_df['date']=pd.to_datetime(ticker_df['date'])\n",
    "\n",
    "    xtrain=ticker_df[ticker_df['date']<pd.to_datetime('2016-01-01')]\n",
    "    ytrain=xtrain['close']\n",
    "    xtrain=xtrain.drop(['close','date'],1)\n",
    "    \n",
    "    xtest=ticker_df[ticker_df['date']>pd.to_datetime('2016-01-01')]\n",
    "    ytest=xtest['close']\n",
    "    xtest=xtest.drop(['close','date'],1)\n",
    "    \n",
    "    rnd=RandomForestRegressor(n_estimators=500,n_jobs=-1)\n",
    "    rnd.fit(xtrain,ytrain)\n",
    "       \n",
    "    for name,score in zip(cols,rnd.feature_importances_):\n",
    "        imp_dict[name]=imp_dict[name]+score\n",
    "    \n",
    "    for k in imp_dict.keys():\n",
    "        if k=='close':\n",
    "            continue\n",
    "        if imp_dict[k]<0.0009:\n",
    "            ticker_df=ticker_df.drop([k],1) \n",
    "    \n",
    "    X_train, y_train, X_valid, y_valid, X_test, y_test = train_valid_test_split(ticker_df, target = 'close', train_size=0.8, valid_size=0.1, test_size=0.1)\n",
    "    \n",
    "    traindate=X_train['date']\n",
    "    validdate=X_valid['date']\n",
    "    testdate=X_test['date']\n",
    "    X_train=X_train.drop(['date'],1)\n",
    "    X_valid=X_valid.drop(['date'],1)\n",
    "    X_test=X_test.drop(['date'],1)\n",
    "    \n",
    "    plt.scatter(traindate,y_train,c =\"blue\",label='training')\n",
    "    plt.scatter(validdate,y_valid,c =\"green\",label='validation')\n",
    "    plt.scatter(testdate,y_test,c =\"yellow\",label='testing')\n",
    "    plt.legend()\n",
    "    plt.show()\n",
    "\n",
    "    parameters = {\n",
    "    'n_estimators': [100, 200, 300, 400],\n",
    "    'learning_rate': [0.001, 0.005, 0.01, 0.05],\n",
    "    'max_depth': [8, 10, 12, 15],\n",
    "    'gamma': [0.001, 0.005, 0.01, 0.02]\n",
    "    }\n",
    "\n",
    "    eval_set = [(X_train, y_train), (X_valid, y_valid)]\n",
    "    model = xgb.XGBRegressor(objective='reg:squarederror')\n",
    "    clf = GridSearchCV(model, parameters)\n",
    "\n",
    "    clf.fit(X_train, y_train)\n",
    "\n",
    "    print(f'Best params: {clf.best_params_}')\n",
    "    print(f'Best validation score = {clf.best_score_}')\n",
    "    \n",
    "    \n",
    "    model = xgb.XGBRegressor(**clf.best_params_, objective='reg:squarederror')\n",
    "    model.fit(X_train, y_train, eval_set=eval_set, verbose=False)\n",
    "    \n",
    "    y_pred = model.predict(X_test)\n",
    "    print(f'y_true = {np.array(y_test)[10:]}')\n",
    "    print(f'y_pred = {y_pred[10:]}')\n",
    "    \n",
    "    print(f'mean_squared_error = {mean_squared_error(y_test, y_pred)}')\n",
    "\n",
    "    plt.scatter(testdate,y_test,c='red')\n",
    "    plt.scatter(testdate,y_pred,c='purple')\n",
    "    plt.show()\n"
   ]
  },
  {
   "cell_type": "code",
   "execution_count": null,
   "id": "latter-street",
   "metadata": {},
   "outputs": [],
   "source": []
  }
 ],
 "metadata": {
  "colab": {
   "name": "stock prediction.ipynb",
   "provenance": []
  },
  "kernelspec": {
   "display_name": "Python 3",
   "language": "python",
   "name": "python3"
  },
  "language_info": {
   "codemirror_mode": {
    "name": "ipython",
    "version": 3
   },
   "file_extension": ".py",
   "mimetype": "text/x-python",
   "name": "python",
   "nbconvert_exporter": "python",
   "pygments_lexer": "ipython3",
   "version": "3.9.2"
  }
 },
 "nbformat": 4,
 "nbformat_minor": 5
}
